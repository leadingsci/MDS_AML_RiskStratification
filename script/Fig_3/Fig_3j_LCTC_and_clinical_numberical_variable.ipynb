{
 "cells": [
  {
   "cell_type": "code",
   "execution_count": 10,
   "metadata": {},
   "outputs": [],
   "source": [
    "import pandas as pd\n",
    "import os,sys\n",
    "from pathlib import Path"
   ]
  },
  {
   "cell_type": "code",
   "execution_count": 11,
   "metadata": {},
   "outputs": [],
   "source": [
    "output_dir = \"/share/home/wyz/Project/result/2025/202506/20250605_20250520_1_cibersortx_tumor_cell_kmean_5448_MDS_sAML_AML_merge/20250606_21_MDS_sAML_AML_tumor_chisq_cell_kmean_merge\""
   ]
  },
  {
   "cell_type": "code",
   "execution_count": 12,
   "metadata": {},
   "outputs": [],
   "source": [
    "## input\n",
    "HBG_f = \"/share/home/wyz/Project/result/2025/202506/20250605_20250520_1_cibersortx_tumor_cell_kmean_5448_MDS_sAML_AML_merge/20250606_9_MDS_sAML_AML_tumor_cell_kmean_and_clinical_data_cor_data/20250606_1_stat_df_kruskal_Haemoglobin.xls\""
   ]
  },
  {
   "cell_type": "code",
   "execution_count": 13,
   "metadata": {},
   "outputs": [],
   "source": [
    "WBC_f = \"/share/home/wyz/Project/result/2025/202506/20250605_20250520_1_cibersortx_tumor_cell_kmean_5448_MDS_sAML_AML_merge/20250606_9_MDS_sAML_AML_tumor_cell_kmean_and_clinical_data_cor_data/20250606_1_stat_df_kruskal_WBC.xls\""
   ]
  },
  {
   "cell_type": "code",
   "execution_count": 14,
   "metadata": {},
   "outputs": [],
   "source": [
    "NUC_f = \"/share/home/wyz/Project/result/2025/202506/20250605_20250520_1_cibersortx_tumor_cell_kmean_5448_MDS_sAML_AML_merge/20250606_9_MDS_sAML_AML_tumor_cell_kmean_and_clinical_data_cor_data/20250606_1_stat_df_kruskal_Neutrophile_Count.xls\""
   ]
  },
  {
   "cell_type": "code",
   "execution_count": 15,
   "metadata": {},
   "outputs": [],
   "source": [
    "PLT_f = \"/share/home/wyz/Project/result/2025/202506/20250605_20250520_1_cibersortx_tumor_cell_kmean_5448_MDS_sAML_AML_merge/20250606_9_MDS_sAML_AML_tumor_cell_kmean_and_clinical_data_cor_data/20250606_1_stat_df_kruskal_Platelet_Count.xls\""
   ]
  },
  {
   "cell_type": "code",
   "execution_count": 16,
   "metadata": {},
   "outputs": [
    {
     "data": {
      "text/html": [
       "<div>\n",
       "<style scoped>\n",
       "    .dataframe tbody tr th:only-of-type {\n",
       "        vertical-align: middle;\n",
       "    }\n",
       "\n",
       "    .dataframe tbody tr th {\n",
       "        vertical-align: top;\n",
       "    }\n",
       "\n",
       "    .dataframe thead th {\n",
       "        text-align: right;\n",
       "    }\n",
       "</style>\n",
       "<table border=\"1\" class=\"dataframe\">\n",
       "  <thead>\n",
       "    <tr style=\"text-align: right;\">\n",
       "      <th></th>\n",
       "      <th>p_value</th>\n",
       "      <th>statistic</th>\n",
       "      <th>df</th>\n",
       "    </tr>\n",
       "  </thead>\n",
       "  <tbody>\n",
       "    <tr>\n",
       "      <th>kmean_k5_mark_vs_Haemoglobin</th>\n",
       "      <td>0.076092</td>\n",
       "      <td>8.460538</td>\n",
       "      <td>4</td>\n",
       "    </tr>\n",
       "  </tbody>\n",
       "</table>\n",
       "</div>"
      ],
      "text/plain": [
       "                               p_value  statistic  df\n",
       "kmean_k5_mark_vs_Haemoglobin  0.076092   8.460538   4"
      ]
     },
     "execution_count": 16,
     "metadata": {},
     "output_type": "execute_result"
    }
   ],
   "source": [
    "HBG_df =  pd.read_csv(HBG_f,sep=\"\\t\")\n",
    "HBG_df"
   ]
  },
  {
   "cell_type": "code",
   "execution_count": 17,
   "metadata": {},
   "outputs": [
    {
     "data": {
      "text/html": [
       "<div>\n",
       "<style scoped>\n",
       "    .dataframe tbody tr th:only-of-type {\n",
       "        vertical-align: middle;\n",
       "    }\n",
       "\n",
       "    .dataframe tbody tr th {\n",
       "        vertical-align: top;\n",
       "    }\n",
       "\n",
       "    .dataframe thead th {\n",
       "        text-align: right;\n",
       "    }\n",
       "</style>\n",
       "<table border=\"1\" class=\"dataframe\">\n",
       "  <thead>\n",
       "    <tr style=\"text-align: right;\">\n",
       "      <th></th>\n",
       "      <th>p_value</th>\n",
       "      <th>statistic</th>\n",
       "      <th>df</th>\n",
       "    </tr>\n",
       "  </thead>\n",
       "  <tbody>\n",
       "    <tr>\n",
       "      <th>kmean_k5_mark_vs_WBC</th>\n",
       "      <td>0.057774</td>\n",
       "      <td>9.136627</td>\n",
       "      <td>4</td>\n",
       "    </tr>\n",
       "  </tbody>\n",
       "</table>\n",
       "</div>"
      ],
      "text/plain": [
       "                       p_value  statistic  df\n",
       "kmean_k5_mark_vs_WBC  0.057774   9.136627   4"
      ]
     },
     "execution_count": 17,
     "metadata": {},
     "output_type": "execute_result"
    }
   ],
   "source": [
    "WBC_df =  pd.read_csv(WBC_f,sep=\"\\t\")\n",
    "WBC_df"
   ]
  },
  {
   "cell_type": "code",
   "execution_count": 18,
   "metadata": {},
   "outputs": [
    {
     "data": {
      "text/html": [
       "<div>\n",
       "<style scoped>\n",
       "    .dataframe tbody tr th:only-of-type {\n",
       "        vertical-align: middle;\n",
       "    }\n",
       "\n",
       "    .dataframe tbody tr th {\n",
       "        vertical-align: top;\n",
       "    }\n",
       "\n",
       "    .dataframe thead th {\n",
       "        text-align: right;\n",
       "    }\n",
       "</style>\n",
       "<table border=\"1\" class=\"dataframe\">\n",
       "  <thead>\n",
       "    <tr style=\"text-align: right;\">\n",
       "      <th></th>\n",
       "      <th>p_value</th>\n",
       "      <th>statistic</th>\n",
       "      <th>df</th>\n",
       "    </tr>\n",
       "  </thead>\n",
       "  <tbody>\n",
       "    <tr>\n",
       "      <th>kmean_k5_mark_vs_Neutrophile_Count</th>\n",
       "      <td>0.041075</td>\n",
       "      <td>9.961873</td>\n",
       "      <td>4</td>\n",
       "    </tr>\n",
       "  </tbody>\n",
       "</table>\n",
       "</div>"
      ],
      "text/plain": [
       "                                     p_value  statistic  df\n",
       "kmean_k5_mark_vs_Neutrophile_Count  0.041075   9.961873   4"
      ]
     },
     "execution_count": 18,
     "metadata": {},
     "output_type": "execute_result"
    }
   ],
   "source": [
    "NUC_df =  pd.read_csv(NUC_f,sep=\"\\t\")\n",
    "NUC_df"
   ]
  },
  {
   "cell_type": "code",
   "execution_count": 19,
   "metadata": {},
   "outputs": [
    {
     "data": {
      "text/html": [
       "<div>\n",
       "<style scoped>\n",
       "    .dataframe tbody tr th:only-of-type {\n",
       "        vertical-align: middle;\n",
       "    }\n",
       "\n",
       "    .dataframe tbody tr th {\n",
       "        vertical-align: top;\n",
       "    }\n",
       "\n",
       "    .dataframe thead th {\n",
       "        text-align: right;\n",
       "    }\n",
       "</style>\n",
       "<table border=\"1\" class=\"dataframe\">\n",
       "  <thead>\n",
       "    <tr style=\"text-align: right;\">\n",
       "      <th></th>\n",
       "      <th>p_value</th>\n",
       "      <th>statistic</th>\n",
       "      <th>df</th>\n",
       "    </tr>\n",
       "  </thead>\n",
       "  <tbody>\n",
       "    <tr>\n",
       "      <th>kmean_k5_mark_vs_Platelet_Count</th>\n",
       "      <td>4.806829e-11</td>\n",
       "      <td>54.187905</td>\n",
       "      <td>4</td>\n",
       "    </tr>\n",
       "  </tbody>\n",
       "</table>\n",
       "</div>"
      ],
      "text/plain": [
       "                                      p_value  statistic  df\n",
       "kmean_k5_mark_vs_Platelet_Count  4.806829e-11  54.187905   4"
      ]
     },
     "execution_count": 19,
     "metadata": {},
     "output_type": "execute_result"
    }
   ],
   "source": [
    "PLT_df =  pd.read_csv(PLT_f,sep=\"\\t\")\n",
    "PLT_df"
   ]
  },
  {
   "cell_type": "code",
   "execution_count": 20,
   "metadata": {},
   "outputs": [
    {
     "data": {
      "text/html": [
       "<div>\n",
       "<style scoped>\n",
       "    .dataframe tbody tr th:only-of-type {\n",
       "        vertical-align: middle;\n",
       "    }\n",
       "\n",
       "    .dataframe tbody tr th {\n",
       "        vertical-align: top;\n",
       "    }\n",
       "\n",
       "    .dataframe thead th {\n",
       "        text-align: right;\n",
       "    }\n",
       "</style>\n",
       "<table border=\"1\" class=\"dataframe\">\n",
       "  <thead>\n",
       "    <tr style=\"text-align: right;\">\n",
       "      <th></th>\n",
       "      <th>p_value</th>\n",
       "      <th>statistic</th>\n",
       "      <th>df</th>\n",
       "    </tr>\n",
       "  </thead>\n",
       "  <tbody>\n",
       "    <tr>\n",
       "      <th>kmean_k5_mark_vs_Haemoglobin</th>\n",
       "      <td>7.609245e-02</td>\n",
       "      <td>8.460538</td>\n",
       "      <td>4</td>\n",
       "    </tr>\n",
       "    <tr>\n",
       "      <th>kmean_k5_mark_vs_WBC</th>\n",
       "      <td>5.777371e-02</td>\n",
       "      <td>9.136627</td>\n",
       "      <td>4</td>\n",
       "    </tr>\n",
       "    <tr>\n",
       "      <th>kmean_k5_mark_vs_Neutrophile_Count</th>\n",
       "      <td>4.107484e-02</td>\n",
       "      <td>9.961873</td>\n",
       "      <td>4</td>\n",
       "    </tr>\n",
       "    <tr>\n",
       "      <th>kmean_k5_mark_vs_Platelet_Count</th>\n",
       "      <td>4.806829e-11</td>\n",
       "      <td>54.187905</td>\n",
       "      <td>4</td>\n",
       "    </tr>\n",
       "  </tbody>\n",
       "</table>\n",
       "</div>"
      ],
      "text/plain": [
       "                                         p_value  statistic  df\n",
       "kmean_k5_mark_vs_Haemoglobin        7.609245e-02   8.460538   4\n",
       "kmean_k5_mark_vs_WBC                5.777371e-02   9.136627   4\n",
       "kmean_k5_mark_vs_Neutrophile_Count  4.107484e-02   9.961873   4\n",
       "kmean_k5_mark_vs_Platelet_Count     4.806829e-11  54.187905   4"
      ]
     },
     "execution_count": 20,
     "metadata": {},
     "output_type": "execute_result"
    }
   ],
   "source": [
    "## 按行合并\n",
    "merge_df = pd.concat([HBG_df,WBC_df,NUC_df,PLT_df],axis=0)\n",
    "merge_df"
   ]
  },
  {
   "cell_type": "code",
   "execution_count": 24,
   "metadata": {},
   "outputs": [
    {
     "data": {
      "text/html": [
       "<div>\n",
       "<style scoped>\n",
       "    .dataframe tbody tr th:only-of-type {\n",
       "        vertical-align: middle;\n",
       "    }\n",
       "\n",
       "    .dataframe tbody tr th {\n",
       "        vertical-align: top;\n",
       "    }\n",
       "\n",
       "    .dataframe thead th {\n",
       "        text-align: right;\n",
       "    }\n",
       "</style>\n",
       "<table border=\"1\" class=\"dataframe\">\n",
       "  <thead>\n",
       "    <tr style=\"text-align: right;\">\n",
       "      <th></th>\n",
       "      <th>Group</th>\n",
       "      <th>p_value</th>\n",
       "      <th>statistic</th>\n",
       "      <th>df</th>\n",
       "      <th>p_value_mark</th>\n",
       "    </tr>\n",
       "  </thead>\n",
       "  <tbody>\n",
       "    <tr>\n",
       "      <th>0</th>\n",
       "      <td>kmean_k5_mark_vs_Haemoglobin</td>\n",
       "      <td>7.609245e-02</td>\n",
       "      <td>8.460538</td>\n",
       "      <td>4</td>\n",
       "      <td>NS.</td>\n",
       "    </tr>\n",
       "    <tr>\n",
       "      <th>1</th>\n",
       "      <td>kmean_k5_mark_vs_WBC</td>\n",
       "      <td>5.777371e-02</td>\n",
       "      <td>9.136627</td>\n",
       "      <td>4</td>\n",
       "      <td>*</td>\n",
       "    </tr>\n",
       "    <tr>\n",
       "      <th>2</th>\n",
       "      <td>kmean_k5_mark_vs_Neutrophile_Count</td>\n",
       "      <td>4.107484e-02</td>\n",
       "      <td>9.961873</td>\n",
       "      <td>4</td>\n",
       "      <td>*</td>\n",
       "    </tr>\n",
       "    <tr>\n",
       "      <th>3</th>\n",
       "      <td>kmean_k5_mark_vs_Platelet_Count</td>\n",
       "      <td>4.806829e-11</td>\n",
       "      <td>54.187905</td>\n",
       "      <td>4</td>\n",
       "      <td>***</td>\n",
       "    </tr>\n",
       "  </tbody>\n",
       "</table>\n",
       "</div>"
      ],
      "text/plain": [
       "                                Group       p_value  statistic  df  \\\n",
       "0        kmean_k5_mark_vs_Haemoglobin  7.609245e-02   8.460538   4   \n",
       "1                kmean_k5_mark_vs_WBC  5.777371e-02   9.136627   4   \n",
       "2  kmean_k5_mark_vs_Neutrophile_Count  4.107484e-02   9.961873   4   \n",
       "3     kmean_k5_mark_vs_Platelet_Count  4.806829e-11  54.187905   4   \n",
       "\n",
       "  p_value_mark  \n",
       "0          NS.  \n",
       "1            *  \n",
       "2            *  \n",
       "3          ***  "
      ]
     },
     "execution_count": 24,
     "metadata": {},
     "output_type": "execute_result"
    }
   ],
   "source": [
    "# 行索引转为第一列，并命名为 Group\n",
    "merge_df.reset_index(inplace=True)\n",
    "merge_df.rename(columns={\"index\":\"Group\"},inplace=True)\n",
    "merge_df"
   ]
  },
  {
   "cell_type": "code",
   "execution_count": 25,
   "metadata": {},
   "outputs": [
    {
     "data": {
      "text/html": [
       "<div>\n",
       "<style scoped>\n",
       "    .dataframe tbody tr th:only-of-type {\n",
       "        vertical-align: middle;\n",
       "    }\n",
       "\n",
       "    .dataframe tbody tr th {\n",
       "        vertical-align: top;\n",
       "    }\n",
       "\n",
       "    .dataframe thead th {\n",
       "        text-align: right;\n",
       "    }\n",
       "</style>\n",
       "<table border=\"1\" class=\"dataframe\">\n",
       "  <thead>\n",
       "    <tr style=\"text-align: right;\">\n",
       "      <th></th>\n",
       "      <th>Group</th>\n",
       "      <th>p_value</th>\n",
       "      <th>statistic</th>\n",
       "      <th>df</th>\n",
       "      <th>p_value_mark</th>\n",
       "    </tr>\n",
       "  </thead>\n",
       "  <tbody>\n",
       "    <tr>\n",
       "      <th>0</th>\n",
       "      <td>kmean_k5_mark_vs_Haemoglobin</td>\n",
       "      <td>7.609245e-02</td>\n",
       "      <td>8.460538</td>\n",
       "      <td>4</td>\n",
       "      <td>NS.</td>\n",
       "    </tr>\n",
       "    <tr>\n",
       "      <th>1</th>\n",
       "      <td>kmean_k5_mark_vs_WBC</td>\n",
       "      <td>5.777371e-02</td>\n",
       "      <td>9.136627</td>\n",
       "      <td>4</td>\n",
       "      <td>*</td>\n",
       "    </tr>\n",
       "    <tr>\n",
       "      <th>2</th>\n",
       "      <td>kmean_k5_mark_vs_Neutrophile_Count</td>\n",
       "      <td>4.107484e-02</td>\n",
       "      <td>9.961873</td>\n",
       "      <td>4</td>\n",
       "      <td>*</td>\n",
       "    </tr>\n",
       "    <tr>\n",
       "      <th>3</th>\n",
       "      <td>kmean_k5_mark_vs_Platelet_Count</td>\n",
       "      <td>4.806829e-11</td>\n",
       "      <td>54.187905</td>\n",
       "      <td>4</td>\n",
       "      <td>***</td>\n",
       "    </tr>\n",
       "  </tbody>\n",
       "</table>\n",
       "</div>"
      ],
      "text/plain": [
       "                                Group       p_value  statistic  df  \\\n",
       "0        kmean_k5_mark_vs_Haemoglobin  7.609245e-02   8.460538   4   \n",
       "1                kmean_k5_mark_vs_WBC  5.777371e-02   9.136627   4   \n",
       "2  kmean_k5_mark_vs_Neutrophile_Count  4.107484e-02   9.961873   4   \n",
       "3     kmean_k5_mark_vs_Platelet_Count  4.806829e-11  54.187905   4   \n",
       "\n",
       "  p_value_mark  \n",
       "0          NS.  \n",
       "1            *  \n",
       "2            *  \n",
       "3          ***  "
      ]
     },
     "execution_count": 25,
     "metadata": {},
     "output_type": "execute_result"
    }
   ],
   "source": [
    "# 根据条件标记新的列\n",
    "def mark_p_value(row):\n",
    "    if row['p_value'] <= 0.001:\n",
    "        return \"***\"\n",
    "    elif row['p_value'] <= 0.01:\n",
    "        return \"**\"\n",
    "    elif row['p_value'] <= 0.059:\n",
    "        return \"*\"\n",
    "    else:\n",
    "        return \"NS.\"\n",
    " \n",
    "merge_df['p_value_mark'] = merge_df.apply(mark_p_value, axis=1)\n",
    "merge_df"
   ]
  },
  {
   "cell_type": "code",
   "execution_count": 26,
   "metadata": {},
   "outputs": [],
   "source": [
    "output_f = os.path.join(output_dir, \"20250606_22_MDS_sAML_AML_tumor_chisq_cell_kmean_merge_vs_seq_stat.xls\")\n",
    "merge_df.to_csv(output_f,index = False,sep=\"\\t\")"
   ]
  }
 ],
 "metadata": {
  "kernelspec": {
   "display_name": "py311base_scanpy",
   "language": "python",
   "name": "python3"
  },
  "language_info": {
   "codemirror_mode": {
    "name": "ipython",
    "version": 3
   },
   "file_extension": ".py",
   "mimetype": "text/x-python",
   "name": "python",
   "nbconvert_exporter": "python",
   "pygments_lexer": "ipython3",
   "version": "3.11.7"
  }
 },
 "nbformat": 4,
 "nbformat_minor": 2
}
