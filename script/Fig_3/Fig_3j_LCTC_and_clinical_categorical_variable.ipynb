{
 "cells": [
  {
   "cell_type": "code",
   "execution_count": 1,
   "metadata": {},
   "outputs": [],
   "source": [
    "import pandas as pd\n",
    "import os,sys\n",
    "from pathlib import Path"
   ]
  },
  {
   "cell_type": "code",
   "execution_count": 2,
   "metadata": {},
   "outputs": [],
   "source": [
    "output_dir = \"/share/home/wyz/Project/result/2025/202506/20250605_20250520_1_cibersortx_tumor_cell_kmean_5448_MDS_sAML_AML_merge/20250606_21_MDS_sAML_AML_tumor_chisq_cell_kmean_merge\""
   ]
  },
  {
   "cell_type": "code",
   "execution_count": 3,
   "metadata": {},
   "outputs": [],
   "source": [
    "## input\n",
    "IPSS_f = \"/share/home/wyz/Project/result/2025/202506/20250605_20250520_1_cibersortx_tumor_cell_kmean_5448_MDS_sAML_AML_merge/20250606_9_MDS_sAML_AML_tumor_cell_kmean_and_clinical_data_cor_data/20250606_1_stat_df_chiseq_IPSS.xls\""
   ]
  },
  {
   "cell_type": "code",
   "execution_count": 4,
   "metadata": {},
   "outputs": [],
   "source": [
    "WHO_f = \"/share/home/wyz/Project/result/2025/202506/20250605_20250520_1_cibersortx_tumor_cell_kmean_5448_MDS_sAML_AML_merge/20250606_9_MDS_sAML_AML_tumor_cell_kmean_and_clinical_data_cor_data/20250606_1_stat_df_chiseq_WHO_category.xls\""
   ]
  },
  {
   "cell_type": "code",
   "execution_count": 5,
   "metadata": {},
   "outputs": [],
   "source": [
    "cyto_f = \"/share/home/wyz/Project/result/2025/202506/20250605_20250520_1_cibersortx_tumor_cell_kmean_5448_MDS_sAML_AML_merge/20250606_9_MDS_sAML_AML_tumor_cell_kmean_and_clinical_data_cor_data/20250606_1_stat_df_chiseq_Cytogenetic_Risk.xls\""
   ]
  },
  {
   "cell_type": "code",
   "execution_count": 6,
   "metadata": {},
   "outputs": [],
   "source": [
    "FAB_f = \"/share/home/wyz/Project/result/2025/202506/20250605_20250520_1_cibersortx_tumor_cell_kmean_5448_MDS_sAML_AML_merge/20250606_9_MDS_sAML_AML_tumor_cell_kmean_and_clinical_data_cor_data/20250606_1_stat_df_chiseq_Class_FAB.xls\""
   ]
  },
  {
   "cell_type": "code",
   "execution_count": 7,
   "metadata": {},
   "outputs": [],
   "source": [
    "ENL_f = \"/share/home/wyz/Project/result/2025/202506/20250605_20250520_1_cibersortx_tumor_cell_kmean_5448_MDS_sAML_AML_merge/20250606_9_MDS_sAML_AML_tumor_cell_kmean_and_clinical_data_cor_data/20250606_1_stat_df_chiseq_Class_ELN.xls\""
   ]
  },
  {
   "cell_type": "code",
   "execution_count": 8,
   "metadata": {},
   "outputs": [],
   "source": [
    "gender_f = \"/share/home/wyz/Project/result/2025/202506/20250605_20250520_1_cibersortx_tumor_cell_kmean_5448_MDS_sAML_AML_merge/20250606_9_MDS_sAML_AML_tumor_cell_kmean_and_clinical_data_cor_data/20250606_1_stat_df_chiseq_Gender.xls\""
   ]
  },
  {
   "cell_type": "code",
   "execution_count": 9,
   "metadata": {},
   "outputs": [
    {
     "data": {
      "text/html": [
       "<div>\n",
       "<style scoped>\n",
       "    .dataframe tbody tr th:only-of-type {\n",
       "        vertical-align: middle;\n",
       "    }\n",
       "\n",
       "    .dataframe tbody tr th {\n",
       "        vertical-align: top;\n",
       "    }\n",
       "\n",
       "    .dataframe thead th {\n",
       "        text-align: right;\n",
       "    }\n",
       "</style>\n",
       "<table border=\"1\" class=\"dataframe\">\n",
       "  <thead>\n",
       "    <tr style=\"text-align: right;\">\n",
       "      <th></th>\n",
       "      <th>p_value</th>\n",
       "      <th>statistic</th>\n",
       "      <th>df</th>\n",
       "    </tr>\n",
       "  </thead>\n",
       "  <tbody>\n",
       "    <tr>\n",
       "      <th>kmean_k5_mark_vs_IPSS</th>\n",
       "      <td>0.082459</td>\n",
       "      <td>19.183763</td>\n",
       "      <td>NaN</td>\n",
       "    </tr>\n",
       "  </tbody>\n",
       "</table>\n",
       "</div>"
      ],
      "text/plain": [
       "                        p_value  statistic  df\n",
       "kmean_k5_mark_vs_IPSS  0.082459  19.183763 NaN"
      ]
     },
     "execution_count": 9,
     "metadata": {},
     "output_type": "execute_result"
    }
   ],
   "source": [
    "IPSS_df =  pd.read_csv(IPSS_f,sep=\"\\t\")\n",
    "IPSS_df"
   ]
  },
  {
   "cell_type": "code",
   "execution_count": 10,
   "metadata": {},
   "outputs": [
    {
     "data": {
      "text/html": [
       "<div>\n",
       "<style scoped>\n",
       "    .dataframe tbody tr th:only-of-type {\n",
       "        vertical-align: middle;\n",
       "    }\n",
       "\n",
       "    .dataframe tbody tr th {\n",
       "        vertical-align: top;\n",
       "    }\n",
       "\n",
       "    .dataframe thead th {\n",
       "        text-align: right;\n",
       "    }\n",
       "</style>\n",
       "<table border=\"1\" class=\"dataframe\">\n",
       "  <thead>\n",
       "    <tr style=\"text-align: right;\">\n",
       "      <th></th>\n",
       "      <th>p_value</th>\n",
       "      <th>statistic</th>\n",
       "      <th>df</th>\n",
       "    </tr>\n",
       "  </thead>\n",
       "  <tbody>\n",
       "    <tr>\n",
       "      <th>kmean_k5_mark_vs_WHO_category</th>\n",
       "      <td>0.0005</td>\n",
       "      <td>180.671389</td>\n",
       "      <td>NaN</td>\n",
       "    </tr>\n",
       "  </tbody>\n",
       "</table>\n",
       "</div>"
      ],
      "text/plain": [
       "                               p_value   statistic  df\n",
       "kmean_k5_mark_vs_WHO_category   0.0005  180.671389 NaN"
      ]
     },
     "execution_count": 10,
     "metadata": {},
     "output_type": "execute_result"
    }
   ],
   "source": [
    "WHO_df =  pd.read_csv(WHO_f,sep=\"\\t\")\n",
    "WHO_df"
   ]
  },
  {
   "cell_type": "code",
   "execution_count": 11,
   "metadata": {},
   "outputs": [
    {
     "data": {
      "text/html": [
       "<div>\n",
       "<style scoped>\n",
       "    .dataframe tbody tr th:only-of-type {\n",
       "        vertical-align: middle;\n",
       "    }\n",
       "\n",
       "    .dataframe tbody tr th {\n",
       "        vertical-align: top;\n",
       "    }\n",
       "\n",
       "    .dataframe thead th {\n",
       "        text-align: right;\n",
       "    }\n",
       "</style>\n",
       "<table border=\"1\" class=\"dataframe\">\n",
       "  <thead>\n",
       "    <tr style=\"text-align: right;\">\n",
       "      <th></th>\n",
       "      <th>p_value</th>\n",
       "      <th>statistic</th>\n",
       "      <th>df</th>\n",
       "    </tr>\n",
       "  </thead>\n",
       "  <tbody>\n",
       "    <tr>\n",
       "      <th>kmean_k5_mark_vs_Cytogenetic_Risk</th>\n",
       "      <td>0.0005</td>\n",
       "      <td>52.204887</td>\n",
       "      <td>NaN</td>\n",
       "    </tr>\n",
       "  </tbody>\n",
       "</table>\n",
       "</div>"
      ],
      "text/plain": [
       "                                   p_value  statistic  df\n",
       "kmean_k5_mark_vs_Cytogenetic_Risk   0.0005  52.204887 NaN"
      ]
     },
     "execution_count": 11,
     "metadata": {},
     "output_type": "execute_result"
    }
   ],
   "source": [
    "cyto_df =  pd.read_csv(cyto_f,sep=\"\\t\")\n",
    "cyto_df"
   ]
  },
  {
   "cell_type": "code",
   "execution_count": 12,
   "metadata": {},
   "outputs": [
    {
     "data": {
      "text/html": [
       "<div>\n",
       "<style scoped>\n",
       "    .dataframe tbody tr th:only-of-type {\n",
       "        vertical-align: middle;\n",
       "    }\n",
       "\n",
       "    .dataframe tbody tr th {\n",
       "        vertical-align: top;\n",
       "    }\n",
       "\n",
       "    .dataframe thead th {\n",
       "        text-align: right;\n",
       "    }\n",
       "</style>\n",
       "<table border=\"1\" class=\"dataframe\">\n",
       "  <thead>\n",
       "    <tr style=\"text-align: right;\">\n",
       "      <th></th>\n",
       "      <th>p_value</th>\n",
       "      <th>statistic</th>\n",
       "      <th>df</th>\n",
       "    </tr>\n",
       "  </thead>\n",
       "  <tbody>\n",
       "    <tr>\n",
       "      <th>kmean_k5_mark_vs_Class_FAB</th>\n",
       "      <td>0.0005</td>\n",
       "      <td>227.672755</td>\n",
       "      <td>NaN</td>\n",
       "    </tr>\n",
       "  </tbody>\n",
       "</table>\n",
       "</div>"
      ],
      "text/plain": [
       "                            p_value   statistic  df\n",
       "kmean_k5_mark_vs_Class_FAB   0.0005  227.672755 NaN"
      ]
     },
     "execution_count": 12,
     "metadata": {},
     "output_type": "execute_result"
    }
   ],
   "source": [
    "FAB_df =  pd.read_csv(FAB_f,sep=\"\\t\")\n",
    "FAB_df"
   ]
  },
  {
   "cell_type": "code",
   "execution_count": 13,
   "metadata": {},
   "outputs": [
    {
     "data": {
      "text/html": [
       "<div>\n",
       "<style scoped>\n",
       "    .dataframe tbody tr th:only-of-type {\n",
       "        vertical-align: middle;\n",
       "    }\n",
       "\n",
       "    .dataframe tbody tr th {\n",
       "        vertical-align: top;\n",
       "    }\n",
       "\n",
       "    .dataframe thead th {\n",
       "        text-align: right;\n",
       "    }\n",
       "</style>\n",
       "<table border=\"1\" class=\"dataframe\">\n",
       "  <thead>\n",
       "    <tr style=\"text-align: right;\">\n",
       "      <th></th>\n",
       "      <th>p_value</th>\n",
       "      <th>statistic</th>\n",
       "      <th>df</th>\n",
       "    </tr>\n",
       "  </thead>\n",
       "  <tbody>\n",
       "    <tr>\n",
       "      <th>kmean_k5_mark_vs_Class_ELN</th>\n",
       "      <td>0.006997</td>\n",
       "      <td>20.874994</td>\n",
       "      <td>NaN</td>\n",
       "    </tr>\n",
       "  </tbody>\n",
       "</table>\n",
       "</div>"
      ],
      "text/plain": [
       "                             p_value  statistic  df\n",
       "kmean_k5_mark_vs_Class_ELN  0.006997  20.874994 NaN"
      ]
     },
     "execution_count": 13,
     "metadata": {},
     "output_type": "execute_result"
    }
   ],
   "source": [
    "ENL_df =  pd.read_csv(ENL_f,sep=\"\\t\")\n",
    "ENL_df"
   ]
  },
  {
   "cell_type": "code",
   "execution_count": 14,
   "metadata": {},
   "outputs": [
    {
     "data": {
      "text/html": [
       "<div>\n",
       "<style scoped>\n",
       "    .dataframe tbody tr th:only-of-type {\n",
       "        vertical-align: middle;\n",
       "    }\n",
       "\n",
       "    .dataframe tbody tr th {\n",
       "        vertical-align: top;\n",
       "    }\n",
       "\n",
       "    .dataframe thead th {\n",
       "        text-align: right;\n",
       "    }\n",
       "</style>\n",
       "<table border=\"1\" class=\"dataframe\">\n",
       "  <thead>\n",
       "    <tr style=\"text-align: right;\">\n",
       "      <th></th>\n",
       "      <th>p_value</th>\n",
       "      <th>statistic</th>\n",
       "      <th>df</th>\n",
       "    </tr>\n",
       "  </thead>\n",
       "  <tbody>\n",
       "    <tr>\n",
       "      <th>kmean_k5_mark_vs_Gender</th>\n",
       "      <td>0.035482</td>\n",
       "      <td>10.147739</td>\n",
       "      <td>NaN</td>\n",
       "    </tr>\n",
       "  </tbody>\n",
       "</table>\n",
       "</div>"
      ],
      "text/plain": [
       "                          p_value  statistic  df\n",
       "kmean_k5_mark_vs_Gender  0.035482  10.147739 NaN"
      ]
     },
     "execution_count": 14,
     "metadata": {},
     "output_type": "execute_result"
    }
   ],
   "source": [
    "gender_df =  pd.read_csv(gender_f,sep=\"\\t\")\n",
    "gender_df"
   ]
  },
  {
   "cell_type": "code",
   "execution_count": 15,
   "metadata": {},
   "outputs": [
    {
     "data": {
      "text/html": [
       "<div>\n",
       "<style scoped>\n",
       "    .dataframe tbody tr th:only-of-type {\n",
       "        vertical-align: middle;\n",
       "    }\n",
       "\n",
       "    .dataframe tbody tr th {\n",
       "        vertical-align: top;\n",
       "    }\n",
       "\n",
       "    .dataframe thead th {\n",
       "        text-align: right;\n",
       "    }\n",
       "</style>\n",
       "<table border=\"1\" class=\"dataframe\">\n",
       "  <thead>\n",
       "    <tr style=\"text-align: right;\">\n",
       "      <th></th>\n",
       "      <th>p_value</th>\n",
       "      <th>statistic</th>\n",
       "      <th>df</th>\n",
       "    </tr>\n",
       "  </thead>\n",
       "  <tbody>\n",
       "    <tr>\n",
       "      <th>kmean_k5_mark_vs_IPSS</th>\n",
       "      <td>0.082459</td>\n",
       "      <td>19.183763</td>\n",
       "      <td>NaN</td>\n",
       "    </tr>\n",
       "    <tr>\n",
       "      <th>kmean_k5_mark_vs_WHO_category</th>\n",
       "      <td>0.000500</td>\n",
       "      <td>180.671389</td>\n",
       "      <td>NaN</td>\n",
       "    </tr>\n",
       "    <tr>\n",
       "      <th>kmean_k5_mark_vs_Cytogenetic_Risk</th>\n",
       "      <td>0.000500</td>\n",
       "      <td>52.204887</td>\n",
       "      <td>NaN</td>\n",
       "    </tr>\n",
       "    <tr>\n",
       "      <th>kmean_k5_mark_vs_Class_FAB</th>\n",
       "      <td>0.000500</td>\n",
       "      <td>227.672755</td>\n",
       "      <td>NaN</td>\n",
       "    </tr>\n",
       "    <tr>\n",
       "      <th>kmean_k5_mark_vs_Class_ELN</th>\n",
       "      <td>0.006997</td>\n",
       "      <td>20.874994</td>\n",
       "      <td>NaN</td>\n",
       "    </tr>\n",
       "    <tr>\n",
       "      <th>kmean_k5_mark_vs_Gender</th>\n",
       "      <td>0.035482</td>\n",
       "      <td>10.147739</td>\n",
       "      <td>NaN</td>\n",
       "    </tr>\n",
       "  </tbody>\n",
       "</table>\n",
       "</div>"
      ],
      "text/plain": [
       "                                    p_value   statistic  df\n",
       "kmean_k5_mark_vs_IPSS              0.082459   19.183763 NaN\n",
       "kmean_k5_mark_vs_WHO_category      0.000500  180.671389 NaN\n",
       "kmean_k5_mark_vs_Cytogenetic_Risk  0.000500   52.204887 NaN\n",
       "kmean_k5_mark_vs_Class_FAB         0.000500  227.672755 NaN\n",
       "kmean_k5_mark_vs_Class_ELN         0.006997   20.874994 NaN\n",
       "kmean_k5_mark_vs_Gender            0.035482   10.147739 NaN"
      ]
     },
     "execution_count": 15,
     "metadata": {},
     "output_type": "execute_result"
    }
   ],
   "source": [
    "## 按行合并\n",
    "merge_df = pd.concat([IPSS_df,WHO_df,cyto_df,FAB_df,ENL_df,gender_df],axis=0)\n",
    "merge_df"
   ]
  },
  {
   "cell_type": "code",
   "execution_count": 16,
   "metadata": {},
   "outputs": [
    {
     "data": {
      "text/html": [
       "<div>\n",
       "<style scoped>\n",
       "    .dataframe tbody tr th:only-of-type {\n",
       "        vertical-align: middle;\n",
       "    }\n",
       "\n",
       "    .dataframe tbody tr th {\n",
       "        vertical-align: top;\n",
       "    }\n",
       "\n",
       "    .dataframe thead th {\n",
       "        text-align: right;\n",
       "    }\n",
       "</style>\n",
       "<table border=\"1\" class=\"dataframe\">\n",
       "  <thead>\n",
       "    <tr style=\"text-align: right;\">\n",
       "      <th></th>\n",
       "      <th>Group</th>\n",
       "      <th>p_value</th>\n",
       "      <th>statistic</th>\n",
       "      <th>df</th>\n",
       "    </tr>\n",
       "  </thead>\n",
       "  <tbody>\n",
       "    <tr>\n",
       "      <th>0</th>\n",
       "      <td>kmean_k5_mark_vs_IPSS</td>\n",
       "      <td>0.082459</td>\n",
       "      <td>19.183763</td>\n",
       "      <td>NaN</td>\n",
       "    </tr>\n",
       "    <tr>\n",
       "      <th>1</th>\n",
       "      <td>kmean_k5_mark_vs_WHO_category</td>\n",
       "      <td>0.000500</td>\n",
       "      <td>180.671389</td>\n",
       "      <td>NaN</td>\n",
       "    </tr>\n",
       "    <tr>\n",
       "      <th>2</th>\n",
       "      <td>kmean_k5_mark_vs_Cytogenetic_Risk</td>\n",
       "      <td>0.000500</td>\n",
       "      <td>52.204887</td>\n",
       "      <td>NaN</td>\n",
       "    </tr>\n",
       "    <tr>\n",
       "      <th>3</th>\n",
       "      <td>kmean_k5_mark_vs_Class_FAB</td>\n",
       "      <td>0.000500</td>\n",
       "      <td>227.672755</td>\n",
       "      <td>NaN</td>\n",
       "    </tr>\n",
       "    <tr>\n",
       "      <th>4</th>\n",
       "      <td>kmean_k5_mark_vs_Class_ELN</td>\n",
       "      <td>0.006997</td>\n",
       "      <td>20.874994</td>\n",
       "      <td>NaN</td>\n",
       "    </tr>\n",
       "    <tr>\n",
       "      <th>5</th>\n",
       "      <td>kmean_k5_mark_vs_Gender</td>\n",
       "      <td>0.035482</td>\n",
       "      <td>10.147739</td>\n",
       "      <td>NaN</td>\n",
       "    </tr>\n",
       "  </tbody>\n",
       "</table>\n",
       "</div>"
      ],
      "text/plain": [
       "                               Group   p_value   statistic  df\n",
       "0              kmean_k5_mark_vs_IPSS  0.082459   19.183763 NaN\n",
       "1      kmean_k5_mark_vs_WHO_category  0.000500  180.671389 NaN\n",
       "2  kmean_k5_mark_vs_Cytogenetic_Risk  0.000500   52.204887 NaN\n",
       "3         kmean_k5_mark_vs_Class_FAB  0.000500  227.672755 NaN\n",
       "4         kmean_k5_mark_vs_Class_ELN  0.006997   20.874994 NaN\n",
       "5            kmean_k5_mark_vs_Gender  0.035482   10.147739 NaN"
      ]
     },
     "execution_count": 16,
     "metadata": {},
     "output_type": "execute_result"
    }
   ],
   "source": [
    "# 行索引转为第一列，并命名为 Group\n",
    "merge_df.reset_index(inplace=True)\n",
    "merge_df.rename(columns={\"index\":\"Group\"},inplace=True)\n",
    "merge_df"
   ]
  },
  {
   "cell_type": "code",
   "execution_count": 17,
   "metadata": {},
   "outputs": [
    {
     "data": {
      "text/html": [
       "<div>\n",
       "<style scoped>\n",
       "    .dataframe tbody tr th:only-of-type {\n",
       "        vertical-align: middle;\n",
       "    }\n",
       "\n",
       "    .dataframe tbody tr th {\n",
       "        vertical-align: top;\n",
       "    }\n",
       "\n",
       "    .dataframe thead th {\n",
       "        text-align: right;\n",
       "    }\n",
       "</style>\n",
       "<table border=\"1\" class=\"dataframe\">\n",
       "  <thead>\n",
       "    <tr style=\"text-align: right;\">\n",
       "      <th></th>\n",
       "      <th>Group</th>\n",
       "      <th>p_value</th>\n",
       "      <th>statistic</th>\n",
       "      <th>df</th>\n",
       "      <th>p_value_mark</th>\n",
       "    </tr>\n",
       "  </thead>\n",
       "  <tbody>\n",
       "    <tr>\n",
       "      <th>0</th>\n",
       "      <td>kmean_k5_mark_vs_IPSS</td>\n",
       "      <td>0.082459</td>\n",
       "      <td>19.183763</td>\n",
       "      <td>NaN</td>\n",
       "      <td>NS.</td>\n",
       "    </tr>\n",
       "    <tr>\n",
       "      <th>1</th>\n",
       "      <td>kmean_k5_mark_vs_WHO_category</td>\n",
       "      <td>0.000500</td>\n",
       "      <td>180.671389</td>\n",
       "      <td>NaN</td>\n",
       "      <td>***</td>\n",
       "    </tr>\n",
       "    <tr>\n",
       "      <th>2</th>\n",
       "      <td>kmean_k5_mark_vs_Cytogenetic_Risk</td>\n",
       "      <td>0.000500</td>\n",
       "      <td>52.204887</td>\n",
       "      <td>NaN</td>\n",
       "      <td>***</td>\n",
       "    </tr>\n",
       "    <tr>\n",
       "      <th>3</th>\n",
       "      <td>kmean_k5_mark_vs_Class_FAB</td>\n",
       "      <td>0.000500</td>\n",
       "      <td>227.672755</td>\n",
       "      <td>NaN</td>\n",
       "      <td>***</td>\n",
       "    </tr>\n",
       "    <tr>\n",
       "      <th>4</th>\n",
       "      <td>kmean_k5_mark_vs_Class_ELN</td>\n",
       "      <td>0.006997</td>\n",
       "      <td>20.874994</td>\n",
       "      <td>NaN</td>\n",
       "      <td>**</td>\n",
       "    </tr>\n",
       "    <tr>\n",
       "      <th>5</th>\n",
       "      <td>kmean_k5_mark_vs_Gender</td>\n",
       "      <td>0.035482</td>\n",
       "      <td>10.147739</td>\n",
       "      <td>NaN</td>\n",
       "      <td>*</td>\n",
       "    </tr>\n",
       "  </tbody>\n",
       "</table>\n",
       "</div>"
      ],
      "text/plain": [
       "                               Group   p_value   statistic  df p_value_mark\n",
       "0              kmean_k5_mark_vs_IPSS  0.082459   19.183763 NaN          NS.\n",
       "1      kmean_k5_mark_vs_WHO_category  0.000500  180.671389 NaN          ***\n",
       "2  kmean_k5_mark_vs_Cytogenetic_Risk  0.000500   52.204887 NaN          ***\n",
       "3         kmean_k5_mark_vs_Class_FAB  0.000500  227.672755 NaN          ***\n",
       "4         kmean_k5_mark_vs_Class_ELN  0.006997   20.874994 NaN           **\n",
       "5            kmean_k5_mark_vs_Gender  0.035482   10.147739 NaN            *"
      ]
     },
     "execution_count": 17,
     "metadata": {},
     "output_type": "execute_result"
    }
   ],
   "source": [
    "# 根据条件标记新的列\n",
    "def mark_p_value(row):\n",
    "    if row['p_value'] <= 0.001:\n",
    "        return \"***\"\n",
    "    elif row['p_value'] <= 0.01:\n",
    "        return \"**\"\n",
    "    elif row['p_value'] <= 0.05:\n",
    "        return \"*\"\n",
    "    else:\n",
    "        return \"NS.\"\n",
    " \n",
    "merge_df['p_value_mark'] = merge_df.apply(mark_p_value, axis=1)\n",
    "merge_df"
   ]
  },
  {
   "cell_type": "code",
   "execution_count": null,
   "metadata": {},
   "outputs": [],
   "source": []
  },
  {
   "cell_type": "code",
   "execution_count": 18,
   "metadata": {},
   "outputs": [],
   "source": [
    "output_f = os.path.join(output_dir, \"20250606_21_MDS_sAML_AML_tumor_chisq_cell_kmean_merge_vs_class_stat.xls\")\n",
    "merge_df.to_csv(output_f,index = False)"
   ]
  }
 ],
 "metadata": {
  "kernelspec": {
   "display_name": "py311base_scanpy",
   "language": "python",
   "name": "python3"
  },
  "language_info": {
   "codemirror_mode": {
    "name": "ipython",
    "version": 3
   },
   "file_extension": ".py",
   "mimetype": "text/x-python",
   "name": "python",
   "nbconvert_exporter": "python",
   "pygments_lexer": "ipython3",
   "version": "3.11.7"
  }
 },
 "nbformat": 4,
 "nbformat_minor": 2
}
