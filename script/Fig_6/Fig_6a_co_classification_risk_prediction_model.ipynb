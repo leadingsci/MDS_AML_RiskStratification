{
 "cells": [
  {
   "cell_type": "markdown",
   "metadata": {},
   "source": [
    "\n",
    "# -----------------------------------------------------------------------------\n",
    "# Author: [Yongzhang Yu]\n",
    "# Description: [Fig_6a_co_classification_risk_prediction_model]\n",
    "# -----------------------------------------------------------------------------"
   ]
  },
  {
   "cell_type": "code",
   "execution_count": null,
   "metadata": {
    "vscode": {
     "languageId": "r"
    }
   },
   "outputs": [],
   "source": [
    "# env:r43base_rna"
   ]
  },
  {
   "cell_type": "code",
   "execution_count": 1,
   "metadata": {
    "vscode": {
     "languageId": "r"
    }
   },
   "outputs": [],
   "source": [
    "rm(list=ls())"
   ]
  },
  {
   "cell_type": "code",
   "execution_count": 7,
   "metadata": {
    "vscode": {
     "languageId": "r"
    }
   },
   "outputs": [],
   "source": [
    ".libPaths(c(\"/share/home/wyz/miniconda3/envs/r43base_rna/lib/R/library\",\"/share/home/bioinfo/anaconda3/envs/R-4.2.3/lib/R/library\"))"
   ]
  },
  {
   "cell_type": "code",
   "execution_count": 8,
   "metadata": {
    "vscode": {
     "languageId": "r"
    }
   },
   "outputs": [],
   "source": [
    "#引用包\n",
    "library(survival)\n",
    "library(caret)\n",
    "library(\"glmnet\")\n",
    "library(survminer)\n",
    "library(\"survivalROC\")"
   ]
  },
  {
   "cell_type": "code",
   "execution_count": 7,
   "metadata": {
    "vscode": {
     "languageId": "r"
    }
   },
   "outputs": [],
   "source": [
    "output_dir = \"/share/home/wyz/Project/result/2025/202507/20250718_1_Risk_Model_Build/20250828_1_Risk_Model_Build_Union_420_split_clinlic_ROC\""
   ]
  },
  {
   "cell_type": "code",
   "execution_count": 36,
   "metadata": {
    "vscode": {
     "languageId": "r"
    }
   },
   "outputs": [],
   "source": []
  },
  {
   "cell_type": "code",
   "execution_count": 5,
   "metadata": {
    "vscode": {
     "languageId": "r"
    }
   },
   "outputs": [],
   "source": [
    "input_f = \"/share/home/wyz/Project/result/2025/202507/20250716_1_Risk_Model_Build/20250718_1_Model_input_data/20250718_1_Model_input_data_cell_percent_sample_1307.xls\""
   ]
  },
  {
   "cell_type": "markdown",
   "metadata": {},
   "source": [
    "## Read Data"
   ]
  },
  {
   "cell_type": "code",
   "execution_count": 6,
   "metadata": {
    "vscode": {
     "languageId": "r"
    }
   },
   "outputs": [
    {
     "data": {
      "text/html": [
       "<table class=\"dataframe\">\n",
       "<caption>A data.frame: 6 × 52</caption>\n",
       "<thead>\n",
       "\t<tr><th></th><th scope=col>Sample_ID</th><th scope=col>Survival_days</th><th scope=col>Status_Cox</th><th scope=col>kmean_k5_mark_short</th><th scope=col>kmean_k4_mark_short</th><th scope=col>tumor_to_immune_mark</th><th scope=col>CD4_T_01_FYB1_Percent</th><th scope=col>CD4_T_02_CCL5_Percent</th><th scope=col>CD4_T_03_MT_ND4L_Percent</th><th scope=col>CD4_T_04_ISG15_Percent</th><th scope=col>⋯</th><th scope=col>WBC</th><th scope=col>Neutrophile_Count</th><th scope=col>Platelet_Count</th><th scope=col>BM_Blast_Percent</th><th scope=col>Survival_Status</th><th scope=col>Status_ggsurvfit</th><th scope=col>DiseaseClass</th><th scope=col>Source</th><th scope=col>BM_Blast_Percent_Mark1</th><th scope=col>BM_Blast_Percent_Mark2</th></tr>\n",
       "\t<tr><th></th><th scope=col>&lt;chr&gt;</th><th scope=col>&lt;dbl&gt;</th><th scope=col>&lt;int&gt;</th><th scope=col>&lt;chr&gt;</th><th scope=col>&lt;chr&gt;</th><th scope=col>&lt;chr&gt;</th><th scope=col>&lt;chr&gt;</th><th scope=col>&lt;chr&gt;</th><th scope=col>&lt;chr&gt;</th><th scope=col>&lt;chr&gt;</th><th scope=col>⋯</th><th scope=col>&lt;dbl&gt;</th><th scope=col>&lt;dbl&gt;</th><th scope=col>&lt;dbl&gt;</th><th scope=col>&lt;dbl&gt;</th><th scope=col>&lt;chr&gt;</th><th scope=col>&lt;dbl&gt;</th><th scope=col>&lt;chr&gt;</th><th scope=col>&lt;chr&gt;</th><th scope=col>&lt;chr&gt;</th><th scope=col>&lt;chr&gt;</th></tr>\n",
       "</thead>\n",
       "<tbody>\n",
       "\t<tr><th scope=row>1</th><td>AML_Beat_12_00051</td><td> 707</td><td>1</td><td>Primitive</td><td>CD8T_Int_CD4T_Low</td><td>Primitive_CD8T_Int_CD4T_Low</td><td>undirection_P&gt;0.05</td><td><span style=white-space:pre-wrap>depleted_P&lt;=0.01  </span></td><td>undirection_P&gt;0.05</td><td>undirection_P&gt;0.05</td><td>⋯</td><td>179</td><td> 10</td><td> 19</td><td>88</td><td>Dead </td><td>2</td><td>AML</td><td>Beat</td><td>80-90 </td><td>80-90 </td></tr>\n",
       "\t<tr><th scope=row>2</th><td>AML_Beat_12_00211</td><td>1396</td><td>0</td><td><span style=white-space:pre-wrap>Mature   </span></td><td>CD8T_Int_CD4T_Low</td><td><span style=white-space:pre-wrap>Mature_CD8T_Int_CD4T_Low   </span></td><td>depleted_P&lt;=0.001 </td><td><span style=white-space:pre-wrap>expanded_P&lt;=0.05  </span></td><td>depleted_P&lt;=0.001 </td><td><span style=white-space:pre-wrap>expanded_P&lt;=0.01  </span></td><td>⋯</td><td>841</td><td> 20</td><td><span style=white-space:pre-wrap>  8</span></td><td>90</td><td>Alive</td><td>1</td><td>AML</td><td>Beat</td><td>90-100</td><td>90-100</td></tr>\n",
       "\t<tr><th scope=row>3</th><td>AML_Beat_13_00157</td><td>1379</td><td>0</td><td>Primitive</td><td>CD8T_Int_CD4T_Low</td><td>Primitive_CD8T_Int_CD4T_Low</td><td>depleted_P&lt;=0.001 </td><td><span style=white-space:pre-wrap>expanded_P&lt;=0.05  </span></td><td>depleted_P&lt;=0.001 </td><td><span style=white-space:pre-wrap>expanded_P&lt;=0.01  </span></td><td>⋯</td><td>539</td><td>230</td><td>228</td><td>80</td><td>Alive</td><td>1</td><td>AML</td><td>Beat</td><td>80-90 </td><td>80-90 </td></tr>\n",
       "\t<tr><th scope=row>4</th><td>AML_Beat_13_00163</td><td> 400</td><td>0</td><td><span style=white-space:pre-wrap>GMP      </span></td><td>CD8_Int_CD4_High </td><td><span style=white-space:pre-wrap>GMP_CD8_Int_CD4_High       </span></td><td>undirection_P&gt;0.05</td><td>undirection_P&gt;0.05</td><td>undirection_P&gt;0.05</td><td><span style=white-space:pre-wrap>expanded_P&lt;=0.05  </span></td><td>⋯</td><td>138</td><td>160</td><td> 53</td><td>50</td><td>Alive</td><td>1</td><td>AML</td><td>Beat</td><td>50-60 </td><td>50-60 </td></tr>\n",
       "\t<tr><th scope=row>5</th><td>AML_Beat_13_00195</td><td> 972</td><td>0</td><td>Primitive</td><td>CD8T_Int_CD4T_Low</td><td>Primitive_CD8T_Int_CD4T_Low</td><td>undirection_P&gt;0.05</td><td><span style=white-space:pre-wrap>depleted_P&lt;=0.01  </span></td><td>undirection_P&gt;0.05</td><td>undirection_P&gt;0.05</td><td>⋯</td><td>280</td><td> 10</td><td>122</td><td>90</td><td>Alive</td><td>1</td><td>AML</td><td>Beat</td><td>90-100</td><td>90-100</td></tr>\n",
       "\t<tr><th scope=row>6</th><td>AML_Beat_13_00232</td><td>1001</td><td>0</td><td><span style=white-space:pre-wrap>GMP      </span></td><td>CD8T_Int_CD4T_Low</td><td><span style=white-space:pre-wrap>GMP_CD8T_Int_CD4T_Low      </span></td><td>undirection_P&gt;0.05</td><td><span style=white-space:pre-wrap>depleted_P&lt;=0.01  </span></td><td>undirection_P&gt;0.05</td><td>undirection_P&gt;0.05</td><td>⋯</td><td>294</td><td>240</td><td> 34</td><td>55</td><td>Alive</td><td>1</td><td>AML</td><td>Beat</td><td>50-60 </td><td>50-60 </td></tr>\n",
       "</tbody>\n",
       "</table>\n"
      ],
      "text/latex": [
       "A data.frame: 6 × 52\n",
       "\\begin{tabular}{r|lllllllllllllllllllll}\n",
       "  & Sample\\_ID & Survival\\_days & Status\\_Cox & kmean\\_k5\\_mark\\_short & kmean\\_k4\\_mark\\_short & tumor\\_to\\_immune\\_mark & CD4\\_T\\_01\\_FYB1\\_Percent & CD4\\_T\\_02\\_CCL5\\_Percent & CD4\\_T\\_03\\_MT\\_ND4L\\_Percent & CD4\\_T\\_04\\_ISG15\\_Percent & ⋯ & WBC & Neutrophile\\_Count & Platelet\\_Count & BM\\_Blast\\_Percent & Survival\\_Status & Status\\_ggsurvfit & DiseaseClass & Source & BM\\_Blast\\_Percent\\_Mark1 & BM\\_Blast\\_Percent\\_Mark2\\\\\n",
       "  & <chr> & <dbl> & <int> & <chr> & <chr> & <chr> & <chr> & <chr> & <chr> & <chr> & ⋯ & <dbl> & <dbl> & <dbl> & <dbl> & <chr> & <dbl> & <chr> & <chr> & <chr> & <chr>\\\\\n",
       "\\hline\n",
       "\t1 & AML\\_Beat\\_12\\_00051 &  707 & 1 & Primitive & CD8T\\_Int\\_CD4T\\_Low & Primitive\\_CD8T\\_Int\\_CD4T\\_Low & undirection\\_P>0.05 & depleted\\_P<=0.01   & undirection\\_P>0.05 & undirection\\_P>0.05 & ⋯ & 179 &  10 &  19 & 88 & Dead  & 2 & AML & Beat & 80-90  & 80-90 \\\\\n",
       "\t2 & AML\\_Beat\\_12\\_00211 & 1396 & 0 & Mature    & CD8T\\_Int\\_CD4T\\_Low & Mature\\_CD8T\\_Int\\_CD4T\\_Low    & depleted\\_P<=0.001  & expanded\\_P<=0.05   & depleted\\_P<=0.001  & expanded\\_P<=0.01   & ⋯ & 841 &  20 &   8 & 90 & Alive & 1 & AML & Beat & 90-100 & 90-100\\\\\n",
       "\t3 & AML\\_Beat\\_13\\_00157 & 1379 & 0 & Primitive & CD8T\\_Int\\_CD4T\\_Low & Primitive\\_CD8T\\_Int\\_CD4T\\_Low & depleted\\_P<=0.001  & expanded\\_P<=0.05   & depleted\\_P<=0.001  & expanded\\_P<=0.01   & ⋯ & 539 & 230 & 228 & 80 & Alive & 1 & AML & Beat & 80-90  & 80-90 \\\\\n",
       "\t4 & AML\\_Beat\\_13\\_00163 &  400 & 0 & GMP       & CD8\\_Int\\_CD4\\_High  & GMP\\_CD8\\_Int\\_CD4\\_High        & undirection\\_P>0.05 & undirection\\_P>0.05 & undirection\\_P>0.05 & expanded\\_P<=0.05   & ⋯ & 138 & 160 &  53 & 50 & Alive & 1 & AML & Beat & 50-60  & 50-60 \\\\\n",
       "\t5 & AML\\_Beat\\_13\\_00195 &  972 & 0 & Primitive & CD8T\\_Int\\_CD4T\\_Low & Primitive\\_CD8T\\_Int\\_CD4T\\_Low & undirection\\_P>0.05 & depleted\\_P<=0.01   & undirection\\_P>0.05 & undirection\\_P>0.05 & ⋯ & 280 &  10 & 122 & 90 & Alive & 1 & AML & Beat & 90-100 & 90-100\\\\\n",
       "\t6 & AML\\_Beat\\_13\\_00232 & 1001 & 0 & GMP       & CD8T\\_Int\\_CD4T\\_Low & GMP\\_CD8T\\_Int\\_CD4T\\_Low       & undirection\\_P>0.05 & depleted\\_P<=0.01   & undirection\\_P>0.05 & undirection\\_P>0.05 & ⋯ & 294 & 240 &  34 & 55 & Alive & 1 & AML & Beat & 50-60  & 50-60 \\\\\n",
       "\\end{tabular}\n"
      ],
      "text/markdown": [
       "\n",
       "A data.frame: 6 × 52\n",
       "\n",
       "| <!--/--> | Sample_ID &lt;chr&gt; | Survival_days &lt;dbl&gt; | Status_Cox &lt;int&gt; | kmean_k5_mark_short &lt;chr&gt; | kmean_k4_mark_short &lt;chr&gt; | tumor_to_immune_mark &lt;chr&gt; | CD4_T_01_FYB1_Percent &lt;chr&gt; | CD4_T_02_CCL5_Percent &lt;chr&gt; | CD4_T_03_MT_ND4L_Percent &lt;chr&gt; | CD4_T_04_ISG15_Percent &lt;chr&gt; | ⋯ ⋯ | WBC &lt;dbl&gt; | Neutrophile_Count &lt;dbl&gt; | Platelet_Count &lt;dbl&gt; | BM_Blast_Percent &lt;dbl&gt; | Survival_Status &lt;chr&gt; | Status_ggsurvfit &lt;dbl&gt; | DiseaseClass &lt;chr&gt; | Source &lt;chr&gt; | BM_Blast_Percent_Mark1 &lt;chr&gt; | BM_Blast_Percent_Mark2 &lt;chr&gt; |\n",
       "|---|---|---|---|---|---|---|---|---|---|---|---|---|---|---|---|---|---|---|---|---|---|\n",
       "| 1 | AML_Beat_12_00051 |  707 | 1 | Primitive | CD8T_Int_CD4T_Low | Primitive_CD8T_Int_CD4T_Low | undirection_P&gt;0.05 | depleted_P&lt;=0.01   | undirection_P&gt;0.05 | undirection_P&gt;0.05 | ⋯ | 179 |  10 |  19 | 88 | Dead  | 2 | AML | Beat | 80-90  | 80-90  |\n",
       "| 2 | AML_Beat_12_00211 | 1396 | 0 | Mature    | CD8T_Int_CD4T_Low | Mature_CD8T_Int_CD4T_Low    | depleted_P&lt;=0.001  | expanded_P&lt;=0.05   | depleted_P&lt;=0.001  | expanded_P&lt;=0.01   | ⋯ | 841 |  20 |   8 | 90 | Alive | 1 | AML | Beat | 90-100 | 90-100 |\n",
       "| 3 | AML_Beat_13_00157 | 1379 | 0 | Primitive | CD8T_Int_CD4T_Low | Primitive_CD8T_Int_CD4T_Low | depleted_P&lt;=0.001  | expanded_P&lt;=0.05   | depleted_P&lt;=0.001  | expanded_P&lt;=0.01   | ⋯ | 539 | 230 | 228 | 80 | Alive | 1 | AML | Beat | 80-90  | 80-90  |\n",
       "| 4 | AML_Beat_13_00163 |  400 | 0 | GMP       | CD8_Int_CD4_High  | GMP_CD8_Int_CD4_High        | undirection_P&gt;0.05 | undirection_P&gt;0.05 | undirection_P&gt;0.05 | expanded_P&lt;=0.05   | ⋯ | 138 | 160 |  53 | 50 | Alive | 1 | AML | Beat | 50-60  | 50-60  |\n",
       "| 5 | AML_Beat_13_00195 |  972 | 0 | Primitive | CD8T_Int_CD4T_Low | Primitive_CD8T_Int_CD4T_Low | undirection_P&gt;0.05 | depleted_P&lt;=0.01   | undirection_P&gt;0.05 | undirection_P&gt;0.05 | ⋯ | 280 |  10 | 122 | 90 | Alive | 1 | AML | Beat | 90-100 | 90-100 |\n",
       "| 6 | AML_Beat_13_00232 | 1001 | 0 | GMP       | CD8T_Int_CD4T_Low | GMP_CD8T_Int_CD4T_Low       | undirection_P&gt;0.05 | depleted_P&lt;=0.01   | undirection_P&gt;0.05 | undirection_P&gt;0.05 | ⋯ | 294 | 240 |  34 | 55 | Alive | 1 | AML | Beat | 50-60  | 50-60  |\n",
       "\n"
      ],
      "text/plain": [
       "  Sample_ID         Survival_days Status_Cox kmean_k5_mark_short\n",
       "1 AML_Beat_12_00051  707          1          Primitive          \n",
       "2 AML_Beat_12_00211 1396          0          Mature             \n",
       "3 AML_Beat_13_00157 1379          0          Primitive          \n",
       "4 AML_Beat_13_00163  400          0          GMP                \n",
       "5 AML_Beat_13_00195  972          0          Primitive          \n",
       "6 AML_Beat_13_00232 1001          0          GMP                \n",
       "  kmean_k4_mark_short tumor_to_immune_mark        CD4_T_01_FYB1_Percent\n",
       "1 CD8T_Int_CD4T_Low   Primitive_CD8T_Int_CD4T_Low undirection_P>0.05   \n",
       "2 CD8T_Int_CD4T_Low   Mature_CD8T_Int_CD4T_Low    depleted_P<=0.001    \n",
       "3 CD8T_Int_CD4T_Low   Primitive_CD8T_Int_CD4T_Low depleted_P<=0.001    \n",
       "4 CD8_Int_CD4_High    GMP_CD8_Int_CD4_High        undirection_P>0.05   \n",
       "5 CD8T_Int_CD4T_Low   Primitive_CD8T_Int_CD4T_Low undirection_P>0.05   \n",
       "6 CD8T_Int_CD4T_Low   GMP_CD8T_Int_CD4T_Low       undirection_P>0.05   \n",
       "  CD4_T_02_CCL5_Percent CD4_T_03_MT_ND4L_Percent CD4_T_04_ISG15_Percent ⋯ WBC\n",
       "1 depleted_P<=0.01      undirection_P>0.05       undirection_P>0.05     ⋯ 179\n",
       "2 expanded_P<=0.05      depleted_P<=0.001        expanded_P<=0.01       ⋯ 841\n",
       "3 expanded_P<=0.05      depleted_P<=0.001        expanded_P<=0.01       ⋯ 539\n",
       "4 undirection_P>0.05    undirection_P>0.05       expanded_P<=0.05       ⋯ 138\n",
       "5 depleted_P<=0.01      undirection_P>0.05       undirection_P>0.05     ⋯ 280\n",
       "6 depleted_P<=0.01      undirection_P>0.05       undirection_P>0.05     ⋯ 294\n",
       "  Neutrophile_Count Platelet_Count BM_Blast_Percent Survival_Status\n",
       "1  10                19            88               Dead           \n",
       "2  20                 8            90               Alive          \n",
       "3 230               228            80               Alive          \n",
       "4 160                53            50               Alive          \n",
       "5  10               122            90               Alive          \n",
       "6 240                34            55               Alive          \n",
       "  Status_ggsurvfit DiseaseClass Source BM_Blast_Percent_Mark1\n",
       "1 2                AML          Beat   80-90                 \n",
       "2 1                AML          Beat   90-100                \n",
       "3 1                AML          Beat   80-90                 \n",
       "4 1                AML          Beat   50-60                 \n",
       "5 1                AML          Beat   90-100                \n",
       "6 1                AML          Beat   50-60                 \n",
       "  BM_Blast_Percent_Mark2\n",
       "1 80-90                 \n",
       "2 90-100                \n",
       "3 80-90                 \n",
       "4 50-60                 \n",
       "5 90-100                \n",
       "6 50-60                 "
      ]
     },
     "metadata": {},
     "output_type": "display_data"
    }
   ],
   "source": [
    "sample_info_df <- read.table(input_f,sep=\"\\t\",header=T)\n",
    "head(sample_info_df)"
   ]
  },
  {
   "cell_type": "code",
   "execution_count": 7,
   "metadata": {
    "vscode": {
     "languageId": "r"
    }
   },
   "outputs": [
    {
     "data": {
      "text/html": [
       "<style>\n",
       ".list-inline {list-style: none; margin:0; padding: 0}\n",
       ".list-inline>li {display: inline-block}\n",
       ".list-inline>li:not(:last-child)::after {content: \"\\00b7\"; padding: 0 .5ex}\n",
       "</style>\n",
       "<ol class=list-inline><li>'Sample_ID'</li><li>'Survival_days'</li><li>'Status_Cox'</li><li>'kmean_k5_mark_short'</li><li>'kmean_k4_mark_short'</li><li>'tumor_to_immune_mark'</li><li>'CD4_T_01_FYB1_Percent'</li><li>'CD4_T_02_CCL5_Percent'</li><li>'CD4_T_03_MT_ND4L_Percent'</li><li>'CD4_T_04_ISG15_Percent'</li><li>'CD4_T_05_APOOL_Percent'</li><li>'CD4_Treg_01_ITGB1_Percent'</li><li>'CD8_T_01_NBEAL1_Percent'</li><li>'CD8_T_02_LMNA_Percent'</li><li>'CD8_T_03_HBA2_Percent'</li><li>'CD8_T_04_CD8B_Percent'</li><li>'CD8_T_05_CCL4_Percent'</li><li>'CD8_T_06_CCR7_Percent'</li><li>'CD8_T_07_S100A11_Percent'</li><li>'CD8_T_08_ATP5MC2_Percent'</li><li>'CD8_T_09_MT_ND2_Percent'</li><li>'CD8_T_10_EEF1G_PCNP_Percent'</li><li>'B_01_MS4A1_HLA_DRA_Percent'</li><li>'B_03_HLA_DRA_Percent'</li><li>'B_05_STMN1_Percent'</li><li>'B_06_DNTT_Percent'</li><li>'B_07_MS4A1_CD79A_Percent'</li><li>'NK_01_IL7R_Percent'</li><li>'NK_02_MT_CYB_Percent'</li><li>'NK_03_GZMK_Percent'</li><li>'NK_04_GZMH_Percent'</li><li>'NK_05_CD3D_Percent'</li><li>'NK_06_SPON2_Percent'</li><li>'Risk_Group'</li><li>'IPSS'</li><li>'Cytogenetic_Risk'</li><li>'WHO_category'</li><li>'Class_FAB'</li><li>'Class_ELN'</li><li>'Age'</li><li>'Gender'</li><li>'Haemoglobin'</li><li>'WBC'</li><li>'Neutrophile_Count'</li><li>'Platelet_Count'</li><li>'BM_Blast_Percent'</li><li>'Survival_Status'</li><li>'Status_ggsurvfit'</li><li>'DiseaseClass'</li><li>'Source'</li><li>'BM_Blast_Percent_Mark1'</li><li>'BM_Blast_Percent_Mark2'</li></ol>\n"
      ],
      "text/latex": [
       "\\begin{enumerate*}\n",
       "\\item 'Sample\\_ID'\n",
       "\\item 'Survival\\_days'\n",
       "\\item 'Status\\_Cox'\n",
       "\\item 'kmean\\_k5\\_mark\\_short'\n",
       "\\item 'kmean\\_k4\\_mark\\_short'\n",
       "\\item 'tumor\\_to\\_immune\\_mark'\n",
       "\\item 'CD4\\_T\\_01\\_FYB1\\_Percent'\n",
       "\\item 'CD4\\_T\\_02\\_CCL5\\_Percent'\n",
       "\\item 'CD4\\_T\\_03\\_MT\\_ND4L\\_Percent'\n",
       "\\item 'CD4\\_T\\_04\\_ISG15\\_Percent'\n",
       "\\item 'CD4\\_T\\_05\\_APOOL\\_Percent'\n",
       "\\item 'CD4\\_Treg\\_01\\_ITGB1\\_Percent'\n",
       "\\item 'CD8\\_T\\_01\\_NBEAL1\\_Percent'\n",
       "\\item 'CD8\\_T\\_02\\_LMNA\\_Percent'\n",
       "\\item 'CD8\\_T\\_03\\_HBA2\\_Percent'\n",
       "\\item 'CD8\\_T\\_04\\_CD8B\\_Percent'\n",
       "\\item 'CD8\\_T\\_05\\_CCL4\\_Percent'\n",
       "\\item 'CD8\\_T\\_06\\_CCR7\\_Percent'\n",
       "\\item 'CD8\\_T\\_07\\_S100A11\\_Percent'\n",
       "\\item 'CD8\\_T\\_08\\_ATP5MC2\\_Percent'\n",
       "\\item 'CD8\\_T\\_09\\_MT\\_ND2\\_Percent'\n",
       "\\item 'CD8\\_T\\_10\\_EEF1G\\_PCNP\\_Percent'\n",
       "\\item 'B\\_01\\_MS4A1\\_HLA\\_DRA\\_Percent'\n",
       "\\item 'B\\_03\\_HLA\\_DRA\\_Percent'\n",
       "\\item 'B\\_05\\_STMN1\\_Percent'\n",
       "\\item 'B\\_06\\_DNTT\\_Percent'\n",
       "\\item 'B\\_07\\_MS4A1\\_CD79A\\_Percent'\n",
       "\\item 'NK\\_01\\_IL7R\\_Percent'\n",
       "\\item 'NK\\_02\\_MT\\_CYB\\_Percent'\n",
       "\\item 'NK\\_03\\_GZMK\\_Percent'\n",
       "\\item 'NK\\_04\\_GZMH\\_Percent'\n",
       "\\item 'NK\\_05\\_CD3D\\_Percent'\n",
       "\\item 'NK\\_06\\_SPON2\\_Percent'\n",
       "\\item 'Risk\\_Group'\n",
       "\\item 'IPSS'\n",
       "\\item 'Cytogenetic\\_Risk'\n",
       "\\item 'WHO\\_category'\n",
       "\\item 'Class\\_FAB'\n",
       "\\item 'Class\\_ELN'\n",
       "\\item 'Age'\n",
       "\\item 'Gender'\n",
       "\\item 'Haemoglobin'\n",
       "\\item 'WBC'\n",
       "\\item 'Neutrophile\\_Count'\n",
       "\\item 'Platelet\\_Count'\n",
       "\\item 'BM\\_Blast\\_Percent'\n",
       "\\item 'Survival\\_Status'\n",
       "\\item 'Status\\_ggsurvfit'\n",
       "\\item 'DiseaseClass'\n",
       "\\item 'Source'\n",
       "\\item 'BM\\_Blast\\_Percent\\_Mark1'\n",
       "\\item 'BM\\_Blast\\_Percent\\_Mark2'\n",
       "\\end{enumerate*}\n"
      ],
      "text/markdown": [
       "1. 'Sample_ID'\n",
       "2. 'Survival_days'\n",
       "3. 'Status_Cox'\n",
       "4. 'kmean_k5_mark_short'\n",
       "5. 'kmean_k4_mark_short'\n",
       "6. 'tumor_to_immune_mark'\n",
       "7. 'CD4_T_01_FYB1_Percent'\n",
       "8. 'CD4_T_02_CCL5_Percent'\n",
       "9. 'CD4_T_03_MT_ND4L_Percent'\n",
       "10. 'CD4_T_04_ISG15_Percent'\n",
       "11. 'CD4_T_05_APOOL_Percent'\n",
       "12. 'CD4_Treg_01_ITGB1_Percent'\n",
       "13. 'CD8_T_01_NBEAL1_Percent'\n",
       "14. 'CD8_T_02_LMNA_Percent'\n",
       "15. 'CD8_T_03_HBA2_Percent'\n",
       "16. 'CD8_T_04_CD8B_Percent'\n",
       "17. 'CD8_T_05_CCL4_Percent'\n",
       "18. 'CD8_T_06_CCR7_Percent'\n",
       "19. 'CD8_T_07_S100A11_Percent'\n",
       "20. 'CD8_T_08_ATP5MC2_Percent'\n",
       "21. 'CD8_T_09_MT_ND2_Percent'\n",
       "22. 'CD8_T_10_EEF1G_PCNP_Percent'\n",
       "23. 'B_01_MS4A1_HLA_DRA_Percent'\n",
       "24. 'B_03_HLA_DRA_Percent'\n",
       "25. 'B_05_STMN1_Percent'\n",
       "26. 'B_06_DNTT_Percent'\n",
       "27. 'B_07_MS4A1_CD79A_Percent'\n",
       "28. 'NK_01_IL7R_Percent'\n",
       "29. 'NK_02_MT_CYB_Percent'\n",
       "30. 'NK_03_GZMK_Percent'\n",
       "31. 'NK_04_GZMH_Percent'\n",
       "32. 'NK_05_CD3D_Percent'\n",
       "33. 'NK_06_SPON2_Percent'\n",
       "34. 'Risk_Group'\n",
       "35. 'IPSS'\n",
       "36. 'Cytogenetic_Risk'\n",
       "37. 'WHO_category'\n",
       "38. 'Class_FAB'\n",
       "39. 'Class_ELN'\n",
       "40. 'Age'\n",
       "41. 'Gender'\n",
       "42. 'Haemoglobin'\n",
       "43. 'WBC'\n",
       "44. 'Neutrophile_Count'\n",
       "45. 'Platelet_Count'\n",
       "46. 'BM_Blast_Percent'\n",
       "47. 'Survival_Status'\n",
       "48. 'Status_ggsurvfit'\n",
       "49. 'DiseaseClass'\n",
       "50. 'Source'\n",
       "51. 'BM_Blast_Percent_Mark1'\n",
       "52. 'BM_Blast_Percent_Mark2'\n",
       "\n",
       "\n"
      ],
      "text/plain": [
       " [1] \"Sample_ID\"                   \"Survival_days\"              \n",
       " [3] \"Status_Cox\"                  \"kmean_k5_mark_short\"        \n",
       " [5] \"kmean_k4_mark_short\"         \"tumor_to_immune_mark\"       \n",
       " [7] \"CD4_T_01_FYB1_Percent\"       \"CD4_T_02_CCL5_Percent\"      \n",
       " [9] \"CD4_T_03_MT_ND4L_Percent\"    \"CD4_T_04_ISG15_Percent\"     \n",
       "[11] \"CD4_T_05_APOOL_Percent\"      \"CD4_Treg_01_ITGB1_Percent\"  \n",
       "[13] \"CD8_T_01_NBEAL1_Percent\"     \"CD8_T_02_LMNA_Percent\"      \n",
       "[15] \"CD8_T_03_HBA2_Percent\"       \"CD8_T_04_CD8B_Percent\"      \n",
       "[17] \"CD8_T_05_CCL4_Percent\"       \"CD8_T_06_CCR7_Percent\"      \n",
       "[19] \"CD8_T_07_S100A11_Percent\"    \"CD8_T_08_ATP5MC2_Percent\"   \n",
       "[21] \"CD8_T_09_MT_ND2_Percent\"     \"CD8_T_10_EEF1G_PCNP_Percent\"\n",
       "[23] \"B_01_MS4A1_HLA_DRA_Percent\"  \"B_03_HLA_DRA_Percent\"       \n",
       "[25] \"B_05_STMN1_Percent\"          \"B_06_DNTT_Percent\"          \n",
       "[27] \"B_07_MS4A1_CD79A_Percent\"    \"NK_01_IL7R_Percent\"         \n",
       "[29] \"NK_02_MT_CYB_Percent\"        \"NK_03_GZMK_Percent\"         \n",
       "[31] \"NK_04_GZMH_Percent\"          \"NK_05_CD3D_Percent\"         \n",
       "[33] \"NK_06_SPON2_Percent\"         \"Risk_Group\"                 \n",
       "[35] \"IPSS\"                        \"Cytogenetic_Risk\"           \n",
       "[37] \"WHO_category\"                \"Class_FAB\"                  \n",
       "[39] \"Class_ELN\"                   \"Age\"                        \n",
       "[41] \"Gender\"                      \"Haemoglobin\"                \n",
       "[43] \"WBC\"                         \"Neutrophile_Count\"          \n",
       "[45] \"Platelet_Count\"              \"BM_Blast_Percent\"           \n",
       "[47] \"Survival_Status\"             \"Status_ggsurvfit\"           \n",
       "[49] \"DiseaseClass\"                \"Source\"                     \n",
       "[51] \"BM_Blast_Percent_Mark1\"      \"BM_Blast_Percent_Mark2\"     "
      ]
     },
     "metadata": {},
     "output_type": "display_data"
    }
   ],
   "source": [
    "colnames(sample_info_df)"
   ]
  },
  {
   "cell_type": "code",
   "execution_count": null,
   "metadata": {
    "vscode": {
     "languageId": "r"
    }
   },
   "outputs": [],
   "source": []
  },
  {
   "cell_type": "code",
   "execution_count": 8,
   "metadata": {
    "vscode": {
     "languageId": "r"
    }
   },
   "outputs": [],
   "source": [
    "## remove NA\n",
    "sample_info_df = sample_info_df[!is.na(sample_info_df$BM_Blast_Percent_Mark2),]"
   ]
  },
  {
   "cell_type": "code",
   "execution_count": 9,
   "metadata": {
    "vscode": {
     "languageId": "r"
    }
   },
   "outputs": [],
   "source": [
    "## remove NA\n",
    "sample_info_df = sample_info_df[sample_info_df$BM_Blast_Percent_Mark2 != \"\",]"
   ]
  },
  {
   "cell_type": "code",
   "execution_count": 10,
   "metadata": {
    "vscode": {
     "languageId": "r"
    }
   },
   "outputs": [
    {
     "data": {
      "text/html": [
       "<style>\n",
       ".list-inline {list-style: none; margin:0; padding: 0}\n",
       ".list-inline>li {display: inline-block}\n",
       ".list-inline>li:not(:last-child)::after {content: \"\\00b7\"; padding: 0 .5ex}\n",
       "</style>\n",
       "<ol class=list-inline><li>420</li><li>52</li></ol>\n"
      ],
      "text/latex": [
       "\\begin{enumerate*}\n",
       "\\item 420\n",
       "\\item 52\n",
       "\\end{enumerate*}\n"
      ],
      "text/markdown": [
       "1. 420\n",
       "2. 52\n",
       "\n",
       "\n"
      ],
      "text/plain": [
       "[1] 420  52"
      ]
     },
     "metadata": {},
     "output_type": "display_data"
    }
   ],
   "source": [
    "dim(sample_info_df)"
   ]
  },
  {
   "cell_type": "code",
   "execution_count": 11,
   "metadata": {
    "vscode": {
     "languageId": "r"
    }
   },
   "outputs": [],
   "source": [
    "sample_info_df[,\"Survival_days\"]=sample_info_df[,\"Survival_days\"]/365"
   ]
  },
  {
   "cell_type": "code",
   "execution_count": 12,
   "metadata": {
    "vscode": {
     "languageId": "r"
    }
   },
   "outputs": [],
   "source": [
    "sample_info_df$kmean_k5_mark_short = factor(sample_info_df$`kmean_k5_mark_short`, levels = c(\"GMP\",\"Mature\",\"Prog\",\"Primitive\",\"intermediate\"))"
   ]
  },
  {
   "cell_type": "code",
   "execution_count": 13,
   "metadata": {
    "vscode": {
     "languageId": "r"
    }
   },
   "outputs": [],
   "source": [
    "sample_info_df$kmean_k4_mark_short = factor(sample_info_df$`kmean_k4_mark_short`, levels = c(\"CD8T_High\",\"CD8T_Int_CD4T_Low\",\"CD8_Int_CD4_High\",\"CD8T_Low\"))"
   ]
  },
  {
   "cell_type": "code",
   "execution_count": 14,
   "metadata": {
    "vscode": {
     "languageId": "r"
    }
   },
   "outputs": [],
   "source": [
    "sample_info_df$tumor_to_immune_mark = factor(sample_info_df$tumor_to_immune_mark, levels = c(\"Prog_CD8T_High\",\n",
    "    \"GMP_CD8T_High\",\n",
    "    \"Prog_CD8_Int_CD4_High\",\n",
    "    \"intermediate_CD8T_High\",\n",
    "    \"Mature_CD8T_High\",\n",
    "    \"Mature_CD8_Int_CD4_High\",\n",
    "    \"Mature_CD8T_Int_CD4T_Low\",\n",
    "    \"GMP_CD8T_Int_CD4T_Low\",\n",
    "    \"intermediate_CD8T_Int_CD4T_Low\",\n",
    "    \"GMP_CD8_Int_CD4_High\",\n",
    "    \"GMP_CD8T_Low\",\n",
    "    \"intermediate_CD8T_Low\",\n",
    "    \"intermediate_CD8_Int_CD4_High\",\n",
    "    \"Primitive_CD8T_Low\",\n",
    "    \"Prog_CD8T_Low\",\n",
    "    \"Primitive_CD8T_Int_CD4T_Low\",\n",
    "    \"Mature_CD8T_Low\",\n",
    "    \"Primitive_CD8_Int_CD4_High\",\n",
    "    \"Prog_CD8T_Int_CD4T_Low\",\n",
    "    \"Primitive_CD8T_High\"))"
   ]
  },
  {
   "cell_type": "code",
   "execution_count": 15,
   "metadata": {
    "vscode": {
     "languageId": "r"
    }
   },
   "outputs": [
    {
     "data": {
      "text/plain": [
       "\n",
       "                Prog_CD8T_High                  GMP_CD8T_High \n",
       "                             7                             16 \n",
       "         Prog_CD8_Int_CD4_High         intermediate_CD8T_High \n",
       "                            95                              0 \n",
       "              Mature_CD8T_High        Mature_CD8_Int_CD4_High \n",
       "                            31                              7 \n",
       "      Mature_CD8T_Int_CD4T_Low          GMP_CD8T_Int_CD4T_Low \n",
       "                            33                             36 \n",
       "intermediate_CD8T_Int_CD4T_Low           GMP_CD8_Int_CD4_High \n",
       "                            18                             12 \n",
       "                  GMP_CD8T_Low          intermediate_CD8T_Low \n",
       "                            15                             38 \n",
       " intermediate_CD8_Int_CD4_High             Primitive_CD8T_Low \n",
       "                             5                             14 \n",
       "                 Prog_CD8T_Low    Primitive_CD8T_Int_CD4T_Low \n",
       "                             3                             34 \n",
       "               Mature_CD8T_Low     Primitive_CD8_Int_CD4_High \n",
       "                            43                              7 \n",
       "        Prog_CD8T_Int_CD4T_Low            Primitive_CD8T_High \n",
       "                             3                              3 "
      ]
     },
     "metadata": {},
     "output_type": "display_data"
    }
   ],
   "source": [
    "table(sample_info_df$tumor_to_immune_mark)"
   ]
  },
  {
   "cell_type": "code",
   "execution_count": 16,
   "metadata": {
    "vscode": {
     "languageId": "r"
    }
   },
   "outputs": [],
   "source": [
    "sample_info_df$tumor_to_immune_mark =  droplevels(sample_info_df$tumor_to_immune_mark)"
   ]
  },
  {
   "cell_type": "code",
   "execution_count": 17,
   "metadata": {
    "vscode": {
     "languageId": "r"
    }
   },
   "outputs": [
    {
     "data": {
      "text/html": [
       "<table class=\"dataframe\">\n",
       "<caption>A data.frame: 6 × 4</caption>\n",
       "<thead>\n",
       "\t<tr><th></th><th scope=col>Sample_ID</th><th scope=col>Survival_days</th><th scope=col>Status_Cox</th><th scope=col>tumor_to_immune_mark</th></tr>\n",
       "\t<tr><th></th><th scope=col>&lt;chr&gt;</th><th scope=col>&lt;dbl&gt;</th><th scope=col>&lt;int&gt;</th><th scope=col>&lt;fct&gt;</th></tr>\n",
       "</thead>\n",
       "<tbody>\n",
       "\t<tr><th scope=row>1</th><td>AML_Beat_12_00051</td><td>1.936986</td><td>1</td><td>Primitive_CD8T_Int_CD4T_Low</td></tr>\n",
       "\t<tr><th scope=row>2</th><td>AML_Beat_12_00211</td><td>3.824658</td><td>0</td><td>Mature_CD8T_Int_CD4T_Low   </td></tr>\n",
       "\t<tr><th scope=row>3</th><td>AML_Beat_13_00157</td><td>3.778082</td><td>0</td><td>Primitive_CD8T_Int_CD4T_Low</td></tr>\n",
       "\t<tr><th scope=row>4</th><td>AML_Beat_13_00163</td><td>1.095890</td><td>0</td><td>GMP_CD8_Int_CD4_High       </td></tr>\n",
       "\t<tr><th scope=row>5</th><td>AML_Beat_13_00195</td><td>2.663014</td><td>0</td><td>Primitive_CD8T_Int_CD4T_Low</td></tr>\n",
       "\t<tr><th scope=row>6</th><td>AML_Beat_13_00232</td><td>2.742466</td><td>0</td><td>GMP_CD8T_Int_CD4T_Low      </td></tr>\n",
       "</tbody>\n",
       "</table>\n"
      ],
      "text/latex": [
       "A data.frame: 6 × 4\n",
       "\\begin{tabular}{r|llll}\n",
       "  & Sample\\_ID & Survival\\_days & Status\\_Cox & tumor\\_to\\_immune\\_mark\\\\\n",
       "  & <chr> & <dbl> & <int> & <fct>\\\\\n",
       "\\hline\n",
       "\t1 & AML\\_Beat\\_12\\_00051 & 1.936986 & 1 & Primitive\\_CD8T\\_Int\\_CD4T\\_Low\\\\\n",
       "\t2 & AML\\_Beat\\_12\\_00211 & 3.824658 & 0 & Mature\\_CD8T\\_Int\\_CD4T\\_Low   \\\\\n",
       "\t3 & AML\\_Beat\\_13\\_00157 & 3.778082 & 0 & Primitive\\_CD8T\\_Int\\_CD4T\\_Low\\\\\n",
       "\t4 & AML\\_Beat\\_13\\_00163 & 1.095890 & 0 & GMP\\_CD8\\_Int\\_CD4\\_High       \\\\\n",
       "\t5 & AML\\_Beat\\_13\\_00195 & 2.663014 & 0 & Primitive\\_CD8T\\_Int\\_CD4T\\_Low\\\\\n",
       "\t6 & AML\\_Beat\\_13\\_00232 & 2.742466 & 0 & GMP\\_CD8T\\_Int\\_CD4T\\_Low      \\\\\n",
       "\\end{tabular}\n"
      ],
      "text/markdown": [
       "\n",
       "A data.frame: 6 × 4\n",
       "\n",
       "| <!--/--> | Sample_ID &lt;chr&gt; | Survival_days &lt;dbl&gt; | Status_Cox &lt;int&gt; | tumor_to_immune_mark &lt;fct&gt; |\n",
       "|---|---|---|---|---|\n",
       "| 1 | AML_Beat_12_00051 | 1.936986 | 1 | Primitive_CD8T_Int_CD4T_Low |\n",
       "| 2 | AML_Beat_12_00211 | 3.824658 | 0 | Mature_CD8T_Int_CD4T_Low    |\n",
       "| 3 | AML_Beat_13_00157 | 3.778082 | 0 | Primitive_CD8T_Int_CD4T_Low |\n",
       "| 4 | AML_Beat_13_00163 | 1.095890 | 0 | GMP_CD8_Int_CD4_High        |\n",
       "| 5 | AML_Beat_13_00195 | 2.663014 | 0 | Primitive_CD8T_Int_CD4T_Low |\n",
       "| 6 | AML_Beat_13_00232 | 2.742466 | 0 | GMP_CD8T_Int_CD4T_Low       |\n",
       "\n"
      ],
      "text/plain": [
       "  Sample_ID         Survival_days Status_Cox tumor_to_immune_mark       \n",
       "1 AML_Beat_12_00051 1.936986      1          Primitive_CD8T_Int_CD4T_Low\n",
       "2 AML_Beat_12_00211 3.824658      0          Mature_CD8T_Int_CD4T_Low   \n",
       "3 AML_Beat_13_00157 3.778082      0          Primitive_CD8T_Int_CD4T_Low\n",
       "4 AML_Beat_13_00163 1.095890      0          GMP_CD8_Int_CD4_High       \n",
       "5 AML_Beat_13_00195 2.663014      0          Primitive_CD8T_Int_CD4T_Low\n",
       "6 AML_Beat_13_00232 2.742466      0          GMP_CD8T_Int_CD4T_Low      "
      ]
     },
     "metadata": {},
     "output_type": "display_data"
    }
   ],
   "source": [
    "rt = sample_info_df[,c(\"Sample_ID\",\"Survival_days\",\"Status_Cox\",\"tumor_to_immune_mark\")]\n",
    "head(rt)"
   ]
  },
  {
   "cell_type": "code",
   "execution_count": 19,
   "metadata": {
    "vscode": {
     "languageId": "r"
    }
   },
   "outputs": [],
   "source": [
    "rownames(rt) = rt$Sample_ID"
   ]
  },
  {
   "cell_type": "code",
   "execution_count": 18,
   "metadata": {
    "vscode": {
     "languageId": "r"
    }
   },
   "outputs": [],
   "source": [
    "# 1）subset"
   ]
  },
  {
   "cell_type": "code",
   "execution_count": 9,
   "metadata": {
    "vscode": {
     "languageId": "r"
    }
   },
   "outputs": [],
   "source": [
    "{\n",
    "library(caret)\n",
    "intrain_first<-createDataPartition(y=rt$Status_Cox,p=0.5,list=F)\n",
    "train_first<-rt[intrain_first,]\n",
    "test_first<-rt[-intrain_first,]\n",
    "train_firstOut=cbind(id=row.names(train_first),train_first) \n",
    "test_firstOut=cbind(id=row.names(test_first),test_first)\n",
    "}"
   ]
  },
  {
   "cell_type": "code",
   "execution_count": 10,
   "metadata": {
    "vscode": {
     "languageId": "r"
    }
   },
   "outputs": [
    {
     "data": {
      "text/plain": [
       "\n",
       "                Prog_CD8T_High                  GMP_CD8T_High \n",
       "                             2                              7 \n",
       "         Prog_CD8_Int_CD4_High               Mature_CD8T_High \n",
       "                            48                             13 \n",
       "       Mature_CD8_Int_CD4_High       Mature_CD8T_Int_CD4T_Low \n",
       "                             2                             18 \n",
       "         GMP_CD8T_Int_CD4T_Low intermediate_CD8T_Int_CD4T_Low \n",
       "                            17                              9 \n",
       "          GMP_CD8_Int_CD4_High                   GMP_CD8T_Low \n",
       "                             6                              9 \n",
       "         intermediate_CD8T_Low  intermediate_CD8_Int_CD4_High \n",
       "                            20                              3 \n",
       "            Primitive_CD8T_Low                  Prog_CD8T_Low \n",
       "                             7                              2 \n",
       "   Primitive_CD8T_Int_CD4T_Low                Mature_CD8T_Low \n",
       "                            23                             19 \n",
       "    Primitive_CD8_Int_CD4_High         Prog_CD8T_Int_CD4T_Low \n",
       "                             2                              1 \n",
       "           Primitive_CD8T_High \n",
       "                             2 "
      ]
     },
     "metadata": {},
     "output_type": "display_data"
    }
   ],
   "source": [
    "table(train_first$tumor_to_immune_mark)"
   ]
  },
  {
   "cell_type": "code",
   "execution_count": 11,
   "metadata": {
    "vscode": {
     "languageId": "r"
    }
   },
   "outputs": [],
   "source": [
    "train_first$tumor_to_immune_mark =  droplevels(train_first$tumor_to_immune_mark)\n",
    "test_first$tumor_to_immune_mark =  droplevels(test_first$tumor_to_immune_mark)"
   ]
  },
  {
   "cell_type": "code",
   "execution_count": 23,
   "metadata": {
    "vscode": {
     "languageId": "r"
    }
   },
   "outputs": [
    {
     "data": {
      "text/html": [
       "<table class=\"dataframe\">\n",
       "<caption>A data.frame: 126 × 4</caption>\n",
       "<thead>\n",
       "\t<tr><th></th><th scope=col>Sample_ID</th><th scope=col>Survival_days</th><th scope=col>Status_Cox</th><th scope=col>tumor_to_immune_mark</th></tr>\n",
       "\t<tr><th></th><th scope=col>&lt;chr&gt;</th><th scope=col>&lt;dbl&gt;</th><th scope=col>&lt;int&gt;</th><th scope=col>&lt;fct&gt;</th></tr>\n",
       "</thead>\n",
       "<tbody>\n",
       "\t<tr><th scope=row>AML_Beat_13_00163</th><td>AML_Beat_13_00163       </td><td>1.09589041</td><td>0</td><td>GMP_CD8_Int_CD4_High          </td></tr>\n",
       "\t<tr><th scope=row>AML_Beat_13_00232</th><td>AML_Beat_13_00232       </td><td>2.74246575</td><td>0</td><td>GMP_CD8T_Int_CD4T_Low         </td></tr>\n",
       "\t<tr><th scope=row>AML_Beat_13_00658</th><td>AML_Beat_13_00658       </td><td>0.55068493</td><td>0</td><td>GMP_CD8T_Int_CD4T_Low         </td></tr>\n",
       "\t<tr><th scope=row>AML_Beat_14_00034</th><td>AML_Beat_14_00034       </td><td>2.48219178</td><td>0</td><td>Mature_CD8T_Int_CD4T_Low      </td></tr>\n",
       "\t<tr><th scope=row>AML_Beat_14_00228</th><td>AML_Beat_14_00228       </td><td>2.15890411</td><td>0</td><td>Primitive_CD8T_Low            </td></tr>\n",
       "\t<tr><th scope=row>AML_Beat_14_00464</th><td>AML_Beat_14_00464       </td><td>1.24109589</td><td>0</td><td>Primitive_CD8T_Int_CD4T_Low   </td></tr>\n",
       "\t<tr><th scope=row>AML_Beat_14_00787</th><td>AML_Beat_14_00787       </td><td>1.21095890</td><td>0</td><td>Mature_CD8T_Int_CD4T_Low      </td></tr>\n",
       "\t<tr><th scope=row>AML_Beat_15_00377</th><td>AML_Beat_15_00377       </td><td>1.55890411</td><td>0</td><td>GMP_CD8T_Int_CD4T_Low         </td></tr>\n",
       "\t<tr><th scope=row>AML_Beat_15_00680</th><td>AML_Beat_15_00680       </td><td>1.22465753</td><td>0</td><td>Primitive_CD8T_Int_CD4T_Low   </td></tr>\n",
       "\t<tr><th scope=row>AML_Beat_15_00702</th><td>AML_Beat_15_00702       </td><td>0.51506849</td><td>0</td><td>GMP_CD8T_Int_CD4T_Low         </td></tr>\n",
       "\t<tr><th scope=row>AML_Beat_15_00717</th><td>AML_Beat_15_00717       </td><td>0.33698630</td><td>0</td><td>Primitive_CD8T_Int_CD4T_Low   </td></tr>\n",
       "\t<tr><th scope=row>AML_Beat_15_00734</th><td>AML_Beat_15_00734       </td><td>0.55342466</td><td>0</td><td>Primitive_CD8T_Int_CD4T_Low   </td></tr>\n",
       "\t<tr><th scope=row>AML_Beat_15_00979</th><td>AML_Beat_15_00979       </td><td>0.87397260</td><td>1</td><td>Primitive_CD8T_Int_CD4T_Low   </td></tr>\n",
       "\t<tr><th scope=row>AML_Beat_16_00056</th><td>AML_Beat_16_00056       </td><td>0.55068493</td><td>0</td><td>Mature_CD8T_Int_CD4T_Low      </td></tr>\n",
       "\t<tr><th scope=row>AML_Beat_16_00102</th><td>AML_Beat_16_00102       </td><td>0.26027397</td><td>0</td><td>GMP_CD8T_Low                  </td></tr>\n",
       "\t<tr><th scope=row>AML_Beat_16_00220</th><td>AML_Beat_16_00220       </td><td>0.08493151</td><td>0</td><td>GMP_CD8T_Int_CD4T_Low         </td></tr>\n",
       "\t<tr><th scope=row>AML_Beat_16_00289</th><td>AML_Beat_16_00289       </td><td>0.38904110</td><td>1</td><td>Mature_CD8T_Int_CD4T_Low      </td></tr>\n",
       "\t<tr><th scope=row>AML_Beat_16_00344</th><td>AML_Beat_16_00344       </td><td>0.51506849</td><td>0</td><td>GMP_CD8T_Int_CD4T_Low         </td></tr>\n",
       "\t<tr><th scope=row>AML_Beat_16_00406</th><td>AML_Beat_16_00406       </td><td>0.41369863</td><td>0</td><td>GMP_CD8T_Int_CD4T_Low         </td></tr>\n",
       "\t<tr><th scope=row>AML_Beat_16_00510</th><td>AML_Beat_16_00510       </td><td>0.79726027</td><td>1</td><td>Mature_CD8T_Int_CD4T_Low      </td></tr>\n",
       "\t<tr><th scope=row>AML_Beat_16_00525</th><td>AML_Beat_16_00525       </td><td>0.96438356</td><td>0</td><td>Primitive_CD8T_Int_CD4T_Low   </td></tr>\n",
       "\t<tr><th scope=row>AML_Beat_16_00815</th><td>AML_Beat_16_00815       </td><td>0.53972603</td><td>0</td><td>Primitive_CD8T_Int_CD4T_Low   </td></tr>\n",
       "\t<tr><th scope=row>AML_Beat_16_01049</th><td>AML_Beat_16_01049       </td><td>1.01917808</td><td>1</td><td>intermediate_CD8T_Int_CD4T_Low</td></tr>\n",
       "\t<tr><th scope=row>AML_Beat_16_01121</th><td>AML_Beat_16_01121       </td><td>0.50410959</td><td>0</td><td>Mature_CD8T_Int_CD4T_Low      </td></tr>\n",
       "\t<tr><th scope=row>AML_GSE165656_GSM5047693</th><td>AML_GSE165656_GSM5047693</td><td>0.06027397</td><td>1</td><td>Mature_CD8T_Low               </td></tr>\n",
       "\t<tr><th scope=row>AML_GSE165656_GSM5047700</th><td>AML_GSE165656_GSM5047700</td><td>0.01369863</td><td>1</td><td>intermediate_CD8T_Low         </td></tr>\n",
       "\t<tr><th scope=row>AML_GSE165656_GSM5047703</th><td>AML_GSE165656_GSM5047703</td><td>0.06027397</td><td>1</td><td>intermediate_CD8T_Low         </td></tr>\n",
       "\t<tr><th scope=row>AML_GSE165656_GSM5047706</th><td>AML_GSE165656_GSM5047706</td><td>1.20000000</td><td>0</td><td>Mature_CD8T_Low               </td></tr>\n",
       "\t<tr><th scope=row>AML_GSE165656_GSM5047708</th><td>AML_GSE165656_GSM5047708</td><td>0.00000000</td><td>0</td><td>Mature_CD8T_Low               </td></tr>\n",
       "\t<tr><th scope=row>AML_GSE165656_GSM5047711</th><td>AML_GSE165656_GSM5047711</td><td>0.16986301</td><td>1</td><td>intermediate_CD8T_Low         </td></tr>\n",
       "\t<tr><th scope=row>⋮</th><td>⋮</td><td>⋮</td><td>⋮</td><td>⋮</td></tr>\n",
       "\t<tr><th scope=row>MDS_GSE58831_GSM1420441</th><td>MDS_GSE58831_GSM1420441</td><td>0.06301370</td><td>0</td><td>Prog_CD8_Int_CD4_High  </td></tr>\n",
       "\t<tr><th scope=row>MDS_GSE58831_GSM1420442</th><td>MDS_GSE58831_GSM1420442</td><td>0.09863014</td><td>0</td><td>Prog_CD8_Int_CD4_High  </td></tr>\n",
       "\t<tr><th scope=row>MDS_GSE58831_GSM1420446</th><td>MDS_GSE58831_GSM1420446</td><td>0.09863014</td><td>0</td><td>Prog_CD8_Int_CD4_High  </td></tr>\n",
       "\t<tr><th scope=row>MDS_GSE58831_GSM1420455</th><td>MDS_GSE58831_GSM1420455</td><td>0.04109589</td><td>0</td><td>Prog_CD8_Int_CD4_High  </td></tr>\n",
       "\t<tr><th scope=row>MDS_GSE58831_GSM1420456</th><td>MDS_GSE58831_GSM1420456</td><td>1.13424658</td><td>1</td><td>Prog_CD8_Int_CD4_High  </td></tr>\n",
       "\t<tr><th scope=row>MDS_GSE58831_GSM1420457</th><td>MDS_GSE58831_GSM1420457</td><td>1.25479452</td><td>0</td><td>Prog_CD8_Int_CD4_High  </td></tr>\n",
       "\t<tr><th scope=row>MDS_GSE58831_GSM1420459</th><td>MDS_GSE58831_GSM1420459</td><td>0.57534247</td><td>1</td><td>Prog_CD8_Int_CD4_High  </td></tr>\n",
       "\t<tr><th scope=row>MDS_GSE58831_GSM1420460</th><td>MDS_GSE58831_GSM1420460</td><td>0.06027397</td><td>0</td><td>Prog_CD8_Int_CD4_High  </td></tr>\n",
       "\t<tr><th scope=row>MDS_GSE58831_GSM1420461</th><td>MDS_GSE58831_GSM1420461</td><td>0.03835616</td><td>0</td><td>Prog_CD8_Int_CD4_High  </td></tr>\n",
       "\t<tr><th scope=row>MDS_GSE58831_GSM1420464</th><td>MDS_GSE58831_GSM1420464</td><td>2.39452055</td><td>0</td><td>Mature_CD8_Int_CD4_High</td></tr>\n",
       "\t<tr><th scope=row>MDS_GSE58831_GSM1420467</th><td>MDS_GSE58831_GSM1420467</td><td>1.43835616</td><td>0</td><td>Prog_CD8_Int_CD4_High  </td></tr>\n",
       "\t<tr><th scope=row>MDS_GSE58831_GSM1420470</th><td>MDS_GSE58831_GSM1420470</td><td>2.44383562</td><td>0</td><td>Prog_CD8_Int_CD4_High  </td></tr>\n",
       "\t<tr><th scope=row>MDS_GSE58831_GSM1420473</th><td>MDS_GSE58831_GSM1420473</td><td>0.61095890</td><td>0</td><td>Prog_CD8_Int_CD4_High  </td></tr>\n",
       "\t<tr><th scope=row>MDS_GSE58831_GSM1420477</th><td>MDS_GSE58831_GSM1420477</td><td>1.15342466</td><td>0</td><td>Prog_CD8_Int_CD4_High  </td></tr>\n",
       "\t<tr><th scope=row>MDS_GSE58831_GSM1420480</th><td>MDS_GSE58831_GSM1420480</td><td>3.17260274</td><td>0</td><td>Prog_CD8_Int_CD4_High  </td></tr>\n",
       "\t<tr><th scope=row>MDS_GSE58831_GSM1420488</th><td>MDS_GSE58831_GSM1420488</td><td>0.39452055</td><td>0</td><td>Prog_CD8_Int_CD4_High  </td></tr>\n",
       "\t<tr><th scope=row>MDS_GSE58831_GSM1420489</th><td>MDS_GSE58831_GSM1420489</td><td>0.76438356</td><td>0</td><td>Prog_CD8_Int_CD4_High  </td></tr>\n",
       "\t<tr><th scope=row>MDS_GSE58831_GSM1420516</th><td>MDS_GSE58831_GSM1420516</td><td>5.61369863</td><td>0</td><td>Mature_CD8T_Low        </td></tr>\n",
       "\t<tr><th scope=row>MDS_GSE58831_GSM1420519</th><td>MDS_GSE58831_GSM1420519</td><td>1.89589041</td><td>1</td><td>Prog_CD8_Int_CD4_High  </td></tr>\n",
       "\t<tr><th scope=row>MDS_GSE58831_GSM1420521</th><td>MDS_GSE58831_GSM1420521</td><td>3.34520548</td><td>0</td><td>Prog_CD8_Int_CD4_High  </td></tr>\n",
       "\t<tr><th scope=row>MDS_GSE58831_GSM1420522</th><td>MDS_GSE58831_GSM1420522</td><td>7.09589041</td><td>0</td><td>Prog_CD8_Int_CD4_High  </td></tr>\n",
       "\t<tr><th scope=row>MDS_GSE58831_GSM1420523</th><td>MDS_GSE58831_GSM1420523</td><td>6.06849315</td><td>0</td><td>Prog_CD8_Int_CD4_High  </td></tr>\n",
       "\t<tr><th scope=row>MDS_GSE58831_GSM1420524</th><td>MDS_GSE58831_GSM1420524</td><td>6.73424658</td><td>0</td><td>Prog_CD8_Int_CD4_High  </td></tr>\n",
       "\t<tr><th scope=row>MDS_GSE58831_GSM1420529</th><td>MDS_GSE58831_GSM1420529</td><td>0.78630137</td><td>1</td><td>Prog_CD8_Int_CD4_High  </td></tr>\n",
       "\t<tr><th scope=row>MDS_GSE58831_GSM1420532</th><td>MDS_GSE58831_GSM1420532</td><td>1.81643836</td><td>1</td><td>Prog_CD8_Int_CD4_High  </td></tr>\n",
       "\t<tr><th scope=row>MDS_GSE58831_GSM1420533</th><td>MDS_GSE58831_GSM1420533</td><td>2.38082192</td><td>1</td><td>Prog_CD8_Int_CD4_High  </td></tr>\n",
       "\t<tr><th scope=row>MDS_GSE58831_GSM1420534</th><td>MDS_GSE58831_GSM1420534</td><td>7.34794521</td><td>1</td><td>Prog_CD8_Int_CD4_High  </td></tr>\n",
       "\t<tr><th scope=row>MDS_GSE58831_GSM1420541</th><td>MDS_GSE58831_GSM1420541</td><td>3.02465753</td><td>1</td><td>Prog_CD8_Int_CD4_High  </td></tr>\n",
       "\t<tr><th scope=row>MDS_GSE58831_GSM1420544</th><td>MDS_GSE58831_GSM1420544</td><td>1.36712329</td><td>1</td><td>Prog_CD8_Int_CD4_High  </td></tr>\n",
       "\t<tr><th scope=row>MDS_GSE58831_GSM1420545</th><td>MDS_GSE58831_GSM1420545</td><td>1.94520548</td><td>1</td><td>Prog_CD8_Int_CD4_High  </td></tr>\n",
       "</tbody>\n",
       "</table>\n"
      ],
      "text/latex": [
       "A data.frame: 126 × 4\n",
       "\\begin{tabular}{r|llll}\n",
       "  & Sample\\_ID & Survival\\_days & Status\\_Cox & tumor\\_to\\_immune\\_mark\\\\\n",
       "  & <chr> & <dbl> & <int> & <fct>\\\\\n",
       "\\hline\n",
       "\tAML\\_Beat\\_13\\_00163 & AML\\_Beat\\_13\\_00163        & 1.09589041 & 0 & GMP\\_CD8\\_Int\\_CD4\\_High          \\\\\n",
       "\tAML\\_Beat\\_13\\_00232 & AML\\_Beat\\_13\\_00232        & 2.74246575 & 0 & GMP\\_CD8T\\_Int\\_CD4T\\_Low         \\\\\n",
       "\tAML\\_Beat\\_13\\_00658 & AML\\_Beat\\_13\\_00658        & 0.55068493 & 0 & GMP\\_CD8T\\_Int\\_CD4T\\_Low         \\\\\n",
       "\tAML\\_Beat\\_14\\_00034 & AML\\_Beat\\_14\\_00034        & 2.48219178 & 0 & Mature\\_CD8T\\_Int\\_CD4T\\_Low      \\\\\n",
       "\tAML\\_Beat\\_14\\_00228 & AML\\_Beat\\_14\\_00228        & 2.15890411 & 0 & Primitive\\_CD8T\\_Low            \\\\\n",
       "\tAML\\_Beat\\_14\\_00464 & AML\\_Beat\\_14\\_00464        & 1.24109589 & 0 & Primitive\\_CD8T\\_Int\\_CD4T\\_Low   \\\\\n",
       "\tAML\\_Beat\\_14\\_00787 & AML\\_Beat\\_14\\_00787        & 1.21095890 & 0 & Mature\\_CD8T\\_Int\\_CD4T\\_Low      \\\\\n",
       "\tAML\\_Beat\\_15\\_00377 & AML\\_Beat\\_15\\_00377        & 1.55890411 & 0 & GMP\\_CD8T\\_Int\\_CD4T\\_Low         \\\\\n",
       "\tAML\\_Beat\\_15\\_00680 & AML\\_Beat\\_15\\_00680        & 1.22465753 & 0 & Primitive\\_CD8T\\_Int\\_CD4T\\_Low   \\\\\n",
       "\tAML\\_Beat\\_15\\_00702 & AML\\_Beat\\_15\\_00702        & 0.51506849 & 0 & GMP\\_CD8T\\_Int\\_CD4T\\_Low         \\\\\n",
       "\tAML\\_Beat\\_15\\_00717 & AML\\_Beat\\_15\\_00717        & 0.33698630 & 0 & Primitive\\_CD8T\\_Int\\_CD4T\\_Low   \\\\\n",
       "\tAML\\_Beat\\_15\\_00734 & AML\\_Beat\\_15\\_00734        & 0.55342466 & 0 & Primitive\\_CD8T\\_Int\\_CD4T\\_Low   \\\\\n",
       "\tAML\\_Beat\\_15\\_00979 & AML\\_Beat\\_15\\_00979        & 0.87397260 & 1 & Primitive\\_CD8T\\_Int\\_CD4T\\_Low   \\\\\n",
       "\tAML\\_Beat\\_16\\_00056 & AML\\_Beat\\_16\\_00056        & 0.55068493 & 0 & Mature\\_CD8T\\_Int\\_CD4T\\_Low      \\\\\n",
       "\tAML\\_Beat\\_16\\_00102 & AML\\_Beat\\_16\\_00102        & 0.26027397 & 0 & GMP\\_CD8T\\_Low                  \\\\\n",
       "\tAML\\_Beat\\_16\\_00220 & AML\\_Beat\\_16\\_00220        & 0.08493151 & 0 & GMP\\_CD8T\\_Int\\_CD4T\\_Low         \\\\\n",
       "\tAML\\_Beat\\_16\\_00289 & AML\\_Beat\\_16\\_00289        & 0.38904110 & 1 & Mature\\_CD8T\\_Int\\_CD4T\\_Low      \\\\\n",
       "\tAML\\_Beat\\_16\\_00344 & AML\\_Beat\\_16\\_00344        & 0.51506849 & 0 & GMP\\_CD8T\\_Int\\_CD4T\\_Low         \\\\\n",
       "\tAML\\_Beat\\_16\\_00406 & AML\\_Beat\\_16\\_00406        & 0.41369863 & 0 & GMP\\_CD8T\\_Int\\_CD4T\\_Low         \\\\\n",
       "\tAML\\_Beat\\_16\\_00510 & AML\\_Beat\\_16\\_00510        & 0.79726027 & 1 & Mature\\_CD8T\\_Int\\_CD4T\\_Low      \\\\\n",
       "\tAML\\_Beat\\_16\\_00525 & AML\\_Beat\\_16\\_00525        & 0.96438356 & 0 & Primitive\\_CD8T\\_Int\\_CD4T\\_Low   \\\\\n",
       "\tAML\\_Beat\\_16\\_00815 & AML\\_Beat\\_16\\_00815        & 0.53972603 & 0 & Primitive\\_CD8T\\_Int\\_CD4T\\_Low   \\\\\n",
       "\tAML\\_Beat\\_16\\_01049 & AML\\_Beat\\_16\\_01049        & 1.01917808 & 1 & intermediate\\_CD8T\\_Int\\_CD4T\\_Low\\\\\n",
       "\tAML\\_Beat\\_16\\_01121 & AML\\_Beat\\_16\\_01121        & 0.50410959 & 0 & Mature\\_CD8T\\_Int\\_CD4T\\_Low      \\\\\n",
       "\tAML\\_GSE165656\\_GSM5047693 & AML\\_GSE165656\\_GSM5047693 & 0.06027397 & 1 & Mature\\_CD8T\\_Low               \\\\\n",
       "\tAML\\_GSE165656\\_GSM5047700 & AML\\_GSE165656\\_GSM5047700 & 0.01369863 & 1 & intermediate\\_CD8T\\_Low         \\\\\n",
       "\tAML\\_GSE165656\\_GSM5047703 & AML\\_GSE165656\\_GSM5047703 & 0.06027397 & 1 & intermediate\\_CD8T\\_Low         \\\\\n",
       "\tAML\\_GSE165656\\_GSM5047706 & AML\\_GSE165656\\_GSM5047706 & 1.20000000 & 0 & Mature\\_CD8T\\_Low               \\\\\n",
       "\tAML\\_GSE165656\\_GSM5047708 & AML\\_GSE165656\\_GSM5047708 & 0.00000000 & 0 & Mature\\_CD8T\\_Low               \\\\\n",
       "\tAML\\_GSE165656\\_GSM5047711 & AML\\_GSE165656\\_GSM5047711 & 0.16986301 & 1 & intermediate\\_CD8T\\_Low         \\\\\n",
       "\t⋮ & ⋮ & ⋮ & ⋮ & ⋮\\\\\n",
       "\tMDS\\_GSE58831\\_GSM1420441 & MDS\\_GSE58831\\_GSM1420441 & 0.06301370 & 0 & Prog\\_CD8\\_Int\\_CD4\\_High  \\\\\n",
       "\tMDS\\_GSE58831\\_GSM1420442 & MDS\\_GSE58831\\_GSM1420442 & 0.09863014 & 0 & Prog\\_CD8\\_Int\\_CD4\\_High  \\\\\n",
       "\tMDS\\_GSE58831\\_GSM1420446 & MDS\\_GSE58831\\_GSM1420446 & 0.09863014 & 0 & Prog\\_CD8\\_Int\\_CD4\\_High  \\\\\n",
       "\tMDS\\_GSE58831\\_GSM1420455 & MDS\\_GSE58831\\_GSM1420455 & 0.04109589 & 0 & Prog\\_CD8\\_Int\\_CD4\\_High  \\\\\n",
       "\tMDS\\_GSE58831\\_GSM1420456 & MDS\\_GSE58831\\_GSM1420456 & 1.13424658 & 1 & Prog\\_CD8\\_Int\\_CD4\\_High  \\\\\n",
       "\tMDS\\_GSE58831\\_GSM1420457 & MDS\\_GSE58831\\_GSM1420457 & 1.25479452 & 0 & Prog\\_CD8\\_Int\\_CD4\\_High  \\\\\n",
       "\tMDS\\_GSE58831\\_GSM1420459 & MDS\\_GSE58831\\_GSM1420459 & 0.57534247 & 1 & Prog\\_CD8\\_Int\\_CD4\\_High  \\\\\n",
       "\tMDS\\_GSE58831\\_GSM1420460 & MDS\\_GSE58831\\_GSM1420460 & 0.06027397 & 0 & Prog\\_CD8\\_Int\\_CD4\\_High  \\\\\n",
       "\tMDS\\_GSE58831\\_GSM1420461 & MDS\\_GSE58831\\_GSM1420461 & 0.03835616 & 0 & Prog\\_CD8\\_Int\\_CD4\\_High  \\\\\n",
       "\tMDS\\_GSE58831\\_GSM1420464 & MDS\\_GSE58831\\_GSM1420464 & 2.39452055 & 0 & Mature\\_CD8\\_Int\\_CD4\\_High\\\\\n",
       "\tMDS\\_GSE58831\\_GSM1420467 & MDS\\_GSE58831\\_GSM1420467 & 1.43835616 & 0 & Prog\\_CD8\\_Int\\_CD4\\_High  \\\\\n",
       "\tMDS\\_GSE58831\\_GSM1420470 & MDS\\_GSE58831\\_GSM1420470 & 2.44383562 & 0 & Prog\\_CD8\\_Int\\_CD4\\_High  \\\\\n",
       "\tMDS\\_GSE58831\\_GSM1420473 & MDS\\_GSE58831\\_GSM1420473 & 0.61095890 & 0 & Prog\\_CD8\\_Int\\_CD4\\_High  \\\\\n",
       "\tMDS\\_GSE58831\\_GSM1420477 & MDS\\_GSE58831\\_GSM1420477 & 1.15342466 & 0 & Prog\\_CD8\\_Int\\_CD4\\_High  \\\\\n",
       "\tMDS\\_GSE58831\\_GSM1420480 & MDS\\_GSE58831\\_GSM1420480 & 3.17260274 & 0 & Prog\\_CD8\\_Int\\_CD4\\_High  \\\\\n",
       "\tMDS\\_GSE58831\\_GSM1420488 & MDS\\_GSE58831\\_GSM1420488 & 0.39452055 & 0 & Prog\\_CD8\\_Int\\_CD4\\_High  \\\\\n",
       "\tMDS\\_GSE58831\\_GSM1420489 & MDS\\_GSE58831\\_GSM1420489 & 0.76438356 & 0 & Prog\\_CD8\\_Int\\_CD4\\_High  \\\\\n",
       "\tMDS\\_GSE58831\\_GSM1420516 & MDS\\_GSE58831\\_GSM1420516 & 5.61369863 & 0 & Mature\\_CD8T\\_Low        \\\\\n",
       "\tMDS\\_GSE58831\\_GSM1420519 & MDS\\_GSE58831\\_GSM1420519 & 1.89589041 & 1 & Prog\\_CD8\\_Int\\_CD4\\_High  \\\\\n",
       "\tMDS\\_GSE58831\\_GSM1420521 & MDS\\_GSE58831\\_GSM1420521 & 3.34520548 & 0 & Prog\\_CD8\\_Int\\_CD4\\_High  \\\\\n",
       "\tMDS\\_GSE58831\\_GSM1420522 & MDS\\_GSE58831\\_GSM1420522 & 7.09589041 & 0 & Prog\\_CD8\\_Int\\_CD4\\_High  \\\\\n",
       "\tMDS\\_GSE58831\\_GSM1420523 & MDS\\_GSE58831\\_GSM1420523 & 6.06849315 & 0 & Prog\\_CD8\\_Int\\_CD4\\_High  \\\\\n",
       "\tMDS\\_GSE58831\\_GSM1420524 & MDS\\_GSE58831\\_GSM1420524 & 6.73424658 & 0 & Prog\\_CD8\\_Int\\_CD4\\_High  \\\\\n",
       "\tMDS\\_GSE58831\\_GSM1420529 & MDS\\_GSE58831\\_GSM1420529 & 0.78630137 & 1 & Prog\\_CD8\\_Int\\_CD4\\_High  \\\\\n",
       "\tMDS\\_GSE58831\\_GSM1420532 & MDS\\_GSE58831\\_GSM1420532 & 1.81643836 & 1 & Prog\\_CD8\\_Int\\_CD4\\_High  \\\\\n",
       "\tMDS\\_GSE58831\\_GSM1420533 & MDS\\_GSE58831\\_GSM1420533 & 2.38082192 & 1 & Prog\\_CD8\\_Int\\_CD4\\_High  \\\\\n",
       "\tMDS\\_GSE58831\\_GSM1420534 & MDS\\_GSE58831\\_GSM1420534 & 7.34794521 & 1 & Prog\\_CD8\\_Int\\_CD4\\_High  \\\\\n",
       "\tMDS\\_GSE58831\\_GSM1420541 & MDS\\_GSE58831\\_GSM1420541 & 3.02465753 & 1 & Prog\\_CD8\\_Int\\_CD4\\_High  \\\\\n",
       "\tMDS\\_GSE58831\\_GSM1420544 & MDS\\_GSE58831\\_GSM1420544 & 1.36712329 & 1 & Prog\\_CD8\\_Int\\_CD4\\_High  \\\\\n",
       "\tMDS\\_GSE58831\\_GSM1420545 & MDS\\_GSE58831\\_GSM1420545 & 1.94520548 & 1 & Prog\\_CD8\\_Int\\_CD4\\_High  \\\\\n",
       "\\end{tabular}\n"
      ],
      "text/markdown": [
       "\n",
       "A data.frame: 126 × 4\n",
       "\n",
       "| <!--/--> | Sample_ID &lt;chr&gt; | Survival_days &lt;dbl&gt; | Status_Cox &lt;int&gt; | tumor_to_immune_mark &lt;fct&gt; |\n",
       "|---|---|---|---|---|\n",
       "| AML_Beat_13_00163 | AML_Beat_13_00163        | 1.09589041 | 0 | GMP_CD8_Int_CD4_High           |\n",
       "| AML_Beat_13_00232 | AML_Beat_13_00232        | 2.74246575 | 0 | GMP_CD8T_Int_CD4T_Low          |\n",
       "| AML_Beat_13_00658 | AML_Beat_13_00658        | 0.55068493 | 0 | GMP_CD8T_Int_CD4T_Low          |\n",
       "| AML_Beat_14_00034 | AML_Beat_14_00034        | 2.48219178 | 0 | Mature_CD8T_Int_CD4T_Low       |\n",
       "| AML_Beat_14_00228 | AML_Beat_14_00228        | 2.15890411 | 0 | Primitive_CD8T_Low             |\n",
       "| AML_Beat_14_00464 | AML_Beat_14_00464        | 1.24109589 | 0 | Primitive_CD8T_Int_CD4T_Low    |\n",
       "| AML_Beat_14_00787 | AML_Beat_14_00787        | 1.21095890 | 0 | Mature_CD8T_Int_CD4T_Low       |\n",
       "| AML_Beat_15_00377 | AML_Beat_15_00377        | 1.55890411 | 0 | GMP_CD8T_Int_CD4T_Low          |\n",
       "| AML_Beat_15_00680 | AML_Beat_15_00680        | 1.22465753 | 0 | Primitive_CD8T_Int_CD4T_Low    |\n",
       "| AML_Beat_15_00702 | AML_Beat_15_00702        | 0.51506849 | 0 | GMP_CD8T_Int_CD4T_Low          |\n",
       "| AML_Beat_15_00717 | AML_Beat_15_00717        | 0.33698630 | 0 | Primitive_CD8T_Int_CD4T_Low    |\n",
       "| AML_Beat_15_00734 | AML_Beat_15_00734        | 0.55342466 | 0 | Primitive_CD8T_Int_CD4T_Low    |\n",
       "| AML_Beat_15_00979 | AML_Beat_15_00979        | 0.87397260 | 1 | Primitive_CD8T_Int_CD4T_Low    |\n",
       "| AML_Beat_16_00056 | AML_Beat_16_00056        | 0.55068493 | 0 | Mature_CD8T_Int_CD4T_Low       |\n",
       "| AML_Beat_16_00102 | AML_Beat_16_00102        | 0.26027397 | 0 | GMP_CD8T_Low                   |\n",
       "| AML_Beat_16_00220 | AML_Beat_16_00220        | 0.08493151 | 0 | GMP_CD8T_Int_CD4T_Low          |\n",
       "| AML_Beat_16_00289 | AML_Beat_16_00289        | 0.38904110 | 1 | Mature_CD8T_Int_CD4T_Low       |\n",
       "| AML_Beat_16_00344 | AML_Beat_16_00344        | 0.51506849 | 0 | GMP_CD8T_Int_CD4T_Low          |\n",
       "| AML_Beat_16_00406 | AML_Beat_16_00406        | 0.41369863 | 0 | GMP_CD8T_Int_CD4T_Low          |\n",
       "| AML_Beat_16_00510 | AML_Beat_16_00510        | 0.79726027 | 1 | Mature_CD8T_Int_CD4T_Low       |\n",
       "| AML_Beat_16_00525 | AML_Beat_16_00525        | 0.96438356 | 0 | Primitive_CD8T_Int_CD4T_Low    |\n",
       "| AML_Beat_16_00815 | AML_Beat_16_00815        | 0.53972603 | 0 | Primitive_CD8T_Int_CD4T_Low    |\n",
       "| AML_Beat_16_01049 | AML_Beat_16_01049        | 1.01917808 | 1 | intermediate_CD8T_Int_CD4T_Low |\n",
       "| AML_Beat_16_01121 | AML_Beat_16_01121        | 0.50410959 | 0 | Mature_CD8T_Int_CD4T_Low       |\n",
       "| AML_GSE165656_GSM5047693 | AML_GSE165656_GSM5047693 | 0.06027397 | 1 | Mature_CD8T_Low                |\n",
       "| AML_GSE165656_GSM5047700 | AML_GSE165656_GSM5047700 | 0.01369863 | 1 | intermediate_CD8T_Low          |\n",
       "| AML_GSE165656_GSM5047703 | AML_GSE165656_GSM5047703 | 0.06027397 | 1 | intermediate_CD8T_Low          |\n",
       "| AML_GSE165656_GSM5047706 | AML_GSE165656_GSM5047706 | 1.20000000 | 0 | Mature_CD8T_Low                |\n",
       "| AML_GSE165656_GSM5047708 | AML_GSE165656_GSM5047708 | 0.00000000 | 0 | Mature_CD8T_Low                |\n",
       "| AML_GSE165656_GSM5047711 | AML_GSE165656_GSM5047711 | 0.16986301 | 1 | intermediate_CD8T_Low          |\n",
       "| ⋮ | ⋮ | ⋮ | ⋮ | ⋮ |\n",
       "| MDS_GSE58831_GSM1420441 | MDS_GSE58831_GSM1420441 | 0.06301370 | 0 | Prog_CD8_Int_CD4_High   |\n",
       "| MDS_GSE58831_GSM1420442 | MDS_GSE58831_GSM1420442 | 0.09863014 | 0 | Prog_CD8_Int_CD4_High   |\n",
       "| MDS_GSE58831_GSM1420446 | MDS_GSE58831_GSM1420446 | 0.09863014 | 0 | Prog_CD8_Int_CD4_High   |\n",
       "| MDS_GSE58831_GSM1420455 | MDS_GSE58831_GSM1420455 | 0.04109589 | 0 | Prog_CD8_Int_CD4_High   |\n",
       "| MDS_GSE58831_GSM1420456 | MDS_GSE58831_GSM1420456 | 1.13424658 | 1 | Prog_CD8_Int_CD4_High   |\n",
       "| MDS_GSE58831_GSM1420457 | MDS_GSE58831_GSM1420457 | 1.25479452 | 0 | Prog_CD8_Int_CD4_High   |\n",
       "| MDS_GSE58831_GSM1420459 | MDS_GSE58831_GSM1420459 | 0.57534247 | 1 | Prog_CD8_Int_CD4_High   |\n",
       "| MDS_GSE58831_GSM1420460 | MDS_GSE58831_GSM1420460 | 0.06027397 | 0 | Prog_CD8_Int_CD4_High   |\n",
       "| MDS_GSE58831_GSM1420461 | MDS_GSE58831_GSM1420461 | 0.03835616 | 0 | Prog_CD8_Int_CD4_High   |\n",
       "| MDS_GSE58831_GSM1420464 | MDS_GSE58831_GSM1420464 | 2.39452055 | 0 | Mature_CD8_Int_CD4_High |\n",
       "| MDS_GSE58831_GSM1420467 | MDS_GSE58831_GSM1420467 | 1.43835616 | 0 | Prog_CD8_Int_CD4_High   |\n",
       "| MDS_GSE58831_GSM1420470 | MDS_GSE58831_GSM1420470 | 2.44383562 | 0 | Prog_CD8_Int_CD4_High   |\n",
       "| MDS_GSE58831_GSM1420473 | MDS_GSE58831_GSM1420473 | 0.61095890 | 0 | Prog_CD8_Int_CD4_High   |\n",
       "| MDS_GSE58831_GSM1420477 | MDS_GSE58831_GSM1420477 | 1.15342466 | 0 | Prog_CD8_Int_CD4_High   |\n",
       "| MDS_GSE58831_GSM1420480 | MDS_GSE58831_GSM1420480 | 3.17260274 | 0 | Prog_CD8_Int_CD4_High   |\n",
       "| MDS_GSE58831_GSM1420488 | MDS_GSE58831_GSM1420488 | 0.39452055 | 0 | Prog_CD8_Int_CD4_High   |\n",
       "| MDS_GSE58831_GSM1420489 | MDS_GSE58831_GSM1420489 | 0.76438356 | 0 | Prog_CD8_Int_CD4_High   |\n",
       "| MDS_GSE58831_GSM1420516 | MDS_GSE58831_GSM1420516 | 5.61369863 | 0 | Mature_CD8T_Low         |\n",
       "| MDS_GSE58831_GSM1420519 | MDS_GSE58831_GSM1420519 | 1.89589041 | 1 | Prog_CD8_Int_CD4_High   |\n",
       "| MDS_GSE58831_GSM1420521 | MDS_GSE58831_GSM1420521 | 3.34520548 | 0 | Prog_CD8_Int_CD4_High   |\n",
       "| MDS_GSE58831_GSM1420522 | MDS_GSE58831_GSM1420522 | 7.09589041 | 0 | Prog_CD8_Int_CD4_High   |\n",
       "| MDS_GSE58831_GSM1420523 | MDS_GSE58831_GSM1420523 | 6.06849315 | 0 | Prog_CD8_Int_CD4_High   |\n",
       "| MDS_GSE58831_GSM1420524 | MDS_GSE58831_GSM1420524 | 6.73424658 | 0 | Prog_CD8_Int_CD4_High   |\n",
       "| MDS_GSE58831_GSM1420529 | MDS_GSE58831_GSM1420529 | 0.78630137 | 1 | Prog_CD8_Int_CD4_High   |\n",
       "| MDS_GSE58831_GSM1420532 | MDS_GSE58831_GSM1420532 | 1.81643836 | 1 | Prog_CD8_Int_CD4_High   |\n",
       "| MDS_GSE58831_GSM1420533 | MDS_GSE58831_GSM1420533 | 2.38082192 | 1 | Prog_CD8_Int_CD4_High   |\n",
       "| MDS_GSE58831_GSM1420534 | MDS_GSE58831_GSM1420534 | 7.34794521 | 1 | Prog_CD8_Int_CD4_High   |\n",
       "| MDS_GSE58831_GSM1420541 | MDS_GSE58831_GSM1420541 | 3.02465753 | 1 | Prog_CD8_Int_CD4_High   |\n",
       "| MDS_GSE58831_GSM1420544 | MDS_GSE58831_GSM1420544 | 1.36712329 | 1 | Prog_CD8_Int_CD4_High   |\n",
       "| MDS_GSE58831_GSM1420545 | MDS_GSE58831_GSM1420545 | 1.94520548 | 1 | Prog_CD8_Int_CD4_High   |\n",
       "\n"
      ],
      "text/plain": [
       "                         Sample_ID                Survival_days Status_Cox\n",
       "AML_Beat_13_00163        AML_Beat_13_00163        1.09589041    0         \n",
       "AML_Beat_13_00232        AML_Beat_13_00232        2.74246575    0         \n",
       "AML_Beat_13_00658        AML_Beat_13_00658        0.55068493    0         \n",
       "AML_Beat_14_00034        AML_Beat_14_00034        2.48219178    0         \n",
       "AML_Beat_14_00228        AML_Beat_14_00228        2.15890411    0         \n",
       "AML_Beat_14_00464        AML_Beat_14_00464        1.24109589    0         \n",
       "AML_Beat_14_00787        AML_Beat_14_00787        1.21095890    0         \n",
       "AML_Beat_15_00377        AML_Beat_15_00377        1.55890411    0         \n",
       "AML_Beat_15_00680        AML_Beat_15_00680        1.22465753    0         \n",
       "AML_Beat_15_00702        AML_Beat_15_00702        0.51506849    0         \n",
       "AML_Beat_15_00717        AML_Beat_15_00717        0.33698630    0         \n",
       "AML_Beat_15_00734        AML_Beat_15_00734        0.55342466    0         \n",
       "AML_Beat_15_00979        AML_Beat_15_00979        0.87397260    1         \n",
       "AML_Beat_16_00056        AML_Beat_16_00056        0.55068493    0         \n",
       "AML_Beat_16_00102        AML_Beat_16_00102        0.26027397    0         \n",
       "AML_Beat_16_00220        AML_Beat_16_00220        0.08493151    0         \n",
       "AML_Beat_16_00289        AML_Beat_16_00289        0.38904110    1         \n",
       "AML_Beat_16_00344        AML_Beat_16_00344        0.51506849    0         \n",
       "AML_Beat_16_00406        AML_Beat_16_00406        0.41369863    0         \n",
       "AML_Beat_16_00510        AML_Beat_16_00510        0.79726027    1         \n",
       "AML_Beat_16_00525        AML_Beat_16_00525        0.96438356    0         \n",
       "AML_Beat_16_00815        AML_Beat_16_00815        0.53972603    0         \n",
       "AML_Beat_16_01049        AML_Beat_16_01049        1.01917808    1         \n",
       "AML_Beat_16_01121        AML_Beat_16_01121        0.50410959    0         \n",
       "AML_GSE165656_GSM5047693 AML_GSE165656_GSM5047693 0.06027397    1         \n",
       "AML_GSE165656_GSM5047700 AML_GSE165656_GSM5047700 0.01369863    1         \n",
       "AML_GSE165656_GSM5047703 AML_GSE165656_GSM5047703 0.06027397    1         \n",
       "AML_GSE165656_GSM5047706 AML_GSE165656_GSM5047706 1.20000000    0         \n",
       "AML_GSE165656_GSM5047708 AML_GSE165656_GSM5047708 0.00000000    0         \n",
       "AML_GSE165656_GSM5047711 AML_GSE165656_GSM5047711 0.16986301    1         \n",
       "⋮                        ⋮                        ⋮             ⋮         \n",
       "MDS_GSE58831_GSM1420441  MDS_GSE58831_GSM1420441  0.06301370    0         \n",
       "MDS_GSE58831_GSM1420442  MDS_GSE58831_GSM1420442  0.09863014    0         \n",
       "MDS_GSE58831_GSM1420446  MDS_GSE58831_GSM1420446  0.09863014    0         \n",
       "MDS_GSE58831_GSM1420455  MDS_GSE58831_GSM1420455  0.04109589    0         \n",
       "MDS_GSE58831_GSM1420456  MDS_GSE58831_GSM1420456  1.13424658    1         \n",
       "MDS_GSE58831_GSM1420457  MDS_GSE58831_GSM1420457  1.25479452    0         \n",
       "MDS_GSE58831_GSM1420459  MDS_GSE58831_GSM1420459  0.57534247    1         \n",
       "MDS_GSE58831_GSM1420460  MDS_GSE58831_GSM1420460  0.06027397    0         \n",
       "MDS_GSE58831_GSM1420461  MDS_GSE58831_GSM1420461  0.03835616    0         \n",
       "MDS_GSE58831_GSM1420464  MDS_GSE58831_GSM1420464  2.39452055    0         \n",
       "MDS_GSE58831_GSM1420467  MDS_GSE58831_GSM1420467  1.43835616    0         \n",
       "MDS_GSE58831_GSM1420470  MDS_GSE58831_GSM1420470  2.44383562    0         \n",
       "MDS_GSE58831_GSM1420473  MDS_GSE58831_GSM1420473  0.61095890    0         \n",
       "MDS_GSE58831_GSM1420477  MDS_GSE58831_GSM1420477  1.15342466    0         \n",
       "MDS_GSE58831_GSM1420480  MDS_GSE58831_GSM1420480  3.17260274    0         \n",
       "MDS_GSE58831_GSM1420488  MDS_GSE58831_GSM1420488  0.39452055    0         \n",
       "MDS_GSE58831_GSM1420489  MDS_GSE58831_GSM1420489  0.76438356    0         \n",
       "MDS_GSE58831_GSM1420516  MDS_GSE58831_GSM1420516  5.61369863    0         \n",
       "MDS_GSE58831_GSM1420519  MDS_GSE58831_GSM1420519  1.89589041    1         \n",
       "MDS_GSE58831_GSM1420521  MDS_GSE58831_GSM1420521  3.34520548    0         \n",
       "MDS_GSE58831_GSM1420522  MDS_GSE58831_GSM1420522  7.09589041    0         \n",
       "MDS_GSE58831_GSM1420523  MDS_GSE58831_GSM1420523  6.06849315    0         \n",
       "MDS_GSE58831_GSM1420524  MDS_GSE58831_GSM1420524  6.73424658    0         \n",
       "MDS_GSE58831_GSM1420529  MDS_GSE58831_GSM1420529  0.78630137    1         \n",
       "MDS_GSE58831_GSM1420532  MDS_GSE58831_GSM1420532  1.81643836    1         \n",
       "MDS_GSE58831_GSM1420533  MDS_GSE58831_GSM1420533  2.38082192    1         \n",
       "MDS_GSE58831_GSM1420534  MDS_GSE58831_GSM1420534  7.34794521    1         \n",
       "MDS_GSE58831_GSM1420541  MDS_GSE58831_GSM1420541  3.02465753    1         \n",
       "MDS_GSE58831_GSM1420544  MDS_GSE58831_GSM1420544  1.36712329    1         \n",
       "MDS_GSE58831_GSM1420545  MDS_GSE58831_GSM1420545  1.94520548    1         \n",
       "                         tumor_to_immune_mark          \n",
       "AML_Beat_13_00163        GMP_CD8_Int_CD4_High          \n",
       "AML_Beat_13_00232        GMP_CD8T_Int_CD4T_Low         \n",
       "AML_Beat_13_00658        GMP_CD8T_Int_CD4T_Low         \n",
       "AML_Beat_14_00034        Mature_CD8T_Int_CD4T_Low      \n",
       "AML_Beat_14_00228        Primitive_CD8T_Low            \n",
       "AML_Beat_14_00464        Primitive_CD8T_Int_CD4T_Low   \n",
       "AML_Beat_14_00787        Mature_CD8T_Int_CD4T_Low      \n",
       "AML_Beat_15_00377        GMP_CD8T_Int_CD4T_Low         \n",
       "AML_Beat_15_00680        Primitive_CD8T_Int_CD4T_Low   \n",
       "AML_Beat_15_00702        GMP_CD8T_Int_CD4T_Low         \n",
       "AML_Beat_15_00717        Primitive_CD8T_Int_CD4T_Low   \n",
       "AML_Beat_15_00734        Primitive_CD8T_Int_CD4T_Low   \n",
       "AML_Beat_15_00979        Primitive_CD8T_Int_CD4T_Low   \n",
       "AML_Beat_16_00056        Mature_CD8T_Int_CD4T_Low      \n",
       "AML_Beat_16_00102        GMP_CD8T_Low                  \n",
       "AML_Beat_16_00220        GMP_CD8T_Int_CD4T_Low         \n",
       "AML_Beat_16_00289        Mature_CD8T_Int_CD4T_Low      \n",
       "AML_Beat_16_00344        GMP_CD8T_Int_CD4T_Low         \n",
       "AML_Beat_16_00406        GMP_CD8T_Int_CD4T_Low         \n",
       "AML_Beat_16_00510        Mature_CD8T_Int_CD4T_Low      \n",
       "AML_Beat_16_00525        Primitive_CD8T_Int_CD4T_Low   \n",
       "AML_Beat_16_00815        Primitive_CD8T_Int_CD4T_Low   \n",
       "AML_Beat_16_01049        intermediate_CD8T_Int_CD4T_Low\n",
       "AML_Beat_16_01121        Mature_CD8T_Int_CD4T_Low      \n",
       "AML_GSE165656_GSM5047693 Mature_CD8T_Low               \n",
       "AML_GSE165656_GSM5047700 intermediate_CD8T_Low         \n",
       "AML_GSE165656_GSM5047703 intermediate_CD8T_Low         \n",
       "AML_GSE165656_GSM5047706 Mature_CD8T_Low               \n",
       "AML_GSE165656_GSM5047708 Mature_CD8T_Low               \n",
       "AML_GSE165656_GSM5047711 intermediate_CD8T_Low         \n",
       "⋮                        ⋮                             \n",
       "MDS_GSE58831_GSM1420441  Prog_CD8_Int_CD4_High         \n",
       "MDS_GSE58831_GSM1420442  Prog_CD8_Int_CD4_High         \n",
       "MDS_GSE58831_GSM1420446  Prog_CD8_Int_CD4_High         \n",
       "MDS_GSE58831_GSM1420455  Prog_CD8_Int_CD4_High         \n",
       "MDS_GSE58831_GSM1420456  Prog_CD8_Int_CD4_High         \n",
       "MDS_GSE58831_GSM1420457  Prog_CD8_Int_CD4_High         \n",
       "MDS_GSE58831_GSM1420459  Prog_CD8_Int_CD4_High         \n",
       "MDS_GSE58831_GSM1420460  Prog_CD8_Int_CD4_High         \n",
       "MDS_GSE58831_GSM1420461  Prog_CD8_Int_CD4_High         \n",
       "MDS_GSE58831_GSM1420464  Mature_CD8_Int_CD4_High       \n",
       "MDS_GSE58831_GSM1420467  Prog_CD8_Int_CD4_High         \n",
       "MDS_GSE58831_GSM1420470  Prog_CD8_Int_CD4_High         \n",
       "MDS_GSE58831_GSM1420473  Prog_CD8_Int_CD4_High         \n",
       "MDS_GSE58831_GSM1420477  Prog_CD8_Int_CD4_High         \n",
       "MDS_GSE58831_GSM1420480  Prog_CD8_Int_CD4_High         \n",
       "MDS_GSE58831_GSM1420488  Prog_CD8_Int_CD4_High         \n",
       "MDS_GSE58831_GSM1420489  Prog_CD8_Int_CD4_High         \n",
       "MDS_GSE58831_GSM1420516  Mature_CD8T_Low               \n",
       "MDS_GSE58831_GSM1420519  Prog_CD8_Int_CD4_High         \n",
       "MDS_GSE58831_GSM1420521  Prog_CD8_Int_CD4_High         \n",
       "MDS_GSE58831_GSM1420522  Prog_CD8_Int_CD4_High         \n",
       "MDS_GSE58831_GSM1420523  Prog_CD8_Int_CD4_High         \n",
       "MDS_GSE58831_GSM1420524  Prog_CD8_Int_CD4_High         \n",
       "MDS_GSE58831_GSM1420529  Prog_CD8_Int_CD4_High         \n",
       "MDS_GSE58831_GSM1420532  Prog_CD8_Int_CD4_High         \n",
       "MDS_GSE58831_GSM1420533  Prog_CD8_Int_CD4_High         \n",
       "MDS_GSE58831_GSM1420534  Prog_CD8_Int_CD4_High         \n",
       "MDS_GSE58831_GSM1420541  Prog_CD8_Int_CD4_High         \n",
       "MDS_GSE58831_GSM1420544  Prog_CD8_Int_CD4_High         \n",
       "MDS_GSE58831_GSM1420545  Prog_CD8_Int_CD4_High         "
      ]
     },
     "metadata": {},
     "output_type": "display_data"
    }
   ],
   "source": []
  },
  {
   "cell_type": "code",
   "execution_count": 56,
   "metadata": {
    "vscode": {
     "languageId": "r"
    }
   },
   "outputs": [],
   "source": []
  },
  {
   "cell_type": "code",
   "execution_count": 12,
   "metadata": {
    "vscode": {
     "languageId": "r"
    }
   },
   "outputs": [
    {
     "data": {
      "text/html": [
       "<table class=\"dataframe\">\n",
       "<caption>A data.frame: 6 × 4</caption>\n",
       "<thead>\n",
       "\t<tr><th></th><th scope=col>Sample_ID</th><th scope=col>Survival_days</th><th scope=col>Status_Cox</th><th scope=col>tumor_to_immune_mark</th></tr>\n",
       "\t<tr><th></th><th scope=col>&lt;chr&gt;</th><th scope=col>&lt;dbl&gt;</th><th scope=col>&lt;int&gt;</th><th scope=col>&lt;fct&gt;</th></tr>\n",
       "</thead>\n",
       "<tbody>\n",
       "\t<tr><th scope=row>AML_Beat_12_00051</th><td>AML_Beat_12_00051</td><td>1.9369863</td><td>1</td><td>Primitive_CD8T_Int_CD4T_Low</td></tr>\n",
       "\t<tr><th scope=row>AML_Beat_13_00157</th><td>AML_Beat_13_00157</td><td>3.7780822</td><td>0</td><td>Primitive_CD8T_Int_CD4T_Low</td></tr>\n",
       "\t<tr><th scope=row>AML_Beat_13_00195</th><td>AML_Beat_13_00195</td><td>2.6630137</td><td>0</td><td>Primitive_CD8T_Int_CD4T_Low</td></tr>\n",
       "\t<tr><th scope=row>AML_Beat_13_00487</th><td>AML_Beat_13_00487</td><td>0.9808219</td><td>0</td><td>Primitive_CD8T_Int_CD4T_Low</td></tr>\n",
       "\t<tr><th scope=row>AML_Beat_13_00513</th><td>AML_Beat_13_00513</td><td>0.6739726</td><td>1</td><td>Primitive_CD8T_Int_CD4T_Low</td></tr>\n",
       "\t<tr><th scope=row>AML_Beat_14_00001</th><td>AML_Beat_14_00001</td><td>0.5945205</td><td>0</td><td>Mature_CD8T_Low            </td></tr>\n",
       "</tbody>\n",
       "</table>\n"
      ],
      "text/latex": [
       "A data.frame: 6 × 4\n",
       "\\begin{tabular}{r|llll}\n",
       "  & Sample\\_ID & Survival\\_days & Status\\_Cox & tumor\\_to\\_immune\\_mark\\\\\n",
       "  & <chr> & <dbl> & <int> & <fct>\\\\\n",
       "\\hline\n",
       "\tAML\\_Beat\\_12\\_00051 & AML\\_Beat\\_12\\_00051 & 1.9369863 & 1 & Primitive\\_CD8T\\_Int\\_CD4T\\_Low\\\\\n",
       "\tAML\\_Beat\\_13\\_00157 & AML\\_Beat\\_13\\_00157 & 3.7780822 & 0 & Primitive\\_CD8T\\_Int\\_CD4T\\_Low\\\\\n",
       "\tAML\\_Beat\\_13\\_00195 & AML\\_Beat\\_13\\_00195 & 2.6630137 & 0 & Primitive\\_CD8T\\_Int\\_CD4T\\_Low\\\\\n",
       "\tAML\\_Beat\\_13\\_00487 & AML\\_Beat\\_13\\_00487 & 0.9808219 & 0 & Primitive\\_CD8T\\_Int\\_CD4T\\_Low\\\\\n",
       "\tAML\\_Beat\\_13\\_00513 & AML\\_Beat\\_13\\_00513 & 0.6739726 & 1 & Primitive\\_CD8T\\_Int\\_CD4T\\_Low\\\\\n",
       "\tAML\\_Beat\\_14\\_00001 & AML\\_Beat\\_14\\_00001 & 0.5945205 & 0 & Mature\\_CD8T\\_Low            \\\\\n",
       "\\end{tabular}\n"
      ],
      "text/markdown": [
       "\n",
       "A data.frame: 6 × 4\n",
       "\n",
       "| <!--/--> | Sample_ID &lt;chr&gt; | Survival_days &lt;dbl&gt; | Status_Cox &lt;int&gt; | tumor_to_immune_mark &lt;fct&gt; |\n",
       "|---|---|---|---|---|\n",
       "| AML_Beat_12_00051 | AML_Beat_12_00051 | 1.9369863 | 1 | Primitive_CD8T_Int_CD4T_Low |\n",
       "| AML_Beat_13_00157 | AML_Beat_13_00157 | 3.7780822 | 0 | Primitive_CD8T_Int_CD4T_Low |\n",
       "| AML_Beat_13_00195 | AML_Beat_13_00195 | 2.6630137 | 0 | Primitive_CD8T_Int_CD4T_Low |\n",
       "| AML_Beat_13_00487 | AML_Beat_13_00487 | 0.9808219 | 0 | Primitive_CD8T_Int_CD4T_Low |\n",
       "| AML_Beat_13_00513 | AML_Beat_13_00513 | 0.6739726 | 1 | Primitive_CD8T_Int_CD4T_Low |\n",
       "| AML_Beat_14_00001 | AML_Beat_14_00001 | 0.5945205 | 0 | Mature_CD8T_Low             |\n",
       "\n"
      ],
      "text/plain": [
       "                  Sample_ID         Survival_days Status_Cox\n",
       "AML_Beat_12_00051 AML_Beat_12_00051 1.9369863     1         \n",
       "AML_Beat_13_00157 AML_Beat_13_00157 3.7780822     0         \n",
       "AML_Beat_13_00195 AML_Beat_13_00195 2.6630137     0         \n",
       "AML_Beat_13_00487 AML_Beat_13_00487 0.9808219     0         \n",
       "AML_Beat_13_00513 AML_Beat_13_00513 0.6739726     1         \n",
       "AML_Beat_14_00001 AML_Beat_14_00001 0.5945205     0         \n",
       "                  tumor_to_immune_mark       \n",
       "AML_Beat_12_00051 Primitive_CD8T_Int_CD4T_Low\n",
       "AML_Beat_13_00157 Primitive_CD8T_Int_CD4T_Low\n",
       "AML_Beat_13_00195 Primitive_CD8T_Int_CD4T_Low\n",
       "AML_Beat_13_00487 Primitive_CD8T_Int_CD4T_Low\n",
       "AML_Beat_13_00513 Primitive_CD8T_Int_CD4T_Low\n",
       "AML_Beat_14_00001 Mature_CD8T_Low            "
      ]
     },
     "metadata": {},
     "output_type": "display_data"
    }
   ],
   "source": [
    "head(train_first)"
   ]
  },
  {
   "cell_type": "code",
   "execution_count": 13,
   "metadata": {
    "vscode": {
     "languageId": "r"
    }
   },
   "outputs": [
    {
     "data": {
      "text/html": [
       "<style>\n",
       ".list-inline {list-style: none; margin:0; padding: 0}\n",
       ".list-inline>li {display: inline-block}\n",
       ".list-inline>li:not(:last-child)::after {content: \"\\00b7\"; padding: 0 .5ex}\n",
       "</style>\n",
       "<ol class=list-inline><li>210</li><li>4</li></ol>\n"
      ],
      "text/latex": [
       "\\begin{enumerate*}\n",
       "\\item 210\n",
       "\\item 4\n",
       "\\end{enumerate*}\n"
      ],
      "text/markdown": [
       "1. 210\n",
       "2. 4\n",
       "\n",
       "\n"
      ],
      "text/plain": [
       "[1] 210   4"
      ]
     },
     "metadata": {},
     "output_type": "display_data"
    }
   ],
   "source": [
    "dim(train_first)"
   ]
  },
  {
   "cell_type": "code",
   "execution_count": 14,
   "metadata": {
    "vscode": {
     "languageId": "r"
    }
   },
   "outputs": [
    {
     "data": {
      "text/html": [
       "<style>\n",
       ".list-inline {list-style: none; margin:0; padding: 0}\n",
       ".list-inline>li {display: inline-block}\n",
       ".list-inline>li:not(:last-child)::after {content: \"\\00b7\"; padding: 0 .5ex}\n",
       "</style>\n",
       "<ol class=list-inline><li>210</li><li>4</li></ol>\n"
      ],
      "text/latex": [
       "\\begin{enumerate*}\n",
       "\\item 210\n",
       "\\item 4\n",
       "\\end{enumerate*}\n"
      ],
      "text/markdown": [
       "1. 210\n",
       "2. 4\n",
       "\n",
       "\n"
      ],
      "text/plain": [
       "[1] 210   4"
      ]
     },
     "metadata": {},
     "output_type": "display_data"
    }
   ],
   "source": [
    "dim(test_first)"
   ]
  },
  {
   "cell_type": "markdown",
   "metadata": {},
   "source": [
    "## 1）Univariate Cox"
   ]
  },
  {
   "cell_type": "code",
   "execution_count": 24,
   "metadata": {
    "vscode": {
     "languageId": "r"
    }
   },
   "outputs": [
    {
     "name": "stdout",
     "output_type": "stream",
     "text": [
      "[1] \"tumor_to_immune_mark\"\n",
      "[1] \"Prog_CD8T_High_vs_GMP_CD8T_High\"\n",
      "[1] \"Prog_CD8T_High_vs_Prog_CD8_Int_CD4_High\"\n",
      "[1] \"Prog_CD8T_High_vs_Mature_CD8T_High\"\n",
      "[1] \"Prog_CD8T_High_vs_Mature_CD8_Int_CD4_High\"\n",
      "[1] \"Prog_CD8T_High_vs_Mature_CD8T_Int_CD4T_Low\"\n",
      "[1] \"Prog_CD8T_High_vs_GMP_CD8T_Int_CD4T_Low\"\n",
      "[1] \"Prog_CD8T_High_vs_intermediate_CD8T_Int_CD4T_Low\"\n",
      "[1] \"Prog_CD8T_High_vs_GMP_CD8_Int_CD4_High\"\n",
      "[1] \"Prog_CD8T_High_vs_GMP_CD8T_Low\"\n",
      "[1] \"Prog_CD8T_High_vs_intermediate_CD8T_Low\"\n",
      "[1] \"Prog_CD8T_High_vs_intermediate_CD8_Int_CD4_High\"\n",
      "[1] \"Prog_CD8T_High_vs_Primitive_CD8T_Low\"\n",
      "[1] \"Prog_CD8T_High_vs_Prog_CD8T_Low\"\n",
      "[1] \"Prog_CD8T_High_vs_Primitive_CD8T_Int_CD4T_Low\"\n",
      "[1] \"Prog_CD8T_High_vs_Mature_CD8T_Low\"\n",
      "[1] \"Prog_CD8T_High_vs_Primitive_CD8_Int_CD4_High\"\n",
      "[1] \"Prog_CD8T_High_vs_Prog_CD8T_Int_CD4T_Low\"\n",
      "[1] \"Prog_CD8T_High_vs_Primitive_CD8T_High\"\n"
     ]
    }
   ],
   "source": [
    "input_df = train_first\n",
    "\n",
    "pFilterAll = 0.99\n",
    "pFilterSignificant = 0.05\n",
    "\n",
    "outTabAll = data.frame()\n",
    "outTabSignificant = data.frame()\n",
    "\n",
    "for (i in colnames(input_df)[4]) {\n",
    "  print(i)\n",
    "  \n",
    "  if (is.numeric(input_df[, i])) {\n",
    "    # 对于数值型，直接进行Cox回归\n",
    "    cox <- coxph(Surv(Survival_days, Status_Cox) ~ input_df[, i], data = input_df)\n",
    "    coxSummary = summary(cox)\n",
    "    coxP = coxSummary$coefficients[, \"Pr(>|z|)\"]\n",
    "    \n",
    "    # 将结果添加到outTab中\n",
    "    outTabAll = rbind(outTabAll,\n",
    "                      cbind(id = i,\n",
    "                            coef=coxSummary$coefficients[,\"coef\"],\n",
    "                            HR = coxSummary$conf.int[, \"exp(coef)\"],\n",
    "                            HR.95L = coxSummary$conf.int[, \"lower .95\"],\n",
    "                            HR.95H = coxSummary$conf.int[, \"upper .95\"],\n",
    "                            pvalue = coxP)\n",
    "    )\n",
    "    \n",
    "    if (coxP[1] < pFilterSignificant) {\n",
    "      outTabSignificant = rbind(outTabSignificant,\n",
    "                                cbind(id = i,\n",
    "                                      coef=coxSummary$coefficients[,\"coef\"],\n",
    "                                      HR = coxSummary$conf.int[, \"exp(coef)\"],\n",
    "                                      HR.95L = coxSummary$conf.int[, \"lower .95\"],\n",
    "                                      HR.95H = coxSummary$conf.int[, \"upper .95\"],\n",
    "                                      pvalue = coxP)\n",
    "      )\n",
    "    }\n",
    "  } else if (is.factor(input_df[, i])) { # 1\n",
    "    levels_i = levels(input_df[, i])\n",
    "    control_group = levels_i[1]  \n",
    "\n",
    "    cox <- coxph(Surv(Survival_days, Status_Cox) ~ input_df[, i], data = input_df)\n",
    "    coxSummary = summary(cox)\n",
    "    coxP = coxSummary$coefficients[, \"Pr(>|z|)\"]\n",
    "    if (length(coxP) >= 1) {\n",
    "      for (j in 1:length(coxP)) {\n",
    "        if (coxP[j] < pFilterAll) {\n",
    "          outTabAll = rbind(outTabAll,\n",
    "                            cbind(id = paste(control_group, \"_vs_\", levels_i[j+1], sep = \"\"),\n",
    "                                  coef=as.numeric(coxSummary$coefficients[,\"coef\"][j]),\n",
    "                                  HR = coxSummary$conf.int[j, \"exp(coef)\"],\n",
    "                                  HR.95L = coxSummary$conf.int[j, \"lower .95\"],\n",
    "                                  HR.95H = coxSummary$conf.int[j, \"upper .95\"],\n",
    "                                  pvalue = coxP[j])\n",
    "          )\n",
    "        }\n",
    "        print(paste(control_group, \"_vs_\", levels_i[j+1], sep = \"\"))\n",
    "        if (coxP[j] < pFilterSignificant) {\n",
    "          outTabSignificant = rbind(outTabSignificant,\n",
    "                                    cbind(id = paste(control_group, \"_vs_\", levels_i[j+1], sep = \"\"),\n",
    "                                          coef=coxSummary$coefficients[,\"coef\"][j],\n",
    "                                          HR = coxSummary$conf.int[j, \"exp(coef)\"],\n",
    "                                          HR.95L = coxSummary$conf.int[j, \"lower .95\"],\n",
    "                                          HR.95H = coxSummary$conf.int[j, \"upper .95\"],\n",
    "                                          pvalue = coxP[j])\n",
    "          )\n",
    "        }\n",
    "      }\n",
    "    } \n",
    "\n",
    "  } # 1\n",
    "}"
   ]
  },
  {
   "cell_type": "code",
   "execution_count": 25,
   "metadata": {
    "vscode": {
     "languageId": "r"
    }
   },
   "outputs": [
    {
     "data": {
      "text/html": [
       "<table class=\"dataframe\">\n",
       "<caption>A data.frame: 18 × 6</caption>\n",
       "<thead>\n",
       "\t<tr><th></th><th scope=col>id</th><th scope=col>coef</th><th scope=col>HR</th><th scope=col>HR.95L</th><th scope=col>HR.95H</th><th scope=col>pvalue</th></tr>\n",
       "\t<tr><th></th><th scope=col>&lt;chr&gt;</th><th scope=col>&lt;chr&gt;</th><th scope=col>&lt;chr&gt;</th><th scope=col>&lt;chr&gt;</th><th scope=col>&lt;chr&gt;</th><th scope=col>&lt;chr&gt;</th></tr>\n",
       "</thead>\n",
       "<tbody>\n",
       "\t<tr><th scope=row>input_df[, i]GMP_CD8T_High</th><td>Prog_CD8T_High_vs_GMP_CD8T_High                 </td><td>-1.48548265739391 </td><td>0.226393044025544</td><td>0.014020154473341 </td><td>3.65572365701174</td><td>0.295270004926605  </td></tr>\n",
       "\t<tr><th scope=row>input_df[, i]Prog_CD8_Int_CD4_High</th><td>Prog_CD8T_High_vs_Prog_CD8_Int_CD4_High         </td><td>-0.177915296768994</td><td>0.837013318218668</td><td>0.111127151441954 </td><td>6.30441153025837</td><td>0.862888103809499  </td></tr>\n",
       "\t<tr><th scope=row>input_df[, i]Mature_CD8T_High</th><td>Prog_CD8T_High_vs_Mature_CD8T_High              </td><td>-0.155522393347399</td><td>0.855967908727568</td><td>0.0984347266379017</td><td>7.443318895644  </td><td>0.887921824364944  </td></tr>\n",
       "\t<tr><th scope=row>input_df[, i]Mature_CD8_Int_CD4_High</th><td>Prog_CD8T_High_vs_Mature_CD8_Int_CD4_High       </td><td>1.66197537781477  </td><td>5.26971023839443 </td><td>0.569645327527211 </td><td>48.7493614968913</td><td>0.143141562121789  </td></tr>\n",
       "\t<tr><th scope=row>input_df[, i]Mature_CD8T_Int_CD4T_Low</th><td>Prog_CD8T_High_vs_Mature_CD8T_Int_CD4T_Low      </td><td>0.946456225463178 </td><td>2.57656270421139 </td><td>0.324854857489271 </td><td>20.4358199229092</td><td>0.370367870118028  </td></tr>\n",
       "\t<tr><th scope=row>input_df[, i]GMP_CD8T_Int_CD4T_Low</th><td>Prog_CD8T_High_vs_GMP_CD8T_Int_CD4T_Low         </td><td>0.132909270091187 </td><td>1.14214636679402 </td><td>0.141163984655232 </td><td>9.24101374983695</td><td>0.900843678452482  </td></tr>\n",
       "\t<tr><th scope=row>input_df[, i]intermediate_CD8T_Int_CD4T_Low</th><td>Prog_CD8T_High_vs_intermediate_CD8T_Int_CD4T_Low</td><td>1.66371325559496  </td><td>5.27887631317766 </td><td>0.64832729677444  </td><td>42.9822024592669</td><td>0.119960863959584  </td></tr>\n",
       "\t<tr><th scope=row>input_df[, i]GMP_CD8_Int_CD4_High</th><td>Prog_CD8T_High_vs_GMP_CD8_Int_CD4_High          </td><td>0.688035633541772 </td><td>1.98980298941539 </td><td>0.218165717850211 </td><td>18.1482039236101</td><td>0.541832403460717  </td></tr>\n",
       "\t<tr><th scope=row>input_df[, i]GMP_CD8T_Low</th><td>Prog_CD8T_High_vs_GMP_CD8T_Low                  </td><td>0.732490818080628 </td><td>2.08025569839966 </td><td>0.239232115858068 </td><td>18.0889750324812</td><td>0.506823908765208  </td></tr>\n",
       "\t<tr><th scope=row>input_df[, i]intermediate_CD8T_Low</th><td>Prog_CD8T_High_vs_intermediate_CD8T_Low         </td><td>3.14781786040688  </td><td>23.2851975501386 </td><td>3.00795444331807  </td><td>180.255530848692</td><td>0.00257294703459886</td></tr>\n",
       "\t<tr><th scope=row>input_df[, i]intermediate_CD8_Int_CD4_High</th><td>Prog_CD8T_High_vs_intermediate_CD8_Int_CD4_High </td><td>1.07395356332327  </td><td>2.92692845215526 </td><td>0.257813106552681 </td><td>33.2291491250675</td><td>0.386267660810083  </td></tr>\n",
       "\t<tr><th scope=row>input_df[, i]Primitive_CD8T_Low</th><td>Prog_CD8T_High_vs_Primitive_CD8T_Low            </td><td>2.88278980429393  </td><td>17.8640409042493 </td><td>2.20108676166069  </td><td>144.98472435858 </td><td>0.00696586573271154</td></tr>\n",
       "\t<tr><th scope=row>input_df[, i]Prog_CD8T_Low</th><td>Prog_CD8T_High_vs_Prog_CD8T_Low                 </td><td>1.2891792496782   </td><td>3.62980616826246 </td><td>0.321168790160802 </td><td>41.0235777036727</td><td>0.297425342082956  </td></tr>\n",
       "\t<tr><th scope=row>input_df[, i]Primitive_CD8T_Int_CD4T_Low</th><td>Prog_CD8T_High_vs_Primitive_CD8T_Int_CD4T_Low   </td><td>0.785606015978373 </td><td>2.19373597703834 </td><td>0.270629001989956 </td><td>17.7825639586513</td><td>0.461847974749179  </td></tr>\n",
       "\t<tr><th scope=row>input_df[, i]Mature_CD8T_Low</th><td>Prog_CD8T_High_vs_Mature_CD8T_Low               </td><td>1.98082902775535  </td><td>7.24874990973015 </td><td>0.943347547960373 </td><td>55.6999118378161</td><td>0.0569221390298265 </td></tr>\n",
       "\t<tr><th scope=row>input_df[, i]Primitive_CD8_Int_CD4_High</th><td>Prog_CD8T_High_vs_Primitive_CD8_Int_CD4_High    </td><td>2.08231203683196  </td><td>8.02299695174549 </td><td>0.867702595505738 </td><td>74.1826524676931</td><td>0.0665179456551701 </td></tr>\n",
       "\t<tr><th scope=row>input_df[, i]Prog_CD8T_Int_CD4T_Low</th><td>Prog_CD8T_High_vs_Prog_CD8T_Int_CD4T_Low        </td><td>0.834219190328758 </td><td>2.30301512958565 </td><td>0.205178307748085 </td><td>25.8500947069533</td><td>0.498933709245092  </td></tr>\n",
       "\t<tr><th scope=row>input_df[, i]Primitive_CD8T_High</th><td>Prog_CD8T_High_vs_Primitive_CD8T_High           </td><td>1.53103778289655  </td><td>4.62297197495256 </td><td>0.280450104480421 </td><td>76.2056049891359</td><td>0.284263867523749  </td></tr>\n",
       "</tbody>\n",
       "</table>\n"
      ],
      "text/latex": [
       "A data.frame: 18 × 6\n",
       "\\begin{tabular}{r|llllll}\n",
       "  & id & coef & HR & HR.95L & HR.95H & pvalue\\\\\n",
       "  & <chr> & <chr> & <chr> & <chr> & <chr> & <chr>\\\\\n",
       "\\hline\n",
       "\tinput\\_df{[}, i{]}GMP\\_CD8T\\_High & Prog\\_CD8T\\_High\\_vs\\_GMP\\_CD8T\\_High                  & -1.48548265739391  & 0.226393044025544 & 0.014020154473341  & 3.65572365701174 & 0.295270004926605  \\\\\n",
       "\tinput\\_df{[}, i{]}Prog\\_CD8\\_Int\\_CD4\\_High & Prog\\_CD8T\\_High\\_vs\\_Prog\\_CD8\\_Int\\_CD4\\_High          & -0.177915296768994 & 0.837013318218668 & 0.111127151441954  & 6.30441153025837 & 0.862888103809499  \\\\\n",
       "\tinput\\_df{[}, i{]}Mature\\_CD8T\\_High & Prog\\_CD8T\\_High\\_vs\\_Mature\\_CD8T\\_High               & -0.155522393347399 & 0.855967908727568 & 0.0984347266379017 & 7.443318895644   & 0.887921824364944  \\\\\n",
       "\tinput\\_df{[}, i{]}Mature\\_CD8\\_Int\\_CD4\\_High & Prog\\_CD8T\\_High\\_vs\\_Mature\\_CD8\\_Int\\_CD4\\_High        & 1.66197537781477   & 5.26971023839443  & 0.569645327527211  & 48.7493614968913 & 0.143141562121789  \\\\\n",
       "\tinput\\_df{[}, i{]}Mature\\_CD8T\\_Int\\_CD4T\\_Low & Prog\\_CD8T\\_High\\_vs\\_Mature\\_CD8T\\_Int\\_CD4T\\_Low       & 0.946456225463178  & 2.57656270421139  & 0.324854857489271  & 20.4358199229092 & 0.370367870118028  \\\\\n",
       "\tinput\\_df{[}, i{]}GMP\\_CD8T\\_Int\\_CD4T\\_Low & Prog\\_CD8T\\_High\\_vs\\_GMP\\_CD8T\\_Int\\_CD4T\\_Low          & 0.132909270091187  & 1.14214636679402  & 0.141163984655232  & 9.24101374983695 & 0.900843678452482  \\\\\n",
       "\tinput\\_df{[}, i{]}intermediate\\_CD8T\\_Int\\_CD4T\\_Low & Prog\\_CD8T\\_High\\_vs\\_intermediate\\_CD8T\\_Int\\_CD4T\\_Low & 1.66371325559496   & 5.27887631317766  & 0.64832729677444   & 42.9822024592669 & 0.119960863959584  \\\\\n",
       "\tinput\\_df{[}, i{]}GMP\\_CD8\\_Int\\_CD4\\_High & Prog\\_CD8T\\_High\\_vs\\_GMP\\_CD8\\_Int\\_CD4\\_High           & 0.688035633541772  & 1.98980298941539  & 0.218165717850211  & 18.1482039236101 & 0.541832403460717  \\\\\n",
       "\tinput\\_df{[}, i{]}GMP\\_CD8T\\_Low & Prog\\_CD8T\\_High\\_vs\\_GMP\\_CD8T\\_Low                   & 0.732490818080628  & 2.08025569839966  & 0.239232115858068  & 18.0889750324812 & 0.506823908765208  \\\\\n",
       "\tinput\\_df{[}, i{]}intermediate\\_CD8T\\_Low & Prog\\_CD8T\\_High\\_vs\\_intermediate\\_CD8T\\_Low          & 3.14781786040688   & 23.2851975501386  & 3.00795444331807   & 180.255530848692 & 0.00257294703459886\\\\\n",
       "\tinput\\_df{[}, i{]}intermediate\\_CD8\\_Int\\_CD4\\_High & Prog\\_CD8T\\_High\\_vs\\_intermediate\\_CD8\\_Int\\_CD4\\_High  & 1.07395356332327   & 2.92692845215526  & 0.257813106552681  & 33.2291491250675 & 0.386267660810083  \\\\\n",
       "\tinput\\_df{[}, i{]}Primitive\\_CD8T\\_Low & Prog\\_CD8T\\_High\\_vs\\_Primitive\\_CD8T\\_Low             & 2.88278980429393   & 17.8640409042493  & 2.20108676166069   & 144.98472435858  & 0.00696586573271154\\\\\n",
       "\tinput\\_df{[}, i{]}Prog\\_CD8T\\_Low & Prog\\_CD8T\\_High\\_vs\\_Prog\\_CD8T\\_Low                  & 1.2891792496782    & 3.62980616826246  & 0.321168790160802  & 41.0235777036727 & 0.297425342082956  \\\\\n",
       "\tinput\\_df{[}, i{]}Primitive\\_CD8T\\_Int\\_CD4T\\_Low & Prog\\_CD8T\\_High\\_vs\\_Primitive\\_CD8T\\_Int\\_CD4T\\_Low    & 0.785606015978373  & 2.19373597703834  & 0.270629001989956  & 17.7825639586513 & 0.461847974749179  \\\\\n",
       "\tinput\\_df{[}, i{]}Mature\\_CD8T\\_Low & Prog\\_CD8T\\_High\\_vs\\_Mature\\_CD8T\\_Low                & 1.98082902775535   & 7.24874990973015  & 0.943347547960373  & 55.6999118378161 & 0.0569221390298265 \\\\\n",
       "\tinput\\_df{[}, i{]}Primitive\\_CD8\\_Int\\_CD4\\_High & Prog\\_CD8T\\_High\\_vs\\_Primitive\\_CD8\\_Int\\_CD4\\_High     & 2.08231203683196   & 8.02299695174549  & 0.867702595505738  & 74.1826524676931 & 0.0665179456551701 \\\\\n",
       "\tinput\\_df{[}, i{]}Prog\\_CD8T\\_Int\\_CD4T\\_Low & Prog\\_CD8T\\_High\\_vs\\_Prog\\_CD8T\\_Int\\_CD4T\\_Low         & 0.834219190328758  & 2.30301512958565  & 0.205178307748085  & 25.8500947069533 & 0.498933709245092  \\\\\n",
       "\tinput\\_df{[}, i{]}Primitive\\_CD8T\\_High & Prog\\_CD8T\\_High\\_vs\\_Primitive\\_CD8T\\_High            & 1.53103778289655   & 4.62297197495256  & 0.280450104480421  & 76.2056049891359 & 0.284263867523749  \\\\\n",
       "\\end{tabular}\n"
      ],
      "text/markdown": [
       "\n",
       "A data.frame: 18 × 6\n",
       "\n",
       "| <!--/--> | id &lt;chr&gt; | coef &lt;chr&gt; | HR &lt;chr&gt; | HR.95L &lt;chr&gt; | HR.95H &lt;chr&gt; | pvalue &lt;chr&gt; |\n",
       "|---|---|---|---|---|---|---|\n",
       "| input_df[, i]GMP_CD8T_High | Prog_CD8T_High_vs_GMP_CD8T_High                  | -1.48548265739391  | 0.226393044025544 | 0.014020154473341  | 3.65572365701174 | 0.295270004926605   |\n",
       "| input_df[, i]Prog_CD8_Int_CD4_High | Prog_CD8T_High_vs_Prog_CD8_Int_CD4_High          | -0.177915296768994 | 0.837013318218668 | 0.111127151441954  | 6.30441153025837 | 0.862888103809499   |\n",
       "| input_df[, i]Mature_CD8T_High | Prog_CD8T_High_vs_Mature_CD8T_High               | -0.155522393347399 | 0.855967908727568 | 0.0984347266379017 | 7.443318895644   | 0.887921824364944   |\n",
       "| input_df[, i]Mature_CD8_Int_CD4_High | Prog_CD8T_High_vs_Mature_CD8_Int_CD4_High        | 1.66197537781477   | 5.26971023839443  | 0.569645327527211  | 48.7493614968913 | 0.143141562121789   |\n",
       "| input_df[, i]Mature_CD8T_Int_CD4T_Low | Prog_CD8T_High_vs_Mature_CD8T_Int_CD4T_Low       | 0.946456225463178  | 2.57656270421139  | 0.324854857489271  | 20.4358199229092 | 0.370367870118028   |\n",
       "| input_df[, i]GMP_CD8T_Int_CD4T_Low | Prog_CD8T_High_vs_GMP_CD8T_Int_CD4T_Low          | 0.132909270091187  | 1.14214636679402  | 0.141163984655232  | 9.24101374983695 | 0.900843678452482   |\n",
       "| input_df[, i]intermediate_CD8T_Int_CD4T_Low | Prog_CD8T_High_vs_intermediate_CD8T_Int_CD4T_Low | 1.66371325559496   | 5.27887631317766  | 0.64832729677444   | 42.9822024592669 | 0.119960863959584   |\n",
       "| input_df[, i]GMP_CD8_Int_CD4_High | Prog_CD8T_High_vs_GMP_CD8_Int_CD4_High           | 0.688035633541772  | 1.98980298941539  | 0.218165717850211  | 18.1482039236101 | 0.541832403460717   |\n",
       "| input_df[, i]GMP_CD8T_Low | Prog_CD8T_High_vs_GMP_CD8T_Low                   | 0.732490818080628  | 2.08025569839966  | 0.239232115858068  | 18.0889750324812 | 0.506823908765208   |\n",
       "| input_df[, i]intermediate_CD8T_Low | Prog_CD8T_High_vs_intermediate_CD8T_Low          | 3.14781786040688   | 23.2851975501386  | 3.00795444331807   | 180.255530848692 | 0.00257294703459886 |\n",
       "| input_df[, i]intermediate_CD8_Int_CD4_High | Prog_CD8T_High_vs_intermediate_CD8_Int_CD4_High  | 1.07395356332327   | 2.92692845215526  | 0.257813106552681  | 33.2291491250675 | 0.386267660810083   |\n",
       "| input_df[, i]Primitive_CD8T_Low | Prog_CD8T_High_vs_Primitive_CD8T_Low             | 2.88278980429393   | 17.8640409042493  | 2.20108676166069   | 144.98472435858  | 0.00696586573271154 |\n",
       "| input_df[, i]Prog_CD8T_Low | Prog_CD8T_High_vs_Prog_CD8T_Low                  | 1.2891792496782    | 3.62980616826246  | 0.321168790160802  | 41.0235777036727 | 0.297425342082956   |\n",
       "| input_df[, i]Primitive_CD8T_Int_CD4T_Low | Prog_CD8T_High_vs_Primitive_CD8T_Int_CD4T_Low    | 0.785606015978373  | 2.19373597703834  | 0.270629001989956  | 17.7825639586513 | 0.461847974749179   |\n",
       "| input_df[, i]Mature_CD8T_Low | Prog_CD8T_High_vs_Mature_CD8T_Low                | 1.98082902775535   | 7.24874990973015  | 0.943347547960373  | 55.6999118378161 | 0.0569221390298265  |\n",
       "| input_df[, i]Primitive_CD8_Int_CD4_High | Prog_CD8T_High_vs_Primitive_CD8_Int_CD4_High     | 2.08231203683196   | 8.02299695174549  | 0.867702595505738  | 74.1826524676931 | 0.0665179456551701  |\n",
       "| input_df[, i]Prog_CD8T_Int_CD4T_Low | Prog_CD8T_High_vs_Prog_CD8T_Int_CD4T_Low         | 0.834219190328758  | 2.30301512958565  | 0.205178307748085  | 25.8500947069533 | 0.498933709245092   |\n",
       "| input_df[, i]Primitive_CD8T_High | Prog_CD8T_High_vs_Primitive_CD8T_High            | 1.53103778289655   | 4.62297197495256  | 0.280450104480421  | 76.2056049891359 | 0.284263867523749   |\n",
       "\n"
      ],
      "text/plain": [
       "                                            id                                              \n",
       "input_df[, i]GMP_CD8T_High                  Prog_CD8T_High_vs_GMP_CD8T_High                 \n",
       "input_df[, i]Prog_CD8_Int_CD4_High          Prog_CD8T_High_vs_Prog_CD8_Int_CD4_High         \n",
       "input_df[, i]Mature_CD8T_High               Prog_CD8T_High_vs_Mature_CD8T_High              \n",
       "input_df[, i]Mature_CD8_Int_CD4_High        Prog_CD8T_High_vs_Mature_CD8_Int_CD4_High       \n",
       "input_df[, i]Mature_CD8T_Int_CD4T_Low       Prog_CD8T_High_vs_Mature_CD8T_Int_CD4T_Low      \n",
       "input_df[, i]GMP_CD8T_Int_CD4T_Low          Prog_CD8T_High_vs_GMP_CD8T_Int_CD4T_Low         \n",
       "input_df[, i]intermediate_CD8T_Int_CD4T_Low Prog_CD8T_High_vs_intermediate_CD8T_Int_CD4T_Low\n",
       "input_df[, i]GMP_CD8_Int_CD4_High           Prog_CD8T_High_vs_GMP_CD8_Int_CD4_High          \n",
       "input_df[, i]GMP_CD8T_Low                   Prog_CD8T_High_vs_GMP_CD8T_Low                  \n",
       "input_df[, i]intermediate_CD8T_Low          Prog_CD8T_High_vs_intermediate_CD8T_Low         \n",
       "input_df[, i]intermediate_CD8_Int_CD4_High  Prog_CD8T_High_vs_intermediate_CD8_Int_CD4_High \n",
       "input_df[, i]Primitive_CD8T_Low             Prog_CD8T_High_vs_Primitive_CD8T_Low            \n",
       "input_df[, i]Prog_CD8T_Low                  Prog_CD8T_High_vs_Prog_CD8T_Low                 \n",
       "input_df[, i]Primitive_CD8T_Int_CD4T_Low    Prog_CD8T_High_vs_Primitive_CD8T_Int_CD4T_Low   \n",
       "input_df[, i]Mature_CD8T_Low                Prog_CD8T_High_vs_Mature_CD8T_Low               \n",
       "input_df[, i]Primitive_CD8_Int_CD4_High     Prog_CD8T_High_vs_Primitive_CD8_Int_CD4_High    \n",
       "input_df[, i]Prog_CD8T_Int_CD4T_Low         Prog_CD8T_High_vs_Prog_CD8T_Int_CD4T_Low        \n",
       "input_df[, i]Primitive_CD8T_High            Prog_CD8T_High_vs_Primitive_CD8T_High           \n",
       "                                            coef              \n",
       "input_df[, i]GMP_CD8T_High                  -1.48548265739391 \n",
       "input_df[, i]Prog_CD8_Int_CD4_High          -0.177915296768994\n",
       "input_df[, i]Mature_CD8T_High               -0.155522393347399\n",
       "input_df[, i]Mature_CD8_Int_CD4_High        1.66197537781477  \n",
       "input_df[, i]Mature_CD8T_Int_CD4T_Low       0.946456225463178 \n",
       "input_df[, i]GMP_CD8T_Int_CD4T_Low          0.132909270091187 \n",
       "input_df[, i]intermediate_CD8T_Int_CD4T_Low 1.66371325559496  \n",
       "input_df[, i]GMP_CD8_Int_CD4_High           0.688035633541772 \n",
       "input_df[, i]GMP_CD8T_Low                   0.732490818080628 \n",
       "input_df[, i]intermediate_CD8T_Low          3.14781786040688  \n",
       "input_df[, i]intermediate_CD8_Int_CD4_High  1.07395356332327  \n",
       "input_df[, i]Primitive_CD8T_Low             2.88278980429393  \n",
       "input_df[, i]Prog_CD8T_Low                  1.2891792496782   \n",
       "input_df[, i]Primitive_CD8T_Int_CD4T_Low    0.785606015978373 \n",
       "input_df[, i]Mature_CD8T_Low                1.98082902775535  \n",
       "input_df[, i]Primitive_CD8_Int_CD4_High     2.08231203683196  \n",
       "input_df[, i]Prog_CD8T_Int_CD4T_Low         0.834219190328758 \n",
       "input_df[, i]Primitive_CD8T_High            1.53103778289655  \n",
       "                                            HR               \n",
       "input_df[, i]GMP_CD8T_High                  0.226393044025544\n",
       "input_df[, i]Prog_CD8_Int_CD4_High          0.837013318218668\n",
       "input_df[, i]Mature_CD8T_High               0.855967908727568\n",
       "input_df[, i]Mature_CD8_Int_CD4_High        5.26971023839443 \n",
       "input_df[, i]Mature_CD8T_Int_CD4T_Low       2.57656270421139 \n",
       "input_df[, i]GMP_CD8T_Int_CD4T_Low          1.14214636679402 \n",
       "input_df[, i]intermediate_CD8T_Int_CD4T_Low 5.27887631317766 \n",
       "input_df[, i]GMP_CD8_Int_CD4_High           1.98980298941539 \n",
       "input_df[, i]GMP_CD8T_Low                   2.08025569839966 \n",
       "input_df[, i]intermediate_CD8T_Low          23.2851975501386 \n",
       "input_df[, i]intermediate_CD8_Int_CD4_High  2.92692845215526 \n",
       "input_df[, i]Primitive_CD8T_Low             17.8640409042493 \n",
       "input_df[, i]Prog_CD8T_Low                  3.62980616826246 \n",
       "input_df[, i]Primitive_CD8T_Int_CD4T_Low    2.19373597703834 \n",
       "input_df[, i]Mature_CD8T_Low                7.24874990973015 \n",
       "input_df[, i]Primitive_CD8_Int_CD4_High     8.02299695174549 \n",
       "input_df[, i]Prog_CD8T_Int_CD4T_Low         2.30301512958565 \n",
       "input_df[, i]Primitive_CD8T_High            4.62297197495256 \n",
       "                                            HR.95L             HR.95H          \n",
       "input_df[, i]GMP_CD8T_High                  0.014020154473341  3.65572365701174\n",
       "input_df[, i]Prog_CD8_Int_CD4_High          0.111127151441954  6.30441153025837\n",
       "input_df[, i]Mature_CD8T_High               0.0984347266379017 7.443318895644  \n",
       "input_df[, i]Mature_CD8_Int_CD4_High        0.569645327527211  48.7493614968913\n",
       "input_df[, i]Mature_CD8T_Int_CD4T_Low       0.324854857489271  20.4358199229092\n",
       "input_df[, i]GMP_CD8T_Int_CD4T_Low          0.141163984655232  9.24101374983695\n",
       "input_df[, i]intermediate_CD8T_Int_CD4T_Low 0.64832729677444   42.9822024592669\n",
       "input_df[, i]GMP_CD8_Int_CD4_High           0.218165717850211  18.1482039236101\n",
       "input_df[, i]GMP_CD8T_Low                   0.239232115858068  18.0889750324812\n",
       "input_df[, i]intermediate_CD8T_Low          3.00795444331807   180.255530848692\n",
       "input_df[, i]intermediate_CD8_Int_CD4_High  0.257813106552681  33.2291491250675\n",
       "input_df[, i]Primitive_CD8T_Low             2.20108676166069   144.98472435858 \n",
       "input_df[, i]Prog_CD8T_Low                  0.321168790160802  41.0235777036727\n",
       "input_df[, i]Primitive_CD8T_Int_CD4T_Low    0.270629001989956  17.7825639586513\n",
       "input_df[, i]Mature_CD8T_Low                0.943347547960373  55.6999118378161\n",
       "input_df[, i]Primitive_CD8_Int_CD4_High     0.867702595505738  74.1826524676931\n",
       "input_df[, i]Prog_CD8T_Int_CD4T_Low         0.205178307748085  25.8500947069533\n",
       "input_df[, i]Primitive_CD8T_High            0.280450104480421  76.2056049891359\n",
       "                                            pvalue             \n",
       "input_df[, i]GMP_CD8T_High                  0.295270004926605  \n",
       "input_df[, i]Prog_CD8_Int_CD4_High          0.862888103809499  \n",
       "input_df[, i]Mature_CD8T_High               0.887921824364944  \n",
       "input_df[, i]Mature_CD8_Int_CD4_High        0.143141562121789  \n",
       "input_df[, i]Mature_CD8T_Int_CD4T_Low       0.370367870118028  \n",
       "input_df[, i]GMP_CD8T_Int_CD4T_Low          0.900843678452482  \n",
       "input_df[, i]intermediate_CD8T_Int_CD4T_Low 0.119960863959584  \n",
       "input_df[, i]GMP_CD8_Int_CD4_High           0.541832403460717  \n",
       "input_df[, i]GMP_CD8T_Low                   0.506823908765208  \n",
       "input_df[, i]intermediate_CD8T_Low          0.00257294703459886\n",
       "input_df[, i]intermediate_CD8_Int_CD4_High  0.386267660810083  \n",
       "input_df[, i]Primitive_CD8T_Low             0.00696586573271154\n",
       "input_df[, i]Prog_CD8T_Low                  0.297425342082956  \n",
       "input_df[, i]Primitive_CD8T_Int_CD4T_Low    0.461847974749179  \n",
       "input_df[, i]Mature_CD8T_Low                0.0569221390298265 \n",
       "input_df[, i]Primitive_CD8_Int_CD4_High     0.0665179456551701 \n",
       "input_df[, i]Prog_CD8T_Int_CD4T_Low         0.498933709245092  \n",
       "input_df[, i]Primitive_CD8T_High            0.284263867523749  "
      ]
     },
     "metadata": {},
     "output_type": "display_data"
    }
   ],
   "source": [
    "outTabAll"
   ]
  },
  {
   "cell_type": "code",
   "execution_count": 26,
   "metadata": {
    "vscode": {
     "languageId": "r"
    }
   },
   "outputs": [
    {
     "data": {
      "text/html": [
       "<table class=\"dataframe\">\n",
       "<caption>A data.frame: 2 × 6</caption>\n",
       "<thead>\n",
       "\t<tr><th></th><th scope=col>id</th><th scope=col>coef</th><th scope=col>HR</th><th scope=col>HR.95L</th><th scope=col>HR.95H</th><th scope=col>pvalue</th></tr>\n",
       "\t<tr><th></th><th scope=col>&lt;chr&gt;</th><th scope=col>&lt;chr&gt;</th><th scope=col>&lt;chr&gt;</th><th scope=col>&lt;chr&gt;</th><th scope=col>&lt;chr&gt;</th><th scope=col>&lt;chr&gt;</th></tr>\n",
       "</thead>\n",
       "<tbody>\n",
       "\t<tr><th scope=row>input_df[, i]intermediate_CD8T_Low</th><td>Prog_CD8T_High_vs_intermediate_CD8T_Low</td><td>3.14781786040688</td><td>23.2851975501386</td><td>3.00795444331807</td><td>180.255530848692</td><td>0.00257294703459886</td></tr>\n",
       "\t<tr><th scope=row>input_df[, i]Primitive_CD8T_Low</th><td>Prog_CD8T_High_vs_Primitive_CD8T_Low   </td><td>2.88278980429393</td><td>17.8640409042493</td><td>2.20108676166069</td><td>144.98472435858 </td><td>0.00696586573271154</td></tr>\n",
       "</tbody>\n",
       "</table>\n"
      ],
      "text/latex": [
       "A data.frame: 2 × 6\n",
       "\\begin{tabular}{r|llllll}\n",
       "  & id & coef & HR & HR.95L & HR.95H & pvalue\\\\\n",
       "  & <chr> & <chr> & <chr> & <chr> & <chr> & <chr>\\\\\n",
       "\\hline\n",
       "\tinput\\_df{[}, i{]}intermediate\\_CD8T\\_Low & Prog\\_CD8T\\_High\\_vs\\_intermediate\\_CD8T\\_Low & 3.14781786040688 & 23.2851975501386 & 3.00795444331807 & 180.255530848692 & 0.00257294703459886\\\\\n",
       "\tinput\\_df{[}, i{]}Primitive\\_CD8T\\_Low & Prog\\_CD8T\\_High\\_vs\\_Primitive\\_CD8T\\_Low    & 2.88278980429393 & 17.8640409042493 & 2.20108676166069 & 144.98472435858  & 0.00696586573271154\\\\\n",
       "\\end{tabular}\n"
      ],
      "text/markdown": [
       "\n",
       "A data.frame: 2 × 6\n",
       "\n",
       "| <!--/--> | id &lt;chr&gt; | coef &lt;chr&gt; | HR &lt;chr&gt; | HR.95L &lt;chr&gt; | HR.95H &lt;chr&gt; | pvalue &lt;chr&gt; |\n",
       "|---|---|---|---|---|---|---|\n",
       "| input_df[, i]intermediate_CD8T_Low | Prog_CD8T_High_vs_intermediate_CD8T_Low | 3.14781786040688 | 23.2851975501386 | 3.00795444331807 | 180.255530848692 | 0.00257294703459886 |\n",
       "| input_df[, i]Primitive_CD8T_Low | Prog_CD8T_High_vs_Primitive_CD8T_Low    | 2.88278980429393 | 17.8640409042493 | 2.20108676166069 | 144.98472435858  | 0.00696586573271154 |\n",
       "\n"
      ],
      "text/plain": [
       "                                   id                                     \n",
       "input_df[, i]intermediate_CD8T_Low Prog_CD8T_High_vs_intermediate_CD8T_Low\n",
       "input_df[, i]Primitive_CD8T_Low    Prog_CD8T_High_vs_Primitive_CD8T_Low   \n",
       "                                   coef             HR              \n",
       "input_df[, i]intermediate_CD8T_Low 3.14781786040688 23.2851975501386\n",
       "input_df[, i]Primitive_CD8T_Low    2.88278980429393 17.8640409042493\n",
       "                                   HR.95L           HR.95H          \n",
       "input_df[, i]intermediate_CD8T_Low 3.00795444331807 180.255530848692\n",
       "input_df[, i]Primitive_CD8T_Low    2.20108676166069 144.98472435858 \n",
       "                                   pvalue             \n",
       "input_df[, i]intermediate_CD8T_Low 0.00257294703459886\n",
       "input_df[, i]Primitive_CD8T_Low    0.00696586573271154"
      ]
     },
     "metadata": {},
     "output_type": "display_data"
    }
   ],
   "source": [
    "outTabSignificant"
   ]
  },
  {
   "cell_type": "code",
   "execution_count": 27,
   "metadata": {
    "vscode": {
     "languageId": "r"
    }
   },
   "outputs": [],
   "source": [
    "output_f = file.path(output_dir,\"20250717_2_1_one_cox_result_all.xls\")\n",
    "write.table(outTabAll,file=output_f,sep=\"\\t\",row.names=F,quote=F)\n",
    "\n",
    "output_f = file.path(output_dir,\"20250717_2_1_one_cox_result_sign.xls\")\n",
    "write.table(outTabSignificant,file=output_f,sep=\"\\t\",row.names=F,quote=F)"
   ]
  },
  {
   "cell_type": "markdown",
   "metadata": {},
   "source": [
    "## 2）Lasso regression"
   ]
  },
  {
   "cell_type": "code",
   "execution_count": 62,
   "metadata": {
    "vscode": {
     "languageId": "r"
    }
   },
   "outputs": [],
   "source": []
  },
  {
   "cell_type": "code",
   "execution_count": 63,
   "metadata": {
    "vscode": {
     "languageId": "r"
    }
   },
   "outputs": [
    {
     "data": {
      "text/html": [
       "<style>\n",
       ".list-inline {list-style: none; margin:0; padding: 0}\n",
       ".list-inline>li {display: inline-block}\n",
       ".list-inline>li:not(:last-child)::after {content: \"\\00b7\"; padding: 0 .5ex}\n",
       "</style>\n",
       "<ol class=list-inline><li>'Sample_ID'</li><li>'Survival_days'</li><li>'Status_Cox'</li><li>'tumor_to_immune_mark'</li></ol>\n"
      ],
      "text/latex": [
       "\\begin{enumerate*}\n",
       "\\item 'Sample\\_ID'\n",
       "\\item 'Survival\\_days'\n",
       "\\item 'Status\\_Cox'\n",
       "\\item 'tumor\\_to\\_immune\\_mark'\n",
       "\\end{enumerate*}\n"
      ],
      "text/markdown": [
       "1. 'Sample_ID'\n",
       "2. 'Survival_days'\n",
       "3. 'Status_Cox'\n",
       "4. 'tumor_to_immune_mark'\n",
       "\n",
       "\n"
      ],
      "text/plain": [
       "[1] \"Sample_ID\"            \"Survival_days\"        \"Status_Cox\"          \n",
       "[4] \"tumor_to_immune_mark\""
      ]
     },
     "metadata": {},
     "output_type": "display_data"
    }
   ],
   "source": [
    "sigGenes = colnames(rt)\n",
    "sigGenes"
   ]
  },
  {
   "cell_type": "code",
   "execution_count": 64,
   "metadata": {
    "vscode": {
     "languageId": "r"
    }
   },
   "outputs": [
    {
     "data": {
      "text/html": [
       "<style>\n",
       ".list-inline {list-style: none; margin:0; padding: 0}\n",
       ".list-inline>li {display: inline-block}\n",
       ".list-inline>li:not(:last-child)::after {content: \"\\00b7\"; padding: 0 .5ex}\n",
       "</style>\n",
       "<ol class=list-inline><li>'Sample_ID'</li><li>'Survival_days'</li><li>'Status_Cox'</li><li>'tumor_to_immune_mark'</li></ol>\n"
      ],
      "text/latex": [
       "\\begin{enumerate*}\n",
       "\\item 'Sample\\_ID'\n",
       "\\item 'Survival\\_days'\n",
       "\\item 'Status\\_Cox'\n",
       "\\item 'tumor\\_to\\_immune\\_mark'\n",
       "\\end{enumerate*}\n"
      ],
      "text/markdown": [
       "1. 'Sample_ID'\n",
       "2. 'Survival_days'\n",
       "3. 'Status_Cox'\n",
       "4. 'tumor_to_immune_mark'\n",
       "\n",
       "\n"
      ],
      "text/plain": [
       "[1] \"Sample_ID\"            \"Survival_days\"        \"Status_Cox\"          \n",
       "[4] \"tumor_to_immune_mark\""
      ]
     },
     "metadata": {},
     "output_type": "display_data"
    }
   ],
   "source": [
    "sigGenes"
   ]
  },
  {
   "cell_type": "markdown",
   "metadata": {},
   "source": [
    "## 3）Construct a multi-factor Cox model"
   ]
  },
  {
   "cell_type": "code",
   "execution_count": 28,
   "metadata": {
    "vscode": {
     "languageId": "r"
    }
   },
   "outputs": [
    {
     "data": {
      "text/html": [
       "<table class=\"dataframe\">\n",
       "<caption>A data.frame: 6 × 4</caption>\n",
       "<thead>\n",
       "\t<tr><th></th><th scope=col>Sample_ID</th><th scope=col>Survival_days</th><th scope=col>Status_Cox</th><th scope=col>tumor_to_immune_mark</th></tr>\n",
       "\t<tr><th></th><th scope=col>&lt;chr&gt;</th><th scope=col>&lt;dbl&gt;</th><th scope=col>&lt;int&gt;</th><th scope=col>&lt;fct&gt;</th></tr>\n",
       "</thead>\n",
       "<tbody>\n",
       "\t<tr><th scope=row>AML_Beat_12_00051</th><td>AML_Beat_12_00051</td><td>1.936986</td><td>1</td><td>Primitive_CD8T_Int_CD4T_Low</td></tr>\n",
       "\t<tr><th scope=row>AML_Beat_12_00211</th><td>AML_Beat_12_00211</td><td>3.824658</td><td>0</td><td>Mature_CD8T_Int_CD4T_Low   </td></tr>\n",
       "\t<tr><th scope=row>AML_Beat_13_00157</th><td>AML_Beat_13_00157</td><td>3.778082</td><td>0</td><td>Primitive_CD8T_Int_CD4T_Low</td></tr>\n",
       "\t<tr><th scope=row>AML_Beat_13_00163</th><td>AML_Beat_13_00163</td><td>1.095890</td><td>0</td><td>GMP_CD8_Int_CD4_High       </td></tr>\n",
       "\t<tr><th scope=row>AML_Beat_13_00195</th><td>AML_Beat_13_00195</td><td>2.663014</td><td>0</td><td>Primitive_CD8T_Int_CD4T_Low</td></tr>\n",
       "\t<tr><th scope=row>AML_Beat_13_00232</th><td>AML_Beat_13_00232</td><td>2.742466</td><td>0</td><td>GMP_CD8T_Int_CD4T_Low      </td></tr>\n",
       "</tbody>\n",
       "</table>\n"
      ],
      "text/latex": [
       "A data.frame: 6 × 4\n",
       "\\begin{tabular}{r|llll}\n",
       "  & Sample\\_ID & Survival\\_days & Status\\_Cox & tumor\\_to\\_immune\\_mark\\\\\n",
       "  & <chr> & <dbl> & <int> & <fct>\\\\\n",
       "\\hline\n",
       "\tAML\\_Beat\\_12\\_00051 & AML\\_Beat\\_12\\_00051 & 1.936986 & 1 & Primitive\\_CD8T\\_Int\\_CD4T\\_Low\\\\\n",
       "\tAML\\_Beat\\_12\\_00211 & AML\\_Beat\\_12\\_00211 & 3.824658 & 0 & Mature\\_CD8T\\_Int\\_CD4T\\_Low   \\\\\n",
       "\tAML\\_Beat\\_13\\_00157 & AML\\_Beat\\_13\\_00157 & 3.778082 & 0 & Primitive\\_CD8T\\_Int\\_CD4T\\_Low\\\\\n",
       "\tAML\\_Beat\\_13\\_00163 & AML\\_Beat\\_13\\_00163 & 1.095890 & 0 & GMP\\_CD8\\_Int\\_CD4\\_High       \\\\\n",
       "\tAML\\_Beat\\_13\\_00195 & AML\\_Beat\\_13\\_00195 & 2.663014 & 0 & Primitive\\_CD8T\\_Int\\_CD4T\\_Low\\\\\n",
       "\tAML\\_Beat\\_13\\_00232 & AML\\_Beat\\_13\\_00232 & 2.742466 & 0 & GMP\\_CD8T\\_Int\\_CD4T\\_Low      \\\\\n",
       "\\end{tabular}\n"
      ],
      "text/markdown": [
       "\n",
       "A data.frame: 6 × 4\n",
       "\n",
       "| <!--/--> | Sample_ID &lt;chr&gt; | Survival_days &lt;dbl&gt; | Status_Cox &lt;int&gt; | tumor_to_immune_mark &lt;fct&gt; |\n",
       "|---|---|---|---|---|\n",
       "| AML_Beat_12_00051 | AML_Beat_12_00051 | 1.936986 | 1 | Primitive_CD8T_Int_CD4T_Low |\n",
       "| AML_Beat_12_00211 | AML_Beat_12_00211 | 3.824658 | 0 | Mature_CD8T_Int_CD4T_Low    |\n",
       "| AML_Beat_13_00157 | AML_Beat_13_00157 | 3.778082 | 0 | Primitive_CD8T_Int_CD4T_Low |\n",
       "| AML_Beat_13_00163 | AML_Beat_13_00163 | 1.095890 | 0 | GMP_CD8_Int_CD4_High        |\n",
       "| AML_Beat_13_00195 | AML_Beat_13_00195 | 2.663014 | 0 | Primitive_CD8T_Int_CD4T_Low |\n",
       "| AML_Beat_13_00232 | AML_Beat_13_00232 | 2.742466 | 0 | GMP_CD8T_Int_CD4T_Low       |\n",
       "\n"
      ],
      "text/plain": [
       "                  Sample_ID         Survival_days Status_Cox\n",
       "AML_Beat_12_00051 AML_Beat_12_00051 1.936986      1         \n",
       "AML_Beat_12_00211 AML_Beat_12_00211 3.824658      0         \n",
       "AML_Beat_13_00157 AML_Beat_13_00157 3.778082      0         \n",
       "AML_Beat_13_00163 AML_Beat_13_00163 1.095890      0         \n",
       "AML_Beat_13_00195 AML_Beat_13_00195 2.663014      0         \n",
       "AML_Beat_13_00232 AML_Beat_13_00232 2.742466      0         \n",
       "                  tumor_to_immune_mark       \n",
       "AML_Beat_12_00051 Primitive_CD8T_Int_CD4T_Low\n",
       "AML_Beat_12_00211 Mature_CD8T_Int_CD4T_Low   \n",
       "AML_Beat_13_00157 Primitive_CD8T_Int_CD4T_Low\n",
       "AML_Beat_13_00163 GMP_CD8_Int_CD4_High       \n",
       "AML_Beat_13_00195 Primitive_CD8T_Int_CD4T_Low\n",
       "AML_Beat_13_00232 GMP_CD8T_Int_CD4T_Low      "
      ]
     },
     "metadata": {},
     "output_type": "display_data"
    }
   ],
   "source": [
    "head(rt)"
   ]
  },
  {
   "cell_type": "code",
   "execution_count": null,
   "metadata": {
    "vscode": {
     "languageId": "r"
    }
   },
   "outputs": [],
   "source": []
  },
  {
   "cell_type": "code",
   "execution_count": 68,
   "metadata": {
    "vscode": {
     "languageId": "r"
    }
   },
   "outputs": [],
   "source": []
  },
  {
   "cell_type": "code",
   "execution_count": 29,
   "metadata": {
    "vscode": {
     "languageId": "r"
    }
   },
   "outputs": [
    {
     "name": "stdout",
     "output_type": "stream",
     "text": [
      "[1] \"###### START : 1 #########\"\n"
     ]
    },
    {
     "name": "stderr",
     "output_type": "stream",
     "text": [
      "\n",
      "Attaching package: ‘dplyr’\n",
      "\n",
      "\n",
      "The following objects are masked from ‘package:stats’:\n",
      "\n",
      "    filter, lag\n",
      "\n",
      "\n",
      "The following objects are masked from ‘package:base’:\n",
      "\n",
      "    intersect, setdiff, setequal, union\n",
      "\n",
      "\n",
      "Warning message in coxph.fit(X, Y, istrat, offset, init, control, weights = weights, :\n",
      "“Loglik converged before variable  1 ; coefficient may be infinite. ”\n"
     ]
    },
    {
     "name": "stdout",
     "output_type": "stream",
     "text": [
      "[1] \"pValue : 0\"\n",
      "[1] \"pValueTest : 3.88874470402811e-08\"\n",
      "[1] \"roc$AUC : 0.7899304340973\"\n",
      "[1] \"rocTest$AUC : 0.83516356003664\"\n",
      "[1] \"###### Done : 1 #########\"\n",
      "[1] \"######                                                    #########\"\n",
      "[1] \"###### START : 2 #########\"\n",
      "[1] \"pValue : 0\"\n",
      "[1] \"pValueTest : 3.03391397523667e-05\"\n",
      "[1] \"roc$AUC : 0.787155701140675\"\n",
      "[1] \"rocTest$AUC : 0.810803383990392\"\n",
      "[1] \"###### Done : 2 #########\"\n",
      "[1] \"######                                                    #########\"\n",
      "[1] \"###### START : 3 #########\"\n",
      "[1] \"pValue : 1.765254609154e-14\"\n",
      "[1] \"pValueTest : 1.98639549253699e-10\"\n",
      "[1] \"roc$AUC : 0.816784748042128\"\n",
      "[1] \"rocTest$AUC : 0.783377876491582\"\n",
      "[1] \"###### Done : 3 #########\"\n",
      "[1] \"######                                                    #########\"\n",
      "[1] \"###### START : 4 #########\"\n"
     ]
    },
    {
     "name": "stderr",
     "output_type": "stream",
     "text": [
      "Warning message in coxph.fit(X, Y, istrat, offset, init, control, weights = weights, :\n",
      "“Loglik converged before variable  1 ; coefficient may be infinite. ”\n"
     ]
    },
    {
     "name": "stdout",
     "output_type": "stream",
     "text": [
      "[1] \"pValue : 0\"\n",
      "[1] \"pValueTest : 0.000190961155905001\"\n",
      "[1] \"roc$AUC : 0.800374248340302\"\n",
      "[1] \"rocTest$AUC : 0.797666785687521\"\n",
      "[1] \"###### Done : 4 #########\"\n",
      "[1] \"######                                                    #########\"\n",
      "[1] \"###### START : 5 #########\"\n"
     ]
    },
    {
     "name": "stderr",
     "output_type": "stream",
     "text": [
      "Warning message in coxph.fit(X, Y, istrat, offset, init, control, weights = weights, :\n",
      "“Loglik converged before variable  1 ; coefficient may be infinite. ”\n"
     ]
    },
    {
     "name": "stdout",
     "output_type": "stream",
     "text": [
      "[1] \"pValue : 0\"\n",
      "[1] \"pValueTest : 0.000303710340647911\"\n",
      "[1] \"roc$AUC : 0.841375064954644\"\n",
      "[1] \"rocTest$AUC : 0.689349355902608\"\n",
      "[1] \"###### Done : 5 #########\"\n",
      "[1] \"######                                                    #########\"\n",
      "[1] \"###### START : 6 #########\"\n",
      "[1] \"pValue : 0\"\n",
      "[1] \"pValueTest : 3.31958499055762e-06\"\n",
      "[1] \"roc$AUC : 0.820041175118038\"\n",
      "[1] \"rocTest$AUC : 0.658745212160815\"\n",
      "[1] \"###### Done : 6 #########\"\n",
      "[1] \"######                                                    #########\"\n",
      "[1] \"###### START : 7 #########\"\n",
      "[1] \"pValue : 0\"\n",
      "[1] \"pValueTest : 0.00527461872666135\"\n",
      "[1] \"roc$AUC : 0.84511034959699\"\n",
      "[1] \"rocTest$AUC : 0.564302199982346\"\n",
      "[1] \"###### Done : 7 #########\"\n",
      "[1] \"######                                                    #########\"\n",
      "[1] \"###### START : 8 #########\"\n"
     ]
    },
    {
     "name": "stderr",
     "output_type": "stream",
     "text": [
      "Warning message in coxph.fit(X, Y, istrat, offset, init, control, weights = weights, :\n",
      "“Loglik converged before variable  1 ; coefficient may be infinite. ”\n"
     ]
    },
    {
     "name": "stdout",
     "output_type": "stream",
     "text": [
      "[1] \"pValue : 0\"\n",
      "[1] \"pValueTest : 6.22119272319921e-07\"\n",
      "[1] \"roc$AUC : 0.820839347072628\"\n",
      "[1] \"rocTest$AUC : 0.730697631262389\"\n",
      "[1] \"###### Done : 8 #########\"\n",
      "[1] \"######                                                    #########\"\n",
      "[1] \"###### START : 9 #########\"\n",
      "[1] \"pValue : 0\"\n",
      "[1] \"pValueTest : 2.18076930377231e-05\"\n",
      "[1] \"roc$AUC : 0.803291007273669\"\n",
      "[1] \"rocTest$AUC : 0.809400862088235\"\n",
      "[1] \"###### Done : 9 #########\"\n",
      "[1] \"######                                                    #########\"\n",
      "[1] \"###### START : 10 #########\"\n",
      "[1] \"pValue : 0\"\n",
      "[1] \"pValueTest : 1.8475266233664e-05\"\n",
      "[1] \"roc$AUC : 0.78112501368022\"\n",
      "[1] \"rocTest$AUC : 0.780442896508578\"\n",
      "[1] \"###### Done : 10 #########\"\n",
      "[1] \"######                                                    #########\"\n",
      "[1] \"###### START : 11 #########\"\n",
      "[1] \"pValue : 0\"\n",
      "[1] \"pValueTest : 1.29617168420637e-05\"\n",
      "[1] \"roc$AUC : 0.842432414813047\"\n",
      "[1] \"rocTest$AUC : 0.664619743265999\"\n",
      "[1] \"###### Done : 11 #########\"\n",
      "[1] \"######                                                    #########\"\n",
      "[1] \"###### START : 12 #########\"\n",
      "[1] \"pValue : 0\"\n",
      "[1] \"pValueTest : 5.21754598836743e-06\"\n",
      "[1] \"roc$AUC : 0.785236526680881\"\n",
      "[1] \"rocTest$AUC : 0.819398500387336\"\n",
      "[1] \"###### Done : 12 #########\"\n",
      "[1] \"######                                                    #########\"\n",
      "[1] \"###### START : 13 #########\"\n",
      "[1] \"pValue : 0\"\n",
      "[1] \"pValueTest : 0.00155788362730092\"\n",
      "[1] \"roc$AUC : 0.862371831999631\"\n",
      "[1] \"rocTest$AUC : 0.553737940809658\"\n",
      "[1] \"###### Done : 13 #########\"\n",
      "[1] \"######                                                    #########\"\n",
      "[1] \"###### START : 14 #########\"\n",
      "[1] \"pValue : 1.11022302462516e-16\"\n",
      "[1] \"pValueTest : 5.08509900853937e-11\"\n",
      "[1] \"roc$AUC : 0.807870448201692\"\n",
      "[1] \"rocTest$AUC : 0.727492976989907\"\n",
      "[1] \"###### Done : 14 #########\"\n",
      "[1] \"######                                                    #########\"\n",
      "[1] \"###### START : 15 #########\"\n"
     ]
    },
    {
     "name": "stderr",
     "output_type": "stream",
     "text": [
      "Warning message in coxph.fit(X, Y, istrat, offset, init, control, weights = weights, :\n",
      "“Loglik converged before variable  1 ; coefficient may be infinite. ”\n"
     ]
    },
    {
     "name": "stdout",
     "output_type": "stream",
     "text": [
      "[1] \"pValue : 0\"\n",
      "[1] \"pValueTest : 0.000723235402360856\"\n",
      "[1] \"roc$AUC : 0.838051723741614\"\n",
      "[1] \"rocTest$AUC : 0.595176956773742\"\n",
      "[1] \"###### Done : 15 #########\"\n",
      "[1] \"######                                                    #########\"\n",
      "[1] \"###### START : 16 #########\"\n"
     ]
    },
    {
     "name": "stderr",
     "output_type": "stream",
     "text": [
      "Warning message in coxph.fit(X, Y, istrat, offset, init, control, weights = weights, :\n",
      "“Loglik converged before variable  18 ; coefficient may be infinite. ”\n"
     ]
    },
    {
     "name": "stdout",
     "output_type": "stream",
     "text": [
      "[1] \"pValue : 0\"\n",
      "[1] \"pValueTest : 2.92094456211256e-06\"\n",
      "[1] \"roc$AUC : 0.813337694988196\"\n",
      "[1] \"rocTest$AUC : 0.712644755992672\"\n",
      "[1] \"###### Done : 16 #########\"\n",
      "[1] \"######                                                    #########\"\n",
      "[1] \"###### START : 17 #########\"\n"
     ]
    },
    {
     "name": "stderr",
     "output_type": "stream",
     "text": [
      "Warning message in coxph.fit(X, Y, istrat, offset, init, control, weights = weights, :\n",
      "“Loglik converged before variable  1,2,3,4,5,6,7,8,9,10,11,12,13,14,15,16,18 ; coefficient may be infinite. ”\n"
     ]
    },
    {
     "name": "stdout",
     "output_type": "stream",
     "text": [
      "[1] \"pValue : 0\"\n",
      "[1] \"pValueTest : 0.00112377869956892\"\n",
      "[1] \"roc$AUC : 0.843506242410096\"\n",
      "[1] \"rocTest$AUC : 0.634811430065762\"\n",
      "[1] \"###### Done : 17 #########\"\n",
      "[1] \"######                                                    #########\"\n",
      "[1] \"###### START : 18 #########\"\n"
     ]
    },
    {
     "name": "stderr",
     "output_type": "stream",
     "text": [
      "Warning message in coxph.fit(X, Y, istrat, offset, init, control, weights = weights, :\n",
      "“Loglik converged before variable  11,17 ; coefficient may be infinite. ”\n"
     ]
    },
    {
     "name": "stdout",
     "output_type": "stream",
     "text": [
      "[1] \"pValue : 0\"\n",
      "[1] \"pValueTest : 0.000256541324614168\"\n",
      "[1] \"roc$AUC : 0.806730672067265\"\n",
      "[1] \"rocTest$AUC : 0.637874854721117\"\n",
      "[1] \"###### Done : 18 #########\"\n",
      "[1] \"######                                                    #########\"\n",
      "[1] \"###### START : 19 #########\"\n"
     ]
    },
    {
     "name": "stderr",
     "output_type": "stream",
     "text": [
      "Warning message in coxph.fit(X, Y, istrat, offset, init, control, weights = weights, :\n",
      "“Loglik converged before variable  18 ; coefficient may be infinite. ”\n"
     ]
    },
    {
     "name": "stdout",
     "output_type": "stream",
     "text": [
      "[1] \"pValue : 3.33066907387547e-16\"\n",
      "[1] \"pValueTest : 1.58755553147927e-09\"\n",
      "[1] \"roc$AUC : 0.770617439062384\"\n",
      "[1] \"rocTest$AUC : 0.87332571940813\"\n",
      "[1] \"###### Done : 19 #########\"\n",
      "[1] \"######                                                    #########\"\n",
      "[1] \"###### START : 20 #########\"\n",
      "[1] \"pValue : 0\"\n",
      "[1] \"pValueTest : 1.68722525384357e-05\"\n",
      "[1] \"roc$AUC : 0.804968502997479\"\n",
      "[1] \"rocTest$AUC : 0.743858651758856\"\n",
      "[1] \"###### Done : 20 #########\"\n",
      "[1] \"######                                                    #########\"\n",
      "[1] \"###### START : 21 #########\"\n",
      "[1] \"pValue : 2.22044604925031e-16\"\n",
      "[1] \"pValueTest : 2.56289779621e-07\"\n",
      "[1] \"roc$AUC : 0.79009311003671\"\n",
      "[1] \"rocTest$AUC : 0.869015042369454\"\n",
      "[1] \"###### Done : 21 #########\"\n",
      "[1] \"######                                                    #########\"\n",
      "[1] \"###### START : 22 #########\"\n"
     ]
    },
    {
     "name": "stderr",
     "output_type": "stream",
     "text": [
      "Warning message in coxph.fit(X, Y, istrat, offset, init, control, weights = weights, :\n",
      "“Loglik converged before variable  1 ; coefficient may be infinite. ”\n"
     ]
    },
    {
     "name": "stdout",
     "output_type": "stream",
     "text": [
      "[1] \"pValue : 0\"\n",
      "[1] \"pValueTest : 2.03445574864514e-06\"\n",
      "[1] \"roc$AUC : 0.820151698788606\"\n",
      "[1] \"rocTest$AUC : 0.772493293470984\"\n",
      "[1] \"###### Done : 22 #########\"\n",
      "[1] \"######                                                    #########\"\n",
      "[1] \"###### START : 23 #########\"\n",
      "[1] \"pValue : 0\"\n",
      "[1] \"pValueTest : 7.68809945594917e-06\"\n",
      "[1] \"roc$AUC : 0.766661169506843\"\n",
      "[1] \"rocTest$AUC : 0.869931392720752\"\n",
      "[1] \"###### Done : 23 #########\"\n",
      "[1] \"######                                                    #########\"\n",
      "[1] \"###### START : 24 #########\"\n"
     ]
    },
    {
     "name": "stderr",
     "output_type": "stream",
     "text": [
      "Warning message in coxph.fit(X, Y, istrat, offset, init, control, weights = weights, :\n",
      "“Loglik converged before variable  1 ; coefficient may be infinite. ”\n"
     ]
    },
    {
     "name": "stdout",
     "output_type": "stream",
     "text": [
      "[1] \"pValue : 2.77555756156289e-15\"\n",
      "[1] \"pValueTest : 2.7869898389099e-08\"\n",
      "[1] \"roc$AUC : 0.800408221527615\"\n",
      "[1] \"rocTest$AUC : 0.87491530918574\"\n",
      "[1] \"###### Done : 24 #########\"\n",
      "[1] \"######                                                    #########\"\n",
      "[1] \"###### START : 25 #########\"\n"
     ]
    },
    {
     "name": "stderr",
     "output_type": "stream",
     "text": [
      "Warning message in coxph.fit(X, Y, istrat, offset, init, control, weights = weights, :\n",
      "“Loglik converged before variable  1 ; coefficient may be infinite. ”\n"
     ]
    },
    {
     "name": "stdout",
     "output_type": "stream",
     "text": [
      "[1] \"pValue : 0\"\n",
      "[1] \"pValueTest : 8.37724781321825e-07\"\n",
      "[1] \"roc$AUC : 0.814282384802949\"\n",
      "[1] \"rocTest$AUC : 0.760651523917339\"\n",
      "[1] \"###### Done : 25 #########\"\n",
      "[1] \"######                                                    #########\"\n",
      "[1] \"###### START : 26 #########\"\n"
     ]
    },
    {
     "name": "stderr",
     "output_type": "stream",
     "text": [
      "Warning message in coxph.fit(X, Y, istrat, offset, init, control, weights = weights, :\n",
      "“Loglik converged before variable  1,11 ; coefficient may be infinite. ”\n"
     ]
    },
    {
     "name": "stdout",
     "output_type": "stream",
     "text": [
      "[1] \"pValue : 0\"\n",
      "[1] \"pValueTest : 6.35438450968806e-07\"\n",
      "[1] \"roc$AUC : 0.810236860081801\"\n",
      "[1] \"rocTest$AUC : 0.704043422427974\"\n",
      "[1] \"###### Done : 26 #########\"\n",
      "[1] \"######                                                    #########\"\n",
      "[1] \"###### START : 27 #########\"\n"
     ]
    },
    {
     "name": "stderr",
     "output_type": "stream",
     "text": [
      "Warning message in coxph.fit(X, Y, istrat, offset, init, control, weights = weights, :\n",
      "“Loglik converged before variable  18 ; coefficient may be infinite. ”\n"
     ]
    },
    {
     "name": "stdout",
     "output_type": "stream",
     "text": [
      "[1] \"pValue : 0\"\n",
      "[1] \"pValueTest : 1.19172318261418e-05\"\n",
      "[1] \"roc$AUC : 0.785800757633317\"\n",
      "[1] \"rocTest$AUC : 0.770764831759637\"\n",
      "[1] \"###### Done : 27 #########\"\n",
      "[1] \"######                                                    #########\"\n",
      "[1] \"###### START : 28 #########\"\n"
     ]
    },
    {
     "name": "stderr",
     "output_type": "stream",
     "text": [
      "Warning message in coxph.fit(X, Y, istrat, offset, init, control, weights = weights, :\n",
      "“Loglik converged before variable  1,18 ; coefficient may be infinite. ”\n"
     ]
    },
    {
     "name": "stdout",
     "output_type": "stream",
     "text": [
      "[1] \"pValue : 0\"\n",
      "[1] \"pValueTest : 1.82238241719368e-07\"\n",
      "[1] \"roc$AUC : 0.832737026346017\"\n",
      "[1] \"rocTest$AUC : 0.741668613773777\"\n",
      "[1] \"###### Done : 28 #########\"\n",
      "[1] \"######                                                    #########\"\n",
      "[1] \"###### START : 29 #########\"\n"
     ]
    },
    {
     "name": "stderr",
     "output_type": "stream",
     "text": [
      "Warning message in coxph.fit(X, Y, istrat, offset, init, control, weights = weights, :\n",
      "“Loglik converged before variable  1,17,18 ; coefficient may be infinite. ”\n"
     ]
    },
    {
     "name": "stdout",
     "output_type": "stream",
     "text": [
      "[1] \"pValue : 0\"\n",
      "[1] \"pValueTest : 8.47208753962381e-06\"\n",
      "[1] \"roc$AUC : 0.821077592457696\"\n",
      "[1] \"rocTest$AUC : 0.690268805152045\"\n",
      "[1] \"###### Done : 29 #########\"\n",
      "[1] \"######                                                    #########\"\n",
      "[1] \"###### START : 30 #########\"\n"
     ]
    },
    {
     "name": "stderr",
     "output_type": "stream",
     "text": [
      "Warning message in coxph.fit(X, Y, istrat, offset, init, control, weights = weights, :\n",
      "“Loglik converged before variable  1,2,3,4,5,6,7,8,9,10,11,12,13,14,15,16,17 ; coefficient may be infinite. ”\n"
     ]
    },
    {
     "name": "stdout",
     "output_type": "stream",
     "text": [
      "[1] \"pValue : 0\"\n",
      "[1] \"pValueTest : 5.55614763642076e-07\"\n",
      "[1] \"roc$AUC : 0.772519507190165\"\n",
      "[1] \"rocTest$AUC : 0.858053868657232\"\n",
      "[1] \"###### Done : 30 #########\"\n",
      "[1] \"######                                                    #########\"\n",
      "[1] \"###### START : 31 #########\"\n",
      "[1] \"pValue : 0\"\n",
      "[1] \"pValueTest : 6.13516590782792e-05\"\n",
      "[1] \"roc$AUC : 0.808191215560111\"\n",
      "[1] \"rocTest$AUC : 0.777930713550664\"\n",
      "[1] \"###### Done : 31 #########\"\n",
      "[1] \"######                                                    #########\"\n",
      "[1] \"###### START : 32 #########\"\n"
     ]
    },
    {
     "name": "stderr",
     "output_type": "stream",
     "text": [
      "Warning message in coxph.fit(X, Y, istrat, offset, init, control, weights = weights, :\n",
      "“Loglik converged before variable  18 ; coefficient may be infinite. ”\n"
     ]
    },
    {
     "name": "stdout",
     "output_type": "stream",
     "text": [
      "[1] \"pValue : 0\"\n",
      "[1] \"pValueTest : 8.73235535192585e-05\"\n",
      "[1] \"roc$AUC : 0.803829618801622\"\n",
      "[1] \"rocTest$AUC : 0.727440048230865\"\n",
      "[1] \"###### Done : 32 #########\"\n",
      "[1] \"######                                                    #########\"\n",
      "[1] \"###### START : 33 #########\"\n",
      "[1] \"pValue : 0\"\n",
      "[1] \"pValueTest : 1.03973084708553e-06\"\n",
      "[1] \"roc$AUC : 0.804401303235795\"\n",
      "[1] \"rocTest$AUC : 0.803407047673644\"\n",
      "[1] \"###### Done : 33 #########\"\n",
      "[1] \"######                                                    #########\"\n",
      "[1] \"###### START : 34 #########\"\n",
      "[1] \"pValue : 5.32907051820075e-15\"\n",
      "[1] \"pValueTest : 2.03227712436416e-09\"\n",
      "[1] \"roc$AUC : 0.79801907408189\"\n",
      "[1] \"rocTest$AUC : 0.816035882128027\"\n",
      "[1] \"###### Done : 34 #########\"\n",
      "[1] \"######                                                    #########\"\n",
      "[1] \"###### START : 35 #########\"\n",
      "[1] \"pValue : 0\"\n",
      "[1] \"pValueTest : 2.51313969634737e-09\"\n",
      "[1] \"roc$AUC : 0.791683441875353\"\n",
      "[1] \"rocTest$AUC : 0.796293623863241\"\n",
      "[1] \"###### Done : 35 #########\"\n",
      "[1] \"######                                                    #########\"\n",
      "[1] \"###### START : 36 #########\"\n",
      "[1] \"pValue : 0\"\n",
      "[1] \"pValueTest : 5.85943786590715e-06\"\n",
      "[1] \"roc$AUC : 0.832627070062446\"\n",
      "[1] \"rocTest$AUC : 0.754201173673018\"\n",
      "[1] \"###### Done : 36 #########\"\n",
      "[1] \"######                                                    #########\"\n",
      "[1] \"###### START : 37 #########\"\n",
      "[1] \"pValue : 0\"\n",
      "[1] \"pValueTest : 1.09125332103943e-08\"\n",
      "[1] \"roc$AUC : 0.794300536941503\"\n",
      "[1] \"rocTest$AUC : 0.815910033397114\"\n",
      "[1] \"###### Done : 37 #########\"\n",
      "[1] \"######                                                    #########\"\n",
      "[1] \"###### START : 38 #########\"\n"
     ]
    },
    {
     "name": "stderr",
     "output_type": "stream",
     "text": [
      "Warning message in coxph.fit(X, Y, istrat, offset, init, control, weights = weights, :\n",
      "“Loglik converged before variable  4 ; coefficient may be infinite. ”\n"
     ]
    },
    {
     "name": "stdout",
     "output_type": "stream",
     "text": [
      "[1] \"pValue : 0\"\n",
      "[1] \"pValueTest : 6.70409520431292e-06\"\n",
      "[1] \"roc$AUC : 0.831047948613875\"\n",
      "[1] \"rocTest$AUC : 0.672789420542951\"\n",
      "[1] \"###### Done : 38 #########\"\n",
      "[1] \"######                                                    #########\"\n",
      "[1] \"###### START : 39 #########\"\n",
      "[1] \"pValue : 1.33226762955019e-15\"\n",
      "[1] \"pValueTest : 3.78884693730264e-07\"\n",
      "[1] \"roc$AUC : 0.801034675407794\"\n",
      "[1] \"rocTest$AUC : 0.755400227733834\"\n",
      "[1] \"###### Done : 39 #########\"\n",
      "[1] \"######                                                    #########\"\n",
      "[1] \"###### START : 40 #########\"\n",
      "[1] \"pValue : 0\"\n",
      "[1] \"pValueTest : 3.83508089840667e-07\"\n",
      "[1] \"roc$AUC : 0.806047761770331\"\n",
      "[1] \"rocTest$AUC : 0.778265462623011\"\n",
      "[1] \"###### Done : 40 #########\"\n",
      "[1] \"######                                                    #########\"\n",
      "[1] \"###### START : 41 #########\"\n"
     ]
    },
    {
     "name": "stderr",
     "output_type": "stream",
     "text": [
      "Warning message in coxph.fit(X, Y, istrat, offset, init, control, weights = weights, :\n",
      "“Loglik converged before variable  1,4 ; coefficient may be infinite. ”\n"
     ]
    },
    {
     "name": "stdout",
     "output_type": "stream",
     "text": [
      "[1] \"pValue : 0\"\n",
      "[1] \"pValueTest : 0.0010364418588662\"\n",
      "[1] \"roc$AUC : 0.853129330257435\"\n",
      "[1] \"rocTest$AUC : 0.58103092469498\"\n",
      "[1] \"###### Done : 41 #########\"\n",
      "[1] \"######                                                    #########\"\n",
      "[1] \"###### START : 42 #########\"\n"
     ]
    },
    {
     "name": "stderr",
     "output_type": "stream",
     "text": [
      "Warning message in coxph.fit(X, Y, istrat, offset, init, control, weights = weights, :\n",
      "“Loglik converged before variable  1 ; coefficient may be infinite. ”\n"
     ]
    },
    {
     "name": "stdout",
     "output_type": "stream",
     "text": [
      "[1] \"pValue : 0\"\n",
      "[1] \"pValueTest : 1.80158327711677e-06\"\n",
      "[1] \"roc$AUC : 0.823906869825478\"\n",
      "[1] \"rocTest$AUC : 0.699086983058053\"\n",
      "[1] \"###### Done : 42 #########\"\n",
      "[1] \"######                                                    #########\"\n",
      "[1] \"###### START : 43 #########\"\n",
      "[1] \"pValue : 0\"\n",
      "[1] \"pValueTest : 2.64334628713447e-05\"\n",
      "[1] \"roc$AUC : 0.825833117248333\"\n",
      "[1] \"rocTest$AUC : 0.762171228915117\"\n",
      "[1] \"###### Done : 43 #########\"\n",
      "[1] \"######                                                    #########\"\n",
      "[1] \"###### START : 44 #########\"\n"
     ]
    },
    {
     "name": "stderr",
     "output_type": "stream",
     "text": [
      "Warning message in coxph.fit(X, Y, istrat, offset, init, control, weights = weights, :\n",
      "“Loglik converged before variable  1 ; coefficient may be infinite. ”\n"
     ]
    },
    {
     "name": "stdout",
     "output_type": "stream",
     "text": [
      "[1] \"pValue : 0\"\n",
      "[1] \"pValueTest : 5.7459741298338e-08\"\n",
      "[1] \"roc$AUC : 0.786685869346383\"\n",
      "[1] \"rocTest$AUC : 0.748998255286772\"\n",
      "[1] \"###### Done : 44 #########\"\n",
      "[1] \"######                                                    #########\"\n",
      "[1] \"###### START : 45 #########\"\n"
     ]
    },
    {
     "name": "stderr",
     "output_type": "stream",
     "text": [
      "Warning message in coxph.fit(X, Y, istrat, offset, init, control, weights = weights, :\n",
      "“Loglik converged before variable  18 ; coefficient may be infinite. ”\n"
     ]
    },
    {
     "name": "stdout",
     "output_type": "stream",
     "text": [
      "[1] \"pValue : 0\"\n",
      "[1] \"pValueTest : 7.81633898605527e-07\"\n",
      "[1] \"roc$AUC : 0.835277802685468\"\n",
      "[1] \"rocTest$AUC : 0.687998340207513\"\n",
      "[1] \"###### Done : 45 #########\"\n",
      "[1] \"######                                                    #########\"\n",
      "[1] \"###### START : 46 #########\"\n",
      "[1] \"pValue : 5.55111512312578e-16\"\n",
      "[1] \"pValueTest : 1.05228469937657e-07\"\n",
      "[1] \"roc$AUC : 0.779606431297159\"\n",
      "[1] \"rocTest$AUC : 0.817462765570421\"\n",
      "[1] \"###### Done : 46 #########\"\n",
      "[1] \"######                                                    #########\"\n",
      "[1] \"###### START : 47 #########\"\n"
     ]
    },
    {
     "name": "stderr",
     "output_type": "stream",
     "text": [
      "Warning message in coxph.fit(X, Y, istrat, offset, init, control, weights = weights, :\n",
      "“Loglik converged before variable  2,3,4,5,6,7,8,9,10,11,12,13,14,15,16,17,18 ; coefficient may be infinite. ”\n"
     ]
    },
    {
     "name": "stdout",
     "output_type": "stream",
     "text": [
      "[1] \"pValue : 6.66133814775094e-16\"\n",
      "[1] \"pValueTest : 4.52042592691271e-07\"\n",
      "[1] \"roc$AUC : 0.810148106600527\"\n",
      "[1] \"rocTest$AUC : 0.799147589764025\"\n",
      "[1] \"###### Done : 47 #########\"\n",
      "[1] \"######                                                    #########\"\n",
      "[1] \"###### START : 48 #########\"\n",
      "[1] \"pValue : 0\"\n",
      "[1] \"pValueTest : 2.55131054616164e-07\"\n",
      "[1] \"roc$AUC : 0.825805853256089\"\n",
      "[1] \"rocTest$AUC : 0.762381664260329\"\n",
      "[1] \"###### Done : 48 #########\"\n",
      "[1] \"######                                                    #########\"\n",
      "[1] \"###### START : 49 #########\"\n",
      "[1] \"pValue : 0\"\n",
      "[1] \"pValueTest : 7.82773716956342e-08\"\n",
      "[1] \"roc$AUC : 0.779629830054343\"\n",
      "[1] \"rocTest$AUC : 0.861175899302239\"\n",
      "[1] \"###### Done : 49 #########\"\n",
      "[1] \"######                                                    #########\"\n",
      "[1] \"###### START : 50 #########\"\n",
      "[1] \"pValue : 8.88178419700125e-16\"\n",
      "[1] \"pValueTest : 1.51733999809167e-07\"\n",
      "[1] \"roc$AUC : 0.74011985853171\"\n",
      "[1] \"rocTest$AUC : 0.870259672683348\"\n",
      "[1] \"###### Done : 50 #########\"\n",
      "[1] \"######                                                    #########\"\n",
      "[1] \"###### START : 51 #########\"\n"
     ]
    },
    {
     "name": "stderr",
     "output_type": "stream",
     "text": [
      "Warning message in coxph.fit(X, Y, istrat, offset, init, control, weights = weights, :\n",
      "“Loglik converged before variable  1,2,3,4,5,6,7,8,9,10,11,12,13,14,15,16,17,18 ; coefficient may be infinite. ”\n"
     ]
    },
    {
     "name": "stdout",
     "output_type": "stream",
     "text": [
      "[1] \"pValue : 0\"\n",
      "[1] \"pValueTest : 1.73840052053453e-06\"\n",
      "[1] \"roc$AUC : 0.816035130488835\"\n",
      "[1] \"rocTest$AUC : 0.787839058152349\"\n",
      "[1] \"###### Done : 51 #########\"\n",
      "[1] \"######                                                    #########\"\n",
      "[1] \"###### START : 52 #########\"\n"
     ]
    },
    {
     "name": "stderr",
     "output_type": "stream",
     "text": [
      "Warning message in coxph.fit(X, Y, istrat, offset, init, control, weights = weights, :\n",
      "“Loglik converged before variable  1,18 ; coefficient may be infinite. ”\n"
     ]
    },
    {
     "name": "stdout",
     "output_type": "stream",
     "text": [
      "[1] \"pValue : 0\"\n",
      "[1] \"pValueTest : 2.19071483710254e-05\"\n",
      "[1] \"roc$AUC : 0.844078546781592\"\n",
      "[1] \"rocTest$AUC : 0.643426692952097\"\n",
      "[1] \"###### Done : 52 #########\"\n",
      "[1] \"######                                                    #########\"\n",
      "[1] \"###### START : 53 #########\"\n"
     ]
    },
    {
     "name": "stderr",
     "output_type": "stream",
     "text": [
      "Warning message in coxph.fit(X, Y, istrat, offset, init, control, weights = weights, :\n",
      "“Loglik converged before variable  1,2,3,4,5,6,7,8,9,10,11,12,13,14,15,16,17 ; coefficient may be infinite. ”\n"
     ]
    },
    {
     "name": "stdout",
     "output_type": "stream",
     "text": [
      "[1] \"pValue : 0\"\n",
      "[1] \"pValueTest : 8.71837727289826e-06\"\n",
      "[1] \"roc$AUC : 0.788967525178438\"\n",
      "[1] \"rocTest$AUC : 0.861618420306526\"\n",
      "[1] \"###### Done : 53 #########\"\n",
      "[1] \"######                                                    #########\"\n",
      "[1] \"###### START : 54 #########\"\n"
     ]
    },
    {
     "name": "stderr",
     "output_type": "stream",
     "text": [
      "Warning message in coxph.fit(X, Y, istrat, offset, init, control, weights = weights, :\n",
      "“Loglik converged before variable  1 ; coefficient may be infinite. ”\n"
     ]
    },
    {
     "name": "stdout",
     "output_type": "stream",
     "text": [
      "[1] \"pValue : 1.11022302462516e-15\"\n",
      "[1] \"pValueTest : 1.05747632872522e-10\"\n",
      "[1] \"roc$AUC : 0.78042256412083\"\n",
      "[1] \"rocTest$AUC : 0.791364716262354\"\n",
      "[1] \"###### Done : 54 #########\"\n",
      "[1] \"######                                                    #########\"\n",
      "[1] \"###### START : 55 #########\"\n"
     ]
    },
    {
     "name": "stderr",
     "output_type": "stream",
     "text": [
      "Warning message in coxph.fit(X, Y, istrat, offset, init, control, weights = weights, :\n",
      "“Loglik converged before variable  1,18 ; coefficient may be infinite. ”\n"
     ]
    },
    {
     "name": "stdout",
     "output_type": "stream",
     "text": [
      "[1] \"pValue : 0\"\n",
      "[1] \"pValueTest : 4.21813870277177e-07\"\n",
      "[1] \"roc$AUC : 0.795413792615521\"\n",
      "[1] \"rocTest$AUC : 0.765266427658708\"\n",
      "[1] \"###### Done : 55 #########\"\n",
      "[1] \"######                                                    #########\"\n",
      "[1] \"###### START : 56 #########\"\n"
     ]
    },
    {
     "name": "stderr",
     "output_type": "stream",
     "text": [
      "Warning message in coxph.fit(X, Y, istrat, offset, init, control, weights = weights, :\n",
      "“Loglik converged before variable  1,2,3,4,5,6,7,8,9,10,11,12,13,14,15,16,17 ; coefficient may be infinite. ”\n"
     ]
    },
    {
     "name": "stdout",
     "output_type": "stream",
     "text": [
      "[1] \"pValue : 0\"\n",
      "[1] \"pValueTest : 4.70358580952901e-05\"\n",
      "[1] \"roc$AUC : 0.823857560898718\"\n",
      "[1] \"rocTest$AUC : 0.764348145713663\"\n",
      "[1] \"###### Done : 56 #########\"\n",
      "[1] \"######                                                    #########\"\n",
      "[1] \"###### START : 57 #########\"\n"
     ]
    },
    {
     "name": "stderr",
     "output_type": "stream",
     "text": [
      "Warning message in coxph.fit(X, Y, istrat, offset, init, control, weights = weights, :\n",
      "“Loglik converged before variable  1,17 ; coefficient may be infinite. ”\n"
     ]
    },
    {
     "name": "stdout",
     "output_type": "stream",
     "text": [
      "[1] \"pValue : 0\"\n",
      "[1] \"pValueTest : 1.30595322556104e-07\"\n",
      "[1] \"roc$AUC : 0.815756842427068\"\n",
      "[1] \"rocTest$AUC : 0.675588869623849\"\n",
      "[1] \"###### Done : 57 #########\"\n",
      "[1] \"######                                                    #########\"\n",
      "[1] \"###### START : 58 #########\"\n"
     ]
    },
    {
     "name": "stderr",
     "output_type": "stream",
     "text": [
      "Warning message in coxph.fit(X, Y, istrat, offset, init, control, weights = weights, :\n",
      "“Loglik converged before variable  18 ; coefficient may be infinite. ”\n"
     ]
    },
    {
     "name": "stdout",
     "output_type": "stream",
     "text": [
      "[1] \"pValue : 0\"\n",
      "[1] \"pValueTest : 3.56762607136574e-05\"\n",
      "[1] \"roc$AUC : 0.845941415365562\"\n",
      "[1] \"rocTest$AUC : 0.69208508452184\"\n",
      "[1] \"###### Done : 58 #########\"\n",
      "[1] \"######                                                    #########\"\n",
      "[1] \"###### START : 59 #########\"\n"
     ]
    },
    {
     "name": "stderr",
     "output_type": "stream",
     "text": [
      "Warning message in coxph.fit(X, Y, istrat, offset, init, control, weights = weights, :\n",
      "“Loglik converged before variable  2,3,4,5,6,7,8,9,10,11,12,13,14,15,16,18 ; coefficient may be infinite. ”\n"
     ]
    },
    {
     "name": "stdout",
     "output_type": "stream",
     "text": [
      "[1] \"pValue : 4.44089209850063e-16\"\n",
      "[1] \"pValueTest : 2.14126705255779e-09\"\n",
      "[1] \"roc$AUC : 0.730756151880782\"\n",
      "[1] \"rocTest$AUC : 0.839379782216227\"\n",
      "[1] \"###### Done : 59 #########\"\n",
      "[1] \"######                                                    #########\"\n",
      "[1] \"###### START : 60 #########\"\n"
     ]
    },
    {
     "name": "stderr",
     "output_type": "stream",
     "text": [
      "Warning message in coxph.fit(X, Y, istrat, offset, init, control, weights = weights, :\n",
      "“Loglik converged before variable  1,2,3,4,5,6,7,8,9,10,11,12,13,14,15,16,17,18 ; coefficient may be infinite. ”\n"
     ]
    },
    {
     "name": "stdout",
     "output_type": "stream",
     "text": [
      "[1] \"pValue : 0\"\n",
      "[1] \"pValueTest : 3.05126141797452e-07\"\n",
      "[1] \"roc$AUC : 0.800746797648018\"\n",
      "[1] \"rocTest$AUC : 0.78556517579162\"\n",
      "[1] \"###### Done : 60 #########\"\n",
      "[1] \"######                                                    #########\"\n",
      "[1] \"###### START : 61 #########\"\n",
      "[1] \"pValue : 0\"\n",
      "[1] \"pValueTest : 2.50636331990961e-05\"\n",
      "[1] \"roc$AUC : 0.870176498704596\"\n",
      "[1] \"rocTest$AUC : 0.586298559822078\"\n",
      "[1] \"###### Done : 61 #########\"\n",
      "[1] \"######                                                    #########\"\n",
      "[1] \"###### START : 62 #########\"\n"
     ]
    },
    {
     "name": "stderr",
     "output_type": "stream",
     "text": [
      "Warning message in coxph.fit(X, Y, istrat, offset, init, control, weights = weights, :\n",
      "“Loglik converged before variable  1 ; coefficient may be infinite. ”\n"
     ]
    },
    {
     "name": "stdout",
     "output_type": "stream",
     "text": [
      "[1] \"pValue : 5.55111512312578e-16\"\n",
      "[1] \"pValueTest : 7.56898708154097e-08\"\n",
      "[1] \"roc$AUC : 0.737226545773485\"\n",
      "[1] \"rocTest$AUC : 0.831839391876351\"\n",
      "[1] \"###### Done : 62 #########\"\n",
      "[1] \"######                                                    #########\"\n",
      "[1] \"###### START : 63 #########\"\n"
     ]
    },
    {
     "name": "stderr",
     "output_type": "stream",
     "text": [
      "Warning message in coxph.fit(X, Y, istrat, offset, init, control, weights = weights, :\n",
      "“Loglik converged before variable  18 ; coefficient may be infinite. ”\n"
     ]
    },
    {
     "name": "stdout",
     "output_type": "stream",
     "text": [
      "[1] \"pValue : 7.7715611723761e-16\"\n",
      "[1] \"pValueTest : 7.63674612436205e-09\"\n",
      "[1] \"roc$AUC : 0.789313299450562\"\n",
      "[1] \"rocTest$AUC : 0.776803228733052\"\n",
      "[1] \"###### Done : 63 #########\"\n",
      "[1] \"######                                                    #########\"\n",
      "[1] \"###### START : 64 #########\"\n",
      "[1] \"pValue : 0\"\n",
      "[1] \"pValueTest : 7.74171359291254e-05\"\n",
      "[1] \"roc$AUC : 0.841997263130709\"\n",
      "[1] \"rocTest$AUC : 0.741710967436869\"\n",
      "[1] \"###### Done : 64 #########\"\n",
      "[1] \"######                                                    #########\"\n",
      "[1] \"###### START : 65 #########\"\n",
      "[1] \"###### Save : 65 #########\"\n",
      "[1] \"pValue : 0\"\n",
      "[1] \"pValueTest : 6.97753531619938e-08\"\n",
      "[1] \"roc$AUC : 0.814997063921848\"\n",
      "[1] \"rocTest$AUC : 0.817272279894914\"\n",
      "[1] \"###### Save : 65 #########\"\n"
     ]
    }
   ],
   "source": [
    "for(i in 1:1000){\n",
    "\tprint(paste0(\"###### START : \",as.character(i),\" #########\"))\n",
    "## 1） Divide the training set and the test set\n",
    "library(caret)\n",
    "intrain<-createDataPartition(y=rt$Status_Cox,p=0.7,list=F)\n",
    "train<-rt[intrain,]\n",
    "test<-rt[-intrain,]\n",
    "trainOut=cbind(id=row.names(train),train)\n",
    "testOut=cbind(id=row.names(test),test)\n",
    "\n",
    "library(dplyr)\n",
    "train <- train %>% select(-Sample_ID)\n",
    "\n",
    "## 4） Build a Cox model\n",
    "\t  multiCox <- coxph(Surv(Survival_days, Status_Cox) ~ ., data = train)\n",
    "\t  multiCoxSum=summary(multiCox)\n",
    "\n",
    "\t\t#输出模型相关信息\n",
    "\t\toutMultiTab=data.frame()\n",
    "\t\toutMultiTab=cbind(\n",
    "\t\t               coef=multiCoxSum$coefficients[,\"coef\"],\n",
    "\t\t               HR=multiCoxSum$conf.int[,\"exp(coef)\"],\n",
    "\t\t               HR.95L=multiCoxSum$conf.int[,\"lower .95\"],\n",
    "\t\t               HR.95H=multiCoxSum$conf.int[,\"upper .95\"],\n",
    "\t\t               pvalue=multiCoxSum$coefficients[,\"Pr(>|z|)\"])\n",
    "\t\toutMultiTab=cbind(id=row.names(multiCoxSum$coefficients),outMultiTab)\n",
    "\n",
    "## 5） ROC\n",
    "\t\t#train\n",
    "\t\triskScore=predict(multiCox,type=\"risk\",newdata=train)\n",
    "\n",
    "\n",
    "\t\t# Multivariable \n",
    "\t\t# Extract the formula of the final optimized model\n",
    "\t\tfinal_formula <- formula(multiCox)\n",
    "\t\toutCol =  all.vars(final_formula)\n",
    "\t\t\n",
    "\t\t# Risk value grouping\n",
    "\t\tmediantrainRisk=median(riskScore)\n",
    "\t\trisk=as.vector(ifelse(riskScore>mediantrainRisk,\"high\",\"low\"))\n",
    "\t\ttrainRiskOut=cbind(id=trainOut$Sample_ID,cbind(train[,outCol],riskScore,risk))\n",
    "\t\t\n",
    "\t\t# test\n",
    "\t\triskScoreTest=predict(multiCox,type=\"risk\",newdata=test)\n",
    "\t\triskTest=as.vector(ifelse(riskScoreTest>mediantrainRisk,\"high\",\"low\"))\n",
    "\t\ttestRiskOut=cbind(id=testOut$Sample_ID,cbind(test[,outCol],riskScore=riskScoreTest,risk=riskTest));         \n",
    "\t\t\n",
    "\t\tdiff=survdiff(Surv(Survival_days, Status_Cox) ~risk,data = trainRiskOut)\n",
    "\t\tpValue=1-pchisq(diff$chisq,df=1)\n",
    "\t\troc = survivalROC(Stime=trainRiskOut$Survival_days, status=trainRiskOut$Status_Cox, marker = riskScore, predict.time =5,method=\"KM\") # 默认为5year生存期\n",
    "\t\t\n",
    "\t\tdiffTest=survdiff(Surv(Survival_days, Status_Cox) ~riskTest,data = testRiskOut)\n",
    "\t\tpValueTest=1-pchisq(diffTest$chisq,df=1)\n",
    "\t\trocTest = survivalROC(Stime=testRiskOut$Survival_days, status=testRiskOut$Status_Cox, marker = riskScoreTest, predict.time =5,  method=\"KM\") # 默认为5year生存期\n",
    "\n",
    "# ## 运行检查\n",
    "if((pValue<0.05) & (roc$AUC>0.8) & (pValueTest<0.05) & (rocTest$AUC>0.8)){\n",
    "\n",
    "## 1）Divide the training set and the test set\n",
    "output_f_path_train = file.path(output_dir,\"20250717_1_Risk_Model_Build_1307_sample_train_294.xls\")\n",
    "output_f_path_test = file.path(output_dir,\"20250717_1_Risk_Model_Build_1307_sample_test_126.xls\")\n",
    "write.table(trainOut,file=output_f_path_train,sep=\"\\t\",quote=F,row.names=F)\n",
    "write.table(testOut,file=output_f_path_test,sep=\"\\t\",quote=F,row.names=F)\n",
    "\n",
    "\n",
    "## 4）Build a Cox model\n",
    "output_f = file.path(output_dir,\"20250720_1_Risk_Model_Build_1307_sample_train_294_multi_cox_result.xls\")\n",
    "write.table(outMultiTab,file=output_f,sep=\"\\t\",row.names=F,quote=F)\n",
    "\n",
    "output_f = file.path(output_dir,\"20250720_1_Risk_Model_Build_1307_sample_train_294_multi_cox_result_risktrain.xls\")\n",
    "write.table(trainRiskOut,file=output_f,sep=\"\\t\",row.names=F,quote=F)\n",
    "\n",
    "output_f = file.path(output_dir,\"20250720_1_Risk_Model_Build_1307_sample_train_294_multi_cox_result_riskTest.xls\")\n",
    "write.table(testRiskOut,file=output_f,sep=\"\\t\",row.names=F,quote=F)\n",
    "\n",
    "\tprint(paste0(\"###### Save : \",as.character(i),\" #########\"))\n",
    "\tprint(paste0(\"pValue : \",as.character(pValue)))\n",
    "\tprint(paste0(\"pValueTest : \",as.character(pValueTest)))\n",
    "\tprint(paste0(\"roc$AUC : \",as.character(roc$AUC)))\n",
    "\tprint(paste0(\"rocTest$AUC : \",as.character(rocTest$AUC)))\n",
    "\tprint(paste0(\"###### Save : \",as.character(i),\" #########\"))\n",
    "\n",
    "    break\n",
    "}\n",
    "\tprint(paste0(\"pValue : \",as.character(pValue)))\n",
    "\tprint(paste0(\"pValueTest : \",as.character(pValueTest)))\n",
    "\tprint(paste0(\"roc$AUC : \",as.character(roc$AUC)))\n",
    "\tprint(paste0(\"rocTest$AUC : \",as.character(rocTest$AUC)))\n",
    "\n",
    "\tprint(paste0(\"###### Done : \",as.character(i),\" #########\"))\n",
    "\tprint(paste0(\"######                                                    #########\"))\n",
    "}"
   ]
  },
  {
   "cell_type": "markdown",
   "metadata": {},
   "source": [
    "## 4）Calculate the AUC value"
   ]
  },
  {
   "cell_type": "code",
   "execution_count": 30,
   "metadata": {
    "vscode": {
     "languageId": "r"
    }
   },
   "outputs": [
    {
     "name": "stdout",
     "output_type": "stream",
     "text": [
      "[1] \"pValue : 0\"\n",
      "[1] \"pValueTest : 6.97753531619938e-08\"\n",
      "[1] \"roc$AUC : 0.814997063921848\"\n",
      "[1] \"rocTest$AUC : 0.817272279894914\"\n"
     ]
    },
    {
     "name": "stdout",
     "output_type": "stream",
     "text": [
      "[1] \"###### Done : 65 #########\"\n",
      "[1] \"######                           #########\"\n"
     ]
    }
   ],
   "source": [
    "print(paste0(\"pValue : \",as.character(pValue)))\n",
    "print(paste0(\"pValueTest : \",as.character(pValueTest)))\n",
    "print(paste0(\"roc$AUC : \",as.character(roc$AUC)))\n",
    "print(paste0(\"rocTest$AUC : \",as.character(rocTest$AUC)))\n",
    "\n",
    "print(paste0(\"###### Done : \",as.character(i),\" #########\"))\n",
    "print(paste0(\"######                           #########\"))"
   ]
  },
  {
   "cell_type": "code",
   "execution_count": 71,
   "metadata": {
    "vscode": {
     "languageId": "r"
    }
   },
   "outputs": [],
   "source": []
  },
  {
   "cell_type": "code",
   "execution_count": 9,
   "metadata": {
    "vscode": {
     "languageId": "r"
    }
   },
   "outputs": [
    {
     "data": {
      "text/html": [
       "<style>\n",
       ".dl-inline {width: auto; margin:0; padding: 0}\n",
       ".dl-inline>dt, .dl-inline>dd {float: none; width: auto; display: inline-block}\n",
       ".dl-inline>dt::after {content: \":\\0020\"; padding-right: .5ex}\n",
       ".dl-inline>dt:not(:first-of-type) {padding-left: .5ex}\n",
       "</style><dl class=dl-inline><dt>tumor_to_immune_markGMP_CD8T_High</dt><dd>-1.20905126792696</dd><dt>tumor_to_immune_markProg_CD8_Int_CD4_High</dt><dd>-0.0475271215215797</dd><dt>tumor_to_immune_markMature_CD8T_High</dt><dd>-0.404724070845264</dd><dt>tumor_to_immune_markMature_CD8_Int_CD4_High</dt><dd>1.46421709831324</dd><dt>tumor_to_immune_markMature_CD8T_Int_CD4T_Low</dt><dd>0.816652179281377</dd><dt>tumor_to_immune_markGMP_CD8T_Int_CD4T_Low</dt><dd>0.262923089891567</dd><dt>tumor_to_immune_markintermediate_CD8T_Int_CD4T_Low</dt><dd>1.26966246451723</dd><dt>tumor_to_immune_markGMP_CD8_Int_CD4_High</dt><dd>-0.0824010902617544</dd><dt>tumor_to_immune_markGMP_CD8T_Low</dt><dd>1.31327116225832</dd><dt>tumor_to_immune_markintermediate_CD8T_Low</dt><dd>2.56429255311449</dd><dt>tumor_to_immune_markintermediate_CD8_Int_CD4_High</dt><dd>1.05896337053831</dd><dt>tumor_to_immune_markPrimitive_CD8T_Low</dt><dd>2.79308732495301</dd><dt>tumor_to_immune_markProg_CD8T_Low</dt><dd>0.55550559708234</dd><dt>tumor_to_immune_markPrimitive_CD8T_Int_CD4T_Low</dt><dd>0.498703466092408</dd><dt>tumor_to_immune_markMature_CD8T_Low</dt><dd>1.73944998031705</dd><dt>tumor_to_immune_markPrimitive_CD8_Int_CD4_High</dt><dd>1.69170114671452</dd><dt>tumor_to_immune_markProg_CD8T_Int_CD4T_Low</dt><dd>0.660422045827733</dd><dt>tumor_to_immune_markPrimitive_CD8T_High</dt><dd>1.88537770466596</dd></dl>\n"
      ],
      "text/latex": [
       "\\begin{description*}\n",
       "\\item[tumor\\textbackslash{}\\_to\\textbackslash{}\\_immune\\textbackslash{}\\_markGMP\\textbackslash{}\\_CD8T\\textbackslash{}\\_High] -1.20905126792696\n",
       "\\item[tumor\\textbackslash{}\\_to\\textbackslash{}\\_immune\\textbackslash{}\\_markProg\\textbackslash{}\\_CD8\\textbackslash{}\\_Int\\textbackslash{}\\_CD4\\textbackslash{}\\_High] -0.0475271215215797\n",
       "\\item[tumor\\textbackslash{}\\_to\\textbackslash{}\\_immune\\textbackslash{}\\_markMature\\textbackslash{}\\_CD8T\\textbackslash{}\\_High] -0.404724070845264\n",
       "\\item[tumor\\textbackslash{}\\_to\\textbackslash{}\\_immune\\textbackslash{}\\_markMature\\textbackslash{}\\_CD8\\textbackslash{}\\_Int\\textbackslash{}\\_CD4\\textbackslash{}\\_High] 1.46421709831324\n",
       "\\item[tumor\\textbackslash{}\\_to\\textbackslash{}\\_immune\\textbackslash{}\\_markMature\\textbackslash{}\\_CD8T\\textbackslash{}\\_Int\\textbackslash{}\\_CD4T\\textbackslash{}\\_Low] 0.816652179281377\n",
       "\\item[tumor\\textbackslash{}\\_to\\textbackslash{}\\_immune\\textbackslash{}\\_markGMP\\textbackslash{}\\_CD8T\\textbackslash{}\\_Int\\textbackslash{}\\_CD4T\\textbackslash{}\\_Low] 0.262923089891567\n",
       "\\item[tumor\\textbackslash{}\\_to\\textbackslash{}\\_immune\\textbackslash{}\\_markintermediate\\textbackslash{}\\_CD8T\\textbackslash{}\\_Int\\textbackslash{}\\_CD4T\\textbackslash{}\\_Low] 1.26966246451723\n",
       "\\item[tumor\\textbackslash{}\\_to\\textbackslash{}\\_immune\\textbackslash{}\\_markGMP\\textbackslash{}\\_CD8\\textbackslash{}\\_Int\\textbackslash{}\\_CD4\\textbackslash{}\\_High] -0.0824010902617544\n",
       "\\item[tumor\\textbackslash{}\\_to\\textbackslash{}\\_immune\\textbackslash{}\\_markGMP\\textbackslash{}\\_CD8T\\textbackslash{}\\_Low] 1.31327116225832\n",
       "\\item[tumor\\textbackslash{}\\_to\\textbackslash{}\\_immune\\textbackslash{}\\_markintermediate\\textbackslash{}\\_CD8T\\textbackslash{}\\_Low] 2.56429255311449\n",
       "\\item[tumor\\textbackslash{}\\_to\\textbackslash{}\\_immune\\textbackslash{}\\_markintermediate\\textbackslash{}\\_CD8\\textbackslash{}\\_Int\\textbackslash{}\\_CD4\\textbackslash{}\\_High] 1.05896337053831\n",
       "\\item[tumor\\textbackslash{}\\_to\\textbackslash{}\\_immune\\textbackslash{}\\_markPrimitive\\textbackslash{}\\_CD8T\\textbackslash{}\\_Low] 2.79308732495301\n",
       "\\item[tumor\\textbackslash{}\\_to\\textbackslash{}\\_immune\\textbackslash{}\\_markProg\\textbackslash{}\\_CD8T\\textbackslash{}\\_Low] 0.55550559708234\n",
       "\\item[tumor\\textbackslash{}\\_to\\textbackslash{}\\_immune\\textbackslash{}\\_markPrimitive\\textbackslash{}\\_CD8T\\textbackslash{}\\_Int\\textbackslash{}\\_CD4T\\textbackslash{}\\_Low] 0.498703466092408\n",
       "\\item[tumor\\textbackslash{}\\_to\\textbackslash{}\\_immune\\textbackslash{}\\_markMature\\textbackslash{}\\_CD8T\\textbackslash{}\\_Low] 1.73944998031705\n",
       "\\item[tumor\\textbackslash{}\\_to\\textbackslash{}\\_immune\\textbackslash{}\\_markPrimitive\\textbackslash{}\\_CD8\\textbackslash{}\\_Int\\textbackslash{}\\_CD4\\textbackslash{}\\_High] 1.69170114671452\n",
       "\\item[tumor\\textbackslash{}\\_to\\textbackslash{}\\_immune\\textbackslash{}\\_markProg\\textbackslash{}\\_CD8T\\textbackslash{}\\_Int\\textbackslash{}\\_CD4T\\textbackslash{}\\_Low] 0.660422045827733\n",
       "\\item[tumor\\textbackslash{}\\_to\\textbackslash{}\\_immune\\textbackslash{}\\_markPrimitive\\textbackslash{}\\_CD8T\\textbackslash{}\\_High] 1.88537770466596\n",
       "\\end{description*}\n"
      ],
      "text/markdown": [
       "tumor_to_immune_markGMP_CD8T_High\n",
       ":   -1.20905126792696tumor_to_immune_markProg_CD8_Int_CD4_High\n",
       ":   -0.0475271215215797tumor_to_immune_markMature_CD8T_High\n",
       ":   -0.404724070845264tumor_to_immune_markMature_CD8_Int_CD4_High\n",
       ":   1.46421709831324tumor_to_immune_markMature_CD8T_Int_CD4T_Low\n",
       ":   0.816652179281377tumor_to_immune_markGMP_CD8T_Int_CD4T_Low\n",
       ":   0.262923089891567tumor_to_immune_markintermediate_CD8T_Int_CD4T_Low\n",
       ":   1.26966246451723tumor_to_immune_markGMP_CD8_Int_CD4_High\n",
       ":   -0.0824010902617544tumor_to_immune_markGMP_CD8T_Low\n",
       ":   1.31327116225832tumor_to_immune_markintermediate_CD8T_Low\n",
       ":   2.56429255311449tumor_to_immune_markintermediate_CD8_Int_CD4_High\n",
       ":   1.05896337053831tumor_to_immune_markPrimitive_CD8T_Low\n",
       ":   2.79308732495301tumor_to_immune_markProg_CD8T_Low\n",
       ":   0.55550559708234tumor_to_immune_markPrimitive_CD8T_Int_CD4T_Low\n",
       ":   0.498703466092408tumor_to_immune_markMature_CD8T_Low\n",
       ":   1.73944998031705tumor_to_immune_markPrimitive_CD8_Int_CD4_High\n",
       ":   1.69170114671452tumor_to_immune_markProg_CD8T_Int_CD4T_Low\n",
       ":   0.660422045827733tumor_to_immune_markPrimitive_CD8T_High\n",
       ":   1.88537770466596\n",
       "\n"
      ],
      "text/plain": [
       "                 tumor_to_immune_markGMP_CD8T_High \n",
       "                                       -1.20905127 \n",
       "         tumor_to_immune_markProg_CD8_Int_CD4_High \n",
       "                                       -0.04752712 \n",
       "              tumor_to_immune_markMature_CD8T_High \n",
       "                                       -0.40472407 \n",
       "       tumor_to_immune_markMature_CD8_Int_CD4_High \n",
       "                                        1.46421710 \n",
       "      tumor_to_immune_markMature_CD8T_Int_CD4T_Low \n",
       "                                        0.81665218 \n",
       "         tumor_to_immune_markGMP_CD8T_Int_CD4T_Low \n",
       "                                        0.26292309 \n",
       "tumor_to_immune_markintermediate_CD8T_Int_CD4T_Low \n",
       "                                        1.26966246 \n",
       "          tumor_to_immune_markGMP_CD8_Int_CD4_High \n",
       "                                       -0.08240109 \n",
       "                  tumor_to_immune_markGMP_CD8T_Low \n",
       "                                        1.31327116 \n",
       "         tumor_to_immune_markintermediate_CD8T_Low \n",
       "                                        2.56429255 \n",
       " tumor_to_immune_markintermediate_CD8_Int_CD4_High \n",
       "                                        1.05896337 \n",
       "            tumor_to_immune_markPrimitive_CD8T_Low \n",
       "                                        2.79308732 \n",
       "                 tumor_to_immune_markProg_CD8T_Low \n",
       "                                        0.55550560 \n",
       "   tumor_to_immune_markPrimitive_CD8T_Int_CD4T_Low \n",
       "                                        0.49870347 \n",
       "               tumor_to_immune_markMature_CD8T_Low \n",
       "                                        1.73944998 \n",
       "    tumor_to_immune_markPrimitive_CD8_Int_CD4_High \n",
       "                                        1.69170115 \n",
       "        tumor_to_immune_markProg_CD8T_Int_CD4T_Low \n",
       "                                        0.66042205 \n",
       "           tumor_to_immune_markPrimitive_CD8T_High \n",
       "                                        1.88537770 "
      ]
     },
     "metadata": {},
     "output_type": "display_data"
    }
   ],
   "source": [
    "multiCoxSum$coefficients[, \"coef\"]"
   ]
  },
  {
   "cell_type": "code",
   "execution_count": 7,
   "metadata": {
    "vscode": {
     "languageId": "r"
    }
   },
   "outputs": [
    {
     "data": {
      "text/plain": [
       "Surv(Survival_days, Status_Cox) ~ tumor_to_immune_mark"
      ]
     },
     "metadata": {},
     "output_type": "display_data"
    }
   ],
   "source": [
    "final_formula"
   ]
  },
  {
   "cell_type": "code",
   "execution_count": 6,
   "metadata": {
    "vscode": {
     "languageId": "r"
    }
   },
   "outputs": [
    {
     "data": {
      "text/html": [
       "1.64658503282017"
      ],
      "text/latex": [
       "1.64658503282017"
      ],
      "text/markdown": [
       "1.64658503282017"
      ],
      "text/plain": [
       "[1] 1.646585"
      ]
     },
     "metadata": {},
     "output_type": "display_data"
    }
   ],
   "source": [
    "mediantrainRisk"
   ]
  },
  {
   "cell_type": "markdown",
   "metadata": {},
   "source": [
    "## 5）forest map"
   ]
  },
  {
   "cell_type": "code",
   "execution_count": 31,
   "metadata": {
    "vscode": {
     "languageId": "r"
    }
   },
   "outputs": [
    {
     "name": "stderr",
     "output_type": "stream",
     "text": [
      "Warning message in .get_data(model, data = data):\n",
      "“The `data` argument is not provided. Data will be extracted from model fit.”\n"
     ]
    },
    {
     "data": {
      "text/html": [
       "<strong>png:</strong> 2"
      ],
      "text/latex": [
       "\\textbf{png:} 2"
      ],
      "text/markdown": [
       "**png:** 2"
      ],
      "text/plain": [
       "png \n",
       "  2 "
      ]
     },
     "metadata": {},
     "output_type": "display_data"
    }
   ],
   "source": [
    "options(forestplot_new_page = FALSE)\n",
    "output_f = file.path(output_dir,\"20250717_5_Risk_Model_Build_1307_sample_train_294_multi_cox_result_HR_forest.pdf\")\n",
    "\n",
    "pdf(file=output_f,width = 12,height = 12)\n",
    "ggforest(multiCox,main = \"Hazard ratio\",cpositions = c(0.02,0.22, 0.4), fontsize = 0.7, refLabel = \"reference\", noDigits = 2)\n",
    "dev.off()"
   ]
  },
  {
   "cell_type": "code",
   "execution_count": 113,
   "metadata": {
    "vscode": {
     "languageId": "r"
    }
   },
   "outputs": [
    {
     "data": {
      "text/plain": [
       "Call:\n",
       "coxph(formula = Surv(Survival_days, Status_Cox) ~ ., data = train)\n",
       "\n",
       "                                                       coef exp(coef) se(coef)\n",
       "tumor_to_immune_markGMP_CD8T_High                  -1.20905   0.29848  1.41616\n",
       "tumor_to_immune_markProg_CD8_Int_CD4_High          -0.04753   0.95358  1.02328\n",
       "tumor_to_immune_markMature_CD8T_High               -0.40472   0.66716  1.09772\n",
       "tumor_to_immune_markMature_CD8_Int_CD4_High         1.46422   4.32416  1.16168\n",
       "tumor_to_immune_markMature_CD8T_Int_CD4T_Low        0.81665   2.26291  1.04423\n",
       "tumor_to_immune_markGMP_CD8T_Int_CD4T_Low           0.26292   1.30073  1.05598\n",
       "tumor_to_immune_markintermediate_CD8T_Int_CD4T_Low  1.26966   3.55965  1.07543\n",
       "tumor_to_immune_markGMP_CD8_Int_CD4_High           -0.08240   0.92090  1.22694\n",
       "tumor_to_immune_markGMP_CD8T_Low                    1.31327   3.71832  1.07759\n",
       "tumor_to_immune_markintermediate_CD8T_Low           2.56429  12.99146  1.03385\n",
       "tumor_to_immune_markintermediate_CD8_Int_CD4_High   1.05896   2.88338  1.23144\n",
       "tumor_to_immune_markPrimitive_CD8T_Low              2.79309  16.33136  1.06361\n",
       "tumor_to_immune_markProg_CD8T_Low                   0.55551   1.74282  1.41869\n",
       "tumor_to_immune_markPrimitive_CD8T_Int_CD4T_Low     0.49870   1.64659  1.08640\n",
       "tumor_to_immune_markMature_CD8T_Low                 1.73945   5.69421  1.03008\n",
       "tumor_to_immune_markPrimitive_CD8_Int_CD4_High      1.69170   5.42871  1.12557\n",
       "tumor_to_immune_markProg_CD8T_Int_CD4T_Low          0.66042   1.93561  1.22642\n",
       "tumor_to_immune_markPrimitive_CD8T_High             1.88538   6.58884  1.42200\n",
       "                                                        z       p\n",
       "tumor_to_immune_markGMP_CD8T_High                  -0.854 0.39324\n",
       "tumor_to_immune_markProg_CD8_Int_CD4_High          -0.046 0.96295\n",
       "tumor_to_immune_markMature_CD8T_High               -0.369 0.71236\n",
       "tumor_to_immune_markMature_CD8_Int_CD4_High         1.260 0.20751\n",
       "tumor_to_immune_markMature_CD8T_Int_CD4T_Low        0.782 0.43418\n",
       "tumor_to_immune_markGMP_CD8T_Int_CD4T_Low           0.249 0.80337\n",
       "tumor_to_immune_markintermediate_CD8T_Int_CD4T_Low  1.181 0.23776\n",
       "tumor_to_immune_markGMP_CD8_Int_CD4_High           -0.067 0.94645\n",
       "tumor_to_immune_markGMP_CD8T_Low                    1.219 0.22296\n",
       "tumor_to_immune_markintermediate_CD8T_Low           2.480 0.01313\n",
       "tumor_to_immune_markintermediate_CD8_Int_CD4_High   0.860 0.38982\n",
       "tumor_to_immune_markPrimitive_CD8T_Low              2.626 0.00864\n",
       "tumor_to_immune_markProg_CD8T_Low                   0.392 0.69538\n",
       "tumor_to_immune_markPrimitive_CD8T_Int_CD4T_Low     0.459 0.64620\n",
       "tumor_to_immune_markMature_CD8T_Low                 1.689 0.09128\n",
       "tumor_to_immune_markPrimitive_CD8_Int_CD4_High      1.503 0.13284\n",
       "tumor_to_immune_markProg_CD8T_Int_CD4T_Low          0.538 0.59024\n",
       "tumor_to_immune_markPrimitive_CD8T_High             1.326 0.18488\n",
       "\n",
       "Likelihood ratio test=110.9  on 18 df, p=2.165e-15\n",
       "n= 294, number of events= 136 "
      ]
     },
     "metadata": {},
     "output_type": "display_data"
    }
   ],
   "source": [
    "multiCox"
   ]
  },
  {
   "cell_type": "code",
   "execution_count": null,
   "metadata": {
    "vscode": {
     "languageId": "r"
    }
   },
   "outputs": [],
   "source": [
    "# 存在无穷大的值"
   ]
  },
  {
   "cell_type": "markdown",
   "metadata": {},
   "source": [
    "## 6）KM curve - Training set"
   ]
  },
  {
   "cell_type": "code",
   "execution_count": 169,
   "metadata": {
    "vscode": {
     "languageId": "r"
    }
   },
   "outputs": [],
   "source": [
    "if(TRUE){\n",
    "  # 根据kmean进行分组\n",
    "  trainRiskOut$risk = factor(trainRiskOut$risk,levels = c(\"low\",\"high\"))\n",
    "\n",
    "  \n",
    "  fit_Group <- survfit(Surv(Survival_days,Status_Cox) ~ risk, data = trainRiskOut) # 数据集来源\n",
    "  \n",
    "  #summary(fit_Group)\n",
    "  \n",
    "  # surv_object =\n",
    "  surv_object = ggsurvplot(fit_Group, data = trainRiskOut,  \n",
    "                           surv.median.line = \"hv\",\n",
    "                           conf.int = FALSE,\n",
    "                           conf.int.alpha = 0.1,\n",
    "                           risk.table = TRUE,\n",
    "                           align = \"hv\",\n",
    "                           pval = TRUE,\n",
    "                           palette = c(\"#2671b2\",\"#d52331\"), \n",
    "                           title = paste0(\"Union(20) Model Risk Group train(n=294)\"),  #\n",
    "                           xlab = \"Follow up time(d)\",\n",
    "                           legend = \"right\", #\n",
    "                           legend.title = \"Group\", \n",
    "                           break.x.by = 1,  #\n",
    "                           risk.table.y.text.col = TRUE, #\n",
    "                           risk.table.x.text.angle = 0,  #\n",
    "                           risk.table.height = 0.2,     #\n",
    "                           font.main = c(8, \"bold\", \"black\"),  #\n",
    "  )\n",
    "  \n",
    "  library(patchwork)\n",
    "  plot_object = surv_object$plot / surv_object$table +\n",
    "    plot_layout(heights = c(5, 1))  \n",
    "  \n",
    "  output_f_path = file.path(output_dir,\"20250717_6_1_Risk_Model_Build_1307_sample_train_294_Survial.pdf\")\n",
    "  ggsave(filename=output_f_path,plot=plot_object,device=pdf,width=180,height=190,units=\"mm\")\n",
    "  \n",
    "}"
   ]
  },
  {
   "cell_type": "markdown",
   "metadata": {},
   "source": [
    "## 6）KM curve - test set"
   ]
  },
  {
   "cell_type": "code",
   "execution_count": 170,
   "metadata": {
    "vscode": {
     "languageId": "r"
    }
   },
   "outputs": [],
   "source": [
    "if(TRUE){\n",
    "   testRiskOut$risk = factor( testRiskOut$risk,levels = c(\"low\",\"high\"))\n",
    "\n",
    "  fit_Group <- survfit(Surv(Survival_days,Status_Cox) ~ risk, data =  testRiskOut) # 数据集来源\n",
    "  \n",
    "  #summary(fit_Group)\n",
    "  \n",
    "  # surv_object =\n",
    "  surv_object = ggsurvplot(fit_Group, data =  testRiskOut,  \n",
    "                           surv.median.line = \"hv\",\n",
    "                           conf.int = FALSE,\n",
    "                           conf.int.alpha = 0.1,\n",
    "                           risk.table = TRUE,\n",
    "                           align = \"hv\",\n",
    "                           pval = TRUE,\n",
    "                           palette = c(\"#2671b2\",\"#d52331\"), \n",
    "                           title = paste0(\"Union(20) Model Risk Group Test(n=126)\"),  \n",
    "                           xlab = \"Follow up time(d)\",\n",
    "                           legend = \"right\", \n",
    "                           legend.title = \"Group\", \n",
    "                           break.x.by = 1, \n",
    "                           risk.table.y.text.col = TRUE, \n",
    "                           risk.table.x.text.angle = 0, \n",
    "                           risk.table.height = 0.2,\n",
    "                           font.main = c(8, \"bold\", \"black\")\n",
    "  )\n",
    "  \n",
    "  library(patchwork)\n",
    "  plot_object = surv_object$plot / surv_object$table +\n",
    "  plot_layout(heights = c(5, 1))\n",
    "\n",
    "  output_f_path = file.path(output_dir,\"20250717_6_2_Risk_Model_Build_1307_sample_test_126_Survial.pdf\")\n",
    "  ggsave(filename=output_f_path,plot=plot_object,device=pdf,width=180,height=190,units=\"mm\") # 默认180*180\n",
    "  \n",
    "}"
   ]
  },
  {
   "cell_type": "markdown",
   "metadata": {},
   "source": [
    "## 7）## ROC plot"
   ]
  },
  {
   "cell_type": "code",
   "execution_count": null,
   "metadata": {
    "vscode": {
     "languageId": "r"
    }
   },
   "outputs": [],
   "source": []
  },
  {
   "cell_type": "code",
   "execution_count": 8,
   "metadata": {
    "vscode": {
     "languageId": "r"
    }
   },
   "outputs": [],
   "source": [
    "roc_1 = survivalROC(Stime=trainRiskOut$Survival_days, status=trainRiskOut$Status_Cox, marker = riskScore, predict.time =1,method=\"KM\") # 默认为5year生存期\n",
    "roc_3 = survivalROC(Stime=trainRiskOut$Survival_days, status=trainRiskOut$Status_Cox, marker = riskScore, predict.time =3,method=\"KM\") # 默认为5year生存期\n",
    "roc_5 = survivalROC(Stime=trainRiskOut$Survival_days, status=trainRiskOut$Status_Cox, marker = riskScore, predict.time =5,method=\"KM\") # 默认为5year生存期"
   ]
  },
  {
   "cell_type": "code",
   "execution_count": 10,
   "metadata": {
    "vscode": {
     "languageId": "r"
    }
   },
   "outputs": [],
   "source": [
    "roc_05 = survivalROC(Stime=trainRiskOut$Survival_days, status=trainRiskOut$Status_Cox, marker = riskScore, predict.time =0.5,method=\"KM\") # 默认为5year生存期\n",
    "roc_2 = survivalROC(Stime=trainRiskOut$Survival_days, status=trainRiskOut$Status_Cox, marker = riskScore, predict.time =2,method=\"KM\") # 默认为5year生存期\n",
    "roc_4 = survivalROC(Stime=trainRiskOut$Survival_days, status=trainRiskOut$Status_Cox, marker = riskScore, predict.time =4,method=\"KM\") # 默认为5year生存期"
   ]
  },
  {
   "cell_type": "code",
   "execution_count": 9,
   "metadata": {
    "vscode": {
     "languageId": "r"
    }
   },
   "outputs": [
    {
     "data": {
      "text/html": [
       "<dl>\n",
       "\t<dt>$cut.values</dt>\n",
       "\t\t<dd><style>\n",
       ".list-inline {list-style: none; margin:0; padding: 0}\n",
       ".list-inline>li {display: inline-block}\n",
       ".list-inline>li:not(:last-child)::after {content: \"\\00b7\"; padding: 0 .5ex}\n",
       "</style>\n",
       "<ol class=list-inline><li>-Inf</li><li>0.298480322998002</li><li>0.667160874599232</li><li>0.920902519579457</li><li>0.953584610116324</li><li>1</li><li>1.30072667607492</li><li>1.64658503282017</li><li>1.74282192773591</li><li>1.93560907777374</li><li>2.2629113207192</li><li>2.88338044237542</li><li>3.55965085108831</li><li>3.71831705837987</li><li>4.32415652530383</li><li>5.42870788309366</li><li>5.6942106332759</li><li>6.58884260868598</li><li>12.9914643469223</li><li>16.3313622722788</li></ol>\n",
       "</dd>\n",
       "\t<dt>$TP</dt>\n",
       "\t\t<dd><style>\n",
       ".list-inline {list-style: none; margin:0; padding: 0}\n",
       ".list-inline>li {display: inline-block}\n",
       ".list-inline>li:not(:last-child)::after {content: \"\\00b7\"; padding: 0 .5ex}\n",
       "</style>\n",
       "<ol class=list-inline><li>1</li><li>0.984535399508441</li><li>0.96709665719755</li><li>0.958902944641905</li><li>0.912438743420456</li><li>0.897155842613004</li><li>0.820960865073304</li><li>0.758319411773885</li><li>0.746742507218286</li><li>0.742538634837348</li><li>0.668859238520136</li><li>0.658650381466078</li><li>0.599215262879464</li><li>0.565955562434581</li><li>0.546057295211452</li><li>0.512602146915274</li><li>0.319866095405338</li><li>0.309131343500949</li><li>0.0962807645032789</li><li>0</li></ol>\n",
       "</dd>\n",
       "\t<dt>$FP</dt>\n",
       "\t\t<dd><style>\n",
       ".list-inline {list-style: none; margin:0; padding: 0}\n",
       ".list-inline>li {display: inline-block}\n",
       ".list-inline>li:not(:last-child)::after {content: \"\\00b7\"; padding: 0 .5ex}\n",
       "</style>\n",
       "<ol class=list-inline><li>1</li><li>0.952352582175705</li><li>0.840795092546553</li><li>0.799732153671626</li><li>0.472305585037987</li><li>0.459482112284428</li><li>0.365340716118066</li><li>0.289815913896816</li><li>0.285238741280662</li><li>0.272237583116416</li><li>0.191884364263081</li><li>0.181682508755981</li><li>0.149545577246729</li><li>0.100219680449484</li><li>0.0895477215089319</li><li>0.0752215820709558</li><li>0.0154595435697673</li><li>0.0154767399474868</li><li>0.00498694953863466</li><li>0</li></ol>\n",
       "</dd>\n",
       "\t<dt>$predict.time</dt>\n",
       "\t\t<dd>1</dd>\n",
       "\t<dt>$Survival</dt>\n",
       "\t\t<dd>0.682052328355612</dd>\n",
       "\t<dt>$AUC</dt>\n",
       "\t\t<dd>0.820462510337183</dd>\n",
       "</dl>\n"
      ],
      "text/latex": [
       "\\begin{description}\n",
       "\\item[\\$cut.values] \\begin{enumerate*}\n",
       "\\item -Inf\n",
       "\\item 0.298480322998002\n",
       "\\item 0.667160874599232\n",
       "\\item 0.920902519579457\n",
       "\\item 0.953584610116324\n",
       "\\item 1\n",
       "\\item 1.30072667607492\n",
       "\\item 1.64658503282017\n",
       "\\item 1.74282192773591\n",
       "\\item 1.93560907777374\n",
       "\\item 2.2629113207192\n",
       "\\item 2.88338044237542\n",
       "\\item 3.55965085108831\n",
       "\\item 3.71831705837987\n",
       "\\item 4.32415652530383\n",
       "\\item 5.42870788309366\n",
       "\\item 5.6942106332759\n",
       "\\item 6.58884260868598\n",
       "\\item 12.9914643469223\n",
       "\\item 16.3313622722788\n",
       "\\end{enumerate*}\n",
       "\n",
       "\\item[\\$TP] \\begin{enumerate*}\n",
       "\\item 1\n",
       "\\item 0.984535399508441\n",
       "\\item 0.96709665719755\n",
       "\\item 0.958902944641905\n",
       "\\item 0.912438743420456\n",
       "\\item 0.897155842613004\n",
       "\\item 0.820960865073304\n",
       "\\item 0.758319411773885\n",
       "\\item 0.746742507218286\n",
       "\\item 0.742538634837348\n",
       "\\item 0.668859238520136\n",
       "\\item 0.658650381466078\n",
       "\\item 0.599215262879464\n",
       "\\item 0.565955562434581\n",
       "\\item 0.546057295211452\n",
       "\\item 0.512602146915274\n",
       "\\item 0.319866095405338\n",
       "\\item 0.309131343500949\n",
       "\\item 0.0962807645032789\n",
       "\\item 0\n",
       "\\end{enumerate*}\n",
       "\n",
       "\\item[\\$FP] \\begin{enumerate*}\n",
       "\\item 1\n",
       "\\item 0.952352582175705\n",
       "\\item 0.840795092546553\n",
       "\\item 0.799732153671626\n",
       "\\item 0.472305585037987\n",
       "\\item 0.459482112284428\n",
       "\\item 0.365340716118066\n",
       "\\item 0.289815913896816\n",
       "\\item 0.285238741280662\n",
       "\\item 0.272237583116416\n",
       "\\item 0.191884364263081\n",
       "\\item 0.181682508755981\n",
       "\\item 0.149545577246729\n",
       "\\item 0.100219680449484\n",
       "\\item 0.0895477215089319\n",
       "\\item 0.0752215820709558\n",
       "\\item 0.0154595435697673\n",
       "\\item 0.0154767399474868\n",
       "\\item 0.00498694953863466\n",
       "\\item 0\n",
       "\\end{enumerate*}\n",
       "\n",
       "\\item[\\$predict.time] 1\n",
       "\\item[\\$Survival] 0.682052328355612\n",
       "\\item[\\$AUC] 0.820462510337183\n",
       "\\end{description}\n"
      ],
      "text/markdown": [
       "$cut.values\n",
       ":   1. -Inf\n",
       "2. 0.298480322998002\n",
       "3. 0.667160874599232\n",
       "4. 0.920902519579457\n",
       "5. 0.953584610116324\n",
       "6. 1\n",
       "7. 1.30072667607492\n",
       "8. 1.64658503282017\n",
       "9. 1.74282192773591\n",
       "10. 1.93560907777374\n",
       "11. 2.2629113207192\n",
       "12. 2.88338044237542\n",
       "13. 3.55965085108831\n",
       "14. 3.71831705837987\n",
       "15. 4.32415652530383\n",
       "16. 5.42870788309366\n",
       "17. 5.6942106332759\n",
       "18. 6.58884260868598\n",
       "19. 12.9914643469223\n",
       "20. 16.3313622722788\n",
       "\n",
       "\n",
       "\n",
       "$TP\n",
       ":   1. 1\n",
       "2. 0.984535399508441\n",
       "3. 0.96709665719755\n",
       "4. 0.958902944641905\n",
       "5. 0.912438743420456\n",
       "6. 0.897155842613004\n",
       "7. 0.820960865073304\n",
       "8. 0.758319411773885\n",
       "9. 0.746742507218286\n",
       "10. 0.742538634837348\n",
       "11. 0.668859238520136\n",
       "12. 0.658650381466078\n",
       "13. 0.599215262879464\n",
       "14. 0.565955562434581\n",
       "15. 0.546057295211452\n",
       "16. 0.512602146915274\n",
       "17. 0.319866095405338\n",
       "18. 0.309131343500949\n",
       "19. 0.0962807645032789\n",
       "20. 0\n",
       "\n",
       "\n",
       "\n",
       "$FP\n",
       ":   1. 1\n",
       "2. 0.952352582175705\n",
       "3. 0.840795092546553\n",
       "4. 0.799732153671626\n",
       "5. 0.472305585037987\n",
       "6. 0.459482112284428\n",
       "7. 0.365340716118066\n",
       "8. 0.289815913896816\n",
       "9. 0.285238741280662\n",
       "10. 0.272237583116416\n",
       "11. 0.191884364263081\n",
       "12. 0.181682508755981\n",
       "13. 0.149545577246729\n",
       "14. 0.100219680449484\n",
       "15. 0.0895477215089319\n",
       "16. 0.0752215820709558\n",
       "17. 0.0154595435697673\n",
       "18. 0.0154767399474868\n",
       "19. 0.00498694953863466\n",
       "20. 0\n",
       "\n",
       "\n",
       "\n",
       "$predict.time\n",
       ":   1\n",
       "$Survival\n",
       ":   0.682052328355612\n",
       "$AUC\n",
       ":   0.820462510337183\n",
       "\n",
       "\n"
      ],
      "text/plain": [
       "$cut.values\n",
       " [1]       -Inf  0.2984803  0.6671609  0.9209025  0.9535846  1.0000000\n",
       " [7]  1.3007267  1.6465850  1.7428219  1.9356091  2.2629113  2.8833804\n",
       "[13]  3.5596509  3.7183171  4.3241565  5.4287079  5.6942106  6.5888426\n",
       "[19] 12.9914643 16.3313623\n",
       "\n",
       "$TP\n",
       " [1] 1.00000000 0.98453540 0.96709666 0.95890294 0.91243874 0.89715584\n",
       " [7] 0.82096087 0.75831941 0.74674251 0.74253863 0.66885924 0.65865038\n",
       "[13] 0.59921526 0.56595556 0.54605730 0.51260215 0.31986610 0.30913134\n",
       "[19] 0.09628076 0.00000000\n",
       "\n",
       "$FP\n",
       " [1] 1.00000000 0.95235258 0.84079509 0.79973215 0.47230559 0.45948211\n",
       " [7] 0.36534072 0.28981591 0.28523874 0.27223758 0.19188436 0.18168251\n",
       "[13] 0.14954558 0.10021968 0.08954772 0.07522158 0.01545954 0.01547674\n",
       "[19] 0.00498695 0.00000000\n",
       "\n",
       "$predict.time\n",
       "[1] 1\n",
       "\n",
       "$Survival\n",
       "[1] 0.6820523\n",
       "\n",
       "$AUC\n",
       "[1] 0.8204625\n"
      ]
     },
     "metadata": {},
     "output_type": "display_data"
    }
   ],
   "source": [
    "roc_1"
   ]
  },
  {
   "cell_type": "code",
   "execution_count": 10,
   "metadata": {
    "vscode": {
     "languageId": "r"
    }
   },
   "outputs": [],
   "source": [
    "rocTest_1 = survivalROC(Stime=testRiskOut$Survival_days, status=testRiskOut$Status_Cox, marker = riskScoreTest, predict.time =1,  method=\"KM\") # 默认为5year生存期\n",
    "rocTest_3 = survivalROC(Stime=testRiskOut$Survival_days, status=testRiskOut$Status_Cox, marker = riskScoreTest, predict.time =3,  method=\"KM\") # 默认为5year生存期\n",
    "rocTest_5 = survivalROC(Stime=testRiskOut$Survival_days, status=testRiskOut$Status_Cox, marker = riskScoreTest, predict.time =5,  method=\"KM\") # 默认为5year生存期"
   ]
  },
  {
   "cell_type": "code",
   "execution_count": 11,
   "metadata": {
    "vscode": {
     "languageId": "r"
    }
   },
   "outputs": [],
   "source": [
    "rocTest_05 = survivalROC(Stime=testRiskOut$Survival_days, status=testRiskOut$Status_Cox, marker = riskScoreTest, predict.time =0.5,  method=\"KM\") # 默认为5year生存期\n",
    "rocTest_2 = survivalROC(Stime=testRiskOut$Survival_days, status=testRiskOut$Status_Cox, marker = riskScoreTest, predict.time =2,  method=\"KM\") # 默认为5year生存期\n",
    "rocTest_4 = survivalROC(Stime=testRiskOut$Survival_days, status=testRiskOut$Status_Cox, marker = riskScoreTest, predict.time =4,  method=\"KM\") # 默认为5year生存期"
   ]
  },
  {
   "cell_type": "code",
   "execution_count": null,
   "metadata": {
    "vscode": {
     "languageId": "r"
    }
   },
   "outputs": [],
   "source": []
  },
  {
   "cell_type": "code",
   "execution_count": 192,
   "metadata": {
    "vscode": {
     "languageId": "r"
    }
   },
   "outputs": [
    {
     "data": {
      "text/html": [
       "<strong>png:</strong> 2"
      ],
      "text/latex": [
       "\\textbf{png:} 2"
      ],
      "text/markdown": [
       "**png:** 2"
      ],
      "text/plain": [
       "png \n",
       "  2 "
      ]
     },
     "metadata": {},
     "output_type": "display_data"
    }
   ],
   "source": [
    "## 1）training set\n",
    "rocCol=rainbow(3)\n",
    "aucText=c()\n",
    "\n",
    "output_f = file.path(output_dir,\"20250720_1_1_Risk_Model_Build_1307_sample_train_294_multi_ROC_train_result.pdf\")\n",
    "pdf(file=output_f,width=6,height=6)\n",
    "par(oma=c(0.5,1,0,1),font.lab=1.5,font.axis=1.5)\n",
    "\n",
    "# ## 1) training set 1 Year \n",
    "\n",
    "plot(smooth_roc,type=\"l\", xlim=c(0,1), ylim=c(0,1),col=rocCol[1], \n",
    "  xlab=\"False positive rate\", ylab=\"True positive rate\",\n",
    "  main=paste(\"Union(20) Model train(n=294) : ROC curve\"),\n",
    "  lwd = 2, cex.main=1.3, cex.lab=1.2, cex.axis=1.2, font=1.2)\n",
    "aucText=c(aucText,paste0(\"train(n=294) Union(20) 1 year \",\" (AUC=\",sprintf(\"%.3f\",roc_1$AUC),\")\"))\n",
    "abline(0,1)\n",
    "\n",
    "## 2) training set 3 Year \n",
    "aucText=c(aucText,paste0(\"train(n=294) Union(20) 3 year \",\" (AUC=\",sprintf(\"%.3f\",roc_3$AUC),\")\"))\n",
    "lines(roc_3$FP, roc_3$TP, type=\"l\", xlim=c(0,1), ylim=c(0,1),col=rocCol[2],lwd = 2)\n",
    "\n",
    "## 3) training set 5 Year \n",
    "aucText=c(aucText,paste0(\"train(n=294) Union(20) 5 year \",\" (AUC=\",sprintf(\"%.3f\",roc_5$AUC),\")\"))\n",
    "lines(roc_5$FP, roc_5$TP, type=\"l\", xlim=c(0,1), ylim=c(0,1),col=rocCol[3],lwd = 2)\n",
    "\n",
    "legend(\"bottomright\", aucText,lwd=1,bty=\"n\",col=rocCol,cex=0.5)\n",
    "dev.off()"
   ]
  },
  {
   "cell_type": "code",
   "execution_count": 172,
   "metadata": {
    "vscode": {
     "languageId": "r"
    }
   },
   "outputs": [
    {
     "data": {
      "text/html": [
       "<strong>png:</strong> 2"
      ],
      "text/latex": [
       "\\textbf{png:} 2"
      ],
      "text/markdown": [
       "**png:** 2"
      ],
      "text/plain": [
       "png \n",
       "  2 "
      ]
     },
     "metadata": {},
     "output_type": "display_data"
    }
   ],
   "source": [
    "## 1）training set\n",
    "rocCol=rainbow(3)\n",
    "aucText=c()\n",
    "\n",
    "output_f = file.path(output_dir,\"20250720_1_Risk_Model_Build_1307_sample_train_294_multi_rocTest_Test_result.pdf\")\n",
    "pdf(file=output_f,width=6,height=6)\n",
    "par(oma=c(0.5,1,0,1),font.lab=1.5,font.axis=1.5)\n",
    "\n",
    "# ## 1) training set 1 Year \n",
    "\n",
    "plot(rocTest_1$FP, rocTest_1$TP, type=\"l\", xlim=c(0,1), ylim=c(0,1),col=rocCol[1], \n",
    "  xlab=\"False positive rate\", ylab=\"True positive rate\",\n",
    "  main=paste(\"Union(20) Model Test(n=126) : ROC curve\"),\n",
    "  lwd = 2, cex.main=1.3, cex.lab=1.2, cex.axis=1.2, font=1.2)\n",
    "aucText=c(aucText,paste0(\"Test(n=126) Union(20) 1 year \",\" (AUC=\",sprintf(\"%.3f\",rocTest_1$AUC),\")\"))\n",
    "abline(0,1)\n",
    "\n",
    "\n",
    "## 2) training set 3 Year \n",
    "aucText=c(aucText,paste0(\"Test(n=126) Union(20) 3 year \",\" (AUC=\",sprintf(\"%.3f\",rocTest_3$AUC),\")\"))\n",
    "lines(rocTest_3$FP, rocTest_3$TP, type=\"l\", xlim=c(0,1), ylim=c(0,1),col=rocCol[2],lwd = 2)\n",
    "\n",
    "## 3) training set 5 Year \n",
    "aucText=c(aucText,paste0(\"Test(n=126) Union(20) 5 year \",\" (AUC=\",sprintf(\"%.3f\",rocTest_5$AUC),\")\"))\n",
    "lines(rocTest_5$FP, rocTest_5$TP, type=\"l\", xlim=c(0,1), ylim=c(0,1),col=rocCol[3],lwd = 2)\n",
    "\n",
    "\n",
    "legend(\"bottomright\", aucText,lwd=1,bty=\"n\",col=rocCol,cex=0.5)\n",
    "dev.off()"
   ]
  },
  {
   "cell_type": "code",
   "execution_count": null,
   "metadata": {
    "vscode": {
     "languageId": "r"
    }
   },
   "outputs": [],
   "source": []
  },
  {
   "cell_type": "markdown",
   "metadata": {},
   "source": [
    "## 8) Split the samples according to the training set and test set of the model. Sample information table"
   ]
  },
  {
   "cell_type": "code",
   "execution_count": 38,
   "metadata": {
    "vscode": {
     "languageId": "r"
    }
   },
   "outputs": [],
   "source": [
    "sample_info_df_train =sample_info_df[sample_info_df$Sample_ID %in% trainOut$Sample_ID,]\n",
    "sample_info_df_test =sample_info_df[sample_info_df$Sample_ID %in% testOut$Sample_ID,]"
   ]
  },
  {
   "cell_type": "code",
   "execution_count": 13,
   "metadata": {
    "vscode": {
     "languageId": "r"
    }
   },
   "outputs": [
    {
     "name": "stdout",
     "output_type": "stream",
     "text": [
      "[1] 294  52\n",
      "[1] 126  52\n"
     ]
    }
   ],
   "source": [
    "print(dim(sample_info_df_train))\n",
    "print(dim(sample_info_df_test))"
   ]
  },
  {
   "cell_type": "code",
   "execution_count": 40,
   "metadata": {
    "vscode": {
     "languageId": "r"
    }
   },
   "outputs": [
    {
     "data": {
      "text/html": [
       "<table class=\"dataframe\">\n",
       "<caption>A data.frame: 6 × 52</caption>\n",
       "<thead>\n",
       "\t<tr><th></th><th scope=col>Sample_ID</th><th scope=col>Survival_days</th><th scope=col>Status_Cox</th><th scope=col>kmean_k5_mark_short</th><th scope=col>kmean_k4_mark_short</th><th scope=col>tumor_to_immune_mark</th><th scope=col>CD4_T_01_FYB1_Percent</th><th scope=col>CD4_T_02_CCL5_Percent</th><th scope=col>CD4_T_03_MT_ND4L_Percent</th><th scope=col>CD4_T_04_ISG15_Percent</th><th scope=col>⋯</th><th scope=col>WBC</th><th scope=col>Neutrophile_Count</th><th scope=col>Platelet_Count</th><th scope=col>BM_Blast_Percent</th><th scope=col>Survival_Status</th><th scope=col>Status_ggsurvfit</th><th scope=col>DiseaseClass</th><th scope=col>Source</th><th scope=col>BM_Blast_Percent_Mark1</th><th scope=col>BM_Blast_Percent_Mark2</th></tr>\n",
       "\t<tr><th></th><th scope=col>&lt;chr&gt;</th><th scope=col>&lt;dbl&gt;</th><th scope=col>&lt;int&gt;</th><th scope=col>&lt;fct&gt;</th><th scope=col>&lt;fct&gt;</th><th scope=col>&lt;fct&gt;</th><th scope=col>&lt;chr&gt;</th><th scope=col>&lt;chr&gt;</th><th scope=col>&lt;chr&gt;</th><th scope=col>&lt;chr&gt;</th><th scope=col>⋯</th><th scope=col>&lt;dbl&gt;</th><th scope=col>&lt;dbl&gt;</th><th scope=col>&lt;dbl&gt;</th><th scope=col>&lt;dbl&gt;</th><th scope=col>&lt;chr&gt;</th><th scope=col>&lt;dbl&gt;</th><th scope=col>&lt;chr&gt;</th><th scope=col>&lt;chr&gt;</th><th scope=col>&lt;chr&gt;</th><th scope=col>&lt;chr&gt;</th></tr>\n",
       "</thead>\n",
       "<tbody>\n",
       "\t<tr><th scope=row>1</th><td>AML_Beat_12_00051</td><td>1.936986</td><td>1</td><td><span style=white-space:pre-wrap>Primitive   </span></td><td>CD8T_Int_CD4T_Low</td><td><span style=white-space:pre-wrap>Primitive_CD8T_Int_CD4T_Low   </span></td><td>undirection_P&gt;0.05</td><td><span style=white-space:pre-wrap>depleted_P&lt;=0.01  </span></td><td>undirection_P&gt;0.05</td><td>undirection_P&gt;0.05</td><td>⋯</td><td>179</td><td> 10</td><td> 19</td><td>88</td><td>Dead </td><td>2</td><td>AML</td><td>Beat</td><td>80-90 </td><td>80-90 </td></tr>\n",
       "\t<tr><th scope=row>2</th><td>AML_Beat_12_00211</td><td>3.824658</td><td>0</td><td><span style=white-space:pre-wrap>Mature      </span></td><td>CD8T_Int_CD4T_Low</td><td><span style=white-space:pre-wrap>Mature_CD8T_Int_CD4T_Low      </span></td><td>depleted_P&lt;=0.001 </td><td><span style=white-space:pre-wrap>expanded_P&lt;=0.05  </span></td><td>depleted_P&lt;=0.001 </td><td><span style=white-space:pre-wrap>expanded_P&lt;=0.01  </span></td><td>⋯</td><td>841</td><td> 20</td><td><span style=white-space:pre-wrap>  8</span></td><td>90</td><td>Alive</td><td>1</td><td>AML</td><td>Beat</td><td>90-100</td><td>90-100</td></tr>\n",
       "\t<tr><th scope=row>3</th><td>AML_Beat_13_00157</td><td>3.778082</td><td>0</td><td><span style=white-space:pre-wrap>Primitive   </span></td><td>CD8T_Int_CD4T_Low</td><td><span style=white-space:pre-wrap>Primitive_CD8T_Int_CD4T_Low   </span></td><td>depleted_P&lt;=0.001 </td><td><span style=white-space:pre-wrap>expanded_P&lt;=0.05  </span></td><td>depleted_P&lt;=0.001 </td><td><span style=white-space:pre-wrap>expanded_P&lt;=0.01  </span></td><td>⋯</td><td>539</td><td>230</td><td>228</td><td>80</td><td>Alive</td><td>1</td><td>AML</td><td>Beat</td><td>80-90 </td><td>80-90 </td></tr>\n",
       "\t<tr><th scope=row>4</th><td>AML_Beat_13_00163</td><td>1.095890</td><td>0</td><td><span style=white-space:pre-wrap>GMP         </span></td><td>CD8_Int_CD4_High </td><td><span style=white-space:pre-wrap>GMP_CD8_Int_CD4_High          </span></td><td>undirection_P&gt;0.05</td><td>undirection_P&gt;0.05</td><td>undirection_P&gt;0.05</td><td><span style=white-space:pre-wrap>expanded_P&lt;=0.05  </span></td><td>⋯</td><td>138</td><td>160</td><td> 53</td><td>50</td><td>Alive</td><td>1</td><td>AML</td><td>Beat</td><td>50-60 </td><td>50-60 </td></tr>\n",
       "\t<tr><th scope=row>6</th><td>AML_Beat_13_00232</td><td>2.742466</td><td>0</td><td><span style=white-space:pre-wrap>GMP         </span></td><td>CD8T_Int_CD4T_Low</td><td><span style=white-space:pre-wrap>GMP_CD8T_Int_CD4T_Low         </span></td><td>undirection_P&gt;0.05</td><td><span style=white-space:pre-wrap>depleted_P&lt;=0.01  </span></td><td>undirection_P&gt;0.05</td><td>undirection_P&gt;0.05</td><td>⋯</td><td>294</td><td>240</td><td> 34</td><td>55</td><td>Alive</td><td>1</td><td>AML</td><td>Beat</td><td>50-60 </td><td>50-60 </td></tr>\n",
       "\t<tr><th scope=row>7</th><td>AML_Beat_13_00245</td><td>2.347945</td><td>0</td><td>intermediate</td><td>CD8T_Int_CD4T_Low</td><td>intermediate_CD8T_Int_CD4T_Low</td><td>undirection_P&gt;0.05</td><td><span style=white-space:pre-wrap>depleted_P&lt;=0.01  </span></td><td>undirection_P&gt;0.05</td><td>undirection_P&gt;0.05</td><td>⋯</td><td>195</td><td>200</td><td>109</td><td>30</td><td>Alive</td><td>1</td><td>AML</td><td>Beat</td><td>30-40 </td><td>30-40 </td></tr>\n",
       "</tbody>\n",
       "</table>\n"
      ],
      "text/latex": [
       "A data.frame: 6 × 52\n",
       "\\begin{tabular}{r|lllllllllllllllllllll}\n",
       "  & Sample\\_ID & Survival\\_days & Status\\_Cox & kmean\\_k5\\_mark\\_short & kmean\\_k4\\_mark\\_short & tumor\\_to\\_immune\\_mark & CD4\\_T\\_01\\_FYB1\\_Percent & CD4\\_T\\_02\\_CCL5\\_Percent & CD4\\_T\\_03\\_MT\\_ND4L\\_Percent & CD4\\_T\\_04\\_ISG15\\_Percent & ⋯ & WBC & Neutrophile\\_Count & Platelet\\_Count & BM\\_Blast\\_Percent & Survival\\_Status & Status\\_ggsurvfit & DiseaseClass & Source & BM\\_Blast\\_Percent\\_Mark1 & BM\\_Blast\\_Percent\\_Mark2\\\\\n",
       "  & <chr> & <dbl> & <int> & <fct> & <fct> & <fct> & <chr> & <chr> & <chr> & <chr> & ⋯ & <dbl> & <dbl> & <dbl> & <dbl> & <chr> & <dbl> & <chr> & <chr> & <chr> & <chr>\\\\\n",
       "\\hline\n",
       "\t1 & AML\\_Beat\\_12\\_00051 & 1.936986 & 1 & Primitive    & CD8T\\_Int\\_CD4T\\_Low & Primitive\\_CD8T\\_Int\\_CD4T\\_Low    & undirection\\_P>0.05 & depleted\\_P<=0.01   & undirection\\_P>0.05 & undirection\\_P>0.05 & ⋯ & 179 &  10 &  19 & 88 & Dead  & 2 & AML & Beat & 80-90  & 80-90 \\\\\n",
       "\t2 & AML\\_Beat\\_12\\_00211 & 3.824658 & 0 & Mature       & CD8T\\_Int\\_CD4T\\_Low & Mature\\_CD8T\\_Int\\_CD4T\\_Low       & depleted\\_P<=0.001  & expanded\\_P<=0.05   & depleted\\_P<=0.001  & expanded\\_P<=0.01   & ⋯ & 841 &  20 &   8 & 90 & Alive & 1 & AML & Beat & 90-100 & 90-100\\\\\n",
       "\t3 & AML\\_Beat\\_13\\_00157 & 3.778082 & 0 & Primitive    & CD8T\\_Int\\_CD4T\\_Low & Primitive\\_CD8T\\_Int\\_CD4T\\_Low    & depleted\\_P<=0.001  & expanded\\_P<=0.05   & depleted\\_P<=0.001  & expanded\\_P<=0.01   & ⋯ & 539 & 230 & 228 & 80 & Alive & 1 & AML & Beat & 80-90  & 80-90 \\\\\n",
       "\t4 & AML\\_Beat\\_13\\_00163 & 1.095890 & 0 & GMP          & CD8\\_Int\\_CD4\\_High  & GMP\\_CD8\\_Int\\_CD4\\_High           & undirection\\_P>0.05 & undirection\\_P>0.05 & undirection\\_P>0.05 & expanded\\_P<=0.05   & ⋯ & 138 & 160 &  53 & 50 & Alive & 1 & AML & Beat & 50-60  & 50-60 \\\\\n",
       "\t6 & AML\\_Beat\\_13\\_00232 & 2.742466 & 0 & GMP          & CD8T\\_Int\\_CD4T\\_Low & GMP\\_CD8T\\_Int\\_CD4T\\_Low          & undirection\\_P>0.05 & depleted\\_P<=0.01   & undirection\\_P>0.05 & undirection\\_P>0.05 & ⋯ & 294 & 240 &  34 & 55 & Alive & 1 & AML & Beat & 50-60  & 50-60 \\\\\n",
       "\t7 & AML\\_Beat\\_13\\_00245 & 2.347945 & 0 & intermediate & CD8T\\_Int\\_CD4T\\_Low & intermediate\\_CD8T\\_Int\\_CD4T\\_Low & undirection\\_P>0.05 & depleted\\_P<=0.01   & undirection\\_P>0.05 & undirection\\_P>0.05 & ⋯ & 195 & 200 & 109 & 30 & Alive & 1 & AML & Beat & 30-40  & 30-40 \\\\\n",
       "\\end{tabular}\n"
      ],
      "text/markdown": [
       "\n",
       "A data.frame: 6 × 52\n",
       "\n",
       "| <!--/--> | Sample_ID &lt;chr&gt; | Survival_days &lt;dbl&gt; | Status_Cox &lt;int&gt; | kmean_k5_mark_short &lt;fct&gt; | kmean_k4_mark_short &lt;fct&gt; | tumor_to_immune_mark &lt;fct&gt; | CD4_T_01_FYB1_Percent &lt;chr&gt; | CD4_T_02_CCL5_Percent &lt;chr&gt; | CD4_T_03_MT_ND4L_Percent &lt;chr&gt; | CD4_T_04_ISG15_Percent &lt;chr&gt; | ⋯ ⋯ | WBC &lt;dbl&gt; | Neutrophile_Count &lt;dbl&gt; | Platelet_Count &lt;dbl&gt; | BM_Blast_Percent &lt;dbl&gt; | Survival_Status &lt;chr&gt; | Status_ggsurvfit &lt;dbl&gt; | DiseaseClass &lt;chr&gt; | Source &lt;chr&gt; | BM_Blast_Percent_Mark1 &lt;chr&gt; | BM_Blast_Percent_Mark2 &lt;chr&gt; |\n",
       "|---|---|---|---|---|---|---|---|---|---|---|---|---|---|---|---|---|---|---|---|---|---|\n",
       "| 1 | AML_Beat_12_00051 | 1.936986 | 1 | Primitive    | CD8T_Int_CD4T_Low | Primitive_CD8T_Int_CD4T_Low    | undirection_P&gt;0.05 | depleted_P&lt;=0.01   | undirection_P&gt;0.05 | undirection_P&gt;0.05 | ⋯ | 179 |  10 |  19 | 88 | Dead  | 2 | AML | Beat | 80-90  | 80-90  |\n",
       "| 2 | AML_Beat_12_00211 | 3.824658 | 0 | Mature       | CD8T_Int_CD4T_Low | Mature_CD8T_Int_CD4T_Low       | depleted_P&lt;=0.001  | expanded_P&lt;=0.05   | depleted_P&lt;=0.001  | expanded_P&lt;=0.01   | ⋯ | 841 |  20 |   8 | 90 | Alive | 1 | AML | Beat | 90-100 | 90-100 |\n",
       "| 3 | AML_Beat_13_00157 | 3.778082 | 0 | Primitive    | CD8T_Int_CD4T_Low | Primitive_CD8T_Int_CD4T_Low    | depleted_P&lt;=0.001  | expanded_P&lt;=0.05   | depleted_P&lt;=0.001  | expanded_P&lt;=0.01   | ⋯ | 539 | 230 | 228 | 80 | Alive | 1 | AML | Beat | 80-90  | 80-90  |\n",
       "| 4 | AML_Beat_13_00163 | 1.095890 | 0 | GMP          | CD8_Int_CD4_High  | GMP_CD8_Int_CD4_High           | undirection_P&gt;0.05 | undirection_P&gt;0.05 | undirection_P&gt;0.05 | expanded_P&lt;=0.05   | ⋯ | 138 | 160 |  53 | 50 | Alive | 1 | AML | Beat | 50-60  | 50-60  |\n",
       "| 6 | AML_Beat_13_00232 | 2.742466 | 0 | GMP          | CD8T_Int_CD4T_Low | GMP_CD8T_Int_CD4T_Low          | undirection_P&gt;0.05 | depleted_P&lt;=0.01   | undirection_P&gt;0.05 | undirection_P&gt;0.05 | ⋯ | 294 | 240 |  34 | 55 | Alive | 1 | AML | Beat | 50-60  | 50-60  |\n",
       "| 7 | AML_Beat_13_00245 | 2.347945 | 0 | intermediate | CD8T_Int_CD4T_Low | intermediate_CD8T_Int_CD4T_Low | undirection_P&gt;0.05 | depleted_P&lt;=0.01   | undirection_P&gt;0.05 | undirection_P&gt;0.05 | ⋯ | 195 | 200 | 109 | 30 | Alive | 1 | AML | Beat | 30-40  | 30-40  |\n",
       "\n"
      ],
      "text/plain": [
       "  Sample_ID         Survival_days Status_Cox kmean_k5_mark_short\n",
       "1 AML_Beat_12_00051 1.936986      1          Primitive          \n",
       "2 AML_Beat_12_00211 3.824658      0          Mature             \n",
       "3 AML_Beat_13_00157 3.778082      0          Primitive          \n",
       "4 AML_Beat_13_00163 1.095890      0          GMP                \n",
       "6 AML_Beat_13_00232 2.742466      0          GMP                \n",
       "7 AML_Beat_13_00245 2.347945      0          intermediate       \n",
       "  kmean_k4_mark_short tumor_to_immune_mark           CD4_T_01_FYB1_Percent\n",
       "1 CD8T_Int_CD4T_Low   Primitive_CD8T_Int_CD4T_Low    undirection_P>0.05   \n",
       "2 CD8T_Int_CD4T_Low   Mature_CD8T_Int_CD4T_Low       depleted_P<=0.001    \n",
       "3 CD8T_Int_CD4T_Low   Primitive_CD8T_Int_CD4T_Low    depleted_P<=0.001    \n",
       "4 CD8_Int_CD4_High    GMP_CD8_Int_CD4_High           undirection_P>0.05   \n",
       "6 CD8T_Int_CD4T_Low   GMP_CD8T_Int_CD4T_Low          undirection_P>0.05   \n",
       "7 CD8T_Int_CD4T_Low   intermediate_CD8T_Int_CD4T_Low undirection_P>0.05   \n",
       "  CD4_T_02_CCL5_Percent CD4_T_03_MT_ND4L_Percent CD4_T_04_ISG15_Percent ⋯ WBC\n",
       "1 depleted_P<=0.01      undirection_P>0.05       undirection_P>0.05     ⋯ 179\n",
       "2 expanded_P<=0.05      depleted_P<=0.001        expanded_P<=0.01       ⋯ 841\n",
       "3 expanded_P<=0.05      depleted_P<=0.001        expanded_P<=0.01       ⋯ 539\n",
       "4 undirection_P>0.05    undirection_P>0.05       expanded_P<=0.05       ⋯ 138\n",
       "6 depleted_P<=0.01      undirection_P>0.05       undirection_P>0.05     ⋯ 294\n",
       "7 depleted_P<=0.01      undirection_P>0.05       undirection_P>0.05     ⋯ 195\n",
       "  Neutrophile_Count Platelet_Count BM_Blast_Percent Survival_Status\n",
       "1  10                19            88               Dead           \n",
       "2  20                 8            90               Alive          \n",
       "3 230               228            80               Alive          \n",
       "4 160                53            50               Alive          \n",
       "6 240                34            55               Alive          \n",
       "7 200               109            30               Alive          \n",
       "  Status_ggsurvfit DiseaseClass Source BM_Blast_Percent_Mark1\n",
       "1 2                AML          Beat   80-90                 \n",
       "2 1                AML          Beat   90-100                \n",
       "3 1                AML          Beat   80-90                 \n",
       "4 1                AML          Beat   50-60                 \n",
       "6 1                AML          Beat   50-60                 \n",
       "7 1                AML          Beat   30-40                 \n",
       "  BM_Blast_Percent_Mark2\n",
       "1 80-90                 \n",
       "2 90-100                \n",
       "3 80-90                 \n",
       "4 50-60                 \n",
       "6 50-60                 \n",
       "7 30-40                 "
      ]
     },
     "metadata": {},
     "output_type": "display_data"
    }
   ],
   "source": [
    "head(sample_info_df_train)"
   ]
  },
  {
   "cell_type": "code",
   "execution_count": null,
   "metadata": {
    "vscode": {
     "languageId": "r"
    }
   },
   "outputs": [],
   "source": []
  },
  {
   "cell_type": "markdown",
   "metadata": {},
   "source": [
    "## 8-2) Split the samples according to the training set and test set of the model. Sample information table—— 5:5\n",
    "# Used for some clinical indicators"
   ]
  },
  {
   "cell_type": "code",
   "execution_count": 16,
   "metadata": {
    "vscode": {
     "languageId": "r"
    }
   },
   "outputs": [],
   "source": [
    "sample_info_df_train_first =sample_info_df[sample_info_df$Sample_ID %in% train_first$Sample_ID,]\n",
    "sample_info_df_test_first =sample_info_df[sample_info_df$Sample_ID %in% test_first$Sample_ID,]"
   ]
  },
  {
   "cell_type": "code",
   "execution_count": 12,
   "metadata": {
    "vscode": {
     "languageId": "r"
    }
   },
   "outputs": [
    {
     "name": "stdout",
     "output_type": "stream",
     "text": [
      "[1] 210  52\n",
      "[1] 210  52\n"
     ]
    }
   ],
   "source": [
    "print(dim(sample_info_df_train_first))\n",
    "print(dim(sample_info_df_test_first))"
   ]
  },
  {
   "cell_type": "code",
   "execution_count": 18,
   "metadata": {
    "vscode": {
     "languageId": "r"
    }
   },
   "outputs": [
    {
     "data": {
      "text/html": [
       "<table class=\"dataframe\">\n",
       "<caption>A data.frame: 6 × 52</caption>\n",
       "<thead>\n",
       "\t<tr><th></th><th scope=col>Sample_ID</th><th scope=col>Survival_days</th><th scope=col>Status_Cox</th><th scope=col>kmean_k5_mark_short</th><th scope=col>kmean_k4_mark_short</th><th scope=col>tumor_to_immune_mark</th><th scope=col>CD4_T_01_FYB1_Percent</th><th scope=col>CD4_T_02_CCL5_Percent</th><th scope=col>CD4_T_03_MT_ND4L_Percent</th><th scope=col>CD4_T_04_ISG15_Percent</th><th scope=col>⋯</th><th scope=col>WBC</th><th scope=col>Neutrophile_Count</th><th scope=col>Platelet_Count</th><th scope=col>BM_Blast_Percent</th><th scope=col>Survival_Status</th><th scope=col>Status_ggsurvfit</th><th scope=col>DiseaseClass</th><th scope=col>Source</th><th scope=col>BM_Blast_Percent_Mark1</th><th scope=col>BM_Blast_Percent_Mark2</th></tr>\n",
       "\t<tr><th></th><th scope=col>&lt;chr&gt;</th><th scope=col>&lt;dbl&gt;</th><th scope=col>&lt;int&gt;</th><th scope=col>&lt;fct&gt;</th><th scope=col>&lt;fct&gt;</th><th scope=col>&lt;fct&gt;</th><th scope=col>&lt;chr&gt;</th><th scope=col>&lt;chr&gt;</th><th scope=col>&lt;chr&gt;</th><th scope=col>&lt;chr&gt;</th><th scope=col>⋯</th><th scope=col>&lt;dbl&gt;</th><th scope=col>&lt;dbl&gt;</th><th scope=col>&lt;dbl&gt;</th><th scope=col>&lt;dbl&gt;</th><th scope=col>&lt;chr&gt;</th><th scope=col>&lt;dbl&gt;</th><th scope=col>&lt;chr&gt;</th><th scope=col>&lt;chr&gt;</th><th scope=col>&lt;chr&gt;</th><th scope=col>&lt;chr&gt;</th></tr>\n",
       "</thead>\n",
       "<tbody>\n",
       "\t<tr><th scope=row>1</th><td>AML_Beat_12_00051</td><td>1.936986</td><td>1</td><td><span style=white-space:pre-wrap>Primitive   </span></td><td>CD8T_Int_CD4T_Low</td><td><span style=white-space:pre-wrap>Primitive_CD8T_Int_CD4T_Low   </span></td><td>undirection_P&gt;0.05</td><td>depleted_P&lt;=0.01</td><td>undirection_P&gt;0.05</td><td>undirection_P&gt;0.05</td><td>⋯</td><td>179</td><td> 10</td><td> 19</td><td>88</td><td>Dead </td><td>2</td><td>AML</td><td>Beat</td><td>80-90 </td><td>80-90 </td></tr>\n",
       "\t<tr><th scope=row>2</th><td>AML_Beat_12_00211</td><td>3.824658</td><td>0</td><td><span style=white-space:pre-wrap>Mature      </span></td><td>CD8T_Int_CD4T_Low</td><td><span style=white-space:pre-wrap>Mature_CD8T_Int_CD4T_Low      </span></td><td>depleted_P&lt;=0.001 </td><td>expanded_P&lt;=0.05</td><td>depleted_P&lt;=0.001 </td><td><span style=white-space:pre-wrap>expanded_P&lt;=0.01  </span></td><td>⋯</td><td>841</td><td> 20</td><td><span style=white-space:pre-wrap>  8</span></td><td>90</td><td>Alive</td><td>1</td><td>AML</td><td>Beat</td><td>90-100</td><td>90-100</td></tr>\n",
       "\t<tr><th scope=row>3</th><td>AML_Beat_13_00157</td><td>3.778082</td><td>0</td><td><span style=white-space:pre-wrap>Primitive   </span></td><td>CD8T_Int_CD4T_Low</td><td><span style=white-space:pre-wrap>Primitive_CD8T_Int_CD4T_Low   </span></td><td>depleted_P&lt;=0.001 </td><td>expanded_P&lt;=0.05</td><td>depleted_P&lt;=0.001 </td><td><span style=white-space:pre-wrap>expanded_P&lt;=0.01  </span></td><td>⋯</td><td>539</td><td>230</td><td>228</td><td>80</td><td>Alive</td><td>1</td><td>AML</td><td>Beat</td><td>80-90 </td><td>80-90 </td></tr>\n",
       "\t<tr><th scope=row>5</th><td>AML_Beat_13_00195</td><td>2.663014</td><td>0</td><td><span style=white-space:pre-wrap>Primitive   </span></td><td>CD8T_Int_CD4T_Low</td><td><span style=white-space:pre-wrap>Primitive_CD8T_Int_CD4T_Low   </span></td><td>undirection_P&gt;0.05</td><td>depleted_P&lt;=0.01</td><td>undirection_P&gt;0.05</td><td>undirection_P&gt;0.05</td><td>⋯</td><td>280</td><td> 10</td><td>122</td><td>90</td><td>Alive</td><td>1</td><td>AML</td><td>Beat</td><td>90-100</td><td>90-100</td></tr>\n",
       "\t<tr><th scope=row>7</th><td>AML_Beat_13_00245</td><td>2.347945</td><td>0</td><td>intermediate</td><td>CD8T_Int_CD4T_Low</td><td>intermediate_CD8T_Int_CD4T_Low</td><td>undirection_P&gt;0.05</td><td>depleted_P&lt;=0.01</td><td>undirection_P&gt;0.05</td><td>undirection_P&gt;0.05</td><td>⋯</td><td>195</td><td>200</td><td>109</td><td>30</td><td>Alive</td><td>1</td><td>AML</td><td>Beat</td><td>30-40 </td><td>30-40 </td></tr>\n",
       "\t<tr><th scope=row>8</th><td>AML_Beat_13_00393</td><td>3.389041</td><td>1</td><td>intermediate</td><td>CD8T_Int_CD4T_Low</td><td>intermediate_CD8T_Int_CD4T_Low</td><td>depleted_P&lt;=0.001 </td><td>expanded_P&lt;=0.05</td><td>depleted_P&lt;=0.001 </td><td><span style=white-space:pre-wrap>expanded_P&lt;=0.01  </span></td><td>⋯</td><td>342</td><td>230</td><td> 22</td><td>21</td><td>Dead </td><td>2</td><td>AML</td><td>Beat</td><td>20-30 </td><td>20-30 </td></tr>\n",
       "</tbody>\n",
       "</table>\n"
      ],
      "text/latex": [
       "A data.frame: 6 × 52\n",
       "\\begin{tabular}{r|lllllllllllllllllllll}\n",
       "  & Sample\\_ID & Survival\\_days & Status\\_Cox & kmean\\_k5\\_mark\\_short & kmean\\_k4\\_mark\\_short & tumor\\_to\\_immune\\_mark & CD4\\_T\\_01\\_FYB1\\_Percent & CD4\\_T\\_02\\_CCL5\\_Percent & CD4\\_T\\_03\\_MT\\_ND4L\\_Percent & CD4\\_T\\_04\\_ISG15\\_Percent & ⋯ & WBC & Neutrophile\\_Count & Platelet\\_Count & BM\\_Blast\\_Percent & Survival\\_Status & Status\\_ggsurvfit & DiseaseClass & Source & BM\\_Blast\\_Percent\\_Mark1 & BM\\_Blast\\_Percent\\_Mark2\\\\\n",
       "  & <chr> & <dbl> & <int> & <fct> & <fct> & <fct> & <chr> & <chr> & <chr> & <chr> & ⋯ & <dbl> & <dbl> & <dbl> & <dbl> & <chr> & <dbl> & <chr> & <chr> & <chr> & <chr>\\\\\n",
       "\\hline\n",
       "\t1 & AML\\_Beat\\_12\\_00051 & 1.936986 & 1 & Primitive    & CD8T\\_Int\\_CD4T\\_Low & Primitive\\_CD8T\\_Int\\_CD4T\\_Low    & undirection\\_P>0.05 & depleted\\_P<=0.01 & undirection\\_P>0.05 & undirection\\_P>0.05 & ⋯ & 179 &  10 &  19 & 88 & Dead  & 2 & AML & Beat & 80-90  & 80-90 \\\\\n",
       "\t2 & AML\\_Beat\\_12\\_00211 & 3.824658 & 0 & Mature       & CD8T\\_Int\\_CD4T\\_Low & Mature\\_CD8T\\_Int\\_CD4T\\_Low       & depleted\\_P<=0.001  & expanded\\_P<=0.05 & depleted\\_P<=0.001  & expanded\\_P<=0.01   & ⋯ & 841 &  20 &   8 & 90 & Alive & 1 & AML & Beat & 90-100 & 90-100\\\\\n",
       "\t3 & AML\\_Beat\\_13\\_00157 & 3.778082 & 0 & Primitive    & CD8T\\_Int\\_CD4T\\_Low & Primitive\\_CD8T\\_Int\\_CD4T\\_Low    & depleted\\_P<=0.001  & expanded\\_P<=0.05 & depleted\\_P<=0.001  & expanded\\_P<=0.01   & ⋯ & 539 & 230 & 228 & 80 & Alive & 1 & AML & Beat & 80-90  & 80-90 \\\\\n",
       "\t5 & AML\\_Beat\\_13\\_00195 & 2.663014 & 0 & Primitive    & CD8T\\_Int\\_CD4T\\_Low & Primitive\\_CD8T\\_Int\\_CD4T\\_Low    & undirection\\_P>0.05 & depleted\\_P<=0.01 & undirection\\_P>0.05 & undirection\\_P>0.05 & ⋯ & 280 &  10 & 122 & 90 & Alive & 1 & AML & Beat & 90-100 & 90-100\\\\\n",
       "\t7 & AML\\_Beat\\_13\\_00245 & 2.347945 & 0 & intermediate & CD8T\\_Int\\_CD4T\\_Low & intermediate\\_CD8T\\_Int\\_CD4T\\_Low & undirection\\_P>0.05 & depleted\\_P<=0.01 & undirection\\_P>0.05 & undirection\\_P>0.05 & ⋯ & 195 & 200 & 109 & 30 & Alive & 1 & AML & Beat & 30-40  & 30-40 \\\\\n",
       "\t8 & AML\\_Beat\\_13\\_00393 & 3.389041 & 1 & intermediate & CD8T\\_Int\\_CD4T\\_Low & intermediate\\_CD8T\\_Int\\_CD4T\\_Low & depleted\\_P<=0.001  & expanded\\_P<=0.05 & depleted\\_P<=0.001  & expanded\\_P<=0.01   & ⋯ & 342 & 230 &  22 & 21 & Dead  & 2 & AML & Beat & 20-30  & 20-30 \\\\\n",
       "\\end{tabular}\n"
      ],
      "text/markdown": [
       "\n",
       "A data.frame: 6 × 52\n",
       "\n",
       "| <!--/--> | Sample_ID &lt;chr&gt; | Survival_days &lt;dbl&gt; | Status_Cox &lt;int&gt; | kmean_k5_mark_short &lt;fct&gt; | kmean_k4_mark_short &lt;fct&gt; | tumor_to_immune_mark &lt;fct&gt; | CD4_T_01_FYB1_Percent &lt;chr&gt; | CD4_T_02_CCL5_Percent &lt;chr&gt; | CD4_T_03_MT_ND4L_Percent &lt;chr&gt; | CD4_T_04_ISG15_Percent &lt;chr&gt; | ⋯ ⋯ | WBC &lt;dbl&gt; | Neutrophile_Count &lt;dbl&gt; | Platelet_Count &lt;dbl&gt; | BM_Blast_Percent &lt;dbl&gt; | Survival_Status &lt;chr&gt; | Status_ggsurvfit &lt;dbl&gt; | DiseaseClass &lt;chr&gt; | Source &lt;chr&gt; | BM_Blast_Percent_Mark1 &lt;chr&gt; | BM_Blast_Percent_Mark2 &lt;chr&gt; |\n",
       "|---|---|---|---|---|---|---|---|---|---|---|---|---|---|---|---|---|---|---|---|---|---|\n",
       "| 1 | AML_Beat_12_00051 | 1.936986 | 1 | Primitive    | CD8T_Int_CD4T_Low | Primitive_CD8T_Int_CD4T_Low    | undirection_P&gt;0.05 | depleted_P&lt;=0.01 | undirection_P&gt;0.05 | undirection_P&gt;0.05 | ⋯ | 179 |  10 |  19 | 88 | Dead  | 2 | AML | Beat | 80-90  | 80-90  |\n",
       "| 2 | AML_Beat_12_00211 | 3.824658 | 0 | Mature       | CD8T_Int_CD4T_Low | Mature_CD8T_Int_CD4T_Low       | depleted_P&lt;=0.001  | expanded_P&lt;=0.05 | depleted_P&lt;=0.001  | expanded_P&lt;=0.01   | ⋯ | 841 |  20 |   8 | 90 | Alive | 1 | AML | Beat | 90-100 | 90-100 |\n",
       "| 3 | AML_Beat_13_00157 | 3.778082 | 0 | Primitive    | CD8T_Int_CD4T_Low | Primitive_CD8T_Int_CD4T_Low    | depleted_P&lt;=0.001  | expanded_P&lt;=0.05 | depleted_P&lt;=0.001  | expanded_P&lt;=0.01   | ⋯ | 539 | 230 | 228 | 80 | Alive | 1 | AML | Beat | 80-90  | 80-90  |\n",
       "| 5 | AML_Beat_13_00195 | 2.663014 | 0 | Primitive    | CD8T_Int_CD4T_Low | Primitive_CD8T_Int_CD4T_Low    | undirection_P&gt;0.05 | depleted_P&lt;=0.01 | undirection_P&gt;0.05 | undirection_P&gt;0.05 | ⋯ | 280 |  10 | 122 | 90 | Alive | 1 | AML | Beat | 90-100 | 90-100 |\n",
       "| 7 | AML_Beat_13_00245 | 2.347945 | 0 | intermediate | CD8T_Int_CD4T_Low | intermediate_CD8T_Int_CD4T_Low | undirection_P&gt;0.05 | depleted_P&lt;=0.01 | undirection_P&gt;0.05 | undirection_P&gt;0.05 | ⋯ | 195 | 200 | 109 | 30 | Alive | 1 | AML | Beat | 30-40  | 30-40  |\n",
       "| 8 | AML_Beat_13_00393 | 3.389041 | 1 | intermediate | CD8T_Int_CD4T_Low | intermediate_CD8T_Int_CD4T_Low | depleted_P&lt;=0.001  | expanded_P&lt;=0.05 | depleted_P&lt;=0.001  | expanded_P&lt;=0.01   | ⋯ | 342 | 230 |  22 | 21 | Dead  | 2 | AML | Beat | 20-30  | 20-30  |\n",
       "\n"
      ],
      "text/plain": [
       "  Sample_ID         Survival_days Status_Cox kmean_k5_mark_short\n",
       "1 AML_Beat_12_00051 1.936986      1          Primitive          \n",
       "2 AML_Beat_12_00211 3.824658      0          Mature             \n",
       "3 AML_Beat_13_00157 3.778082      0          Primitive          \n",
       "5 AML_Beat_13_00195 2.663014      0          Primitive          \n",
       "7 AML_Beat_13_00245 2.347945      0          intermediate       \n",
       "8 AML_Beat_13_00393 3.389041      1          intermediate       \n",
       "  kmean_k4_mark_short tumor_to_immune_mark           CD4_T_01_FYB1_Percent\n",
       "1 CD8T_Int_CD4T_Low   Primitive_CD8T_Int_CD4T_Low    undirection_P>0.05   \n",
       "2 CD8T_Int_CD4T_Low   Mature_CD8T_Int_CD4T_Low       depleted_P<=0.001    \n",
       "3 CD8T_Int_CD4T_Low   Primitive_CD8T_Int_CD4T_Low    depleted_P<=0.001    \n",
       "5 CD8T_Int_CD4T_Low   Primitive_CD8T_Int_CD4T_Low    undirection_P>0.05   \n",
       "7 CD8T_Int_CD4T_Low   intermediate_CD8T_Int_CD4T_Low undirection_P>0.05   \n",
       "8 CD8T_Int_CD4T_Low   intermediate_CD8T_Int_CD4T_Low depleted_P<=0.001    \n",
       "  CD4_T_02_CCL5_Percent CD4_T_03_MT_ND4L_Percent CD4_T_04_ISG15_Percent ⋯ WBC\n",
       "1 depleted_P<=0.01      undirection_P>0.05       undirection_P>0.05     ⋯ 179\n",
       "2 expanded_P<=0.05      depleted_P<=0.001        expanded_P<=0.01       ⋯ 841\n",
       "3 expanded_P<=0.05      depleted_P<=0.001        expanded_P<=0.01       ⋯ 539\n",
       "5 depleted_P<=0.01      undirection_P>0.05       undirection_P>0.05     ⋯ 280\n",
       "7 depleted_P<=0.01      undirection_P>0.05       undirection_P>0.05     ⋯ 195\n",
       "8 expanded_P<=0.05      depleted_P<=0.001        expanded_P<=0.01       ⋯ 342\n",
       "  Neutrophile_Count Platelet_Count BM_Blast_Percent Survival_Status\n",
       "1  10                19            88               Dead           \n",
       "2  20                 8            90               Alive          \n",
       "3 230               228            80               Alive          \n",
       "5  10               122            90               Alive          \n",
       "7 200               109            30               Alive          \n",
       "8 230                22            21               Dead           \n",
       "  Status_ggsurvfit DiseaseClass Source BM_Blast_Percent_Mark1\n",
       "1 2                AML          Beat   80-90                 \n",
       "2 1                AML          Beat   90-100                \n",
       "3 1                AML          Beat   80-90                 \n",
       "5 1                AML          Beat   90-100                \n",
       "7 1                AML          Beat   30-40                 \n",
       "8 2                AML          Beat   20-30                 \n",
       "  BM_Blast_Percent_Mark2\n",
       "1 80-90                 \n",
       "2 90-100                \n",
       "3 80-90                 \n",
       "5 90-100                \n",
       "7 30-40                 \n",
       "8 20-30                 "
      ]
     },
     "metadata": {},
     "output_type": "display_data"
    }
   ],
   "source": [
    "head(sample_info_df_train_first)"
   ]
  },
  {
   "cell_type": "markdown",
   "metadata": {},
   "source": [
    "## 9) Constructing Functions"
   ]
  },
  {
   "cell_type": "code",
   "execution_count": 14,
   "metadata": {
    "vscode": {
     "languageId": "r"
    }
   },
   "outputs": [],
   "source": [
    "getROC <- function(trainOut, testOut, var_str) {\n",
    "  formula_str <- paste(\"Surv(Survival_days, Status_Cox) ~\", var_str)\n",
    "  formula <- as.formula(formula_str)\n",
    "\n",
    "  multiCox <- coxph(formula, data = trainOut)\n",
    "  \n",
    "  multiCoxSum <- summary(multiCox)\n",
    "  \n",
    "  outMultiTab <- data.frame()\n",
    "  outMultiTab <- cbind(\n",
    "    coef = multiCoxSum$coefficients[, \"coef\"],\n",
    "    HR = multiCoxSum$conf.int[, \"exp(coef)\"],\n",
    "    HR.95L = multiCoxSum$conf.int[, \"lower .95\"],\n",
    "    HR.95H = multiCoxSum$conf.int[, \"upper .95\"],\n",
    "    pvalue = multiCoxSum$coefficients[, \"Pr(>|z|)\"]\n",
    "  )\n",
    "  \n",
    "  outMultiTab <- cbind(id = row.names(multiCoxSum$coefficients), outMultiTab)\n",
    "  \n",
    "  riskScore <- predict(multiCox, type = \"risk\", newdata = trainOut)\n",
    "  \n",
    "  final_formula <- formula(multiCox)\n",
    "  outCol <- all.vars(final_formula)\n",
    "  \n",
    "  mediantrainRisk <- median(riskScore)\n",
    "  risk <- as.vector(ifelse(riskScore > mediantrainRisk, \"high\", \"low\"))\n",
    "  \n",
    "  trainRiskOut <- cbind(id = trainOut$Sample_ID, cbind(trainOut[, outCol], riskScore, risk))\n",
    "  \n",
    "  riskScoreTest <- predict(multiCox, type = \"risk\", newdata = testOut)\n",
    "  riskTest <- as.vector(ifelse(riskScoreTest > mediantrainRisk, \"high\", \"low\"))\n",
    "  \n",
    "  testRiskOut <- cbind(id = testOut$Sample_ID, cbind(testOut[, outCol], riskScore = riskScoreTest, risk = riskTest))\n",
    "  \n",
    "  roc_05 <- survivalROC(Stime = trainRiskOut$Survival_days, status = trainRiskOut$Status_Cox, \n",
    "                     marker = riskScore, predict.time = 0.5, method = \"KM\")\n",
    "  roc_1 <- survivalROC(Stime = trainRiskOut$Survival_days, status = trainRiskOut$Status_Cox, \n",
    "                     marker = riskScore, predict.time = 1, method = \"KM\")\n",
    "  roc_2 <- survivalROC(Stime = trainRiskOut$Survival_days, status = trainRiskOut$Status_Cox, \n",
    "                     marker = riskScore, predict.time = 2, method = \"KM\")\n",
    "  roc_3 <- survivalROC(Stime = trainRiskOut$Survival_days, status = trainRiskOut$Status_Cox, \n",
    "                    marker = riskScore, predict.time = 3, method = \"KM\")\n",
    "  roc_4 <- survivalROC(Stime = trainRiskOut$Survival_days, status = trainRiskOut$Status_Cox, \n",
    "                    marker = riskScore, predict.time = 4, method = \"KM\")                  \n",
    "  roc_5 <- survivalROC(Stime = trainRiskOut$Survival_days, status = trainRiskOut$Status_Cox, \n",
    "                    marker = riskScore, predict.time = 5, method = \"KM\")\n",
    "\n",
    "  rocTest_05 <- survivalROC(Stime = testRiskOut$Survival_days, status = testRiskOut$Status_Cox, \n",
    "                         marker = riskScoreTest, predict.time = 0.5, method = \"KM\")\n",
    "  rocTest_1 <- survivalROC(Stime = testRiskOut$Survival_days, status = testRiskOut$Status_Cox, \n",
    "                         marker = riskScoreTest, predict.time = 1, method = \"KM\")\n",
    "  rocTest_2 <- survivalROC(Stime = testRiskOut$Survival_days, status = testRiskOut$Status_Cox, \n",
    "                         marker = riskScoreTest, predict.time = 2, method = \"KM\")\n",
    "  rocTest_3 <- survivalROC(Stime = testRiskOut$Survival_days, status = testRiskOut$Status_Cox, \n",
    "                         marker = riskScoreTest, predict.time = 3, method = \"KM\")\n",
    "  rocTest_4 <- survivalROC(Stime = testRiskOut$Survival_days, status = testRiskOut$Status_Cox, \n",
    "                         marker = riskScoreTest, predict.time = 4, method = \"KM\")\n",
    "  rocTest_5 <- survivalROC(Stime = testRiskOut$Survival_days, status = testRiskOut$Status_Cox, \n",
    "                         marker = riskScoreTest, predict.time = 5, method = \"KM\")\n",
    "\n",
    "\n",
    "  # 输出结果到文件\n",
    "  output_f <- file.path(output_dir,paste0(var_str,\"_multi_cox_result.xls\"))\n",
    "  write.table(outMultiTab, file = output_f, sep = \"\\t\", row.names = F, quote = F)\n",
    "  \n",
    "  output_f <- file.path(output_dir, paste0(var_str,\"_multi_cox_result_risktrain.xls\"))\n",
    "  write.table(trainRiskOut, file = output_f, sep = \"\\t\", row.names = F, quote = F)\n",
    "  \n",
    "  output_f <- file.path(output_dir, paste0(var_str,\"_multi_cox_result_riskTest.xls\"))\n",
    "  write.table(testRiskOut, file = output_f, sep = \"\\t\", row.names = F, quote = F)\n",
    "  \n",
    "  # Return ROC and ROCTest\n",
    "  return(list(roc_05 = roc_05,roc_1 = roc_1,roc_2=roc_2,roc_3=roc_3,roc_4=roc_4,roc_5=roc_5,\n",
    "  rocTest_05 = rocTest_05,rocTest_1 = rocTest_1,rocTest_2 = rocTest_2,rocTest_3=rocTest_3,\n",
    "  rocTest_4=rocTest_4,rocTest_5=rocTest_5))\n",
    "}\n"
   ]
  },
  {
   "cell_type": "code",
   "execution_count": null,
   "metadata": {
    "vscode": {
     "languageId": "r"
    }
   },
   "outputs": [],
   "source": []
  },
  {
   "cell_type": "code",
   "execution_count": null,
   "metadata": {
    "vscode": {
     "languageId": "r"
    }
   },
   "outputs": [],
   "source": []
  },
  {
   "cell_type": "markdown",
   "metadata": {},
   "source": [
    "## 10) Tumor kmean group Risk Group"
   ]
  },
  {
   "cell_type": "code",
   "execution_count": 19,
   "metadata": {
    "vscode": {
     "languageId": "r"
    }
   },
   "outputs": [
    {
     "data": {
      "text/html": [
       "<style>\n",
       ".list-inline {list-style: none; margin:0; padding: 0}\n",
       ".list-inline>li {display: inline-block}\n",
       ".list-inline>li:not(:last-child)::after {content: \"\\00b7\"; padding: 0 .5ex}\n",
       "</style>\n",
       "<ol class=list-inline><li>294</li><li>52</li></ol>\n"
      ],
      "text/latex": [
       "\\begin{enumerate*}\n",
       "\\item 294\n",
       "\\item 52\n",
       "\\end{enumerate*}\n"
      ],
      "text/markdown": [
       "1. 294\n",
       "2. 52\n",
       "\n",
       "\n"
      ],
      "text/plain": [
       "[1] 294  52"
      ]
     },
     "metadata": {},
     "output_type": "display_data"
    }
   ],
   "source": [
    "dim(sample_info_df_train)"
   ]
  },
  {
   "cell_type": "code",
   "execution_count": 20,
   "metadata": {
    "vscode": {
     "languageId": "r"
    }
   },
   "outputs": [],
   "source": [
    "result_tumor <- getROC(sample_info_df_train, sample_info_df_test, \"kmean_k5_mark_short\")\n",
    "roc_1_tumor <- result_tumor$roc_1\n",
    "roc_3_tumor <- result_tumor$roc_3\n",
    "roc_5_tumor <- result_tumor$roc_5\n",
    "roc_05_tumor <- result_tumor$roc_05\n",
    "roc_2_tumor <- result_tumor$roc_2\n",
    "roc_4_tumor <- result_tumor$roc_4\n",
    "\n",
    "\n",
    "rocTest_1_tumor <- result_tumor$rocTest_1\n",
    "rocTest_3_tumor <- result_tumor$rocTest_3\n",
    "rocTest_5_tumor <- result_tumor$rocTest_5\n",
    "rocTest_05_tumor <- result_tumor$rocTest_05\n",
    "rocTest_2_tumor <- result_tumor$rocTest_2\n",
    "rocTest_4_tumor <- result_tumor$rocTest_4"
   ]
  },
  {
   "cell_type": "code",
   "execution_count": 21,
   "metadata": {
    "vscode": {
     "languageId": "r"
    }
   },
   "outputs": [
    {
     "data": {
      "text/html": [
       "<dl>\n",
       "\t<dt>$cut.values</dt>\n",
       "\t\t<dd><style>\n",
       ".list-inline {list-style: none; margin:0; padding: 0}\n",
       ".list-inline>li {display: inline-block}\n",
       ".list-inline>li:not(:last-child)::after {content: \"\\00b7\"; padding: 0 .5ex}\n",
       "</style>\n",
       "<ol class=list-inline><li>-Inf</li><li>0.802060213075713</li><li>1</li><li>1.78883187569768</li><li>2.75944626312076</li><li>4.71853362807797</li></ol>\n",
       "</dd>\n",
       "\t<dt>$TP</dt>\n",
       "\t\t<dd><style>\n",
       ".list-inline {list-style: none; margin:0; padding: 0}\n",
       ".list-inline>li {display: inline-block}\n",
       ".list-inline>li:not(:last-child)::after {content: \"\\00b7\"; padding: 0 .5ex}\n",
       "</style>\n",
       "<ol class=list-inline><li>1</li><li>0.928385087975781</li><li>0.794563754310341</li><li>0.48971028679252</li><li>0.281919327659413</li><li>0</li></ol>\n",
       "</dd>\n",
       "\t<dt>$FP</dt>\n",
       "\t\t<dd><style>\n",
       ".list-inline {list-style: none; margin:0; padding: 0}\n",
       ".list-inline>li {display: inline-block}\n",
       ".list-inline>li:not(:last-child)::after {content: \"\\00b7\"; padding: 0 .5ex}\n",
       "</style>\n",
       "<ol class=list-inline><li>1</li><li>0.639415220452336</li><li>0.40756777403306</li><li>0.145736318487448</li><li>0.0530967270539262</li><li>0</li></ol>\n",
       "</dd>\n",
       "\t<dt>$predict.time</dt>\n",
       "\t\t<dd>1</dd>\n",
       "\t<dt>$Survival</dt>\n",
       "\t\t<dd>0.682052328355612</dd>\n",
       "\t<dt>$AUC</dt>\n",
       "\t\t<dd>0.758761694270017</dd>\n",
       "</dl>\n"
      ],
      "text/latex": [
       "\\begin{description}\n",
       "\\item[\\$cut.values] \\begin{enumerate*}\n",
       "\\item -Inf\n",
       "\\item 0.802060213075713\n",
       "\\item 1\n",
       "\\item 1.78883187569768\n",
       "\\item 2.75944626312076\n",
       "\\item 4.71853362807797\n",
       "\\end{enumerate*}\n",
       "\n",
       "\\item[\\$TP] \\begin{enumerate*}\n",
       "\\item 1\n",
       "\\item 0.928385087975781\n",
       "\\item 0.794563754310341\n",
       "\\item 0.48971028679252\n",
       "\\item 0.281919327659413\n",
       "\\item 0\n",
       "\\end{enumerate*}\n",
       "\n",
       "\\item[\\$FP] \\begin{enumerate*}\n",
       "\\item 1\n",
       "\\item 0.639415220452336\n",
       "\\item 0.40756777403306\n",
       "\\item 0.145736318487448\n",
       "\\item 0.0530967270539262\n",
       "\\item 0\n",
       "\\end{enumerate*}\n",
       "\n",
       "\\item[\\$predict.time] 1\n",
       "\\item[\\$Survival] 0.682052328355612\n",
       "\\item[\\$AUC] 0.758761694270017\n",
       "\\end{description}\n"
      ],
      "text/markdown": [
       "$cut.values\n",
       ":   1. -Inf\n",
       "2. 0.802060213075713\n",
       "3. 1\n",
       "4. 1.78883187569768\n",
       "5. 2.75944626312076\n",
       "6. 4.71853362807797\n",
       "\n",
       "\n",
       "\n",
       "$TP\n",
       ":   1. 1\n",
       "2. 0.928385087975781\n",
       "3. 0.794563754310341\n",
       "4. 0.48971028679252\n",
       "5. 0.281919327659413\n",
       "6. 0\n",
       "\n",
       "\n",
       "\n",
       "$FP\n",
       ":   1. 1\n",
       "2. 0.639415220452336\n",
       "3. 0.40756777403306\n",
       "4. 0.145736318487448\n",
       "5. 0.0530967270539262\n",
       "6. 0\n",
       "\n",
       "\n",
       "\n",
       "$predict.time\n",
       ":   1\n",
       "$Survival\n",
       ":   0.682052328355612\n",
       "$AUC\n",
       ":   0.758761694270017\n",
       "\n",
       "\n"
      ],
      "text/plain": [
       "$cut.values\n",
       "[1]      -Inf 0.8020602 1.0000000 1.7888319 2.7594463 4.7185336\n",
       "\n",
       "$TP\n",
       "[1] 1.0000000 0.9283851 0.7945638 0.4897103 0.2819193 0.0000000\n",
       "\n",
       "$FP\n",
       "[1] 1.00000000 0.63941522 0.40756777 0.14573632 0.05309673 0.00000000\n",
       "\n",
       "$predict.time\n",
       "[1] 1\n",
       "\n",
       "$Survival\n",
       "[1] 0.6820523\n",
       "\n",
       "$AUC\n",
       "[1] 0.7587617\n"
      ]
     },
     "metadata": {},
     "output_type": "display_data"
    }
   ],
   "source": [
    "roc_1_tumor"
   ]
  },
  {
   "cell_type": "code",
   "execution_count": 22,
   "metadata": {
    "vscode": {
     "languageId": "r"
    }
   },
   "outputs": [
    {
     "data": {
      "text/html": [
       "<dl>\n",
       "\t<dt>$cut.values</dt>\n",
       "\t\t<dd><style>\n",
       ".list-inline {list-style: none; margin:0; padding: 0}\n",
       ".list-inline>li {display: inline-block}\n",
       ".list-inline>li:not(:last-child)::after {content: \"\\00b7\"; padding: 0 .5ex}\n",
       "</style>\n",
       "<ol class=list-inline><li>-Inf</li><li>0.802060213075713</li><li>1</li><li>1.78883187569768</li><li>2.75944626312076</li><li>4.71853362807797</li></ol>\n",
       "</dd>\n",
       "\t<dt>$TP</dt>\n",
       "\t\t<dd><style>\n",
       ".list-inline {list-style: none; margin:0; padding: 0}\n",
       ".list-inline>li {display: inline-block}\n",
       ".list-inline>li:not(:last-child)::after {content: \"\\00b7\"; padding: 0 .5ex}\n",
       "</style>\n",
       "<ol class=list-inline><li>1</li><li>0.824125835739816</li><li>0.64693843131568</li><li>0.349987634219723</li><li>0.18247169090026</li><li>0</li></ol>\n",
       "</dd>\n",
       "\t<dt>$FP</dt>\n",
       "\t\t<dd><style>\n",
       ".list-inline {list-style: none; margin:0; padding: 0}\n",
       ".list-inline>li {display: inline-block}\n",
       ".list-inline>li:not(:last-child)::after {content: \"\\00b7\"; padding: 0 .5ex}\n",
       "</style>\n",
       "<ol class=list-inline><li>1</li><li>0.618485215448718</li><li>0.38925735885682</li><li>0.139800897922162</li><li>0.0570463602993159</li><li>0</li></ol>\n",
       "</dd>\n",
       "\t<dt>$predict.time</dt>\n",
       "\t\t<dd>3</dd>\n",
       "\t<dt>$Survival</dt>\n",
       "\t\t<dd>0.451434734059845</dd>\n",
       "\t<dt>$AUC</dt>\n",
       "\t\t<dd>0.66815115163077</dd>\n",
       "</dl>\n"
      ],
      "text/latex": [
       "\\begin{description}\n",
       "\\item[\\$cut.values] \\begin{enumerate*}\n",
       "\\item -Inf\n",
       "\\item 0.802060213075713\n",
       "\\item 1\n",
       "\\item 1.78883187569768\n",
       "\\item 2.75944626312076\n",
       "\\item 4.71853362807797\n",
       "\\end{enumerate*}\n",
       "\n",
       "\\item[\\$TP] \\begin{enumerate*}\n",
       "\\item 1\n",
       "\\item 0.824125835739816\n",
       "\\item 0.64693843131568\n",
       "\\item 0.349987634219723\n",
       "\\item 0.18247169090026\n",
       "\\item 0\n",
       "\\end{enumerate*}\n",
       "\n",
       "\\item[\\$FP] \\begin{enumerate*}\n",
       "\\item 1\n",
       "\\item 0.618485215448718\n",
       "\\item 0.38925735885682\n",
       "\\item 0.139800897922162\n",
       "\\item 0.0570463602993159\n",
       "\\item 0\n",
       "\\end{enumerate*}\n",
       "\n",
       "\\item[\\$predict.time] 3\n",
       "\\item[\\$Survival] 0.451434734059845\n",
       "\\item[\\$AUC] 0.66815115163077\n",
       "\\end{description}\n"
      ],
      "text/markdown": [
       "$cut.values\n",
       ":   1. -Inf\n",
       "2. 0.802060213075713\n",
       "3. 1\n",
       "4. 1.78883187569768\n",
       "5. 2.75944626312076\n",
       "6. 4.71853362807797\n",
       "\n",
       "\n",
       "\n",
       "$TP\n",
       ":   1. 1\n",
       "2. 0.824125835739816\n",
       "3. 0.64693843131568\n",
       "4. 0.349987634219723\n",
       "5. 0.18247169090026\n",
       "6. 0\n",
       "\n",
       "\n",
       "\n",
       "$FP\n",
       ":   1. 1\n",
       "2. 0.618485215448718\n",
       "3. 0.38925735885682\n",
       "4. 0.139800897922162\n",
       "5. 0.0570463602993159\n",
       "6. 0\n",
       "\n",
       "\n",
       "\n",
       "$predict.time\n",
       ":   3\n",
       "$Survival\n",
       ":   0.451434734059845\n",
       "$AUC\n",
       ":   0.66815115163077\n",
       "\n",
       "\n"
      ],
      "text/plain": [
       "$cut.values\n",
       "[1]      -Inf 0.8020602 1.0000000 1.7888319 2.7594463 4.7185336\n",
       "\n",
       "$TP\n",
       "[1] 1.0000000 0.8241258 0.6469384 0.3499876 0.1824717 0.0000000\n",
       "\n",
       "$FP\n",
       "[1] 1.00000000 0.61848522 0.38925736 0.13980090 0.05704636 0.00000000\n",
       "\n",
       "$predict.time\n",
       "[1] 3\n",
       "\n",
       "$Survival\n",
       "[1] 0.4514347\n",
       "\n",
       "$AUC\n",
       "[1] 0.6681512\n"
      ]
     },
     "metadata": {},
     "output_type": "display_data"
    }
   ],
   "source": [
    "roc_3_tumor"
   ]
  },
  {
   "cell_type": "markdown",
   "metadata": {},
   "source": [
    "## 11）immune kmean group"
   ]
  },
  {
   "cell_type": "code",
   "execution_count": 23,
   "metadata": {
    "vscode": {
     "languageId": "r"
    }
   },
   "outputs": [],
   "source": [
    "result_immune <- getROC(sample_info_df_train, sample_info_df_test, \"kmean_k4_mark_short\")\n",
    "roc_1_immune <- result_immune$roc_1\n",
    "roc_3_immune <- result_immune$roc_3\n",
    "roc_5_immune <- result_immune$roc_5\n",
    "roc_05_immune <- result_immune$roc_05\n",
    "roc_2_immune <- result_immune$roc_2\n",
    "roc_4_immune <- result_immune$roc_4\n",
    "\n",
    "\n",
    "rocTest_1_immune <- result_immune$rocTest_1\n",
    "rocTest_3_immune <- result_immune$rocTest_3\n",
    "rocTest_5_immune <- result_immune$rocTest_5\n",
    "rocTest_05_immune <- result_immune$rocTest_05\n",
    "rocTest_2_immune <- result_immune$rocTest_2\n",
    "rocTest_4_immune <- result_immune$rocTest_4"
   ]
  },
  {
   "cell_type": "code",
   "execution_count": 24,
   "metadata": {
    "vscode": {
     "languageId": "r"
    }
   },
   "outputs": [
    {
     "data": {
      "text/html": [
       "<dl>\n",
       "\t<dt>$cut.values</dt>\n",
       "\t\t<dd><style>\n",
       ".list-inline {list-style: none; margin:0; padding: 0}\n",
       ".list-inline>li {display: inline-block}\n",
       ".list-inline>li:not(:last-child)::after {content: \"\\00b7\"; padding: 0 .5ex}\n",
       "</style>\n",
       "<ol class=list-inline><li>-Inf</li><li>1</li><li>1.80242951492001</li><li>2.78429245915027</li><li>9.72038631900514</li></ol>\n",
       "</dd>\n",
       "\t<dt>$TP</dt>\n",
       "\t\t<dd><style>\n",
       ".list-inline {list-style: none; margin:0; padding: 0}\n",
       ".list-inline>li {display: inline-block}\n",
       ".list-inline>li:not(:last-child)::after {content: \"\\00b7\"; padding: 0 .5ex}\n",
       "</style>\n",
       "<ol class=list-inline><li>1</li><li>0.938699026468522</li><li>0.821525276191599</li><li>0.543119320913624</li><li>0</li></ol>\n",
       "</dd>\n",
       "\t<dt>$FP</dt>\n",
       "\t\t<dd><style>\n",
       ".list-inline {list-style: none; margin:0; padding: 0}\n",
       ".list-inline>li {display: inline-block}\n",
       ".list-inline>li:not(:last-child)::after {content: \"\\00b7\"; padding: 0 .5ex}\n",
       "</style>\n",
       "<ol class=list-inline><li>1</li><li>0.82909827425431</li><li>0.424921002908778</li><li>0.130812893213488</li><li>0</li></ol>\n",
       "</dd>\n",
       "\t<dt>$predict.time</dt>\n",
       "\t\t<dd>1</dd>\n",
       "\t<dt>$Survival</dt>\n",
       "\t\t<dd>0.682052328355612</dd>\n",
       "\t<dt>$AUC</dt>\n",
       "\t\t<dd>0.757584858759791</dd>\n",
       "</dl>\n"
      ],
      "text/latex": [
       "\\begin{description}\n",
       "\\item[\\$cut.values] \\begin{enumerate*}\n",
       "\\item -Inf\n",
       "\\item 1\n",
       "\\item 1.80242951492001\n",
       "\\item 2.78429245915027\n",
       "\\item 9.72038631900514\n",
       "\\end{enumerate*}\n",
       "\n",
       "\\item[\\$TP] \\begin{enumerate*}\n",
       "\\item 1\n",
       "\\item 0.938699026468522\n",
       "\\item 0.821525276191599\n",
       "\\item 0.543119320913624\n",
       "\\item 0\n",
       "\\end{enumerate*}\n",
       "\n",
       "\\item[\\$FP] \\begin{enumerate*}\n",
       "\\item 1\n",
       "\\item 0.82909827425431\n",
       "\\item 0.424921002908778\n",
       "\\item 0.130812893213488\n",
       "\\item 0\n",
       "\\end{enumerate*}\n",
       "\n",
       "\\item[\\$predict.time] 1\n",
       "\\item[\\$Survival] 0.682052328355612\n",
       "\\item[\\$AUC] 0.757584858759791\n",
       "\\end{description}\n"
      ],
      "text/markdown": [
       "$cut.values\n",
       ":   1. -Inf\n",
       "2. 1\n",
       "3. 1.80242951492001\n",
       "4. 2.78429245915027\n",
       "5. 9.72038631900514\n",
       "\n",
       "\n",
       "\n",
       "$TP\n",
       ":   1. 1\n",
       "2. 0.938699026468522\n",
       "3. 0.821525276191599\n",
       "4. 0.543119320913624\n",
       "5. 0\n",
       "\n",
       "\n",
       "\n",
       "$FP\n",
       ":   1. 1\n",
       "2. 0.82909827425431\n",
       "3. 0.424921002908778\n",
       "4. 0.130812893213488\n",
       "5. 0\n",
       "\n",
       "\n",
       "\n",
       "$predict.time\n",
       ":   1\n",
       "$Survival\n",
       ":   0.682052328355612\n",
       "$AUC\n",
       ":   0.757584858759791\n",
       "\n",
       "\n"
      ],
      "text/plain": [
       "$cut.values\n",
       "[1]     -Inf 1.000000 1.802430 2.784292 9.720386\n",
       "\n",
       "$TP\n",
       "[1] 1.0000000 0.9386990 0.8215253 0.5431193 0.0000000\n",
       "\n",
       "$FP\n",
       "[1] 1.0000000 0.8290983 0.4249210 0.1308129 0.0000000\n",
       "\n",
       "$predict.time\n",
       "[1] 1\n",
       "\n",
       "$Survival\n",
       "[1] 0.6820523\n",
       "\n",
       "$AUC\n",
       "[1] 0.7575849\n"
      ]
     },
     "metadata": {},
     "output_type": "display_data"
    }
   ],
   "source": [
    "roc_1_immune"
   ]
  },
  {
   "cell_type": "code",
   "execution_count": null,
   "metadata": {
    "vscode": {
     "languageId": "r"
    }
   },
   "outputs": [],
   "source": []
  },
  {
   "cell_type": "markdown",
   "metadata": {},
   "source": [
    "## 14) Blast factor"
   ]
  },
  {
   "cell_type": "code",
   "execution_count": 19,
   "metadata": {
    "vscode": {
     "languageId": "r"
    }
   },
   "outputs": [],
   "source": [
    "sample_info_df_train_Blast_factor = sample_info_df_train_first[!is.na(sample_info_df_train_first$BM_Blast_Percent_Mark2) & sample_info_df_train_first$BM_Blast_Percent_Mark2 != \"\", ]\n",
    "sample_info_df_test_Blast_factor = sample_info_df_test_first[!is.na(sample_info_df_test_first$BM_Blast_Percent_Mark2) & sample_info_df_test_first$BM_Blast_Percent_Mark2 != \"\", ]"
   ]
  },
  {
   "cell_type": "code",
   "execution_count": 20,
   "metadata": {
    "vscode": {
     "languageId": "r"
    }
   },
   "outputs": [
    {
     "name": "stdout",
     "output_type": "stream",
     "text": [
      "[1] 294  52\n",
      "[1] 126  52\n"
     ]
    }
   ],
   "source": [
    "print(dim(sample_info_df_train_Blast_factor))\n",
    "print(dim(sample_info_df_test_Blast_factor))"
   ]
  },
  {
   "cell_type": "code",
   "execution_count": 27,
   "metadata": {
    "vscode": {
     "languageId": "r"
    }
   },
   "outputs": [
    {
     "data": {
      "text/plain": [
       "\n",
       "   0-2  10-20    2-5  20-30  30-40  40-50   5-10  50-60  60-70  70-80  80-90 \n",
       "    18     18     31      6     14     13     19     15      9     21     24 \n",
       "90-100 \n",
       "    22 "
      ]
     },
     "metadata": {},
     "output_type": "display_data"
    }
   ],
   "source": [
    "table(sample_info_df_train_Blast_factor$BM_Blast_Percent_Mark2)"
   ]
  },
  {
   "cell_type": "code",
   "execution_count": 28,
   "metadata": {
    "vscode": {
     "languageId": "r"
    }
   },
   "outputs": [],
   "source": [
    "sample_info_df_train_Blast_factor$BM_Blast_Percent_Mark2 = factor(sample_info_df_train_Blast_factor$BM_Blast_Percent_Mark2,levels = c(\n",
    "    \"0-2\",\n",
    "    '2-5',\n",
    "    '5-10',\n",
    "    '10-20',\n",
    "    \"20-30\",\n",
    "    \"30-40\",\n",
    "    \"40-50\",\n",
    "    \"50-60\",\n",
    "    \"60-70\",\n",
    "    \"70-80\",\n",
    "    \"80-90\",\n",
    "    \"90-100\" \n",
    "))"
   ]
  },
  {
   "cell_type": "code",
   "execution_count": 29,
   "metadata": {
    "vscode": {
     "languageId": "r"
    }
   },
   "outputs": [],
   "source": [
    "sample_info_df_test_Blast_factor$BM_Blast_Percent_Mark2 = factor(sample_info_df_test_Blast_factor$BM_Blast_Percent_Mark2,levels = c(\n",
    "    \"0-2\",\n",
    "    '2-5',\n",
    "    '5-10',\n",
    "    '10-20',\n",
    "    \"20-30\",\n",
    "    \"30-40\",\n",
    "    \"40-50\",\n",
    "    \"50-60\",\n",
    "    \"60-70\",\n",
    "    \"70-80\",\n",
    "    \"80-90\",\n",
    "    \"90-100\" \n",
    "))"
   ]
  },
  {
   "cell_type": "code",
   "execution_count": 25,
   "metadata": {
    "vscode": {
     "languageId": "r"
    }
   },
   "outputs": [],
   "source": [
    "result_Blast_factor <- getROC(sample_info_df_train_Blast_factor, sample_info_df_test_Blast_factor, \"BM_Blast_Percent_Mark2\")\n",
    "roc_1_Blast_factor <- result_Blast_factor$roc_1\n",
    "roc_3_Blast_factor <- result_Blast_factor$roc_3\n",
    "roc_5_Blast_factor <- result_Blast_factor$roc_5\n",
    "roc_05_Blast_factor <- result_Blast_factor$roc_05\n",
    "roc_2_Blast_factor <- result_Blast_factor$roc_2\n",
    "roc_4_Blast_factor <- result_Blast_factor$roc_4\n",
    "\n",
    "\n",
    "rocTest_1_Blast_factor <- result_Blast_factor$rocTest_1\n",
    "rocTest_3_Blast_factor <- result_Blast_factor$rocTest_3\n",
    "rocTest_5_Blast_factor <- result_Blast_factor$rocTest_5\n",
    "rocTest_05_Blast_factor <- result_Blast_factor$rocTest_05\n",
    "rocTest_2_Blast_factor <- result_Blast_factor$rocTest_2\n",
    "rocTest_4_Blast_factor <- result_Blast_factor$rocTest_4"
   ]
  },
  {
   "cell_type": "code",
   "execution_count": 26,
   "metadata": {
    "vscode": {
     "languageId": "r"
    }
   },
   "outputs": [
    {
     "data": {
      "text/html": [
       "<dl>\n",
       "\t<dt>$cut.values</dt>\n",
       "\t\t<dd><style>\n",
       ".list-inline {list-style: none; margin:0; padding: 0}\n",
       ".list-inline>li {display: inline-block}\n",
       ".list-inline>li:not(:last-child)::after {content: \"\\00b7\"; padding: 0 .5ex}\n",
       "</style>\n",
       "<ol class=list-inline><li>-Inf</li><li>1</li><li>2.16383515106469</li><li>4.36676117037225</li><li>4.56974351197854</li><li>6.39708338221211</li><li>6.87825782704195</li><li>8.31862567492215</li><li>9.01126644132559</li><li>11.423829105641</li><li>11.7659799484506</li><li>14.9598655704964</li><li>18.4047482263318</li></ol>\n",
       "</dd>\n",
       "\t<dt>$TP</dt>\n",
       "\t\t<dd><style>\n",
       ".list-inline {list-style: none; margin:0; padding: 0}\n",
       ".list-inline>li {display: inline-block}\n",
       ".list-inline>li:not(:last-child)::after {content: \"\\00b7\"; padding: 0 .5ex}\n",
       "</style>\n",
       "<ol class=list-inline><li>1</li><li>0.998823326563981</li><li>0.971188460266588</li><li>0.951096472251781</li><li>0.902058289891193</li><li>0.77485982462076</li><li>0.611555652149005</li><li>0.499350646633111</li><li>0.43865964313831</li><li>0.349902693106742</li><li>0.312846626508022</li><li>0.141599718295983</li><li>0</li></ol>\n",
       "</dd>\n",
       "\t<dt>$FP</dt>\n",
       "\t\t<dd><style>\n",
       ".list-inline {list-style: none; margin:0; padding: 0}\n",
       ".list-inline>li {display: inline-block}\n",
       ".list-inline>li:not(:last-child)::after {content: \"\\00b7\"; padding: 0 .5ex}\n",
       "</style>\n",
       "<ol class=list-inline><li>1</li><li>0.870911270287728</li><li>0.661730900872059</li><li>0.542347215231783</li><li>0.430610067485093</li><li>0.337359882903801</li><li>0.248224492978558</li><li>0.197717439311055</li><li>0.164010469597552</li><li>0.108677855702055</li><li>0.084459713757017</li><li>0.0210149812526337</li><li>0</li></ol>\n",
       "</dd>\n",
       "\t<dt>$predict.time</dt>\n",
       "\t\t<dd>1</dd>\n",
       "\t<dt>$Survival</dt>\n",
       "\t\t<dd>0.660904176973668</dd>\n",
       "\t<dt>$AUC</dt>\n",
       "\t\t<dd>0.782919227956899</dd>\n",
       "</dl>\n"
      ],
      "text/latex": [
       "\\begin{description}\n",
       "\\item[\\$cut.values] \\begin{enumerate*}\n",
       "\\item -Inf\n",
       "\\item 1\n",
       "\\item 2.16383515106469\n",
       "\\item 4.36676117037225\n",
       "\\item 4.56974351197854\n",
       "\\item 6.39708338221211\n",
       "\\item 6.87825782704195\n",
       "\\item 8.31862567492215\n",
       "\\item 9.01126644132559\n",
       "\\item 11.423829105641\n",
       "\\item 11.7659799484506\n",
       "\\item 14.9598655704964\n",
       "\\item 18.4047482263318\n",
       "\\end{enumerate*}\n",
       "\n",
       "\\item[\\$TP] \\begin{enumerate*}\n",
       "\\item 1\n",
       "\\item 0.998823326563981\n",
       "\\item 0.971188460266588\n",
       "\\item 0.951096472251781\n",
       "\\item 0.902058289891193\n",
       "\\item 0.77485982462076\n",
       "\\item 0.611555652149005\n",
       "\\item 0.499350646633111\n",
       "\\item 0.43865964313831\n",
       "\\item 0.349902693106742\n",
       "\\item 0.312846626508022\n",
       "\\item 0.141599718295983\n",
       "\\item 0\n",
       "\\end{enumerate*}\n",
       "\n",
       "\\item[\\$FP] \\begin{enumerate*}\n",
       "\\item 1\n",
       "\\item 0.870911270287728\n",
       "\\item 0.661730900872059\n",
       "\\item 0.542347215231783\n",
       "\\item 0.430610067485093\n",
       "\\item 0.337359882903801\n",
       "\\item 0.248224492978558\n",
       "\\item 0.197717439311055\n",
       "\\item 0.164010469597552\n",
       "\\item 0.108677855702055\n",
       "\\item 0.084459713757017\n",
       "\\item 0.0210149812526337\n",
       "\\item 0\n",
       "\\end{enumerate*}\n",
       "\n",
       "\\item[\\$predict.time] 1\n",
       "\\item[\\$Survival] 0.660904176973668\n",
       "\\item[\\$AUC] 0.782919227956899\n",
       "\\end{description}\n"
      ],
      "text/markdown": [
       "$cut.values\n",
       ":   1. -Inf\n",
       "2. 1\n",
       "3. 2.16383515106469\n",
       "4. 4.36676117037225\n",
       "5. 4.56974351197854\n",
       "6. 6.39708338221211\n",
       "7. 6.87825782704195\n",
       "8. 8.31862567492215\n",
       "9. 9.01126644132559\n",
       "10. 11.423829105641\n",
       "11. 11.7659799484506\n",
       "12. 14.9598655704964\n",
       "13. 18.4047482263318\n",
       "\n",
       "\n",
       "\n",
       "$TP\n",
       ":   1. 1\n",
       "2. 0.998823326563981\n",
       "3. 0.971188460266588\n",
       "4. 0.951096472251781\n",
       "5. 0.902058289891193\n",
       "6. 0.77485982462076\n",
       "7. 0.611555652149005\n",
       "8. 0.499350646633111\n",
       "9. 0.43865964313831\n",
       "10. 0.349902693106742\n",
       "11. 0.312846626508022\n",
       "12. 0.141599718295983\n",
       "13. 0\n",
       "\n",
       "\n",
       "\n",
       "$FP\n",
       ":   1. 1\n",
       "2. 0.870911270287728\n",
       "3. 0.661730900872059\n",
       "4. 0.542347215231783\n",
       "5. 0.430610067485093\n",
       "6. 0.337359882903801\n",
       "7. 0.248224492978558\n",
       "8. 0.197717439311055\n",
       "9. 0.164010469597552\n",
       "10. 0.108677855702055\n",
       "11. 0.084459713757017\n",
       "12. 0.0210149812526337\n",
       "13. 0\n",
       "\n",
       "\n",
       "\n",
       "$predict.time\n",
       ":   1\n",
       "$Survival\n",
       ":   0.660904176973668\n",
       "$AUC\n",
       ":   0.782919227956899\n",
       "\n",
       "\n"
      ],
      "text/plain": [
       "$cut.values\n",
       " [1]      -Inf  1.000000  2.163835  4.366761  4.569744  6.397083  6.878258\n",
       " [8]  8.318626  9.011266 11.423829 11.765980 14.959866 18.404748\n",
       "\n",
       "$TP\n",
       " [1] 1.0000000 0.9988233 0.9711885 0.9510965 0.9020583 0.7748598 0.6115557\n",
       " [8] 0.4993506 0.4386596 0.3499027 0.3128466 0.1415997 0.0000000\n",
       "\n",
       "$FP\n",
       " [1] 1.00000000 0.87091127 0.66173090 0.54234722 0.43061007 0.33735988\n",
       " [7] 0.24822449 0.19771744 0.16401047 0.10867786 0.08445971 0.02101498\n",
       "[13] 0.00000000\n",
       "\n",
       "$predict.time\n",
       "[1] 1\n",
       "\n",
       "$Survival\n",
       "[1] 0.6609042\n",
       "\n",
       "$AUC\n",
       "[1] 0.7829192\n"
      ]
     },
     "metadata": {},
     "output_type": "display_data"
    }
   ],
   "source": [
    "roc_1_Blast_factor"
   ]
  },
  {
   "cell_type": "code",
   "execution_count": null,
   "metadata": {
    "vscode": {
     "languageId": "r"
    }
   },
   "outputs": [],
   "source": []
  },
  {
   "cell_type": "markdown",
   "metadata": {},
   "source": [
    "## 15) IPSS"
   ]
  },
  {
   "cell_type": "code",
   "execution_count": 21,
   "metadata": {
    "vscode": {
     "languageId": "r"
    }
   },
   "outputs": [],
   "source": [
    "sample_info_df_train_IPSS = sample_info_df_train_first[!is.na(sample_info_df_train_first$IPSS) & sample_info_df_train_first$IPSS != \"\", ]\n",
    "sample_info_df_test_IPSS  = sample_info_df_test_first[!is.na(sample_info_df_test_first$IPSS)   & sample_info_df_test_first$IPSS != \"\", ]"
   ]
  },
  {
   "cell_type": "code",
   "execution_count": 22,
   "metadata": {
    "vscode": {
     "languageId": "r"
    }
   },
   "outputs": [
    {
     "name": "stdout",
     "output_type": "stream",
     "text": [
      "[1] 61 52\n",
      "[1] 35 52\n"
     ]
    }
   ],
   "source": [
    "print(dim(sample_info_df_train_IPSS))\n",
    "print(dim(sample_info_df_test_IPSS))"
   ]
  },
  {
   "cell_type": "code",
   "execution_count": 47,
   "metadata": {
    "vscode": {
     "languageId": "r"
    }
   },
   "outputs": [
    {
     "data": {
      "text/plain": [
       "\n",
       " High Int-1 Int-2   Low \n",
       "    2    19    12    13 "
      ]
     },
     "metadata": {},
     "output_type": "display_data"
    }
   ],
   "source": [
    "table(sample_info_df_train_IPSS$IPSS)"
   ]
  },
  {
   "cell_type": "code",
   "execution_count": null,
   "metadata": {
    "vscode": {
     "languageId": "r"
    }
   },
   "outputs": [],
   "source": []
  },
  {
   "cell_type": "code",
   "execution_count": 49,
   "metadata": {
    "vscode": {
     "languageId": "r"
    }
   },
   "outputs": [],
   "source": [
    "# IPSS rename\n",
    "sample_info_df_train_IPSS$IPSS = gsub(\"Int-1\", \"Int\", sample_info_df_train_IPSS$IPSS)\n",
    "sample_info_df_train_IPSS$IPSS = gsub(\"Int-2\", \"Int\", sample_info_df_train_IPSS$IPSS)"
   ]
  },
  {
   "cell_type": "code",
   "execution_count": 50,
   "metadata": {
    "vscode": {
     "languageId": "r"
    }
   },
   "outputs": [],
   "source": [
    "sample_info_df_test_IPSS$IPSS = gsub(\"Int-1\", \"Int\", sample_info_df_test_IPSS$IPSS)\n",
    "sample_info_df_test_IPSS$IPSS = gsub(\"Int-2\", \"Int\", sample_info_df_test_IPSS$IPSS)"
   ]
  },
  {
   "cell_type": "code",
   "execution_count": 51,
   "metadata": {
    "vscode": {
     "languageId": "r"
    }
   },
   "outputs": [
    {
     "data": {
      "text/plain": [
       "\n",
       "High  Int  Low \n",
       "   2   31   13 "
      ]
     },
     "metadata": {},
     "output_type": "display_data"
    }
   ],
   "source": [
    "table(sample_info_df_train_IPSS$IPSS)"
   ]
  },
  {
   "cell_type": "code",
   "execution_count": 69,
   "metadata": {
    "vscode": {
     "languageId": "r"
    }
   },
   "outputs": [
    {
     "data": {
      "text/plain": [
       "\n",
       " Low  Int High \n",
       "  18   28    4 "
      ]
     },
     "metadata": {},
     "output_type": "display_data"
    }
   ],
   "source": [
    "table(sample_info_df_test_IPSS$IPSS)"
   ]
  },
  {
   "cell_type": "code",
   "execution_count": 52,
   "metadata": {
    "vscode": {
     "languageId": "r"
    }
   },
   "outputs": [],
   "source": [
    "sample_info_df_train_IPSS$IPSS = factor(sample_info_df_train_IPSS$IPSS,levels = c(\"Low\",\"Int\",\"High\"))"
   ]
  },
  {
   "cell_type": "code",
   "execution_count": 53,
   "metadata": {
    "vscode": {
     "languageId": "r"
    }
   },
   "outputs": [],
   "source": [
    "sample_info_df_test_IPSS$IPSS = factor(sample_info_df_test_IPSS$IPSS,levels = c(\"Low\",\"Int\",\"High\"))"
   ]
  },
  {
   "cell_type": "code",
   "execution_count": 27,
   "metadata": {
    "vscode": {
     "languageId": "r"
    }
   },
   "outputs": [],
   "source": [
    "result_IPSS <- getROC(sample_info_df_train_IPSS, sample_info_df_test_IPSS, \"IPSS\")\n",
    "roc_1_IPSS <- result_IPSS$roc_1\n",
    "roc_3_IPSS <- result_IPSS$roc_3\n",
    "roc_5_IPSS <- result_IPSS$roc_5\n",
    "roc_05_IPSS <- result_IPSS$roc_05\n",
    "roc_2_IPSS <- result_IPSS$roc_2\n",
    "roc_4_IPSS <- result_IPSS$roc_4\n",
    "\n",
    "\n",
    "rocTest_1_IPSS <- result_IPSS$rocTest_1\n",
    "rocTest_3_IPSS <- result_IPSS$rocTest_3\n",
    "rocTest_5_IPSS <- result_IPSS$rocTest_5\n",
    "rocTest_05_IPSS <- result_IPSS$rocTest_05\n",
    "rocTest_2_IPSS <- result_IPSS$rocTest_2\n",
    "rocTest_4_IPSS <- result_IPSS$rocTest_4"
   ]
  },
  {
   "cell_type": "code",
   "execution_count": 28,
   "metadata": {
    "vscode": {
     "languageId": "r"
    }
   },
   "outputs": [
    {
     "data": {
      "text/html": [
       "<dl>\n",
       "\t<dt>$cut.values</dt>\n",
       "\t\t<dd><style>\n",
       ".list-inline {list-style: none; margin:0; padding: 0}\n",
       ".list-inline>li {display: inline-block}\n",
       ".list-inline>li:not(:last-child)::after {content: \"\\00b7\"; padding: 0 .5ex}\n",
       "</style>\n",
       "<ol class=list-inline><li>-Inf</li><li>1</li><li>1.5031812009039</li><li>6.6927036456454</li></ol>\n",
       "</dd>\n",
       "\t<dt>$TP</dt>\n",
       "\t\t<dd><style>\n",
       ".list-inline {list-style: none; margin:0; padding: 0}\n",
       ".list-inline>li {display: inline-block}\n",
       ".list-inline>li:not(:last-child)::after {content: \"\\00b7\"; padding: 0 .5ex}\n",
       "</style>\n",
       "<ol class=list-inline><li>1</li><li>1.07039421530838</li><li>0</li><li>0</li></ol>\n",
       "</dd>\n",
       "\t<dt>$FP</dt>\n",
       "\t\t<dd><style>\n",
       ".list-inline {list-style: none; margin:0; padding: 0}\n",
       ".list-inline>li {display: inline-block}\n",
       ".list-inline>li:not(:last-child)::after {content: \"\\00b7\"; padding: 0 .5ex}\n",
       "</style>\n",
       "<ol class=list-inline><li>1</li><li>0.693704961837486</li><li>0.0463956333521551</li><li>0</li></ol>\n",
       "</dd>\n",
       "\t<dt>$predict.time</dt>\n",
       "\t\t<dd>1</dd>\n",
       "\t<dt>$Survival</dt>\n",
       "\t\t<dd>0.93711967545639</dd>\n",
       "\t<dt>$AUC</dt>\n",
       "\t\t<dd>0.663513817957589</dd>\n",
       "</dl>\n"
      ],
      "text/latex": [
       "\\begin{description}\n",
       "\\item[\\$cut.values] \\begin{enumerate*}\n",
       "\\item -Inf\n",
       "\\item 1\n",
       "\\item 1.5031812009039\n",
       "\\item 6.6927036456454\n",
       "\\end{enumerate*}\n",
       "\n",
       "\\item[\\$TP] \\begin{enumerate*}\n",
       "\\item 1\n",
       "\\item 1.07039421530838\n",
       "\\item 0\n",
       "\\item 0\n",
       "\\end{enumerate*}\n",
       "\n",
       "\\item[\\$FP] \\begin{enumerate*}\n",
       "\\item 1\n",
       "\\item 0.693704961837486\n",
       "\\item 0.0463956333521551\n",
       "\\item 0\n",
       "\\end{enumerate*}\n",
       "\n",
       "\\item[\\$predict.time] 1\n",
       "\\item[\\$Survival] 0.93711967545639\n",
       "\\item[\\$AUC] 0.663513817957589\n",
       "\\end{description}\n"
      ],
      "text/markdown": [
       "$cut.values\n",
       ":   1. -Inf\n",
       "2. 1\n",
       "3. 1.5031812009039\n",
       "4. 6.6927036456454\n",
       "\n",
       "\n",
       "\n",
       "$TP\n",
       ":   1. 1\n",
       "2. 1.07039421530838\n",
       "3. 0\n",
       "4. 0\n",
       "\n",
       "\n",
       "\n",
       "$FP\n",
       ":   1. 1\n",
       "2. 0.693704961837486\n",
       "3. 0.0463956333521551\n",
       "4. 0\n",
       "\n",
       "\n",
       "\n",
       "$predict.time\n",
       ":   1\n",
       "$Survival\n",
       ":   0.93711967545639\n",
       "$AUC\n",
       ":   0.663513817957589\n",
       "\n",
       "\n"
      ],
      "text/plain": [
       "$cut.values\n",
       "[1]     -Inf 1.000000 1.503181 6.692704\n",
       "\n",
       "$TP\n",
       "[1] 1.000000 1.070394 0.000000 0.000000\n",
       "\n",
       "$FP\n",
       "[1] 1.00000000 0.69370496 0.04639563 0.00000000\n",
       "\n",
       "$predict.time\n",
       "[1] 1\n",
       "\n",
       "$Survival\n",
       "[1] 0.9371197\n",
       "\n",
       "$AUC\n",
       "[1] 0.6635138\n"
      ]
     },
     "metadata": {},
     "output_type": "display_data"
    }
   ],
   "source": [
    "roc_1_IPSS"
   ]
  },
  {
   "cell_type": "code",
   "execution_count": 67,
   "metadata": {
    "vscode": {
     "languageId": "r"
    }
   },
   "outputs": [
    {
     "data": {
      "text/html": [
       "<dl>\n",
       "\t<dt>$cut.values</dt>\n",
       "\t\t<dd><style>\n",
       ".list-inline {list-style: none; margin:0; padding: 0}\n",
       ".list-inline>li {display: inline-block}\n",
       ".list-inline>li:not(:last-child)::after {content: \"\\00b7\"; padding: 0 .5ex}\n",
       "</style>\n",
       "<ol class=list-inline><li>-Inf</li><li>1</li><li>1.5031812009039</li><li>6.6927036456454</li></ol>\n",
       "</dd>\n",
       "\t<dt>$TP</dt>\n",
       "\t\t<dd><style>\n",
       ".list-inline {list-style: none; margin:0; padding: 0}\n",
       ".list-inline>li {display: inline-block}\n",
       ".list-inline>li:not(:last-child)::after {content: \"\\00b7\"; padding: 0 .5ex}\n",
       "</style>\n",
       "<ol class=list-inline><li>1</li><li>0.884228104406837</li><li>0.129077963019329</li><li>0</li></ol>\n",
       "</dd>\n",
       "\t<dt>$FP</dt>\n",
       "\t\t<dd><style>\n",
       ".list-inline {list-style: none; margin:0; padding: 0}\n",
       ".list-inline>li {display: inline-block}\n",
       ".list-inline>li:not(:last-child)::after {content: \"\\00b7\"; padding: 0 .5ex}\n",
       "</style>\n",
       "<ol class=list-inline><li>1</li><li>0.632650660006353</li><li>0</li><li>0</li></ol>\n",
       "</dd>\n",
       "\t<dt>$predict.time</dt>\n",
       "\t\t<dd>3</dd>\n",
       "\t<dt>$Survival</dt>\n",
       "\t\t<dd>0.663162790514021</dd>\n",
       "\t<dt>$AUC</dt>\n",
       "\t\t<dd>0.666619351448469</dd>\n",
       "</dl>\n"
      ],
      "text/latex": [
       "\\begin{description}\n",
       "\\item[\\$cut.values] \\begin{enumerate*}\n",
       "\\item -Inf\n",
       "\\item 1\n",
       "\\item 1.5031812009039\n",
       "\\item 6.6927036456454\n",
       "\\end{enumerate*}\n",
       "\n",
       "\\item[\\$TP] \\begin{enumerate*}\n",
       "\\item 1\n",
       "\\item 0.884228104406837\n",
       "\\item 0.129077963019329\n",
       "\\item 0\n",
       "\\end{enumerate*}\n",
       "\n",
       "\\item[\\$FP] \\begin{enumerate*}\n",
       "\\item 1\n",
       "\\item 0.632650660006353\n",
       "\\item 0\n",
       "\\item 0\n",
       "\\end{enumerate*}\n",
       "\n",
       "\\item[\\$predict.time] 3\n",
       "\\item[\\$Survival] 0.663162790514021\n",
       "\\item[\\$AUC] 0.666619351448469\n",
       "\\end{description}\n"
      ],
      "text/markdown": [
       "$cut.values\n",
       ":   1. -Inf\n",
       "2. 1\n",
       "3. 1.5031812009039\n",
       "4. 6.6927036456454\n",
       "\n",
       "\n",
       "\n",
       "$TP\n",
       ":   1. 1\n",
       "2. 0.884228104406837\n",
       "3. 0.129077963019329\n",
       "4. 0\n",
       "\n",
       "\n",
       "\n",
       "$FP\n",
       ":   1. 1\n",
       "2. 0.632650660006353\n",
       "3. 0\n",
       "4. 0\n",
       "\n",
       "\n",
       "\n",
       "$predict.time\n",
       ":   3\n",
       "$Survival\n",
       ":   0.663162790514021\n",
       "$AUC\n",
       ":   0.666619351448469\n",
       "\n",
       "\n"
      ],
      "text/plain": [
       "$cut.values\n",
       "[1]     -Inf 1.000000 1.503181 6.692704\n",
       "\n",
       "$TP\n",
       "[1] 1.0000000 0.8842281 0.1290780 0.0000000\n",
       "\n",
       "$FP\n",
       "[1] 1.0000000 0.6326507 0.0000000 0.0000000\n",
       "\n",
       "$predict.time\n",
       "[1] 3\n",
       "\n",
       "$Survival\n",
       "[1] 0.6631628\n",
       "\n",
       "$AUC\n",
       "[1] 0.6666194\n"
      ]
     },
     "metadata": {},
     "output_type": "display_data"
    }
   ],
   "source": [
    "roc_3_IPSS"
   ]
  },
  {
   "cell_type": "code",
   "execution_count": 68,
   "metadata": {
    "vscode": {
     "languageId": "r"
    }
   },
   "outputs": [
    {
     "data": {
      "text/html": [
       "<dl>\n",
       "\t<dt>$cut.values</dt>\n",
       "\t\t<dd><style>\n",
       ".list-inline {list-style: none; margin:0; padding: 0}\n",
       ".list-inline>li {display: inline-block}\n",
       ".list-inline>li:not(:last-child)::after {content: \"\\00b7\"; padding: 0 .5ex}\n",
       "</style>\n",
       "<ol class=list-inline><li>-Inf</li><li>1</li><li>1.5031812009039</li><li>6.6927036456454</li></ol>\n",
       "</dd>\n",
       "\t<dt>$TP</dt>\n",
       "\t\t<dd><style>\n",
       ".list-inline {list-style: none; margin:0; padding: 0}\n",
       ".list-inline>li {display: inline-block}\n",
       ".list-inline>li:not(:last-child)::after {content: \"\\00b7\"; padding: 0 .5ex}\n",
       "</style>\n",
       "<ol class=list-inline><li>1</li><li>0.795963966559104</li><li>0.0732188015186506</li><li>0</li></ol>\n",
       "</dd>\n",
       "\t<dt>$FP</dt>\n",
       "\t\t<dd><style>\n",
       ".list-inline {list-style: none; margin:0; padding: 0}\n",
       ".list-inline>li {display: inline-block}\n",
       ".list-inline>li:not(:last-child)::after {content: \"\\00b7\"; padding: 0 .5ex}\n",
       "</style>\n",
       "<ol class=list-inline><li>1</li><li>0.602524438101289</li><li>0</li><li>0</li></ol>\n",
       "</dd>\n",
       "\t<dt>$predict.time</dt>\n",
       "\t\t<dd>5</dd>\n",
       "\t<dt>$Survival</dt>\n",
       "\t\t<dd>0.406187209189838</dd>\n",
       "\t<dt>$AUC</dt>\n",
       "\t\t<dd>0.618777822850645</dd>\n",
       "</dl>\n"
      ],
      "text/latex": [
       "\\begin{description}\n",
       "\\item[\\$cut.values] \\begin{enumerate*}\n",
       "\\item -Inf\n",
       "\\item 1\n",
       "\\item 1.5031812009039\n",
       "\\item 6.6927036456454\n",
       "\\end{enumerate*}\n",
       "\n",
       "\\item[\\$TP] \\begin{enumerate*}\n",
       "\\item 1\n",
       "\\item 0.795963966559104\n",
       "\\item 0.0732188015186506\n",
       "\\item 0\n",
       "\\end{enumerate*}\n",
       "\n",
       "\\item[\\$FP] \\begin{enumerate*}\n",
       "\\item 1\n",
       "\\item 0.602524438101289\n",
       "\\item 0\n",
       "\\item 0\n",
       "\\end{enumerate*}\n",
       "\n",
       "\\item[\\$predict.time] 5\n",
       "\\item[\\$Survival] 0.406187209189838\n",
       "\\item[\\$AUC] 0.618777822850645\n",
       "\\end{description}\n"
      ],
      "text/markdown": [
       "$cut.values\n",
       ":   1. -Inf\n",
       "2. 1\n",
       "3. 1.5031812009039\n",
       "4. 6.6927036456454\n",
       "\n",
       "\n",
       "\n",
       "$TP\n",
       ":   1. 1\n",
       "2. 0.795963966559104\n",
       "3. 0.0732188015186506\n",
       "4. 0\n",
       "\n",
       "\n",
       "\n",
       "$FP\n",
       ":   1. 1\n",
       "2. 0.602524438101289\n",
       "3. 0\n",
       "4. 0\n",
       "\n",
       "\n",
       "\n",
       "$predict.time\n",
       ":   5\n",
       "$Survival\n",
       ":   0.406187209189838\n",
       "$AUC\n",
       ":   0.618777822850645\n",
       "\n",
       "\n"
      ],
      "text/plain": [
       "$cut.values\n",
       "[1]     -Inf 1.000000 1.503181 6.692704\n",
       "\n",
       "$TP\n",
       "[1] 1.0000000 0.7959640 0.0732188 0.0000000\n",
       "\n",
       "$FP\n",
       "[1] 1.0000000 0.6025244 0.0000000 0.0000000\n",
       "\n",
       "$predict.time\n",
       "[1] 5\n",
       "\n",
       "$Survival\n",
       "[1] 0.4061872\n",
       "\n",
       "$AUC\n",
       "[1] 0.6187778\n"
      ]
     },
     "metadata": {},
     "output_type": "display_data"
    }
   ],
   "source": [
    "roc_5_IPSS"
   ]
  },
  {
   "cell_type": "code",
   "execution_count": 63,
   "metadata": {
    "vscode": {
     "languageId": "r"
    }
   },
   "outputs": [
    {
     "data": {
      "text/html": [
       "<dl>\n",
       "\t<dt>$cut.values</dt>\n",
       "\t\t<dd><style>\n",
       ".list-inline {list-style: none; margin:0; padding: 0}\n",
       ".list-inline>li {display: inline-block}\n",
       ".list-inline>li:not(:last-child)::after {content: \"\\00b7\"; padding: 0 .5ex}\n",
       "</style>\n",
       "<ol class=list-inline><li>-Inf</li><li>1</li><li>1.5031812009039</li><li>6.6927036456454</li></ol>\n",
       "</dd>\n",
       "\t<dt>$TP</dt>\n",
       "\t\t<dd><style>\n",
       ".list-inline {list-style: none; margin:0; padding: 0}\n",
       ".list-inline>li {display: inline-block}\n",
       ".list-inline>li:not(:last-child)::after {content: \"\\00b7\"; padding: 0 .5ex}\n",
       "</style>\n",
       "<ol class=list-inline><li>1</li><li>1.08075695732839</li><li>1.5761038961039</li><li>0</li></ol>\n",
       "</dd>\n",
       "\t<dt>$FP</dt>\n",
       "\t\t<dd><style>\n",
       ".list-inline {list-style: none; margin:0; padding: 0}\n",
       ".list-inline>li {display: inline-block}\n",
       ".list-inline>li:not(:last-child)::after {content: \"\\00b7\"; padding: 0 .5ex}\n",
       "</style>\n",
       "<ol class=list-inline><li>1</li><li>0.616431746031746</li><li>0</li><li>0</li></ol>\n",
       "</dd>\n",
       "\t<dt>$predict.time</dt>\n",
       "\t\t<dd>1</dd>\n",
       "\t<dt>$Survival</dt>\n",
       "\t\t<dd>0.949241924851681</dd>\n",
       "\t<dt>$AUC</dt>\n",
       "\t\t<dd>1.2179428439497</dd>\n",
       "</dl>\n"
      ],
      "text/latex": [
       "\\begin{description}\n",
       "\\item[\\$cut.values] \\begin{enumerate*}\n",
       "\\item -Inf\n",
       "\\item 1\n",
       "\\item 1.5031812009039\n",
       "\\item 6.6927036456454\n",
       "\\end{enumerate*}\n",
       "\n",
       "\\item[\\$TP] \\begin{enumerate*}\n",
       "\\item 1\n",
       "\\item 1.08075695732839\n",
       "\\item 1.5761038961039\n",
       "\\item 0\n",
       "\\end{enumerate*}\n",
       "\n",
       "\\item[\\$FP] \\begin{enumerate*}\n",
       "\\item 1\n",
       "\\item 0.616431746031746\n",
       "\\item 0\n",
       "\\item 0\n",
       "\\end{enumerate*}\n",
       "\n",
       "\\item[\\$predict.time] 1\n",
       "\\item[\\$Survival] 0.949241924851681\n",
       "\\item[\\$AUC] 1.2179428439497\n",
       "\\end{description}\n"
      ],
      "text/markdown": [
       "$cut.values\n",
       ":   1. -Inf\n",
       "2. 1\n",
       "3. 1.5031812009039\n",
       "4. 6.6927036456454\n",
       "\n",
       "\n",
       "\n",
       "$TP\n",
       ":   1. 1\n",
       "2. 1.08075695732839\n",
       "3. 1.5761038961039\n",
       "4. 0\n",
       "\n",
       "\n",
       "\n",
       "$FP\n",
       ":   1. 1\n",
       "2. 0.616431746031746\n",
       "3. 0\n",
       "4. 0\n",
       "\n",
       "\n",
       "\n",
       "$predict.time\n",
       ":   1\n",
       "$Survival\n",
       ":   0.949241924851681\n",
       "$AUC\n",
       ":   1.2179428439497\n",
       "\n",
       "\n"
      ],
      "text/plain": [
       "$cut.values\n",
       "[1]     -Inf 1.000000 1.503181 6.692704\n",
       "\n",
       "$TP\n",
       "[1] 1.000000 1.080757 1.576104 0.000000\n",
       "\n",
       "$FP\n",
       "[1] 1.0000000 0.6164317 0.0000000 0.0000000\n",
       "\n",
       "$predict.time\n",
       "[1] 1\n",
       "\n",
       "$Survival\n",
       "[1] 0.9492419\n",
       "\n",
       "$AUC\n",
       "[1] 1.217943\n"
      ]
     },
     "metadata": {},
     "output_type": "display_data"
    }
   ],
   "source": [
    "rocTest_1_IPSS"
   ]
  },
  {
   "cell_type": "code",
   "execution_count": 64,
   "metadata": {
    "vscode": {
     "languageId": "r"
    }
   },
   "outputs": [
    {
     "data": {
      "text/html": [
       "<dl>\n",
       "\t<dt>$cut.values</dt>\n",
       "\t\t<dd><style>\n",
       ".list-inline {list-style: none; margin:0; padding: 0}\n",
       ".list-inline>li {display: inline-block}\n",
       ".list-inline>li:not(:last-child)::after {content: \"\\00b7\"; padding: 0 .5ex}\n",
       "</style>\n",
       "<ol class=list-inline><li>-Inf</li><li>1</li><li>1.5031812009039</li><li>6.6927036456454</li></ol>\n",
       "</dd>\n",
       "\t<dt>$TP</dt>\n",
       "\t\t<dd><style>\n",
       ".list-inline {list-style: none; margin:0; padding: 0}\n",
       ".list-inline>li {display: inline-block}\n",
       ".list-inline>li:not(:last-child)::after {content: \"\\00b7\"; padding: 0 .5ex}\n",
       "</style>\n",
       "<ol class=list-inline><li>1</li><li>0.781317518982848</li><li>0.30867903509412</li><li>0</li></ol>\n",
       "</dd>\n",
       "\t<dt>$FP</dt>\n",
       "\t\t<dd><style>\n",
       ".list-inline {list-style: none; margin:0; padding: 0}\n",
       ".list-inline>li {display: inline-block}\n",
       ".list-inline>li:not(:last-child)::after {content: \"\\00b7\"; padding: 0 .5ex}\n",
       "</style>\n",
       "<ol class=list-inline><li>1</li><li>0.590562142638153</li><li>0</li><li>0</li></ol>\n",
       "</dd>\n",
       "\t<dt>$predict.time</dt>\n",
       "\t\t<dd>3</dd>\n",
       "\t<dt>$Survival</dt>\n",
       "\t\t<dd>0.740831119367705</dd>\n",
       "\t<dt>$AUC</dt>\n",
       "\t\t<dd>0.686524764348678</dd>\n",
       "</dl>\n"
      ],
      "text/latex": [
       "\\begin{description}\n",
       "\\item[\\$cut.values] \\begin{enumerate*}\n",
       "\\item -Inf\n",
       "\\item 1\n",
       "\\item 1.5031812009039\n",
       "\\item 6.6927036456454\n",
       "\\end{enumerate*}\n",
       "\n",
       "\\item[\\$TP] \\begin{enumerate*}\n",
       "\\item 1\n",
       "\\item 0.781317518982848\n",
       "\\item 0.30867903509412\n",
       "\\item 0\n",
       "\\end{enumerate*}\n",
       "\n",
       "\\item[\\$FP] \\begin{enumerate*}\n",
       "\\item 1\n",
       "\\item 0.590562142638153\n",
       "\\item 0\n",
       "\\item 0\n",
       "\\end{enumerate*}\n",
       "\n",
       "\\item[\\$predict.time] 3\n",
       "\\item[\\$Survival] 0.740831119367705\n",
       "\\item[\\$AUC] 0.686524764348678\n",
       "\\end{description}\n"
      ],
      "text/markdown": [
       "$cut.values\n",
       ":   1. -Inf\n",
       "2. 1\n",
       "3. 1.5031812009039\n",
       "4. 6.6927036456454\n",
       "\n",
       "\n",
       "\n",
       "$TP\n",
       ":   1. 1\n",
       "2. 0.781317518982848\n",
       "3. 0.30867903509412\n",
       "4. 0\n",
       "\n",
       "\n",
       "\n",
       "$FP\n",
       ":   1. 1\n",
       "2. 0.590562142638153\n",
       "3. 0\n",
       "4. 0\n",
       "\n",
       "\n",
       "\n",
       "$predict.time\n",
       ":   3\n",
       "$Survival\n",
       ":   0.740831119367705\n",
       "$AUC\n",
       ":   0.686524764348678\n",
       "\n",
       "\n"
      ],
      "text/plain": [
       "$cut.values\n",
       "[1]     -Inf 1.000000 1.503181 6.692704\n",
       "\n",
       "$TP\n",
       "[1] 1.0000000 0.7813175 0.3086790 0.0000000\n",
       "\n",
       "$FP\n",
       "[1] 1.0000000 0.5905621 0.0000000 0.0000000\n",
       "\n",
       "$predict.time\n",
       "[1] 3\n",
       "\n",
       "$Survival\n",
       "[1] 0.7408311\n",
       "\n",
       "$AUC\n",
       "[1] 0.6865248\n"
      ]
     },
     "metadata": {},
     "output_type": "display_data"
    }
   ],
   "source": [
    "rocTest_3_IPSS"
   ]
  },
  {
   "cell_type": "code",
   "execution_count": 65,
   "metadata": {
    "vscode": {
     "languageId": "r"
    }
   },
   "outputs": [
    {
     "data": {
      "text/html": [
       "<dl>\n",
       "\t<dt>$cut.values</dt>\n",
       "\t\t<dd><style>\n",
       ".list-inline {list-style: none; margin:0; padding: 0}\n",
       ".list-inline>li {display: inline-block}\n",
       ".list-inline>li:not(:last-child)::after {content: \"\\00b7\"; padding: 0 .5ex}\n",
       "</style>\n",
       "<ol class=list-inline><li>-Inf</li><li>1</li><li>1.5031812009039</li><li>6.6927036456454</li></ol>\n",
       "</dd>\n",
       "\t<dt>$TP</dt>\n",
       "\t\t<dd><style>\n",
       ".list-inline {list-style: none; margin:0; padding: 0}\n",
       ".list-inline>li {display: inline-block}\n",
       ".list-inline>li:not(:last-child)::after {content: \"\\00b7\"; padding: 0 .5ex}\n",
       "</style>\n",
       "<ol class=list-inline><li>1</li><li>0.806513432653389</li><li>0.234271968754655</li><li>0</li></ol>\n",
       "</dd>\n",
       "\t<dt>$FP</dt>\n",
       "\t\t<dd><style>\n",
       ".list-inline {list-style: none; margin:0; padding: 0}\n",
       ".list-inline>li {display: inline-block}\n",
       ".list-inline>li:not(:last-child)::after {content: \"\\00b7\"; padding: 0 .5ex}\n",
       "</style>\n",
       "<ol class=list-inline><li>1</li><li>0.553652008723269</li><li>0</li><li>0</li></ol>\n",
       "</dd>\n",
       "\t<dt>$predict.time</dt>\n",
       "\t\t<dd>5</dd>\n",
       "\t<dt>$Survival</dt>\n",
       "\t\t<dd>0.658516550549071</dd>\n",
       "\t<dt>$AUC</dt>\n",
       "\t\t<dd>0.691283285009345</dd>\n",
       "</dl>\n"
      ],
      "text/latex": [
       "\\begin{description}\n",
       "\\item[\\$cut.values] \\begin{enumerate*}\n",
       "\\item -Inf\n",
       "\\item 1\n",
       "\\item 1.5031812009039\n",
       "\\item 6.6927036456454\n",
       "\\end{enumerate*}\n",
       "\n",
       "\\item[\\$TP] \\begin{enumerate*}\n",
       "\\item 1\n",
       "\\item 0.806513432653389\n",
       "\\item 0.234271968754655\n",
       "\\item 0\n",
       "\\end{enumerate*}\n",
       "\n",
       "\\item[\\$FP] \\begin{enumerate*}\n",
       "\\item 1\n",
       "\\item 0.553652008723269\n",
       "\\item 0\n",
       "\\item 0\n",
       "\\end{enumerate*}\n",
       "\n",
       "\\item[\\$predict.time] 5\n",
       "\\item[\\$Survival] 0.658516550549071\n",
       "\\item[\\$AUC] 0.691283285009345\n",
       "\\end{description}\n"
      ],
      "text/markdown": [
       "$cut.values\n",
       ":   1. -Inf\n",
       "2. 1\n",
       "3. 1.5031812009039\n",
       "4. 6.6927036456454\n",
       "\n",
       "\n",
       "\n",
       "$TP\n",
       ":   1. 1\n",
       "2. 0.806513432653389\n",
       "3. 0.234271968754655\n",
       "4. 0\n",
       "\n",
       "\n",
       "\n",
       "$FP\n",
       ":   1. 1\n",
       "2. 0.553652008723269\n",
       "3. 0\n",
       "4. 0\n",
       "\n",
       "\n",
       "\n",
       "$predict.time\n",
       ":   5\n",
       "$Survival\n",
       ":   0.658516550549071\n",
       "$AUC\n",
       ":   0.691283285009345\n",
       "\n",
       "\n"
      ],
      "text/plain": [
       "$cut.values\n",
       "[1]     -Inf 1.000000 1.503181 6.692704\n",
       "\n",
       "$TP\n",
       "[1] 1.0000000 0.8065134 0.2342720 0.0000000\n",
       "\n",
       "$FP\n",
       "[1] 1.000000 0.553652 0.000000 0.000000\n",
       "\n",
       "$predict.time\n",
       "[1] 5\n",
       "\n",
       "$Survival\n",
       "[1] 0.6585166\n",
       "\n",
       "$AUC\n",
       "[1] 0.6912833\n"
      ]
     },
     "metadata": {},
     "output_type": "display_data"
    }
   ],
   "source": [
    "rocTest_5_IPSS"
   ]
  },
  {
   "cell_type": "markdown",
   "metadata": {},
   "source": [
    "## 16) WHO"
   ]
  },
  {
   "cell_type": "code",
   "execution_count": 56,
   "metadata": {
    "vscode": {
     "languageId": "r"
    }
   },
   "outputs": [],
   "source": [
    "sample_info_df_train_WHO = sample_info_df_train_first[!is.na(sample_info_df_train_first$WHO) & sample_info_df_train_first$WHO != \"\", ]\n",
    "sample_info_df_test_WHO  = sample_info_df_test_first[!is.na(sample_info_df_test_first$WHO) & sample_info_df_test_first$WHO != \"\", ]"
   ]
  },
  {
   "cell_type": "code",
   "execution_count": 108,
   "metadata": {
    "vscode": {
     "languageId": "r"
    }
   },
   "outputs": [
    {
     "data": {
      "text/html": [
       "<style>\n",
       ".list-inline {list-style: none; margin:0; padding: 0}\n",
       ".list-inline>li {display: inline-block}\n",
       ".list-inline>li:not(:last-child)::after {content: \"\\00b7\"; padding: 0 .5ex}\n",
       "</style>\n",
       "<ol class=list-inline><li>86</li><li>53</li></ol>\n"
      ],
      "text/latex": [
       "\\begin{enumerate*}\n",
       "\\item 86\n",
       "\\item 53\n",
       "\\end{enumerate*}\n"
      ],
      "text/markdown": [
       "1. 86\n",
       "2. 53\n",
       "\n",
       "\n"
      ],
      "text/plain": [
       "[1] 86 53"
      ]
     },
     "metadata": {},
     "output_type": "display_data"
    }
   ],
   "source": [
    "dim(sample_info_df_train_WHO)"
   ]
  },
  {
   "cell_type": "code",
   "execution_count": 109,
   "metadata": {
    "vscode": {
     "languageId": "r"
    }
   },
   "outputs": [
    {
     "data": {
      "text/html": [
       "<style>\n",
       ".list-inline {list-style: none; margin:0; padding: 0}\n",
       ".list-inline>li {display: inline-block}\n",
       ".list-inline>li:not(:last-child)::after {content: \"\\00b7\"; padding: 0 .5ex}\n",
       "</style>\n",
       "<ol class=list-inline><li>93</li><li>53</li></ol>\n"
      ],
      "text/latex": [
       "\\begin{enumerate*}\n",
       "\\item 93\n",
       "\\item 53\n",
       "\\end{enumerate*}\n"
      ],
      "text/markdown": [
       "1. 93\n",
       "2. 53\n",
       "\n",
       "\n"
      ],
      "text/plain": [
       "[1] 93 53"
      ]
     },
     "metadata": {},
     "output_type": "display_data"
    }
   ],
   "source": [
    "dim(sample_info_df_test_WHO)"
   ]
  },
  {
   "cell_type": "code",
   "execution_count": 57,
   "metadata": {
    "vscode": {
     "languageId": "r"
    }
   },
   "outputs": [
    {
     "data": {
      "text/plain": [
       "\n",
       "    5q-    CMML      RA    RAEB   RAEB1   RAEB2    RARS  RARS-T    RCMD RCMD-RS \n",
       "      3       4      12       4      14      14      19       2       9       5 "
      ]
     },
     "metadata": {},
     "output_type": "display_data"
    }
   ],
   "source": [
    "table(sample_info_df_train_WHO$WHO)"
   ]
  },
  {
   "cell_type": "code",
   "execution_count": 76,
   "metadata": {
    "vscode": {
     "languageId": "r"
    }
   },
   "outputs": [
    {
     "data": {
      "text/plain": [
       "\n",
       "    5q-    CMML      RA    RAEB   RAEB1   RAEB2    RARS  RARS-T    RCMD RCMD-RS \n",
       "      3       4       9       2      12      20      21       2       7      13 "
      ]
     },
     "metadata": {},
     "output_type": "display_data"
    }
   ],
   "source": [
    "table(sample_info_df_test_WHO$WHO)"
   ]
  },
  {
   "cell_type": "code",
   "execution_count": 60,
   "metadata": {
    "vscode": {
     "languageId": "r"
    }
   },
   "outputs": [],
   "source": [
    "replace_vec <- c(\n",
    "  \"RA\" = \"RA\",\n",
    "  \"CMML\" = \"RA\",\n",
    "  \"5q-\" = \"RA\",\n",
    "  \"RARS\" = \"RA\",\n",
    "  \"RARS-T\" = \"RA\",\n",
    "  \"RCMD\" = \"RCMD\",\n",
    "  \"RCMD-RS\" = \"RCMD\",\n",
    "  \"RAEB\" = \"RAEB\",\n",
    "  \"RAEB1\" = \"RAEB\",\n",
    "  \"RAEB2\" = \"RAEB\"\n",
    ")"
   ]
  },
  {
   "cell_type": "code",
   "execution_count": 80,
   "metadata": {
    "vscode": {
     "languageId": "r"
    }
   },
   "outputs": [],
   "source": [
    "\n",
    "# Obtain the value in the WHO_Mark column\n",
    "who_mark_values <- sample_info_df_train_WHO$WHO\n",
    "\n",
    "# Use the `match` function to find the matching indices\n",
    "match_indices <- match(who_mark_values, names(replace_vec))\n",
    "\n",
    "# Only when the match finds an effective match, will the replacement be carried out\n",
    "sample_info_df_train_WHO$WHO_Mark[!is.na(match_indices)] <- replace_vec[match_indices[!is.na(match_indices)]]"
   ]
  },
  {
   "cell_type": "code",
   "execution_count": 81,
   "metadata": {
    "vscode": {
     "languageId": "r"
    }
   },
   "outputs": [
    {
     "data": {
      "text/html": [
       "<style>\n",
       ".list-inline {list-style: none; margin:0; padding: 0}\n",
       ".list-inline>li {display: inline-block}\n",
       ".list-inline>li:not(:last-child)::after {content: \"\\00b7\"; padding: 0 .5ex}\n",
       "</style>\n",
       "<ol class=list-inline><li>'RA'</li><li>'RA'</li><li>'RA'</li><li>'RA'</li><li>'RA'</li><li>'RA'</li><li>'RA'</li><li>'RAEB'</li><li>'RAEB'</li><li>'RAEB'</li><li>'RA'</li><li>'RA'</li><li>'RA'</li><li>'RA'</li><li>'RA'</li><li>'RA'</li><li>'RAEB'</li><li>'RA'</li><li>'RA'</li><li>'RAEB'</li><li>'RA'</li><li>'RAEB'</li><li>'RA'</li><li>'RA'</li><li>'RA'</li><li>'RA'</li><li>'RAEB'</li><li>'RA'</li><li>'RA'</li><li>'RA'</li><li>'RA'</li><li>'RA'</li><li>'RA'</li><li>'RA'</li><li>'RAEB'</li><li>'RAEB'</li><li>'RAEB'</li><li>'RCMD'</li><li>'RA'</li><li>'RAEB'</li><li>'RAEB'</li><li>'RAEB'</li><li>'RAEB'</li><li>'RAEB'</li><li>'RA'</li><li>'RCMD'</li><li>'RAEB'</li><li>'RCMD'</li><li>'RCMD'</li><li>'RA'</li><li>'RA'</li><li>'RAEB'</li><li>'RAEB'</li><li>'RAEB'</li><li>'RAEB'</li><li>'RAEB'</li><li>'RAEB'</li><li>'RCMD'</li><li>'RA'</li><li>'RAEB'</li><li>'RCMD'</li><li>'RCMD'</li><li>'RAEB'</li><li>'RA'</li><li>'RCMD'</li><li>'RAEB'</li><li>'RA'</li><li>'RA'</li><li>'RA'</li><li>'RAEB'</li><li>'RAEB'</li><li>'RA'</li><li>'RCMD'</li><li>'RAEB'</li><li>'RAEB'</li><li>'RA'</li><li>'RCMD'</li><li>'RAEB'</li><li>'RAEB'</li><li>'RA'</li><li>'RAEB'</li><li>'RCMD'</li><li>'RCMD'</li><li>'RCMD'</li><li>'RA'</li><li>'RCMD'</li></ol>\n"
      ],
      "text/latex": [
       "\\begin{enumerate*}\n",
       "\\item 'RA'\n",
       "\\item 'RA'\n",
       "\\item 'RA'\n",
       "\\item 'RA'\n",
       "\\item 'RA'\n",
       "\\item 'RA'\n",
       "\\item 'RA'\n",
       "\\item 'RAEB'\n",
       "\\item 'RAEB'\n",
       "\\item 'RAEB'\n",
       "\\item 'RA'\n",
       "\\item 'RA'\n",
       "\\item 'RA'\n",
       "\\item 'RA'\n",
       "\\item 'RA'\n",
       "\\item 'RA'\n",
       "\\item 'RAEB'\n",
       "\\item 'RA'\n",
       "\\item 'RA'\n",
       "\\item 'RAEB'\n",
       "\\item 'RA'\n",
       "\\item 'RAEB'\n",
       "\\item 'RA'\n",
       "\\item 'RA'\n",
       "\\item 'RA'\n",
       "\\item 'RA'\n",
       "\\item 'RAEB'\n",
       "\\item 'RA'\n",
       "\\item 'RA'\n",
       "\\item 'RA'\n",
       "\\item 'RA'\n",
       "\\item 'RA'\n",
       "\\item 'RA'\n",
       "\\item 'RA'\n",
       "\\item 'RAEB'\n",
       "\\item 'RAEB'\n",
       "\\item 'RAEB'\n",
       "\\item 'RCMD'\n",
       "\\item 'RA'\n",
       "\\item 'RAEB'\n",
       "\\item 'RAEB'\n",
       "\\item 'RAEB'\n",
       "\\item 'RAEB'\n",
       "\\item 'RAEB'\n",
       "\\item 'RA'\n",
       "\\item 'RCMD'\n",
       "\\item 'RAEB'\n",
       "\\item 'RCMD'\n",
       "\\item 'RCMD'\n",
       "\\item 'RA'\n",
       "\\item 'RA'\n",
       "\\item 'RAEB'\n",
       "\\item 'RAEB'\n",
       "\\item 'RAEB'\n",
       "\\item 'RAEB'\n",
       "\\item 'RAEB'\n",
       "\\item 'RAEB'\n",
       "\\item 'RCMD'\n",
       "\\item 'RA'\n",
       "\\item 'RAEB'\n",
       "\\item 'RCMD'\n",
       "\\item 'RCMD'\n",
       "\\item 'RAEB'\n",
       "\\item 'RA'\n",
       "\\item 'RCMD'\n",
       "\\item 'RAEB'\n",
       "\\item 'RA'\n",
       "\\item 'RA'\n",
       "\\item 'RA'\n",
       "\\item 'RAEB'\n",
       "\\item 'RAEB'\n",
       "\\item 'RA'\n",
       "\\item 'RCMD'\n",
       "\\item 'RAEB'\n",
       "\\item 'RAEB'\n",
       "\\item 'RA'\n",
       "\\item 'RCMD'\n",
       "\\item 'RAEB'\n",
       "\\item 'RAEB'\n",
       "\\item 'RA'\n",
       "\\item 'RAEB'\n",
       "\\item 'RCMD'\n",
       "\\item 'RCMD'\n",
       "\\item 'RCMD'\n",
       "\\item 'RA'\n",
       "\\item 'RCMD'\n",
       "\\end{enumerate*}\n"
      ],
      "text/markdown": [
       "1. 'RA'\n",
       "2. 'RA'\n",
       "3. 'RA'\n",
       "4. 'RA'\n",
       "5. 'RA'\n",
       "6. 'RA'\n",
       "7. 'RA'\n",
       "8. 'RAEB'\n",
       "9. 'RAEB'\n",
       "10. 'RAEB'\n",
       "11. 'RA'\n",
       "12. 'RA'\n",
       "13. 'RA'\n",
       "14. 'RA'\n",
       "15. 'RA'\n",
       "16. 'RA'\n",
       "17. 'RAEB'\n",
       "18. 'RA'\n",
       "19. 'RA'\n",
       "20. 'RAEB'\n",
       "21. 'RA'\n",
       "22. 'RAEB'\n",
       "23. 'RA'\n",
       "24. 'RA'\n",
       "25. 'RA'\n",
       "26. 'RA'\n",
       "27. 'RAEB'\n",
       "28. 'RA'\n",
       "29. 'RA'\n",
       "30. 'RA'\n",
       "31. 'RA'\n",
       "32. 'RA'\n",
       "33. 'RA'\n",
       "34. 'RA'\n",
       "35. 'RAEB'\n",
       "36. 'RAEB'\n",
       "37. 'RAEB'\n",
       "38. 'RCMD'\n",
       "39. 'RA'\n",
       "40. 'RAEB'\n",
       "41. 'RAEB'\n",
       "42. 'RAEB'\n",
       "43. 'RAEB'\n",
       "44. 'RAEB'\n",
       "45. 'RA'\n",
       "46. 'RCMD'\n",
       "47. 'RAEB'\n",
       "48. 'RCMD'\n",
       "49. 'RCMD'\n",
       "50. 'RA'\n",
       "51. 'RA'\n",
       "52. 'RAEB'\n",
       "53. 'RAEB'\n",
       "54. 'RAEB'\n",
       "55. 'RAEB'\n",
       "56. 'RAEB'\n",
       "57. 'RAEB'\n",
       "58. 'RCMD'\n",
       "59. 'RA'\n",
       "60. 'RAEB'\n",
       "61. 'RCMD'\n",
       "62. 'RCMD'\n",
       "63. 'RAEB'\n",
       "64. 'RA'\n",
       "65. 'RCMD'\n",
       "66. 'RAEB'\n",
       "67. 'RA'\n",
       "68. 'RA'\n",
       "69. 'RA'\n",
       "70. 'RAEB'\n",
       "71. 'RAEB'\n",
       "72. 'RA'\n",
       "73. 'RCMD'\n",
       "74. 'RAEB'\n",
       "75. 'RAEB'\n",
       "76. 'RA'\n",
       "77. 'RCMD'\n",
       "78. 'RAEB'\n",
       "79. 'RAEB'\n",
       "80. 'RA'\n",
       "81. 'RAEB'\n",
       "82. 'RCMD'\n",
       "83. 'RCMD'\n",
       "84. 'RCMD'\n",
       "85. 'RA'\n",
       "86. 'RCMD'\n",
       "\n",
       "\n"
      ],
      "text/plain": [
       " [1] \"RA\"   \"RA\"   \"RA\"   \"RA\"   \"RA\"   \"RA\"   \"RA\"   \"RAEB\" \"RAEB\" \"RAEB\"\n",
       "[11] \"RA\"   \"RA\"   \"RA\"   \"RA\"   \"RA\"   \"RA\"   \"RAEB\" \"RA\"   \"RA\"   \"RAEB\"\n",
       "[21] \"RA\"   \"RAEB\" \"RA\"   \"RA\"   \"RA\"   \"RA\"   \"RAEB\" \"RA\"   \"RA\"   \"RA\"  \n",
       "[31] \"RA\"   \"RA\"   \"RA\"   \"RA\"   \"RAEB\" \"RAEB\" \"RAEB\" \"RCMD\" \"RA\"   \"RAEB\"\n",
       "[41] \"RAEB\" \"RAEB\" \"RAEB\" \"RAEB\" \"RA\"   \"RCMD\" \"RAEB\" \"RCMD\" \"RCMD\" \"RA\"  \n",
       "[51] \"RA\"   \"RAEB\" \"RAEB\" \"RAEB\" \"RAEB\" \"RAEB\" \"RAEB\" \"RCMD\" \"RA\"   \"RAEB\"\n",
       "[61] \"RCMD\" \"RCMD\" \"RAEB\" \"RA\"   \"RCMD\" \"RAEB\" \"RA\"   \"RA\"   \"RA\"   \"RAEB\"\n",
       "[71] \"RAEB\" \"RA\"   \"RCMD\" \"RAEB\" \"RAEB\" \"RA\"   \"RCMD\" \"RAEB\" \"RAEB\" \"RA\"  \n",
       "[81] \"RAEB\" \"RCMD\" \"RCMD\" \"RCMD\" \"RA\"   \"RCMD\""
      ]
     },
     "metadata": {},
     "output_type": "display_data"
    }
   ],
   "source": [
    "sample_info_df_train_WHO$WHO_Mark"
   ]
  },
  {
   "cell_type": "code",
   "execution_count": 84,
   "metadata": {
    "vscode": {
     "languageId": "r"
    }
   },
   "outputs": [
    {
     "data": {
      "text/plain": [
       "\n",
       "  RA RAEB RCMD \n",
       "  40   32   14 "
      ]
     },
     "metadata": {},
     "output_type": "display_data"
    }
   ],
   "source": [
    "table(sample_info_df_train_WHO$WHO_Mark)"
   ]
  },
  {
   "cell_type": "code",
   "execution_count": 85,
   "metadata": {
    "vscode": {
     "languageId": "r"
    }
   },
   "outputs": [
    {
     "data": {
      "text/plain": [
       "\n",
       "  RA RAEB RCMD \n",
       "  39   34   20 "
      ]
     },
     "metadata": {},
     "output_type": "display_data"
    }
   ],
   "source": [
    "table(sample_info_df_test_WHO$WHO_Mark)"
   ]
  },
  {
   "cell_type": "code",
   "execution_count": 86,
   "metadata": {
    "vscode": {
     "languageId": "r"
    }
   },
   "outputs": [],
   "source": [
    "sample_info_df_train_WHO$WHO_Mark = factor(sample_info_df_train_WHO$WHO_Mark,levels = c(\"RA\",\"RAEB\",\"RCMD\"))"
   ]
  },
  {
   "cell_type": "code",
   "execution_count": 87,
   "metadata": {
    "vscode": {
     "languageId": "r"
    }
   },
   "outputs": [],
   "source": [
    "sample_info_df_test_WHO$WHO_Mark = factor(sample_info_df_test_WHO$WHO_Mark,levels = c(\"RA\",\"RAEB\",\"RCMD\"))"
   ]
  },
  {
   "cell_type": "code",
   "execution_count": null,
   "metadata": {
    "vscode": {
     "languageId": "r"
    }
   },
   "outputs": [],
   "source": []
  },
  {
   "cell_type": "code",
   "execution_count": 29,
   "metadata": {
    "vscode": {
     "languageId": "r"
    }
   },
   "outputs": [],
   "source": [
    "result_WHO <- getROC(sample_info_df_train_WHO, sample_info_df_test_WHO, \"WHO_Mark\")\n",
    "roc_1_WHO <- result_WHO$roc_1\n",
    "roc_3_WHO <- result_WHO$roc_3\n",
    "roc_5_WHO <- result_WHO$roc_5\n",
    "roc_05_WHO <- result_WHO$roc_05\n",
    "roc_2_WHO <- result_WHO$roc_2\n",
    "roc_4_WHO <- result_WHO$roc_4\n",
    "\n",
    "rocTest_1_WHO <- result_WHO$rocTest_1\n",
    "rocTest_3_WHO <- result_WHO$rocTest_3\n",
    "rocTest_5_WHO <- result_WHO$rocTest_5\n",
    "rocTest_05_WHO <- result_WHO$rocTest_05\n",
    "rocTest_2_WHO <- result_WHO$rocTest_2\n",
    "rocTest_4_WHO <- result_WHO$rocTest_4"
   ]
  },
  {
   "cell_type": "code",
   "execution_count": 30,
   "metadata": {
    "vscode": {
     "languageId": "r"
    }
   },
   "outputs": [
    {
     "data": {
      "text/html": [
       "<dl>\n",
       "\t<dt>$cut.values</dt>\n",
       "\t\t<dd><style>\n",
       ".list-inline {list-style: none; margin:0; padding: 0}\n",
       ".list-inline>li {display: inline-block}\n",
       ".list-inline>li:not(:last-child)::after {content: \"\\00b7\"; padding: 0 .5ex}\n",
       "</style>\n",
       "<ol class=list-inline><li>-Inf</li><li>1</li><li>3.55236956604897</li><li>3.62486201260008</li></ol>\n",
       "</dd>\n",
       "\t<dt>$TP</dt>\n",
       "\t\t<dd><style>\n",
       ".list-inline {list-style: none; margin:0; padding: 0}\n",
       ".list-inline>li {display: inline-block}\n",
       ".list-inline>li:not(:last-child)::after {content: \"\\00b7\"; padding: 0 .5ex}\n",
       "</style>\n",
       "<ol class=list-inline><li>1</li><li>1.11755266695891</li><li>0.803207674774834</li><li>0</li></ol>\n",
       "</dd>\n",
       "\t<dt>$FP</dt>\n",
       "\t\t<dd><style>\n",
       ".list-inline {list-style: none; margin:0; padding: 0}\n",
       ".list-inline>li {display: inline-block}\n",
       ".list-inline>li:not(:last-child)::after {content: \"\\00b7\"; padding: 0 .5ex}\n",
       "</style>\n",
       "<ol class=list-inline><li>1</li><li>0.496746251069307</li><li>0.343875246864997</li><li>0</li></ol>\n",
       "</dd>\n",
       "\t<dt>$predict.time</dt>\n",
       "\t\t<dd>1</dd>\n",
       "\t<dt>$Survival</dt>\n",
       "\t\t<dd>0.938567854833982</dd>\n",
       "\t<dt>$AUC</dt>\n",
       "\t\t<dd>0.817749058964482</dd>\n",
       "</dl>\n"
      ],
      "text/latex": [
       "\\begin{description}\n",
       "\\item[\\$cut.values] \\begin{enumerate*}\n",
       "\\item -Inf\n",
       "\\item 1\n",
       "\\item 3.55236956604897\n",
       "\\item 3.62486201260008\n",
       "\\end{enumerate*}\n",
       "\n",
       "\\item[\\$TP] \\begin{enumerate*}\n",
       "\\item 1\n",
       "\\item 1.11755266695891\n",
       "\\item 0.803207674774834\n",
       "\\item 0\n",
       "\\end{enumerate*}\n",
       "\n",
       "\\item[\\$FP] \\begin{enumerate*}\n",
       "\\item 1\n",
       "\\item 0.496746251069307\n",
       "\\item 0.343875246864997\n",
       "\\item 0\n",
       "\\end{enumerate*}\n",
       "\n",
       "\\item[\\$predict.time] 1\n",
       "\\item[\\$Survival] 0.938567854833982\n",
       "\\item[\\$AUC] 0.817749058964482\n",
       "\\end{description}\n"
      ],
      "text/markdown": [
       "$cut.values\n",
       ":   1. -Inf\n",
       "2. 1\n",
       "3. 3.55236956604897\n",
       "4. 3.62486201260008\n",
       "\n",
       "\n",
       "\n",
       "$TP\n",
       ":   1. 1\n",
       "2. 1.11755266695891\n",
       "3. 0.803207674774834\n",
       "4. 0\n",
       "\n",
       "\n",
       "\n",
       "$FP\n",
       ":   1. 1\n",
       "2. 0.496746251069307\n",
       "3. 0.343875246864997\n",
       "4. 0\n",
       "\n",
       "\n",
       "\n",
       "$predict.time\n",
       ":   1\n",
       "$Survival\n",
       ":   0.938567854833982\n",
       "$AUC\n",
       ":   0.817749058964482\n",
       "\n",
       "\n"
      ],
      "text/plain": [
       "$cut.values\n",
       "[1]     -Inf 1.000000 3.552370 3.624862\n",
       "\n",
       "$TP\n",
       "[1] 1.0000000 1.1175527 0.8032077 0.0000000\n",
       "\n",
       "$FP\n",
       "[1] 1.0000000 0.4967463 0.3438752 0.0000000\n",
       "\n",
       "$predict.time\n",
       "[1] 1\n",
       "\n",
       "$Survival\n",
       "[1] 0.9385679\n",
       "\n",
       "$AUC\n",
       "[1] 0.8177491\n"
      ]
     },
     "metadata": {},
     "output_type": "display_data"
    }
   ],
   "source": [
    "roc_1_WHO"
   ]
  },
  {
   "cell_type": "code",
   "execution_count": 31,
   "metadata": {
    "vscode": {
     "languageId": "r"
    }
   },
   "outputs": [
    {
     "data": {
      "text/html": [
       "<dl>\n",
       "\t<dt>$cut.values</dt>\n",
       "\t\t<dd><style>\n",
       ".list-inline {list-style: none; margin:0; padding: 0}\n",
       ".list-inline>li {display: inline-block}\n",
       ".list-inline>li:not(:last-child)::after {content: \"\\00b7\"; padding: 0 .5ex}\n",
       "</style>\n",
       "<ol class=list-inline><li>-Inf</li><li>1</li><li>3.55236956604897</li><li>3.62486201260008</li></ol>\n",
       "</dd>\n",
       "\t<dt>$TP</dt>\n",
       "\t\t<dd><style>\n",
       ".list-inline {list-style: none; margin:0; padding: 0}\n",
       ".list-inline>li {display: inline-block}\n",
       ".list-inline>li:not(:last-child)::after {content: \"\\00b7\"; padding: 0 .5ex}\n",
       "</style>\n",
       "<ol class=list-inline><li>1</li><li>0.833692294142659</li><li>0.910581007032271</li><li>0</li></ol>\n",
       "</dd>\n",
       "\t<dt>$FP</dt>\n",
       "\t\t<dd><style>\n",
       ".list-inline {list-style: none; margin:0; padding: 0}\n",
       ".list-inline>li {display: inline-block}\n",
       ".list-inline>li:not(:last-child)::after {content: \"\\00b7\"; padding: 0 .5ex}\n",
       "</style>\n",
       "<ol class=list-inline><li>1</li><li>0.566499094344936</li><li>0.335124901710424</li><li>0</li></ol>\n",
       "</dd>\n",
       "\t<dt>$predict.time</dt>\n",
       "\t\t<dd>1</dd>\n",
       "\t<dt>$Survival</dt>\n",
       "\t\t<dd>0.947056785292079</dd>\n",
       "\t<dt>$AUC</dt>\n",
       "\t\t<dd>0.751822733738954</dd>\n",
       "</dl>\n"
      ],
      "text/latex": [
       "\\begin{description}\n",
       "\\item[\\$cut.values] \\begin{enumerate*}\n",
       "\\item -Inf\n",
       "\\item 1\n",
       "\\item 3.55236956604897\n",
       "\\item 3.62486201260008\n",
       "\\end{enumerate*}\n",
       "\n",
       "\\item[\\$TP] \\begin{enumerate*}\n",
       "\\item 1\n",
       "\\item 0.833692294142659\n",
       "\\item 0.910581007032271\n",
       "\\item 0\n",
       "\\end{enumerate*}\n",
       "\n",
       "\\item[\\$FP] \\begin{enumerate*}\n",
       "\\item 1\n",
       "\\item 0.566499094344936\n",
       "\\item 0.335124901710424\n",
       "\\item 0\n",
       "\\end{enumerate*}\n",
       "\n",
       "\\item[\\$predict.time] 1\n",
       "\\item[\\$Survival] 0.947056785292079\n",
       "\\item[\\$AUC] 0.751822733738954\n",
       "\\end{description}\n"
      ],
      "text/markdown": [
       "$cut.values\n",
       ":   1. -Inf\n",
       "2. 1\n",
       "3. 3.55236956604897\n",
       "4. 3.62486201260008\n",
       "\n",
       "\n",
       "\n",
       "$TP\n",
       ":   1. 1\n",
       "2. 0.833692294142659\n",
       "3. 0.910581007032271\n",
       "4. 0\n",
       "\n",
       "\n",
       "\n",
       "$FP\n",
       ":   1. 1\n",
       "2. 0.566499094344936\n",
       "3. 0.335124901710424\n",
       "4. 0\n",
       "\n",
       "\n",
       "\n",
       "$predict.time\n",
       ":   1\n",
       "$Survival\n",
       ":   0.947056785292079\n",
       "$AUC\n",
       ":   0.751822733738954\n",
       "\n",
       "\n"
      ],
      "text/plain": [
       "$cut.values\n",
       "[1]     -Inf 1.000000 3.552370 3.624862\n",
       "\n",
       "$TP\n",
       "[1] 1.0000000 0.8336923 0.9105810 0.0000000\n",
       "\n",
       "$FP\n",
       "[1] 1.0000000 0.5664991 0.3351249 0.0000000\n",
       "\n",
       "$predict.time\n",
       "[1] 1\n",
       "\n",
       "$Survival\n",
       "[1] 0.9470568\n",
       "\n",
       "$AUC\n",
       "[1] 0.7518227\n"
      ]
     },
     "metadata": {},
     "output_type": "display_data"
    }
   ],
   "source": [
    "rocTest_1_WHO"
   ]
  },
  {
   "cell_type": "markdown",
   "metadata": {},
   "source": [
    "## 17) Cytogenetic_Risk"
   ]
  },
  {
   "cell_type": "code",
   "execution_count": 95,
   "metadata": {
    "vscode": {
     "languageId": "r"
    }
   },
   "outputs": [],
   "source": [
    "sample_info_df_train_Cytogenetic_Risk = sample_info_df_train_first[!is.na(sample_info_df_train_first$Cytogenetic_Risk) & sample_info_df_train_first$Cytogenetic_Risk != \"\", ]\n",
    "sample_info_df_test_Cytogenetic_Risk  = sample_info_df_test_first[!is.na(sample_info_df_test_first$Cytogenetic_Risk) & sample_info_df_test_first$Cytogenetic_Risk != \"\", ]"
   ]
  },
  {
   "cell_type": "code",
   "execution_count": 96,
   "metadata": {
    "vscode": {
     "languageId": "r"
    }
   },
   "outputs": [
    {
     "name": "stdout",
     "output_type": "stream",
     "text": [
      "[1] 121  52\n",
      "[1] 129  52\n"
     ]
    }
   ],
   "source": [
    "print(dim(sample_info_df_train_Cytogenetic_Risk))\n",
    "print(dim(sample_info_df_test_Cytogenetic_Risk))"
   ]
  },
  {
   "cell_type": "code",
   "execution_count": 154,
   "metadata": {
    "vscode": {
     "languageId": "r"
    }
   },
   "outputs": [
    {
     "data": {
      "text/plain": [
       "\n",
       "Good  Int Poor \n",
       "  82  129   39 "
      ]
     },
     "metadata": {},
     "output_type": "display_data"
    }
   ],
   "source": [
    "table(sample_info_df_Cytogenetic_Risk$Cytogenetic_Risk)"
   ]
  },
  {
   "cell_type": "code",
   "execution_count": 97,
   "metadata": {
    "vscode": {
     "languageId": "r"
    }
   },
   "outputs": [],
   "source": [
    "sample_info_df_train_Cytogenetic_Risk$Cytogenetic_Risk = factor(sample_info_df_train_Cytogenetic_Risk$Cytogenetic_Risk,levels = c(\"Good\",\"Int\",\"Poor\"))\n",
    "sample_info_df_test_Cytogenetic_Risk$Cytogenetic_Risk  = factor(sample_info_df_test_Cytogenetic_Risk$Cytogenetic_Risk,levels = c(\"Good\",\"Int\",\"Poor\"))"
   ]
  },
  {
   "cell_type": "code",
   "execution_count": 32,
   "metadata": {
    "vscode": {
     "languageId": "r"
    }
   },
   "outputs": [],
   "source": [
    "result_Cyto <- getROC(sample_info_df_train_Cytogenetic_Risk, sample_info_df_test_Cytogenetic_Risk, \"Cytogenetic_Risk\")\n",
    "roc_1_Cyto <- result_Cyto$roc_1\n",
    "roc_3_Cyto <- result_Cyto$roc_3\n",
    "roc_5_Cyto <- result_Cyto$roc_5\n",
    "roc_05_Cyto <- result_Cyto$roc_05\n",
    "roc_2_Cyto <- result_Cyto$roc_2\n",
    "roc_4_Cyto <- result_Cyto$roc_4\n",
    "\n",
    "rocTest_1_Cyto <- result_Cyto$rocTest_1\n",
    "rocTest_3_Cyto <- result_Cyto$rocTest_3\n",
    "rocTest_5_Cyto <- result_Cyto$rocTest_5\n",
    "rocTest_05_Cyto <- result_Cyto$rocTest_05\n",
    "rocTest_2_Cyto <- result_Cyto$rocTest_2\n",
    "rocTest_4_Cyto <- result_Cyto$rocTest_4"
   ]
  },
  {
   "cell_type": "code",
   "execution_count": 33,
   "metadata": {
    "vscode": {
     "languageId": "r"
    }
   },
   "outputs": [
    {
     "data": {
      "text/html": [
       "<dl>\n",
       "\t<dt>$cut.values</dt>\n",
       "\t\t<dd><style>\n",
       ".list-inline {list-style: none; margin:0; padding: 0}\n",
       ".list-inline>li {display: inline-block}\n",
       ".list-inline>li:not(:last-child)::after {content: \"\\00b7\"; padding: 0 .5ex}\n",
       "</style>\n",
       "<ol class=list-inline><li>-Inf</li><li>1</li><li>1.70394305302947</li><li>6.38521600261814</li></ol>\n",
       "</dd>\n",
       "\t<dt>$TP</dt>\n",
       "\t\t<dd><style>\n",
       ".list-inline {list-style: none; margin:0; padding: 0}\n",
       ".list-inline>li {display: inline-block}\n",
       ".list-inline>li:not(:last-child)::after {content: \"\\00b7\"; padding: 0 .5ex}\n",
       "</style>\n",
       "<ol class=list-inline><li>1</li><li>1.00603794265217</li><li>0.315298889347632</li><li>0</li></ol>\n",
       "</dd>\n",
       "\t<dt>$FP</dt>\n",
       "\t\t<dd><style>\n",
       ".list-inline {list-style: none; margin:0; padding: 0}\n",
       ".list-inline>li {display: inline-block}\n",
       ".list-inline>li:not(:last-child)::after {content: \"\\00b7\"; padding: 0 .5ex}\n",
       "</style>\n",
       "<ol class=list-inline><li>1</li><li>0.551140629819736</li><li>0.105281525479337</li><li>0</li></ol>\n",
       "</dd>\n",
       "\t<dt>$predict.time</dt>\n",
       "\t\t<dd>1</dd>\n",
       "\t<dt>$Survival</dt>\n",
       "\t\t<dd>0.763080379192888</dd>\n",
       "\t<dt>$AUC</dt>\n",
       "\t\t<dd>0.761377065998219</dd>\n",
       "</dl>\n"
      ],
      "text/latex": [
       "\\begin{description}\n",
       "\\item[\\$cut.values] \\begin{enumerate*}\n",
       "\\item -Inf\n",
       "\\item 1\n",
       "\\item 1.70394305302947\n",
       "\\item 6.38521600261814\n",
       "\\end{enumerate*}\n",
       "\n",
       "\\item[\\$TP] \\begin{enumerate*}\n",
       "\\item 1\n",
       "\\item 1.00603794265217\n",
       "\\item 0.315298889347632\n",
       "\\item 0\n",
       "\\end{enumerate*}\n",
       "\n",
       "\\item[\\$FP] \\begin{enumerate*}\n",
       "\\item 1\n",
       "\\item 0.551140629819736\n",
       "\\item 0.105281525479337\n",
       "\\item 0\n",
       "\\end{enumerate*}\n",
       "\n",
       "\\item[\\$predict.time] 1\n",
       "\\item[\\$Survival] 0.763080379192888\n",
       "\\item[\\$AUC] 0.761377065998219\n",
       "\\end{description}\n"
      ],
      "text/markdown": [
       "$cut.values\n",
       ":   1. -Inf\n",
       "2. 1\n",
       "3. 1.70394305302947\n",
       "4. 6.38521600261814\n",
       "\n",
       "\n",
       "\n",
       "$TP\n",
       ":   1. 1\n",
       "2. 1.00603794265217\n",
       "3. 0.315298889347632\n",
       "4. 0\n",
       "\n",
       "\n",
       "\n",
       "$FP\n",
       ":   1. 1\n",
       "2. 0.551140629819736\n",
       "3. 0.105281525479337\n",
       "4. 0\n",
       "\n",
       "\n",
       "\n",
       "$predict.time\n",
       ":   1\n",
       "$Survival\n",
       ":   0.763080379192888\n",
       "$AUC\n",
       ":   0.761377065998219\n",
       "\n",
       "\n"
      ],
      "text/plain": [
       "$cut.values\n",
       "[1]     -Inf 1.000000 1.703943 6.385216\n",
       "\n",
       "$TP\n",
       "[1] 1.0000000 1.0060379 0.3152989 0.0000000\n",
       "\n",
       "$FP\n",
       "[1] 1.0000000 0.5511406 0.1052815 0.0000000\n",
       "\n",
       "$predict.time\n",
       "[1] 1\n",
       "\n",
       "$Survival\n",
       "[1] 0.7630804\n",
       "\n",
       "$AUC\n",
       "[1] 0.7613771\n"
      ]
     },
     "metadata": {},
     "output_type": "display_data"
    }
   ],
   "source": [
    "rocTest_1_Cyto"
   ]
  },
  {
   "cell_type": "markdown",
   "metadata": {},
   "source": [
    "## 18) Class_ELN"
   ]
  },
  {
   "cell_type": "code",
   "execution_count": 100,
   "metadata": {
    "vscode": {
     "languageId": "r"
    }
   },
   "outputs": [],
   "source": [
    "sample_info_df_train_Class_ELN = sample_info_df_train_first[!is.na(sample_info_df_train_first$Class_ELN) & sample_info_df_train_first$Class_ELN != \"\", ]\n",
    "sample_info_df_test_Class_ELN  = sample_info_df_test_first[!is.na(sample_info_df_test_first$Class_ELN) & sample_info_df_test_first$Class_ELN != \"\", ]"
   ]
  },
  {
   "cell_type": "code",
   "execution_count": 101,
   "metadata": {
    "vscode": {
     "languageId": "r"
    }
   },
   "outputs": [
    {
     "name": "stdout",
     "output_type": "stream",
     "text": [
      "[1] 33 52\n",
      "[1] 34 52\n"
     ]
    }
   ],
   "source": [
    "print(dim(sample_info_df_train_Class_ELN))\n",
    "print(dim(sample_info_df_test_Class_ELN))"
   ]
  },
  {
   "cell_type": "code",
   "execution_count": 160,
   "metadata": {
    "vscode": {
     "languageId": "r"
    }
   },
   "outputs": [
    {
     "data": {
      "text/plain": [
       "\n",
       "     Adverse    Favorable Intermediate \n",
       "          17           35           15 "
      ]
     },
     "metadata": {},
     "output_type": "display_data"
    }
   ],
   "source": [
    "table(sample_info_df_Class_ELN$Class_ELN)"
   ]
  },
  {
   "cell_type": "code",
   "execution_count": 102,
   "metadata": {
    "vscode": {
     "languageId": "r"
    }
   },
   "outputs": [],
   "source": [
    "sample_info_df_train_Class_ELN$Class_ELN = factor(sample_info_df_train_Class_ELN$Class_ELN,levels = c(\"Favorable\",\"Intermediate\",\"Adverse\"))\n",
    "sample_info_df_test_Class_ELN$Class_ELN  = factor(sample_info_df_test_Class_ELN$Class_ELN,levels = c(\"Favorable\",\"Intermediate\",\"Adverse\"))"
   ]
  },
  {
   "cell_type": "code",
   "execution_count": 34,
   "metadata": {
    "vscode": {
     "languageId": "r"
    }
   },
   "outputs": [],
   "source": [
    "result_ELN <- getROC(sample_info_df_train_Class_ELN, sample_info_df_test_Class_ELN, \"Class_ELN\")\n",
    "roc_1_ELN <- result_Class_ELN$roc_1\n",
    "roc_3_ELN <- result_Class_ELN$roc_3\n",
    "roc_5_ELN <- result_Class_ELN$roc_5\n",
    "roc_05_ELN <- result_Class_ELN$roc_05\n",
    "roc_2_ELN <- result_Class_ELN$roc_2\n",
    "roc_4_ELN <- result_Class_ELN$roc_4\n",
    "\n",
    "rocTest_1_ELN <- result_Class_ELN$rocTest_1\n",
    "rocTest_3_ELN <- result_Class_ELN$rocTest_3\n",
    "rocTest_5_ELN <- result_Class_ELN$rocTest_5\n",
    "rocTest_05_ELN <- result_Class_ELN$rocTest_05\n",
    "rocTest_2_ELN <- result_Class_ELN$rocTest_2\n",
    "rocTest_4_ELN <- result_Class_ELN$rocTest_4"
   ]
  },
  {
   "cell_type": "code",
   "execution_count": 35,
   "metadata": {
    "vscode": {
     "languageId": "r"
    }
   },
   "outputs": [
    {
     "data": {
      "text/html": [
       "<dl>\n",
       "\t<dt>$cut.values</dt>\n",
       "\t\t<dd><style>\n",
       ".list-inline {list-style: none; margin:0; padding: 0}\n",
       ".list-inline>li {display: inline-block}\n",
       ".list-inline>li:not(:last-child)::after {content: \"\\00b7\"; padding: 0 .5ex}\n",
       "</style>\n",
       "<ol class=list-inline><li>-Inf</li><li>1</li><li>1.42048636124298</li><li>1.68141180325989</li></ol>\n",
       "</dd>\n",
       "\t<dt>$TP</dt>\n",
       "\t\t<dd><style>\n",
       ".list-inline {list-style: none; margin:0; padding: 0}\n",
       ".list-inline>li {display: inline-block}\n",
       ".list-inline>li:not(:last-child)::after {content: \"\\00b7\"; padding: 0 .5ex}\n",
       "</style>\n",
       "<ol class=list-inline><li>1</li><li>0.925338723593575</li><li>0.509910485933504</li><li>0</li></ol>\n",
       "</dd>\n",
       "\t<dt>$FP</dt>\n",
       "\t\t<dd><style>\n",
       ".list-inline {list-style: none; margin:0; padding: 0}\n",
       ".list-inline>li {display: inline-block}\n",
       ".list-inline>li:not(:last-child)::after {content: \"\\00b7\"; padding: 0 .5ex}\n",
       "</style>\n",
       "<ol class=list-inline><li>1</li><li>0.521580430456411</li><li>0.265338035666755</li><li>0</li></ol>\n",
       "</dd>\n",
       "\t<dt>$predict.time</dt>\n",
       "\t\t<dd>1</dd>\n",
       "\t<dt>$Survival</dt>\n",
       "\t\t<dd>0.762068965517241</dd>\n",
       "\t<dt>$AUC</dt>\n",
       "\t\t<dd>0.712095032319949</dd>\n",
       "</dl>\n"
      ],
      "text/latex": [
       "\\begin{description}\n",
       "\\item[\\$cut.values] \\begin{enumerate*}\n",
       "\\item -Inf\n",
       "\\item 1\n",
       "\\item 1.42048636124298\n",
       "\\item 1.68141180325989\n",
       "\\end{enumerate*}\n",
       "\n",
       "\\item[\\$TP] \\begin{enumerate*}\n",
       "\\item 1\n",
       "\\item 0.925338723593575\n",
       "\\item 0.509910485933504\n",
       "\\item 0\n",
       "\\end{enumerate*}\n",
       "\n",
       "\\item[\\$FP] \\begin{enumerate*}\n",
       "\\item 1\n",
       "\\item 0.521580430456411\n",
       "\\item 0.265338035666755\n",
       "\\item 0\n",
       "\\end{enumerate*}\n",
       "\n",
       "\\item[\\$predict.time] 1\n",
       "\\item[\\$Survival] 0.762068965517241\n",
       "\\item[\\$AUC] 0.712095032319949\n",
       "\\end{description}\n"
      ],
      "text/markdown": [
       "$cut.values\n",
       ":   1. -Inf\n",
       "2. 1\n",
       "3. 1.42048636124298\n",
       "4. 1.68141180325989\n",
       "\n",
       "\n",
       "\n",
       "$TP\n",
       ":   1. 1\n",
       "2. 0.925338723593575\n",
       "3. 0.509910485933504\n",
       "4. 0\n",
       "\n",
       "\n",
       "\n",
       "$FP\n",
       ":   1. 1\n",
       "2. 0.521580430456411\n",
       "3. 0.265338035666755\n",
       "4. 0\n",
       "\n",
       "\n",
       "\n",
       "$predict.time\n",
       ":   1\n",
       "$Survival\n",
       ":   0.762068965517241\n",
       "$AUC\n",
       ":   0.712095032319949\n",
       "\n",
       "\n"
      ],
      "text/plain": [
       "$cut.values\n",
       "[1]     -Inf 1.000000 1.420486 1.681412\n",
       "\n",
       "$TP\n",
       "[1] 1.0000000 0.9253387 0.5099105 0.0000000\n",
       "\n",
       "$FP\n",
       "[1] 1.0000000 0.5215804 0.2653380 0.0000000\n",
       "\n",
       "$predict.time\n",
       "[1] 1\n",
       "\n",
       "$Survival\n",
       "[1] 0.762069\n",
       "\n",
       "$AUC\n",
       "[1] 0.712095\n"
      ]
     },
     "metadata": {},
     "output_type": "display_data"
    }
   ],
   "source": [
    "rocTest_1_ELN"
   ]
  },
  {
   "cell_type": "code",
   "execution_count": 10,
   "metadata": {
    "vscode": {
     "languageId": "r"
    }
   },
   "outputs": [
    {
     "data": {
      "text/html": [
       "<dl>\n",
       "\t<dt>$cut.values</dt>\n",
       "\t\t<dd><style>\n",
       ".list-inline {list-style: none; margin:0; padding: 0}\n",
       ".list-inline>li {display: inline-block}\n",
       ".list-inline>li:not(:last-child)::after {content: \"\\00b7\"; padding: 0 .5ex}\n",
       "</style>\n",
       "<ol class=list-inline><li>-Inf</li><li>1</li><li>3.2386977241096</li><li>3.65398056660724</li></ol>\n",
       "</dd>\n",
       "\t<dt>$TP</dt>\n",
       "\t\t<dd><style>\n",
       ".list-inline {list-style: none; margin:0; padding: 0}\n",
       ".list-inline>li {display: inline-block}\n",
       ".list-inline>li:not(:last-child)::after {content: \"\\00b7\"; padding: 0 .5ex}\n",
       "</style>\n",
       "<ol class=list-inline><li>1</li><li>0.765969741329234</li><li>0.439676363968183</li><li>0</li></ol>\n",
       "</dd>\n",
       "\t<dt>$FP</dt>\n",
       "\t\t<dd><style>\n",
       ".list-inline {list-style: none; margin:0; padding: 0}\n",
       ".list-inline>li {display: inline-block}\n",
       ".list-inline>li:not(:last-child)::after {content: \"\\00b7\"; padding: 0 .5ex}\n",
       "</style>\n",
       "<ol class=list-inline><li>1</li><li>0.403620210209938</li><li>0.206018419504064</li><li>0</li></ol>\n",
       "</dd>\n",
       "\t<dt>$predict.time</dt>\n",
       "\t\t<dd>1</dd>\n",
       "\t<dt>$Survival</dt>\n",
       "\t\t<dd>0.79580012188781</dd>\n",
       "\t<dt>$AUC</dt>\n",
       "\t\t<dd>0.691003961035945</dd>\n",
       "</dl>\n"
      ],
      "text/latex": [
       "\\begin{description}\n",
       "\\item[\\$cut.values] \\begin{enumerate*}\n",
       "\\item -Inf\n",
       "\\item 1\n",
       "\\item 3.2386977241096\n",
       "\\item 3.65398056660724\n",
       "\\end{enumerate*}\n",
       "\n",
       "\\item[\\$TP] \\begin{enumerate*}\n",
       "\\item 1\n",
       "\\item 0.765969741329234\n",
       "\\item 0.439676363968183\n",
       "\\item 0\n",
       "\\end{enumerate*}\n",
       "\n",
       "\\item[\\$FP] \\begin{enumerate*}\n",
       "\\item 1\n",
       "\\item 0.403620210209938\n",
       "\\item 0.206018419504064\n",
       "\\item 0\n",
       "\\end{enumerate*}\n",
       "\n",
       "\\item[\\$predict.time] 1\n",
       "\\item[\\$Survival] 0.79580012188781\n",
       "\\item[\\$AUC] 0.691003961035945\n",
       "\\end{description}\n"
      ],
      "text/markdown": [
       "$cut.values\n",
       ":   1. -Inf\n",
       "2. 1\n",
       "3. 3.2386977241096\n",
       "4. 3.65398056660724\n",
       "\n",
       "\n",
       "\n",
       "$TP\n",
       ":   1. 1\n",
       "2. 0.765969741329234\n",
       "3. 0.439676363968183\n",
       "4. 0\n",
       "\n",
       "\n",
       "\n",
       "$FP\n",
       ":   1. 1\n",
       "2. 0.403620210209938\n",
       "3. 0.206018419504064\n",
       "4. 0\n",
       "\n",
       "\n",
       "\n",
       "$predict.time\n",
       ":   1\n",
       "$Survival\n",
       ":   0.79580012188781\n",
       "$AUC\n",
       ":   0.691003961035945\n",
       "\n",
       "\n"
      ],
      "text/plain": [
       "$cut.values\n",
       "[1]     -Inf 1.000000 3.238698 3.653981\n",
       "\n",
       "$TP\n",
       "[1] 1.0000000 0.7659697 0.4396764 0.0000000\n",
       "\n",
       "$FP\n",
       "[1] 1.0000000 0.4036202 0.2060184 0.0000000\n",
       "\n",
       "$predict.time\n",
       "[1] 1\n",
       "\n",
       "$Survival\n",
       "[1] 0.7958001\n",
       "\n",
       "$AUC\n",
       "[1] 0.691004\n"
      ]
     },
     "metadata": {},
     "output_type": "display_data"
    }
   ],
   "source": [
    "roc_1_ELN"
   ]
  },
  {
   "cell_type": "markdown",
   "metadata": {},
   "source": [
    "## 17) ROC merge"
   ]
  },
  {
   "cell_type": "markdown",
   "metadata": {},
   "source": [
    "## train-1year"
   ]
  },
  {
   "cell_type": "code",
   "execution_count": 36,
   "metadata": {
    "vscode": {
     "languageId": "r"
    }
   },
   "outputs": [
    {
     "data": {
      "text/html": [
       "<strong>png:</strong> 2"
      ],
      "text/latex": [
       "\\textbf{png:} 2"
      ],
      "text/markdown": [
       "**png:** 2"
      ],
      "text/plain": [
       "png \n",
       "  2 "
      ]
     },
     "metadata": {},
     "output_type": "display_data"
    }
   ],
   "source": [
    "## 1）training set\n",
    "rocCol=rainbow(8)\n",
    "aucText=c()\n",
    "\n",
    "output_f = file.path(output_dir,\"20250720_5_1_modif_Risk_Model_Build_1307_sample_Train_294_multi_rocTrain_Train_result_Union20_1_Year_survail.pdf\")\n",
    "pdf(file=output_f,width=6,height=6)\n",
    "par(oma=c(0.5,1,0,1),font.lab=1.5,font.axis=1.5)\n",
    "\n",
    "# ## 1) training set\n",
    "plot(roc_1$FP, roc_1$TP, type=\"l\", xlim=c(0,1), ylim=c(0,1),col=rocCol[1], \n",
    "  xlab=\"False positive rate\", ylab=\"True positive rate\",\n",
    "  main=paste(\"Train 1 Year\"),\n",
    "  lwd = 2, cex.main=1.3, cex.lab=1.2, cex.axis=1.2, font=1.2)\n",
    "aucText=c(aucText,paste0(\"n=294 Union(20)\",\" AUC=\",sprintf(\"%.3f\",roc_1$AUC),\"\"))\n",
    "abline(0,1)\n",
    "\n",
    "\n",
    "## 2) Tumor \n",
    "aucText=c(aucText,paste0(\"n=294 Tumor(5)\",\" AUC=\",sprintf(\"%.3f\",roc_1_tumor$AUC),\"\"))\n",
    "lines(roc_1_tumor$FP, roc_1_tumor$TP, type=\"l\", xlim=c(0,1), ylim=c(0,1),col=rocCol[2],lwd = 2)\n",
    "\n",
    "\n",
    "## 3) Immune \n",
    "aucText=c(aucText,paste0(\"n=294 Immune(4)\",\" AUC=\",sprintf(\"%.3f\",roc_1_immune$AUC),\"\"))\n",
    "lines(roc_1_immune$FP, roc_1_immune$TP, type=\"l\", xlim=c(0,1), ylim=c(0,1),col=rocCol[3],lwd = 2)\n",
    "\n",
    "## 4) Cyto\n",
    "aucText=c(aucText,paste0(\"n=121 Cytogenetic Risk(3) 1 year\",\" AUC=\",sprintf(\"%.3f\",roc_1_Cyto$AUC),\"\"))\n",
    "lines(roc_1_Cyto$FP, roc_1_Cyto$TP, type=\"l\", xlim=c(0,1), ylim=c(0,1),col=rocCol[4],lwd = 2)\n",
    "\n",
    "## 5) IPSS \n",
    "aucText=c(aucText,paste0(\"n=46 IPSS(3) 1 year\",\" AUC=\",sprintf(\"%.3f\",roc_1_IPSS$AUC),\"\"))\n",
    "lines(roc_1_IPSS$FP, roc_1_IPSS$TP, type=\"l\", xlim=c(0,1), ylim=c(0,1),col=rocCol[5],lwd = 2)\n",
    "\n",
    "# 6) WHO \n",
    "aucText=c(aucText,paste0(\"n=86 WHO(3) 1 year\",\" AUC=\",sprintf(\"%.3f\",roc_1_WHO$AUC),\"\"))\n",
    "lines(roc_1_WHO$FP, roc_1_WHO$TP, type=\"l\", xlim=c(0,1), ylim=c(0,1),col=rocCol[6],lwd = 2)\n",
    "\n",
    "\n",
    "## 7) ELN\n",
    "aucText=c(aucText,paste0(\"n=33 ENL2017(3) 1 year\",\" AUC=\",sprintf(\"%.3f\",roc_1_ELN$AUC),\"\"))\n",
    "lines(roc_1_ELN$FP, roc_1_ELN$TP, type=\"l\", xlim=c(0,1), ylim=c(0,1),col=rocCol[7],lwd = 2)\n",
    "\n",
    "legend(\"bottomright\", aucText,lwd=1,bty=\"n\",col=rocCol,cex=0.5)\n",
    "dev.off()"
   ]
  },
  {
   "cell_type": "markdown",
   "metadata": {},
   "source": [
    "## train-3Year"
   ]
  },
  {
   "cell_type": "code",
   "execution_count": 38,
   "metadata": {
    "vscode": {
     "languageId": "r"
    }
   },
   "outputs": [
    {
     "data": {
      "text/html": [
       "<strong>png:</strong> 2"
      ],
      "text/latex": [
       "\\textbf{png:} 2"
      ],
      "text/markdown": [
       "**png:** 2"
      ],
      "text/plain": [
       "png \n",
       "  2 "
      ]
     },
     "metadata": {},
     "output_type": "display_data"
    }
   ],
   "source": [
    "## 1）training set\n",
    "rocCol=rainbow(8)\n",
    "aucText=c()\n",
    "\n",
    "output_f = file.path(output_dir,\"20250720_3_1_Risk_Model_Build_1307_sample_Train_294_multi_rocTrain_Train_result_Union20_3_Year_survail.pdf\")\n",
    "pdf(file=output_f,width=6,height=6)\n",
    "par(oma=c(0.5,1,0,1),font.lab=1.5,font.axis=1.5)\n",
    "\n",
    "# ## 1) training set\n",
    "plot(roc_3$FP, roc_3$TP, type=\"l\", xlim=c(0,1), ylim=c(0,1),col=rocCol[1], \n",
    "  xlab=\"False positive rate\", ylab=\"True positive rate\",\n",
    "  main=paste(\"Train 3 Year\"),\n",
    "  lwd = 2, cex.main=1.3, cex.lab=1.2, cex.axis=1.2, font=1.2)\n",
    "aucText=c(aucText,paste0(\"n=294 Union(20)\",\" AUC=\",sprintf(\"%.3f\",roc_3$AUC),\"\"))\n",
    "abline(0,1)\n",
    "\n",
    "\n",
    "## 2) Tumor \n",
    "aucText=c(aucText,paste0(\"n=294 Tumor(5)\",\" AUC=\",sprintf(\"%.3f\",roc_3_tumor$AUC),\"\"))\n",
    "lines(roc_3_tumor$FP, roc_3_tumor$TP, type=\"l\", xlim=c(0,1), ylim=c(0,1),col=rocCol[2],lwd = 2)\n",
    "\n",
    "\n",
    "## 3) Immune \n",
    "aucText=c(aucText,paste0(\"n=294 Immune(4)\",\" AUC=\",sprintf(\"%.3f\",roc_3_immune$AUC),\"\"))\n",
    "lines(roc_3_immune$FP, roc_3_immune$TP, type=\"l\", xlim=c(0,1), ylim=c(0,1),col=rocCol[3],lwd = 2)\n",
    "\n",
    "## 4) Cyto\n",
    "aucText=c(aucText,paste0(\"n=121 Cytogenetic Risk(3) 3 year\",\" AUC=\",sprintf(\"%.3f\",roc_3_Cyto$AUC),\"\"))\n",
    "lines(roc_3_Cyto$FP, roc_3_Cyto$TP, type=\"l\", xlim=c(0,1), ylim=c(0,1),col=rocCol[4],lwd = 2)\n",
    "\n",
    "## 5) IPSS \n",
    "aucText=c(aucText,paste0(\"n=46 IPSS(3) 3 year\",\" AUC=\",sprintf(\"%.3f\",roc_3_IPSS$AUC),\"\"))\n",
    "lines(roc_3_IPSS$FP, roc_3_IPSS$TP, type=\"l\", xlim=c(0,1), ylim=c(0,1),col=rocCol[5],lwd = 2)\n",
    "\n",
    "# 6) WHO \n",
    "aucText=c(aucText,paste0(\"n=86 WHO(3) 3 year\",\" AUC=\",sprintf(\"%.3f\",roc_3_WHO$AUC),\"\"))\n",
    "lines(roc_3_WHO$FP, roc_3_WHO$TP, type=\"l\", xlim=c(0,1), ylim=c(0,1),col=rocCol[6],lwd = 2)\n",
    "\n",
    "\n",
    "## 7) ELN\n",
    "aucText=c(aucText,paste0(\"n=33 ENL2017(3) 3 year\",\" AUC=\",sprintf(\"%.3f\",roc_3_ELN$AUC),\"\"))\n",
    "lines(roc_3_ELN$FP, roc_3_ELN$TP, type=\"l\", xlim=c(0,1), ylim=c(0,1),col=rocCol[7],lwd = 2)\n",
    "\n",
    "legend(\"bottomright\", aucText,lwd=1,bty=\"n\",col=rocCol,cex=0.5)\n",
    "dev.off()"
   ]
  },
  {
   "cell_type": "markdown",
   "metadata": {},
   "source": [
    "## train-5Year"
   ]
  },
  {
   "cell_type": "code",
   "execution_count": 39,
   "metadata": {
    "vscode": {
     "languageId": "r"
    }
   },
   "outputs": [
    {
     "data": {
      "text/html": [
       "<strong>png:</strong> 2"
      ],
      "text/latex": [
       "\\textbf{png:} 2"
      ],
      "text/markdown": [
       "**png:** 2"
      ],
      "text/plain": [
       "png \n",
       "  2 "
      ]
     },
     "metadata": {},
     "output_type": "display_data"
    }
   ],
   "source": [
    "## 1）training set\n",
    "rocCol=rainbow(8)\n",
    "aucText=c()\n",
    "\n",
    "output_f = file.path(output_dir,\"20250720_3_1_Risk_Model_Build_1307_sample_Train_294_multi_rocTrain_Train_result_Union20_5_Year_survail.pdf\")\n",
    "pdf(file=output_f,width=6,height=6)\n",
    "par(oma=c(0.5,1,0,1),font.lab=1.5,font.axis=1.5)\n",
    "\n",
    "# ## 1) training set\n",
    "plot(roc_5$FP, roc_5$TP, type=\"l\", xlim=c(0,1), ylim=c(0,1),col=rocCol[1], \n",
    "  xlab=\"False positive rate\", ylab=\"True positive rate\",\n",
    "  main=paste(\"Train 5 year\"),\n",
    "  lwd = 2, cex.main=1.3, cex.lab=1.2, cex.axis=1.2, font=1.2)\n",
    "aucText=c(aucText,paste0(\"n=294 Union(20)\",\" AUC=\",sprintf(\"%.3f\",roc_5$AUC),\"\"))\n",
    "abline(0,1)\n",
    "\n",
    "\n",
    "## 2) Tumor \n",
    "aucText=c(aucText,paste0(\"n=294 Tumor(5)\",\" AUC=\",sprintf(\"%.3f\",roc_5_tumor$AUC),\"\"))\n",
    "lines(roc_5_tumor$FP, roc_5_tumor$TP, type=\"l\", xlim=c(0,1), ylim=c(0,1),col=rocCol[2],lwd = 2)\n",
    "\n",
    "\n",
    "## 3) Immune \n",
    "aucText=c(aucText,paste0(\"n=294 Immune(4)\",\" AUC=\",sprintf(\"%.3f\",roc_5_immune$AUC),\"\"))\n",
    "lines(roc_5_immune$FP, roc_5_immune$TP, type=\"l\", xlim=c(0,1), ylim=c(0,1),col=rocCol[3],lwd = 2)\n",
    "\n",
    "## 4) Cyto\n",
    "aucText=c(aucText,paste0(\"n=121 Cytogenetic Risk(3) 5 year\",\" AUC=\",sprintf(\"%.3f\",roc_5_Cyto$AUC),\"\"))\n",
    "lines(roc_5_Cyto$FP, roc_5_Cyto$TP, type=\"l\", xlim=c(0,1), ylim=c(0,1),col=rocCol[4],lwd = 2)\n",
    "\n",
    "## 5) IPSS \n",
    "aucText=c(aucText,paste0(\"n=46 IPSS(3) 5 year\",\" AUC=\",sprintf(\"%.3f\",roc_5_IPSS$AUC),\"\"))\n",
    "lines(roc_5_IPSS$FP, roc_5_IPSS$TP, type=\"l\", xlim=c(0,1), ylim=c(0,1),col=rocCol[5],lwd = 2)\n",
    "\n",
    "# 6) WHO \n",
    "aucText=c(aucText,paste0(\"n=86 WHO(3) 5 year\",\" AUC=\",sprintf(\"%.3f\",roc_5_WHO$AUC),\"\"))\n",
    "lines(roc_5_WHO$FP, roc_5_WHO$TP, type=\"l\", xlim=c(0,1), ylim=c(0,1),col=rocCol[6],lwd = 2)\n",
    "\n",
    "\n",
    "## 7) ELN\n",
    "aucText=c(aucText,paste0(\"n=33 ENL2017(3) 5 year\",\" AUC=\",sprintf(\"%.3f\",roc_5_ELN$AUC),\"\"))\n",
    "lines(roc_5_ELN$FP, roc_5_ELN$TP, type=\"l\", xlim=c(0,1), ylim=c(0,1),col=rocCol[7],lwd = 2)\n",
    "\n",
    "legend(\"bottomright\", aucText,lwd=1,bty=\"n\",col=rocCol,cex=0.5)\n",
    "dev.off()"
   ]
  },
  {
   "cell_type": "markdown",
   "metadata": {},
   "source": [
    "## train-05Year"
   ]
  },
  {
   "cell_type": "code",
   "execution_count": 59,
   "metadata": {
    "vscode": {
     "languageId": "r"
    }
   },
   "outputs": [
    {
     "data": {
      "text/html": [
       "<strong>png:</strong> 2"
      ],
      "text/latex": [
       "\\textbf{png:} 2"
      ],
      "text/markdown": [
       "**png:** 2"
      ],
      "text/plain": [
       "png \n",
       "  2 "
      ]
     },
     "metadata": {},
     "output_type": "display_data"
    }
   ],
   "source": [
    "## 1）training set\n",
    "rocCol=rainbow(8)\n",
    "aucText=c()\n",
    "\n",
    "output_f = file.path(output_dir,\"20250720_3_1_Risk_Model_Build_1307_sample_Train_294_multi_rocTrain_Train_result_Union20_0.5_Year_survail.pdf\")\n",
    "pdf(file=output_f,width=6,height=6)\n",
    "par(oma=c(0.5,1,0,1),font.lab=1.5,font.axis=1.5)\n",
    "\n",
    "# ## 1) training set\n",
    "plot(roc_05$FP, roc_05$TP, type=\"l\", xlim=c(0,1), ylim=c(0,1),col=rocCol[1], \n",
    "  xlab=\"False positive rate\", ylab=\"True positive rate\",\n",
    "  main=paste(\"Train 0.5 year\"),\n",
    "  lwd = 2, cex.main=1.3, cex.lab=1.2, cex.axis=1.2, font=1.2)\n",
    "aucText=c(aucText,paste0(\"n=294 Union(20)\",\" AUC=\",sprintf(\"%.3f\",roc_05$AUC),\"\"))\n",
    "abline(0,1)\n",
    "\n",
    "\n",
    "## 2) Tumor \n",
    "aucText=c(aucText,paste0(\"n=294 Tumor(5)\",\" AUC=\",sprintf(\"%.3f\",roc_05_tumor$AUC),\"\"))\n",
    "lines(roc_05_tumor$FP, roc_05_tumor$TP, type=\"l\", xlim=c(0,1), ylim=c(0,1),col=rocCol[2],lwd = 2)\n",
    "\n",
    "\n",
    "## 3) Immune \n",
    "aucText=c(aucText,paste0(\"n=294 Immune(4)\",\" AUC=\",sprintf(\"%.3f\",roc_05_immune$AUC),\"\"))\n",
    "lines(roc_05_immune$FP, roc_05_immune$TP, type=\"l\", xlim=c(0,1), ylim=c(0,1),col=rocCol[3],lwd = 2)\n",
    "\n",
    "## 4) Cyto\n",
    "aucText=c(aucText,paste0(\"n=121 Cytogenetic Risk(3) 5 year\",\" AUC=\",sprintf(\"%.3f\",roc_05_Cyto$AUC),\"\"))\n",
    "lines(roc_05_Cyto$FP, roc_05_Cyto$TP, type=\"l\", xlim=c(0,1), ylim=c(0,1),col=rocCol[4],lwd = 2)\n",
    "\n",
    "## 5) IPSS \n",
    "aucText=c(aucText,paste0(\"n=46 IPSS(3) 5 year\",\" AUC=\",sprintf(\"%.3f\",roc_05_IPSS$AUC),\"\"))\n",
    "lines(roc_05_IPSS$FP, roc_05_IPSS$TP, type=\"l\", xlim=c(0,1), ylim=c(0,1),col=rocCol[5],lwd = 2)\n",
    "\n",
    "# 6) WHO \n",
    "aucText=c(aucText,paste0(\"n=86 WHO(3) 5 year\",\" AUC=\",sprintf(\"%.3f\",roc_05_WHO$AUC),\"\"))\n",
    "lines(roc_05_WHO$FP, roc_05_WHO$TP, type=\"l\", xlim=c(0,1), ylim=c(0,1),col=rocCol[6],lwd = 2)\n",
    "\n",
    "\n",
    "## 7) ELN\n",
    "aucText=c(aucText,paste0(\"n=33 ENL2017(3) 5 year\",\" AUC=\",sprintf(\"%.3f\",roc_05_ELN$AUC),\"\"))\n",
    "lines(roc_05_ELN$FP, roc_05_ELN$TP, type=\"l\", xlim=c(0,1), ylim=c(0,1),col=rocCol[7],lwd = 2)\n",
    "\n",
    "\n",
    "legend(\"bottomright\", aucText,lwd=1,bty=\"n\",col=rocCol,cex=0.5)\n",
    "dev.off()"
   ]
  },
  {
   "cell_type": "markdown",
   "metadata": {},
   "source": [
    "## train-2Year"
   ]
  },
  {
   "cell_type": "code",
   "execution_count": 47,
   "metadata": {
    "vscode": {
     "languageId": "r"
    }
   },
   "outputs": [
    {
     "data": {
      "text/html": [
       "<strong>png:</strong> 2"
      ],
      "text/latex": [
       "\\textbf{png:} 2"
      ],
      "text/markdown": [
       "**png:** 2"
      ],
      "text/plain": [
       "png \n",
       "  2 "
      ]
     },
     "metadata": {},
     "output_type": "display_data"
    }
   ],
   "source": [
    "## 1）training set\n",
    "rocCol=rainbow(8)\n",
    "aucText=c()\n",
    "\n",
    "output_f = file.path(output_dir,\"20250720_3_1_Risk_Model_Build_1307_sample_Train_294_multi_rocTrain_Train_result_Union20_2_Year_survail.pdf\")\n",
    "pdf(file=output_f,width=6,height=6)\n",
    "par(oma=c(0.5,1,0,1),font.lab=1.5,font.axis=1.5)\n",
    "\n",
    "# ## 1) training set\n",
    "plot(roc_2$FP, roc_2$TP, type=\"l\", xlim=c(0,1), ylim=c(0,1),col=rocCol[1], \n",
    "  xlab=\"False positive rate\", ylab=\"True positive rate\",\n",
    "  main=paste(\"Train 2 year\"),\n",
    "  lwd = 2, cex.main=1.3, cex.lab=1.2, cex.axis=1.2, font=1.2)\n",
    "aucText=c(aucText,paste0(\"n=294 Union(20)\",\" AUC=\",sprintf(\"%.3f\",roc_2$AUC),\"\"))\n",
    "abline(0,1)\n",
    "\n",
    "\n",
    "## 2) Tumor \n",
    "aucText=c(aucText,paste0(\"n=294 Tumor(5)\",\" AUC=\",sprintf(\"%.3f\",roc_2_tumor$AUC),\"\"))\n",
    "lines(roc_2_tumor$FP, roc_2_tumor$TP, type=\"l\", xlim=c(0,1), ylim=c(0,1),col=rocCol[2],lwd = 2)\n",
    "\n",
    "\n",
    "## 3) Immune \n",
    "aucText=c(aucText,paste0(\"n=294 Immune(4)\",\" AUC=\",sprintf(\"%.3f\",roc_2_immune$AUC),\"\"))\n",
    "lines(roc_2_immune$FP, roc_2_immune$TP, type=\"l\", xlim=c(0,1), ylim=c(0,1),col=rocCol[3],lwd = 2)\n",
    "\n",
    "## 4) Cyto\n",
    "aucText=c(aucText,paste0(\"n=121 Cytogenetic Risk(3) 5 year\",\" AUC=\",sprintf(\"%.3f\",roc_2_Cyto$AUC),\"\"))\n",
    "lines(roc_2_Cyto$FP, roc_2_Cyto$TP, type=\"l\", xlim=c(0,1), ylim=c(0,1),col=rocCol[4],lwd = 2)\n",
    "\n",
    "## 5) IPSS \n",
    "aucText=c(aucText,paste0(\"n=46 IPSS(3) 5 year\",\" AUC=\",sprintf(\"%.3f\",roc_2_IPSS$AUC),\"\"))\n",
    "lines(roc_2_IPSS$FP, roc_2_IPSS$TP, type=\"l\", xlim=c(0,1), ylim=c(0,1),col=rocCol[5],lwd = 2)\n",
    "\n",
    "# 6) WHO \n",
    "aucText=c(aucText,paste0(\"n=86 WHO(3) 5 year\",\" AUC=\",sprintf(\"%.3f\",roc_2_WHO$AUC),\"\"))\n",
    "lines(roc_2_WHO$FP, roc_2_WHO$TP, type=\"l\", xlim=c(0,1), ylim=c(0,1),col=rocCol[6],lwd = 2)\n",
    "\n",
    "\n",
    "## 7) ELN\n",
    "aucText=c(aucText,paste0(\"n=33 ENL2017(3) 5 year\",\" AUC=\",sprintf(\"%.3f\",roc_2_ELN$AUC),\"\"))\n",
    "lines(roc_2_ELN$FP, roc_2_ELN$TP, type=\"l\", xlim=c(0,1), ylim=c(0,1),col=rocCol[7],lwd = 2)\n",
    "\n",
    "legend(\"bottomright\", aucText,lwd=1,bty=\"n\",col=rocCol,cex=0.5)\n",
    "dev.off()"
   ]
  },
  {
   "cell_type": "markdown",
   "metadata": {},
   "source": [
    "## train-4Year"
   ]
  },
  {
   "cell_type": "code",
   "execution_count": 53,
   "metadata": {
    "vscode": {
     "languageId": "r"
    }
   },
   "outputs": [
    {
     "data": {
      "text/html": [
       "<strong>png:</strong> 2"
      ],
      "text/latex": [
       "\\textbf{png:} 2"
      ],
      "text/markdown": [
       "**png:** 2"
      ],
      "text/plain": [
       "png \n",
       "  2 "
      ]
     },
     "metadata": {},
     "output_type": "display_data"
    }
   ],
   "source": [
    "## 1）training set\n",
    "rocCol=rainbow(8)\n",
    "aucText=c()\n",
    "\n",
    "output_f = file.path(output_dir,\"20250720_3_1_Risk_Model_Build_1307_sample_Train_294_multi_rocTrain_Train_result_Union20_4_Year_survail.pdf\")\n",
    "pdf(file=output_f,width=6,height=6)\n",
    "par(oma=c(0.5,1,0,1),font.lab=1.5,font.axis=1.5)\n",
    "\n",
    "# ## 1) training set\n",
    "plot(roc_4$FP, roc_4$TP, type=\"l\", xlim=c(0,1), ylim=c(0,1),col=rocCol[1], \n",
    "  xlab=\"False positive rate\", ylab=\"True positive rate\",\n",
    "  main=paste(\"Train 4 year\"),\n",
    "  lwd = 2, cex.main=1.3, cex.lab=1.2, cex.axis=1.2, font=1.2)\n",
    "aucText=c(aucText,paste0(\"n=294 Union(20)\",\" AUC=\",sprintf(\"%.3f\",roc_4$AUC),\"\"))\n",
    "abline(0,1)\n",
    "\n",
    "\n",
    "## 2) Tumor \n",
    "aucText=c(aucText,paste0(\"n=294 Tumor(5)\",\" AUC=\",sprintf(\"%.3f\",roc_4_tumor$AUC),\"\"))\n",
    "lines(roc_4_tumor$FP, roc_4_tumor$TP, type=\"l\", xlim=c(0,1), ylim=c(0,1),col=rocCol[2],lwd = 2)\n",
    "\n",
    "\n",
    "## 3) Immune \n",
    "aucText=c(aucText,paste0(\"n=294 Immune(4)\",\" AUC=\",sprintf(\"%.3f\",roc_4_immune$AUC),\"\"))\n",
    "lines(roc_4_immune$FP, roc_4_immune$TP, type=\"l\", xlim=c(0,1), ylim=c(0,1),col=rocCol[3],lwd = 2)\n",
    "\n",
    "## 4) Cyto\n",
    "aucText=c(aucText,paste0(\"n=121 Cytogenetic Risk(3) 5 year\",\" AUC=\",sprintf(\"%.3f\",roc_4_Cyto$AUC),\"\"))\n",
    "lines(roc_4_Cyto$FP, roc_4_Cyto$TP, type=\"l\", xlim=c(0,1), ylim=c(0,1),col=rocCol[4],lwd = 2)\n",
    "\n",
    "## 5) IPSS \n",
    "aucText=c(aucText,paste0(\"n=46 IPSS(3) 5 year\",\" AUC=\",sprintf(\"%.3f\",roc_4_IPSS$AUC),\"\"))\n",
    "lines(roc_4_IPSS$FP, roc_4_IPSS$TP, type=\"l\", xlim=c(0,1), ylim=c(0,1),col=rocCol[5],lwd = 2)\n",
    "\n",
    "# 6) WHO \n",
    "aucText=c(aucText,paste0(\"n=86 WHO(3) 5 year\",\" AUC=\",sprintf(\"%.3f\",roc_4_WHO$AUC),\"\"))\n",
    "lines(roc_4_WHO$FP, roc_4_WHO$TP, type=\"l\", xlim=c(0,1), ylim=c(0,1),col=rocCol[6],lwd = 2)\n",
    "\n",
    "\n",
    "## 7) ELN\n",
    "aucText=c(aucText,paste0(\"n=33 ENL2017(3) 5 year\",\" AUC=\",sprintf(\"%.3f\",roc_4_ELN$AUC),\"\"))\n",
    "lines(roc_4_ELN$FP, roc_4_ELN$TP, type=\"l\", xlim=c(0,1), ylim=c(0,1),col=rocCol[7],lwd = 2)\n",
    "\n",
    "legend(\"bottomright\", aucText,lwd=1,bty=\"n\",col=rocCol,cex=0.5)\n",
    "dev.off()"
   ]
  },
  {
   "cell_type": "markdown",
   "metadata": {},
   "source": [
    "## test set"
   ]
  },
  {
   "cell_type": "markdown",
   "metadata": {},
   "source": [
    "## test-1year"
   ]
  },
  {
   "cell_type": "code",
   "execution_count": 40,
   "metadata": {
    "vscode": {
     "languageId": "r"
    }
   },
   "outputs": [
    {
     "data": {
      "text/html": [
       "<strong>png:</strong> 2"
      ],
      "text/latex": [
       "\\textbf{png:} 2"
      ],
      "text/markdown": [
       "**png:** 2"
      ],
      "text/plain": [
       "png \n",
       "  2 "
      ]
     },
     "metadata": {},
     "output_type": "display_data"
    }
   ],
   "source": [
    "## 1）training set\n",
    "rocTestCol=rainbow(8)\n",
    "aucText=c()\n",
    "\n",
    "output_f = file.path(output_dir,\"20250720_5_1_modif_Risk_Model_Build_1307_sample_Test_294_multi_rocTestTest_Test_result_Union20_1_Year_survail.pdf\")\n",
    "pdf(file=output_f,width=6,height=6)\n",
    "par(oma=c(0.5,1,0,1),font.lab=1.5,font.axis=1.5)\n",
    "\n",
    "# ## 1) training set\n",
    "plot(rocTest_1$FP, rocTest_1$TP, type=\"l\", xlim=c(0,1), ylim=c(0,1),col=rocTestCol[1], \n",
    "  xlab=\"False positive rate\", ylab=\"True positive rate\",\n",
    "  main=paste(\"Test 1 Year\"),\n",
    "  lwd = 2, cex.main=1.3, cex.lab=1.2, cex.axis=1.2, font=1.2)\n",
    "aucText=c(aucText,paste0(\"n=126 Union(20)\",\" AUC=\",sprintf(\"%.3f\",rocTest_1$AUC),\"\"))\n",
    "abline(0,1)\n",
    "\n",
    "\n",
    "## 2) Tumor \n",
    "aucText=c(aucText,paste0(\"n=126 Tumor(5)\",\" AUC=\",sprintf(\"%.3f\",rocTest_1_tumor$AUC),\"\"))\n",
    "lines(rocTest_1_tumor$FP, rocTest_1_tumor$TP, type=\"l\", xlim=c(0,1), ylim=c(0,1),col=rocTestCol[2],lwd = 2)\n",
    "\n",
    "\n",
    "## 3) Immune \n",
    "aucText=c(aucText,paste0(\"n=126 Immune(4)\",\" AUC=\",sprintf(\"%.3f\",rocTest_1_immune$AUC),\"\"))\n",
    "lines(rocTest_1_immune$FP, rocTest_1_immune$TP, type=\"l\", xlim=c(0,1), ylim=c(0,1),col=rocTestCol[3],lwd = 2)\n",
    "\n",
    "## 4) Cyto\n",
    "aucText=c(aucText,paste0(\"n=129 Cytogenetic Risk(3) 1 year\",\" AUC=\",sprintf(\"%.3f\",rocTest_1_Cyto$AUC),\"\"))\n",
    "lines(rocTest_1_Cyto$FP, rocTest_1_Cyto$TP, type=\"l\", xlim=c(0,1), ylim=c(0,1),col=rocTestCol[4],lwd = 2)\n",
    "\n",
    "## 5) IPSS \n",
    "aucText=c(aucText,paste0(\"n=50 IPSS(3) 1 year\",\" AUC=\",sprintf(\"%.3f\",rocTest_1_IPSS$AUC),\"\"))\n",
    "lines(rocTest_1_IPSS$FP, rocTest_1_IPSS$TP, type=\"l\", xlim=c(0,1), ylim=c(0,1),col=rocTestCol[5],lwd = 2)\n",
    "\n",
    "# 6) WHO \n",
    "aucText=c(aucText,paste0(\"n=93 WHO(3) 1 year\",\" AUC=\",sprintf(\"%.3f\",rocTest_1_WHO$AUC),\"\"))\n",
    "lines(rocTest_1_WHO$FP, rocTest_1_WHO$TP, type=\"l\", xlim=c(0,1), ylim=c(0,1),col=rocTestCol[6],lwd = 2)\n",
    "\n",
    "\n",
    "## 7) ELN\n",
    "aucText=c(aucText,paste0(\"n=34 ENL2017(3) 1 year\",\" AUC=\",sprintf(\"%.3f\",rocTest_1_ELN$AUC),\"\"))\n",
    "lines(rocTest_1_ELN$FP, rocTest_1_ELN$TP, type=\"l\", xlim=c(0,1), ylim=c(0,1),col=rocTestCol[7],lwd = 2)\n",
    "\n",
    "legend(\"bottomright\", aucText,lwd=1,bty=\"n\",col=rocTestCol,cex=0.5)\n",
    "dev.off()"
   ]
  },
  {
   "cell_type": "markdown",
   "metadata": {},
   "source": [
    "## test-3year"
   ]
  },
  {
   "cell_type": "code",
   "execution_count": 41,
   "metadata": {
    "vscode": {
     "languageId": "r"
    }
   },
   "outputs": [
    {
     "data": {
      "text/html": [
       "<strong>png:</strong> 2"
      ],
      "text/latex": [
       "\\textbf{png:} 2"
      ],
      "text/markdown": [
       "**png:** 2"
      ],
      "text/plain": [
       "png \n",
       "  2 "
      ]
     },
     "metadata": {},
     "output_type": "display_data"
    }
   ],
   "source": [
    "## 1）training set\n",
    "rocTestCol=rainbow(8)\n",
    "aucText=c()\n",
    "\n",
    "output_f = file.path(output_dir,\"20250720_4_1_Risk_Model_Build_1307_sample_Test_294_multi_rocTestTest_Test_result_Union20_3_Year_survail.pdf\")\n",
    "pdf(file=output_f,width=6,height=6)\n",
    "par(oma=c(0.5,1,0,1),font.lab=1.5,font.axis=1.5)\n",
    "\n",
    "# ## 1) training set\n",
    "plot(rocTest_3$FP, rocTest_3$TP, type=\"l\", xlim=c(0,1), ylim=c(0,1),col=rocTestCol[1], \n",
    "  xlab=\"False positive rate\", ylab=\"True positive rate\",\n",
    "  main=paste(\"Test 3 year\"),\n",
    "  lwd = 2, cex.main=1.3, cex.lab=1.2, cex.axis=1.2, font=1.2)\n",
    "aucText=c(aucText,paste0(\"n=126 Union(20)\",\" AUC=\",sprintf(\"%.3f\",rocTest_3$AUC),\"\"))\n",
    "abline(0,1)\n",
    "\n",
    "\n",
    "## 2) Tumor \n",
    "aucText=c(aucText,paste0(\"n=126 Tumor(5)\",\" AUC=\",sprintf(\"%.3f\",rocTest_3_tumor$AUC),\"\"))\n",
    "lines(rocTest_3_tumor$FP, rocTest_3_tumor$TP, type=\"l\", xlim=c(0,1), ylim=c(0,1),col=rocTestCol[2],lwd = 2)\n",
    "\n",
    "\n",
    "## 3) Immune \n",
    "aucText=c(aucText,paste0(\"n=126 Immune(4)\",\" AUC=\",sprintf(\"%.3f\",rocTest_3_immune$AUC),\"\"))\n",
    "lines(rocTest_3_immune$FP, rocTest_3_immune$TP, type=\"l\", xlim=c(0,1), ylim=c(0,1),col=rocTestCol[3],lwd = 2)\n",
    "\n",
    "## 4) Cyto\n",
    "aucText=c(aucText,paste0(\"n=129 Cytogenetic Risk(3) 3 year\",\" AUC=\",sprintf(\"%.3f\",rocTest_3_Cyto$AUC),\"\"))\n",
    "lines(rocTest_3_Cyto$FP, rocTest_3_Cyto$TP, type=\"l\", xlim=c(0,1), ylim=c(0,1),col=rocTestCol[4],lwd = 2)\n",
    "\n",
    "## 5) IPSS \n",
    "aucText=c(aucText,paste0(\"n=50 IPSS(3) 3 year\",\" AUC=\",sprintf(\"%.3f\",rocTest_3_IPSS$AUC),\"\"))\n",
    "lines(rocTest_3_IPSS$FP, rocTest_3_IPSS$TP, type=\"l\", xlim=c(0,1), ylim=c(0,1),col=rocTestCol[5],lwd = 2)\n",
    "\n",
    "# 6) WHO \n",
    "aucText=c(aucText,paste0(\"n=93 WHO(3) 3 year\",\" AUC=\",sprintf(\"%.3f\",rocTest_3_WHO$AUC),\"\"))\n",
    "lines(rocTest_3_WHO$FP, rocTest_3_WHO$TP, type=\"l\", xlim=c(0,1), ylim=c(0,1),col=rocTestCol[6],lwd = 2)\n",
    "\n",
    "\n",
    "## 7) ELN\n",
    "aucText=c(aucText,paste0(\"n=34 ENL2017(3) 3 year\",\" AUC=\",sprintf(\"%.3f\",rocTest_3_ELN$AUC),\"\"))\n",
    "lines(rocTest_3_ELN$FP, rocTest_3_ELN$TP, type=\"l\", xlim=c(0,1), ylim=c(0,1),col=rocTestCol[7],lwd = 2)\n",
    "\n",
    "legend(\"bottomright\", aucText,lwd=1,bty=\"n\",col=rocTestCol,cex=0.5)\n",
    "dev.off()"
   ]
  },
  {
   "cell_type": "code",
   "execution_count": null,
   "metadata": {
    "vscode": {
     "languageId": "r"
    }
   },
   "outputs": [],
   "source": []
  },
  {
   "cell_type": "markdown",
   "metadata": {},
   "source": [
    "## test-5year"
   ]
  },
  {
   "cell_type": "code",
   "execution_count": 56,
   "metadata": {
    "vscode": {
     "languageId": "r"
    }
   },
   "outputs": [
    {
     "data": {
      "text/html": [
       "<strong>png:</strong> 2"
      ],
      "text/latex": [
       "\\textbf{png:} 2"
      ],
      "text/markdown": [
       "**png:** 2"
      ],
      "text/plain": [
       "png \n",
       "  2 "
      ]
     },
     "metadata": {},
     "output_type": "display_data"
    }
   ],
   "source": [
    "## 1）training set\n",
    "rocTestCol=rainbow(8)\n",
    "aucText=c()\n",
    "\n",
    "output_f = file.path(output_dir,\"20250720_4_1_Risk_Model_Build_1307_sample_Test_294_multi_rocTestTest_Test_result_Union20_5_Year_survail.pdf\")\n",
    "pdf(file=output_f,width=6,height=6)\n",
    "par(oma=c(0.5,1,0,1),font.lab=1.5,font.axis=1.5)\n",
    "\n",
    "# ## 1) training set\n",
    "plot(rocTest_5$FP, rocTest_5$TP, type=\"l\", xlim=c(0,1), ylim=c(0,1),col=rocTestCol[1], \n",
    "  xlab=\"False positive rate\", ylab=\"True positive rate\",\n",
    "  main=paste(\"Test 5 year\"),\n",
    "  lwd = 2, cex.main=1.3, cex.lab=1.2, cex.axis=1.2, font=1.2)\n",
    "aucText=c(aucText,paste0(\"n=126 Union(20)\",\" AUC=\",sprintf(\"%.3f\",rocTest_5$AUC),\"\"))\n",
    "abline(0,1)\n",
    "\n",
    "\n",
    "## 2) Tumor \n",
    "aucText=c(aucText,paste0(\"n=126 Tumor(5)\",\" AUC=\",sprintf(\"%.3f\",rocTest_5_tumor$AUC),\"\"))\n",
    "lines(rocTest_5_tumor$FP, rocTest_5_tumor$TP, type=\"l\", xlim=c(0,1), ylim=c(0,1),col=rocTestCol[2],lwd = 2)\n",
    "\n",
    "\n",
    "## 3) Immune \n",
    "aucText=c(aucText,paste0(\"n=126 Immune(4)\",\" AUC=\",sprintf(\"%.3f\",rocTest_5_immune$AUC),\"\"))\n",
    "lines(rocTest_5_immune$FP, rocTest_5_immune$TP, type=\"l\", xlim=c(0,1), ylim=c(0,1),col=rocTestCol[3],lwd = 2)\n",
    "\n",
    "## 4) Cyto\n",
    "aucText=c(aucText,paste0(\"n=129 Cytogenetic Risk(3) 5 year\",\" AUC=\",sprintf(\"%.3f\",rocTest_5_Cyto$AUC),\"\"))\n",
    "lines(rocTest_5_Cyto$FP, rocTest_5_Cyto$TP, type=\"l\", xlim=c(0,1), ylim=c(0,1),col=rocTestCol[4],lwd = 2)\n",
    "\n",
    "## 5) IPSS \n",
    "aucText=c(aucText,paste0(\"n=50 IPSS(3) 5 year\",\" AUC=\",sprintf(\"%.3f\",rocTest_5_IPSS$AUC),\"\"))\n",
    "lines(rocTest_5_IPSS$FP, rocTest_5_IPSS$TP, type=\"l\", xlim=c(0,1), ylim=c(0,1),col=rocTestCol[5],lwd = 2)\n",
    "\n",
    "# 6) WHO \n",
    "aucText=c(aucText,paste0(\"n=93 WHO(3) 5 year\",\" AUC=\",sprintf(\"%.3f\",rocTest_5_WHO$AUC),\"\"))\n",
    "lines(rocTest_5_WHO$FP, rocTest_5_WHO$TP, type=\"l\", xlim=c(0,1), ylim=c(0,1),col=rocTestCol[6],lwd = 2)\n",
    "\n",
    "\n",
    "## 7) ELN\n",
    "aucText=c(aucText,paste0(\"n=34 ENL2017(3) 5 year\",\" AUC=\",sprintf(\"%.3f\",rocTest_5_ELN$AUC),\"\"))\n",
    "lines(rocTest_5_ELN$FP, rocTest_5_ELN$TP, type=\"l\", xlim=c(0,1), ylim=c(0,1),col=rocTestCol[7],lwd = 2)\n",
    "\n",
    "legend(\"bottomright\", aucText,lwd=1,bty=\"n\",col=rocTestCol,cex=0.5)\n",
    "dev.off()"
   ]
  },
  {
   "cell_type": "markdown",
   "metadata": {},
   "source": [
    "## test-05year"
   ]
  },
  {
   "cell_type": "code",
   "execution_count": 8,
   "metadata": {
    "vscode": {
     "languageId": "r"
    }
   },
   "outputs": [
    {
     "data": {
      "text/html": [
       "<strong>png:</strong> 2"
      ],
      "text/latex": [
       "\\textbf{png:} 2"
      ],
      "text/markdown": [
       "**png:** 2"
      ],
      "text/plain": [
       "png \n",
       "  2 "
      ]
     },
     "metadata": {},
     "output_type": "display_data"
    }
   ],
   "source": [
    "## 1）training set\n",
    "rocTestCol=rainbow(8)\n",
    "aucText=c()\n",
    "\n",
    "output_f = file.path(output_dir,\"20250720_4_2_Risk_Model_Build_1307_sample_Test_294_multi_rocTestTest_Test_result_Union20_0.5_Year_survail.pdf\")\n",
    "pdf(file=output_f,width=6,height=6)\n",
    "par(oma=c(0.5,1,0,1),font.lab=1.5,font.axis=1.5)\n",
    "\n",
    "# ## 1) training set\n",
    "plot(rocTest_05$FP, rocTest_05$TP, type=\"l\", xlim=c(0,1), ylim=c(0,1),col=rocTestCol[1], \n",
    "  xlab=\"False positive rate\", ylab=\"True positive rate\",\n",
    "  main=paste(\"Test 0.5 year\"),\n",
    "  lwd = 2, cex.main=1.3, cex.lab=1.2, cex.axis=1.2, font=1.2)\n",
    "aucText=c(aucText,paste0(\"n=126 Union(20)\",\" AUC=\",sprintf(\"%.3f\",rocTest_05$AUC),\"\"))\n",
    "abline(0,1)\n",
    "\n",
    "\n",
    "## 2) Tumor \n",
    "aucText=c(aucText,paste0(\"n=126 Tumor(5)\",\" AUC=\",sprintf(\"%.3f\",rocTest_05_tumor$AUC),\"\"))\n",
    "lines(rocTest_05_tumor$FP, rocTest_05_tumor$TP, type=\"l\", xlim=c(0,1), ylim=c(0,1),col=rocTestCol[2],lwd = 2)\n",
    "\n",
    "\n",
    "## 3) Immune \n",
    "aucText=c(aucText,paste0(\"n=126 Immune(4)\",\" AUC=\",sprintf(\"%.3f\",rocTest_05_immune$AUC),\"\"))\n",
    "lines(rocTest_05_immune$FP, rocTest_05_immune$TP, type=\"l\", xlim=c(0,1), ylim=c(0,1),col=rocTestCol[3],lwd = 2)\n",
    "\n",
    "## 4) Cyto\n",
    "aucText=c(aucText,paste0(\"n=129 Cytogenetic Risk(3) 5 year\",\" AUC=\",sprintf(\"%.3f\",rocTest_05_Cyto$AUC),\"\"))\n",
    "lines(rocTest_05_Cyto$FP, rocTest_05_Cyto$TP, type=\"l\", xlim=c(0,1), ylim=c(0,1),col=rocTestCol[4],lwd = 2)\n",
    "\n",
    "## 5) IPSS \n",
    "rocTest_05_IPSS$TP[rocTest_05_IPSS$TP > 1] <- 0.99\n",
    "aucText=c(aucText,paste0(\"n=50 IPSS(3) 5 year\",\" AUC=\",sprintf(\"%.3f\",rocTest_05_IPSS$AUC),\"\"))\n",
    "lines(rocTest_05_IPSS$FP, rocTest_05_IPSS$TP, type=\"l\", xlim=c(0,1), ylim=c(0,1),col=rocTestCol[5],lwd = 2)\n",
    "\n",
    "# 6) WHO \n",
    "aucText=c(aucText,paste0(\"n=93 WHO(3) 5 year\",\" AUC=\",sprintf(\"%.3f\",rocTest_05_WHO$AUC),\"\"))\n",
    "lines(rocTest_05_WHO$FP, rocTest_05_WHO$TP, type=\"l\", xlim=c(0,1), ylim=c(0,1),col=rocTestCol[6],lwd = 2)\n",
    "\n",
    "## 7) ELN\n",
    "aucText=c(aucText,paste0(\"n=34 ENL2017(3) 5 year\",\" AUC=\",sprintf(\"%.3f\",rocTest_05_ELN$AUC),\"\"))\n",
    "lines(rocTest_05_ELN$FP, rocTest_05_ELN$TP, type=\"l\", xlim=c(0,1), ylim=c(0,1),col=rocTestCol[7],lwd = 2)\n",
    "\n",
    "legend(\"bottomright\", aucText,lwd=1,bty=\"n\",col=rocTestCol,cex=0.5)\n",
    "dev.off()"
   ]
  },
  {
   "cell_type": "markdown",
   "metadata": {},
   "source": [
    "## test-2year"
   ]
  },
  {
   "cell_type": "code",
   "execution_count": 61,
   "metadata": {
    "vscode": {
     "languageId": "r"
    }
   },
   "outputs": [
    {
     "data": {
      "text/html": [
       "<strong>png:</strong> 2"
      ],
      "text/latex": [
       "\\textbf{png:} 2"
      ],
      "text/markdown": [
       "**png:** 2"
      ],
      "text/plain": [
       "png \n",
       "  2 "
      ]
     },
     "metadata": {},
     "output_type": "display_data"
    }
   ],
   "source": [
    "## 1）training set\n",
    "rocTestCol=rainbow(8)\n",
    "aucText=c()\n",
    "\n",
    "output_f = file.path(output_dir,\"20250720_4_1_Risk_Model_Build_1307_sample_Test_294_multi_rocTestTest_Test_result_Union20_2_Year_survail.pdf\")\n",
    "pdf(file=output_f,width=6,height=6)\n",
    "par(oma=c(0.5,1,0,1),font.lab=1.5,font.axis=1.5)\n",
    "\n",
    "# ## 1) training set\n",
    "plot(rocTest_2$FP, rocTest_2$TP, type=\"l\", xlim=c(0,1), ylim=c(0,1),col=rocTestCol[1], \n",
    "  xlab=\"False positive rate\", ylab=\"True positive rate\",\n",
    "  main=paste(\"Test 2 year\"),\n",
    "  lwd = 2, cex.main=1.3, cex.lab=1.2, cex.axis=1.2, font=1.2)\n",
    "aucText=c(aucText,paste0(\"n=126 Union(20)\",\" AUC=\",sprintf(\"%.3f\",rocTest_2$AUC),\"\"))\n",
    "abline(0,1)\n",
    "\n",
    "\n",
    "## 2) Tumor \n",
    "aucText=c(aucText,paste0(\"n=126 Tumor(5)\",\" AUC=\",sprintf(\"%.3f\",rocTest_2_tumor$AUC),\"\"))\n",
    "lines(rocTest_2_tumor$FP, rocTest_2_tumor$TP, type=\"l\", xlim=c(0,1), ylim=c(0,1),col=rocTestCol[2],lwd = 2)\n",
    "\n",
    "\n",
    "## 3) Immune \n",
    "aucText=c(aucText,paste0(\"n=126 Immune(4)\",\" AUC=\",sprintf(\"%.3f\",rocTest_2_immune$AUC),\"\"))\n",
    "lines(rocTest_2_immune$FP, rocTest_2_immune$TP, type=\"l\", xlim=c(0,1), ylim=c(0,1),col=rocTestCol[3],lwd = 2)\n",
    "\n",
    "## 4) Cyto\n",
    "aucText=c(aucText,paste0(\"n=129 Cytogenetic Risk(3) 5 year\",\" AUC=\",sprintf(\"%.3f\",rocTest_2_Cyto$AUC),\"\"))\n",
    "lines(rocTest_2_Cyto$FP, rocTest_2_Cyto$TP, type=\"l\", xlim=c(0,1), ylim=c(0,1),col=rocTestCol[4],lwd = 2)\n",
    "\n",
    "## 5) IPSS \n",
    "aucText=c(aucText,paste0(\"n=50 IPSS(3) 5 year\",\" AUC=\",sprintf(\"%.3f\",rocTest_2_IPSS$AUC),\"\"))\n",
    "lines(rocTest_2_IPSS$FP, rocTest_2_IPSS$TP, type=\"l\", xlim=c(0,1), ylim=c(0,1),col=rocTestCol[5],lwd = 2)\n",
    "\n",
    "# 6) WHO \n",
    "aucText=c(aucText,paste0(\"n=93 WHO(3) 5 year\",\" AUC=\",sprintf(\"%.3f\",rocTest_2_WHO$AUC),\"\"))\n",
    "lines(rocTest_2_WHO$FP, rocTest_2_WHO$TP, type=\"l\", xlim=c(0,1), ylim=c(0,1),col=rocTestCol[6],lwd = 2)\n",
    "\n",
    "## 7) ELN\n",
    "aucText=c(aucText,paste0(\"n=34 ENL2017(3) 5 year\",\" AUC=\",sprintf(\"%.3f\",rocTest_2_ELN$AUC),\"\"))\n",
    "lines(rocTest_2_ELN$FP, rocTest_2_ELN$TP, type=\"l\", xlim=c(0,1), ylim=c(0,1),col=rocTestCol[7],lwd = 2)\n",
    "\n",
    "legend(\"bottomright\", aucText,lwd=1,bty=\"n\",col=rocTestCol,cex=0.5)\n",
    "dev.off()"
   ]
  },
  {
   "cell_type": "markdown",
   "metadata": {},
   "source": [
    "## test-4year"
   ]
  },
  {
   "cell_type": "code",
   "execution_count": 62,
   "metadata": {
    "vscode": {
     "languageId": "r"
    }
   },
   "outputs": [
    {
     "data": {
      "text/html": [
       "<strong>png:</strong> 2"
      ],
      "text/latex": [
       "\\textbf{png:} 2"
      ],
      "text/markdown": [
       "**png:** 2"
      ],
      "text/plain": [
       "png \n",
       "  2 "
      ]
     },
     "metadata": {},
     "output_type": "display_data"
    }
   ],
   "source": [
    "## 1）training set\n",
    "rocTestCol=rainbow(8)\n",
    "aucText=c()\n",
    "\n",
    "output_f = file.path(output_dir,\"20250720_4_1_Risk_Model_Build_1307_sample_Test_294_multi_rocTestTest_Test_result_Union20_4_Year_survail.pdf\")\n",
    "pdf(file=output_f,width=6,height=6)\n",
    "par(oma=c(0.5,1,0,1),font.lab=1.5,font.axis=1.5)\n",
    "\n",
    "# ## 1) training set\n",
    "plot(rocTest_4$FP, rocTest_4$TP, type=\"l\", xlim=c(0,1), ylim=c(0,1),col=rocTestCol[1], \n",
    "  xlab=\"False positive rate\", ylab=\"True positive rate\",\n",
    "  main=paste(\"Test 4 year\"),\n",
    "  lwd = 2, cex.main=1.3, cex.lab=1.2, cex.axis=1.2, font=1.2)\n",
    "aucText=c(aucText,paste0(\"n=126 Union(20)\",\" AUC=\",sprintf(\"%.3f\",rocTest_4$AUC),\"\"))\n",
    "abline(0,1)\n",
    "\n",
    "\n",
    "## 2) Tumor \n",
    "aucText=c(aucText,paste0(\"n=126 Tumor(5)\",\" AUC=\",sprintf(\"%.3f\",rocTest_4_tumor$AUC),\"\"))\n",
    "lines(rocTest_4_tumor$FP, rocTest_4_tumor$TP, type=\"l\", xlim=c(0,1), ylim=c(0,1),col=rocTestCol[2],lwd = 2)\n",
    "\n",
    "\n",
    "## 3) Immune \n",
    "aucText=c(aucText,paste0(\"n=126 Immune(4)\",\" AUC=\",sprintf(\"%.3f\",rocTest_4_immune$AUC),\"\"))\n",
    "lines(rocTest_4_immune$FP, rocTest_4_immune$TP, type=\"l\", xlim=c(0,1), ylim=c(0,1),col=rocTestCol[3],lwd = 2)\n",
    "\n",
    "## 4) Cyto\n",
    "aucText=c(aucText,paste0(\"n=129 Cytogenetic Risk(3) 5 year\",\" AUC=\",sprintf(\"%.3f\",rocTest_4_Cyto$AUC),\"\"))\n",
    "lines(rocTest_4_Cyto$FP, rocTest_4_Cyto$TP, type=\"l\", xlim=c(0,1), ylim=c(0,1),col=rocTestCol[4],lwd = 2)\n",
    "\n",
    "## 5) IPSS \n",
    "aucText=c(aucText,paste0(\"n=50 IPSS(3) 5 year\",\" AUC=\",sprintf(\"%.3f\",rocTest_4_IPSS$AUC),\"\"))\n",
    "lines(rocTest_4_IPSS$FP, rocTest_4_IPSS$TP, type=\"l\", xlim=c(0,1), ylim=c(0,1),col=rocTestCol[5],lwd = 2)\n",
    "\n",
    "# 6) WHO \n",
    "aucText=c(aucText,paste0(\"n=93 WHO(3) 5 year\",\" AUC=\",sprintf(\"%.3f\",rocTest_4_WHO$AUC),\"\"))\n",
    "lines(rocTest_4_WHO$FP, rocTest_4_WHO$TP, type=\"l\", xlim=c(0,1), ylim=c(0,1),col=rocTestCol[6],lwd = 2)\n",
    "\n",
    "\n",
    "## 7) ELN\n",
    "aucText=c(aucText,paste0(\"n=34 ENL2017(3) 5 year\",\" AUC=\",sprintf(\"%.3f\",rocTest_4_ELN$AUC),\"\"))\n",
    "lines(rocTest_4_ELN$FP, rocTest_4_ELN$TP, type=\"l\", xlim=c(0,1), ylim=c(0,1),col=rocTestCol[7],lwd = 2)\n",
    "\n",
    "legend(\"bottomright\", aucText,lwd=1,bty=\"n\",col=rocTestCol,cex=0.5)\n",
    "dev.off()"
   ]
  },
  {
   "cell_type": "markdown",
   "metadata": {},
   "source": [
    "## Save space"
   ]
  },
  {
   "cell_type": "code",
   "execution_count": 5,
   "metadata": {
    "vscode": {
     "languageId": "r"
    }
   },
   "outputs": [],
   "source": [
    "if(TRUE){\n",
    "\n",
    "# output_f = \"/share/home/wyz/Project/result/2025/202507/20250718_1_Risk_Model_Build/20250809_1_Risk_Model_Build_Union_420_split_clinlic_ROC/20250809_1_Risk_Model_Build_Union_420_all_workspace.Rdata\"\n",
    "\n",
    "# input_dir = \"/share/home/wyz/Project/result/2025/202507/20250718_1_Risk_Model_Build/20250828_1_Risk_Model_Build_Union_420_split_clinlic_ROC\"\n",
    "# output_f = file.path(input_dir,\"20250809_1_Risk_Model_Build_Union_420_all_workspace.Rdata\")\n",
    "# load(output_f)\n",
    "}\n"
   ]
  },
  {
   "cell_type": "code",
   "execution_count": 63,
   "metadata": {
    "vscode": {
     "languageId": "r"
    }
   },
   "outputs": [],
   "source": [
    "if(TRUE){\n",
    "output_f = file.path(output_dir,\"20250828_1_Risk_Model_Build_Union_420_all_add_year_workspace.Rdata\")\n",
    "save.image(file=output_f)\n",
    "\n",
    "# load(output_f)\n",
    "}"
   ]
  },
  {
   "cell_type": "code",
   "execution_count": 6,
   "metadata": {
    "vscode": {
     "languageId": "r"
    }
   },
   "outputs": [],
   "source": [
    "if(TRUE){\n",
    "# output_f = \"/share/home/wyz/Project/result/2025/202507/20250718_1_Risk_Model_Build/20250828_1_Risk_Model_Build_Union_420_split_clinlic_ROC/20250828_1_Risk_Model_Build_Union_420_all_add_year_workspace.Rdata\"\n",
    "# load(output_f)\n",
    "}"
   ]
  },
  {
   "cell_type": "code",
   "execution_count": null,
   "metadata": {
    "vscode": {
     "languageId": "r"
    }
   },
   "outputs": [],
   "source": []
  },
  {
   "cell_type": "markdown",
   "metadata": {},
   "source": [
    "## Grouping of the line graph"
   ]
  },
  {
   "cell_type": "code",
   "execution_count": 10,
   "metadata": {
    "vscode": {
     "languageId": "r"
    }
   },
   "outputs": [],
   "source": [
    "library(survival)\n",
    "library(survminer)"
   ]
  },
  {
   "cell_type": "code",
   "execution_count": 14,
   "metadata": {
    "vscode": {
     "languageId": "r"
    }
   },
   "outputs": [
    {
     "data": {
      "text/html": [
       "<table class=\"dataframe\">\n",
       "<caption>A data.frame: 6 × 6</caption>\n",
       "<thead>\n",
       "\t<tr><th></th><th scope=col>id</th><th scope=col>Survival_days</th><th scope=col>Status_Cox</th><th scope=col>tumor_to_immune_mark</th><th scope=col>riskScore</th><th scope=col>risk</th></tr>\n",
       "\t<tr><th></th><th scope=col>&lt;chr&gt;</th><th scope=col>&lt;dbl&gt;</th><th scope=col>&lt;int&gt;</th><th scope=col>&lt;fct&gt;</th><th scope=col>&lt;dbl&gt;</th><th scope=col>&lt;fct&gt;</th></tr>\n",
       "</thead>\n",
       "<tbody>\n",
       "\t<tr><th scope=row>AML_Beat_12_00051</th><td>AML_Beat_12_00051</td><td>1.936986</td><td>1</td><td>Primitive_CD8T_Int_CD4T_Low   </td><td>1.6465850</td><td>low </td></tr>\n",
       "\t<tr><th scope=row>AML_Beat_12_00211</th><td>AML_Beat_12_00211</td><td>3.824658</td><td>0</td><td>Mature_CD8T_Int_CD4T_Low      </td><td>2.2629113</td><td>high</td></tr>\n",
       "\t<tr><th scope=row>AML_Beat_13_00157</th><td>AML_Beat_13_00157</td><td>3.778082</td><td>0</td><td>Primitive_CD8T_Int_CD4T_Low   </td><td>1.6465850</td><td>low </td></tr>\n",
       "\t<tr><th scope=row>AML_Beat_13_00163</th><td>AML_Beat_13_00163</td><td>1.095890</td><td>0</td><td>GMP_CD8_Int_CD4_High          </td><td>0.9209025</td><td>low </td></tr>\n",
       "\t<tr><th scope=row>AML_Beat_13_00232</th><td>AML_Beat_13_00232</td><td>2.742466</td><td>0</td><td>GMP_CD8T_Int_CD4T_Low         </td><td>1.3007267</td><td>low </td></tr>\n",
       "\t<tr><th scope=row>AML_Beat_13_00245</th><td>AML_Beat_13_00245</td><td>2.347945</td><td>0</td><td>intermediate_CD8T_Int_CD4T_Low</td><td>3.5596509</td><td>high</td></tr>\n",
       "</tbody>\n",
       "</table>\n"
      ],
      "text/latex": [
       "A data.frame: 6 × 6\n",
       "\\begin{tabular}{r|llllll}\n",
       "  & id & Survival\\_days & Status\\_Cox & tumor\\_to\\_immune\\_mark & riskScore & risk\\\\\n",
       "  & <chr> & <dbl> & <int> & <fct> & <dbl> & <fct>\\\\\n",
       "\\hline\n",
       "\tAML\\_Beat\\_12\\_00051 & AML\\_Beat\\_12\\_00051 & 1.936986 & 1 & Primitive\\_CD8T\\_Int\\_CD4T\\_Low    & 1.6465850 & low \\\\\n",
       "\tAML\\_Beat\\_12\\_00211 & AML\\_Beat\\_12\\_00211 & 3.824658 & 0 & Mature\\_CD8T\\_Int\\_CD4T\\_Low       & 2.2629113 & high\\\\\n",
       "\tAML\\_Beat\\_13\\_00157 & AML\\_Beat\\_13\\_00157 & 3.778082 & 0 & Primitive\\_CD8T\\_Int\\_CD4T\\_Low    & 1.6465850 & low \\\\\n",
       "\tAML\\_Beat\\_13\\_00163 & AML\\_Beat\\_13\\_00163 & 1.095890 & 0 & GMP\\_CD8\\_Int\\_CD4\\_High           & 0.9209025 & low \\\\\n",
       "\tAML\\_Beat\\_13\\_00232 & AML\\_Beat\\_13\\_00232 & 2.742466 & 0 & GMP\\_CD8T\\_Int\\_CD4T\\_Low          & 1.3007267 & low \\\\\n",
       "\tAML\\_Beat\\_13\\_00245 & AML\\_Beat\\_13\\_00245 & 2.347945 & 0 & intermediate\\_CD8T\\_Int\\_CD4T\\_Low & 3.5596509 & high\\\\\n",
       "\\end{tabular}\n"
      ],
      "text/markdown": [
       "\n",
       "A data.frame: 6 × 6\n",
       "\n",
       "| <!--/--> | id &lt;chr&gt; | Survival_days &lt;dbl&gt; | Status_Cox &lt;int&gt; | tumor_to_immune_mark &lt;fct&gt; | riskScore &lt;dbl&gt; | risk &lt;fct&gt; |\n",
       "|---|---|---|---|---|---|---|\n",
       "| AML_Beat_12_00051 | AML_Beat_12_00051 | 1.936986 | 1 | Primitive_CD8T_Int_CD4T_Low    | 1.6465850 | low  |\n",
       "| AML_Beat_12_00211 | AML_Beat_12_00211 | 3.824658 | 0 | Mature_CD8T_Int_CD4T_Low       | 2.2629113 | high |\n",
       "| AML_Beat_13_00157 | AML_Beat_13_00157 | 3.778082 | 0 | Primitive_CD8T_Int_CD4T_Low    | 1.6465850 | low  |\n",
       "| AML_Beat_13_00163 | AML_Beat_13_00163 | 1.095890 | 0 | GMP_CD8_Int_CD4_High           | 0.9209025 | low  |\n",
       "| AML_Beat_13_00232 | AML_Beat_13_00232 | 2.742466 | 0 | GMP_CD8T_Int_CD4T_Low          | 1.3007267 | low  |\n",
       "| AML_Beat_13_00245 | AML_Beat_13_00245 | 2.347945 | 0 | intermediate_CD8T_Int_CD4T_Low | 3.5596509 | high |\n",
       "\n"
      ],
      "text/plain": [
       "                  id                Survival_days Status_Cox\n",
       "AML_Beat_12_00051 AML_Beat_12_00051 1.936986      1         \n",
       "AML_Beat_12_00211 AML_Beat_12_00211 3.824658      0         \n",
       "AML_Beat_13_00157 AML_Beat_13_00157 3.778082      0         \n",
       "AML_Beat_13_00163 AML_Beat_13_00163 1.095890      0         \n",
       "AML_Beat_13_00232 AML_Beat_13_00232 2.742466      0         \n",
       "AML_Beat_13_00245 AML_Beat_13_00245 2.347945      0         \n",
       "                  tumor_to_immune_mark           riskScore risk\n",
       "AML_Beat_12_00051 Primitive_CD8T_Int_CD4T_Low    1.6465850 low \n",
       "AML_Beat_12_00211 Mature_CD8T_Int_CD4T_Low       2.2629113 high\n",
       "AML_Beat_13_00157 Primitive_CD8T_Int_CD4T_Low    1.6465850 low \n",
       "AML_Beat_13_00163 GMP_CD8_Int_CD4_High           0.9209025 low \n",
       "AML_Beat_13_00232 GMP_CD8T_Int_CD4T_Low          1.3007267 low \n",
       "AML_Beat_13_00245 intermediate_CD8T_Int_CD4T_Low 3.5596509 high"
      ]
     },
     "metadata": {},
     "output_type": "display_data"
    }
   ],
   "source": [
    "head(trainRiskOut)"
   ]
  },
  {
   "cell_type": "code",
   "execution_count": 15,
   "metadata": {
    "vscode": {
     "languageId": "r"
    }
   },
   "outputs": [],
   "source": [
    "trainRiskOut_value_df = trainRiskOut"
   ]
  },
  {
   "cell_type": "code",
   "execution_count": 16,
   "metadata": {
    "vscode": {
     "languageId": "r"
    }
   },
   "outputs": [],
   "source": [
    "trainRiskOut_value_df$tumor_to_immune_mark = factor(trainRiskOut_value_df$tumor_to_immune_mark, levels = c(\n",
    "    \"GMP_CD8T_High\", \n",
    "    \"Mature_CD8T_High\", \n",
    "    \"GMP_CD8_Int_CD4_High\", \n",
    "    \"Prog_CD8_Int_CD4_High\", \n",
    "    \"Prog_CD8T_High\", \n",
    "    \"GMP_CD8T_Int_CD4T_Low\", \n",
    "    \"Primitive_CD8T_Int_CD4T_Low\", \n",
    "    \"Prog_CD8T_Low\", \n",
    "    \"Prog_CD8T_Int_CD4T_Low\", \n",
    "    \"Mature_CD8T_Int_CD4T_Low\", \n",
    "    \"intermediate_CD8_Int_CD4_High\", \n",
    "    \"intermediate_CD8T_Int_CD4T_Low\", \n",
    "    \"GMP_CD8T_Low\", \n",
    "    \"Mature_CD8_Int_CD4_High\", \n",
    "    \"Primitive_CD8_Int_CD4_High\", \n",
    "    \"Mature_CD8T_Low\", \n",
    "    \"Primitive_CD8T_High\", \n",
    "    \"intermediate_CD8T_Low\", \n",
    "    \"Primitive_CD8T_Low\"\n",
    "    ))"
   ]
  },
  {
   "cell_type": "code",
   "execution_count": 18,
   "metadata": {
    "vscode": {
     "languageId": "r"
    }
   },
   "outputs": [],
   "source": [
    "trainRiskOut_value_df$tumor_to_immune_mark_value = as.numeric(trainRiskOut_value_df$tumor_to_immune_mark)"
   ]
  },
  {
   "cell_type": "code",
   "execution_count": 19,
   "metadata": {
    "vscode": {
     "languageId": "r"
    }
   },
   "outputs": [
    {
     "data": {
      "text/plain": [
       "\n",
       " 1  2  3  4  5  6  7  8  9 10 11 12 13 14 15 16 17 18 19 \n",
       "11 24  9 70  4 26 21  2  3 23  3 12 13  4  6 30  1 22 10 "
      ]
     },
     "metadata": {},
     "output_type": "display_data"
    }
   ],
   "source": [
    "table(trainRiskOut_value_df$tumor_to_immune_mark_value)"
   ]
  },
  {
   "cell_type": "code",
   "execution_count": 20,
   "metadata": {
    "vscode": {
     "languageId": "r"
    }
   },
   "outputs": [],
   "source": [
    "res.cut <- surv_cutpoint(trainRiskOut_value_df, #\n",
    "                         time = \"Survival_days\", #\n",
    "                         event = \"Status_Cox\", #\n",
    "                         variables = c(\"tumor_to_immune_mark_value\") #\n",
    "                         )"
   ]
  },
  {
   "cell_type": "code",
   "execution_count": 21,
   "metadata": {
    "vscode": {
     "languageId": "r"
    }
   },
   "outputs": [
    {
     "data": {
      "text/html": [
       "<table class=\"dataframe\">\n",
       "<caption>A data.frame: 1 × 2</caption>\n",
       "<thead>\n",
       "\t<tr><th></th><th scope=col>cutpoint</th><th scope=col>statistic</th></tr>\n",
       "\t<tr><th></th><th scope=col>&lt;dbl&gt;</th><th scope=col>&lt;dbl&gt;</th></tr>\n",
       "</thead>\n",
       "<tbody>\n",
       "\t<tr><th scope=row>tumor_to_immune_mark_value</th><td>10</td><td>8.148015</td></tr>\n",
       "</tbody>\n",
       "</table>\n"
      ],
      "text/latex": [
       "A data.frame: 1 × 2\n",
       "\\begin{tabular}{r|ll}\n",
       "  & cutpoint & statistic\\\\\n",
       "  & <dbl> & <dbl>\\\\\n",
       "\\hline\n",
       "\ttumor\\_to\\_immune\\_mark\\_value & 10 & 8.148015\\\\\n",
       "\\end{tabular}\n"
      ],
      "text/markdown": [
       "\n",
       "A data.frame: 1 × 2\n",
       "\n",
       "| <!--/--> | cutpoint &lt;dbl&gt; | statistic &lt;dbl&gt; |\n",
       "|---|---|---|\n",
       "| tumor_to_immune_mark_value | 10 | 8.148015 |\n",
       "\n"
      ],
      "text/plain": [
       "                           cutpoint statistic\n",
       "tumor_to_immune_mark_value 10       8.148015 "
      ]
     },
     "metadata": {},
     "output_type": "display_data"
    }
   ],
   "source": [
    "summary(res.cut) "
   ]
  },
  {
   "cell_type": "code",
   "execution_count": 22,
   "metadata": {
    "vscode": {
     "languageId": "r"
    }
   },
   "outputs": [
    {
     "data": {
      "text/plain": [
       "                           cutpoint statistic\n",
       "tumor_to_immune_mark_value       10  8.148015"
      ]
     },
     "metadata": {},
     "output_type": "display_data"
    }
   ],
   "source": [
    "res.cut "
   ]
  },
  {
   "cell_type": "code",
   "execution_count": 23,
   "metadata": {
    "vscode": {
     "languageId": "r"
    }
   },
   "outputs": [
    {
     "data": {
      "text/plain": [
       "$tumor_to_immune_mark_value\n"
      ]
     },
     "metadata": {},
     "output_type": "display_data"
    },
    {
     "data": {
      "text/html": [
       "<strong>png:</strong> 2"
      ],
      "text/latex": [
       "\\textbf{png:} 2"
      ],
      "text/markdown": [
       "**png:** 2"
      ],
      "text/plain": [
       "png \n",
       "  2 "
      ]
     },
     "metadata": {},
     "output_type": "display_data"
    }
   ],
   "source": [
    "# Draw Forest Diagram\n",
    "options(forestplot_new_page = FALSE)\n",
    "output_f = file.path(output_dir,\"20250723_10_1_Risk_Model_Build_Union_420.pdf\")\n",
    "\n",
    "pdf(file=output_f,width = 12,height = 12)\n",
    "plot(res.cut, \"tumor_to_immune_mark_value\", palette = \"npg\")\n",
    "dev.off()"
   ]
  },
  {
   "cell_type": "code",
   "execution_count": null,
   "metadata": {
    "vscode": {
     "languageId": "r"
    }
   },
   "outputs": [],
   "source": [
    "## Classify the data based on the cutoff points"
   ]
  },
  {
   "cell_type": "code",
   "execution_count": 24,
   "metadata": {
    "vscode": {
     "languageId": "r"
    }
   },
   "outputs": [
    {
     "data": {
      "text/html": [
       "<table class=\"dataframe\">\n",
       "<caption>A data.frame: 6 × 3</caption>\n",
       "<thead>\n",
       "\t<tr><th></th><th scope=col>Survival_days</th><th scope=col>Status_Cox</th><th scope=col>tumor_to_immune_mark_value</th></tr>\n",
       "\t<tr><th></th><th scope=col>&lt;dbl&gt;</th><th scope=col>&lt;int&gt;</th><th scope=col>&lt;chr&gt;</th></tr>\n",
       "</thead>\n",
       "<tbody>\n",
       "\t<tr><th scope=row>AML_Beat_12_00051</th><td>1.936986</td><td>1</td><td>low </td></tr>\n",
       "\t<tr><th scope=row>AML_Beat_12_00211</th><td>3.824658</td><td>0</td><td>low </td></tr>\n",
       "\t<tr><th scope=row>AML_Beat_13_00157</th><td>3.778082</td><td>0</td><td>low </td></tr>\n",
       "\t<tr><th scope=row>AML_Beat_13_00163</th><td>1.095890</td><td>0</td><td>low </td></tr>\n",
       "\t<tr><th scope=row>AML_Beat_13_00232</th><td>2.742466</td><td>0</td><td>low </td></tr>\n",
       "\t<tr><th scope=row>AML_Beat_13_00245</th><td>2.347945</td><td>0</td><td>high</td></tr>\n",
       "</tbody>\n",
       "</table>\n"
      ],
      "text/latex": [
       "A data.frame: 6 × 3\n",
       "\\begin{tabular}{r|lll}\n",
       "  & Survival\\_days & Status\\_Cox & tumor\\_to\\_immune\\_mark\\_value\\\\\n",
       "  & <dbl> & <int> & <chr>\\\\\n",
       "\\hline\n",
       "\tAML\\_Beat\\_12\\_00051 & 1.936986 & 1 & low \\\\\n",
       "\tAML\\_Beat\\_12\\_00211 & 3.824658 & 0 & low \\\\\n",
       "\tAML\\_Beat\\_13\\_00157 & 3.778082 & 0 & low \\\\\n",
       "\tAML\\_Beat\\_13\\_00163 & 1.095890 & 0 & low \\\\\n",
       "\tAML\\_Beat\\_13\\_00232 & 2.742466 & 0 & low \\\\\n",
       "\tAML\\_Beat\\_13\\_00245 & 2.347945 & 0 & high\\\\\n",
       "\\end{tabular}\n"
      ],
      "text/markdown": [
       "\n",
       "A data.frame: 6 × 3\n",
       "\n",
       "| <!--/--> | Survival_days &lt;dbl&gt; | Status_Cox &lt;int&gt; | tumor_to_immune_mark_value &lt;chr&gt; |\n",
       "|---|---|---|---|\n",
       "| AML_Beat_12_00051 | 1.936986 | 1 | low  |\n",
       "| AML_Beat_12_00211 | 3.824658 | 0 | low  |\n",
       "| AML_Beat_13_00157 | 3.778082 | 0 | low  |\n",
       "| AML_Beat_13_00163 | 1.095890 | 0 | low  |\n",
       "| AML_Beat_13_00232 | 2.742466 | 0 | low  |\n",
       "| AML_Beat_13_00245 | 2.347945 | 0 | high |\n",
       "\n"
      ],
      "text/plain": [
       "                  Survival_days Status_Cox tumor_to_immune_mark_value\n",
       "AML_Beat_12_00051 1.936986      1          low                       \n",
       "AML_Beat_12_00211 3.824658      0          low                       \n",
       "AML_Beat_13_00157 3.778082      0          low                       \n",
       "AML_Beat_13_00163 1.095890      0          low                       \n",
       "AML_Beat_13_00232 2.742466      0          low                       \n",
       "AML_Beat_13_00245 2.347945      0          high                      "
      ]
     },
     "metadata": {},
     "output_type": "display_data"
    }
   ],
   "source": [
    "# 3. Categorize variables\n",
    "res.cat <- surv_categorize(res.cut)\n",
    "head(res.cat)"
   ]
  },
  {
   "cell_type": "code",
   "execution_count": 25,
   "metadata": {
    "vscode": {
     "languageId": "r"
    }
   },
   "outputs": [
    {
     "data": {
      "text/html": [
       "<style>\n",
       ".list-inline {list-style: none; margin:0; padding: 0}\n",
       ".list-inline>li {display: inline-block}\n",
       ".list-inline>li:not(:last-child)::after {content: \"\\00b7\"; padding: 0 .5ex}\n",
       "</style>\n",
       "<ol class=list-inline><li>'data.frame'</li><li>'surv_categorize'</li></ol>\n"
      ],
      "text/latex": [
       "\\begin{enumerate*}\n",
       "\\item 'data.frame'\n",
       "\\item 'surv\\_categorize'\n",
       "\\end{enumerate*}\n"
      ],
      "text/markdown": [
       "1. 'data.frame'\n",
       "2. 'surv_categorize'\n",
       "\n",
       "\n"
      ],
      "text/plain": [
       "[1] \"data.frame\"      \"surv_categorize\""
      ]
     },
     "metadata": {},
     "output_type": "display_data"
    }
   ],
   "source": [
    "class(res.cat)"
   ]
  },
  {
   "cell_type": "code",
   "execution_count": 27,
   "metadata": {
    "vscode": {
     "languageId": "r"
    }
   },
   "outputs": [],
   "source": [
    "res.cat$tumor_to_immune_mark_value = factor(res.cat$tumor_to_immune_mark_value, levels =  c(\"low\",\"high\"))"
   ]
  },
  {
   "cell_type": "code",
   "execution_count": 28,
   "metadata": {
    "vscode": {
     "languageId": "r"
    }
   },
   "outputs": [
    {
     "data": {
      "text/html": [
       "<table class=\"dataframe\">\n",
       "<caption>A data.frame: 6 × 3</caption>\n",
       "<thead>\n",
       "\t<tr><th></th><th scope=col>Survival_days</th><th scope=col>Status_Cox</th><th scope=col>tumor_to_immune_mark_value</th></tr>\n",
       "\t<tr><th></th><th scope=col>&lt;dbl&gt;</th><th scope=col>&lt;int&gt;</th><th scope=col>&lt;fct&gt;</th></tr>\n",
       "</thead>\n",
       "<tbody>\n",
       "\t<tr><th scope=row>AML_Beat_12_00051</th><td>1.936986</td><td>1</td><td>low </td></tr>\n",
       "\t<tr><th scope=row>AML_Beat_12_00211</th><td>3.824658</td><td>0</td><td>low </td></tr>\n",
       "\t<tr><th scope=row>AML_Beat_13_00157</th><td>3.778082</td><td>0</td><td>low </td></tr>\n",
       "\t<tr><th scope=row>AML_Beat_13_00163</th><td>1.095890</td><td>0</td><td>low </td></tr>\n",
       "\t<tr><th scope=row>AML_Beat_13_00232</th><td>2.742466</td><td>0</td><td>low </td></tr>\n",
       "\t<tr><th scope=row>AML_Beat_13_00245</th><td>2.347945</td><td>0</td><td>high</td></tr>\n",
       "</tbody>\n",
       "</table>\n"
      ],
      "text/latex": [
       "A data.frame: 6 × 3\n",
       "\\begin{tabular}{r|lll}\n",
       "  & Survival\\_days & Status\\_Cox & tumor\\_to\\_immune\\_mark\\_value\\\\\n",
       "  & <dbl> & <int> & <fct>\\\\\n",
       "\\hline\n",
       "\tAML\\_Beat\\_12\\_00051 & 1.936986 & 1 & low \\\\\n",
       "\tAML\\_Beat\\_12\\_00211 & 3.824658 & 0 & low \\\\\n",
       "\tAML\\_Beat\\_13\\_00157 & 3.778082 & 0 & low \\\\\n",
       "\tAML\\_Beat\\_13\\_00163 & 1.095890 & 0 & low \\\\\n",
       "\tAML\\_Beat\\_13\\_00232 & 2.742466 & 0 & low \\\\\n",
       "\tAML\\_Beat\\_13\\_00245 & 2.347945 & 0 & high\\\\\n",
       "\\end{tabular}\n"
      ],
      "text/markdown": [
       "\n",
       "A data.frame: 6 × 3\n",
       "\n",
       "| <!--/--> | Survival_days &lt;dbl&gt; | Status_Cox &lt;int&gt; | tumor_to_immune_mark_value &lt;fct&gt; |\n",
       "|---|---|---|---|\n",
       "| AML_Beat_12_00051 | 1.936986 | 1 | low  |\n",
       "| AML_Beat_12_00211 | 3.824658 | 0 | low  |\n",
       "| AML_Beat_13_00157 | 3.778082 | 0 | low  |\n",
       "| AML_Beat_13_00163 | 1.095890 | 0 | low  |\n",
       "| AML_Beat_13_00232 | 2.742466 | 0 | low  |\n",
       "| AML_Beat_13_00245 | 2.347945 | 0 | high |\n",
       "\n"
      ],
      "text/plain": [
       "                  Survival_days Status_Cox tumor_to_immune_mark_value\n",
       "AML_Beat_12_00051 1.936986      1          low                       \n",
       "AML_Beat_12_00211 3.824658      0          low                       \n",
       "AML_Beat_13_00157 3.778082      0          low                       \n",
       "AML_Beat_13_00163 1.095890      0          low                       \n",
       "AML_Beat_13_00232 2.742466      0          low                       \n",
       "AML_Beat_13_00245 2.347945      0          high                      "
      ]
     },
     "metadata": {},
     "output_type": "display_data"
    }
   ],
   "source": [
    "head(res.cat)"
   ]
  },
  {
   "cell_type": "code",
   "execution_count": null,
   "metadata": {
    "vscode": {
     "languageId": "r"
    }
   },
   "outputs": [],
   "source": [
    "## "
   ]
  },
  {
   "cell_type": "code",
   "execution_count": 26,
   "metadata": {
    "vscode": {
     "languageId": "r"
    }
   },
   "outputs": [],
   "source": [
    "output_f = file.path(output_dir,\"20250723_10_1_Risk_Model_Build_Union_420_res.cat.xls\")\n",
    "write.table(res.cat,file=output_f,sep=\"\\t\",row.names=F,quote=F)"
   ]
  },
  {
   "cell_type": "code",
   "execution_count": null,
   "metadata": {
    "vscode": {
     "languageId": "r"
    }
   },
   "outputs": [],
   "source": [
    "## Draw the survival curve"
   ]
  },
  {
   "cell_type": "code",
   "execution_count": 30,
   "metadata": {
    "vscode": {
     "languageId": "r"
    }
   },
   "outputs": [],
   "source": [
    "if(TRUE){  \n",
    "  fit_Group <- survfit(Surv(Survival_days,Status_Cox) ~ risk, data = res.cat) \n",
    "  \n",
    "  #summary(fit_Group)\n",
    "  \n",
    "  surv_object = ggsurvplot(fit_Group, data = trainRiskOut,  \n",
    "                           surv.median.line = \"hv\",\n",
    "                           conf.int = FALSE,\n",
    "                           conf.int.alpha = 0.1,\n",
    "                           risk.table = TRUE,\n",
    "                           align = \"hv\",\n",
    "                           pval = TRUE,\n",
    "                           palette = c(\"#d52331\",\"#2671b2\"), \n",
    "                           title = paste0(\"Union(20) Model Risk Group train(n=294)\"),  \n",
    "                           xlab = \"Follow up time(d)\",\n",
    "                           legend = \"right\", # \n",
    "                           legend.title = \"Group\", \n",
    "                           break.x.by = 1,  # \n",
    "                           risk.table.y.text.col = TRUE, # \n",
    "                           risk.table.x.text.angle = 0,  # \n",
    "                           risk.table.height = 0.2,     # \n",
    "                           font.main = c(8, \"bold\", \"black\"),  \n",
    "  )\n",
    "  \n",
    "  library(patchwork)\n",
    "  plot_object = surv_object$plot / surv_object$table +\n",
    "    plot_layout(heights = c(5, 1))  \n",
    "  \n",
    "  output_f_path = file.path(output_dir,\"20250723_10_3_Risk_Model_Build_Union_420_res.cat.pdf\")\n",
    "  ggsave(filename=output_f_path,plot=plot_object,device=pdf,width=180,height=190,units=\"mm\") \n",
    "  \n",
    "}"
   ]
  }
 ],
 "metadata": {
  "kernelspec": {
   "display_name": "R",
   "language": "R",
   "name": "ir"
  },
  "language_info": {
   "codemirror_mode": "r",
   "file_extension": ".r",
   "mimetype": "text/x-r-source",
   "name": "R",
   "pygments_lexer": "r",
   "version": "4.3.2"
  }
 },
 "nbformat": 4,
 "nbformat_minor": 2
}
