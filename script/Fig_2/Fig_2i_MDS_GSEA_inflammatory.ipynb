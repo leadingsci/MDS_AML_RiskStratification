{
 "cells": [
  {
   "cell_type": "code",
   "execution_count": 1,
   "metadata": {
    "vscode": {
     "languageId": "r"
    }
   },
   "outputs": [
    {
     "data": {
      "text/html": [
       "<style>\n",
       ".list-inline {list-style: none; margin:0; padding: 0}\n",
       ".list-inline>li {display: inline-block}\n",
       ".list-inline>li:not(:last-child)::after {content: \"\\00b7\"; padding: 0 .5ex}\n",
       "</style>\n",
       "<ol class=list-inline><li>'/share/home/bioinfo/anaconda3/envs/R-4.2.3/lib/R/library'</li><li>'/share/apps/Anaconda3/2021.05/envs/R-4.2/lib/R/library'</li><li>'/share/home/wyz/miniconda3/envs/r423base/lib/R/library'</li><li>'/share/home/wyz/miniconda3/envs/R423base_ipynb/lib/R/library'</li></ol>\n"
      ],
      "text/latex": [
       "\\begin{enumerate*}\n",
       "\\item '/share/home/bioinfo/anaconda3/envs/R-4.2.3/lib/R/library'\n",
       "\\item '/share/apps/Anaconda3/2021.05/envs/R-4.2/lib/R/library'\n",
       "\\item '/share/home/wyz/miniconda3/envs/r423base/lib/R/library'\n",
       "\\item '/share/home/wyz/miniconda3/envs/R423base\\_ipynb/lib/R/library'\n",
       "\\end{enumerate*}\n"
      ],
      "text/markdown": [
       "1. '/share/home/bioinfo/anaconda3/envs/R-4.2.3/lib/R/library'\n",
       "2. '/share/apps/Anaconda3/2021.05/envs/R-4.2/lib/R/library'\n",
       "3. '/share/home/wyz/miniconda3/envs/r423base/lib/R/library'\n",
       "4. '/share/home/wyz/miniconda3/envs/R423base_ipynb/lib/R/library'\n",
       "\n",
       "\n"
      ],
      "text/plain": [
       "[1] \"/share/home/bioinfo/anaconda3/envs/R-4.2.3/lib/R/library\"    \n",
       "[2] \"/share/apps/Anaconda3/2021.05/envs/R-4.2/lib/R/library\"      \n",
       "[3] \"/share/home/wyz/miniconda3/envs/r423base/lib/R/library\"      \n",
       "[4] \"/share/home/wyz/miniconda3/envs/R423base_ipynb/lib/R/library\""
      ]
     },
     "metadata": {},
     "output_type": "display_data"
    }
   ],
   "source": [
    "rm(list = ls())\n",
    "\n",
    ".libPaths()\n",
    "options(warn=1)"
   ]
  },
  {
   "cell_type": "code",
   "execution_count": 2,
   "metadata": {
    "vscode": {
     "languageId": "r"
    }
   },
   "outputs": [
    {
     "name": "stderr",
     "output_type": "stream",
     "text": [
      "── \u001b[1mAttaching core tidyverse packages\u001b[22m ──────────────────────── tidyverse 2.0.0 ──\n",
      "\u001b[32m✔\u001b[39m \u001b[34mdplyr    \u001b[39m 1.1.4     \u001b[32m✔\u001b[39m \u001b[34mstringr  \u001b[39m 1.5.0\n",
      "\u001b[32m✔\u001b[39m \u001b[34mforcats  \u001b[39m 1.0.0     \u001b[32m✔\u001b[39m \u001b[34mtibble   \u001b[39m 3.2.1\n",
      "\u001b[32m✔\u001b[39m \u001b[34mlubridate\u001b[39m 1.9.3     \u001b[32m✔\u001b[39m \u001b[34mtidyr    \u001b[39m 1.3.1\n",
      "\u001b[32m✔\u001b[39m \u001b[34mpurrr    \u001b[39m 1.0.2     \n",
      "── \u001b[1mConflicts\u001b[22m ────────────────────────────────────────── tidyverse_conflicts() ──\n",
      "\u001b[31m✖\u001b[39m \u001b[34mdplyr\u001b[39m::\u001b[32mfilter()\u001b[39m masks \u001b[34mstats\u001b[39m::filter()\n",
      "\u001b[31m✖\u001b[39m \u001b[34mdplyr\u001b[39m::\u001b[32mlag()\u001b[39m    masks \u001b[34mstats\u001b[39m::lag()\n",
      "\u001b[36mℹ\u001b[39m Use the conflicted package (\u001b[3m\u001b[34m<http://conflicted.r-lib.org/>\u001b[39m\u001b[23m) to force all conflicts to become errors\n"
     ]
    }
   ],
   "source": [
    "# Load Package ------------------------------------------------------------\n",
    "\n",
    "# devtools::install_github(\"satijalab/seurat\", ref = \"develop\")\n",
    "{\n",
    "  library(readr) #R 4.2.2 #R 4.2.3\n",
    "  library(ggplot2); #R 4.2.2 #R 4.2.3\n",
    "  library(tidyverse); #R 4.2.2\n",
    "  library(openxlsx); #R 4.2.3\n",
    "  library(readxl); #R 4.2.3\n",
    "  library(dplyr); #R 4.2.2 #R 4.2.3\n",
    "  \n",
    "  library(pheatmap) #R 4.2.2 #R 4.2.3\n",
    "  library(ggrastr) #R 4.2.3\n",
    "  library(ggpubr) #R 4.2.2 #R 4.2.3\n",
    "\n",
    "  \n",
    "}\n"
   ]
  },
  {
   "cell_type": "code",
   "execution_count": 3,
   "metadata": {
    "vscode": {
     "languageId": "r"
    }
   },
   "outputs": [],
   "source": [
    "# input path --------------------------------------------------------------\n",
    "\n",
    "if (TRUE){\n",
    "\n",
    "  ## output\n",
    "  output_dir = \"/share/home/wyz/Project/result/2025/202507/20250711_1_MDS_GSE58831_split_group_dotplot/20250806_1_Chip_DiffGene_limma_GSE58831_Pvalue_barplot\"\n",
    "  \n",
    "}\n"
   ]
  },
  {
   "cell_type": "code",
   "execution_count": 4,
   "metadata": {
    "vscode": {
     "languageId": "r"
    }
   },
   "outputs": [
    {
     "name": "stdout",
     "output_type": "stream",
     "text": [
      "[1] 13 12\n",
      "                                         ID\n",
      "1                     BIOCARTA_MAPK_PATHWAY\n",
      "2         HINATA_NFKB_TARGETS_FIBROBLAST_UP\n",
      "3                     DASU_IL6_SIGNALING_UP\n",
      "4                     BIOCARTA_IL1R_PATHWAY\n",
      "5                           PID_TNF_PATHWAY\n",
      "6 KEGG_TOLL_LIKE_RECEPTOR_SIGNALING_PATHWAY\n",
      "                                Description setSize enrichmentScore      NES\n",
      "1                     BIOCARTA_MAPK_PATHWAY      80       0.6056241 1.857851\n",
      "2         HINATA_NFKB_TARGETS_FIBROBLAST_UP      81       0.6179529 1.917544\n",
      "3                     DASU_IL6_SIGNALING_UP      55       0.5471703 1.580991\n",
      "4                     BIOCARTA_IL1R_PATHWAY      30       0.7484072 1.958496\n",
      "5                           PID_TNF_PATHWAY      44       0.6500853 1.824812\n",
      "6 KEGG_TOLL_LIKE_RECEPTOR_SIGNALING_PATHWAY      97       0.5527578 1.776156\n",
      "        pvalue     p.adjust      qvalue rank                   leading_edge\n",
      "1 1.791008e-05 1.791008e-05          NA 3680 tags=50%, list=23%, signal=39%\n",
      "2 3.662073e-06 3.662073e-06          NA 1926 tags=35%, list=12%, signal=31%\n",
      "3 5.544339e-03 5.544339e-03          NA  772  tags=24%, list=5%, signal=23%\n",
      "4 1.458633e-05 1.458633e-05          NA 2659 tags=57%, list=17%, signal=47%\n",
      "5 2.527864e-04 2.527864e-04          NA 1720 tags=43%, list=11%, signal=39%\n",
      "6 5.459858e-05 1.435163e-03 0.001026289 2659 tags=40%, list=17%, signal=34%\n",
      "                                                                                                                                                                                                                                                                     core_enrichment\n",
      "1 NFKB1/RAF1/CEBPA/NFKBIA/MAP4K1/MKNK2/MAP3K8/RELA/RIPK1/TGFBR1/MKNK1/MAP2K5/IKBKB/PAK1/MAP3K3/MAPKAPK5/MAP2K1/MAP3K4/RPS6KA2/TRAF2/MAP2K4/MAPKAPK2/MAPKAPK3/RPS6KA1/MAP3K14/MAPK8/MAP3K11/RPS6KB2/MAP3K7/MAP3K2/MAPK14/MAPK6/RPS6KB1/MAP4K3/STAT1/SHC1/MAP4K4/RPS6KA5/MAP4K2/MAP2K7\n",
      "2                                                                                                              IER3/CXCL3/CCL20/CXCL1/TNFAIP3/CXCL8/CD83/PTX3/IRF1/GCH1/NFKB1/ICAM1/RELB/NFKBIA/IL6/IL1B/TNFAIP2/RELA/LITAF/GABBR1/VIM/SEC24A/BIRC2/TBC1D12/NFKB2/CXCL6/BTN3A3/ABCC1\n",
      "3                                                                                                                                                                                                           IER3/CXCL3/ZFP36/CXCL8/DNM1/GEM/MAFF/ATP2B1/IL6/LY6E/TNFAIP6/IRF9/CDC25B\n",
      "4                                                                                                                                                                               TRAF6/IL1RAP/NFKB1/NFKBIA/IL6/IL1B/TNF/RELA/IL1A/IKBKB/MYD88/MAP3K14/IL1RN/MAPK8/MAP3K7/IRAK3/MAPK14\n",
      "5                                                                                                                                                             TNFAIP3/BIRC3/NFKB1/CYLD/TNFRSF1A/TNFRSF1B/MADD/TNF/RELA/RIPK1/SQSTM1/IKBKB/NSMAF/ADAM17/MAP3K3/BIRC2/TRAF2/PRKCZ/FADD\n",
      "6                                              CCL4/TRAF6/CXCL8/TLR2/NFKB1/NFKBIA/IRF7/CXCL10/IL6/IL1B/TNF/MAP3K8/CXCL11/RELA/RIPK1/TICAM1/PIK3R1/IKBKB/TBK1/SPP1/IRF3/AKT2/MAP2K1/TRAF3/TLR1/MAP2K4/PIK3CD/FADD/PIK3CA/MYD88/IRAK4/AKT1/CTSK/MAPK8/TLR4/PIK3R3/MAP3K7/IFNAR1/MAPK14\n",
      "  Neglog10Padj\n",
      "1     4.746900\n",
      "2     5.436261\n",
      "3     2.256150\n",
      "4     4.836051\n",
      "5     3.597246\n",
      "6     2.843099\n"
     ]
    }
   ],
   "source": [
    "# read ---------------------------------------------------------------\n",
    "{\n",
    "  input_f_path = \"/share/home/wyz/Project/result/2025/202507/20250711_1_MDS_GSE58831_split_group_dotplot/20250711_1_TRAF6_high_vs_low/20250710_1_Chip_DiffGene_limma_TRAF6_high_vs_low_pathway_merge_data.xls\"\n",
    "\n",
    "  TRAF6_high_vs_low_df = read.table(input_f_path,sep=\"\\t\",header = TRUE)\n",
    "\n",
    "  ##  select\n",
    "  print(dim(TRAF6_high_vs_low_df))\n",
    "  print(head(TRAF6_high_vs_low_df))\n",
    "}"
   ]
  },
  {
   "cell_type": "code",
   "execution_count": 5,
   "metadata": {
    "vscode": {
     "languageId": "r"
    }
   },
   "outputs": [
    {
     "name": "stdout",
     "output_type": "stream",
     "text": [
      "[1] 13 12\n",
      "                                         ID\n",
      "1                     BIOCARTA_MAPK_PATHWAY\n",
      "2         HINATA_NFKB_TARGETS_FIBROBLAST_UP\n",
      "3                     DASU_IL6_SIGNALING_UP\n",
      "4                     BIOCARTA_IL1R_PATHWAY\n",
      "5                           PID_TNF_PATHWAY\n",
      "6 KEGG_TOLL_LIKE_RECEPTOR_SIGNALING_PATHWAY\n",
      "                                Description setSize enrichmentScore       NES\n",
      "1                     BIOCARTA_MAPK_PATHWAY      80       0.3539031 1.2323301\n",
      "2         HINATA_NFKB_TARGETS_FIBROBLAST_UP      81       0.2871410 0.9974566\n",
      "3                     DASU_IL6_SIGNALING_UP      55       0.3206809 1.0339535\n",
      "4                     BIOCARTA_IL1R_PATHWAY      30       0.3483780 0.9963459\n",
      "5                           PID_TNF_PATHWAY      44       0.4393148 1.3882534\n",
      "6 KEGG_TOLL_LIKE_RECEPTOR_SIGNALING_PATHWAY      97       0.4796211 1.7591573\n",
      "        pvalue    p.adjust       qvalue rank                   leading_edge\n",
      "1 7.234276e-02 0.072342759           NA 3171 tags=34%, list=20%, signal=27%\n",
      "2 4.852941e-01 0.485294118           NA 2106 tags=23%, list=13%, signal=20%\n",
      "3 3.663366e-01 0.366336634           NA 1926 tags=29%, list=12%, signal=26%\n",
      "4 4.574780e-01 0.457478006           NA 3016 tags=37%, list=19%, signal=30%\n",
      "5 5.026951e-02 0.050269509           NA 3109 tags=50%, list=19%, signal=40%\n",
      "6 7.543842e-05 0.001350577 0.0008421789 2471 tags=31%, list=15%, signal=26%\n",
      "                                                                                                                                                             core_enrichment\n",
      "1 JUN/MAP3K7/MAP4K2/FOS/RAPGEF2/PAK1/MKNK1/MAP4K4/STAT1/MAP4K1/TGFBR1/MKNK2/MAP3K3/MAPK3/MAP3K4/TGFB1/MAPK13/MAP2K5/IKBKB/MAX/MAP3K2/MAP3K14/MAP3K11/TRADD/CEBPA/MAP2K7/RAF1\n",
      "2                                                           CXCL3/VIM/GABBR1/CXCL1/MYBL1/LITAF/CD83/TNFAIP2/TAF15/CXCL5/IL1B/SELE/TNFAIP3/IL6/ICAM1/SERPINB2/CXCL8/GCH1/RND3\n",
      "3                                                                         CXCL3/VEGFB/DNM1/IRF9/PLA2G4C/CD47/TMEM158/ZFP36/CDC25B/HLA-F/ATP2B1/IL6/SERPINB2/CEBPB/LY6E/CXCL8\n",
      "4                                                                                                           JUN/MAP3K7/IL1B/IL1RAP/IL6/IL1RN/TGFB1/IKBKB/MAP3K14/IRAK3/MYD88\n",
      "5                              TNFRSF1B/MAP3K7/MAP4K2/CYLD/TNIK/MADD/MAP4K4/STAT1/TNFAIP3/TNFRSF1A/PRKCZ/IKBKG/RFFL/MAP3K3/SQSTM1/BIRC3/NSMAF/IKBKB/TAB2/ADAM17/TRADD/MAP2K7\n",
      "6 CXCL9/CCL5/CXCL10/CD86/JUN/TLR2/MAP3K7/TLR1/TLR8/SPP1/TLR5/FOS/PIK3R3/IRAK4/IRF7/IL1B/CD14/TLR4/PIK3CD/PIK3R5/STAT1/PIK3CB/IL6/CXCL8/IKBKG/CXCL11/MAPK3/IFNAR1/AKT3/MAPK13\n",
      "  Neglog10Padj\n",
      "1    1.1406049\n",
      "2    0.3139950\n",
      "3    0.4361196\n",
      "4    0.3396298\n",
      "5    1.2986954\n",
      "6    2.8694807\n"
     ]
    }
   ],
   "source": [
    "# read ---------------------------------------------------------------\n",
    "{\n",
    "  input_f_path = \"/share/home/wyz/Project/result/2025/202507/20250711_1_MDS_GSE58831_split_group_dotplot/20250711_2_Chip_DiffGene_limma_Blast2to5_vs_Blast0to2/20250711_1_Chip_DiffGene_limma_Blast2to5_vs_Blast0to2_pathway_merge_data.xls\"\n",
    "\n",
    "  Blast2to5_vs_Blast0to2_df = read.table(input_f_path,sep=\"\\t\",header = TRUE)\n",
    "\n",
    "  ## select\n",
    "  print(dim(Blast2to5_vs_Blast0to2_df))\n",
    "  print(head(Blast2to5_vs_Blast0to2_df))\n",
    "}"
   ]
  },
  {
   "cell_type": "code",
   "execution_count": 6,
   "metadata": {
    "vscode": {
     "languageId": "r"
    }
   },
   "outputs": [
    {
     "name": "stdout",
     "output_type": "stream",
     "text": [
      "[1] 13 12\n",
      "                                         ID\n",
      "1                     BIOCARTA_MAPK_PATHWAY\n",
      "2         HINATA_NFKB_TARGETS_FIBROBLAST_UP\n",
      "3                     DASU_IL6_SIGNALING_UP\n",
      "4                     BIOCARTA_IL1R_PATHWAY\n",
      "5                           PID_TNF_PATHWAY\n",
      "6 KEGG_TOLL_LIKE_RECEPTOR_SIGNALING_PATHWAY\n",
      "                                Description setSize enrichmentScore        NES\n",
      "1                     BIOCARTA_MAPK_PATHWAY      80       0.2290713  0.7695659\n",
      "2         HINATA_NFKB_TARGETS_FIBROBLAST_UP      81      -0.2921279 -0.8110541\n",
      "3                     DASU_IL6_SIGNALING_UP      55       0.3093245  0.9704570\n",
      "4                     BIOCARTA_IL1R_PATHWAY      30       0.5450071  1.5086269\n",
      "5                           PID_TNF_PATHWAY      44       0.5184709  1.5803655\n",
      "6 KEGG_TOLL_LIKE_RECEPTOR_SIGNALING_PATHWAY      97       0.3813396  1.3094221\n",
      "      pvalue   p.adjust     qvalue rank                   leading_edge\n",
      "1 0.97714286 0.97714286         NA 3719 tags=35%, list=23%, signal=27%\n",
      "2 0.83497537 0.83497537         NA 3264 tags=28%, list=20%, signal=23%\n",
      "3 0.48484848 0.48484848         NA 1522  tags=22%, list=9%, signal=20%\n",
      "4 0.01210512 0.01210512         NA 3248 tags=50%, list=20%, signal=40%\n",
      "5 0.01181164 0.01181164         NA 2325 tags=36%, list=14%, signal=31%\n",
      "6 0.02004372 0.08495668 0.06075278 2450 tags=27%, list=15%, signal=23%\n",
      "                                                                                                                                                                            core_enrichment\n",
      "1 MAP4K3/MAP3K7/JUN/FOS/MAP3K8/TGFBR1/RPS6KA5/MAP4K2/RAPGEF2/MAP3K5/MAP3K2/IKBKB/PAK1/MAP2K5/RPS6KA3/MAP3K14/MAP3K11/MAP3K1/TGFB1/MAX/MAPK8/MAP3K12/RPS6KA2/MAP2K7/MAPK6/MAP3K9/RAF1/MAP2K4\n",
      "2                                                  RAC1/RELB/MAPK9/RABEP1/MTSS1/ARF6/VEGFA/HDGF/SOD1/CCNH/MRPL33/NFKB1/SEC24A/FN1/EXOSC9/RPA2/AP2B1/G0S2/ADAMTS3/GTF2H4/CCNB1/RND3/SERPINB2\n",
      "3                                                                                                                       CXCL3/ATP2B1/CXCL8/MAFF/ZFP36/ANPEP/DNM1/LY6E/IER3/ZFP36L2/CD47/IL6\n",
      "4                                                                                                    IRAK3/IL1RAP/MAP3K7/IL1B/JUN/IL1A/IL6/IKBKB/TNF/MAP3K14/IRAK2/MAP3K1/TGFB1/IL1RN/MAPK8\n",
      "5                                                                                        PRKCZ/BIRC3/MAP4K3/CYLD/MAP3K7/TNFRSF1A/TAB2/BIRC2/NSMAF/MADD/MAP4K2/MAP3K5/ADAM17/IKBKB/CASP8/TNF\n",
      "6                                        TLR2/CXCL8/CXCL11/MAP3K7/IL1B/JUN/FOS/AKT3/MAP3K8/TAB2/PIK3CG/IL12A/IRAK4/PIK3CB/IL6/TLR3/PIK3R1/CXCL10/CCL4/IKBKB/SPP1/CASP8/TNF/TLR8/PIK3CA/IRF5\n",
      "  Neglog10Padj\n",
      "1   0.01004194\n",
      "2   0.07832634\n",
      "3   0.31439396\n",
      "4   1.91703091\n",
      "5   1.92768988\n",
      "6   1.07080245\n"
     ]
    }
   ],
   "source": [
    "# read ---------------------------------------------------------------\n",
    "{\n",
    "  input_f_path = \"/share/home/wyz/Project/result/2025/202507/20250711_1_MDS_GSE58831_split_group_dotplot/20250711_3_Chip_DiffGene_limma_Blast5to10_vs_Blast0to2/20241029_1_Chip_DiffGene_limma_Blast5to10_vs_Blast0to2_barplot_merge_data.xls\"\n",
    "\n",
    "  Blast5to10_vs_Blast0to2_df = read.table(input_f_path,sep=\"\\t\",header = TRUE)\n",
    "\n",
    "  ## select\n",
    "  print(dim(Blast5to10_vs_Blast0to2_df))\n",
    "  print(head(Blast5to10_vs_Blast0to2_df))\n",
    "}"
   ]
  },
  {
   "cell_type": "code",
   "execution_count": null,
   "metadata": {
    "vscode": {
     "languageId": "r"
    }
   },
   "outputs": [
    {
     "name": "stdout",
     "output_type": "stream",
     "text": [
      "[1] 13 12\n",
      "                                         ID\n",
      "1                     BIOCARTA_MAPK_PATHWAY\n",
      "2         HINATA_NFKB_TARGETS_FIBROBLAST_UP\n",
      "3                     DASU_IL6_SIGNALING_UP\n",
      "4                     BIOCARTA_IL1R_PATHWAY\n",
      "5                           PID_TNF_PATHWAY\n",
      "6 KEGG_TOLL_LIKE_RECEPTOR_SIGNALING_PATHWAY\n",
      "                                Description setSize enrichmentScore        NES\n",
      "1                     BIOCARTA_MAPK_PATHWAY      80       0.3237188  1.0762699\n",
      "2         HINATA_NFKB_TARGETS_FIBROBLAST_UP      81      -0.3642559 -0.9881714\n",
      "3                     DASU_IL6_SIGNALING_UP      55      -0.3052068 -0.7861217\n",
      "4                     BIOCARTA_IL1R_PATHWAY      30       0.5623346  1.5758071\n",
      "5                           PID_TNF_PATHWAY      44       0.4546284  1.3848917\n",
      "6 KEGG_TOLL_LIKE_RECEPTOR_SIGNALING_PATHWAY      97       0.3379642  1.1798654\n",
      "      pvalue   p.adjust    qvalue rank                   leading_edge\n",
      "1 0.28187919 0.28187919        NA 3676 tags=38%, list=23%, signal=29%\n",
      "2 0.52230047 0.52230047        NA 2728 tags=22%, list=17%, signal=19%\n",
      "3 0.83141762 0.83141762        NA 1368  tags=15%, list=9%, signal=13%\n",
      "4 0.01397685 0.01397685        NA  496  tags=20%, list=3%, signal=19%\n",
      "5 0.02961603 0.02961603        NA 1490  tags=27%, list=9%, signal=25%\n",
      "6 0.14102310 0.38525107 0.3019416 3099 tags=33%, list=19%, signal=27%\n",
      "                                                                                                                                                                                      core_enrichment\n",
      "1 JUN/FOS/MAP4K3/MAP3K7/MAP3K8/MAP3K1/TGFBR1/CEBPA/MAP4K2/RPS6KA5/MAP3K2/MAP2K5/TGFB1/RPS6KA2/IKBKB/MAP3K11/MAP4K5/MAX/RPS6KA4/MAPK3/MAPKAPK3/MAPK8/MKNK1/MAP2K7/PAK2/MAP2K4/MAP3K3/MAPK7/RELA/MAPK12\n",
      "2                                                                                             CDH2/RAC1/HDGF/VEGFA/ETS1/EXOSC9/SOD1/MTSS1/IER3/FN1/GTF2H4/RPA2/AP2B1/SERPINB2/RND3/ADAMTS3/CCNB1/G0S2\n",
      "3                                                                                                                                                   IER3/CCL2/TNFAIP6/CKS2/HTRA1/SERPINB2/CDC25B/RGL1\n",
      "4                                                                                                                                                                 JUN/IL1RAP/IRAK3/MAP3K7/IL1B/MAP3K1\n",
      "5                                                                                                                        BIRC3/MAP4K3/PRKCZ/TNFRSF1A/MAP3K7/CYLD/MAP3K1/MAP4K2/TAB2/NSMAF/ADAM17/MADD\n",
      "6          TLR2/JUN/CXCL8/FOS/MAP3K7/IL1B/MAP3K8/IRAK4/PIK3R1/AKT3/TAB2/PIK3CA/TLR4/IFNAR2/IL12A/SPP1/PIK3CB/IKBKB/IL6/TLR5/TRAF3/TLR3/PIK3CG/IRF7/PIK3R3/CASP8/IFNAR1/MAPK3/IRF5/MAPK8/PIK3CD/MAP2K7\n",
      "  Neglog10Padj\n",
      "1   0.54993698\n",
      "2   0.28207958\n",
      "3   0.08018077\n",
      "4   1.85459073\n",
      "5   1.52847318\n",
      "6   0.41425615\n"
     ]
    }
   ],
   "source": [
    "# read ---------------------------------------------------------------\n",
    "{\n",
    "  input_f_path = \"/share/home/wyz/Project/result/2025/202507/20250711_1_MDS_GSE58831_split_group_dotplot/20250712_1_Chip_DiffGene_limma_Blast10to20_vs_Blast0to2/20241029_1_Chip_DiffGene_limma_Blast10to20_vs_Blast0to2_barplot_merge_data.xls\"\n",
    "\n",
    "  Blast10to20_vs_Blast0to2_df = read.table(input_f_path,sep=\"\\t\",header = TRUE)\n",
    "\n",
    "  ## select\n",
    "  print(dim(Blast10to20_vs_Blast0to2_df))\n",
    "  print(head(Blast10to20_vs_Blast0to2_df))\n",
    "}"
   ]
  },
  {
   "cell_type": "code",
   "execution_count": null,
   "metadata": {
    "vscode": {
     "languageId": "r"
    }
   },
   "outputs": [
    {
     "name": "stdout",
     "output_type": "stream",
     "text": [
      "[1] 13 12\n",
      "                                         ID\n",
      "1                     BIOCARTA_MAPK_PATHWAY\n",
      "2         HINATA_NFKB_TARGETS_FIBROBLAST_UP\n",
      "3                     DASU_IL6_SIGNALING_UP\n",
      "4                     BIOCARTA_IL1R_PATHWAY\n",
      "5                           PID_TNF_PATHWAY\n",
      "6 KEGG_TOLL_LIKE_RECEPTOR_SIGNALING_PATHWAY\n",
      "                                Description setSize enrichmentScore        NES\n",
      "1                     BIOCARTA_MAPK_PATHWAY      80      -0.3052662 -0.7690315\n",
      "2         HINATA_NFKB_TARGETS_FIBROBLAST_UP      81      -0.4935187 -1.2518100\n",
      "3                     DASU_IL6_SIGNALING_UP      55      -0.4144977 -1.0137666\n",
      "4                     BIOCARTA_IL1R_PATHWAY      30       0.3066560  0.8586704\n",
      "5                           PID_TNF_PATHWAY      44       0.2962511  0.9475975\n",
      "6 KEGG_TOLL_LIKE_RECEPTOR_SIGNALING_PATHWAY      97      -0.3689096 -0.9438032\n",
      "     pvalue  p.adjust    qvalue rank                   leading_edge\n",
      "1 0.8688172 0.8688172        NA 2875 tags=21%, list=18%, signal=18%\n",
      "2 0.1126761 0.1126761        NA 3436 tags=33%, list=21%, signal=26%\n",
      "3 0.4672790 0.4672790        NA 4333 tags=42%, list=27%, signal=31%\n",
      "4 0.7000000 0.7000000        NA 1960 tags=20%, list=12%, signal=18%\n",
      "5 0.5928571 0.5928571        NA 2372 tags=34%, list=15%, signal=29%\n",
      "6 0.6048988 0.8358209 0.6789849 2875 tags=21%, list=18%, signal=17%\n",
      "                                                                                                                                                      core_enrichment\n",
      "1                                                             MAPK1/MAP4K4/DAXX/TGFB1/SHC1/MAP2K2/GRB2/NFKB1/MAPKAPK5/RAC1/RPS6KA1/CHUK/HRAS/MAP2K1/MKNK2/RPS6KB2/MYC\n",
      "2 ARHGDIA/RELB/EXOSC9/ICAM1/ETS1/IER3/RABEP1/SOD1/GADD45A/NFKB1/TNFAIP3/FN1/ARF6/RAC1/VEGFA/SEC24A/HDGF/RPA2/PTX3/MTSS1/AP2B1/GTF2H4/SERPINB2/RND3/CCNB1/ADAMTS3/G0S2\n",
      "3                               IRAK1/DNM2/GEM/SREBF1/MMP1/VEGFB/NMB/FASN/KHSRP/TMEM158/IER3/TGFB1/NAGPA/IRF9/MAP2K2/ENG/CKS2/CCL2/HTRA1/CDC25B/TNFAIP6/SERPINB2/RGL1\n",
      "4                                                                                                                                  JUN/IRAK3/IL1RAP/IKBKB/MAP3K7/IL1A\n",
      "5                                                                        PRKCZ/CYLD/BIRC3/MAP4K3/MADD/NSMAF/IKBKB/CASP8/MAP3K7/BIRC2/TRADD/MAP4K2/TNFRSF1A/SMPD2/TAB2\n",
      "6                                                       MAPK1/TBK1/TICAM1/TLR8/MAP2K2/AKT1/NFKB1/CCL5/LBP/RAC1/TLR1/CHUK/MAP2K1/CXCL9/FADD/TLR4/CXCL10/CCL4/LY96/CD14\n",
      "  Neglog10Padj\n",
      "1   0.06107159\n",
      "2   0.94816836\n",
      "3   0.33042375\n",
      "4   0.15490196\n",
      "5   0.22704994\n",
      "6   0.07788678\n"
     ]
    }
   ],
   "source": [
    "# read ---------------------------------------------------------------\n",
    "{\n",
    "  input_f_path = \"/share/home/wyz/Project/result/2025/202507/20250711_1_MDS_GSE58831_split_group_dotplot/20250713_1_Chip_DiffGene_limma_Blast20to_vs_Blast0to2/20241029_1_Chip_DiffGene_limma_Blast20to_vs_Blast0to2_barplot_merge_data.xls\"\n",
    "\n",
    "  Blast20to_vs_Blast0to2_df = read.table(input_f_path,sep=\"\\t\",header = TRUE)\n",
    "\n",
    "  ## select\n",
    "  print(dim(Blast20to_vs_Blast0to2_df))\n",
    "  print(head(Blast20to_vs_Blast0to2_df))\n",
    "}"
   ]
  },
  {
   "cell_type": "code",
   "execution_count": 9,
   "metadata": {
    "vscode": {
     "languageId": "r"
    }
   },
   "outputs": [
    {
     "name": "stdout",
     "output_type": "stream",
     "text": [
      "[1] 13 12\n",
      "                                         ID\n",
      "1                     BIOCARTA_MAPK_PATHWAY\n",
      "2         HINATA_NFKB_TARGETS_FIBROBLAST_UP\n",
      "3                     DASU_IL6_SIGNALING_UP\n",
      "4                     BIOCARTA_IL1R_PATHWAY\n",
      "5                           PID_TNF_PATHWAY\n",
      "6 KEGG_TOLL_LIKE_RECEPTOR_SIGNALING_PATHWAY\n",
      "                                Description setSize enrichmentScore       NES\n",
      "1                     BIOCARTA_MAPK_PATHWAY      80       0.4734971 1.4206653\n",
      "2         HINATA_NFKB_TARGETS_FIBROBLAST_UP      81       0.2979013 0.8958236\n",
      "3                     DASU_IL6_SIGNALING_UP      55       0.4453990 1.2649154\n",
      "4                     BIOCARTA_IL1R_PATHWAY      30       0.5946175 1.5395376\n",
      "5                           PID_TNF_PATHWAY      44       0.5715644 1.5597112\n",
      "6 KEGG_TOLL_LIKE_RECEPTOR_SIGNALING_PATHWAY      97       0.6425170 1.9567524\n",
      "        pvalue     p.adjust       qvalue rank                   leading_edge\n",
      "1 1.768487e-02 1.768487e-02           NA 3564 tags=40%, list=22%, signal=31%\n",
      "2 6.700000e-01 6.700000e-01           NA 1801 tags=19%, list=11%, signal=17%\n",
      "3 1.140741e-01 1.140741e-01           NA 1941 tags=29%, list=12%, signal=26%\n",
      "4 2.185143e-02 2.185143e-02           NA 2949 tags=40%, list=18%, signal=33%\n",
      "5 1.079381e-02 1.079381e-02           NA 2459 tags=36%, list=15%, signal=31%\n",
      "6 8.712475e-07 7.097662e-05 5.522208e-05 2958 tags=43%, list=18%, signal=36%\n",
      "                                                                                                                                                                                                                                    core_enrichment\n",
      "1                                         STAT1/MAP4K3/JUN/IKBKB/RAF1/FOS/CEBPA/PAK1/MAP4K2/MAP2K1/MAP3K8/MAP3K3/TGFBR1/RPS6KA2/MKNK1/MAP4K1/MAP3K11/MAP2K4/TGFB1/MAP2K5/RELA/MAPK13/MAP3K7/MAPK3/RAPGEF2/MAPK12/MAPK14/MAPK7/TRADD/SHC1/PAK2/RIPK1\n",
      "2                                                                                                                                                       CXCL3/CXCL1/BTN3A3/LITAF/GABBR1/TBC1D12/IRF1/GCH1/TNFAIP2/CXCL6/VIM/RND3/IL1B/ABCC1/TNFAIP8\n",
      "3                                                                                                                                                   IRF9/LY6E/CXCL3/DNM1/EMILIN1/RGL1/HLA-F/CCL2/CEBPB/ZFP36/PLA2G4C/ANPEP/VEGFB/ZFP36L2/TGFB1/GAS6\n",
      "4                                                                                                                                                                            JUN/IKBKB/IL1RAP/IRAK3/MYD88/TRAF6/IL1B/TGFB1/IL1R1/RELA/MAP3K7/MAPK14\n",
      "5                                                                                                                                            PRKCZ/STAT1/MAP4K3/TNFRSF1B/TNFRSF1A/IKBKB/CYLD/TAB2/MAP4K2/MAP3K3/MADD/RELA/SQSTM1/NSMAF/BIRC3/MAP3K7\n",
      "6 CXCL10/CD14/CXCL9/CD86/CCL4/STAT1/IRF7/TLR2/PIK3R3/TLR8/JUN/IKBKB/TLR5/FOS/LY96/MYD88/TAB2/IRF3/MAP2K1/TLR4/MAP3K8/IFNAR1/TLR3/TRAF6/IL1B/IL12A/MAP2K4/RELA/PIK3R5/IRF5/MAPK13/CXCL11/MAP3K7/SPP1/AKT3/IRAK4/AKT1/MAPK3/MAPK12/TLR7/MAPK14/PIK3CD\n",
      "  Neglog10Padj\n",
      "1    1.7523981\n",
      "2    0.1739252\n",
      "3    0.9428130\n",
      "4    1.6605201\n",
      "5    1.9668251\n",
      "6    4.1488841\n"
     ]
    }
   ],
   "source": [
    "# read ---------------------------------------------------------------\n",
    "{\n",
    "  input_f_path = \"/share/home/wyz/Project/result/2025/202507/20250711_1_MDS_GSE58831_split_group_dotplot/20250713_2_Chip_DiffGene_limma_Year0toYear1_vs_Year5up/20241029_1_Chip_DiffGene_limma_Year0toYear1_vs_Year5up_barplot_merge_data.xls\"\n",
    "\n",
    "  Year0toYear1_vs_Year5up_df = read.table(input_f_path,sep=\"\\t\",header = TRUE)\n",
    "\n",
    "  ## select\n",
    "  print(dim(Year0toYear1_vs_Year5up_df))\n",
    "  print(head(Year0toYear1_vs_Year5up_df))\n",
    "}"
   ]
  },
  {
   "cell_type": "code",
   "execution_count": 10,
   "metadata": {
    "vscode": {
     "languageId": "r"
    }
   },
   "outputs": [
    {
     "name": "stdout",
     "output_type": "stream",
     "text": [
      "[1] 13 12\n",
      "                                         ID\n",
      "1                     BIOCARTA_MAPK_PATHWAY\n",
      "2         HINATA_NFKB_TARGETS_FIBROBLAST_UP\n",
      "3                     DASU_IL6_SIGNALING_UP\n",
      "4                     BIOCARTA_IL1R_PATHWAY\n",
      "5                           PID_TNF_PATHWAY\n",
      "6 KEGG_TOLL_LIKE_RECEPTOR_SIGNALING_PATHWAY\n",
      "                                Description setSize enrichmentScore      NES\n",
      "1                     BIOCARTA_MAPK_PATHWAY      80       0.5154399 1.515148\n",
      "2         HINATA_NFKB_TARGETS_FIBROBLAST_UP      81       0.5065438 1.478479\n",
      "3                     DASU_IL6_SIGNALING_UP      55       0.6159916 1.706969\n",
      "4                     BIOCARTA_IL1R_PATHWAY      30       0.6518744 1.657729\n",
      "5                           PID_TNF_PATHWAY      44       0.6098091 1.634488\n",
      "6 KEGG_TOLL_LIKE_RECEPTOR_SIGNALING_PATHWAY      97       0.6385753 1.886026\n",
      "        pvalue     p.adjust       qvalue rank                   leading_edge\n",
      "1 5.323073e-03 5.323073e-03           NA 3283 tags=41%, list=20%, signal=33%\n",
      "2 9.307049e-03 9.307049e-03           NA 2458 tags=33%, list=15%, signal=28%\n",
      "3 2.787881e-04 2.787881e-04           NA 2643 tags=45%, list=16%, signal=38%\n",
      "4 3.364672e-03 3.364672e-03           NA 2503 tags=50%, list=16%, signal=42%\n",
      "5 3.784444e-03 3.784444e-03           NA 2687 tags=48%, list=17%, signal=40%\n",
      "6 1.198451e-07 2.205151e-05 1.892292e-05 3056 tags=47%, list=19%, signal=39%\n",
      "                                                                                                                                                                                                                                                     core_enrichment\n",
      "1                                                        MAP4K3/TGFB1/JUN/CEBPA/FOS/MKNK2/RAF1/MAP3K8/RELA/IKBKB/RAPGEF2/MAPK7/NFKB1/MAP4K2/MAP3K7/MAP2K5/MAP3K3/RPS6KA2/SP1/TGFBR1/MYC/NFKBIA/RIPK1/SHC1/PAK2/STAT1/MAP2K1/RPS6KA5/MAPK14/MAP3K11/PAK1/RPS6KA4/HRAS\n",
      "2                                                                                                    CXCL1/CXCL8/CXCL3/VIM/ICAM1/IL6/CCL20/LITAF/TNFAIP2/BTN3A3/GABBR1/TNFAIP3/RELA/IRF1/TAF15/IL1B/RND3/ABCC1/SEC24A/NFKB1/PTX3/IER3/GCH1/TBC1D12/CXCL6/CD83/NFKBIA\n",
      "3                                                                                                                       IRF9/CXCL8/ZFP36/CXCL3/ATP2B1/DNM1/CCL2/TGFB1/CEBPB/ZFP36L2/VEGFB/IL6/ANPEP/LY6E/FASN/RGL1/ENG/GEM/MGRN1/IER3/CDC25B/NAGPA/SREBF1/MAFF/HLA-F\n",
      "4                                                                                                                                                                               TGFB1/IL1R1/JUN/IL6/RELA/TNF/IKBKB/IL1B/NFKB1/IL1RAP/IRAK3/MAP3K7/TRAF6/NFKBIA/MYD88\n",
      "5                                                                                                                               TNFRSF1B/MAP4K3/TNFRSF1A/PRKCZ/TNFAIP3/RELA/TNF/CYLD/IKBKB/TAB2/ADAM17/NSMAF/BIRC3/NFKB1/SQSTM1/MAP4K2/MAP3K7/MAP3K3/TXN/RIPK1/STAT1\n",
      "6 CCL4/CXCL10/CXCL8/CD14/JUN/LY96/FOS/IL6/CXCL9/MAP3K8/CD86/PIK3R3/TLR4/CXCL11/RELA/IRF7/TLR2/TNF/IKBKB/TAB2/IL1B/IL12A/IRAK4/NFKB1/MAP3K7/TICAM1/SPP1/TRAF6/AKT1/IRF5/TLR8/TLR5/TBK1/PIK3R5/NFKBIA/MYD88/RIPK1/TLR3/IFNAR1/STAT1/AKT2/MAP2K1/CTSK/MAPK14/AKT3/TRAF3\n",
      "  Neglog10Padj\n",
      "1     2.273838\n",
      "2     2.031188\n",
      "3     3.554726\n",
      "4     2.473057\n",
      "5     2.421998\n",
      "6     4.656560\n"
     ]
    }
   ],
   "source": [
    "# read ---------------------------------------------------------------\n",
    "{\n",
    "  input_f_path = \"/share/home/wyz/Project/result/2025/202507/20250711_1_MDS_GSE58831_split_group_dotplot/20250713_3_Chip_DiffGene_limma_Year1toYear5_vs_Year5up/20241029_1_Chip_DiffGene_limma_Year1toYear5_vs_Year5up_barplot_merge_data.xls\"\n",
    "\n",
    "  Year1toYear5_vs_Year5up_df = read.table(input_f_path,sep=\"\\t\",header = TRUE)\n",
    "\n",
    "  ## select\n",
    "  print(dim(Year1toYear5_vs_Year5up_df))\n",
    "  print(head(Year1toYear5_vs_Year5up_df))\n",
    "}"
   ]
  },
  {
   "cell_type": "code",
   "execution_count": null,
   "metadata": {
    "vscode": {
     "languageId": "r"
    }
   },
   "outputs": [],
   "source": []
  },
  {
   "cell_type": "code",
   "execution_count": 11,
   "metadata": {
    "vscode": {
     "languageId": "r"
    }
   },
   "outputs": [],
   "source": [
    "## merge"
   ]
  },
  {
   "cell_type": "code",
   "execution_count": 11,
   "metadata": {
    "vscode": {
     "languageId": "r"
    }
   },
   "outputs": [],
   "source": [
    "{\n",
    "    TRAF6_high_vs_low_df  = data.frame(Group = rep(\"TRAF6_high_vs_low\", nrow(TRAF6_high_vs_low_df)), TRAF6_high_vs_low_df)\n",
    "\n",
    "    Blast2to5_vs_Blast0to2_df = data.frame(Group = rep(\"Blast2to5_vs_Blast0to2\", nrow(Blast2to5_vs_Blast0to2_df)), Blast2to5_vs_Blast0to2_df)\n",
    "    Blast5to10_vs_Blast0to2_df = data.frame(Group = rep(\"Blast5to10_vs_Blast0to2\", nrow(Blast5to10_vs_Blast0to2_df)), Blast5to10_vs_Blast0to2_df)\n",
    "    Blast10to20_vs_Blast0to2_df = data.frame(Group = rep(\"Blast10to20_vs_Blast0to2\", nrow(Blast10to20_vs_Blast0to2_df)), Blast10to20_vs_Blast0to2_df)\n",
    "    Blast20to_vs_Blast0to2_df = data.frame(Group = rep(\"Blast20to_vs_Blast0to2\", nrow(Blast20to_vs_Blast0to2_df)), Blast20to_vs_Blast0to2_df)\n",
    "\n",
    "    Year0toYear1_vs_Year5up_df = data.frame(Group = rep(\"Year0toYear1_vs_Year5up\", nrow(Year0toYear1_vs_Year5up_df)), Year0toYear1_vs_Year5up_df)\n",
    "    Year1toYear5_vs_Year5up_df = data.frame(Group = rep(\"Year1toYear5_vs_Year5up\", nrow(Year1toYear5_vs_Year5up_df)), Year1toYear5_vs_Year5up_df)\n",
    "}"
   ]
  },
  {
   "cell_type": "code",
   "execution_count": 12,
   "metadata": {
    "vscode": {
     "languageId": "r"
    }
   },
   "outputs": [
    {
     "name": "stdout",
     "output_type": "stream",
     "text": [
      "               Group                                        ID\n",
      "1  TRAF6_high_vs_low                     BIOCARTA_MAPK_PATHWAY\n",
      "2  TRAF6_high_vs_low         HINATA_NFKB_TARGETS_FIBROBLAST_UP\n",
      "3  TRAF6_high_vs_low                     DASU_IL6_SIGNALING_UP\n",
      "4  TRAF6_high_vs_low                     BIOCARTA_IL1R_PATHWAY\n",
      "5  TRAF6_high_vs_low                           PID_TNF_PATHWAY\n",
      "6  TRAF6_high_vs_low KEGG_TOLL_LIKE_RECEPTOR_SIGNALING_PATHWAY\n",
      "7  TRAF6_high_vs_low            HALLMARK_INFLAMMATORY_RESPONSE\n",
      "8  TRAF6_high_vs_low           KEGG_JAK_STAT_SIGNALING_PATHWAY\n",
      "9  TRAF6_high_vs_low                KEGG_WNT_SIGNALING_PATHWAY\n",
      "10 TRAF6_high_vs_low              KEGG_NOTCH_SIGNALING_PATHWAY\n",
      "11 TRAF6_high_vs_low           KEGG_HEDGEHOG_SIGNALING_PATHWAY\n",
      "12 TRAF6_high_vs_low                      GOBP_HIPPO_SIGNALING\n",
      "13 TRAF6_high_vs_low                      WP_PI3KAKT_SIGNALING\n",
      "                                 Description setSize enrichmentScore       NES\n",
      "1                      BIOCARTA_MAPK_PATHWAY      80       0.6056241 1.8578506\n",
      "2          HINATA_NFKB_TARGETS_FIBROBLAST_UP      81       0.6179529 1.9175445\n",
      "3                      DASU_IL6_SIGNALING_UP      55       0.5471703 1.5809914\n",
      "4                      BIOCARTA_IL1R_PATHWAY      30       0.7484072 1.9584958\n",
      "5                            PID_TNF_PATHWAY      44       0.6500853 1.8248119\n",
      "6  KEGG_TOLL_LIKE_RECEPTOR_SIGNALING_PATHWAY      97       0.5527578 1.7761562\n",
      "7             HALLMARK_INFLAMMATORY_RESPONSE     198       0.5842039 1.9962278\n",
      "8            KEGG_JAK_STAT_SIGNALING_PATHWAY     152       0.4515946 1.5005286\n",
      "9                 KEGG_WNT_SIGNALING_PATHWAY     146       0.4336562 1.4331071\n",
      "10              KEGG_NOTCH_SIGNALING_PATHWAY      46       0.4968602 1.3995936\n",
      "11           KEGG_HEDGEHOG_SIGNALING_PATHWAY      53       0.3343025 0.9534396\n",
      "12                      GOBP_HIPPO_SIGNALING      36       0.3151362 0.8528817\n",
      "13                      WP_PI3KAKT_SIGNALING     326       0.3352438 1.2075544\n",
      "         pvalue     p.adjust       qvalue rank                   leading_edge\n",
      "1  1.791008e-05 1.791008e-05           NA 3680 tags=50%, list=23%, signal=39%\n",
      "2  3.662073e-06 3.662073e-06           NA 1926 tags=35%, list=12%, signal=31%\n",
      "3  5.544339e-03 5.544339e-03           NA  772  tags=24%, list=5%, signal=23%\n",
      "4  1.458633e-05 1.458633e-05           NA 2659 tags=57%, list=17%, signal=47%\n",
      "5  2.527864e-04 2.527864e-04           NA 1720 tags=43%, list=11%, signal=39%\n",
      "6  5.459858e-05 1.435163e-03 1.026289e-03 2659 tags=40%, list=17%, signal=34%\n",
      "7  1.000000e-10 2.500000e-09 1.315789e-09 1967 tags=36%, list=12%, signal=32%\n",
      "8  1.674022e-03 2.112612e-02 1.619508e-02 3474 tags=31%, list=22%, signal=24%\n",
      "9  5.331420e-03 5.163059e-02 3.957952e-02 3457 tags=31%, list=22%, signal=24%\n",
      "10 6.750392e-02 2.070120e-01 1.586934e-01 4240 tags=52%, list=26%, signal=38%\n",
      "11 5.230525e-01 7.246091e-01 5.554784e-01 1150    tags=9%, list=7%, signal=9%\n",
      "12 6.715686e-01 8.299079e-01 7.253863e-01 4038 tags=28%, list=25%, signal=21%\n",
      "13 4.779412e-02 4.779412e-02           NA 2794 tags=22%, list=17%, signal=19%\n",
      "                                                                                                                                                                                                                                                                                                                                                                                                                                      core_enrichment\n",
      "1                                                                                                                                                                  NFKB1/RAF1/CEBPA/NFKBIA/MAP4K1/MKNK2/MAP3K8/RELA/RIPK1/TGFBR1/MKNK1/MAP2K5/IKBKB/PAK1/MAP3K3/MAPKAPK5/MAP2K1/MAP3K4/RPS6KA2/TRAF2/MAP2K4/MAPKAPK2/MAPKAPK3/RPS6KA1/MAP3K14/MAPK8/MAP3K11/RPS6KB2/MAP3K7/MAP3K2/MAPK14/MAPK6/RPS6KB1/MAP4K3/STAT1/SHC1/MAP4K4/RPS6KA5/MAP4K2/MAP2K7\n",
      "2                                                                                                                                                                                                                                                                               IER3/CXCL3/CCL20/CXCL1/TNFAIP3/CXCL8/CD83/PTX3/IRF1/GCH1/NFKB1/ICAM1/RELB/NFKBIA/IL6/IL1B/TNFAIP2/RELA/LITAF/GABBR1/VIM/SEC24A/BIRC2/TBC1D12/NFKB2/CXCL6/BTN3A3/ABCC1\n",
      "3                                                                                                                                                                                                                                                                                                                                                                            IER3/CXCL3/ZFP36/CXCL8/DNM1/GEM/MAFF/ATP2B1/IL6/LY6E/TNFAIP6/IRF9/CDC25B\n",
      "4                                                                                                                                                                                                                                                                                                                                                TRAF6/IL1RAP/NFKB1/NFKBIA/IL6/IL1B/TNF/RELA/IL1A/IKBKB/MYD88/MAP3K14/IL1RN/MAPK8/MAP3K7/IRAK3/MAPK14\n",
      "5                                                                                                                                                                                                                                                                                                                              TNFAIP3/BIRC3/NFKB1/CYLD/TNFRSF1A/TNFRSF1B/MADD/TNF/RELA/RIPK1/SQSTM1/IKBKB/NSMAF/ADAM17/MAP3K3/BIRC2/TRAF2/PRKCZ/FADD\n",
      "6                                                                                                                                                                                                               CCL4/TRAF6/CXCL8/TLR2/NFKB1/NFKBIA/IRF7/CXCL10/IL6/IL1B/TNF/MAP3K8/CXCL11/RELA/RIPK1/TICAM1/PIK3R1/IKBKB/TBK1/SPP1/IRF3/AKT2/MAP2K1/TRAF3/TLR1/MAP2K4/PIK3CD/FADD/PIK3CA/MYD88/IRAK4/AKT1/CTSK/MAPK8/TLR4/PIK3R3/MAP3K7/IFNAR1/MAPK14\n",
      "7       PROK2/CCL20/CXCL8/KCNJ2/TLR2/IRF1/ADM/GCH1/IL10RA/CDKN1A/NFKB1/F3/BTG2/INHBA/RAF1/C3AR1/CCRL2/PTPRE/ICAM1/GNA15/CSF3R/TNFRSF1B/NFKBIA/ATP2B1/SLC31A2/IRF7/BST2/CXCL10/IL6/IL1B/TPBG/LY6E/KIF1B/NLRP3/SGMS2/PDE4B/GPR183/ADORA2B/ITGA5/CXCL11/NOD2/RELA/IL1A/AQP9/TNFAIP6/GABBR1/GPR132/GNAI3/ABCA1/SELL/IL18R1/HBEGF/CD48/CCL7/PLAUR/IL15RA/ACVR2A/IL4R/TLR1/PTGER4/RHOG/P2RY2/MARCO/CLEC5A/TAPBP/CXCL6/PSEN1/STAB1/RIPK2/RGS16/RNF144B/LPAR1\n",
      "8                                                                                                                                                                  IL10RA/CCND3/CSF3R/STAT4/PIAS3/IL6/IFNGR1/SPRY1/TSLP/IRF9/PIK3R1/IL2RG/EP300/IL10RB/JAK1/JAK2/TYK2/IL15RA/SOCS4/AKT2/IL4R/CCND2/PIK3CD/CISH/CBLB/PIK3CA/CRLF2/AKT1/STAT6/STAT3/IL6R/PIK3R3/PTPN6/PIAS1/IL11RA/IFNAR1/OSM/STAT5A/PIK3R5/LIF/STAT1/STAM/SOCS7/CREBBP/IL20RB/CBL/IL7R\n",
      "9                                                                                                                                                              FOSL1/MMP7/CCND3/SIAH1/TCF7L2/PRKX/CUL1/CSNK1A1/PPP2R1A/EP300/PLCB2/CTNNBIP1/SMAD4/FZD7/CSNK1E/PPP2CA/DVL3/DVL1/SENP2/CCND2/PORCN/FZD6/CSNK2A2/PSEN1/VANGL2/GSK3B/MAPK8/SMAD3/MAP3K7/PRKCB/PPP2R5D/PPP2R5A/DVL2/SKP1/NFAT5/FRAT2/CHD8/NFATC3/LRP6/PPP3CA/APC/FRAT1/CREBBP/PLCB1/PPP3CC\n",
      "10                                                                                                                                                                                                                                                                                                            MAML2/NUMB/MAML1/ADAM17/DLL1/EP300/DVL3/JAG1/DVL1/NOTCH1/SNW1/PSEN1/KAT2A/HES1/DVL2/RFNG/CIR1/NCOR2/CREBBP/DTX1/CTBP2/MAML3/DTX3L/NUMBL\n",
      "11                                                                                                                                                                                                                                                                                                                                                                                                                    CSNK1D/PRKX/HHIP/CSNK1A1/CSNK1E\n",
      "12                                                                                                                                                                                                                                                                                                                                                                                           LATS2/DLG5/WWC3/FAT4/MARK3/MAPK14/TIAL1/DCHS1/MOB3B/PJA2\n",
      "13 DDIT4/TLR2/CDKN1A/NFKB1/CSF1R/RAF1/CCND3/CSF3R/PPP2R2A/FLT3/IL6/CREB5/THBS3/GYS1/LAMB2/SGK1/ITGA5/LPAR6/RELA/TCL1A/FGF9/PIK3R1/KIT/IL2RG/IKBKB/LAMC1/PKN3/SYK/PPP2R1A/TSC1/LPAR2/SPP1/PPP2CA/JAK1/JAK2/PHLPP1/HGF/AKT2/MAP2K1/ITGAV/IL4R/PKN1/TSC2/CCND2/PPP2R2D/PIK3CD/PPP2R3C/CREB3/GSK3B/NTRK1/COL4A5/LPAR1/PIK3CA/AKT1/MCL1/PIK3AP1/ITGA9/IL6R/TLR4/CREB3L4/FOXO3/COL6A6/INSR/PIK3R3/RPS6KB2/IFNAR1/FGFR3/PPP2R5D/KRAS/OSM/PPP2R5A/VEGFB/THBS4\n",
      "   Neglog10Padj\n",
      "1     4.7469000\n",
      "2     5.4362612\n",
      "3     2.2561502\n",
      "4     4.8360510\n",
      "5     3.5972461\n",
      "6     2.8430988\n",
      "7     8.5850267\n",
      "8     1.6751803\n",
      "9     1.2870929\n",
      "10    0.6840044\n",
      "11    0.1398962\n",
      "12    0.0809701\n",
      "13    1.3206256\n"
     ]
    }
   ],
   "source": [
    "    print(TRAF6_high_vs_low_df)"
   ]
  },
  {
   "cell_type": "code",
   "execution_count": null,
   "metadata": {
    "vscode": {
     "languageId": "r"
    }
   },
   "outputs": [],
   "source": []
  },
  {
   "cell_type": "code",
   "execution_count": 13,
   "metadata": {
    "vscode": {
     "languageId": "r"
    }
   },
   "outputs": [
    {
     "name": "stdout",
     "output_type": "stream",
     "text": [
      "[1] 91 13\n",
      "              Group                                        ID\n",
      "1 TRAF6_high_vs_low                     BIOCARTA_MAPK_PATHWAY\n",
      "2 TRAF6_high_vs_low         HINATA_NFKB_TARGETS_FIBROBLAST_UP\n",
      "3 TRAF6_high_vs_low                     DASU_IL6_SIGNALING_UP\n",
      "4 TRAF6_high_vs_low                     BIOCARTA_IL1R_PATHWAY\n",
      "5 TRAF6_high_vs_low                           PID_TNF_PATHWAY\n",
      "6 TRAF6_high_vs_low KEGG_TOLL_LIKE_RECEPTOR_SIGNALING_PATHWAY\n",
      "                                Description setSize enrichmentScore      NES\n",
      "1                     BIOCARTA_MAPK_PATHWAY      80       0.6056241 1.857851\n",
      "2         HINATA_NFKB_TARGETS_FIBROBLAST_UP      81       0.6179529 1.917544\n",
      "3                     DASU_IL6_SIGNALING_UP      55       0.5471703 1.580991\n",
      "4                     BIOCARTA_IL1R_PATHWAY      30       0.7484072 1.958496\n",
      "5                           PID_TNF_PATHWAY      44       0.6500853 1.824812\n",
      "6 KEGG_TOLL_LIKE_RECEPTOR_SIGNALING_PATHWAY      97       0.5527578 1.776156\n",
      "        pvalue     p.adjust      qvalue rank                   leading_edge\n",
      "1 1.791008e-05 1.791008e-05          NA 3680 tags=50%, list=23%, signal=39%\n",
      "2 3.662073e-06 3.662073e-06          NA 1926 tags=35%, list=12%, signal=31%\n",
      "3 5.544339e-03 5.544339e-03          NA  772  tags=24%, list=5%, signal=23%\n",
      "4 1.458633e-05 1.458633e-05          NA 2659 tags=57%, list=17%, signal=47%\n",
      "5 2.527864e-04 2.527864e-04          NA 1720 tags=43%, list=11%, signal=39%\n",
      "6 5.459858e-05 1.435163e-03 0.001026289 2659 tags=40%, list=17%, signal=34%\n",
      "                                                                                                                                                                                                                                                                     core_enrichment\n",
      "1 NFKB1/RAF1/CEBPA/NFKBIA/MAP4K1/MKNK2/MAP3K8/RELA/RIPK1/TGFBR1/MKNK1/MAP2K5/IKBKB/PAK1/MAP3K3/MAPKAPK5/MAP2K1/MAP3K4/RPS6KA2/TRAF2/MAP2K4/MAPKAPK2/MAPKAPK3/RPS6KA1/MAP3K14/MAPK8/MAP3K11/RPS6KB2/MAP3K7/MAP3K2/MAPK14/MAPK6/RPS6KB1/MAP4K3/STAT1/SHC1/MAP4K4/RPS6KA5/MAP4K2/MAP2K7\n",
      "2                                                                                                              IER3/CXCL3/CCL20/CXCL1/TNFAIP3/CXCL8/CD83/PTX3/IRF1/GCH1/NFKB1/ICAM1/RELB/NFKBIA/IL6/IL1B/TNFAIP2/RELA/LITAF/GABBR1/VIM/SEC24A/BIRC2/TBC1D12/NFKB2/CXCL6/BTN3A3/ABCC1\n",
      "3                                                                                                                                                                                                           IER3/CXCL3/ZFP36/CXCL8/DNM1/GEM/MAFF/ATP2B1/IL6/LY6E/TNFAIP6/IRF9/CDC25B\n",
      "4                                                                                                                                                                               TRAF6/IL1RAP/NFKB1/NFKBIA/IL6/IL1B/TNF/RELA/IL1A/IKBKB/MYD88/MAP3K14/IL1RN/MAPK8/MAP3K7/IRAK3/MAPK14\n",
      "5                                                                                                                                                             TNFAIP3/BIRC3/NFKB1/CYLD/TNFRSF1A/TNFRSF1B/MADD/TNF/RELA/RIPK1/SQSTM1/IKBKB/NSMAF/ADAM17/MAP3K3/BIRC2/TRAF2/PRKCZ/FADD\n",
      "6                                              CCL4/TRAF6/CXCL8/TLR2/NFKB1/NFKBIA/IRF7/CXCL10/IL6/IL1B/TNF/MAP3K8/CXCL11/RELA/RIPK1/TICAM1/PIK3R1/IKBKB/TBK1/SPP1/IRF3/AKT2/MAP2K1/TRAF3/TLR1/MAP2K4/PIK3CD/FADD/PIK3CA/MYD88/IRAK4/AKT1/CTSK/MAPK8/TLR4/PIK3R3/MAP3K7/IFNAR1/MAPK14\n",
      "  Neglog10Padj\n",
      "1     4.746900\n",
      "2     5.436261\n",
      "3     2.256150\n",
      "4     4.836051\n",
      "5     3.597246\n",
      "6     2.843099\n"
     ]
    }
   ],
   "source": [
    "{\n",
    "        merge_df = rbind(\n",
    "            TRAF6_high_vs_low_df, \n",
    "            Blast2to5_vs_Blast0to2_df,\n",
    "            Blast5to10_vs_Blast0to2_df,\n",
    "            Blast10to20_vs_Blast0to2_df,\n",
    "            Blast20to_vs_Blast0to2_df,\n",
    "            Year0toYear1_vs_Year5up_df,\n",
    "            Year1toYear5_vs_Year5up_df\n",
    "        )\n",
    "    print(dim(merge_df))\n",
    "    print(head(merge_df))\n",
    "}"
   ]
  },
  {
   "cell_type": "code",
   "execution_count": 14,
   "metadata": {
    "vscode": {
     "languageId": "r"
    }
   },
   "outputs": [
    {
     "name": "stdout",
     "output_type": "stream",
     "text": [
      "              Group                                        ID\n",
      "1 TRAF6_high_vs_low                     BIOCARTA_MAPK_PATHWAY\n",
      "2 TRAF6_high_vs_low         HINATA_NFKB_TARGETS_FIBROBLAST_UP\n",
      "3 TRAF6_high_vs_low                     DASU_IL6_SIGNALING_UP\n",
      "4 TRAF6_high_vs_low                     BIOCARTA_IL1R_PATHWAY\n",
      "5 TRAF6_high_vs_low                           PID_TNF_PATHWAY\n",
      "6 TRAF6_high_vs_low KEGG_TOLL_LIKE_RECEPTOR_SIGNALING_PATHWAY\n",
      "                                Description setSize enrichmentScore      NES\n",
      "1                     BIOCARTA_MAPK_PATHWAY      80       0.6056241 1.857851\n",
      "2         HINATA_NFKB_TARGETS_FIBROBLAST_UP      81       0.6179529 1.917544\n",
      "3                     DASU_IL6_SIGNALING_UP      55       0.5471703 1.580991\n",
      "4                     BIOCARTA_IL1R_PATHWAY      30       0.7484072 1.958496\n",
      "5                           PID_TNF_PATHWAY      44       0.6500853 1.824812\n",
      "6 KEGG_TOLL_LIKE_RECEPTOR_SIGNALING_PATHWAY      97       0.5527578 1.776156\n",
      "        pvalue     p.adjust      qvalue rank                   leading_edge\n",
      "1 1.791008e-05 1.791008e-05          NA 3680 tags=50%, list=23%, signal=39%\n",
      "2 3.662073e-06 3.662073e-06          NA 1926 tags=35%, list=12%, signal=31%\n",
      "3 5.544339e-03 5.544339e-03          NA  772  tags=24%, list=5%, signal=23%\n",
      "4 1.458633e-05 1.458633e-05          NA 2659 tags=57%, list=17%, signal=47%\n",
      "5 2.527864e-04 2.527864e-04          NA 1720 tags=43%, list=11%, signal=39%\n",
      "6 5.459858e-05 1.435163e-03 0.001026289 2659 tags=40%, list=17%, signal=34%\n",
      "                                                                                                                                                                                                                                                                     core_enrichment\n",
      "1 NFKB1/RAF1/CEBPA/NFKBIA/MAP4K1/MKNK2/MAP3K8/RELA/RIPK1/TGFBR1/MKNK1/MAP2K5/IKBKB/PAK1/MAP3K3/MAPKAPK5/MAP2K1/MAP3K4/RPS6KA2/TRAF2/MAP2K4/MAPKAPK2/MAPKAPK3/RPS6KA1/MAP3K14/MAPK8/MAP3K11/RPS6KB2/MAP3K7/MAP3K2/MAPK14/MAPK6/RPS6KB1/MAP4K3/STAT1/SHC1/MAP4K4/RPS6KA5/MAP4K2/MAP2K7\n",
      "2                                                                                                              IER3/CXCL3/CCL20/CXCL1/TNFAIP3/CXCL8/CD83/PTX3/IRF1/GCH1/NFKB1/ICAM1/RELB/NFKBIA/IL6/IL1B/TNFAIP2/RELA/LITAF/GABBR1/VIM/SEC24A/BIRC2/TBC1D12/NFKB2/CXCL6/BTN3A3/ABCC1\n",
      "3                                                                                                                                                                                                           IER3/CXCL3/ZFP36/CXCL8/DNM1/GEM/MAFF/ATP2B1/IL6/LY6E/TNFAIP6/IRF9/CDC25B\n",
      "4                                                                                                                                                                               TRAF6/IL1RAP/NFKB1/NFKBIA/IL6/IL1B/TNF/RELA/IL1A/IKBKB/MYD88/MAP3K14/IL1RN/MAPK8/MAP3K7/IRAK3/MAPK14\n",
      "5                                                                                                                                                             TNFAIP3/BIRC3/NFKB1/CYLD/TNFRSF1A/TNFRSF1B/MADD/TNF/RELA/RIPK1/SQSTM1/IKBKB/NSMAF/ADAM17/MAP3K3/BIRC2/TRAF2/PRKCZ/FADD\n",
      "6                                              CCL4/TRAF6/CXCL8/TLR2/NFKB1/NFKBIA/IRF7/CXCL10/IL6/IL1B/TNF/MAP3K8/CXCL11/RELA/RIPK1/TICAM1/PIK3R1/IKBKB/TBK1/SPP1/IRF3/AKT2/MAP2K1/TRAF3/TLR1/MAP2K4/PIK3CD/FADD/PIK3CA/MYD88/IRAK4/AKT1/CTSK/MAPK8/TLR4/PIK3R3/MAP3K7/IFNAR1/MAPK14\n",
      "  Neglog10Padj Neglog10Pvalue\n",
      "1     4.746900       4.746900\n",
      "2     5.436261       5.436261\n",
      "3     2.256150       2.256150\n",
      "4     4.836051       4.836051\n",
      "5     3.597246       3.597246\n",
      "6     2.843099       4.262818\n"
     ]
    }
   ],
   "source": [
    "## add\n",
    "merge_df$Neglog10Pvalue <- -log10(merge_df$pvalue + 1e-10)  \n",
    "print(head(merge_df))"
   ]
  },
  {
   "cell_type": "code",
   "execution_count": 15,
   "metadata": {
    "vscode": {
     "languageId": "r"
    }
   },
   "outputs": [],
   "source": [
    "{\n",
    "    ## save\n",
    "    output_f_path = file.path(output_dir,\"20250713_1_Chip_DiffGene_limma_GSE58831_Pvalue_barplot.xls\")    \n",
    "    write.table(merge_df,file=output_f_path,sep=\"\\t\",row.names = F,quote = FALSE)\n",
    "}"
   ]
  },
  {
   "cell_type": "code",
   "execution_count": 16,
   "metadata": {
    "vscode": {
     "languageId": "r"
    }
   },
   "outputs": [],
   "source": [
    "{\n",
    "    ## factor\n",
    "    merge_df$Group = factor(x = merge_df$Group,levels = c(\n",
    "        \"TRAF6_high_vs_low\",\n",
    "        \"Blast2to5_vs_Blast0to2\",\"Blast5to10_vs_Blast0to2\",\"Blast10to20_vs_Blast0to2\",\"Blast20to_vs_Blast0to2\",\n",
    "        \"Year0toYear1_vs_Year5up\",\"Year1toYear5_vs_Year5up\"\n",
    "        ))\n",
    "}"
   ]
  },
  {
   "cell_type": "code",
   "execution_count": 17,
   "metadata": {
    "vscode": {
     "languageId": "r"
    }
   },
   "outputs": [],
   "source": [
    "{\n",
    "    ## rename\n",
    "    data_rename = c(\n",
    "        \"TRAF6_high_vs_low\"=\"TRAF6_high(n=26) vs low(n=22)\",\n",
    "        \"Blast2to5_vs_Blast0to2\"=\"Blast2to5(n=51) vs_Blast0to2(n=27)\",\n",
    "        \"Blast5to10_vs_Blast0to2\"=\"Blast5to10(n=26) vs Blast0to2(n=27)\",\n",
    "        \"Blast10to20_vs_Blast0to2\"=\"Blast10to20(n=31) vs Blast0to2(n=27)\",\n",
    "        \"Blast20to_vs_Blast0to2\"=\"Blast20to(n=7) vs Blast0to2(n=27)\",\n",
    "        \"Year0toYear1_vs_Year5up\"=\"Year0toYear1(n=41) vs Year5up(n=21)\",\n",
    "        \"Year1toYear5_vs_Year5up\"=\"Year1toYear5(n=60) vs Year5up(n=21)\"\n",
    "    )\n",
    "}"
   ]
  },
  {
   "cell_type": "code",
   "execution_count": 18,
   "metadata": {
    "vscode": {
     "languageId": "r"
    }
   },
   "outputs": [
    {
     "name": "stdout",
     "output_type": "stream",
     "text": [
      " [1] TRAF6_high_vs_low        TRAF6_high_vs_low        TRAF6_high_vs_low       \n",
      " [4] TRAF6_high_vs_low        TRAF6_high_vs_low        TRAF6_high_vs_low       \n",
      " [7] TRAF6_high_vs_low        TRAF6_high_vs_low        TRAF6_high_vs_low       \n",
      "[10] TRAF6_high_vs_low        TRAF6_high_vs_low        TRAF6_high_vs_low       \n",
      "[13] TRAF6_high_vs_low        Blast2to5_vs_Blast0to2   Blast2to5_vs_Blast0to2  \n",
      "[16] Blast2to5_vs_Blast0to2   Blast2to5_vs_Blast0to2   Blast2to5_vs_Blast0to2  \n",
      "[19] Blast2to5_vs_Blast0to2   Blast2to5_vs_Blast0to2   Blast2to5_vs_Blast0to2  \n",
      "[22] Blast2to5_vs_Blast0to2   Blast2to5_vs_Blast0to2   Blast2to5_vs_Blast0to2  \n",
      "[25] Blast2to5_vs_Blast0to2   Blast2to5_vs_Blast0to2   Blast5to10_vs_Blast0to2 \n",
      "[28] Blast5to10_vs_Blast0to2  Blast5to10_vs_Blast0to2  Blast5to10_vs_Blast0to2 \n",
      "[31] Blast5to10_vs_Blast0to2  Blast5to10_vs_Blast0to2  Blast5to10_vs_Blast0to2 \n",
      "[34] Blast5to10_vs_Blast0to2  Blast5to10_vs_Blast0to2  Blast5to10_vs_Blast0to2 \n",
      "[37] Blast5to10_vs_Blast0to2  Blast5to10_vs_Blast0to2  Blast5to10_vs_Blast0to2 \n",
      "[40] Blast10to20_vs_Blast0to2 Blast10to20_vs_Blast0to2 Blast10to20_vs_Blast0to2\n",
      "[43] Blast10to20_vs_Blast0to2 Blast10to20_vs_Blast0to2 Blast10to20_vs_Blast0to2\n",
      "[46] Blast10to20_vs_Blast0to2 Blast10to20_vs_Blast0to2 Blast10to20_vs_Blast0to2\n",
      "[49] Blast10to20_vs_Blast0to2 Blast10to20_vs_Blast0to2 Blast10to20_vs_Blast0to2\n",
      "[52] Blast10to20_vs_Blast0to2 Blast20to_vs_Blast0to2   Blast20to_vs_Blast0to2  \n",
      "[55] Blast20to_vs_Blast0to2   Blast20to_vs_Blast0to2   Blast20to_vs_Blast0to2  \n",
      "[58] Blast20to_vs_Blast0to2   Blast20to_vs_Blast0to2   Blast20to_vs_Blast0to2  \n",
      "[61] Blast20to_vs_Blast0to2   Blast20to_vs_Blast0to2   Blast20to_vs_Blast0to2  \n",
      "[64] Blast20to_vs_Blast0to2   Blast20to_vs_Blast0to2   Year0toYear1_vs_Year5up \n",
      "[67] Year0toYear1_vs_Year5up  Year0toYear1_vs_Year5up  Year0toYear1_vs_Year5up \n",
      "[70] Year0toYear1_vs_Year5up  Year0toYear1_vs_Year5up  Year0toYear1_vs_Year5up \n",
      "[73] Year0toYear1_vs_Year5up  Year0toYear1_vs_Year5up  Year0toYear1_vs_Year5up \n",
      "[76] Year0toYear1_vs_Year5up  Year0toYear1_vs_Year5up  Year0toYear1_vs_Year5up \n",
      "[79] Year1toYear5_vs_Year5up  Year1toYear5_vs_Year5up  Year1toYear5_vs_Year5up \n",
      "[82] Year1toYear5_vs_Year5up  Year1toYear5_vs_Year5up  Year1toYear5_vs_Year5up \n",
      "[85] Year1toYear5_vs_Year5up  Year1toYear5_vs_Year5up  Year1toYear5_vs_Year5up \n",
      "[88] Year1toYear5_vs_Year5up  Year1toYear5_vs_Year5up  Year1toYear5_vs_Year5up \n",
      "[91] Year1toYear5_vs_Year5up \n",
      "7 Levels: TRAF6_high_vs_low Blast2to5_vs_Blast0to2 ... Year1toYear5_vs_Year5up\n"
     ]
    }
   ],
   "source": [
    "{\n",
    "    print(merge_df$Group)\n",
    "}"
   ]
  },
  {
   "cell_type": "code",
   "execution_count": 19,
   "metadata": {
    "vscode": {
     "languageId": "r"
    }
   },
   "outputs": [
    {
     "data": {
      "text/plain": [
       "\n",
       "                    BIOCARTA_IL1R_PATHWAY \n",
       "                                        7 \n",
       "                    BIOCARTA_MAPK_PATHWAY \n",
       "                                        7 \n",
       "                    DASU_IL6_SIGNALING_UP \n",
       "                                        7 \n",
       "                     GOBP_HIPPO_SIGNALING \n",
       "                                        7 \n",
       "           HALLMARK_INFLAMMATORY_RESPONSE \n",
       "                                        7 \n",
       "        HINATA_NFKB_TARGETS_FIBROBLAST_UP \n",
       "                                        7 \n",
       "          KEGG_HEDGEHOG_SIGNALING_PATHWAY \n",
       "                                        7 \n",
       "          KEGG_JAK_STAT_SIGNALING_PATHWAY \n",
       "                                        7 \n",
       "             KEGG_NOTCH_SIGNALING_PATHWAY \n",
       "                                        7 \n",
       "KEGG_TOLL_LIKE_RECEPTOR_SIGNALING_PATHWAY \n",
       "                                        7 \n",
       "               KEGG_WNT_SIGNALING_PATHWAY \n",
       "                                        7 \n",
       "                          PID_TNF_PATHWAY \n",
       "                                        7 \n",
       "                     WP_PI3KAKT_SIGNALING \n",
       "                                        7 "
      ]
     },
     "metadata": {},
     "output_type": "display_data"
    }
   ],
   "source": [
    "{\n",
    "    table(merge_df$ID)\n",
    "}"
   ]
  },
  {
   "cell_type": "code",
   "execution_count": 20,
   "metadata": {
    "vscode": {
     "languageId": "r"
    }
   },
   "outputs": [],
   "source": [
    "{\n",
    "    ## factor\n",
    "    merge_df$ID = factor(x = merge_df$ID,levels = rev(c(\n",
    "        \"BIOCARTA_MAPK_PATHWAY\",\"HINATA_NFKB_TARGETS_FIBROBLAST_UP\",\"DASU_IL6_SIGNALING_UP\",\"BIOCARTA_IL1R_PATHWAY\",\n",
    "        \"PID_TNF_PATHWAY\",\"KEGG_TOLL_LIKE_RECEPTOR_SIGNALING_PATHWAY\",\n",
    "        \"HALLMARK_INFLAMMATORY_RESPONSE\",\n",
    "        \"KEGG_JAK_STAT_SIGNALING_PATHWAY\",\"KEGG_NOTCH_SIGNALING_PATHWAY\",\n",
    "        \"KEGG_WNT_SIGNALING_PATHWAY\",\"KEGG_HEDGEHOG_SIGNALING_PATHWAY\",\n",
    "        \"GOBP_HIPPO_SIGNALING\",\n",
    "        \"WP_PI3KAKT_SIGNALING\"\n",
    "    )))\n",
    "}"
   ]
  },
  {
   "cell_type": "code",
   "execution_count": 21,
   "metadata": {
    "vscode": {
     "languageId": "r"
    }
   },
   "outputs": [
    {
     "name": "stdout",
     "output_type": "stream",
     "text": [
      " [1] BIOCARTA_MAPK_PATHWAY                    \n",
      " [2] HINATA_NFKB_TARGETS_FIBROBLAST_UP        \n",
      " [3] DASU_IL6_SIGNALING_UP                    \n",
      " [4] BIOCARTA_IL1R_PATHWAY                    \n",
      " [5] PID_TNF_PATHWAY                          \n",
      " [6] KEGG_TOLL_LIKE_RECEPTOR_SIGNALING_PATHWAY\n",
      " [7] HALLMARK_INFLAMMATORY_RESPONSE           \n",
      " [8] KEGG_JAK_STAT_SIGNALING_PATHWAY          \n",
      " [9] KEGG_WNT_SIGNALING_PATHWAY               \n",
      "[10] KEGG_NOTCH_SIGNALING_PATHWAY             \n",
      "[11] KEGG_HEDGEHOG_SIGNALING_PATHWAY          \n",
      "[12] GOBP_HIPPO_SIGNALING                     \n",
      "[13] WP_PI3KAKT_SIGNALING                     \n",
      "[14] BIOCARTA_MAPK_PATHWAY                    \n",
      "[15] HINATA_NFKB_TARGETS_FIBROBLAST_UP        \n",
      "[16] DASU_IL6_SIGNALING_UP                    \n",
      "[17] BIOCARTA_IL1R_PATHWAY                    \n",
      "[18] PID_TNF_PATHWAY                          \n",
      "[19] KEGG_TOLL_LIKE_RECEPTOR_SIGNALING_PATHWAY\n",
      "[20] HALLMARK_INFLAMMATORY_RESPONSE           \n",
      "[21] KEGG_JAK_STAT_SIGNALING_PATHWAY          \n",
      "[22] KEGG_WNT_SIGNALING_PATHWAY               \n",
      "[23] KEGG_NOTCH_SIGNALING_PATHWAY             \n",
      "[24] KEGG_HEDGEHOG_SIGNALING_PATHWAY          \n",
      "[25] GOBP_HIPPO_SIGNALING                     \n",
      "[26] WP_PI3KAKT_SIGNALING                     \n",
      "[27] BIOCARTA_MAPK_PATHWAY                    \n",
      "[28] HINATA_NFKB_TARGETS_FIBROBLAST_UP        \n",
      "[29] DASU_IL6_SIGNALING_UP                    \n",
      "[30] BIOCARTA_IL1R_PATHWAY                    \n",
      "[31] PID_TNF_PATHWAY                          \n",
      "[32] KEGG_TOLL_LIKE_RECEPTOR_SIGNALING_PATHWAY\n",
      "[33] HALLMARK_INFLAMMATORY_RESPONSE           \n",
      "[34] KEGG_JAK_STAT_SIGNALING_PATHWAY          \n",
      "[35] KEGG_NOTCH_SIGNALING_PATHWAY             \n",
      "[36] KEGG_WNT_SIGNALING_PATHWAY               \n",
      "[37] KEGG_HEDGEHOG_SIGNALING_PATHWAY          \n",
      "[38] GOBP_HIPPO_SIGNALING                     \n",
      "[39] WP_PI3KAKT_SIGNALING                     \n",
      "[40] BIOCARTA_MAPK_PATHWAY                    \n",
      "[41] HINATA_NFKB_TARGETS_FIBROBLAST_UP        \n",
      "[42] DASU_IL6_SIGNALING_UP                    \n",
      "[43] BIOCARTA_IL1R_PATHWAY                    \n",
      "[44] PID_TNF_PATHWAY                          \n",
      "[45] KEGG_TOLL_LIKE_RECEPTOR_SIGNALING_PATHWAY\n",
      "[46] HALLMARK_INFLAMMATORY_RESPONSE           \n",
      "[47] KEGG_JAK_STAT_SIGNALING_PATHWAY          \n",
      "[48] KEGG_NOTCH_SIGNALING_PATHWAY             \n",
      "[49] KEGG_WNT_SIGNALING_PATHWAY               \n",
      "[50] KEGG_HEDGEHOG_SIGNALING_PATHWAY          \n",
      "[51] GOBP_HIPPO_SIGNALING                     \n",
      "[52] WP_PI3KAKT_SIGNALING                     \n",
      "[53] BIOCARTA_MAPK_PATHWAY                    \n",
      "[54] HINATA_NFKB_TARGETS_FIBROBLAST_UP        \n",
      "[55] DASU_IL6_SIGNALING_UP                    \n",
      "[56] BIOCARTA_IL1R_PATHWAY                    \n",
      "[57] PID_TNF_PATHWAY                          \n",
      "[58] KEGG_TOLL_LIKE_RECEPTOR_SIGNALING_PATHWAY\n",
      "[59] HALLMARK_INFLAMMATORY_RESPONSE           \n",
      "[60] KEGG_HEDGEHOG_SIGNALING_PATHWAY          \n",
      "[61] KEGG_WNT_SIGNALING_PATHWAY               \n",
      "[62] KEGG_JAK_STAT_SIGNALING_PATHWAY          \n",
      "[63] KEGG_NOTCH_SIGNALING_PATHWAY             \n",
      "[64] GOBP_HIPPO_SIGNALING                     \n",
      "[65] WP_PI3KAKT_SIGNALING                     \n",
      "[66] BIOCARTA_MAPK_PATHWAY                    \n",
      "[67] HINATA_NFKB_TARGETS_FIBROBLAST_UP        \n",
      "[68] DASU_IL6_SIGNALING_UP                    \n",
      "[69] BIOCARTA_IL1R_PATHWAY                    \n",
      "[70] PID_TNF_PATHWAY                          \n",
      "[71] KEGG_TOLL_LIKE_RECEPTOR_SIGNALING_PATHWAY\n",
      "[72] HALLMARK_INFLAMMATORY_RESPONSE           \n",
      "[73] KEGG_JAK_STAT_SIGNALING_PATHWAY          \n",
      "[74] KEGG_WNT_SIGNALING_PATHWAY               \n",
      "[75] KEGG_NOTCH_SIGNALING_PATHWAY             \n",
      "[76] KEGG_HEDGEHOG_SIGNALING_PATHWAY          \n",
      "[77] GOBP_HIPPO_SIGNALING                     \n",
      "[78] WP_PI3KAKT_SIGNALING                     \n",
      "[79] BIOCARTA_MAPK_PATHWAY                    \n",
      "[80] HINATA_NFKB_TARGETS_FIBROBLAST_UP        \n",
      "[81] DASU_IL6_SIGNALING_UP                    \n",
      "[82] BIOCARTA_IL1R_PATHWAY                    \n",
      "[83] PID_TNF_PATHWAY                          \n",
      "[84] KEGG_TOLL_LIKE_RECEPTOR_SIGNALING_PATHWAY\n",
      "[85] HALLMARK_INFLAMMATORY_RESPONSE           \n",
      "[86] KEGG_JAK_STAT_SIGNALING_PATHWAY          \n",
      "[87] KEGG_WNT_SIGNALING_PATHWAY               \n",
      "[88] KEGG_NOTCH_SIGNALING_PATHWAY             \n",
      "[89] KEGG_HEDGEHOG_SIGNALING_PATHWAY          \n",
      "[90] GOBP_HIPPO_SIGNALING                     \n",
      "[91] WP_PI3KAKT_SIGNALING                     \n",
      "13 Levels: WP_PI3KAKT_SIGNALING ... BIOCARTA_MAPK_PATHWAY\n"
     ]
    }
   ],
   "source": [
    "{\n",
    "    print(merge_df$ID)\n",
    "}"
   ]
  },
  {
   "cell_type": "code",
   "execution_count": 22,
   "metadata": {
    "vscode": {
     "languageId": "r"
    }
   },
   "outputs": [],
   "source": [
    "{\n",
    "    ## plot\n",
    "    plot_object = ggplot(merge_df, aes(x = Group, y = Neglog10Pvalue, fill = ID)) +\n",
    "    geom_bar(stat = \"identity\") +\n",
    "    labs(title = \"GSE58831\", x = \"Group\", y = \"-log10(Pvalue)\") +\n",
    "    theme_minimal()\n",
    "\n",
    "    output_f_path = file.path(output_dir,\"20250713_1_Chip_DiffGene_limma_GSE58831_Pvalue_barplot_simple.pdf\")\n",
    "    ggsave(filename=output_f_path,plot=plot_object,device=pdf,width=210,height=210,units=\"mm\")\n",
    "}"
   ]
  },
  {
   "cell_type": "code",
   "execution_count": null,
   "metadata": {
    "vscode": {
     "languageId": "r"
    }
   },
   "outputs": [],
   "source": []
  },
  {
   "cell_type": "code",
   "execution_count": 47,
   "metadata": {
    "vscode": {
     "languageId": "r"
    }
   },
   "outputs": [],
   "source": [
    "######## dotplot"
   ]
  },
  {
   "cell_type": "code",
   "execution_count": 34,
   "metadata": {
    "vscode": {
     "languageId": "r"
    }
   },
   "outputs": [],
   "source": [
    "{\n",
    "    ## select\n",
    "    merge_df_Inf = merge_df %>% filter(ID %in% c(\n",
    "     \"BIOCARTA_MAPK_PATHWAY\",\"HINATA_NFKB_TARGETS_FIBROBLAST_UP\",\"DASU_IL6_SIGNALING_UP\",\"BIOCARTA_IL1R_PATHWAY\",\n",
    "        \"PID_TNF_PATHWAY\",\"KEGG_TOLL_LIKE_RECEPTOR_SIGNALING_PATHWAY\",\n",
    "        \"HALLMARK_INFLAMMATORY_RESPONSE\"\n",
    "    ))\n",
    "}"
   ]
  },
  {
   "cell_type": "code",
   "execution_count": 35,
   "metadata": {
    "vscode": {
     "languageId": "r"
    }
   },
   "outputs": [],
   "source": [
    "{\n",
    "    ## factor\n",
    "    merge_df_Inf$ID = factor(x = merge_df_Inf$ID,levels = c(\n",
    "        \"BIOCARTA_MAPK_PATHWAY\",\"HINATA_NFKB_TARGETS_FIBROBLAST_UP\",\"DASU_IL6_SIGNALING_UP\",\"BIOCARTA_IL1R_PATHWAY\",\n",
    "        \"PID_TNF_PATHWAY\",\"KEGG_TOLL_LIKE_RECEPTOR_SIGNALING_PATHWAY\",\n",
    "        \"HALLMARK_INFLAMMATORY_RESPONSE\"\n",
    "    ))\n",
    "}"
   ]
  },
  {
   "cell_type": "code",
   "execution_count": 36,
   "metadata": {
    "vscode": {
     "languageId": "r"
    }
   },
   "outputs": [],
   "source": [
    "{\n",
    "    ## barplot\n",
    "    plot_object = ggplot(merge_df_Inf, aes(x = Group, y = Neglog10Pvalue, fill = ID)) +\n",
    "    geom_bar(stat = \"identity\") +\n",
    "    labs(title = \"GSE58831 with inflammatory states\", x = \"Group\", y = \"-log10(Pvalue)\") +\n",
    "    scale_fill_manual(values = c(\"#4652ac\",\"#b6b0e6\",\"#f35e53\",\"#ffbfc0\",\"#717171\",\"#e4e4e4\",\"#ffffff\"))+\n",
    "  theme_bw(base_size = 8)+\n",
    "  theme(\n",
    "        legend.title = element_blank(),\n",
    "        legend.text = element_text(size = 7),  # \n",
    "        axis.text.x = element_text(angle = 45, hjust = 1, color = \"black\", size = 7), # \n",
    "        axis.text.y = element_text(color = \"black\", size = 7),\n",
    "        axis.title = element_text(color = \"black\", size = 7)\n",
    "    )+\n",
    "      theme(\n",
    "    panel.background = element_blank(),  # \n",
    "    panel.grid = element_blank(),         # \n",
    "    # plot.background = element_rect(fill = \"white\")  # \n",
    "  )+\n",
    "    geom_bar(stat = \"identity\", color = \"black\", linewidth = 0.2) + # \n",
    "    theme(plot.margin = unit(c(1, 1, 1, 2), \"cm\"))+  # \n",
    "    scale_x_discrete(labels = data_rename\n",
    "        )\n",
    "\n",
    "    output_f_path = file.path(output_dir,\"20250713_2_3_Chip_DiffGene_limma_GSE58831_Pvalue_barplot_simple_h170.pdf\")\n",
    "    ggsave(filename=output_f_path,plot=plot_object,device=pdf,width=210,height=170,units=\"mm\")\n",
    "}"
   ]
  },
  {
   "cell_type": "code",
   "execution_count": null,
   "metadata": {
    "vscode": {
     "languageId": "r"
    }
   },
   "outputs": [],
   "source": []
  },
  {
   "cell_type": "code",
   "execution_count": 30,
   "metadata": {
    "vscode": {
     "languageId": "r"
    }
   },
   "outputs": [
    {
     "data": {
      "text/html": [
       "9.69897000433602"
      ],
      "text/latex": [
       "9.69897000433602"
      ],
      "text/markdown": [
       "9.69897000433602"
      ],
      "text/plain": [
       "[1] 9.69897"
      ]
     },
     "metadata": {},
     "output_type": "display_data"
    }
   ],
   "source": [
    "max(merge_df_Inf$Neglog10Pvalue)"
   ]
  },
  {
   "cell_type": "code",
   "execution_count": 31,
   "metadata": {
    "vscode": {
     "languageId": "r"
    }
   },
   "outputs": [
    {
     "data": {
      "text/html": [
       "0.0100419382496953"
      ],
      "text/latex": [
       "0.0100419382496953"
      ],
      "text/markdown": [
       "0.0100419382496953"
      ],
      "text/plain": [
       "[1] 0.01004194"
      ]
     },
     "metadata": {},
     "output_type": "display_data"
    }
   ],
   "source": [
    "min(merge_df_Inf$Neglog10Pvalue)"
   ]
  },
  {
   "cell_type": "code",
   "execution_count": 37,
   "metadata": {
    "vscode": {
     "languageId": "r"
    }
   },
   "outputs": [],
   "source": [
    "{\n",
    "    ## factor\n",
    "    merge_df_Inf$ID = factor(x = merge_df_Inf$ID,levels = rev(c(\n",
    "        \"BIOCARTA_MAPK_PATHWAY\",\"HINATA_NFKB_TARGETS_FIBROBLAST_UP\",\"DASU_IL6_SIGNALING_UP\",\"BIOCARTA_IL1R_PATHWAY\",\n",
    "        \"PID_TNF_PATHWAY\",\"KEGG_TOLL_LIKE_RECEPTOR_SIGNALING_PATHWAY\",\n",
    "        \"HALLMARK_INFLAMMATORY_RESPONSE\"\n",
    "    )))\n",
    "}"
   ]
  },
  {
   "cell_type": "code",
   "execution_count": 38,
   "metadata": {
    "vscode": {
     "languageId": "r"
    }
   },
   "outputs": [],
   "source": [
    "## dotplot\n",
    "{\n",
    "  plot_object = ggplot(merge_df_Inf, aes(x = Group, y = ID)) + #\n",
    "    geom_point(aes(size = Neglog10Pvalue, color = NES)) +  #\n",
    "      #  size \n",
    "    scale_size_continuous(\n",
    "      range = c(0,10),  # \n",
    "      breaks = c(0,1, 1.3, 2, 3, 4,10),  # \n",
    "      name = '-log10(Pvalue)'  # \n",
    "    ) +\n",
    "    scale_color_gradientn(colors = c(\"#462CF7\",\"#A88FEF\",\"#FEF8FB\",\"#E2A890\",\"#D35A30\"), limits = c(-2.2,2.2), name = \"Normalized\\nEnrichment\\nScore\",\n",
    "                          breaks = c(-2,-1,0,1,2)) +\n",
    "    theme_classic() +\n",
    "\n",
    "    theme(legend.text = element_text(size = 5), #\n",
    "          legend.title = element_text(size = 7), #\n",
    "          axis.text = element_text(size = 7), #\n",
    "          axis.title = element_text(size = 7), #\n",
    "          axis.text.x = element_text(angle = 45, hjust = 1,color = \"black\", size = 7),\n",
    "          axis.text.y = element_text(color = \"black\", size = 7),\n",
    "          ) + #\n",
    "    labs(title = \"GSEA with Inflammatory and Tumor Pathway\",x = NULL,y = NULL, #\n",
    "         color =  \"Normalized\\nEnrichment\\nScore\", size = '-log10(Pvalue)') + #\n",
    "  \n",
    "    scale_x_discrete(labels = \n",
    "        data_rename\n",
    "        )\n",
    "  \n",
    "  output_f_path = file.path(output_dir,\"20250713_2_1_Chip_DiffGene_limma_GSE58831_Pvalue_dotplot_NES_w150_h110.pdf\")\n",
    "  ggsave(filename=output_f_path,plot=plot_object,device=pdf,width=160,height=110,units=\"mm\")\n",
    "}\n"
   ]
  },
  {
   "cell_type": "code",
   "execution_count": null,
   "metadata": {
    "vscode": {
     "languageId": "r"
    }
   },
   "outputs": [],
   "source": []
  },
  {
   "cell_type": "code",
   "execution_count": 42,
   "metadata": {
    "vscode": {
     "languageId": "r"
    }
   },
   "outputs": [],
   "source": [
    "{\n",
    "\n",
    "    ## \n",
    "    # \n",
    "    plot_object = ggplot(merge_df_Inf, aes(x = Group, y = Neglog10Pvalue, fill = ID)) +\n",
    "    geom_bar(stat = \"identity\") +\n",
    "    labs(title = \"GSE58831 with Inflammatory and Tumor Pathway\", x = \"Group\", y = \"-log10(Pvalue)\") +\n",
    "    scale_fill_manual(values = c(\"#4652ac\",\"#b6b0e6\",\"#f35e53\",\"#ffbfc0\",\"#717171\",\"#e4e4e4\",\"#ffffff\"))+\n",
    "  theme_bw(base_size = 8)+\n",
    "  theme(\n",
    "        legend.title = element_blank(),\n",
    "        legend.text = element_text(size = 7),  # \n",
    "        axis.text.x = element_text(angle = 45, hjust = 1, color = \"black\", size = 7), # nolint\n",
    "        axis.text.y = element_text(color = \"black\", size = 7),\n",
    "        axis.title = element_text(color = \"black\", size = 7)\n",
    "    )+\n",
    "      theme(\n",
    "    panel.background = element_blank(),  # \n",
    "    panel.grid = element_blank(),         # \n",
    "  )+\n",
    "    geom_bar(stat = \"identity\", color = \"black\", size = 0.2) # \n",
    "\n",
    "    output_f_path = file.path(output_dir,\"20250713_2_Chip_DiffGene_limma_GSE58831_Pvalue_barplot_simple.pdf\")\n",
    "    ggsave(filename=output_f_path,plot=plot_object,device=pdf,width=210,height=150,units=\"mm\")\n",
    "}"
   ]
  }
 ],
 "metadata": {
  "kernelspec": {
   "display_name": "R",
   "language": "R",
   "name": "ir"
  },
  "language_info": {
   "codemirror_mode": "r",
   "file_extension": ".r",
   "mimetype": "text/x-r-source",
   "name": "R",
   "pygments_lexer": "r",
   "version": "4.3.3"
  }
 },
 "nbformat": 4,
 "nbformat_minor": 2
}
