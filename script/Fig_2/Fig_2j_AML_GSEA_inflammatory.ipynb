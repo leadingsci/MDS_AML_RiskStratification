{
 "cells": [
  {
   "cell_type": "code",
   "execution_count": 1,
   "metadata": {
    "vscode": {
     "languageId": "r"
    }
   },
   "outputs": [
    {
     "data": {
      "text/html": [
       "<style>\n",
       ".list-inline {list-style: none; margin:0; padding: 0}\n",
       ".list-inline>li {display: inline-block}\n",
       ".list-inline>li:not(:last-child)::after {content: \"\\00b7\"; padding: 0 .5ex}\n",
       "</style>\n",
       "<ol class=list-inline><li>'/share/home/bioinfo/anaconda3/envs/R-4.2.3/lib/R/library'</li><li>'/share/apps/Anaconda3/2021.05/envs/R-4.2/lib/R/library'</li><li>'/share/home/wyz/miniconda3/envs/r423base/lib/R/library'</li><li>'/share/home/wyz/miniconda3/envs/R423base_ipynb/lib/R/library'</li></ol>\n"
      ],
      "text/latex": [
       "\\begin{enumerate*}\n",
       "\\item '/share/home/bioinfo/anaconda3/envs/R-4.2.3/lib/R/library'\n",
       "\\item '/share/apps/Anaconda3/2021.05/envs/R-4.2/lib/R/library'\n",
       "\\item '/share/home/wyz/miniconda3/envs/r423base/lib/R/library'\n",
       "\\item '/share/home/wyz/miniconda3/envs/R423base\\_ipynb/lib/R/library'\n",
       "\\end{enumerate*}\n"
      ],
      "text/markdown": [
       "1. '/share/home/bioinfo/anaconda3/envs/R-4.2.3/lib/R/library'\n",
       "2. '/share/apps/Anaconda3/2021.05/envs/R-4.2/lib/R/library'\n",
       "3. '/share/home/wyz/miniconda3/envs/r423base/lib/R/library'\n",
       "4. '/share/home/wyz/miniconda3/envs/R423base_ipynb/lib/R/library'\n",
       "\n",
       "\n"
      ],
      "text/plain": [
       "[1] \"/share/home/bioinfo/anaconda3/envs/R-4.2.3/lib/R/library\"    \n",
       "[2] \"/share/apps/Anaconda3/2021.05/envs/R-4.2/lib/R/library\"      \n",
       "[3] \"/share/home/wyz/miniconda3/envs/r423base/lib/R/library\"      \n",
       "[4] \"/share/home/wyz/miniconda3/envs/R423base_ipynb/lib/R/library\""
      ]
     },
     "metadata": {},
     "output_type": "display_data"
    }
   ],
   "source": [
    "rm(list = ls())\n",
    "\n",
    "\n",
    ".libPaths()\n",
    "options(warn=1)"
   ]
  },
  {
   "cell_type": "code",
   "execution_count": 2,
   "metadata": {
    "vscode": {
     "languageId": "r"
    }
   },
   "outputs": [
    {
     "name": "stderr",
     "output_type": "stream",
     "text": [
      "── \u001b[1mAttaching core tidyverse packages\u001b[22m ──────────────────────── tidyverse 2.0.0 ──\n",
      "\u001b[32m✔\u001b[39m \u001b[34mdplyr    \u001b[39m 1.1.4     \u001b[32m✔\u001b[39m \u001b[34mstringr  \u001b[39m 1.5.0\n",
      "\u001b[32m✔\u001b[39m \u001b[34mforcats  \u001b[39m 1.0.0     \u001b[32m✔\u001b[39m \u001b[34mtibble   \u001b[39m 3.2.1\n",
      "\u001b[32m✔\u001b[39m \u001b[34mlubridate\u001b[39m 1.9.3     \u001b[32m✔\u001b[39m \u001b[34mtidyr    \u001b[39m 1.3.1\n",
      "\u001b[32m✔\u001b[39m \u001b[34mpurrr    \u001b[39m 1.0.2     \n",
      "── \u001b[1mConflicts\u001b[22m ────────────────────────────────────────── tidyverse_conflicts() ──\n",
      "\u001b[31m✖\u001b[39m \u001b[34mdplyr\u001b[39m::\u001b[32mfilter()\u001b[39m masks \u001b[34mstats\u001b[39m::filter()\n",
      "\u001b[31m✖\u001b[39m \u001b[34mdplyr\u001b[39m::\u001b[32mlag()\u001b[39m    masks \u001b[34mstats\u001b[39m::lag()\n",
      "\u001b[36mℹ\u001b[39m Use the conflicted package (\u001b[3m\u001b[34m<http://conflicted.r-lib.org/>\u001b[39m\u001b[23m) to force all conflicts to become errors\n"
     ]
    }
   ],
   "source": [
    "# Load Package ------------------------------------------------------------\n",
    "\n",
    "{\n",
    "  library(readr) #R 4.2.2 #R 4.2.3\n",
    "  library(ggplot2); #R 4.2.2 #R 4.2.3\n",
    "  library(tidyverse); #R 4.2.2\n",
    "  library(openxlsx); #R 4.2.3\n",
    "  library(readxl); #R 4.2.3\n",
    "  library(dplyr); #R 4.2.2 #R 4.2.3\n",
    "  \n",
    "  library(pheatmap) #R 4.2.2 #R 4.2.3\n",
    "  library(ggrastr) #R 4.2.3\n",
    "  library(ggpubr) #R 4.2.2 #R 4.2.3\n",
    "  \n",
    "  #library(Seurat); #R 4.2.2 #R 4.2.3\n",
    "  \n",
    "  # library(harmony); #R 4.2.3\n",
    "  # library(clustree) #R 4.2.3\n",
    "  # library(future); #R 4.2.2 #R 4.2.3\n",
    "  \n",
    "  # library(Matrix)\n",
    "  # packageVersion(\"Matrix\")\n",
    "  \n",
    "  #library(ComplexHeatmap)\n",
    "  \n",
    "}\n"
   ]
  },
  {
   "cell_type": "code",
   "execution_count": 3,
   "metadata": {
    "vscode": {
     "languageId": "r"
    }
   },
   "outputs": [],
   "source": [
    "# input path --------------------------------------------------------------\n",
    "\n",
    "if (TRUE){\n",
    "  ## output\n",
    "  output_dir = \"/share/home/wyz/Project/result/2025/202507/20250713_2_AML_TCGA_Beat_GSE165656_split_group_dotplot/20250807_1_AML_limma_Pvalue_barplot\"\n",
    "  \n",
    "}\n"
   ]
  },
  {
   "cell_type": "code",
   "execution_count": 6,
   "metadata": {
    "vscode": {
     "languageId": "r"
    }
   },
   "outputs": [
    {
     "name": "stdout",
     "output_type": "stream",
     "text": [
      "[1] 13 12\n",
      "                                         ID\n",
      "1                     BIOCARTA_MAPK_PATHWAY\n",
      "2         HINATA_NFKB_TARGETS_FIBROBLAST_UP\n",
      "3                     DASU_IL6_SIGNALING_UP\n",
      "4                     BIOCARTA_IL1R_PATHWAY\n",
      "5                           PID_TNF_PATHWAY\n",
      "6 KEGG_TOLL_LIKE_RECEPTOR_SIGNALING_PATHWAY\n",
      "                                Description setSize enrichmentScore      NES\n",
      "1                     BIOCARTA_MAPK_PATHWAY      80       0.6817377 1.301100\n",
      "2         HINATA_NFKB_TARGETS_FIBROBLAST_UP      73       0.7154392 1.352820\n",
      "3                     DASU_IL6_SIGNALING_UP      51       0.7189860 1.331937\n",
      "4                     BIOCARTA_IL1R_PATHWAY      29       0.7255758 1.311410\n",
      "5                           PID_TNF_PATHWAY      44       0.6524667 1.205544\n",
      "6 KEGG_TOLL_LIKE_RECEPTOR_SIGNALING_PATHWAY      87       0.6328657 1.211841\n",
      "      pvalue   p.adjust    qvalue rank                   leading_edge\n",
      "1 0.04555315 0.04555315        NA 2012 tags=39%, list=14%, signal=33%\n",
      "2 0.01688746 0.01688746        NA 1786 tags=36%, list=13%, signal=31%\n",
      "3 0.04520397 0.04520397        NA 2034 tags=37%, list=15%, signal=32%\n",
      "4 0.06437768 0.06437768        NA 2520 tags=48%, list=18%, signal=40%\n",
      "5 0.12972973 0.12972973        NA 3133 tags=57%, list=23%, signal=44%\n",
      "6 0.08087432 0.24958494 0.1985003 3269 tags=45%, list=24%, signal=34%\n",
      "                                                                                                                                                                                                                        core_enrichment\n",
      "1                                    FOS/NFKBIA/TGFB1/MAPKAPK2/STAT1/SP1/MAPK1/RPS6KA3/MKNK2/GRB2/RAF1/MAP3K1/MAP3K8/PAK2/MAP3K5/MAPKAPK3/RELA/RAC1/TGFBR1/MAP3K2/MAPK14/PAK1/MAP3K3/NFKB1/MAP4K4/RAPGEF2/MAP2K1/MAP4K5/MAX/ATF2/MAP2K3\n",
      "2                                                                                G0S2/NFKBIA/VIM/ARF6/IL1B/TNFAIP2/TNFAIP3/TAF15/SOD1/AP2B1/SPTBN1/ABCC1/GADD45A/CD83/IRF1/BIRC2/ETS1/LITAF/RELA/RAC1/NFKB1/IER3/KDM6A/NFKB2/SOD2/GSTO1\n",
      "3                                                                                                                           ZFP36/ZFP36L2/TGFB1/CD47/PLEC/ANPEP/SOX4/IRAK1/DNM2/TAPBP/IFI30/ATP2B1/CEBPB/ENG/IER3/SOD2/HLA-F/IRF9/KHSRP\n",
      "4                                                                                                                                                  NFKBIA/IL1B/TGFB1/MYD88/IRAK1/MAP3K1/IRAK3/RELA/MAPK14/NFKB1/MAP2K3/TRAF6/IL1RAP/JUN\n",
      "5                                                                     TAB2/TNFAIP3/TNFRSF1B/STAT1/MADD/CASP8/MAP3K1/CYLD/MAP3K5/BIRC2/NSMAF/RELA/MAP3K3/NFKB1/MAP4K4/MAP4K5/SQSTM1/MAP2K3/BAG4/MAP4K3/CHUK/TNFRSF1A/MAP3K7/ADAM17/BIRC3\n",
      "6 FOS/NFKBIA/CD14/IL1B/TAB2/MYD88/PIK3R1/STAT1/IRAK1/MAPK1/CASP8/MAP3K8/PIK3R5/PIK3CG/TLR2/RELA/IRF7/RAC1/MAPK14/NFKB1/MAP2K1/TLR8/LY96/MAP2K3/TLR1/TRAF6/TLR4/PIK3CD/JUN/CD86/CHUK/TICAM1/MAP3K7/IFNAR1/TLR6/MAP2K2/IRAK4/MAPK3/PIK3CB\n",
      "  Neglog10Padj\n",
      "1    1.3414816\n",
      "2    1.7724356\n",
      "3    1.3448234\n",
      "4    1.1912647\n",
      "5    0.8869605\n",
      "6    0.6027816\n"
     ]
    }
   ],
   "source": [
    "# read ---------------------------------------------------------------\n",
    "{\n",
    "  input_f_path = \"/share/home/wyz/Project/result/2025/202507/20250713_2_AML_TCGA_Beat_GSE165656_split_group_dotplot/20250713_1_AML_TRAF6_high_vs_low/20250710_1_Chip_DiffGene_limma_TRAF6_high_vs_low_pathway_merge_data.xls\"\n",
    "\n",
    "  TRAF6_high_vs_low_df = read.table(input_f_path,sep=\"\\t\",header = TRUE)\n",
    "\n",
    "  ## 列 select\n",
    "  print(dim(TRAF6_high_vs_low_df))\n",
    "  print(head(TRAF6_high_vs_low_df))\n",
    "}"
   ]
  },
  {
   "cell_type": "code",
   "execution_count": 7,
   "metadata": {
    "vscode": {
     "languageId": "r"
    }
   },
   "outputs": [
    {
     "name": "stdout",
     "output_type": "stream",
     "text": [
      "[1] 13 12\n",
      "                                         ID\n",
      "1                     BIOCARTA_MAPK_PATHWAY\n",
      "2         HINATA_NFKB_TARGETS_FIBROBLAST_UP\n",
      "3                     DASU_IL6_SIGNALING_UP\n",
      "4                     BIOCARTA_IL1R_PATHWAY\n",
      "5                           PID_TNF_PATHWAY\n",
      "6 KEGG_TOLL_LIKE_RECEPTOR_SIGNALING_PATHWAY\n",
      "                                Description setSize enrichmentScore        NES\n",
      "1                     BIOCARTA_MAPK_PATHWAY      80      -0.6749278 -1.4109027\n",
      "2         HINATA_NFKB_TARGETS_FIBROBLAST_UP      73       0.5584931  1.0926549\n",
      "3                     DASU_IL6_SIGNALING_UP      51       0.4375386  0.8501541\n",
      "4                     BIOCARTA_IL1R_PATHWAY      29       0.5324129  0.9769272\n",
      "5                           PID_TNF_PATHWAY      44       0.3839767  0.7329558\n",
      "6 KEGG_TOLL_LIKE_RECEPTOR_SIGNALING_PATHWAY      87      -0.6086794 -1.2403571\n",
      "      pvalue   p.adjust    qvalue rank                   leading_edge\n",
      "1 0.09049309 0.09049309        NA  186    tags=9%, list=1%, signal=9%\n",
      "2 0.34854246 0.34854246        NA  480    tags=7%, list=3%, signal=7%\n",
      "3 0.67346939 0.67346939        NA  571   tags=10%, list=4%, signal=9%\n",
      "4 0.51182197 0.51182197        NA  187  tags=10%, list=1%, signal=10%\n",
      "5 0.80291005 0.80291005        NA 1628 tags=18%, list=12%, signal=16%\n",
      "6 0.21105528 0.69100216 0.6707974   99  tags=10%, list=1%, signal=10%\n",
      "                                      core_enrichment Neglog10Padj\n",
      "1         MAP4K1/MAP2K2/MAP2K3/MKNK2/MAPKAPK2/JUN/FOS    1.0433846\n",
      "2                        VIM/NFKBIA/IL1B/TAF15/MRPL33    0.4577443\n",
      "3                        HSPA1A/SOX4/ANPEP/TAPBP/CD47    0.1716821\n",
      "4                                   NFKBIA/IL1B/MYD88    0.2908811\n",
      "5 TXN/BIRC2/TNFRSF1B/MADD/NSMAF/NFKB1/TNFRSF1A/ADAM17    0.0953331\n",
      "6       IRF7/LBP/TNF/MAP2K2/MAP2K3/IRAK1/CCL5/JUN/FOS    0.1605206\n"
     ]
    }
   ],
   "source": [
    "# read ---------------------------------------------------------------\n",
    "{\n",
    "  input_f_path = \"/share/home/wyz/Project/result/2025/202507/20250713_2_AML_TCGA_Beat_GSE165656_split_group_dotplot/20250713_2_AML_limma_Blast40to60_vs_Blast20to40/20250711_1_Chip_DiffGene_limma_Blast40to60_vs_Blast20to40_pathway_merge_data.xls\"\n",
    "  Blast40to60_vs_Blast20to40_df = read.table(input_f_path,sep=\"\\t\",header = TRUE)\n",
    "\n",
    "  ## select\n",
    "  print(dim(Blast40to60_vs_Blast20to40_df))\n",
    "  print(head(Blast40to60_vs_Blast20to40_df))\n",
    "}"
   ]
  },
  {
   "cell_type": "code",
   "execution_count": 9,
   "metadata": {
    "vscode": {
     "languageId": "r"
    }
   },
   "outputs": [
    {
     "name": "stdout",
     "output_type": "stream",
     "text": [
      "[1] 13 12\n",
      "                                         ID\n",
      "1                     BIOCARTA_MAPK_PATHWAY\n",
      "2         HINATA_NFKB_TARGETS_FIBROBLAST_UP\n",
      "3                     DASU_IL6_SIGNALING_UP\n",
      "4                     BIOCARTA_IL1R_PATHWAY\n",
      "5                           PID_TNF_PATHWAY\n",
      "6 KEGG_TOLL_LIKE_RECEPTOR_SIGNALING_PATHWAY\n",
      "                                Description setSize enrichmentScore        NES\n",
      "1                     BIOCARTA_MAPK_PATHWAY      80      -0.7761588 -1.5344145\n",
      "2         HINATA_NFKB_TARGETS_FIBROBLAST_UP      73       0.4488018  0.9844917\n",
      "3                     DASU_IL6_SIGNALING_UP      51       0.4703501  1.0154389\n",
      "4                     BIOCARTA_IL1R_PATHWAY      29      -0.8188463 -1.5333515\n",
      "5                           PID_TNF_PATHWAY      44      -0.4871938 -0.9404224\n",
      "6 KEGG_TOLL_LIKE_RECEPTOR_SIGNALING_PATHWAY      87      -0.8460059 -1.6861122\n",
      "      pvalue  p.adjust  qvalue rank                  leading_edge\n",
      "1 0.10337553 0.1033755      NA  799 tags=15%, list=6%, signal=14%\n",
      "2 0.49734513 0.4973451      NA  377   tags=5%, list=3%, signal=5%\n",
      "3 0.42704626 0.4270463      NA  435 tags=10%, list=3%, signal=10%\n",
      "4 0.11650485 0.1165049      NA  883 tags=28%, list=6%, signal=26%\n",
      "5 0.46666667 0.4666667      NA 1136 tags=23%, list=8%, signal=21%\n",
      "6 0.04399614 0.6200378 0.60916  799 tags=21%, list=6%, signal=20%\n",
      "                                                                                       core_enrichment\n",
      "1                            MAP2K3/RAF1/MAP2K1/MAP3K3/MAPK14/MAP3K8/MAP4K4/MKNK2/STAT1/JUN/NFKBIA/FOS\n",
      "2                                                                             VIM/MRPL33/ARHGDIA/ABCC1\n",
      "3                                                                       HSPA1A/SOX4/ZFP36L2/CEBPB/CD47\n",
      "4                                                        IL1RN/MAP2K3/MAPK14/MYD88/TNF/IL1B/JUN/NFKBIA\n",
      "5                                     SQSTM1/TNIK/TNFRSF1B/MAP2K3/MAP3K3/TNF/MAP4K4/TAB2/TNFAIP3/STAT1\n",
      "6 MAP2K3/MAP2K1/MAPK14/MYD88/MAP3K8/TNF/PIK3R5/TAB2/LY96/CCL5/STAT1/IL1B/CD14/CCL4/CCL3/JUN/NFKBIA/FOS\n",
      "  Neglog10Padj\n",
      "1    0.9855823\n",
      "2    0.3033421\n",
      "3    0.3695251\n",
      "4    0.9336560\n",
      "5    0.3309932\n",
      "6    0.2075818\n"
     ]
    }
   ],
   "source": [
    "# read ---------------------------------------------------------------\n",
    "{\n",
    "  input_f_path = \"/share/home/wyz/Project/result/2025/202507/20250713_2_AML_TCGA_Beat_GSE165656_split_group_dotplot/20250713_3_AML_limma_Blast60to80_vs_Blast20to40/20250711_1_Chip_DiffGene_limma_Blast60to80_vs_Blast20to40_pathway_merge_data.xls\"\n",
    "  Blast60to80_vs_Blast20to40_df = read.table(input_f_path,sep=\"\\t\",header = TRUE)\n",
    "\n",
    "  ## select\n",
    "  print(dim(Blast60to80_vs_Blast20to40_df))\n",
    "  print(head(Blast60to80_vs_Blast20to40_df))\n",
    "}"
   ]
  },
  {
   "cell_type": "code",
   "execution_count": 11,
   "metadata": {
    "vscode": {
     "languageId": "r"
    }
   },
   "outputs": [
    {
     "name": "stdout",
     "output_type": "stream",
     "text": [
      "[1] 13 12\n",
      "                                         ID\n",
      "1                     BIOCARTA_MAPK_PATHWAY\n",
      "2         HINATA_NFKB_TARGETS_FIBROBLAST_UP\n",
      "3                     DASU_IL6_SIGNALING_UP\n",
      "4                     BIOCARTA_IL1R_PATHWAY\n",
      "5                           PID_TNF_PATHWAY\n",
      "6 KEGG_TOLL_LIKE_RECEPTOR_SIGNALING_PATHWAY\n",
      "                                Description setSize enrichmentScore        NES\n",
      "1                     BIOCARTA_MAPK_PATHWAY      80      -0.4375690 -0.8793852\n",
      "2         HINATA_NFKB_TARGETS_FIBROBLAST_UP      73       0.5978153  1.3024862\n",
      "3                     DASU_IL6_SIGNALING_UP      51       0.4177234  0.8483316\n",
      "4                     BIOCARTA_IL1R_PATHWAY      29      -0.7283391 -1.4693739\n",
      "5                           PID_TNF_PATHWAY      44      -0.3457825 -0.6776446\n",
      "6 KEGG_TOLL_LIKE_RECEPTOR_SIGNALING_PATHWAY      87      -0.6453274 -1.2756762\n",
      "     pvalue  p.adjust    qvalue rank                  leading_edge\n",
      "1 0.5202312 0.5202312        NA  685 tags=14%, list=5%, signal=13%\n",
      "2 0.1121076 0.1121076        NA  161   tags=3%, list=1%, signal=3%\n",
      "3 0.6921944 0.6921944        NA   53   tags=6%, list=0%, signal=6%\n",
      "4 0.1409836 0.1409836        NA  750 tags=31%, list=5%, signal=29%\n",
      "5 0.7577640 0.7577640        NA  685 tags=18%, list=5%, signal=17%\n",
      "6 0.2017544 0.7263158 0.7093259 1309 tags=30%, list=9%, signal=27%\n",
      "                                                                                                                                      core_enrichment\n",
      "1                                                                            MAP2K3/MAP3K3/MAPKAPK2/MAP3K8/MAPK14/MAP4K4/TGFB1/STAT1/MKNK2/JUN/NFKBIA\n",
      "2                                                                                                                                          VIM/MRPL33\n",
      "3                                                                                                                                 HSPA1A/SOX4/ZFP36L2\n",
      "4                                                                                                 IL1RN/MAP2K3/MYD88/MAPK14/TNF/TGFB1/IL1B/JUN/NFKBIA\n",
      "5                                                                                                MAP2K3/MAP3K3/TAB2/TNF/MAP4K4/TNFAIP3/STAT1/TNFRSF1B\n",
      "6 MAP2K1/AKT3/CD40/TICAM1/TRAF3/TLR1/LBP/MAP2K2/PIK3CD/LY96/MAP2K3/MYD88/MAP3K8/MAPK14/TAB2/TNF/PIK3R5/STAT1/IRF7/IL1B/CCL5/CCL3/JUN/CCL4/NFKBIA/CD14\n",
      "  Neglog10Padj\n",
      "1    0.2838036\n",
      "2    0.9503649\n",
      "3    0.1597719\n",
      "4    0.8508314\n",
      "5    0.1204660\n",
      "6    0.1388745\n"
     ]
    }
   ],
   "source": [
    "# read ---------------------------------------------------------------\n",
    "{\n",
    "  input_f_path = \"/share/home/wyz/Project/result/2025/202507/20250713_2_AML_TCGA_Beat_GSE165656_split_group_dotplot/20250713_4_AML_limma_Blast80to100_vs_Blast20to40/20250711_1_Chip_DiffGene_limma_Blast80to100_vs_Blast20to40_pathway_merge_data.xls\"\n",
    "  Blast80to100_vs_Blast20to40_df = read.table(input_f_path,sep=\"\\t\",header = TRUE)\n",
    "\n",
    "  ## select\n",
    "  print(dim(Blast80to100_vs_Blast20to40_df))\n",
    "  print(head(Blast80to100_vs_Blast20to40_df))\n",
    "}"
   ]
  },
  {
   "cell_type": "code",
   "execution_count": 13,
   "metadata": {
    "vscode": {
     "languageId": "r"
    }
   },
   "outputs": [
    {
     "name": "stdout",
     "output_type": "stream",
     "text": [
      "[1] 13 12\n",
      "                                         ID\n",
      "1                     BIOCARTA_MAPK_PATHWAY\n",
      "2         HINATA_NFKB_TARGETS_FIBROBLAST_UP\n",
      "3                     DASU_IL6_SIGNALING_UP\n",
      "4                     BIOCARTA_IL1R_PATHWAY\n",
      "5                           PID_TNF_PATHWAY\n",
      "6 KEGG_TOLL_LIKE_RECEPTOR_SIGNALING_PATHWAY\n",
      "                                Description setSize enrichmentScore       NES\n",
      "1                     BIOCARTA_MAPK_PATHWAY      80       0.4089811 0.8291534\n",
      "2         HINATA_NFKB_TARGETS_FIBROBLAST_UP      73       0.6753493 1.3419275\n",
      "3                     DASU_IL6_SIGNALING_UP      51       0.7912491 1.5324550\n",
      "4                     BIOCARTA_IL1R_PATHWAY      29       0.6231533 1.1358745\n",
      "5                           PID_TNF_PATHWAY      44       0.4016811 0.7581979\n",
      "6 KEGG_TOLL_LIKE_RECEPTOR_SIGNALING_PATHWAY      87       0.5168782 1.0307382\n",
      "      pvalue   p.adjust    qvalue rank                   leading_edge\n",
      "1 0.70827286 0.70827286        NA 1731 tags=29%, list=12%, signal=25%\n",
      "2 0.11079944 0.11079944        NA 1698 tags=33%, list=12%, signal=29%\n",
      "3 0.01467809 0.01467809        NA  585  tags=24%, list=4%, signal=23%\n",
      "4 0.33078101 0.33078101        NA 1196  tags=28%, list=9%, signal=25%\n",
      "5 0.78279883 0.78279883        NA 1295  tags=23%, list=9%, signal=21%\n",
      "6 0.42816501 0.83462133 0.7809322 1691 tags=32%, list=12%, signal=28%\n",
      "                                                                                                                                                 core_enrichment\n",
      "1        NFKBIA/TGFB1/RPS6KA4/MAP4K1/MKNK2/MAPKAPK2/RPS6KA1/PAK1/DAXX/MYC/MAP3K11/SP1/MAP2K3/RELA/MAP3K3/RPS6KA3/MAP2K2/MAPKAPK3/MAPK7/MAP2K1/MAPK3/MAPK1/MAP4K2\n",
      "2                     NFKBIA/TNFAIP2/SOD1/VIM/ARHGDIA/GADD45A/IL1B/G0S2/IER3/ARF6/GSTO1/ICAM1/CD83/ABCC1/SOD2/NFKB2/MTSS1/RELA/ETS1/SPTBN1/FN1/ERCC1/RPA2/MRPL33\n",
      "3                                                                                          ZFP36/ZFP36L2/HSPA1A/TGFB1/CEBPB/LY6E/SOX4/IFI30/TAPBP/IRAK1/IER3/ENG\n",
      "4                                                                                                               NFKBIA/TGFB1/MYD88/IRAK1/IL1B/MAP2K3/IL1RAP/RELA\n",
      "5                                                                                                TNFRSF1B/TXN/TAB2/TNFRSF1A/CASP8/MAP2K3/MADD/SQSTM1/RELA/MAP3K3\n",
      "6 CD14/NFKBIA/MYD88/IRF7/CCL3/CCL5/IRAK1/IL1B/IRF5/TAB2/CD86/LY96/PIK3R5/TLR8/CASP8/MAP2K3/IRF3/RELA/CXCL10/TLR4/CCL4/MAP2K2/TICAM1/TLR7/MAP2K1/MAPK3/MAPK1/TLR6\n",
      "  Neglog10Padj\n",
      "1   0.14979940\n",
      "2   0.95546244\n",
      "3   1.83333036\n",
      "4   0.48045943\n",
      "5   0.10634983\n",
      "6   0.07851052\n"
     ]
    }
   ],
   "source": [
    "# read ---------------------------------------------------------------\n",
    "{\n",
    "  input_f_path = \"/share/home/wyz/Project/result/2025/202507/20250713_2_AML_TCGA_Beat_GSE165656_split_group_dotplot/20250713_5_AML_limma_Year0to1_vs_Year4to8/20250711_1_Chip_DiffGene_limma_Year0to1_vs_Year4to8_pathway_merge_data.xls\"\n",
    " Year0to1_vs_Year4to8_df = read.table(input_f_path,sep=\"\\t\",header = TRUE)\n",
    "\n",
    "  ## select\n",
    "  print(dim(Year0to1_vs_Year4to8_df))\n",
    "  print(head(Year0to1_vs_Year4to8_df))\n",
    "}"
   ]
  },
  {
   "cell_type": "code",
   "execution_count": 14,
   "metadata": {
    "vscode": {
     "languageId": "r"
    }
   },
   "outputs": [
    {
     "name": "stdout",
     "output_type": "stream",
     "text": [
      "[1] 13 12\n",
      "                                         ID\n",
      "1                     BIOCARTA_MAPK_PATHWAY\n",
      "2         HINATA_NFKB_TARGETS_FIBROBLAST_UP\n",
      "3                     DASU_IL6_SIGNALING_UP\n",
      "4                     BIOCARTA_IL1R_PATHWAY\n",
      "5                           PID_TNF_PATHWAY\n",
      "6 KEGG_TOLL_LIKE_RECEPTOR_SIGNALING_PATHWAY\n",
      "                                Description setSize enrichmentScore        NES\n",
      "1                     BIOCARTA_MAPK_PATHWAY      80      -0.4148541 -0.8365989\n",
      "2         HINATA_NFKB_TARGETS_FIBROBLAST_UP      73       0.4360190  0.8941607\n",
      "3                     DASU_IL6_SIGNALING_UP      51       0.7057027  1.4477022\n",
      "4                     BIOCARTA_IL1R_PATHWAY      29       0.5635493  1.0564588\n",
      "5                           PID_TNF_PATHWAY      44       0.3727160  0.7505773\n",
      "6 KEGG_TOLL_LIKE_RECEPTOR_SIGNALING_PATHWAY      87       0.5220200  1.1026324\n",
      "      pvalue   p.adjust    qvalue rank                   leading_edge\n",
      "1 0.61652542 0.61652542        NA 1198  tags=19%, list=9%, signal=17%\n",
      "2 0.58301158 0.58301158        NA  767  tags=18%, list=6%, signal=17%\n",
      "3 0.09074733 0.09074733        NA  783  tags=24%, list=6%, signal=22%\n",
      "4 0.43478261 0.43478261        NA  213  tags=14%, list=2%, signal=14%\n",
      "5 0.75605214 0.75605214        NA 2081 tags=34%, list=15%, signal=29%\n",
      "6 0.32792793 0.85765658 0.8375944  924  tags=22%, list=7%, signal=21%\n",
      "                                                                                             core_enrichment\n",
      "1                     RAPGEF2/PAK2/TGFBR1/MAP3K5/MKNK1/STAT1/GRB2/RAC1/RAF1/MAX/MAPK14/MAP4K4/MAP3K1/JUN/FOS\n",
      "2                              NFKBIA/G0S2/IL1B/TNFAIP2/CD83/ICAM1/GSTO1/IER3/CXCL3/GADD45A/MTSS1/IRF1/NFKB2\n",
      "3                                      ZFP36/ZFP36L2/LY6E/TGFB1/CEBPB/SOX4/IER3/IFI30/CXCL3/TAPBP/SREBF1/ENG\n",
      "4                                                                                    NFKBIA/IL1B/TGFB1/MYD88\n",
      "5              TNFRSF1B/TXN/TAB2/SQSTM1/TNFRSF1A/MAP2K3/CASP8/NFKB1/MADD/MAP3K3/BIRC3/CYLD/RELA/MAP4K2/BIRC2\n",
      "6 CCL3/NFKBIA/CD14/CCL4/IL1B/IRF7/MYD88/CCL5/TAB2/TLR8/LY96/MAP3K8/PIK3R5/CD86/MAP2K3/TLR7/IRF5/CXCL10/CASP8\n",
      "  Neglog10Padj\n",
      "1   0.21004901\n",
      "2   0.23432282\n",
      "3   1.04216614\n",
      "4   0.36172784\n",
      "5   0.12144825\n",
      "6   0.06668658\n"
     ]
    }
   ],
   "source": [
    "# read ---------------------------------------------------------------\n",
    "{\n",
    "  input_f_path = \"/share/home/wyz/Project/result/2025/202507/20250713_2_AML_TCGA_Beat_GSE165656_split_group_dotplot/20250713_6_AML_limma_Year1to2_vs_Year4to8/20250711_1_Chip_DiffGene_limma_Year1to2_vs_Year4to8_pathway_merge_data.xls\" \n",
    " Year1to2_vs_Year4to8_df = read.table(input_f_path,sep=\"\\t\",header = TRUE)\n",
    "\n",
    "  ## select\n",
    "  print(dim(Year1to2_vs_Year4to8_df))\n",
    "  print(head(Year1to2_vs_Year4to8_df))\n",
    "}"
   ]
  },
  {
   "cell_type": "code",
   "execution_count": 15,
   "metadata": {
    "vscode": {
     "languageId": "r"
    }
   },
   "outputs": [
    {
     "name": "stdout",
     "output_type": "stream",
     "text": [
      "[1] 13 12\n",
      "                                         ID\n",
      "1                     BIOCARTA_MAPK_PATHWAY\n",
      "2         HINATA_NFKB_TARGETS_FIBROBLAST_UP\n",
      "3                     DASU_IL6_SIGNALING_UP\n",
      "4                     BIOCARTA_IL1R_PATHWAY\n",
      "5                           PID_TNF_PATHWAY\n",
      "6 KEGG_TOLL_LIKE_RECEPTOR_SIGNALING_PATHWAY\n",
      "                                Description setSize enrichmentScore        NES\n",
      "1                     BIOCARTA_MAPK_PATHWAY      80       0.4025846  0.8775590\n",
      "2         HINATA_NFKB_TARGETS_FIBROBLAST_UP      73       0.4117005  0.8787135\n",
      "3                     DASU_IL6_SIGNALING_UP      51       0.6444411  1.3234627\n",
      "4                     BIOCARTA_IL1R_PATHWAY      29      -0.4457836 -0.8699790\n",
      "5                           PID_TNF_PATHWAY      44       0.3571365  0.7162217\n",
      "6 KEGG_TOLL_LIKE_RECEPTOR_SIGNALING_PATHWAY      87       0.5646044  1.2056288\n",
      "     pvalue  p.adjust    qvalue rank                   leading_edge\n",
      "1 0.5941320 0.5941320        NA 1340 tags=26%, list=10%, signal=24%\n",
      "2 0.5893333 0.5893333        NA  816  tags=18%, list=6%, signal=17%\n",
      "3 0.1811414 0.1811414        NA  553  tags=20%, list=4%, signal=19%\n",
      "4 0.6298701 0.6298701        NA  286  tags=17%, list=2%, signal=17%\n",
      "5 0.8090692 0.8090692        NA 1091  tags=18%, list=8%, signal=17%\n",
      "6 0.2222222 0.8522329 0.8522329 1011  tags=29%, list=7%, signal=27%\n",
      "                                                                                                                                core_enrichment\n",
      "1           FOS/TGFB1/NFKBIA/CEBPA/MYC/RPS6KA3/PAK1/MAPK1/MAP3K8/MAP3K3/MAP2K3/MAP3K11/MAP2K1/MKNK2/NFKB1/SP1/PAK2/MAP4K1/MAPK7/RPS6KA4/RPS6KA1\n",
      "2                                                                   G0S2/TNFAIP2/NFKBIA/IL1B/SERPINB2/IER3/GSTO1/ICAM1/SOD2/FN1/IRF1/MTSS1/CD83\n",
      "3                                                                                    ZFP36/CEBPB/TGFB1/SOX4/LY6E/SERPINB2/IER3/IFI30/TAPBP/SOD2\n",
      "4                                                                                                                   IRAK3/MAPK14/MAP3K1/TNF/JUN\n",
      "5                                                                                       TNFRSF1B/MAP3K3/MAP2K3/CASP8/TNFRSF1A/SQSTM1/NFKB1/TAB2\n",
      "6 CD14/FOS/MYD88/NFKBIA/IL1B/TLR8/TLR2/CD86/IRF5/LY96/IRF7/TLR7/PIK3R5/TLR4/CCL3/MAPK1/MAP3K8/TLR1/TLR6/MAP2K3/PIK3CG/CASP8/MAP2K1/NFKB1/TICAM1\n",
      "  Neglog10Padj\n",
      "1   0.22611703\n",
      "2   0.22963899\n",
      "3   0.74198219\n",
      "4   0.20074899\n",
      "5   0.09201432\n",
      "6   0.06944172\n"
     ]
    }
   ],
   "source": [
    "# read ---------------------------------------------------------------\n",
    "{\n",
    "  input_f_path = \"/share/home/wyz/Project/result/2025/202507/20250713_2_AML_TCGA_Beat_GSE165656_split_group_dotplot/20250713_7_AML_limma_Year2to3_vs_Year4to8/20250711_1_Chip_DiffGene_limma_Year2to3_vs_Year4to8_pathway_merge_data.xls\"\n",
    "Year2to3_vs_Year4to8_df = read.table(input_f_path,sep=\"\\t\",header = TRUE)\n",
    "\n",
    "  ## select\n",
    "  print(dim(Year2to3_vs_Year4to8_df))\n",
    "  print(head(Year2to3_vs_Year4to8_df))\n",
    "}"
   ]
  },
  {
   "cell_type": "code",
   "execution_count": 16,
   "metadata": {
    "vscode": {
     "languageId": "r"
    }
   },
   "outputs": [
    {
     "name": "stdout",
     "output_type": "stream",
     "text": [
      "[1] 13 12\n",
      "                                         ID\n",
      "1                     BIOCARTA_MAPK_PATHWAY\n",
      "2         HINATA_NFKB_TARGETS_FIBROBLAST_UP\n",
      "3                     DASU_IL6_SIGNALING_UP\n",
      "4                     BIOCARTA_IL1R_PATHWAY\n",
      "5                           PID_TNF_PATHWAY\n",
      "6 KEGG_TOLL_LIKE_RECEPTOR_SIGNALING_PATHWAY\n",
      "                                Description setSize enrichmentScore        NES\n",
      "1                     BIOCARTA_MAPK_PATHWAY      80      -0.4148541 -0.8365989\n",
      "2         HINATA_NFKB_TARGETS_FIBROBLAST_UP      73       0.4360190  0.8941607\n",
      "3                     DASU_IL6_SIGNALING_UP      51       0.7057027  1.4477022\n",
      "4                     BIOCARTA_IL1R_PATHWAY      29       0.5635493  1.0564588\n",
      "5                           PID_TNF_PATHWAY      44       0.3727160  0.7505773\n",
      "6 KEGG_TOLL_LIKE_RECEPTOR_SIGNALING_PATHWAY      87       0.5220200  1.1026324\n",
      "      pvalue   p.adjust    qvalue rank                   leading_edge\n",
      "1 0.61652542 0.61652542        NA 1198  tags=19%, list=9%, signal=17%\n",
      "2 0.58301158 0.58301158        NA  767  tags=18%, list=6%, signal=17%\n",
      "3 0.09074733 0.09074733        NA  783  tags=24%, list=6%, signal=22%\n",
      "4 0.43478261 0.43478261        NA  213  tags=14%, list=2%, signal=14%\n",
      "5 0.75605214 0.75605214        NA 2081 tags=34%, list=15%, signal=29%\n",
      "6 0.32792793 0.85765658 0.8375944  924  tags=22%, list=7%, signal=21%\n",
      "                                                                                             core_enrichment\n",
      "1                     RAPGEF2/PAK2/TGFBR1/MAP3K5/MKNK1/STAT1/GRB2/RAC1/RAF1/MAX/MAPK14/MAP4K4/MAP3K1/JUN/FOS\n",
      "2                              NFKBIA/G0S2/IL1B/TNFAIP2/CD83/ICAM1/GSTO1/IER3/CXCL3/GADD45A/MTSS1/IRF1/NFKB2\n",
      "3                                      ZFP36/ZFP36L2/LY6E/TGFB1/CEBPB/SOX4/IER3/IFI30/CXCL3/TAPBP/SREBF1/ENG\n",
      "4                                                                                    NFKBIA/IL1B/TGFB1/MYD88\n",
      "5              TNFRSF1B/TXN/TAB2/SQSTM1/TNFRSF1A/MAP2K3/CASP8/NFKB1/MADD/MAP3K3/BIRC3/CYLD/RELA/MAP4K2/BIRC2\n",
      "6 CCL3/NFKBIA/CD14/CCL4/IL1B/IRF7/MYD88/CCL5/TAB2/TLR8/LY96/MAP3K8/PIK3R5/CD86/MAP2K3/TLR7/IRF5/CXCL10/CASP8\n",
      "  Neglog10Padj\n",
      "1   0.21004901\n",
      "2   0.23432282\n",
      "3   1.04216614\n",
      "4   0.36172784\n",
      "5   0.12144825\n",
      "6   0.06668658\n"
     ]
    }
   ],
   "source": [
    "# read ---------------------------------------------------------------\n",
    "{\n",
    "  input_f_path = \"/share/home/wyz/Project/result/2025/202507/20250713_2_AML_TCGA_Beat_GSE165656_split_group_dotplot/20250713_8_AML_limma_Year3to4_vs_Year4to8/20250711_1_Chip_DiffGene_limma_Year3to4_vs_Year4to8_pathway_merge_data.xls\"\n",
    " Year3to4_vs_Year4to8_df = read.table(input_f_path,sep=\"\\t\",header = TRUE)\n",
    "\n",
    "  ##  select\n",
    "  print(dim(Year1to2_vs_Year4to8_df))\n",
    "  print(head(Year1to2_vs_Year4to8_df))\n",
    "}"
   ]
  },
  {
   "cell_type": "code",
   "execution_count": null,
   "metadata": {
    "vscode": {
     "languageId": "r"
    }
   },
   "outputs": [],
   "source": []
  },
  {
   "cell_type": "code",
   "execution_count": 47,
   "metadata": {
    "vscode": {
     "languageId": "r"
    }
   },
   "outputs": [],
   "source": [
    "## merge"
   ]
  },
  {
   "cell_type": "code",
   "execution_count": 17,
   "metadata": {
    "vscode": {
     "languageId": "r"
    }
   },
   "outputs": [],
   "source": [
    "{\n",
    "    TRAF6_high_vs_low_df  = data.frame(Group = rep(\"TRAF6_high_vs_low\", nrow(TRAF6_high_vs_low_df)), TRAF6_high_vs_low_df)\n",
    "\n",
    "    Blast40to60_vs_Blast20to40_df = data.frame(Group = rep(\"Blast40to60_vs_Blast20to40\", nrow(Blast40to60_vs_Blast20to40_df)), Blast40to60_vs_Blast20to40_df)\n",
    "    Blast60to80_vs_Blast20to40_df = data.frame(Group = rep(\"Blast60to80_vs_Blast20to40\", nrow(Blast60to80_vs_Blast20to40_df)), Blast60to80_vs_Blast20to40_df)\n",
    "    Blast80to100_vs_Blast20to40_df = data.frame(Group = rep(\"Blast80to100_vs_Blast20to40\", nrow(Blast80to100_vs_Blast20to40_df)), Blast80to100_vs_Blast20to40_df)\n",
    "\n",
    "   Year0to1_vs_Year4to8_df = data.frame(Group = rep(\"Year0to1_vs_Year4to8\", nrow(Year0to1_vs_Year4to8_df)),Year0to1_vs_Year4to8_df)\n",
    "   Year1to2_vs_Year4to8_df = data.frame(Group = rep(\"Year1to2_vs_Year4to8\", nrow(Year1to2_vs_Year4to8_df)),Year1to2_vs_Year4to8_df)\n",
    "   Year2to3_vs_Year4to8_df = data.frame(Group = rep(\"Year2to3_vs_Year4to8\", nrow(Year2to3_vs_Year4to8_df)),Year2to3_vs_Year4to8_df)\n",
    "   Year3to4_vs_Year4to8_df = data.frame(Group = rep(\"Year3to4_vs_Year4to8\", nrow(Year3to4_vs_Year4to8_df)),Year3to4_vs_Year4to8_df)\n",
    "\n",
    "}"
   ]
  },
  {
   "cell_type": "code",
   "execution_count": null,
   "metadata": {
    "vscode": {
     "languageId": "r"
    }
   },
   "outputs": [],
   "source": []
  },
  {
   "cell_type": "code",
   "execution_count": 18,
   "metadata": {
    "vscode": {
     "languageId": "r"
    }
   },
   "outputs": [
    {
     "name": "stdout",
     "output_type": "stream",
     "text": [
      "               Group                                        ID\n",
      "1  TRAF6_high_vs_low                     BIOCARTA_MAPK_PATHWAY\n",
      "2  TRAF6_high_vs_low         HINATA_NFKB_TARGETS_FIBROBLAST_UP\n",
      "3  TRAF6_high_vs_low                     DASU_IL6_SIGNALING_UP\n",
      "4  TRAF6_high_vs_low                     BIOCARTA_IL1R_PATHWAY\n",
      "5  TRAF6_high_vs_low                           PID_TNF_PATHWAY\n",
      "6  TRAF6_high_vs_low KEGG_TOLL_LIKE_RECEPTOR_SIGNALING_PATHWAY\n",
      "7  TRAF6_high_vs_low            HALLMARK_INFLAMMATORY_RESPONSE\n",
      "8  TRAF6_high_vs_low           KEGG_JAK_STAT_SIGNALING_PATHWAY\n",
      "9  TRAF6_high_vs_low              KEGG_NOTCH_SIGNALING_PATHWAY\n",
      "10 TRAF6_high_vs_low                KEGG_WNT_SIGNALING_PATHWAY\n",
      "11 TRAF6_high_vs_low           KEGG_HEDGEHOG_SIGNALING_PATHWAY\n",
      "12 TRAF6_high_vs_low                      GOBP_HIPPO_SIGNALING\n",
      "13 TRAF6_high_vs_low                      WP_PI3KAKT_SIGNALING\n",
      "                                 Description setSize enrichmentScore       NES\n",
      "1                      BIOCARTA_MAPK_PATHWAY      80       0.6817377 1.3010996\n",
      "2          HINATA_NFKB_TARGETS_FIBROBLAST_UP      73       0.7154392 1.3528199\n",
      "3                      DASU_IL6_SIGNALING_UP      51       0.7189860 1.3319366\n",
      "4                      BIOCARTA_IL1R_PATHWAY      29       0.7255758 1.3114098\n",
      "5                            PID_TNF_PATHWAY      44       0.6524667 1.2055442\n",
      "6  KEGG_TOLL_LIKE_RECEPTOR_SIGNALING_PATHWAY      87       0.6328657 1.2118414\n",
      "7             HALLMARK_INFLAMMATORY_RESPONSE     180       0.6696453 1.3194059\n",
      "8            KEGG_JAK_STAT_SIGNALING_PATHWAY     113       0.6870917 1.3288360\n",
      "9               KEGG_NOTCH_SIGNALING_PATHWAY      45       0.6829981 1.2699433\n",
      "10                KEGG_WNT_SIGNALING_PATHWAY     133       0.5659921 1.0991275\n",
      "11           KEGG_HEDGEHOG_SIGNALING_PATHWAY      43       0.5306745 0.9859086\n",
      "12                      GOBP_HIPPO_SIGNALING      38       0.6584970 1.2119661\n",
      "13                      WP_PI3KAKT_SIGNALING     277       0.6515824 1.3257177\n",
      "        pvalue    p.adjust     qvalue rank                   leading_edge\n",
      "1  0.045553145 0.045553145         NA 2012 tags=39%, list=14%, signal=33%\n",
      "2  0.016887461 0.016887461         NA 1786 tags=36%, list=13%, signal=31%\n",
      "3  0.045203969 0.045203969         NA 2034 tags=37%, list=15%, signal=32%\n",
      "4  0.064377682 0.064377682         NA 2520 tags=48%, list=18%, signal=40%\n",
      "5  0.129729730 0.129729730         NA 3133 tags=57%, list=23%, signal=44%\n",
      "6  0.080874317 0.249584937 0.19850030 3269 tags=45%, list=24%, signal=34%\n",
      "7  0.007435387 0.034284185 0.02165317 1567 tags=27%, list=11%, signal=24%\n",
      "8  0.016070119 0.111254668 0.09043508 2092 tags=36%, list=15%, signal=31%\n",
      "9  0.085805085 0.280816641 0.22826616 2292 tags=40%, list=17%, signal=34%\n",
      "10 0.252469813 0.504939627 0.41044800 3494 tags=34%, list=25%, signal=26%\n",
      "11 0.549102429 0.871800797 0.70865679 5074 tags=28%, list=37%, signal=18%\n",
      "12 0.134615385 0.363461538 0.31360324 2012 tags=24%, list=14%, signal=20%\n",
      "13 0.003353898 0.003353898         NA 1964 tags=21%, list=14%, signal=19%\n",
      "                                                                                                                                                                                                                                                                                                                                        core_enrichment\n",
      "1                                                                                                                                                    FOS/NFKBIA/TGFB1/MAPKAPK2/STAT1/SP1/MAPK1/RPS6KA3/MKNK2/GRB2/RAF1/MAP3K1/MAP3K8/PAK2/MAP3K5/MAPKAPK3/RELA/RAC1/TGFBR1/MAP3K2/MAPK14/PAK1/MAP3K3/NFKB1/MAP4K4/RAPGEF2/MAP2K1/MAP4K5/MAX/ATF2/MAP2K3\n",
      "2                                                                                                                                                                                                G0S2/NFKBIA/VIM/ARF6/IL1B/TNFAIP2/TNFAIP3/TAF15/SOD1/AP2B1/SPTBN1/ABCC1/GADD45A/CD83/IRF1/BIRC2/ETS1/LITAF/RELA/RAC1/NFKB1/IER3/KDM6A/NFKB2/SOD2/GSTO1\n",
      "3                                                                                                                                                                                                                                           ZFP36/ZFP36L2/TGFB1/CD47/PLEC/ANPEP/SOX4/IRAK1/DNM2/TAPBP/IFI30/ATP2B1/CEBPB/ENG/IER3/SOD2/HLA-F/IRF9/KHSRP\n",
      "4                                                                                                                                                                                                                                                                  NFKBIA/IL1B/TGFB1/MYD88/IRAK1/MAP3K1/IRAK3/RELA/MAPK14/NFKB1/MAP2K3/TRAF6/IL1RAP/JUN\n",
      "5                                                                                                                                                                                     TAB2/TNFAIP3/TNFRSF1B/STAT1/MADD/CASP8/MAP3K1/CYLD/MAP3K5/BIRC2/NSMAF/RELA/MAP3K3/NFKB1/MAP4K4/MAP4K5/SQSTM1/MAP2K3/BAG4/MAP4K3/CHUK/TNFRSF1A/MAP3K7/ADAM17/BIRC3\n",
      "6                                                                                                                 FOS/NFKBIA/CD14/IL1B/TAB2/MYD88/PIK3R1/STAT1/IRAK1/MAPK1/CASP8/MAP3K8/PIK3R5/PIK3CG/TLR2/RELA/IRF7/RAC1/MAPK14/NFKB1/MAP2K1/TLR8/LY96/MAP2K3/TLR1/TRAF6/TLR4/PIK3CD/JUN/CD86/CHUK/TICAM1/MAP3K7/IFNAR1/TLR6/MAP2K2/IRAK4/MAPK3/PIK3CB\n",
      "7                                                           KLF6/SELL/NFKBIA/HIF1A/CD69/BTG2/NAMPT/CD14/IL1B/CYBB/IL10RA/LYN/PTGER4/TNFRSF1B/EMP3/GNA15/C5AR1/ATP2A2/ABI1/MXD1/TAPBP/LCP2/GPR183/RHOG/PTPRE/RGS1/RAF1/IFNGR2/ATP2B1/NLRP3/RIPK2/AHR/CD55/PIK3R5/IRF1/FPR1/ITGB3/EIF2AK2/IFITM1/ATP2C1/TLR2/RELA/IRF7/CD82/CD48/NFKB1/BEST1/PTGER2/HBEGF\n",
      "8                                                                                                 PIM1/SOCS3/EP300/IL10RA/PTPN6/CBL/IFNGR1/PIK3R1/IL3RA/STAT1/CREBBP/STAT3/CCND2/JAK1/JAK3/CSF2RB/GRB2/STAT5B/PTPN11/IFNGR2/STAT6/STAT5A/SPRY1/PIK3R5/SOS2/JAK2/PIK3CG/TYK2/SOCS2/SOS1/STAT2/IL6ST/STAM/CSF2RA/IL2RA/IRF9/CCND3/PIAS1/CRLF2/SOCS4/SPRY2\n",
      "9                                                                                                                                                                                                                                             EP300/NOTCH2/CREBBP/APH1A/NOTCH1/DTX3L/HDAC1/NCSTN/NCOR2/SNW1/NUMB/CIR1/MAML3/DVL3/RBPJ/PSEN1/KAT2B/MAML1\n",
      "10                                                            CTNNB1/RHOA/EP300/PLCB2/PRKCB/CREBBP/CCND2/PRKACB/ROCK1/NFAT5/PPP2R5A/RAC1/PPP2CA/CSNK1A1/CHP1/SMAD3/NFATC3/TBL1XR1/TCF7L2/CCND3/CAMK2G/PPP3CA/DVL3/CHD8/PSEN1/NLK/PPP2R5C/PPP3R1/APC/JUN/CSNK2A2/PPP3CC/NFATC2/PRKX/CUL1/FBXW11/MAP3K7/PRKACA/SMAD4/LRP5/ROCK2/MAPK8/PPP3CB/PPP2R1A/SKP1\n",
      "11                                                                                                                                                                                                                                                                   PRKACB/CSNK1A1/CSNK1D/PRKX/FBXW11/PRKACA/CSNK1G2/CSNK1G3/GSK3B/CSNK1G1/CSNK1E/BTRC\n",
      "12                                                                                                                                                                                                                                                                                                MOB1A/PJA2/STK4/MOB1B/LATS2/TIAL1/MAPK14/LATS1/MAP2K3\n",
      "13 RPS6/MCL1/HSP90AB1/THBS1/HSP90AA1/DDIT4/FLT3/ATF4/CDK6/ITGA4/KIT/EIF4B/PIK3R1/NRAS/GNB1/PIK3AP1/IL3RA/CCND2/SYK/MAPK1/ITGA2B/LPAR6/JAK1/ITGB1/JAK3/GRB2/RAF1/ITGA9/ANGPT1/ITGA6/CDKN1B/PKN1/PTEN/PIK3R5/ITGB3/PPP2R5A/F2R/SOS2/JAK2/PIK3CG/TLR2/RELA/CSF1R/RAC1/SOS1/PPP2CA/NFKB1/PKN2/PRKAA1/MYB/SGK1/MAP2K1/CDC37/RBL2/IL2RA/KRAS/CCND3/ATF2/FOXO3\n",
      "   Neglog10Padj\n",
      "1    1.34148163\n",
      "2    1.77243563\n",
      "3    1.34482343\n",
      "4    1.19126466\n",
      "5    0.88696049\n",
      "6    0.60278163\n",
      "7    1.46490617\n",
      "8    0.95368176\n",
      "9    0.55157716\n",
      "10   0.29676055\n",
      "11   0.05958274\n",
      "12   0.43954154\n",
      "13   2.47445008\n"
     ]
    }
   ],
   "source": [
    "print(TRAF6_high_vs_low_df)"
   ]
  },
  {
   "cell_type": "code",
   "execution_count": 19,
   "metadata": {
    "vscode": {
     "languageId": "r"
    }
   },
   "outputs": [
    {
     "name": "stdout",
     "output_type": "stream",
     "text": [
      "[1] 104  13\n",
      "              Group                                        ID\n",
      "1 TRAF6_high_vs_low                     BIOCARTA_MAPK_PATHWAY\n",
      "2 TRAF6_high_vs_low         HINATA_NFKB_TARGETS_FIBROBLAST_UP\n",
      "3 TRAF6_high_vs_low                     DASU_IL6_SIGNALING_UP\n",
      "4 TRAF6_high_vs_low                     BIOCARTA_IL1R_PATHWAY\n",
      "5 TRAF6_high_vs_low                           PID_TNF_PATHWAY\n",
      "6 TRAF6_high_vs_low KEGG_TOLL_LIKE_RECEPTOR_SIGNALING_PATHWAY\n",
      "                                Description setSize enrichmentScore      NES\n",
      "1                     BIOCARTA_MAPK_PATHWAY      80       0.6817377 1.301100\n",
      "2         HINATA_NFKB_TARGETS_FIBROBLAST_UP      73       0.7154392 1.352820\n",
      "3                     DASU_IL6_SIGNALING_UP      51       0.7189860 1.331937\n",
      "4                     BIOCARTA_IL1R_PATHWAY      29       0.7255758 1.311410\n",
      "5                           PID_TNF_PATHWAY      44       0.6524667 1.205544\n",
      "6 KEGG_TOLL_LIKE_RECEPTOR_SIGNALING_PATHWAY      87       0.6328657 1.211841\n",
      "      pvalue   p.adjust    qvalue rank                   leading_edge\n",
      "1 0.04555315 0.04555315        NA 2012 tags=39%, list=14%, signal=33%\n",
      "2 0.01688746 0.01688746        NA 1786 tags=36%, list=13%, signal=31%\n",
      "3 0.04520397 0.04520397        NA 2034 tags=37%, list=15%, signal=32%\n",
      "4 0.06437768 0.06437768        NA 2520 tags=48%, list=18%, signal=40%\n",
      "5 0.12972973 0.12972973        NA 3133 tags=57%, list=23%, signal=44%\n",
      "6 0.08087432 0.24958494 0.1985003 3269 tags=45%, list=24%, signal=34%\n",
      "                                                                                                                                                                                                                        core_enrichment\n",
      "1                                    FOS/NFKBIA/TGFB1/MAPKAPK2/STAT1/SP1/MAPK1/RPS6KA3/MKNK2/GRB2/RAF1/MAP3K1/MAP3K8/PAK2/MAP3K5/MAPKAPK3/RELA/RAC1/TGFBR1/MAP3K2/MAPK14/PAK1/MAP3K3/NFKB1/MAP4K4/RAPGEF2/MAP2K1/MAP4K5/MAX/ATF2/MAP2K3\n",
      "2                                                                                G0S2/NFKBIA/VIM/ARF6/IL1B/TNFAIP2/TNFAIP3/TAF15/SOD1/AP2B1/SPTBN1/ABCC1/GADD45A/CD83/IRF1/BIRC2/ETS1/LITAF/RELA/RAC1/NFKB1/IER3/KDM6A/NFKB2/SOD2/GSTO1\n",
      "3                                                                                                                           ZFP36/ZFP36L2/TGFB1/CD47/PLEC/ANPEP/SOX4/IRAK1/DNM2/TAPBP/IFI30/ATP2B1/CEBPB/ENG/IER3/SOD2/HLA-F/IRF9/KHSRP\n",
      "4                                                                                                                                                  NFKBIA/IL1B/TGFB1/MYD88/IRAK1/MAP3K1/IRAK3/RELA/MAPK14/NFKB1/MAP2K3/TRAF6/IL1RAP/JUN\n",
      "5                                                                     TAB2/TNFAIP3/TNFRSF1B/STAT1/MADD/CASP8/MAP3K1/CYLD/MAP3K5/BIRC2/NSMAF/RELA/MAP3K3/NFKB1/MAP4K4/MAP4K5/SQSTM1/MAP2K3/BAG4/MAP4K3/CHUK/TNFRSF1A/MAP3K7/ADAM17/BIRC3\n",
      "6 FOS/NFKBIA/CD14/IL1B/TAB2/MYD88/PIK3R1/STAT1/IRAK1/MAPK1/CASP8/MAP3K8/PIK3R5/PIK3CG/TLR2/RELA/IRF7/RAC1/MAPK14/NFKB1/MAP2K1/TLR8/LY96/MAP2K3/TLR1/TRAF6/TLR4/PIK3CD/JUN/CD86/CHUK/TICAM1/MAP3K7/IFNAR1/TLR6/MAP2K2/IRAK4/MAPK3/PIK3CB\n",
      "  Neglog10Padj\n",
      "1    1.3414816\n",
      "2    1.7724356\n",
      "3    1.3448234\n",
      "4    1.1912647\n",
      "5    0.8869605\n",
      "6    0.6027816\n"
     ]
    }
   ],
   "source": [
    "{\n",
    "        merge_df = rbind(\n",
    "            TRAF6_high_vs_low_df, \n",
    "            Blast40to60_vs_Blast20to40_df,\n",
    "            Blast60to80_vs_Blast20to40_df,\n",
    "            Blast80to100_vs_Blast20to40_df,\n",
    "           Year0to1_vs_Year4to8_df,\n",
    "           Year1to2_vs_Year4to8_df,\n",
    "           Year2to3_vs_Year4to8_df,\n",
    "           Year3to4_vs_Year4to8_df\n",
    "        )\n",
    "    print(dim(merge_df))\n",
    "    print(head(merge_df))\n",
    "}"
   ]
  },
  {
   "cell_type": "code",
   "execution_count": 21,
   "metadata": {
    "vscode": {
     "languageId": "r"
    }
   },
   "outputs": [
    {
     "name": "stdout",
     "output_type": "stream",
     "text": [
      "              Group                                        ID\n",
      "1 TRAF6_high_vs_low                     BIOCARTA_MAPK_PATHWAY\n",
      "2 TRAF6_high_vs_low         HINATA_NFKB_TARGETS_FIBROBLAST_UP\n",
      "3 TRAF6_high_vs_low                     DASU_IL6_SIGNALING_UP\n",
      "4 TRAF6_high_vs_low                     BIOCARTA_IL1R_PATHWAY\n",
      "5 TRAF6_high_vs_low                           PID_TNF_PATHWAY\n",
      "6 TRAF6_high_vs_low KEGG_TOLL_LIKE_RECEPTOR_SIGNALING_PATHWAY\n",
      "                                Description setSize enrichmentScore      NES\n",
      "1                     BIOCARTA_MAPK_PATHWAY      80       0.6817377 1.301100\n",
      "2         HINATA_NFKB_TARGETS_FIBROBLAST_UP      73       0.7154392 1.352820\n",
      "3                     DASU_IL6_SIGNALING_UP      51       0.7189860 1.331937\n",
      "4                     BIOCARTA_IL1R_PATHWAY      29       0.7255758 1.311410\n",
      "5                           PID_TNF_PATHWAY      44       0.6524667 1.205544\n",
      "6 KEGG_TOLL_LIKE_RECEPTOR_SIGNALING_PATHWAY      87       0.6328657 1.211841\n",
      "      pvalue   p.adjust    qvalue rank                   leading_edge\n",
      "1 0.04555315 0.04555315        NA 2012 tags=39%, list=14%, signal=33%\n",
      "2 0.01688746 0.01688746        NA 1786 tags=36%, list=13%, signal=31%\n",
      "3 0.04520397 0.04520397        NA 2034 tags=37%, list=15%, signal=32%\n",
      "4 0.06437768 0.06437768        NA 2520 tags=48%, list=18%, signal=40%\n",
      "5 0.12972973 0.12972973        NA 3133 tags=57%, list=23%, signal=44%\n",
      "6 0.08087432 0.24958494 0.1985003 3269 tags=45%, list=24%, signal=34%\n",
      "                                                                                                                                                                                                                        core_enrichment\n",
      "1                                    FOS/NFKBIA/TGFB1/MAPKAPK2/STAT1/SP1/MAPK1/RPS6KA3/MKNK2/GRB2/RAF1/MAP3K1/MAP3K8/PAK2/MAP3K5/MAPKAPK3/RELA/RAC1/TGFBR1/MAP3K2/MAPK14/PAK1/MAP3K3/NFKB1/MAP4K4/RAPGEF2/MAP2K1/MAP4K5/MAX/ATF2/MAP2K3\n",
      "2                                                                                G0S2/NFKBIA/VIM/ARF6/IL1B/TNFAIP2/TNFAIP3/TAF15/SOD1/AP2B1/SPTBN1/ABCC1/GADD45A/CD83/IRF1/BIRC2/ETS1/LITAF/RELA/RAC1/NFKB1/IER3/KDM6A/NFKB2/SOD2/GSTO1\n",
      "3                                                                                                                           ZFP36/ZFP36L2/TGFB1/CD47/PLEC/ANPEP/SOX4/IRAK1/DNM2/TAPBP/IFI30/ATP2B1/CEBPB/ENG/IER3/SOD2/HLA-F/IRF9/KHSRP\n",
      "4                                                                                                                                                  NFKBIA/IL1B/TGFB1/MYD88/IRAK1/MAP3K1/IRAK3/RELA/MAPK14/NFKB1/MAP2K3/TRAF6/IL1RAP/JUN\n",
      "5                                                                     TAB2/TNFAIP3/TNFRSF1B/STAT1/MADD/CASP8/MAP3K1/CYLD/MAP3K5/BIRC2/NSMAF/RELA/MAP3K3/NFKB1/MAP4K4/MAP4K5/SQSTM1/MAP2K3/BAG4/MAP4K3/CHUK/TNFRSF1A/MAP3K7/ADAM17/BIRC3\n",
      "6 FOS/NFKBIA/CD14/IL1B/TAB2/MYD88/PIK3R1/STAT1/IRAK1/MAPK1/CASP8/MAP3K8/PIK3R5/PIK3CG/TLR2/RELA/IRF7/RAC1/MAPK14/NFKB1/MAP2K1/TLR8/LY96/MAP2K3/TLR1/TRAF6/TLR4/PIK3CD/JUN/CD86/CHUK/TICAM1/MAP3K7/IFNAR1/TLR6/MAP2K2/IRAK4/MAPK3/PIK3CB\n",
      "  Neglog10Padj Neglog10Pvalue\n",
      "1    1.3414816      1.3414816\n",
      "2    1.7724356      1.7724356\n",
      "3    1.3448234      1.3448234\n",
      "4    1.1912647      1.1912647\n",
      "5    0.8869605      0.8869605\n",
      "6    0.6027816      1.0921894\n"
     ]
    }
   ],
   "source": [
    "## add\n",
    "merge_df$Neglog10Pvalue <- -log10(merge_df$pvalue + 1e-10)  # \n",
    "print(head(merge_df))"
   ]
  },
  {
   "cell_type": "code",
   "execution_count": 22,
   "metadata": {
    "vscode": {
     "languageId": "r"
    }
   },
   "outputs": [],
   "source": [
    "{\n",
    "    ## save\n",
    "    output_f_path = file.path(output_dir,\"20250713_1_AML_limma_GSE58831_Pvalue_barplot.xls\")    \n",
    "    write.table(merge_df,file=output_f_path,sep=\"\\t\",row.names = F,quote = FALSE)\n",
    "}"
   ]
  },
  {
   "cell_type": "code",
   "execution_count": 23,
   "metadata": {
    "vscode": {
     "languageId": "r"
    }
   },
   "outputs": [],
   "source": [
    "{\n",
    "    ## factor\n",
    "    merge_df$Group = factor(x = merge_df$Group,levels = c(\n",
    "        \"TRAF6_high_vs_low\",\n",
    "        \"Blast40to60_vs_Blast20to40\",\n",
    "        \"Blast60to80_vs_Blast20to40\",\n",
    "        \"Blast80to100_vs_Blast20to40\",\n",
    "        \n",
    "        \"Year0to1_vs_Year4to8\",\n",
    "        \"Year1to2_vs_Year4to8\",\n",
    "        \"Year2to3_vs_Year4to8\",\n",
    "        \"Year3to4_vs_Year4to8\"\n",
    "        ))\n",
    "}"
   ]
  },
  {
   "cell_type": "code",
   "execution_count": 24,
   "metadata": {
    "vscode": {
     "languageId": "r"
    }
   },
   "outputs": [],
   "source": [
    "{\n",
    "    ## rename\n",
    "    data_rename = c(\n",
    "        \"TRAF6_high_vs_low\"=\"TRAF6_high(n=35) vs low(n=34)\",\n",
    "        \"Blast40to60_vs_Blast20to40\"=\"Blast40to60(n=51) vs Blast20to40(n=47)\",\n",
    "        \"Blast60to80_vs_Blast20to40\"=\"Blast60to80(n=58) vs Blast20to40(n=47)\",\n",
    "        \"Blast80to100_vs_Blast20to40\"=\"Blast80to100(n=85) vs Blast20to40(n=47)\",\n",
    "        \n",
    "        \"Year0to1_vs_Year4to8\"=\"Year0to1(n=195) vs Year4to8(n=16)\",\n",
    "        \"Year1to2_vs_Year4to8\"=\"Year1to2(n=60) vs Year4to8(n=16)\",\n",
    "        \"Year2to3_vs_Year4to8\"=\"Year2to3(n=24) vs Year4to8(n=16)\",\n",
    "        \"Year3to4_vs_Year4to8\"=\"Year3to4(n=14) vs Year4to8(n=16)\"\n",
    "    )\n",
    "}"
   ]
  },
  {
   "cell_type": "code",
   "execution_count": 25,
   "metadata": {
    "vscode": {
     "languageId": "r"
    }
   },
   "outputs": [
    {
     "name": "stdout",
     "output_type": "stream",
     "text": [
      "  [1] TRAF6_high_vs_low           TRAF6_high_vs_low          \n",
      "  [3] TRAF6_high_vs_low           TRAF6_high_vs_low          \n",
      "  [5] TRAF6_high_vs_low           TRAF6_high_vs_low          \n",
      "  [7] TRAF6_high_vs_low           TRAF6_high_vs_low          \n",
      "  [9] TRAF6_high_vs_low           TRAF6_high_vs_low          \n",
      " [11] TRAF6_high_vs_low           TRAF6_high_vs_low          \n",
      " [13] TRAF6_high_vs_low           Blast40to60_vs_Blast20to40 \n",
      " [15] Blast40to60_vs_Blast20to40  Blast40to60_vs_Blast20to40 \n",
      " [17] Blast40to60_vs_Blast20to40  Blast40to60_vs_Blast20to40 \n",
      " [19] Blast40to60_vs_Blast20to40  Blast40to60_vs_Blast20to40 \n",
      " [21] Blast40to60_vs_Blast20to40  Blast40to60_vs_Blast20to40 \n",
      " [23] Blast40to60_vs_Blast20to40  Blast40to60_vs_Blast20to40 \n",
      " [25] Blast40to60_vs_Blast20to40  Blast40to60_vs_Blast20to40 \n",
      " [27] Blast60to80_vs_Blast20to40  Blast60to80_vs_Blast20to40 \n",
      " [29] Blast60to80_vs_Blast20to40  Blast60to80_vs_Blast20to40 \n",
      " [31] Blast60to80_vs_Blast20to40  Blast60to80_vs_Blast20to40 \n",
      " [33] Blast60to80_vs_Blast20to40  Blast60to80_vs_Blast20to40 \n",
      " [35] Blast60to80_vs_Blast20to40  Blast60to80_vs_Blast20to40 \n",
      " [37] Blast60to80_vs_Blast20to40  Blast60to80_vs_Blast20to40 \n",
      " [39] Blast60to80_vs_Blast20to40  Blast80to100_vs_Blast20to40\n",
      " [41] Blast80to100_vs_Blast20to40 Blast80to100_vs_Blast20to40\n",
      " [43] Blast80to100_vs_Blast20to40 Blast80to100_vs_Blast20to40\n",
      " [45] Blast80to100_vs_Blast20to40 Blast80to100_vs_Blast20to40\n",
      " [47] Blast80to100_vs_Blast20to40 Blast80to100_vs_Blast20to40\n",
      " [49] Blast80to100_vs_Blast20to40 Blast80to100_vs_Blast20to40\n",
      " [51] Blast80to100_vs_Blast20to40 Blast80to100_vs_Blast20to40\n",
      " [53] Year0to1_vs_Year4to8        Year0to1_vs_Year4to8       \n",
      " [55] Year0to1_vs_Year4to8        Year0to1_vs_Year4to8       \n",
      " [57] Year0to1_vs_Year4to8        Year0to1_vs_Year4to8       \n",
      " [59] Year0to1_vs_Year4to8        Year0to1_vs_Year4to8       \n",
      " [61] Year0to1_vs_Year4to8        Year0to1_vs_Year4to8       \n",
      " [63] Year0to1_vs_Year4to8        Year0to1_vs_Year4to8       \n",
      " [65] Year0to1_vs_Year4to8        Year1to2_vs_Year4to8       \n",
      " [67] Year1to2_vs_Year4to8        Year1to2_vs_Year4to8       \n",
      " [69] Year1to2_vs_Year4to8        Year1to2_vs_Year4to8       \n",
      " [71] Year1to2_vs_Year4to8        Year1to2_vs_Year4to8       \n",
      " [73] Year1to2_vs_Year4to8        Year1to2_vs_Year4to8       \n",
      " [75] Year1to2_vs_Year4to8        Year1to2_vs_Year4to8       \n",
      " [77] Year1to2_vs_Year4to8        Year1to2_vs_Year4to8       \n",
      " [79] Year2to3_vs_Year4to8        Year2to3_vs_Year4to8       \n",
      " [81] Year2to3_vs_Year4to8        Year2to3_vs_Year4to8       \n",
      " [83] Year2to3_vs_Year4to8        Year2to3_vs_Year4to8       \n",
      " [85] Year2to3_vs_Year4to8        Year2to3_vs_Year4to8       \n",
      " [87] Year2to3_vs_Year4to8        Year2to3_vs_Year4to8       \n",
      " [89] Year2to3_vs_Year4to8        Year2to3_vs_Year4to8       \n",
      " [91] Year2to3_vs_Year4to8        Year3to4_vs_Year4to8       \n",
      " [93] Year3to4_vs_Year4to8        Year3to4_vs_Year4to8       \n",
      " [95] Year3to4_vs_Year4to8        Year3to4_vs_Year4to8       \n",
      " [97] Year3to4_vs_Year4to8        Year3to4_vs_Year4to8       \n",
      " [99] Year3to4_vs_Year4to8        Year3to4_vs_Year4to8       \n",
      "[101] Year3to4_vs_Year4to8        Year3to4_vs_Year4to8       \n",
      "[103] Year3to4_vs_Year4to8        Year3to4_vs_Year4to8       \n",
      "8 Levels: TRAF6_high_vs_low ... Year3to4_vs_Year4to8\n"
     ]
    }
   ],
   "source": [
    "{\n",
    "    print(merge_df$Group)\n",
    "}"
   ]
  },
  {
   "cell_type": "code",
   "execution_count": 26,
   "metadata": {
    "vscode": {
     "languageId": "r"
    }
   },
   "outputs": [
    {
     "data": {
      "text/plain": [
       "\n",
       "                    BIOCARTA_IL1R_PATHWAY \n",
       "                                        8 \n",
       "                    BIOCARTA_MAPK_PATHWAY \n",
       "                                        8 \n",
       "                    DASU_IL6_SIGNALING_UP \n",
       "                                        8 \n",
       "                     GOBP_HIPPO_SIGNALING \n",
       "                                        8 \n",
       "           HALLMARK_INFLAMMATORY_RESPONSE \n",
       "                                        8 \n",
       "        HINATA_NFKB_TARGETS_FIBROBLAST_UP \n",
       "                                        8 \n",
       "          KEGG_HEDGEHOG_SIGNALING_PATHWAY \n",
       "                                        8 \n",
       "          KEGG_JAK_STAT_SIGNALING_PATHWAY \n",
       "                                        8 \n",
       "             KEGG_NOTCH_SIGNALING_PATHWAY \n",
       "                                        8 \n",
       "KEGG_TOLL_LIKE_RECEPTOR_SIGNALING_PATHWAY \n",
       "                                        8 \n",
       "               KEGG_WNT_SIGNALING_PATHWAY \n",
       "                                        8 \n",
       "                          PID_TNF_PATHWAY \n",
       "                                        8 \n",
       "                     WP_PI3KAKT_SIGNALING \n",
       "                                        8 "
      ]
     },
     "metadata": {},
     "output_type": "display_data"
    }
   ],
   "source": [
    "{\n",
    "    table(merge_df$ID)\n",
    "}"
   ]
  },
  {
   "cell_type": "code",
   "execution_count": 27,
   "metadata": {
    "vscode": {
     "languageId": "r"
    }
   },
   "outputs": [],
   "source": [
    "{\n",
    "    ## factor\n",
    "    merge_df$ID = factor(x = merge_df$ID,levels = rev(c(\n",
    "        \"BIOCARTA_MAPK_PATHWAY\",\"HINATA_NFKB_TARGETS_FIBROBLAST_UP\",\"DASU_IL6_SIGNALING_UP\",\"BIOCARTA_IL1R_PATHWAY\",\n",
    "        \"PID_TNF_PATHWAY\",\"KEGG_TOLL_LIKE_RECEPTOR_SIGNALING_PATHWAY\",\n",
    "        \"HALLMARK_INFLAMMATORY_RESPONSE\",\n",
    "        \"KEGG_JAK_STAT_SIGNALING_PATHWAY\",\"KEGG_NOTCH_SIGNALING_PATHWAY\",\n",
    "        \"KEGG_WNT_SIGNALING_PATHWAY\",\"KEGG_HEDGEHOG_SIGNALING_PATHWAY\",\n",
    "        \"GOBP_HIPPO_SIGNALING\",\n",
    "        \"WP_PI3KAKT_SIGNALING\"\n",
    "    )))\n",
    "}"
   ]
  },
  {
   "cell_type": "code",
   "execution_count": 28,
   "metadata": {
    "vscode": {
     "languageId": "r"
    }
   },
   "outputs": [
    {
     "name": "stdout",
     "output_type": "stream",
     "text": [
      "  [1] BIOCARTA_MAPK_PATHWAY                    \n",
      "  [2] HINATA_NFKB_TARGETS_FIBROBLAST_UP        \n",
      "  [3] DASU_IL6_SIGNALING_UP                    \n",
      "  [4] BIOCARTA_IL1R_PATHWAY                    \n",
      "  [5] PID_TNF_PATHWAY                          \n",
      "  [6] KEGG_TOLL_LIKE_RECEPTOR_SIGNALING_PATHWAY\n",
      "  [7] HALLMARK_INFLAMMATORY_RESPONSE           \n",
      "  [8] KEGG_JAK_STAT_SIGNALING_PATHWAY          \n",
      "  [9] KEGG_NOTCH_SIGNALING_PATHWAY             \n",
      " [10] KEGG_WNT_SIGNALING_PATHWAY               \n",
      " [11] KEGG_HEDGEHOG_SIGNALING_PATHWAY          \n",
      " [12] GOBP_HIPPO_SIGNALING                     \n",
      " [13] WP_PI3KAKT_SIGNALING                     \n",
      " [14] BIOCARTA_MAPK_PATHWAY                    \n",
      " [15] HINATA_NFKB_TARGETS_FIBROBLAST_UP        \n",
      " [16] DASU_IL6_SIGNALING_UP                    \n",
      " [17] BIOCARTA_IL1R_PATHWAY                    \n",
      " [18] PID_TNF_PATHWAY                          \n",
      " [19] KEGG_TOLL_LIKE_RECEPTOR_SIGNALING_PATHWAY\n",
      " [20] HALLMARK_INFLAMMATORY_RESPONSE           \n",
      " [21] KEGG_JAK_STAT_SIGNALING_PATHWAY          \n",
      " [22] KEGG_NOTCH_SIGNALING_PATHWAY             \n",
      " [23] KEGG_HEDGEHOG_SIGNALING_PATHWAY          \n",
      " [24] KEGG_WNT_SIGNALING_PATHWAY               \n",
      " [25] GOBP_HIPPO_SIGNALING                     \n",
      " [26] WP_PI3KAKT_SIGNALING                     \n",
      " [27] BIOCARTA_MAPK_PATHWAY                    \n",
      " [28] HINATA_NFKB_TARGETS_FIBROBLAST_UP        \n",
      " [29] DASU_IL6_SIGNALING_UP                    \n",
      " [30] BIOCARTA_IL1R_PATHWAY                    \n",
      " [31] PID_TNF_PATHWAY                          \n",
      " [32] KEGG_TOLL_LIKE_RECEPTOR_SIGNALING_PATHWAY\n",
      " [33] HALLMARK_INFLAMMATORY_RESPONSE           \n",
      " [34] KEGG_JAK_STAT_SIGNALING_PATHWAY          \n",
      " [35] KEGG_WNT_SIGNALING_PATHWAY               \n",
      " [36] KEGG_HEDGEHOG_SIGNALING_PATHWAY          \n",
      " [37] KEGG_NOTCH_SIGNALING_PATHWAY             \n",
      " [38] GOBP_HIPPO_SIGNALING                     \n",
      " [39] WP_PI3KAKT_SIGNALING                     \n",
      " [40] BIOCARTA_MAPK_PATHWAY                    \n",
      " [41] HINATA_NFKB_TARGETS_FIBROBLAST_UP        \n",
      " [42] DASU_IL6_SIGNALING_UP                    \n",
      " [43] BIOCARTA_IL1R_PATHWAY                    \n",
      " [44] PID_TNF_PATHWAY                          \n",
      " [45] KEGG_TOLL_LIKE_RECEPTOR_SIGNALING_PATHWAY\n",
      " [46] HALLMARK_INFLAMMATORY_RESPONSE           \n",
      " [47] KEGG_JAK_STAT_SIGNALING_PATHWAY          \n",
      " [48] KEGG_NOTCH_SIGNALING_PATHWAY             \n",
      " [49] KEGG_HEDGEHOG_SIGNALING_PATHWAY          \n",
      " [50] KEGG_WNT_SIGNALING_PATHWAY               \n",
      " [51] GOBP_HIPPO_SIGNALING                     \n",
      " [52] WP_PI3KAKT_SIGNALING                     \n",
      " [53] BIOCARTA_MAPK_PATHWAY                    \n",
      " [54] HINATA_NFKB_TARGETS_FIBROBLAST_UP        \n",
      " [55] DASU_IL6_SIGNALING_UP                    \n",
      " [56] BIOCARTA_IL1R_PATHWAY                    \n",
      " [57] PID_TNF_PATHWAY                          \n",
      " [58] KEGG_TOLL_LIKE_RECEPTOR_SIGNALING_PATHWAY\n",
      " [59] HALLMARK_INFLAMMATORY_RESPONSE           \n",
      " [60] KEGG_WNT_SIGNALING_PATHWAY               \n",
      " [61] KEGG_JAK_STAT_SIGNALING_PATHWAY          \n",
      " [62] KEGG_NOTCH_SIGNALING_PATHWAY             \n",
      " [63] KEGG_HEDGEHOG_SIGNALING_PATHWAY          \n",
      " [64] GOBP_HIPPO_SIGNALING                     \n",
      " [65] WP_PI3KAKT_SIGNALING                     \n",
      " [66] BIOCARTA_MAPK_PATHWAY                    \n",
      " [67] HINATA_NFKB_TARGETS_FIBROBLAST_UP        \n",
      " [68] DASU_IL6_SIGNALING_UP                    \n",
      " [69] BIOCARTA_IL1R_PATHWAY                    \n",
      " [70] PID_TNF_PATHWAY                          \n",
      " [71] KEGG_TOLL_LIKE_RECEPTOR_SIGNALING_PATHWAY\n",
      " [72] HALLMARK_INFLAMMATORY_RESPONSE           \n",
      " [73] KEGG_JAK_STAT_SIGNALING_PATHWAY          \n",
      " [74] KEGG_NOTCH_SIGNALING_PATHWAY             \n",
      " [75] KEGG_WNT_SIGNALING_PATHWAY               \n",
      " [76] KEGG_HEDGEHOG_SIGNALING_PATHWAY          \n",
      " [77] GOBP_HIPPO_SIGNALING                     \n",
      " [78] WP_PI3KAKT_SIGNALING                     \n",
      " [79] BIOCARTA_MAPK_PATHWAY                    \n",
      " [80] HINATA_NFKB_TARGETS_FIBROBLAST_UP        \n",
      " [81] DASU_IL6_SIGNALING_UP                    \n",
      " [82] BIOCARTA_IL1R_PATHWAY                    \n",
      " [83] PID_TNF_PATHWAY                          \n",
      " [84] KEGG_TOLL_LIKE_RECEPTOR_SIGNALING_PATHWAY\n",
      " [85] HALLMARK_INFLAMMATORY_RESPONSE           \n",
      " [86] KEGG_JAK_STAT_SIGNALING_PATHWAY          \n",
      " [87] KEGG_NOTCH_SIGNALING_PATHWAY             \n",
      " [88] KEGG_WNT_SIGNALING_PATHWAY               \n",
      " [89] KEGG_HEDGEHOG_SIGNALING_PATHWAY          \n",
      " [90] GOBP_HIPPO_SIGNALING                     \n",
      " [91] WP_PI3KAKT_SIGNALING                     \n",
      " [92] BIOCARTA_MAPK_PATHWAY                    \n",
      " [93] HINATA_NFKB_TARGETS_FIBROBLAST_UP        \n",
      " [94] DASU_IL6_SIGNALING_UP                    \n",
      " [95] BIOCARTA_IL1R_PATHWAY                    \n",
      " [96] PID_TNF_PATHWAY                          \n",
      " [97] KEGG_TOLL_LIKE_RECEPTOR_SIGNALING_PATHWAY\n",
      " [98] HALLMARK_INFLAMMATORY_RESPONSE           \n",
      " [99] KEGG_JAK_STAT_SIGNALING_PATHWAY          \n",
      "[100] KEGG_WNT_SIGNALING_PATHWAY               \n",
      "[101] KEGG_NOTCH_SIGNALING_PATHWAY             \n",
      "[102] KEGG_HEDGEHOG_SIGNALING_PATHWAY          \n",
      "[103] GOBP_HIPPO_SIGNALING                     \n",
      "[104] WP_PI3KAKT_SIGNALING                     \n",
      "13 Levels: WP_PI3KAKT_SIGNALING ... BIOCARTA_MAPK_PATHWAY\n"
     ]
    }
   ],
   "source": [
    "{\n",
    "    print(merge_df$ID)\n",
    "}"
   ]
  },
  {
   "cell_type": "code",
   "execution_count": null,
   "metadata": {
    "vscode": {
     "languageId": "r"
    }
   },
   "outputs": [],
   "source": []
  },
  {
   "cell_type": "code",
   "execution_count": 30,
   "metadata": {
    "vscode": {
     "languageId": "r"
    }
   },
   "outputs": [],
   "source": [
    "{\n",
    "    ## select\n",
    "    merge_df_Inf = merge_df %>% filter(ID %in% c(\n",
    "     \"BIOCARTA_MAPK_PATHWAY\",\"HINATA_NFKB_TARGETS_FIBROBLAST_UP\",\"DASU_IL6_SIGNALING_UP\",\"BIOCARTA_IL1R_PATHWAY\",\n",
    "        \"PID_TNF_PATHWAY\",\"KEGG_TOLL_LIKE_RECEPTOR_SIGNALING_PATHWAY\",\n",
    "        \"HALLMARK_INFLAMMATORY_RESPONSE\"\n",
    "    ))\n",
    "}"
   ]
  },
  {
   "cell_type": "code",
   "execution_count": 38,
   "metadata": {
    "vscode": {
     "languageId": "r"
    }
   },
   "outputs": [],
   "source": [
    "{\n",
    "    ## factor\n",
    "    merge_df_Inf$ID = factor(x = merge_df_Inf$ID,levels = c(\n",
    "        \"BIOCARTA_MAPK_PATHWAY\",\"HINATA_NFKB_TARGETS_FIBROBLAST_UP\",\"DASU_IL6_SIGNALING_UP\",\"BIOCARTA_IL1R_PATHWAY\",\n",
    "        \"PID_TNF_PATHWAY\",\"KEGG_TOLL_LIKE_RECEPTOR_SIGNALING_PATHWAY\",\n",
    "        \"HALLMARK_INFLAMMATORY_RESPONSE\"\n",
    "    ))\n",
    "}"
   ]
  },
  {
   "cell_type": "code",
   "execution_count": 39,
   "metadata": {
    "vscode": {
     "languageId": "r"
    }
   },
   "outputs": [],
   "source": [
    "{\n",
    "    ## barplot\n",
    "    plot_object = ggplot(merge_df_Inf, aes(x = Group, y = Neglog10Pvalue, fill = ID)) +\n",
    "    geom_bar(stat = \"identity\") +\n",
    "    labs(title = \"GSE58831 with inflammatory states\", x = \"Group\", y = \"-log10(Pvalue)\") +\n",
    "    scale_fill_manual(values = c(\"#4652ac\",\"#b6b0e6\",\"#f35e53\",\"#ffbfc0\",\"#717171\",\"#e4e4e4\",\"#ffffff\"))+\n",
    "  theme_bw(base_size = 8)+\n",
    "  theme(\n",
    "        legend.title = element_blank(),\n",
    "        legend.text = element_text(size = 7),  # 设置图例字体大小为14\n",
    "        axis.text.x = element_text(angle = 45, hjust = 1, color = \"black\", size = 7), # nolint\n",
    "        axis.text.y = element_text(color = \"black\", size = 7),\n",
    "        axis.title = element_text(color = \"black\", size = 7)\n",
    "    )+\n",
    "      theme(\n",
    "    panel.background = element_blank(),  # 设置面板背景为白色\n",
    "    panel.grid = element_blank(),         # 去掉网格线\n",
    "    # plot.background = element_rect(fill = \"white\")  # 设置整个图形背景为白色\n",
    "  )+\n",
    "    geom_bar(stat = \"identity\", color = \"black\", linewidth = 0.2) + # 设置黑色边框和线宽\n",
    "    theme(plot.margin = unit(c(1, 1, 1, 2), \"cm\"))+  # 调整左边距\n",
    "    scale_x_discrete(labels = data_rename\n",
    "        )\n",
    "\n",
    "    output_f_path = file.path(output_dir,\"20250713_2_1_AML_limma_GSE58831_Pvalue_barplot_simple_h150.pdf\")\n",
    "    ggsave(filename=output_f_path,plot=plot_object,device=pdf,width=210,height=170,units=\"mm\")\n",
    "}"
   ]
  },
  {
   "cell_type": "code",
   "execution_count": 47,
   "metadata": {
    "vscode": {
     "languageId": "r"
    }
   },
   "outputs": [],
   "source": [
    "######## dotplot"
   ]
  },
  {
   "cell_type": "code",
   "execution_count": 41,
   "metadata": {
    "vscode": {
     "languageId": "r"
    }
   },
   "outputs": [],
   "source": [
    "{\n",
    "    ## factor\n",
    "    merge_df_Inf$ID = factor(x = merge_df_Inf$ID,levels = rev(c(\n",
    "        \"BIOCARTA_MAPK_PATHWAY\",\"HINATA_NFKB_TARGETS_FIBROBLAST_UP\",\"DASU_IL6_SIGNALING_UP\",\"BIOCARTA_IL1R_PATHWAY\",\n",
    "        \"PID_TNF_PATHWAY\",\"KEGG_TOLL_LIKE_RECEPTOR_SIGNALING_PATHWAY\",\n",
    "        \"HALLMARK_INFLAMMATORY_RESPONSE\"\n",
    "    )))\n",
    "}"
   ]
  },
  {
   "cell_type": "code",
   "execution_count": 34,
   "metadata": {
    "vscode": {
     "languageId": "r"
    }
   },
   "outputs": [
    {
     "data": {
      "text/html": [
       "2.12869640255496"
      ],
      "text/latex": [
       "2.12869640255496"
      ],
      "text/markdown": [
       "2.12869640255496"
      ],
      "text/plain": [
       "[1] 2.128696"
      ]
     },
     "metadata": {},
     "output_type": "display_data"
    }
   ],
   "source": [
    "max(merge_df_Inf$Neglog10Pvalue)"
   ]
  },
  {
   "cell_type": "code",
   "execution_count": 35,
   "metadata": {
    "vscode": {
     "languageId": "r"
    }
   },
   "outputs": [
    {
     "data": {
      "text/html": [
       "0.092014324709535"
      ],
      "text/latex": [
       "0.092014324709535"
      ],
      "text/markdown": [
       "0.092014324709535"
      ],
      "text/plain": [
       "[1] 0.09201432"
      ]
     },
     "metadata": {},
     "output_type": "display_data"
    }
   ],
   "source": [
    "min(merge_df_Inf$Neglog10Pvalue)"
   ]
  },
  {
   "cell_type": "code",
   "execution_count": 42,
   "metadata": {
    "vscode": {
     "languageId": "r"
    }
   },
   "outputs": [],
   "source": [
    "## dotplot\n",
    "{\n",
    "  plot_object = ggplot(merge_df_Inf, aes(x = Group, y = ID)) + #\n",
    "    geom_point(aes(size = Neglog10Pvalue, color = NES)) +  #\n",
    "      scale_size_continuous(\n",
    "      range = c(0,10),  # \n",
    "      breaks = c(0,1, 1.3, 2, 3, 4,10),  # \n",
    "      name = '-log10(Pvalue)'  # \n",
    "    ) +\n",
    "    scale_color_gradientn(colors = c(\"#462CF7\",\"#A88FEF\",\"#FEF8FB\",\"#E2A890\",\"#D35A30\"), limits = c(-2.2,2.2), name = \"Normalized\\nEnrichment\\nScore\",\n",
    "                          breaks = c(-2,-1,0,1,2)) +\n",
    "    \n",
    "    theme_classic() +\n",
    "\n",
    "    theme(legend.text = element_text(size = 5), #\n",
    "          legend.title = element_text(size = 7), #\n",
    "          axis.text = element_text(size = 7), #\n",
    "          axis.title = element_text(size = 7), #\n",
    "          axis.text.x = element_text(angle = 45, hjust = 1,color = \"black\", size = 7),\n",
    "          axis.text.y = element_text(color = \"black\", size = 7),\n",
    "          ) + #\n",
    "    labs(title = \"GSEA with Inflammatory and Tumor Pathway\",x = NULL,y = NULL, #\n",
    "         color =  \"Normalized\\nEnrichment\\nScore\", size = '-log10(Pvalue)') + #\n",
    "  \n",
    "    scale_x_discrete(labels = \n",
    "        data_rename\n",
    "        )\n",
    "\n",
    "  output_f_path = file.path(output_dir,\"20250713_2_1_AML_limma_GSE58831_Pvalue_dotplot_NES_w160_h110.pdf\")\n",
    "  ggsave(filename=output_f_path,plot=plot_object,device=pdf,width=160,height=110,units=\"mm\")\n",
    "}\n"
   ]
  }
 ],
 "metadata": {
  "kernelspec": {
   "display_name": "R",
   "language": "R",
   "name": "ir"
  },
  "language_info": {
   "codemirror_mode": "r",
   "file_extension": ".r",
   "mimetype": "text/x-r-source",
   "name": "R",
   "pygments_lexer": "r",
   "version": "4.3.3"
  }
 },
 "nbformat": 4,
 "nbformat_minor": 2
}
