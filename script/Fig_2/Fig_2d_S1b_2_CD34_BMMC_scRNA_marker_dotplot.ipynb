{
 "cells": [
  {
   "cell_type": "code",
   "execution_count": 1,
   "metadata": {
    "vscode": {
     "languageId": "r"
    }
   },
   "outputs": [],
   "source": [
    "# init\n",
    "rm(list = ls())"
   ]
  },
  {
   "cell_type": "code",
   "execution_count": 2,
   "metadata": {
    "vscode": {
     "languageId": "r"
    }
   },
   "outputs": [
    {
     "data": {
      "text/html": [
       "<style>\n",
       ".list-inline {list-style: none; margin:0; padding: 0}\n",
       ".list-inline>li {display: inline-block}\n",
       ".list-inline>li:not(:last-child)::after {content: \"\\00b7\"; padding: 0 .5ex}\n",
       "</style>\n",
       "<ol class=list-inline><li>'/share/home/bioinfo/anaconda3/envs/R-4.2.3/lib/R/library'</li><li>'/share/apps/Anaconda3/2021.05/envs/R-4.2/lib/R/library'</li><li>'/share/home/wyz/miniconda3/envs/r423base/lib/R/library'</li><li>'/share/home/wyz/miniconda3/envs/R423base_ipynb_seurat4_slingshot/lib/R/library'</li></ol>\n"
      ],
      "text/latex": [
       "\\begin{enumerate*}\n",
       "\\item '/share/home/bioinfo/anaconda3/envs/R-4.2.3/lib/R/library'\n",
       "\\item '/share/apps/Anaconda3/2021.05/envs/R-4.2/lib/R/library'\n",
       "\\item '/share/home/wyz/miniconda3/envs/r423base/lib/R/library'\n",
       "\\item '/share/home/wyz/miniconda3/envs/R423base\\_ipynb\\_seurat4\\_slingshot/lib/R/library'\n",
       "\\end{enumerate*}\n"
      ],
      "text/markdown": [
       "1. '/share/home/bioinfo/anaconda3/envs/R-4.2.3/lib/R/library'\n",
       "2. '/share/apps/Anaconda3/2021.05/envs/R-4.2/lib/R/library'\n",
       "3. '/share/home/wyz/miniconda3/envs/r423base/lib/R/library'\n",
       "4. '/share/home/wyz/miniconda3/envs/R423base_ipynb_seurat4_slingshot/lib/R/library'\n",
       "\n",
       "\n"
      ],
      "text/plain": [
       "[1] \"/share/home/bioinfo/anaconda3/envs/R-4.2.3/lib/R/library\"                      \n",
       "[2] \"/share/apps/Anaconda3/2021.05/envs/R-4.2/lib/R/library\"                        \n",
       "[3] \"/share/home/wyz/miniconda3/envs/r423base/lib/R/library\"                        \n",
       "[4] \"/share/home/wyz/miniconda3/envs/R423base_ipynb_seurat4_slingshot/lib/R/library\""
      ]
     },
     "metadata": {},
     "output_type": "display_data"
    }
   ],
   "source": [
    ".libPaths()"
   ]
  },
  {
   "cell_type": "code",
   "execution_count": 3,
   "metadata": {
    "vscode": {
     "languageId": "r"
    }
   },
   "outputs": [
    {
     "data": {
      "text/html": [
       "<style>\n",
       ".list-inline {list-style: none; margin:0; padding: 0}\n",
       ".list-inline>li {display: inline-block}\n",
       ".list-inline>li:not(:last-child)::after {content: \"\\00b7\"; padding: 0 .5ex}\n",
       "</style>\n",
       "<ol class=list-inline><li>'/share/home/bioinfo/anaconda3/envs/R-4.2.3/lib/R/library'</li><li>'/share/apps/Anaconda3/2021.05/envs/R-4.2/lib/R/library'</li><li>'/share/home/wyz/miniconda3/envs/r423base/lib/R/library'</li><li>'/share/home/wyz/miniconda3/envs/r423base_ipynb/lib/R/library'</li><li>'/share/home/wyz/miniconda3/envs/R423base_ipynb_seurat4_slingshot/lib/R/library'</li></ol>\n"
      ],
      "text/latex": [
       "\\begin{enumerate*}\n",
       "\\item '/share/home/bioinfo/anaconda3/envs/R-4.2.3/lib/R/library'\n",
       "\\item '/share/apps/Anaconda3/2021.05/envs/R-4.2/lib/R/library'\n",
       "\\item '/share/home/wyz/miniconda3/envs/r423base/lib/R/library'\n",
       "\\item '/share/home/wyz/miniconda3/envs/r423base\\_ipynb/lib/R/library'\n",
       "\\item '/share/home/wyz/miniconda3/envs/R423base\\_ipynb\\_seurat4\\_slingshot/lib/R/library'\n",
       "\\end{enumerate*}\n"
      ],
      "text/markdown": [
       "1. '/share/home/bioinfo/anaconda3/envs/R-4.2.3/lib/R/library'\n",
       "2. '/share/apps/Anaconda3/2021.05/envs/R-4.2/lib/R/library'\n",
       "3. '/share/home/wyz/miniconda3/envs/r423base/lib/R/library'\n",
       "4. '/share/home/wyz/miniconda3/envs/r423base_ipynb/lib/R/library'\n",
       "5. '/share/home/wyz/miniconda3/envs/R423base_ipynb_seurat4_slingshot/lib/R/library'\n",
       "\n",
       "\n"
      ],
      "text/plain": [
       "[1] \"/share/home/bioinfo/anaconda3/envs/R-4.2.3/lib/R/library\"                      \n",
       "[2] \"/share/apps/Anaconda3/2021.05/envs/R-4.2/lib/R/library\"                        \n",
       "[3] \"/share/home/wyz/miniconda3/envs/r423base/lib/R/library\"                        \n",
       "[4] \"/share/home/wyz/miniconda3/envs/r423base_ipynb/lib/R/library\"                  \n",
       "[5] \"/share/home/wyz/miniconda3/envs/R423base_ipynb_seurat4_slingshot/lib/R/library\""
      ]
     },
     "metadata": {},
     "output_type": "display_data"
    }
   ],
   "source": [
    ".libPaths(\n",
    "c(\"/share/home/bioinfo/anaconda3/envs/R-4.2.3/lib/R/library\",\"/share/apps/Anaconda3/2021.05/envs/R-4.2/lib/R/library\",\"/share/home/wyz/miniconda3/envs/r423base/lib/R/library\",\"/share/home/wyz/miniconda3/envs/r423base_ipynb/lib/R/library\")\n",
    ")\n",
    ".libPaths()"
   ]
  },
  {
   "cell_type": "code",
   "execution_count": 4,
   "metadata": {
    "vscode": {
     "languageId": "r"
    }
   },
   "outputs": [
    {
     "name": "stderr",
     "output_type": "stream",
     "text": [
      "── \u001b[1mAttaching core tidyverse packages\u001b[22m ──────────────────────── tidyverse 2.0.0 ──\n",
      "\u001b[32m✔\u001b[39m \u001b[34mdplyr    \u001b[39m 1.1.3     \u001b[32m✔\u001b[39m \u001b[34mreadr    \u001b[39m 2.1.4\n",
      "\u001b[32m✔\u001b[39m \u001b[34mforcats  \u001b[39m 1.0.0     \u001b[32m✔\u001b[39m \u001b[34mstringr  \u001b[39m 1.5.0\n",
      "\u001b[32m✔\u001b[39m \u001b[34mggplot2  \u001b[39m 3.4.4     \u001b[32m✔\u001b[39m \u001b[34mtibble   \u001b[39m 3.2.1\n",
      "\u001b[32m✔\u001b[39m \u001b[34mlubridate\u001b[39m 1.9.3     \u001b[32m✔\u001b[39m \u001b[34mtidyr    \u001b[39m 1.3.0\n",
      "\u001b[32m✔\u001b[39m \u001b[34mpurrr    \u001b[39m 1.0.2     \n",
      "── \u001b[1mConflicts\u001b[22m ────────────────────────────────────────── tidyverse_conflicts() ──\n",
      "\u001b[31m✖\u001b[39m \u001b[34mdplyr\u001b[39m::\u001b[32mfilter()\u001b[39m masks \u001b[34mstats\u001b[39m::filter()\n",
      "\u001b[31m✖\u001b[39m \u001b[34mdplyr\u001b[39m::\u001b[32mlag()\u001b[39m    masks \u001b[34mstats\u001b[39m::lag()\n",
      "\u001b[36mℹ\u001b[39m Use the conflicted package (\u001b[3m\u001b[34m<http://conflicted.r-lib.org/>\u001b[39m\u001b[23m) to force all conflicts to become errors\n",
      "The legacy packages maptools, rgdal, and rgeos, underpinning the sp package,\n",
      "which was just loaded, were retired in October 2023.\n",
      "Please refer to R-spatial evolution reports for details, especially\n",
      "https://r-spatial.org/r/2023/05/15/evolution4.html.\n",
      "It may be desirable to make the sf package available;\n",
      "package maintainers should consider adding sf to Suggests:.\n",
      "\n",
      "Attaching SeuratObject\n",
      "\n",
      "‘SeuratObject’ was built under R 4.2.3 but the current version is\n",
      "4.3.3; it is recomended that you reinstall ‘SeuratObject’ as the ABI\n",
      "for R may have changed\n",
      "\n",
      "Loading required package: MatrixGenerics\n",
      "\n",
      "Loading required package: matrixStats\n",
      "\n",
      "\n",
      "Attaching package: ‘matrixStats’\n",
      "\n",
      "\n",
      "The following object is masked from ‘package:dplyr’:\n",
      "\n",
      "    count\n",
      "\n",
      "\n",
      "\n",
      "Attaching package: ‘MatrixGenerics’\n",
      "\n",
      "\n",
      "The following objects are masked from ‘package:matrixStats’:\n",
      "\n",
      "    colAlls, colAnyNAs, colAnys, colAvgsPerRowSet, colCollapse,\n",
      "    colCounts, colCummaxs, colCummins, colCumprods, colCumsums,\n",
      "    colDiffs, colIQRDiffs, colIQRs, colLogSumExps, colMadDiffs,\n",
      "    colMads, colMaxs, colMeans2, colMedians, colMins, colOrderStats,\n",
      "    colProds, colQuantiles, colRanges, colRanks, colSdDiffs, colSds,\n",
      "    colSums2, colTabulates, colVarDiffs, colVars, colWeightedMads,\n",
      "    colWeightedMeans, colWeightedMedians, colWeightedSds,\n",
      "    colWeightedVars, rowAlls, rowAnyNAs, rowAnys, rowAvgsPerColSet,\n",
      "    rowCollapse, rowCounts, rowCummaxs, rowCummins, rowCumprods,\n",
      "    rowCumsums, rowDiffs, rowIQRDiffs, rowIQRs, rowLogSumExps,\n",
      "    rowMadDiffs, rowMads, rowMaxs, rowMeans2, rowMedians, rowMins,\n",
      "    rowOrderStats, rowProds, rowQuantiles, rowRanges, rowRanks,\n",
      "    rowSdDiffs, rowSds, rowSums2, rowTabulates, rowVarDiffs, rowVars,\n",
      "    rowWeightedMads, rowWeightedMeans, rowWeightedMedians,\n",
      "    rowWeightedSds, rowWeightedVars\n",
      "\n",
      "\n",
      "Loading required package: GenomicRanges\n",
      "\n",
      "Loading required package: stats4\n",
      "\n",
      "Loading required package: BiocGenerics\n",
      "\n",
      "\n",
      "Attaching package: ‘BiocGenerics’\n",
      "\n",
      "\n",
      "The following objects are masked from ‘package:lubridate’:\n",
      "\n",
      "    intersect, setdiff, union\n",
      "\n",
      "\n",
      "The following objects are masked from ‘package:dplyr’:\n",
      "\n",
      "    combine, intersect, setdiff, union\n",
      "\n",
      "\n",
      "The following objects are masked from ‘package:stats’:\n",
      "\n",
      "    IQR, mad, sd, var, xtabs\n",
      "\n",
      "\n",
      "The following objects are masked from ‘package:base’:\n",
      "\n",
      "    anyDuplicated, aperm, append, as.data.frame, basename, cbind,\n",
      "    colnames, dirname, do.call, duplicated, eval, evalq, Filter, Find,\n",
      "    get, grep, grepl, intersect, is.unsorted, lapply, Map, mapply,\n",
      "    match, mget, order, paste, pmax, pmax.int, pmin, pmin.int,\n",
      "    Position, rank, rbind, Reduce, rownames, sapply, setdiff, sort,\n",
      "    table, tapply, union, unique, unsplit, which.max, which.min\n",
      "\n",
      "\n",
      "Loading required package: S4Vectors\n",
      "\n",
      "\n",
      "Attaching package: ‘S4Vectors’\n",
      "\n",
      "\n",
      "The following objects are masked from ‘package:lubridate’:\n",
      "\n",
      "    second, second<-\n",
      "\n",
      "\n",
      "The following objects are masked from ‘package:dplyr’:\n",
      "\n",
      "    first, rename\n",
      "\n",
      "\n",
      "The following object is masked from ‘package:tidyr’:\n",
      "\n",
      "    expand\n",
      "\n",
      "\n",
      "The following object is masked from ‘package:utils’:\n",
      "\n",
      "    findMatches\n",
      "\n",
      "\n",
      "The following objects are masked from ‘package:base’:\n",
      "\n",
      "    expand.grid, I, unname\n",
      "\n",
      "\n",
      "Loading required package: IRanges\n",
      "\n",
      "\n",
      "Attaching package: ‘IRanges’\n",
      "\n",
      "\n",
      "The following object is masked from ‘package:lubridate’:\n",
      "\n",
      "    %within%\n",
      "\n",
      "\n",
      "The following objects are masked from ‘package:dplyr’:\n",
      "\n",
      "    collapse, desc, slice\n",
      "\n",
      "\n",
      "The following object is masked from ‘package:purrr’:\n",
      "\n",
      "    reduce\n",
      "\n",
      "\n",
      "Loading required package: GenomeInfoDb\n",
      "\n",
      "Loading required package: Biobase\n",
      "\n",
      "Welcome to Bioconductor\n",
      "\n",
      "    Vignettes contain introductory material; view with\n",
      "    'browseVignettes()'. To cite Bioconductor, see\n",
      "    'citation(\"Biobase\")', and for packages 'citation(\"pkgname\")'.\n",
      "\n",
      "\n",
      "\n",
      "Attaching package: ‘Biobase’\n",
      "\n",
      "\n",
      "The following object is masked from ‘package:MatrixGenerics’:\n",
      "\n",
      "    rowMedians\n",
      "\n",
      "\n",
      "The following objects are masked from ‘package:matrixStats’:\n",
      "\n",
      "    anyMissing, rowMedians\n",
      "\n",
      "\n",
      "\n",
      "Attaching package: ‘SummarizedExperiment’\n",
      "\n",
      "\n",
      "The following object is masked from ‘package:SeuratObject’:\n",
      "\n",
      "    Assays\n",
      "\n",
      "\n",
      "The following object is masked from ‘package:Seurat’:\n",
      "\n",
      "    Assays\n",
      "\n",
      "\n",
      "\u001b[1m\u001b[22mscCustomize v1.1.3\n",
      "If you find the scCustomize useful please cite.\n",
      "See 'samuel-marsh.github.io/scCustomize/articles/FAQ.html' for citation info.\n",
      "\n",
      "Loading required package: viridisLite\n",
      "\n",
      "\n",
      "Attaching package: ‘gridExtra’\n",
      "\n",
      "\n",
      "The following object is masked from ‘package:Biobase’:\n",
      "\n",
      "    combine\n",
      "\n",
      "\n",
      "The following object is masked from ‘package:BiocGenerics’:\n",
      "\n",
      "    combine\n",
      "\n",
      "\n",
      "The following object is masked from ‘package:dplyr’:\n",
      "\n",
      "    combine\n",
      "\n",
      "\n",
      "Loading required package: grid\n",
      "\n",
      "========================================\n",
      "ComplexHeatmap version 2.14.0\n",
      "Bioconductor page: http://bioconductor.org/packages/ComplexHeatmap/\n",
      "Github page: https://github.com/jokergoo/ComplexHeatmap\n",
      "Documentation: http://jokergoo.github.io/ComplexHeatmap-reference\n",
      "\n",
      "If you use it in published research, please cite either one:\n",
      "- Gu, Z. Complex Heatmap Visualization. iMeta 2022.\n",
      "- Gu, Z. Complex heatmaps reveal patterns and correlations in multidimensional \n",
      "    genomic data. Bioinformatics 2016.\n",
      "\n",
      "\n",
      "The new InteractiveComplexHeatmap package can directly export static \n",
      "complex heatmaps into an interactive Shiny app with zero effort. Have a try!\n",
      "\n",
      "This message can be suppressed by:\n",
      "  suppressPackageStartupMessages(library(ComplexHeatmap))\n",
      "========================================\n",
      "\n",
      "\n"
     ]
    }
   ],
   "source": [
    "# init waring\n",
    "options(warn=1)\n",
    "\n",
    "\n",
    "# Load Package ------------------------------------------------------------\n",
    "\n",
    "library(tidyverse); \n",
    "library(readr)\n",
    "library(dplyr); \n",
    "library(ggplot2);\n",
    "# library(openxlsx); \n",
    "library(readxl);\n",
    "library(RColorBrewer)\n",
    "\n",
    "library(Seurat); \n",
    "# library(future); \n",
    "\n",
    "\n",
    "library(SummarizedExperiment)\n",
    "library(scCustomize)\n",
    "library(viridis)\n",
    "library(gridExtra)\n",
    "library(ComplexHeatmap)"
   ]
  },
  {
   "cell_type": "code",
   "execution_count": 5,
   "metadata": {
    "vscode": {
     "languageId": "r"
    }
   },
   "outputs": [],
   "source": [
    "library(ggplotify)"
   ]
  },
  {
   "cell_type": "code",
   "execution_count": 6,
   "metadata": {
    "vscode": {
     "languageId": "r"
    }
   },
   "outputs": [],
   "source": [
    "# input path --------------------------------------------------------------\n",
    "if (TRUE){\n",
    "## sample info\n",
    "sample_sheet_f = \"/share/home/wyz/Lab/Code/ProjectCode/2024/202403/20240305_scRNA_AML/sample_info/scRNA_Concat_Colname_Ref_20240316.xlsx\"\n",
    "\n",
    "## output\n",
    "output_dir = \"/share/home/wyz/Project/result/20240320_scRNA_AML_Annotation/20240320_scRNA_GSE_Rice_GSE116256_annotation/\"\n",
    "\n",
    "}"
   ]
  },
  {
   "cell_type": "markdown",
   "metadata": {},
   "source": [
    "## Part1 define marker gene and cell type"
   ]
  },
  {
   "cell_type": "code",
   "execution_count": 7,
   "metadata": {
    "vscode": {
     "languageId": "r"
    }
   },
   "outputs": [
    {
     "name": "stdout",
     "output_type": "stream",
     "text": [
      "An object of class Seurat \n",
      "16659 features across 67452 samples within 1 assay \n",
      "Active assay: RNA (16659 features, 3000 variable features)\n",
      " 5 dimensional reductions calculated: pca, std.umap.unintegrated, harmony, std.umap.harmony, std.tsne.harmony\n",
      " [1] \"SMU_AML_CD34_1\"       \"SMU_AML_CD34_2\"       \"SMU_AML_CD34_3\"      \n",
      " [4] \"SMU_AML_CD34_4\"       \"SMU_AML_CD34_5\"       \"SMU_MDS_CD34_1\"      \n",
      " [7] \"SMU_MDS_CD34_2\"       \"SMU_MDS_CD34_3\"       \"SMU_tAML_CD34_1\"     \n",
      "[10] \"SMU_tAML_CD34_2\"      \"SMU_tAML_CD34_3\"      \"SMU_Normal_CD34_1\"   \n",
      "[13] \"SMU_Normal_CD34_2\"    \"GSE116256_BM5-CD34p\"  \"HRA000084_AML_CD34_1\"\n",
      "[16] \"HRA000084_AML_CD34_2\" \"HRA000084_AML_CD34_3\" \"HRA000084_AML_CD34_5\"\n",
      "[1] \"SMU\"       \"GSE116256\" \"HRA000084\"\n"
     ]
    }
   ],
   "source": [
    "# read file ---------------------------------------------------------------\n",
    "## object_1\n",
    "if (TRUE){\n",
    "  # 读入文件\n",
    "  input_f_path_GSE = \"/share/home/wyz/Project/result/20240320_scRNA_AML_Annotation/20240320_scRNA_GSE_Rice_GSE116256_annotation/scRNA_SMU_Rice_14_GSE116256_Rice_1_HRA000084_Rice_4_origin_rds_combined_qc_STD_Harmony_res_anno_GES116256.rds\"\n",
    "\n",
    "  seurat_object_GSE <- readRDS(input_f_path_GSE)\n",
    "  print(seurat_object_GSE)\n",
    "  print(unique(seurat_object_GSE@meta.data[[\"Sample_ID\"]]))\n",
    "  print(unique(seurat_object_GSE@meta.data[[\"Source\"]]))\n",
    "}\n"
   ]
  },
  {
   "cell_type": "code",
   "execution_count": 8,
   "metadata": {
    "vscode": {
     "languageId": "r"
    }
   },
   "outputs": [
    {
     "data": {
      "text/html": [
       "<style>\n",
       ".list-inline {list-style: none; margin:0; padding: 0}\n",
       ".list-inline>li {display: inline-block}\n",
       ".list-inline>li:not(:last-child)::after {content: \"\\00b7\"; padding: 0 .5ex}\n",
       "</style>\n",
       "<ol class=list-inline><li>'0'</li><li>'1'</li><li>'2'</li><li>'3'</li><li>'4'</li><li>'5'</li><li>'6'</li><li>'7'</li><li>'8'</li><li>'9'</li><li>'10'</li><li>'11'</li><li>'12'</li><li>'13'</li><li>'14'</li><li>'15'</li><li>'16'</li><li>'17'</li><li>'18'</li><li>'19'</li><li>'20'</li><li>'21'</li><li>'22'</li><li>'23'</li><li>'24'</li><li>'25'</li><li>'26'</li><li>'27'</li><li>'28'</li><li>'29'</li><li>'30'</li><li>'31'</li><li>'32'</li><li>'33'</li><li>'34'</li><li>'35'</li><li>'36'</li><li>'37'</li><li>'38'</li><li>'39'</li><li>'40'</li><li>'41'</li><li>'42'</li><li>'43'</li><li>'44'</li><li>'45'</li><li>'46'</li><li>'47'</li><li>'48'</li><li>'49'</li><li>'50'</li><li>'51'</li><li>'52'</li><li>'53'</li><li>'54'</li><li>'55'</li><li>'56'</li><li>'57'</li><li>'58'</li><li>'59'</li><li>'60'</li><li>'61'</li><li>'62'</li><li>'63'</li><li>'64'</li><li>'65'</li><li>'66'</li><li>'67'</li></ol>\n"
      ],
      "text/latex": [
       "\\begin{enumerate*}\n",
       "\\item '0'\n",
       "\\item '1'\n",
       "\\item '2'\n",
       "\\item '3'\n",
       "\\item '4'\n",
       "\\item '5'\n",
       "\\item '6'\n",
       "\\item '7'\n",
       "\\item '8'\n",
       "\\item '9'\n",
       "\\item '10'\n",
       "\\item '11'\n",
       "\\item '12'\n",
       "\\item '13'\n",
       "\\item '14'\n",
       "\\item '15'\n",
       "\\item '16'\n",
       "\\item '17'\n",
       "\\item '18'\n",
       "\\item '19'\n",
       "\\item '20'\n",
       "\\item '21'\n",
       "\\item '22'\n",
       "\\item '23'\n",
       "\\item '24'\n",
       "\\item '25'\n",
       "\\item '26'\n",
       "\\item '27'\n",
       "\\item '28'\n",
       "\\item '29'\n",
       "\\item '30'\n",
       "\\item '31'\n",
       "\\item '32'\n",
       "\\item '33'\n",
       "\\item '34'\n",
       "\\item '35'\n",
       "\\item '36'\n",
       "\\item '37'\n",
       "\\item '38'\n",
       "\\item '39'\n",
       "\\item '40'\n",
       "\\item '41'\n",
       "\\item '42'\n",
       "\\item '43'\n",
       "\\item '44'\n",
       "\\item '45'\n",
       "\\item '46'\n",
       "\\item '47'\n",
       "\\item '48'\n",
       "\\item '49'\n",
       "\\item '50'\n",
       "\\item '51'\n",
       "\\item '52'\n",
       "\\item '53'\n",
       "\\item '54'\n",
       "\\item '55'\n",
       "\\item '56'\n",
       "\\item '57'\n",
       "\\item '58'\n",
       "\\item '59'\n",
       "\\item '60'\n",
       "\\item '61'\n",
       "\\item '62'\n",
       "\\item '63'\n",
       "\\item '64'\n",
       "\\item '65'\n",
       "\\item '66'\n",
       "\\item '67'\n",
       "\\end{enumerate*}\n"
      ],
      "text/markdown": [
       "1. '0'\n",
       "2. '1'\n",
       "3. '2'\n",
       "4. '3'\n",
       "5. '4'\n",
       "6. '5'\n",
       "7. '6'\n",
       "8. '7'\n",
       "9. '8'\n",
       "10. '9'\n",
       "11. '10'\n",
       "12. '11'\n",
       "13. '12'\n",
       "14. '13'\n",
       "15. '14'\n",
       "16. '15'\n",
       "17. '16'\n",
       "18. '17'\n",
       "19. '18'\n",
       "20. '19'\n",
       "21. '20'\n",
       "22. '21'\n",
       "23. '22'\n",
       "24. '23'\n",
       "25. '24'\n",
       "26. '25'\n",
       "27. '26'\n",
       "28. '27'\n",
       "29. '28'\n",
       "30. '29'\n",
       "31. '30'\n",
       "32. '31'\n",
       "33. '32'\n",
       "34. '33'\n",
       "35. '34'\n",
       "36. '35'\n",
       "37. '36'\n",
       "38. '37'\n",
       "39. '38'\n",
       "40. '39'\n",
       "41. '40'\n",
       "42. '41'\n",
       "43. '42'\n",
       "44. '43'\n",
       "45. '44'\n",
       "46. '45'\n",
       "47. '46'\n",
       "48. '47'\n",
       "49. '48'\n",
       "50. '49'\n",
       "51. '50'\n",
       "52. '51'\n",
       "53. '52'\n",
       "54. '53'\n",
       "55. '54'\n",
       "56. '55'\n",
       "57. '56'\n",
       "58. '57'\n",
       "59. '58'\n",
       "60. '59'\n",
       "61. '60'\n",
       "62. '61'\n",
       "63. '62'\n",
       "64. '63'\n",
       "65. '64'\n",
       "66. '65'\n",
       "67. '66'\n",
       "68. '67'\n",
       "\n",
       "\n"
      ],
      "text/plain": [
       " [1] \"0\"  \"1\"  \"2\"  \"3\"  \"4\"  \"5\"  \"6\"  \"7\"  \"8\"  \"9\"  \"10\" \"11\" \"12\" \"13\" \"14\"\n",
       "[16] \"15\" \"16\" \"17\" \"18\" \"19\" \"20\" \"21\" \"22\" \"23\" \"24\" \"25\" \"26\" \"27\" \"28\" \"29\"\n",
       "[31] \"30\" \"31\" \"32\" \"33\" \"34\" \"35\" \"36\" \"37\" \"38\" \"39\" \"40\" \"41\" \"42\" \"43\" \"44\"\n",
       "[46] \"45\" \"46\" \"47\" \"48\" \"49\" \"50\" \"51\" \"52\" \"53\" \"54\" \"55\" \"56\" \"57\" \"58\" \"59\"\n",
       "[61] \"60\" \"61\" \"62\" \"63\" \"64\" \"65\" \"66\" \"67\""
      ]
     },
     "metadata": {},
     "output_type": "display_data"
    }
   ],
   "source": [
    "levels(seurat_object_GSE)"
   ]
  },
  {
   "cell_type": "code",
   "execution_count": 9,
   "metadata": {
    "vscode": {
     "languageId": "r"
    }
   },
   "outputs": [
    {
     "data": {
      "text/html": [
       "<style>\n",
       ".list-inline {list-style: none; margin:0; padding: 0}\n",
       ".list-inline>li {display: inline-block}\n",
       ".list-inline>li:not(:last-child)::after {content: \"\\00b7\"; padding: 0 .5ex}\n",
       "</style>\n",
       "<ol class=list-inline><li>'0'</li><li>'1'</li><li>'2'</li><li>'3'</li><li>'4'</li><li>'5'</li><li>'6'</li><li>'7'</li><li>'8'</li><li>'9'</li><li>'10'</li><li>'11'</li><li>'12'</li><li>'13'</li><li>'14'</li><li>'15'</li><li>'16'</li><li>'17'</li><li>'18'</li><li>'19'</li><li>'20'</li><li>'21'</li><li>'22'</li><li>'23'</li><li>'24'</li><li>'25'</li></ol>\n"
      ],
      "text/latex": [
       "\\begin{enumerate*}\n",
       "\\item '0'\n",
       "\\item '1'\n",
       "\\item '2'\n",
       "\\item '3'\n",
       "\\item '4'\n",
       "\\item '5'\n",
       "\\item '6'\n",
       "\\item '7'\n",
       "\\item '8'\n",
       "\\item '9'\n",
       "\\item '10'\n",
       "\\item '11'\n",
       "\\item '12'\n",
       "\\item '13'\n",
       "\\item '14'\n",
       "\\item '15'\n",
       "\\item '16'\n",
       "\\item '17'\n",
       "\\item '18'\n",
       "\\item '19'\n",
       "\\item '20'\n",
       "\\item '21'\n",
       "\\item '22'\n",
       "\\item '23'\n",
       "\\item '24'\n",
       "\\item '25'\n",
       "\\end{enumerate*}\n"
      ],
      "text/markdown": [
       "1. '0'\n",
       "2. '1'\n",
       "3. '2'\n",
       "4. '3'\n",
       "5. '4'\n",
       "6. '5'\n",
       "7. '6'\n",
       "8. '7'\n",
       "9. '8'\n",
       "10. '9'\n",
       "11. '10'\n",
       "12. '11'\n",
       "13. '12'\n",
       "14. '13'\n",
       "15. '14'\n",
       "16. '15'\n",
       "17. '16'\n",
       "18. '17'\n",
       "19. '18'\n",
       "20. '19'\n",
       "21. '20'\n",
       "22. '21'\n",
       "23. '22'\n",
       "24. '23'\n",
       "25. '24'\n",
       "26. '25'\n",
       "\n",
       "\n"
      ],
      "text/plain": [
       " [1] \"0\"  \"1\"  \"2\"  \"3\"  \"4\"  \"5\"  \"6\"  \"7\"  \"8\"  \"9\"  \"10\" \"11\" \"12\" \"13\" \"14\"\n",
       "[16] \"15\" \"16\" \"17\" \"18\" \"19\" \"20\" \"21\" \"22\" \"23\" \"24\" \"25\""
      ]
     },
     "metadata": {},
     "output_type": "display_data"
    }
   ],
   "source": [
    "  Idents(seurat_object_GSE) <- \"RNA_snn_res.1\"\n",
    "  levels(seurat_object_GSE)"
   ]
  },
  {
   "cell_type": "code",
   "execution_count": 98,
   "metadata": {
    "vscode": {
     "languageId": "r"
    }
   },
   "outputs": [
    {
     "name": "stdout",
     "output_type": "stream",
     "text": [
      "\u001b[90m# A tibble: 30 × 2\u001b[39m\n",
      "   CellType CellMarker\n",
      "   \u001b[3m\u001b[90m<chr>\u001b[39m\u001b[23m    \u001b[3m\u001b[90m<chr>\u001b[39m\u001b[23m     \n",
      "\u001b[90m 1\u001b[39m CD34     CD34      \n",
      "\u001b[90m 2\u001b[39m CD38     CD38      \n",
      "\u001b[90m 3\u001b[39m HSC/MPP  AVP       \n",
      "\u001b[90m 4\u001b[39m HSC/MPP  CRHBP     \n",
      "\u001b[90m 5\u001b[39m HSC/MPP  MLLT3     \n",
      "\u001b[90m 6\u001b[39m GATA2    GATA2     \n",
      "\u001b[90m 7\u001b[39m LMPP     TK1       \n",
      "\u001b[90m 8\u001b[39m LMPP     SPINK2    \n",
      "\u001b[90m 9\u001b[39m LMPP     ENO1      \n",
      "\u001b[90m10\u001b[39m MEP_ERP  CNRIP1    \n",
      "\u001b[90m# ℹ 20 more rows\u001b[39m\n",
      "[1] \"CD34 【Yes exists matrix.】 \"\n",
      "[1] \"CD38 【Yes exists matrix.】 \"\n",
      "[1] \"AVP 【Yes exists matrix.】 \"\n",
      "[1] \"CRHBP 【Yes exists matrix.】 \"\n",
      "[1] \"MLLT3 【Yes exists matrix.】 \"\n",
      "[1] \"GATA2 【Yes exists matrix.】 \"\n",
      "[1] \"TK1 【Yes exists matrix.】 \"\n",
      "[1] \"SPINK2 【Yes exists matrix.】 \"\n",
      "[1] \"ENO1 【Yes exists matrix.】 \"\n",
      "[1] \"CNRIP1 【Yes exists matrix.】 \"\n",
      "[1] \"HBD 【Yes exists matrix.】 \"\n",
      "[1] \"GATA1 【Yes exists matrix.】 \"\n",
      "[1] \"VPREB3 【Yes exists matrix.】 \"\n",
      "[1] \"CD79B 【Yes exists matrix.】 \"\n",
      "[1] \"CD63 【Yes exists matrix.】 \"\n",
      "[1] \"HDC 【Yes exists matrix.】 \"\n",
      "[1] \"IRF8 【Yes exists matrix.】 \"\n",
      "[1] \"LGALS1 【Yes exists matrix.】 \"\n",
      "[1] \"IGKC 【No exists matrix.】\"\n",
      "[1] \"AZU1 【Yes exists matrix.】 \"\n",
      "[1] \"ELANE 【Yes exists matrix.】 \"\n",
      "[1] \"MPO 【Yes exists matrix.】 \"\n",
      "[1] \"CDK6 【Yes exists matrix.】 \"\n",
      "[1] \"PCNA 【Yes exists matrix.】 \"\n",
      "[1] \"CD36 【Yes exists matrix.】 \"\n",
      "[1] \"VCAM1 【Yes exists matrix.】 \"\n",
      "[1] \"FCGR3A 【Yes exists matrix.】 \"\n",
      "[1] \"FCER1A 【Yes exists matrix.】 \"\n",
      "[1] \"KIT 【Yes exists matrix.】 \"\n",
      "[1] \"TPSB2 【Yes exists matrix.】 \"\n",
      "\u001b[90m# A tibble: 29 × 2\u001b[39m\n",
      "   CellType CellMarker\n",
      "   \u001b[3m\u001b[90m<chr>\u001b[39m\u001b[23m    \u001b[3m\u001b[90m<chr>\u001b[39m\u001b[23m     \n",
      "\u001b[90m 1\u001b[39m CD34     CD34      \n",
      "\u001b[90m 2\u001b[39m CD38     CD38      \n",
      "\u001b[90m 3\u001b[39m HSC/MPP  AVP       \n",
      "\u001b[90m 4\u001b[39m HSC/MPP  CRHBP     \n",
      "\u001b[90m 5\u001b[39m HSC/MPP  MLLT3     \n",
      "\u001b[90m 6\u001b[39m GATA2    GATA2     \n",
      "\u001b[90m 7\u001b[39m LMPP     TK1       \n",
      "\u001b[90m 8\u001b[39m LMPP     SPINK2    \n",
      "\u001b[90m 9\u001b[39m LMPP     ENO1      \n",
      "\u001b[90m10\u001b[39m MEP_ERP  CNRIP1    \n",
      "\u001b[90m# ℹ 19 more rows\u001b[39m\n",
      " [1] \"CD34\"   \"CD38\"   \"AVP\"    \"CRHBP\"  \"MLLT3\"  \"GATA2\"  \"TK1\"    \"SPINK2\"\n",
      " [9] \"ENO1\"   \"CNRIP1\" \"HBD\"    \"GATA1\"  \"VPREB3\" \"CD79B\"  \"CD63\"   \"HDC\"   \n",
      "[17] \"IRF8\"   \"LGALS1\" \"AZU1\"   \"ELANE\"  \"MPO\"    \"CDK6\"   \"PCNA\"   \"CD36\"  \n",
      "[25] \"VCAM1\"  \"FCGR3A\" \"FCER1A\" \"KIT\"    \"TPSB2\" \n",
      "[1] 29\n",
      " [1] CD34   CD38   AVP    CRHBP  MLLT3  GATA2  TK1    SPINK2 ENO1   CNRIP1\n",
      "[11] HBD    GATA1  VPREB3 CD79B  CD63   HDC    IRF8   LGALS1 AZU1   ELANE \n",
      "[21] MPO    CDK6   PCNA   CD36   VCAM1  FCGR3A FCER1A KIT    TPSB2 \n",
      "29 Levels: CD34 CD38 AVP CRHBP MLLT3 GATA2 TK1 SPINK2 ENO1 CNRIP1 HBD ... TPSB2\n",
      " [1] \"CD34\"                 \"CD38\"                 \"HSC/MPP\"             \n",
      " [4] \"HSC/MPP\"              \"HSC/MPP\"              \"GATA2\"               \n",
      " [7] \"LMPP\"                 \"LMPP\"                 \"LMPP\"                \n",
      "[10] \"MEP_ERP\"              \"MEP_ERP\"              \"MEP_ERP\"             \n",
      "[13] \"MLP_BNK\"              \"MLP_BNK\"              \"EBM\"                 \n",
      "[16] \"EBM\"                  \"MD\"                   \"MD\"                  \n",
      "[19] \"GMP_Neu\"              \"GMP_Neu\"              \"GMP_Neu\"             \n",
      "[22] \"GMP_Neu\"              \"GMP_Neu\"              \"Stromal\"             \n",
      "[25] \"Stromal\"              \"Eosinophils\"          \"Basophils_Mast cells\"\n",
      "[28] \"Basophils_Mast cells\" \"Mast cells\"          \n",
      "[1] 29\n",
      " [1] CD34                 CD38                 HSC/MPP             \n",
      " [4] HSC/MPP              HSC/MPP              GATA2               \n",
      " [7] LMPP                 LMPP                 LMPP                \n",
      "[10] MEP_ERP              MEP_ERP              MEP_ERP             \n",
      "[13] MLP_BNK              MLP_BNK              EBM                 \n",
      "[16] EBM                  MD                   MD                  \n",
      "[19] GMP_Neu              GMP_Neu              GMP_Neu             \n",
      "[22] GMP_Neu              GMP_Neu              Stromal             \n",
      "[25] Stromal              Eosinophils          Basophils_Mast cells\n",
      "[28] Basophils_Mast cells Mast cells          \n",
      "14 Levels: CD34 CD38 HSC/MPP GATA2 LMPP MEP_ERP MLP_BNK EBM MD ... Mast cells\n"
     ]
    }
   ],
   "source": [
    "# define Marker gene -------------------------------------------------------------\n",
    "if (TRUE){\n",
    "  ## 1）read sample sheet\n",
    "  sample_sheet_f =  \"/share/home/wyz/Lab/Code/ProjectCode/2024/202403/20240320_scRNA_AML_Annotation/sample_info/Bone_marrow_Cell_Marker_List_20240329_1.xlsx\"\n",
    "  \n",
    "  sample_sheet_df = readxl::read_excel(path=sample_sheet_f,col_name=T,col_types=\"text\",na=\"\",sheet = \"20240322_2_sci_hsc_3\")\n",
    "  dim(sample_sheet_df)\n",
    "  print(sample_sheet_df)\n",
    "  class(sample_sheet_df)\n",
    "  \n",
    "  # check\n",
    "  for(geneid in sample_sheet_df$CellMarker){\n",
    "    # print(geneid)\n",
    "    if (geneid %in% rownames(seurat_object_GSE)){\n",
    "      print(paste(geneid, \"【Yes exists matrix.】 \"))\n",
    "    }\n",
    "    else {\n",
    "      print(paste(geneid, \"【No exists matrix.】\"))\n",
    "    }\n",
    "  }\n",
    "\n",
    "  # del no exists gene\n",
    "  sample_sheet_df_keep = sample_sheet_df %>%\n",
    "    filter(!(CellMarker %in% c(\"IGKC\",\"S1000A12\")))\n",
    "  print(sample_sheet_df_keep)\n",
    "  \n",
    "  \n",
    "  \n",
    "  # gene\n",
    "  gene_list = as.character(sample_sheet_df_keep$CellMarker)\n",
    "  print(gene_list)\n",
    "  print(length(gene_list))\n",
    "  \n",
    "\n",
    "  # sort\n",
    "  gene_list_unique = unique(gene_list)\n",
    "  \n",
    "  gene_list_sorted <- factor(gene_list, levels = gene_list_unique)\n",
    "  print(gene_list_sorted) \n",
    "  \n",
    "   \n",
    "   # celltype\n",
    "   genetype_list = as.character(sample_sheet_df_keep$CellType)\n",
    "   print(genetype_list)\n",
    "   print(length(genetype_list))\n",
    "   \n",
    "   # sort\n",
    "   genetype_list_unique = unique(genetype_list)\n",
    "   \n",
    "   genetype_list_sorted <- factor(genetype_list, levels = genetype_list_unique)\n",
    "   print(genetype_list_sorted) \n",
    "}\n"
   ]
  },
  {
   "cell_type": "code",
   "execution_count": 99,
   "metadata": {
    "vscode": {
     "languageId": "r"
    }
   },
   "outputs": [],
   "source": [
    "# 通过DotPlot，获取矫正后的表达矩阵和细胞占比\n",
    "plot1 <- DotPlot(seurat_object_GSE,features = gene_list_unique ,assay='RNA') +\n",
    "        # coord_flip() + #翻转\n",
    "        theme(panel.grid = element_blank(), \n",
    "                axis.text.x=element_text(angle = 45, hjust = 0.5,vjust=0.5))+ #轴标签\n",
    "                labs(x=NULL,y=NULL) + \n",
    "                guides(size = guide_legend(\"Percent Expression\")) # + #legend\n",
    "\n",
    "# 手动添加图例\n",
    "# legend <- get_legend(plot1)"
   ]
  },
  {
   "cell_type": "code",
   "execution_count": 100,
   "metadata": {
    "vscode": {
     "languageId": "r"
    }
   },
   "outputs": [
    {
     "data": {
      "text/html": [
       "<strong>png:</strong> 2"
      ],
      "text/latex": [
       "\\textbf{png:} 2"
      ],
      "text/markdown": [
       "**png:** 2"
      ],
      "text/plain": [
       "png \n",
       "  2 "
      ]
     },
     "metadata": {},
     "output_type": "display_data"
    }
   ],
   "source": [
    "output_f_path = file.path(output_dir,\"GSE_Rice_heatmap_4_1_2.png\")\n",
    "png(output_f_path, width = 8000/2.54, height = 8000/2.54,res = 300)\n",
    "\n",
    "plot1\n",
    "\n",
    "dev.off()"
   ]
  },
  {
   "cell_type": "code",
   "execution_count": 101,
   "metadata": {
    "vscode": {
     "languageId": "r"
    }
   },
   "outputs": [
    {
     "data": {
      "text/html": [
       "<table class=\"dataframe\">\n",
       "<caption>A data.frame: 6 × 5</caption>\n",
       "<thead>\n",
       "\t<tr><th></th><th scope=col>avg.exp</th><th scope=col>pct.exp</th><th scope=col>features.plot</th><th scope=col>id</th><th scope=col>avg.exp.scaled</th></tr>\n",
       "\t<tr><th></th><th scope=col>&lt;dbl&gt;</th><th scope=col>&lt;dbl&gt;</th><th scope=col>&lt;fct&gt;</th><th scope=col>&lt;fct&gt;</th><th scope=col>&lt;dbl&gt;</th></tr>\n",
       "</thead>\n",
       "<tbody>\n",
       "\t<tr><th scope=row>CD34</th><td>2.3588569</td><td>72.90480</td><td>CD34 </td><td>0</td><td> 1.02114886</td></tr>\n",
       "\t<tr><th scope=row>CD38</th><td>0.3605476</td><td>19.46995</td><td>CD38 </td><td>0</td><td>-0.72438849</td></tr>\n",
       "\t<tr><th scope=row>AVP</th><td>2.0708118</td><td>30.87295</td><td>AVP  </td><td>0</td><td> 2.50000000</td></tr>\n",
       "\t<tr><th scope=row>CRHBP</th><td>1.8247088</td><td>37.18470</td><td>CRHBP</td><td>0</td><td> 2.10910610</td></tr>\n",
       "\t<tr><th scope=row>MLLT3</th><td>1.0583242</td><td>41.95048</td><td>MLLT3</td><td>0</td><td> 1.06232138</td></tr>\n",
       "\t<tr><th scope=row>GATA2</th><td>0.8590368</td><td>39.66058</td><td>GATA2</td><td>0</td><td>-0.02165612</td></tr>\n",
       "</tbody>\n",
       "</table>\n"
      ],
      "text/latex": [
       "A data.frame: 6 × 5\n",
       "\\begin{tabular}{r|lllll}\n",
       "  & avg.exp & pct.exp & features.plot & id & avg.exp.scaled\\\\\n",
       "  & <dbl> & <dbl> & <fct> & <fct> & <dbl>\\\\\n",
       "\\hline\n",
       "\tCD34 & 2.3588569 & 72.90480 & CD34  & 0 &  1.02114886\\\\\n",
       "\tCD38 & 0.3605476 & 19.46995 & CD38  & 0 & -0.72438849\\\\\n",
       "\tAVP & 2.0708118 & 30.87295 & AVP   & 0 &  2.50000000\\\\\n",
       "\tCRHBP & 1.8247088 & 37.18470 & CRHBP & 0 &  2.10910610\\\\\n",
       "\tMLLT3 & 1.0583242 & 41.95048 & MLLT3 & 0 &  1.06232138\\\\\n",
       "\tGATA2 & 0.8590368 & 39.66058 & GATA2 & 0 & -0.02165612\\\\\n",
       "\\end{tabular}\n"
      ],
      "text/markdown": [
       "\n",
       "A data.frame: 6 × 5\n",
       "\n",
       "| <!--/--> | avg.exp &lt;dbl&gt; | pct.exp &lt;dbl&gt; | features.plot &lt;fct&gt; | id &lt;fct&gt; | avg.exp.scaled &lt;dbl&gt; |\n",
       "|---|---|---|---|---|---|\n",
       "| CD34 | 2.3588569 | 72.90480 | CD34  | 0 |  1.02114886 |\n",
       "| CD38 | 0.3605476 | 19.46995 | CD38  | 0 | -0.72438849 |\n",
       "| AVP | 2.0708118 | 30.87295 | AVP   | 0 |  2.50000000 |\n",
       "| CRHBP | 1.8247088 | 37.18470 | CRHBP | 0 |  2.10910610 |\n",
       "| MLLT3 | 1.0583242 | 41.95048 | MLLT3 | 0 |  1.06232138 |\n",
       "| GATA2 | 0.8590368 | 39.66058 | GATA2 | 0 | -0.02165612 |\n",
       "\n"
      ],
      "text/plain": [
       "      avg.exp   pct.exp  features.plot id avg.exp.scaled\n",
       "CD34  2.3588569 72.90480 CD34          0   1.02114886   \n",
       "CD38  0.3605476 19.46995 CD38          0  -0.72438849   \n",
       "AVP   2.0708118 30.87295 AVP           0   2.50000000   \n",
       "CRHBP 1.8247088 37.18470 CRHBP         0   2.10910610   \n",
       "MLLT3 1.0583242 41.95048 MLLT3         0   1.06232138   \n",
       "GATA2 0.8590368 39.66058 GATA2         0  -0.02165612   "
      ]
     },
     "metadata": {},
     "output_type": "display_data"
    }
   ],
   "source": [
    "df<- plot1$data\n",
    "head(df)"
   ]
  },
  {
   "cell_type": "code",
   "execution_count": 102,
   "metadata": {
    "vscode": {
     "languageId": "r"
    }
   },
   "outputs": [
    {
     "data": {
      "text/html": [
       "<table class=\"dataframe\">\n",
       "<caption>A matrix: 6 × 26 of type dbl</caption>\n",
       "<thead>\n",
       "\t<tr><th></th><th scope=col>0</th><th scope=col>1</th><th scope=col>2</th><th scope=col>3</th><th scope=col>4</th><th scope=col>5</th><th scope=col>6</th><th scope=col>7</th><th scope=col>8</th><th scope=col>9</th><th scope=col>⋯</th><th scope=col>16</th><th scope=col>17</th><th scope=col>18</th><th scope=col>19</th><th scope=col>20</th><th scope=col>21</th><th scope=col>22</th><th scope=col>23</th><th scope=col>24</th><th scope=col>25</th></tr>\n",
       "</thead>\n",
       "<tbody>\n",
       "\t<tr><th scope=row>CD34</th><td> 1.02114886</td><td> 2.07949537</td><td>-1.37068354</td><td> 0.4286969</td><td>0.20759812</td><td> 0.61780355</td><td> 0.5227471</td><td>1.15252622</td><td>-0.5152982</td><td>-1.4540477</td><td>⋯</td><td>-0.39682838</td><td> 1.17440787</td><td>-0.8313087</td><td> 1.2906050</td><td>-0.1008998</td><td>-0.39574513</td><td> 1.5938470</td><td>-1.1837904</td><td>-0.8269304</td><td> 0.1171657</td></tr>\n",
       "\t<tr><th scope=row>CD38</th><td>-0.72438849</td><td>-0.33188562</td><td>-1.16540338</td><td>-0.5117304</td><td>0.42817677</td><td>-0.32136343</td><td>-0.1246046</td><td>0.60851020</td><td> 0.9967173</td><td>-1.1041829</td><td>⋯</td><td>-0.03326103</td><td>-0.06948132</td><td>-0.9615334</td><td> 0.9814584</td><td> 0.7538699</td><td>-0.18143431</td><td>-0.8160769</td><td>-0.7238594</td><td> 0.7777775</td><td> 2.5000000</td></tr>\n",
       "\t<tr><th scope=row>AVP</th><td> 2.50000000</td><td>-0.02251023</td><td>-0.65286461</td><td> 0.6231844</td><td>0.08074057</td><td> 0.88779533</td><td> 0.2354364</td><td>0.31545720</td><td>-0.6155191</td><td>-0.6875244</td><td>⋯</td><td>-0.07027463</td><td>-0.48240441</td><td>-0.6229293</td><td>-0.5963141</td><td>-0.6574690</td><td>-0.48878760</td><td> 2.5000000</td><td> 0.2781782</td><td>-0.6877399</td><td>-0.6995189</td></tr>\n",
       "\t<tr><th scope=row>CRHBP</th><td> 2.10910610</td><td>-0.36054982</td><td>-0.56777644</td><td> 0.9803265</td><td>0.80355190</td><td> 0.68587432</td><td>-0.1954689</td><td>0.08627811</td><td>-0.7737987</td><td>-0.8545214</td><td>⋯</td><td>-0.49899289</td><td>-0.45744511</td><td>-0.6355749</td><td>-0.4966803</td><td>-0.7891342</td><td>-0.52565958</td><td> 2.5000000</td><td> 1.0645779</td><td>-0.8100726</td><td> 1.6107497</td></tr>\n",
       "\t<tr><th scope=row>MLLT3</th><td> 1.06232138</td><td>-0.10437477</td><td>-0.01815871</td><td> 0.4902468</td><td>1.08259595</td><td>-0.07605959</td><td>-0.2742069</td><td>0.08941574</td><td>-0.7158337</td><td>-0.4824422</td><td>⋯</td><td>-0.58123288</td><td>-0.24579723</td><td>-0.9488536</td><td>-0.6360127</td><td>-0.8656382</td><td> 0.06819985</td><td> 1.3090999</td><td>-0.9387069</td><td>-1.0923353</td><td> 2.5000000</td></tr>\n",
       "\t<tr><th scope=row>GATA2</th><td>-0.02165612</td><td>-0.07101735</td><td>-0.84760444</td><td>-0.1202499</td><td>2.50000000</td><td>-0.11175692</td><td>-0.2420018</td><td>0.15471964</td><td>-0.1237537</td><td>-0.9362959</td><td>⋯</td><td>-0.23255453</td><td> 0.02281449</td><td>-0.8485677</td><td>-0.6142490</td><td>-0.7888908</td><td> 1.34292888</td><td> 0.5097826</td><td>-0.7380170</td><td>-0.8831814</td><td> 0.8474526</td></tr>\n",
       "</tbody>\n",
       "</table>\n"
      ],
      "text/latex": [
       "A matrix: 6 × 26 of type dbl\n",
       "\\begin{tabular}{r|lllllllllllllllllllll}\n",
       "  & 0 & 1 & 2 & 3 & 4 & 5 & 6 & 7 & 8 & 9 & ⋯ & 16 & 17 & 18 & 19 & 20 & 21 & 22 & 23 & 24 & 25\\\\\n",
       "\\hline\n",
       "\tCD34 &  1.02114886 &  2.07949537 & -1.37068354 &  0.4286969 & 0.20759812 &  0.61780355 &  0.5227471 & 1.15252622 & -0.5152982 & -1.4540477 & ⋯ & -0.39682838 &  1.17440787 & -0.8313087 &  1.2906050 & -0.1008998 & -0.39574513 &  1.5938470 & -1.1837904 & -0.8269304 &  0.1171657\\\\\n",
       "\tCD38 & -0.72438849 & -0.33188562 & -1.16540338 & -0.5117304 & 0.42817677 & -0.32136343 & -0.1246046 & 0.60851020 &  0.9967173 & -1.1041829 & ⋯ & -0.03326103 & -0.06948132 & -0.9615334 &  0.9814584 &  0.7538699 & -0.18143431 & -0.8160769 & -0.7238594 &  0.7777775 &  2.5000000\\\\\n",
       "\tAVP &  2.50000000 & -0.02251023 & -0.65286461 &  0.6231844 & 0.08074057 &  0.88779533 &  0.2354364 & 0.31545720 & -0.6155191 & -0.6875244 & ⋯ & -0.07027463 & -0.48240441 & -0.6229293 & -0.5963141 & -0.6574690 & -0.48878760 &  2.5000000 &  0.2781782 & -0.6877399 & -0.6995189\\\\\n",
       "\tCRHBP &  2.10910610 & -0.36054982 & -0.56777644 &  0.9803265 & 0.80355190 &  0.68587432 & -0.1954689 & 0.08627811 & -0.7737987 & -0.8545214 & ⋯ & -0.49899289 & -0.45744511 & -0.6355749 & -0.4966803 & -0.7891342 & -0.52565958 &  2.5000000 &  1.0645779 & -0.8100726 &  1.6107497\\\\\n",
       "\tMLLT3 &  1.06232138 & -0.10437477 & -0.01815871 &  0.4902468 & 1.08259595 & -0.07605959 & -0.2742069 & 0.08941574 & -0.7158337 & -0.4824422 & ⋯ & -0.58123288 & -0.24579723 & -0.9488536 & -0.6360127 & -0.8656382 &  0.06819985 &  1.3090999 & -0.9387069 & -1.0923353 &  2.5000000\\\\\n",
       "\tGATA2 & -0.02165612 & -0.07101735 & -0.84760444 & -0.1202499 & 2.50000000 & -0.11175692 & -0.2420018 & 0.15471964 & -0.1237537 & -0.9362959 & ⋯ & -0.23255453 &  0.02281449 & -0.8485677 & -0.6142490 & -0.7888908 &  1.34292888 &  0.5097826 & -0.7380170 & -0.8831814 &  0.8474526\\\\\n",
       "\\end{tabular}\n"
      ],
      "text/markdown": [
       "\n",
       "A matrix: 6 × 26 of type dbl\n",
       "\n",
       "| <!--/--> | 0 | 1 | 2 | 3 | 4 | 5 | 6 | 7 | 8 | 9 | ⋯ | 16 | 17 | 18 | 19 | 20 | 21 | 22 | 23 | 24 | 25 |\n",
       "|---|---|---|---|---|---|---|---|---|---|---|---|---|---|---|---|---|---|---|---|---|---|\n",
       "| CD34 |  1.02114886 |  2.07949537 | -1.37068354 |  0.4286969 | 0.20759812 |  0.61780355 |  0.5227471 | 1.15252622 | -0.5152982 | -1.4540477 | ⋯ | -0.39682838 |  1.17440787 | -0.8313087 |  1.2906050 | -0.1008998 | -0.39574513 |  1.5938470 | -1.1837904 | -0.8269304 |  0.1171657 |\n",
       "| CD38 | -0.72438849 | -0.33188562 | -1.16540338 | -0.5117304 | 0.42817677 | -0.32136343 | -0.1246046 | 0.60851020 |  0.9967173 | -1.1041829 | ⋯ | -0.03326103 | -0.06948132 | -0.9615334 |  0.9814584 |  0.7538699 | -0.18143431 | -0.8160769 | -0.7238594 |  0.7777775 |  2.5000000 |\n",
       "| AVP |  2.50000000 | -0.02251023 | -0.65286461 |  0.6231844 | 0.08074057 |  0.88779533 |  0.2354364 | 0.31545720 | -0.6155191 | -0.6875244 | ⋯ | -0.07027463 | -0.48240441 | -0.6229293 | -0.5963141 | -0.6574690 | -0.48878760 |  2.5000000 |  0.2781782 | -0.6877399 | -0.6995189 |\n",
       "| CRHBP |  2.10910610 | -0.36054982 | -0.56777644 |  0.9803265 | 0.80355190 |  0.68587432 | -0.1954689 | 0.08627811 | -0.7737987 | -0.8545214 | ⋯ | -0.49899289 | -0.45744511 | -0.6355749 | -0.4966803 | -0.7891342 | -0.52565958 |  2.5000000 |  1.0645779 | -0.8100726 |  1.6107497 |\n",
       "| MLLT3 |  1.06232138 | -0.10437477 | -0.01815871 |  0.4902468 | 1.08259595 | -0.07605959 | -0.2742069 | 0.08941574 | -0.7158337 | -0.4824422 | ⋯ | -0.58123288 | -0.24579723 | -0.9488536 | -0.6360127 | -0.8656382 |  0.06819985 |  1.3090999 | -0.9387069 | -1.0923353 |  2.5000000 |\n",
       "| GATA2 | -0.02165612 | -0.07101735 | -0.84760444 | -0.1202499 | 2.50000000 | -0.11175692 | -0.2420018 | 0.15471964 | -0.1237537 | -0.9362959 | ⋯ | -0.23255453 |  0.02281449 | -0.8485677 | -0.6142490 | -0.7888908 |  1.34292888 |  0.5097826 | -0.7380170 | -0.8831814 |  0.8474526 |\n",
       "\n"
      ],
      "text/plain": [
       "      0           1           2           3          4          5          \n",
       "CD34   1.02114886  2.07949537 -1.37068354  0.4286969 0.20759812  0.61780355\n",
       "CD38  -0.72438849 -0.33188562 -1.16540338 -0.5117304 0.42817677 -0.32136343\n",
       "AVP    2.50000000 -0.02251023 -0.65286461  0.6231844 0.08074057  0.88779533\n",
       "CRHBP  2.10910610 -0.36054982 -0.56777644  0.9803265 0.80355190  0.68587432\n",
       "MLLT3  1.06232138 -0.10437477 -0.01815871  0.4902468 1.08259595 -0.07605959\n",
       "GATA2 -0.02165612 -0.07101735 -0.84760444 -0.1202499 2.50000000 -0.11175692\n",
       "      6          7          8          9          ⋯ 16          17         \n",
       "CD34   0.5227471 1.15252622 -0.5152982 -1.4540477 ⋯ -0.39682838  1.17440787\n",
       "CD38  -0.1246046 0.60851020  0.9967173 -1.1041829 ⋯ -0.03326103 -0.06948132\n",
       "AVP    0.2354364 0.31545720 -0.6155191 -0.6875244 ⋯ -0.07027463 -0.48240441\n",
       "CRHBP -0.1954689 0.08627811 -0.7737987 -0.8545214 ⋯ -0.49899289 -0.45744511\n",
       "MLLT3 -0.2742069 0.08941574 -0.7158337 -0.4824422 ⋯ -0.58123288 -0.24579723\n",
       "GATA2 -0.2420018 0.15471964 -0.1237537 -0.9362959 ⋯ -0.23255453  0.02281449\n",
       "      18         19         20         21          22         23        \n",
       "CD34  -0.8313087  1.2906050 -0.1008998 -0.39574513  1.5938470 -1.1837904\n",
       "CD38  -0.9615334  0.9814584  0.7538699 -0.18143431 -0.8160769 -0.7238594\n",
       "AVP   -0.6229293 -0.5963141 -0.6574690 -0.48878760  2.5000000  0.2781782\n",
       "CRHBP -0.6355749 -0.4966803 -0.7891342 -0.52565958  2.5000000  1.0645779\n",
       "MLLT3 -0.9488536 -0.6360127 -0.8656382  0.06819985  1.3090999 -0.9387069\n",
       "GATA2 -0.8485677 -0.6142490 -0.7888908  1.34292888  0.5097826 -0.7380170\n",
       "      24         25        \n",
       "CD34  -0.8269304  0.1171657\n",
       "CD38   0.7777775  2.5000000\n",
       "AVP   -0.6877399 -0.6995189\n",
       "CRHBP -0.8100726  1.6107497\n",
       "MLLT3 -1.0923353  2.5000000\n",
       "GATA2 -0.8831814  0.8474526"
      ]
     },
     "metadata": {},
     "output_type": "display_data"
    },
    {
     "data": {
      "text/html": [
       "<table class=\"dataframe\">\n",
       "<caption>A matrix: 6 × 26 of type dbl</caption>\n",
       "<thead>\n",
       "\t<tr><th></th><th scope=col>0</th><th scope=col>1</th><th scope=col>2</th><th scope=col>3</th><th scope=col>4</th><th scope=col>5</th><th scope=col>6</th><th scope=col>7</th><th scope=col>8</th><th scope=col>9</th><th scope=col>⋯</th><th scope=col>16</th><th scope=col>17</th><th scope=col>18</th><th scope=col>19</th><th scope=col>20</th><th scope=col>21</th><th scope=col>22</th><th scope=col>23</th><th scope=col>24</th><th scope=col>25</th></tr>\n",
       "</thead>\n",
       "<tbody>\n",
       "\t<tr><th scope=row>CD36</th><td>-0.45019877</td><td> 1.06540572</td><td>-0.6901016</td><td>-0.5818368</td><td>-0.4794209</td><td>-0.4579871</td><td>-0.3258252</td><td>-0.3756365</td><td>-0.43408348</td><td>-0.6908083</td><td>⋯</td><td>-0.51814209</td><td> 1.03025653</td><td>-0.6723539</td><td>-0.1222275</td><td> 0.53436367</td><td>-0.3496283</td><td>-0.6455171</td><td> 0.8640701</td><td>-0.6635979</td><td> 2.5000000</td></tr>\n",
       "\t<tr><th scope=row>VCAM1</th><td>-0.19796552</td><td>-0.19786992</td><td>-0.1977042</td><td>-0.1956592</td><td>-0.1982246</td><td>-0.1983141</td><td>-0.1982420</td><td>-0.1980770</td><td>-0.19825526</td><td>-0.1624041</td><td>⋯</td><td>-0.19842711</td><td>-0.19842711</td><td>-0.1922407</td><td>-0.1984271</td><td>-0.19842711</td><td>-0.1959935</td><td>-0.1984271</td><td> 2.5000000</td><td>-0.1984271</td><td>-0.1984271</td></tr>\n",
       "\t<tr><th scope=row>FCGR3A</th><td>-0.31639243</td><td>-0.31760599</td><td>-0.3064120</td><td>-0.3084617</td><td>-0.3162089</td><td>-0.3176909</td><td>-0.3171861</td><td>-0.3182071</td><td>-0.31800753</td><td> 0.6968378</td><td>⋯</td><td>-0.30887828</td><td>-0.23878192</td><td>-0.2803868</td><td>-0.3171657</td><td>-0.30410180</td><td>-0.3175904</td><td>-0.3185340</td><td> 1.3535638</td><td>-0.3202750</td><td>-0.3202750</td></tr>\n",
       "\t<tr><th scope=row>FCER1A</th><td>-0.39417897</td><td>-0.43683520</td><td>-0.4282143</td><td>-0.3939446</td><td> 2.5000000</td><td>-0.4224085</td><td>-0.4245687</td><td>-0.4062316</td><td>-0.42348477</td><td>-0.4514348</td><td>⋯</td><td>-0.04756574</td><td>-0.16520404</td><td>-0.4267226</td><td>-0.4480036</td><td> 0.38829570</td><td> 2.5000000</td><td>-0.2523860</td><td>-0.3658661</td><td>-0.4331821</td><td>-0.4538117</td></tr>\n",
       "\t<tr><th scope=row>KIT</th><td> 0.07241393</td><td> 0.07205016</td><td>-1.2624825</td><td> 0.1278096</td><td> 1.3186055</td><td> 0.3378581</td><td> 0.3552047</td><td> 1.2867512</td><td> 0.51557735</td><td>-1.3160943</td><td>⋯</td><td>-0.09367454</td><td> 0.03013863</td><td>-1.0617339</td><td>-1.0209151</td><td> 0.03359987</td><td> 0.2488728</td><td> 1.3628131</td><td>-0.9751963</td><td>-1.2963344</td><td> 2.5000000</td></tr>\n",
       "\t<tr><th scope=row>TPSB2</th><td>-0.16921181</td><td>-0.06420466</td><td>-0.3791700</td><td>-0.2442338</td><td> 2.5000000</td><td>-0.2510626</td><td>-0.1824244</td><td>-0.2189387</td><td>-0.07410282</td><td>-0.3918404</td><td>⋯</td><td>-0.26941761</td><td> 0.03456311</td><td>-0.3468464</td><td>-0.2663445</td><td>-0.36227975</td><td> 0.4992041</td><td>-0.1356175</td><td>-0.2808468</td><td>-0.3743718</td><td>-0.2544881</td></tr>\n",
       "</tbody>\n",
       "</table>\n"
      ],
      "text/latex": [
       "A matrix: 6 × 26 of type dbl\n",
       "\\begin{tabular}{r|lllllllllllllllllllll}\n",
       "  & 0 & 1 & 2 & 3 & 4 & 5 & 6 & 7 & 8 & 9 & ⋯ & 16 & 17 & 18 & 19 & 20 & 21 & 22 & 23 & 24 & 25\\\\\n",
       "\\hline\n",
       "\tCD36 & -0.45019877 &  1.06540572 & -0.6901016 & -0.5818368 & -0.4794209 & -0.4579871 & -0.3258252 & -0.3756365 & -0.43408348 & -0.6908083 & ⋯ & -0.51814209 &  1.03025653 & -0.6723539 & -0.1222275 &  0.53436367 & -0.3496283 & -0.6455171 &  0.8640701 & -0.6635979 &  2.5000000\\\\\n",
       "\tVCAM1 & -0.19796552 & -0.19786992 & -0.1977042 & -0.1956592 & -0.1982246 & -0.1983141 & -0.1982420 & -0.1980770 & -0.19825526 & -0.1624041 & ⋯ & -0.19842711 & -0.19842711 & -0.1922407 & -0.1984271 & -0.19842711 & -0.1959935 & -0.1984271 &  2.5000000 & -0.1984271 & -0.1984271\\\\\n",
       "\tFCGR3A & -0.31639243 & -0.31760599 & -0.3064120 & -0.3084617 & -0.3162089 & -0.3176909 & -0.3171861 & -0.3182071 & -0.31800753 &  0.6968378 & ⋯ & -0.30887828 & -0.23878192 & -0.2803868 & -0.3171657 & -0.30410180 & -0.3175904 & -0.3185340 &  1.3535638 & -0.3202750 & -0.3202750\\\\\n",
       "\tFCER1A & -0.39417897 & -0.43683520 & -0.4282143 & -0.3939446 &  2.5000000 & -0.4224085 & -0.4245687 & -0.4062316 & -0.42348477 & -0.4514348 & ⋯ & -0.04756574 & -0.16520404 & -0.4267226 & -0.4480036 &  0.38829570 &  2.5000000 & -0.2523860 & -0.3658661 & -0.4331821 & -0.4538117\\\\\n",
       "\tKIT &  0.07241393 &  0.07205016 & -1.2624825 &  0.1278096 &  1.3186055 &  0.3378581 &  0.3552047 &  1.2867512 &  0.51557735 & -1.3160943 & ⋯ & -0.09367454 &  0.03013863 & -1.0617339 & -1.0209151 &  0.03359987 &  0.2488728 &  1.3628131 & -0.9751963 & -1.2963344 &  2.5000000\\\\\n",
       "\tTPSB2 & -0.16921181 & -0.06420466 & -0.3791700 & -0.2442338 &  2.5000000 & -0.2510626 & -0.1824244 & -0.2189387 & -0.07410282 & -0.3918404 & ⋯ & -0.26941761 &  0.03456311 & -0.3468464 & -0.2663445 & -0.36227975 &  0.4992041 & -0.1356175 & -0.2808468 & -0.3743718 & -0.2544881\\\\\n",
       "\\end{tabular}\n"
      ],
      "text/markdown": [
       "\n",
       "A matrix: 6 × 26 of type dbl\n",
       "\n",
       "| <!--/--> | 0 | 1 | 2 | 3 | 4 | 5 | 6 | 7 | 8 | 9 | ⋯ | 16 | 17 | 18 | 19 | 20 | 21 | 22 | 23 | 24 | 25 |\n",
       "|---|---|---|---|---|---|---|---|---|---|---|---|---|---|---|---|---|---|---|---|---|---|\n",
       "| CD36 | -0.45019877 |  1.06540572 | -0.6901016 | -0.5818368 | -0.4794209 | -0.4579871 | -0.3258252 | -0.3756365 | -0.43408348 | -0.6908083 | ⋯ | -0.51814209 |  1.03025653 | -0.6723539 | -0.1222275 |  0.53436367 | -0.3496283 | -0.6455171 |  0.8640701 | -0.6635979 |  2.5000000 |\n",
       "| VCAM1 | -0.19796552 | -0.19786992 | -0.1977042 | -0.1956592 | -0.1982246 | -0.1983141 | -0.1982420 | -0.1980770 | -0.19825526 | -0.1624041 | ⋯ | -0.19842711 | -0.19842711 | -0.1922407 | -0.1984271 | -0.19842711 | -0.1959935 | -0.1984271 |  2.5000000 | -0.1984271 | -0.1984271 |\n",
       "| FCGR3A | -0.31639243 | -0.31760599 | -0.3064120 | -0.3084617 | -0.3162089 | -0.3176909 | -0.3171861 | -0.3182071 | -0.31800753 |  0.6968378 | ⋯ | -0.30887828 | -0.23878192 | -0.2803868 | -0.3171657 | -0.30410180 | -0.3175904 | -0.3185340 |  1.3535638 | -0.3202750 | -0.3202750 |\n",
       "| FCER1A | -0.39417897 | -0.43683520 | -0.4282143 | -0.3939446 |  2.5000000 | -0.4224085 | -0.4245687 | -0.4062316 | -0.42348477 | -0.4514348 | ⋯ | -0.04756574 | -0.16520404 | -0.4267226 | -0.4480036 |  0.38829570 |  2.5000000 | -0.2523860 | -0.3658661 | -0.4331821 | -0.4538117 |\n",
       "| KIT |  0.07241393 |  0.07205016 | -1.2624825 |  0.1278096 |  1.3186055 |  0.3378581 |  0.3552047 |  1.2867512 |  0.51557735 | -1.3160943 | ⋯ | -0.09367454 |  0.03013863 | -1.0617339 | -1.0209151 |  0.03359987 |  0.2488728 |  1.3628131 | -0.9751963 | -1.2963344 |  2.5000000 |\n",
       "| TPSB2 | -0.16921181 | -0.06420466 | -0.3791700 | -0.2442338 |  2.5000000 | -0.2510626 | -0.1824244 | -0.2189387 | -0.07410282 | -0.3918404 | ⋯ | -0.26941761 |  0.03456311 | -0.3468464 | -0.2663445 | -0.36227975 |  0.4992041 | -0.1356175 | -0.2808468 | -0.3743718 | -0.2544881 |\n",
       "\n"
      ],
      "text/plain": [
       "       0           1           2          3          4          5         \n",
       "CD36   -0.45019877  1.06540572 -0.6901016 -0.5818368 -0.4794209 -0.4579871\n",
       "VCAM1  -0.19796552 -0.19786992 -0.1977042 -0.1956592 -0.1982246 -0.1983141\n",
       "FCGR3A -0.31639243 -0.31760599 -0.3064120 -0.3084617 -0.3162089 -0.3176909\n",
       "FCER1A -0.39417897 -0.43683520 -0.4282143 -0.3939446  2.5000000 -0.4224085\n",
       "KIT     0.07241393  0.07205016 -1.2624825  0.1278096  1.3186055  0.3378581\n",
       "TPSB2  -0.16921181 -0.06420466 -0.3791700 -0.2442338  2.5000000 -0.2510626\n",
       "       6          7          8           9          ⋯ 16          17         \n",
       "CD36   -0.3258252 -0.3756365 -0.43408348 -0.6908083 ⋯ -0.51814209  1.03025653\n",
       "VCAM1  -0.1982420 -0.1980770 -0.19825526 -0.1624041 ⋯ -0.19842711 -0.19842711\n",
       "FCGR3A -0.3171861 -0.3182071 -0.31800753  0.6968378 ⋯ -0.30887828 -0.23878192\n",
       "FCER1A -0.4245687 -0.4062316 -0.42348477 -0.4514348 ⋯ -0.04756574 -0.16520404\n",
       "KIT     0.3552047  1.2867512  0.51557735 -1.3160943 ⋯ -0.09367454  0.03013863\n",
       "TPSB2  -0.1824244 -0.2189387 -0.07410282 -0.3918404 ⋯ -0.26941761  0.03456311\n",
       "       18         19         20          21         22         23        \n",
       "CD36   -0.6723539 -0.1222275  0.53436367 -0.3496283 -0.6455171  0.8640701\n",
       "VCAM1  -0.1922407 -0.1984271 -0.19842711 -0.1959935 -0.1984271  2.5000000\n",
       "FCGR3A -0.2803868 -0.3171657 -0.30410180 -0.3175904 -0.3185340  1.3535638\n",
       "FCER1A -0.4267226 -0.4480036  0.38829570  2.5000000 -0.2523860 -0.3658661\n",
       "KIT    -1.0617339 -1.0209151  0.03359987  0.2488728  1.3628131 -0.9751963\n",
       "TPSB2  -0.3468464 -0.2663445 -0.36227975  0.4992041 -0.1356175 -0.2808468\n",
       "       24         25        \n",
       "CD36   -0.6635979  2.5000000\n",
       "VCAM1  -0.1984271 -0.1984271\n",
       "FCGR3A -0.3202750 -0.3202750\n",
       "FCER1A -0.4331821 -0.4538117\n",
       "KIT    -1.2963344  2.5000000\n",
       "TPSB2  -0.3743718 -0.2544881"
      ]
     },
     "metadata": {},
     "output_type": "display_data"
    },
    {
     "data": {
      "text/html": [
       "<style>\n",
       ".list-inline {list-style: none; margin:0; padding: 0}\n",
       ".list-inline>li {display: inline-block}\n",
       ".list-inline>li:not(:last-child)::after {content: \"\\00b7\"; padding: 0 .5ex}\n",
       "</style>\n",
       "<ol class=list-inline><li>29</li><li>26</li></ol>\n"
      ],
      "text/latex": [
       "\\begin{enumerate*}\n",
       "\\item 29\n",
       "\\item 26\n",
       "\\end{enumerate*}\n"
      ],
      "text/markdown": [
       "1. 29\n",
       "2. 26\n",
       "\n",
       "\n"
      ],
      "text/plain": [
       "[1] 29 26"
      ]
     },
     "metadata": {},
     "output_type": "display_data"
    }
   ],
   "source": [
    "### the matrix for the scaled expression \n",
    "exp_mat<-df %>% \n",
    "  select(-pct.exp, -avg.exp) %>%  \n",
    "  pivot_wider(names_from = id, values_from = avg.exp.scaled) %>% \n",
    "  as.data.frame() \n",
    "    \n",
    "row.names(exp_mat) <- exp_mat$features.plot  \n",
    "exp_mat <- exp_mat[,-1] %>% as.matrix()\n",
    "\n",
    "head(exp_mat)\n",
    "tail(exp_mat)\n",
    "dim(exp_mat)"
   ]
  },
  {
   "cell_type": "code",
   "execution_count": 103,
   "metadata": {
    "vscode": {
     "languageId": "r"
    }
   },
   "outputs": [
    {
     "data": {
      "text/html": [
       "<table class=\"dataframe\">\n",
       "<caption>A matrix: 6 × 26 of type dbl</caption>\n",
       "<thead>\n",
       "\t<tr><th></th><th scope=col>0</th><th scope=col>1</th><th scope=col>2</th><th scope=col>3</th><th scope=col>4</th><th scope=col>5</th><th scope=col>6</th><th scope=col>7</th><th scope=col>8</th><th scope=col>9</th><th scope=col>⋯</th><th scope=col>16</th><th scope=col>17</th><th scope=col>18</th><th scope=col>19</th><th scope=col>20</th><th scope=col>21</th><th scope=col>22</th><th scope=col>23</th><th scope=col>24</th><th scope=col>25</th></tr>\n",
       "</thead>\n",
       "<tbody>\n",
       "\t<tr><th scope=row>CD34</th><td>72.90480</td><td>82.114951</td><td> 2.7055892</td><td>47.41895</td><td>61.15534</td><td>70.68063</td><td>77.03001</td><td>81.95353</td><td>43.754378</td><td> 2.1801492</td><td>⋯</td><td>47.017189</td><td>66.829268</td><td>10.630631</td><td>54.297694</td><td>44.111349</td><td>67.944251</td><td>83.40249</td><td>11.578947</td><td>25.974026</td><td>25.00</td></tr>\n",
       "\t<tr><th scope=row>CD38</th><td>19.46995</td><td>30.161486</td><td> 3.7023852</td><td>16.13838</td><td>41.89965</td><td>31.95731</td><td>45.56487</td><td>52.40244</td><td>56.198926</td><td> 5.4503729</td><td>⋯</td><td>42.163802</td><td>33.008130</td><td> 6.666667</td><td>38.993711</td><td>51.391863</td><td>52.613240</td><td>19.91701</td><td>13.684211</td><td>55.844156</td><td>43.75</td></tr>\n",
       "\t<tr><th scope=row>AVP</th><td>30.87295</td><td> 9.463449</td><td> 0.4093984</td><td>13.00489</td><td>14.73801</td><td>16.39146</td><td>14.12180</td><td>14.00857</td><td> 3.058604</td><td> 0.1147447</td><td>⋯</td><td> 8.796764</td><td> 3.577236</td><td> 1.261261</td><td> 1.886792</td><td> 2.141328</td><td> 8.710801</td><td>39.83402</td><td> 2.105263</td><td> 1.298701</td><td> 0.00</td></tr>\n",
       "\t<tr><th scope=row>CRHBP</th><td>37.18470</td><td>13.908665</td><td> 2.0291919</td><td>20.61221</td><td>30.30920</td><td>24.14418</td><td>15.82083</td><td>20.70832</td><td> 4.412795</td><td> 0.2008032</td><td>⋯</td><td>11.526795</td><td> 9.268293</td><td> 1.981982</td><td> 5.241090</td><td> 4.925054</td><td>17.073171</td><td>65.56017</td><td>20.000000</td><td> 2.597403</td><td>12.50</td></tr>\n",
       "\t<tr><th scope=row>MLLT3</th><td>41.95048</td><td>28.598715</td><td>23.1755073</td><td>25.50263</td><td>42.75134</td><td>29.39992</td><td>32.48014</td><td>39.07061</td><td>18.608452</td><td>14.8881239</td><td>⋯</td><td>22.649141</td><td>23.414634</td><td> 4.504505</td><td> 6.918239</td><td>13.704497</td><td>52.613240</td><td>51.45228</td><td> 7.368421</td><td> 3.896104</td><td>25.00</td></tr>\n",
       "\t<tr><th scope=row>GATA2</th><td>39.66058</td><td>39.572843</td><td> 2.0647917</td><td>25.08604</td><td>77.44862</td><td>37.37414</td><td>42.87290</td><td>51.43244</td><td>37.076815</td><td> 0.7745267</td><td>⋯</td><td>33.367037</td><td>35.934959</td><td> 3.423423</td><td>11.111111</td><td>10.064240</td><td>74.564460</td><td>58.50622</td><td> 8.421053</td><td> 3.896104</td><td>25.00</td></tr>\n",
       "</tbody>\n",
       "</table>\n"
      ],
      "text/latex": [
       "A matrix: 6 × 26 of type dbl\n",
       "\\begin{tabular}{r|lllllllllllllllllllll}\n",
       "  & 0 & 1 & 2 & 3 & 4 & 5 & 6 & 7 & 8 & 9 & ⋯ & 16 & 17 & 18 & 19 & 20 & 21 & 22 & 23 & 24 & 25\\\\\n",
       "\\hline\n",
       "\tCD34 & 72.90480 & 82.114951 &  2.7055892 & 47.41895 & 61.15534 & 70.68063 & 77.03001 & 81.95353 & 43.754378 &  2.1801492 & ⋯ & 47.017189 & 66.829268 & 10.630631 & 54.297694 & 44.111349 & 67.944251 & 83.40249 & 11.578947 & 25.974026 & 25.00\\\\\n",
       "\tCD38 & 19.46995 & 30.161486 &  3.7023852 & 16.13838 & 41.89965 & 31.95731 & 45.56487 & 52.40244 & 56.198926 &  5.4503729 & ⋯ & 42.163802 & 33.008130 &  6.666667 & 38.993711 & 51.391863 & 52.613240 & 19.91701 & 13.684211 & 55.844156 & 43.75\\\\\n",
       "\tAVP & 30.87295 &  9.463449 &  0.4093984 & 13.00489 & 14.73801 & 16.39146 & 14.12180 & 14.00857 &  3.058604 &  0.1147447 & ⋯ &  8.796764 &  3.577236 &  1.261261 &  1.886792 &  2.141328 &  8.710801 & 39.83402 &  2.105263 &  1.298701 &  0.00\\\\\n",
       "\tCRHBP & 37.18470 & 13.908665 &  2.0291919 & 20.61221 & 30.30920 & 24.14418 & 15.82083 & 20.70832 &  4.412795 &  0.2008032 & ⋯ & 11.526795 &  9.268293 &  1.981982 &  5.241090 &  4.925054 & 17.073171 & 65.56017 & 20.000000 &  2.597403 & 12.50\\\\\n",
       "\tMLLT3 & 41.95048 & 28.598715 & 23.1755073 & 25.50263 & 42.75134 & 29.39992 & 32.48014 & 39.07061 & 18.608452 & 14.8881239 & ⋯ & 22.649141 & 23.414634 &  4.504505 &  6.918239 & 13.704497 & 52.613240 & 51.45228 &  7.368421 &  3.896104 & 25.00\\\\\n",
       "\tGATA2 & 39.66058 & 39.572843 &  2.0647917 & 25.08604 & 77.44862 & 37.37414 & 42.87290 & 51.43244 & 37.076815 &  0.7745267 & ⋯ & 33.367037 & 35.934959 &  3.423423 & 11.111111 & 10.064240 & 74.564460 & 58.50622 &  8.421053 &  3.896104 & 25.00\\\\\n",
       "\\end{tabular}\n"
      ],
      "text/markdown": [
       "\n",
       "A matrix: 6 × 26 of type dbl\n",
       "\n",
       "| <!--/--> | 0 | 1 | 2 | 3 | 4 | 5 | 6 | 7 | 8 | 9 | ⋯ | 16 | 17 | 18 | 19 | 20 | 21 | 22 | 23 | 24 | 25 |\n",
       "|---|---|---|---|---|---|---|---|---|---|---|---|---|---|---|---|---|---|---|---|---|---|\n",
       "| CD34 | 72.90480 | 82.114951 |  2.7055892 | 47.41895 | 61.15534 | 70.68063 | 77.03001 | 81.95353 | 43.754378 |  2.1801492 | ⋯ | 47.017189 | 66.829268 | 10.630631 | 54.297694 | 44.111349 | 67.944251 | 83.40249 | 11.578947 | 25.974026 | 25.00 |\n",
       "| CD38 | 19.46995 | 30.161486 |  3.7023852 | 16.13838 | 41.89965 | 31.95731 | 45.56487 | 52.40244 | 56.198926 |  5.4503729 | ⋯ | 42.163802 | 33.008130 |  6.666667 | 38.993711 | 51.391863 | 52.613240 | 19.91701 | 13.684211 | 55.844156 | 43.75 |\n",
       "| AVP | 30.87295 |  9.463449 |  0.4093984 | 13.00489 | 14.73801 | 16.39146 | 14.12180 | 14.00857 |  3.058604 |  0.1147447 | ⋯ |  8.796764 |  3.577236 |  1.261261 |  1.886792 |  2.141328 |  8.710801 | 39.83402 |  2.105263 |  1.298701 |  0.00 |\n",
       "| CRHBP | 37.18470 | 13.908665 |  2.0291919 | 20.61221 | 30.30920 | 24.14418 | 15.82083 | 20.70832 |  4.412795 |  0.2008032 | ⋯ | 11.526795 |  9.268293 |  1.981982 |  5.241090 |  4.925054 | 17.073171 | 65.56017 | 20.000000 |  2.597403 | 12.50 |\n",
       "| MLLT3 | 41.95048 | 28.598715 | 23.1755073 | 25.50263 | 42.75134 | 29.39992 | 32.48014 | 39.07061 | 18.608452 | 14.8881239 | ⋯ | 22.649141 | 23.414634 |  4.504505 |  6.918239 | 13.704497 | 52.613240 | 51.45228 |  7.368421 |  3.896104 | 25.00 |\n",
       "| GATA2 | 39.66058 | 39.572843 |  2.0647917 | 25.08604 | 77.44862 | 37.37414 | 42.87290 | 51.43244 | 37.076815 |  0.7745267 | ⋯ | 33.367037 | 35.934959 |  3.423423 | 11.111111 | 10.064240 | 74.564460 | 58.50622 |  8.421053 |  3.896104 | 25.00 |\n",
       "\n"
      ],
      "text/plain": [
       "      0        1         2          3        4        5        6       \n",
       "CD34  72.90480 82.114951  2.7055892 47.41895 61.15534 70.68063 77.03001\n",
       "CD38  19.46995 30.161486  3.7023852 16.13838 41.89965 31.95731 45.56487\n",
       "AVP   30.87295  9.463449  0.4093984 13.00489 14.73801 16.39146 14.12180\n",
       "CRHBP 37.18470 13.908665  2.0291919 20.61221 30.30920 24.14418 15.82083\n",
       "MLLT3 41.95048 28.598715 23.1755073 25.50263 42.75134 29.39992 32.48014\n",
       "GATA2 39.66058 39.572843  2.0647917 25.08604 77.44862 37.37414 42.87290\n",
       "      7        8         9          ⋯ 16        17        18        19       \n",
       "CD34  81.95353 43.754378  2.1801492 ⋯ 47.017189 66.829268 10.630631 54.297694\n",
       "CD38  52.40244 56.198926  5.4503729 ⋯ 42.163802 33.008130  6.666667 38.993711\n",
       "AVP   14.00857  3.058604  0.1147447 ⋯  8.796764  3.577236  1.261261  1.886792\n",
       "CRHBP 20.70832  4.412795  0.2008032 ⋯ 11.526795  9.268293  1.981982  5.241090\n",
       "MLLT3 39.07061 18.608452 14.8881239 ⋯ 22.649141 23.414634  4.504505  6.918239\n",
       "GATA2 51.43244 37.076815  0.7745267 ⋯ 33.367037 35.934959  3.423423 11.111111\n",
       "      20        21        22       23        24        25   \n",
       "CD34  44.111349 67.944251 83.40249 11.578947 25.974026 25.00\n",
       "CD38  51.391863 52.613240 19.91701 13.684211 55.844156 43.75\n",
       "AVP    2.141328  8.710801 39.83402  2.105263  1.298701  0.00\n",
       "CRHBP  4.925054 17.073171 65.56017 20.000000  2.597403 12.50\n",
       "MLLT3 13.704497 52.613240 51.45228  7.368421  3.896104 25.00\n",
       "GATA2 10.064240 74.564460 58.50622  8.421053  3.896104 25.00"
      ]
     },
     "metadata": {},
     "output_type": "display_data"
    },
    {
     "data": {
      "text/html": [
       "<table class=\"dataframe\">\n",
       "<caption>A matrix: 6 × 26 of type dbl</caption>\n",
       "<thead>\n",
       "\t<tr><th></th><th scope=col>0</th><th scope=col>1</th><th scope=col>2</th><th scope=col>3</th><th scope=col>4</th><th scope=col>5</th><th scope=col>6</th><th scope=col>7</th><th scope=col>8</th><th scope=col>9</th><th scope=col>⋯</th><th scope=col>16</th><th scope=col>17</th><th scope=col>18</th><th scope=col>19</th><th scope=col>20</th><th scope=col>21</th><th scope=col>22</th><th scope=col>23</th><th scope=col>24</th><th scope=col>25</th></tr>\n",
       "</thead>\n",
       "<tbody>\n",
       "\t<tr><th scope=row>CD36</th><td> 7.42764152</td><td>31.8284424</td><td>0.46279815</td><td> 2.87991306</td><td> 6.83206814</td><td> 8.33668949</td><td>12.42277140</td><td>11.34671780</td><td>12.07097829</td><td> 0.4589788</td><td>⋯</td><td> 9.7067745</td><td>32.682927</td><td>1.0810811</td><td>9.8532495</td><td>39.400428</td><td>21.9512195</td><td> 3.3195021</td><td>21.052632</td><td>1.298701</td><td>18.75</td></tr>\n",
       "\t<tr><th scope=row>VCAM1</th><td> 0.04649541</td><td> 0.0694565</td><td>0.03559986</td><td> 0.05433798</td><td> 0.01851509</td><td> 0.02013693</td><td> 0.04413063</td><td> 0.04511617</td><td> 0.02334812</td><td> 1.1187608</td><td>⋯</td><td> 0.0000000</td><td> 0.000000</td><td>0.1801802</td><td>0.0000000</td><td> 0.000000</td><td> 0.3484321</td><td> 0.0000000</td><td>63.157895</td><td>0.000000</td><td> 0.00</td></tr>\n",
       "\t<tr><th scope=row>FCGR3A</th><td> 0.48820179</td><td> 0.3299184</td><td>1.69099324</td><td> 1.01430900</td><td> 0.62951305</td><td> 0.42287555</td><td> 0.68402471</td><td> 0.45116174</td><td> 0.39691805</td><td>41.1933448</td><td>⋯</td><td> 0.7077856</td><td> 2.601626</td><td>2.5225225</td><td>0.2096436</td><td> 0.856531</td><td> 0.6968641</td><td> 0.4149378</td><td>29.473684</td><td>0.000000</td><td> 0.00</td></tr>\n",
       "\t<tr><th scope=row>FCER1A</th><td> 3.06869697</td><td> 1.6495919</td><td>0.33819865</td><td> 2.66256113</td><td>44.06591372</td><td> 2.75875957</td><td> 3.46425419</td><td> 3.99278141</td><td> 2.80177446</td><td> 0.1434309</td><td>⋯</td><td>11.6279070</td><td> 3.089431</td><td>0.9009009</td><td>0.2096436</td><td>31.263383</td><td>69.6864111</td><td> 9.1286307</td><td> 1.052632</td><td>2.597403</td><td> 0.00</td></tr>\n",
       "\t<tr><th scope=row>KIT</th><td>23.34069511</td><td>27.1054002</td><td>0.92559630</td><td>14.81615649</td><td>29.10572116</td><td>28.79581152</td><td>39.78375993</td><td>46.62756598</td><td>35.81601681</td><td> 1.0040161</td><td>⋯</td><td>28.6147624</td><td>24.227642</td><td>3.0630631</td><td>4.8218029</td><td>27.408994</td><td>39.0243902</td><td>41.9087137</td><td> 4.210526</td><td>2.597403</td><td>25.00</td></tr>\n",
       "\t<tr><th scope=row>TPSB2</th><td>11.93769615</td><td>17.1383921</td><td>0.67639729</td><td> 8.78464046</td><td>48.04665803</td><td>14.01530407</td><td>21.13857017</td><td>17.00879765</td><td>23.48820920</td><td> 0.4016064</td><td>⋯</td><td>12.4368049</td><td>16.097561</td><td>2.5225225</td><td>2.0964361</td><td> 3.854390</td><td>40.7665505</td><td>22.8215768</td><td> 3.157895</td><td>1.298701</td><td> 6.25</td></tr>\n",
       "</tbody>\n",
       "</table>\n"
      ],
      "text/latex": [
       "A matrix: 6 × 26 of type dbl\n",
       "\\begin{tabular}{r|lllllllllllllllllllll}\n",
       "  & 0 & 1 & 2 & 3 & 4 & 5 & 6 & 7 & 8 & 9 & ⋯ & 16 & 17 & 18 & 19 & 20 & 21 & 22 & 23 & 24 & 25\\\\\n",
       "\\hline\n",
       "\tCD36 &  7.42764152 & 31.8284424 & 0.46279815 &  2.87991306 &  6.83206814 &  8.33668949 & 12.42277140 & 11.34671780 & 12.07097829 &  0.4589788 & ⋯ &  9.7067745 & 32.682927 & 1.0810811 & 9.8532495 & 39.400428 & 21.9512195 &  3.3195021 & 21.052632 & 1.298701 & 18.75\\\\\n",
       "\tVCAM1 &  0.04649541 &  0.0694565 & 0.03559986 &  0.05433798 &  0.01851509 &  0.02013693 &  0.04413063 &  0.04511617 &  0.02334812 &  1.1187608 & ⋯ &  0.0000000 &  0.000000 & 0.1801802 & 0.0000000 &  0.000000 &  0.3484321 &  0.0000000 & 63.157895 & 0.000000 &  0.00\\\\\n",
       "\tFCGR3A &  0.48820179 &  0.3299184 & 1.69099324 &  1.01430900 &  0.62951305 &  0.42287555 &  0.68402471 &  0.45116174 &  0.39691805 & 41.1933448 & ⋯ &  0.7077856 &  2.601626 & 2.5225225 & 0.2096436 &  0.856531 &  0.6968641 &  0.4149378 & 29.473684 & 0.000000 &  0.00\\\\\n",
       "\tFCER1A &  3.06869697 &  1.6495919 & 0.33819865 &  2.66256113 & 44.06591372 &  2.75875957 &  3.46425419 &  3.99278141 &  2.80177446 &  0.1434309 & ⋯ & 11.6279070 &  3.089431 & 0.9009009 & 0.2096436 & 31.263383 & 69.6864111 &  9.1286307 &  1.052632 & 2.597403 &  0.00\\\\\n",
       "\tKIT & 23.34069511 & 27.1054002 & 0.92559630 & 14.81615649 & 29.10572116 & 28.79581152 & 39.78375993 & 46.62756598 & 35.81601681 &  1.0040161 & ⋯ & 28.6147624 & 24.227642 & 3.0630631 & 4.8218029 & 27.408994 & 39.0243902 & 41.9087137 &  4.210526 & 2.597403 & 25.00\\\\\n",
       "\tTPSB2 & 11.93769615 & 17.1383921 & 0.67639729 &  8.78464046 & 48.04665803 & 14.01530407 & 21.13857017 & 17.00879765 & 23.48820920 &  0.4016064 & ⋯ & 12.4368049 & 16.097561 & 2.5225225 & 2.0964361 &  3.854390 & 40.7665505 & 22.8215768 &  3.157895 & 1.298701 &  6.25\\\\\n",
       "\\end{tabular}\n"
      ],
      "text/markdown": [
       "\n",
       "A matrix: 6 × 26 of type dbl\n",
       "\n",
       "| <!--/--> | 0 | 1 | 2 | 3 | 4 | 5 | 6 | 7 | 8 | 9 | ⋯ | 16 | 17 | 18 | 19 | 20 | 21 | 22 | 23 | 24 | 25 |\n",
       "|---|---|---|---|---|---|---|---|---|---|---|---|---|---|---|---|---|---|---|---|---|---|\n",
       "| CD36 |  7.42764152 | 31.8284424 | 0.46279815 |  2.87991306 |  6.83206814 |  8.33668949 | 12.42277140 | 11.34671780 | 12.07097829 |  0.4589788 | ⋯ |  9.7067745 | 32.682927 | 1.0810811 | 9.8532495 | 39.400428 | 21.9512195 |  3.3195021 | 21.052632 | 1.298701 | 18.75 |\n",
       "| VCAM1 |  0.04649541 |  0.0694565 | 0.03559986 |  0.05433798 |  0.01851509 |  0.02013693 |  0.04413063 |  0.04511617 |  0.02334812 |  1.1187608 | ⋯ |  0.0000000 |  0.000000 | 0.1801802 | 0.0000000 |  0.000000 |  0.3484321 |  0.0000000 | 63.157895 | 0.000000 |  0.00 |\n",
       "| FCGR3A |  0.48820179 |  0.3299184 | 1.69099324 |  1.01430900 |  0.62951305 |  0.42287555 |  0.68402471 |  0.45116174 |  0.39691805 | 41.1933448 | ⋯ |  0.7077856 |  2.601626 | 2.5225225 | 0.2096436 |  0.856531 |  0.6968641 |  0.4149378 | 29.473684 | 0.000000 |  0.00 |\n",
       "| FCER1A |  3.06869697 |  1.6495919 | 0.33819865 |  2.66256113 | 44.06591372 |  2.75875957 |  3.46425419 |  3.99278141 |  2.80177446 |  0.1434309 | ⋯ | 11.6279070 |  3.089431 | 0.9009009 | 0.2096436 | 31.263383 | 69.6864111 |  9.1286307 |  1.052632 | 2.597403 |  0.00 |\n",
       "| KIT | 23.34069511 | 27.1054002 | 0.92559630 | 14.81615649 | 29.10572116 | 28.79581152 | 39.78375993 | 46.62756598 | 35.81601681 |  1.0040161 | ⋯ | 28.6147624 | 24.227642 | 3.0630631 | 4.8218029 | 27.408994 | 39.0243902 | 41.9087137 |  4.210526 | 2.597403 | 25.00 |\n",
       "| TPSB2 | 11.93769615 | 17.1383921 | 0.67639729 |  8.78464046 | 48.04665803 | 14.01530407 | 21.13857017 | 17.00879765 | 23.48820920 |  0.4016064 | ⋯ | 12.4368049 | 16.097561 | 2.5225225 | 2.0964361 |  3.854390 | 40.7665505 | 22.8215768 |  3.157895 | 1.298701 |  6.25 |\n",
       "\n"
      ],
      "text/plain": [
       "       0           1          2          3           4           5          \n",
       "CD36    7.42764152 31.8284424 0.46279815  2.87991306  6.83206814  8.33668949\n",
       "VCAM1   0.04649541  0.0694565 0.03559986  0.05433798  0.01851509  0.02013693\n",
       "FCGR3A  0.48820179  0.3299184 1.69099324  1.01430900  0.62951305  0.42287555\n",
       "FCER1A  3.06869697  1.6495919 0.33819865  2.66256113 44.06591372  2.75875957\n",
       "KIT    23.34069511 27.1054002 0.92559630 14.81615649 29.10572116 28.79581152\n",
       "TPSB2  11.93769615 17.1383921 0.67639729  8.78464046 48.04665803 14.01530407\n",
       "       6           7           8           9          ⋯ 16         17       \n",
       "CD36   12.42277140 11.34671780 12.07097829  0.4589788 ⋯  9.7067745 32.682927\n",
       "VCAM1   0.04413063  0.04511617  0.02334812  1.1187608 ⋯  0.0000000  0.000000\n",
       "FCGR3A  0.68402471  0.45116174  0.39691805 41.1933448 ⋯  0.7077856  2.601626\n",
       "FCER1A  3.46425419  3.99278141  2.80177446  0.1434309 ⋯ 11.6279070  3.089431\n",
       "KIT    39.78375993 46.62756598 35.81601681  1.0040161 ⋯ 28.6147624 24.227642\n",
       "TPSB2  21.13857017 17.00879765 23.48820920  0.4016064 ⋯ 12.4368049 16.097561\n",
       "       18        19        20        21         22         23        24      \n",
       "CD36   1.0810811 9.8532495 39.400428 21.9512195  3.3195021 21.052632 1.298701\n",
       "VCAM1  0.1801802 0.0000000  0.000000  0.3484321  0.0000000 63.157895 0.000000\n",
       "FCGR3A 2.5225225 0.2096436  0.856531  0.6968641  0.4149378 29.473684 0.000000\n",
       "FCER1A 0.9009009 0.2096436 31.263383 69.6864111  9.1286307  1.052632 2.597403\n",
       "KIT    3.0630631 4.8218029 27.408994 39.0243902 41.9087137  4.210526 2.597403\n",
       "TPSB2  2.5225225 2.0964361  3.854390 40.7665505 22.8215768  3.157895 1.298701\n",
       "       25   \n",
       "CD36   18.75\n",
       "VCAM1   0.00\n",
       "FCGR3A  0.00\n",
       "FCER1A  0.00\n",
       "KIT    25.00\n",
       "TPSB2   6.25"
      ]
     },
     "metadata": {},
     "output_type": "display_data"
    },
    {
     "data": {
      "text/html": [
       "<style>\n",
       ".list-inline {list-style: none; margin:0; padding: 0}\n",
       ".list-inline>li {display: inline-block}\n",
       ".list-inline>li:not(:last-child)::after {content: \"\\00b7\"; padding: 0 .5ex}\n",
       "</style>\n",
       "<ol class=list-inline><li>29</li><li>26</li></ol>\n"
      ],
      "text/latex": [
       "\\begin{enumerate*}\n",
       "\\item 29\n",
       "\\item 26\n",
       "\\end{enumerate*}\n"
      ],
      "text/markdown": [
       "1. 29\n",
       "2. 26\n",
       "\n",
       "\n"
      ],
      "text/plain": [
       "[1] 29 26"
      ]
     },
     "metadata": {},
     "output_type": "display_data"
    }
   ],
   "source": [
    "## the matrix for the percentage of cells express a gene\n",
    "\n",
    "percent_mat<-df %>% \n",
    "  select(-avg.exp, -avg.exp.scaled) %>%  \n",
    "  pivot_wider(names_from = id, values_from = pct.exp) %>% \n",
    "  as.data.frame() \n",
    "\n",
    "row.names(percent_mat) <- percent_mat$features.plot  \n",
    "percent_mat <- percent_mat[,-1] %>% as.matrix()\n",
    "\n",
    "head(percent_mat)\n",
    "tail(percent_mat)\n",
    "dim(percent_mat)"
   ]
  },
  {
   "cell_type": "code",
   "execution_count": 104,
   "metadata": {
    "vscode": {
     "languageId": "r"
    }
   },
   "outputs": [
    {
     "data": {
      "text/html": [
       "<style>\n",
       ".dl-inline {width: auto; margin:0; padding: 0}\n",
       ".dl-inline>dt, .dl-inline>dd {float: none; width: auto; display: inline-block}\n",
       ".dl-inline>dt::after {content: \":\\0020\"; padding-right: .5ex}\n",
       ".dl-inline>dt:not(:first-of-type) {padding-left: .5ex}\n",
       "</style><dl class=dl-inline><dt>10%</dt><dd>-0.727904850209937</dd><dt>50%</dt><dd>-0.314594416460245</dd><dt>90%</dt><dd>1.07873059619692</dd><dt>99%</dt><dd>2.5</dd></dl>\n"
      ],
      "text/latex": [
       "\\begin{description*}\n",
       "\\item[10\\textbackslash{}\\%] -0.727904850209937\n",
       "\\item[50\\textbackslash{}\\%] -0.314594416460245\n",
       "\\item[90\\textbackslash{}\\%] 1.07873059619692\n",
       "\\item[99\\textbackslash{}\\%] 2.5\n",
       "\\end{description*}\n"
      ],
      "text/markdown": [
       "10%\n",
       ":   -0.72790485020993750%\n",
       ":   -0.31459441646024590%\n",
       ":   1.0787305961969299%\n",
       ":   2.5\n",
       "\n"
      ],
      "text/plain": [
       "       10%        50%        90%        99% \n",
       "-0.7279049 -0.3145944  1.0787306  2.5000000 "
      ]
     },
     "metadata": {},
     "output_type": "display_data"
    }
   ],
   "source": [
    "## get an idea of the ranges of the matrix\n",
    "quantile(exp_mat, c(0.1, 0.5, 0.9, 0.99))"
   ]
  },
  {
   "cell_type": "code",
   "execution_count": null,
   "metadata": {
    "vscode": {
     "languageId": "r"
    }
   },
   "outputs": [],
   "source": [
    "# transpose the matrix"
   ]
  },
  {
   "cell_type": "code",
   "execution_count": 105,
   "metadata": {
    "vscode": {
     "languageId": "r"
    }
   },
   "outputs": [
    {
     "name": "stdout",
     "output_type": "stream",
     "text": [
      "          CD34        CD38         AVP       CRHBP       MLLT3       GATA2\n",
      "0   1.02114886 -0.72438849  2.50000000  2.10910610  1.06232138 -0.02165612\n",
      "1   2.07949537 -0.33188562 -0.02251023 -0.36054982 -0.10437477 -0.07101735\n",
      "2  -1.37068354 -1.16540338 -0.65286461 -0.56777644 -0.01815871 -0.84760444\n",
      "3   0.42869695 -0.51173044  0.62318438  0.98032645  0.49024678 -0.12024987\n",
      "4   0.20759812  0.42817677  0.08074057  0.80355190  1.08259595  2.50000000\n",
      "5   0.61780355 -0.32136343  0.88779533  0.68587432 -0.07605959 -0.11175692\n",
      "6   0.52274710 -0.12460464  0.23543641 -0.19546890 -0.27420689 -0.24200180\n",
      "7   1.15252622  0.60851020  0.31545720  0.08627811  0.08941574  0.15471964\n",
      "8  -0.51529817  0.99671735 -0.61551907 -0.77379868 -0.71583372 -0.12375371\n",
      "9  -1.45404771 -1.10418294 -0.68752437 -0.85452143 -0.48244218 -0.93629586\n",
      "10  0.09980386  0.14604908 -0.06369287 -0.57509284 -0.42487359 -0.29685656\n",
      "11 -1.18547515 -0.81835264 -0.61837136 -0.77279222 -1.01405637 -0.74815974\n",
      "12  0.27856381 -0.92055217 -0.06945233  0.49226925  1.91913786  2.42907000\n",
      "13  0.06943082  0.42977462 -0.17277809 -0.61029775 -0.48033879 -0.38558462\n",
      "14 -0.96814918 -0.57339778 -0.53488804 -0.78001604  0.26914196  0.53724432\n",
      "15 -1.42468355  0.63829524 -0.68158013 -0.84681297 -0.53554863 -0.92453757\n",
      "16 -0.39682838 -0.03326103 -0.07027463 -0.49899289 -0.58123288 -0.23255453\n",
      "17  1.17440787 -0.06948132 -0.48240441 -0.45744511 -0.24579723  0.02281449\n",
      "18 -0.83130870 -0.96153339 -0.62292929 -0.63557494 -0.94885359 -0.84856770\n",
      "19  1.29060495  0.98145842 -0.59631414 -0.49668029 -0.63601269 -0.61424900\n",
      "20 -0.10089980  0.75386988 -0.65746897 -0.78913415 -0.86563819 -0.78889079\n",
      "21 -0.39574513 -0.18143431 -0.48878760 -0.52565958  0.06819985  1.34292888\n",
      "22  1.59384696 -0.81607691  2.50000000  2.50000000  1.30909991  0.50978256\n",
      "23 -1.18379043 -0.72385935  0.27817816  1.06457791 -0.93870691 -0.73801698\n",
      "24 -0.82693044  0.77777748 -0.68773991 -0.81007255 -1.09233526 -0.88318137\n",
      "25  0.11716573  2.50000000 -0.69951894  1.61074969  2.50000000  0.84745258\n",
      "           TK1      SPINK2        ENO1      CNRIP1         HBD      GATA1\n",
      "0  -0.46077166  0.97614184  0.92846763 -0.40397712 -0.23281632 -0.3759717\n",
      "1  -0.45381550  2.23002534  1.26589380 -0.40929083 -0.23479033 -0.3812630\n",
      "2  -0.47332887 -1.14782434 -1.43834665 -0.41483848 -0.23504679 -0.3603694\n",
      "3  -0.45050682  0.52308105  0.04641372 -0.38841225 -0.22913532 -0.3615206\n",
      "4  -0.44620669 -0.56465913 -0.01215728  2.11310577 -0.15912367  0.9607862\n",
      "5  -0.45295149  0.95007991  0.90842286 -0.38592212 -0.23284457 -0.3742598\n",
      "6  -0.41553838  0.77783547  1.48645762 -0.37774816 -0.23232576 -0.3725575\n",
      "7  -0.46117248  0.99564420  0.93374172 -0.39508127 -0.23143997 -0.3676610\n",
      "8  -0.37591734 -0.08375339  0.74727779 -0.40726990 -0.22908356 -0.3729062\n",
      "9  -0.46760471 -1.27208989 -1.39280690 -0.41483077 -0.23635796 -0.3875404\n",
      "10  0.44663869  0.49777975  1.19596686 -0.37624751 -0.22867991 -0.3546184\n",
      "11 -0.44923204 -0.97076311 -0.58346937 -0.40111170 -0.21997383 -0.3432277\n",
      "12 -0.23243786  0.20339584  0.13300474  0.35927775 -0.05292922  0.7368172\n",
      "13  2.50000000  0.58144462  0.92609407 -0.37641722 -0.23039160 -0.3261640\n",
      "14  0.02835397 -1.16343043 -1.16622976  2.50000000  2.50000000  2.5000000\n",
      "15 -0.38801261 -1.25274682 -1.32160404 -0.42775078 -0.23580685 -0.3665725\n",
      "16  0.66763495 -0.12745814  0.48012364 -0.27165877 -0.19693947 -0.2121802\n",
      "17 -0.43902864  1.14679440  0.67345703 -0.41378645 -0.22784378 -0.3706617\n",
      "18 -0.43975298 -0.95464773 -1.28436512 -0.41911237 -0.22302701 -0.3867108\n",
      "19 -0.45776516  0.86672225 -0.09361405 -0.38250788 -0.23382031 -0.3500828\n",
      "20 -0.34970490  0.75927359 -0.70889653 -0.40552419 -0.22843290 -0.3713872\n",
      "21  1.68858993 -1.13080887  0.22169103  2.50000000  0.40856114  2.3495711\n",
      "22 -0.46335082  0.95213573  1.10178157 -0.41702858 -0.23573498 -0.3675504\n",
      "23 -0.48891563 -1.02166682 -1.05829867  0.01458195 -0.22500585 -0.3474628\n",
      "24  2.30652634 -1.18569305 -0.25275306 -0.40585916 -0.23956176 -0.3926085\n",
      "25 -0.48891563 -0.58481227 -1.73625264 -0.42775078 -0.23956176 -0.3926085\n",
      "       VPREB3      CD79B        CD63        HDC         IRF8      LGALS1\n",
      "0  -0.3307513 -0.2780368 -0.17063698 -0.3521728 -0.457521340 -0.23075482\n",
      "1  -0.3298249 -0.1420597  0.19213923 -0.3909906 -0.263883990  1.16311474\n",
      "2  -0.3321517 -0.3948399 -0.91811400 -0.4050531 -0.482466628 -0.97199185\n",
      "3  -0.3225899 -0.3090609 -0.43815710 -0.3247770 -0.427637056 -0.63512143\n",
      "4  -0.3304861 -0.3652040  0.47049885  0.6429193 -0.473285078 -0.23502707\n",
      "5  -0.3301864 -0.2963885 -0.29651262 -0.3792716 -0.400771687 -0.21538324\n",
      "6  -0.3298721 -0.2532062 -0.16823843 -0.3861312 -0.350604197  0.06251534\n",
      "7  -0.3315353 -0.2905298 -0.27317221 -0.3639883 -0.311028304  0.09232280\n",
      "8  -0.3321674 -0.3610107  0.21059167 -0.3803107  0.048118742  1.82014958\n",
      "9  -0.3318143 -0.3849675 -0.49181681 -0.4215572 -0.472485721 -0.74210492\n",
      "10 -0.3242456 -0.3408741 -0.14378275 -0.3367081 -0.329844620 -0.08871863\n",
      "11 -0.3297761 -0.3907929  0.53768291 -0.2949900  0.065151615  2.50000000\n",
      "12 -0.3315336 -0.4002244  1.53900950  2.5000000 -0.489061682 -0.58651248\n",
      "13 -0.3291819 -0.3850121 -0.29621059 -0.3383020  0.014525863 -0.15361922\n",
      "14 -0.3341421 -0.4601464 -0.50250922 -0.1082261 -0.466818348 -1.00193809\n",
      "15 -0.3280206 -0.2761347  0.38345050 -0.3604545 -0.268942740 -0.37541818\n",
      "16 -0.3187077 -0.3819143 -0.29542529 -0.2828581  0.097859015  1.31425087\n",
      "17 -0.3267914 -0.2436863  0.28331677 -0.3096575 -0.001971324  1.34962072\n",
      "18  0.7704923  1.8305568 -0.78602348 -0.3400697  0.974805270 -0.78159343\n",
      "19  2.5000000  2.5000000 -0.55963196 -0.3895076 -0.314510437 -0.58545340\n",
      "20 -0.2602215 -0.3337497 -0.24255531 -0.3971586  2.500000000  1.58865821\n",
      "21 -0.3349266 -0.4168197  0.06412907  0.4031014 -0.502898268 -0.92049468\n",
      "22 -0.3349266 -0.3148390 -0.28004241 -0.2760873 -0.449800445 -0.58764954\n",
      "23 -0.3349266 -0.3000920  2.50000000 -0.3806848  0.259074938  0.28237646\n",
      "24  2.5000000  2.2730775 -0.94201425 -0.4071695 -0.383225326 -1.11404521\n",
      "25 -0.2146817 -0.4859378 -0.99023102  2.5000000  0.877868466 -0.95599610\n",
      "          AZU1       ELANE         MPO        CDK6        PCNA       CD36\n",
      "0  -0.36644335 -0.54208746 -0.54358129  0.31971384 -0.51283187 -0.4501988\n",
      "1  -0.34648472 -0.53951819 -0.45671225  0.03549861 -0.49181987  1.0654057\n",
      "2  -0.41819450 -0.57867518 -0.71166148 -1.47868810 -0.48284343 -0.6901016\n",
      "3  -0.32732125 -0.46066725 -0.49393086  0.31987591 -0.46068028 -0.5818368\n",
      "4  -0.35966947 -0.53291625 -0.60180962  1.06035023 -0.44171969 -0.4794209\n",
      "5  -0.10904301 -0.08287854 -0.05300162  0.03636383 -0.45992080 -0.4579871\n",
      "6  -0.11620345  0.76287081  0.62486685  0.05134335 -0.32513235 -0.3258252\n",
      "7  -0.24061313 -0.50322418 -0.15654504  1.05409315 -0.44417187 -0.3756365\n",
      "8   1.57297059  2.50000000  2.50000000 -0.26952587 -0.28503640 -0.4340835\n",
      "9  -0.41306819 -0.56083616 -0.70224627 -1.56439074 -0.38254608 -0.6908083\n",
      "10  0.08746676  1.43905370  0.92169766  0.38196733  0.74401514 -0.4890940\n",
      "11 -0.17239256 -0.33936731 -0.56104712 -1.45682055 -0.53281554  0.9499002\n",
      "12 -0.34391446 -0.56457631 -0.41068685  0.61706307 -0.24450288 -0.3037620\n",
      "13  0.15320000  1.82027090  1.31321922  0.24212486  2.25376103 -0.5960013\n",
      "14 -0.36320049 -0.31067560 -0.51617595 -0.13032854  0.01432718  1.3708238\n",
      "15 -0.42341916 -0.61759855 -0.72798615 -1.49965881 -0.34208265 -0.6778945\n",
      "16  0.76514810  2.50000000  2.50000000 -0.09857974  0.25154655 -0.5181421\n",
      "17 -0.32843248 -0.49805885 -0.33286603 -0.29946380 -0.50457703  1.0302565\n",
      "18 -0.37839471 -0.28859328 -0.51716577 -1.34519775 -0.48917377 -0.6723539\n",
      "19 -0.41474065 -0.58416788 -0.67917856  0.74984477 -0.42300956 -0.1222275\n",
      "20 -0.35266556 -0.16989671 -0.33189923 -0.42334456 -0.26325455  0.5343637\n",
      "21 -0.38840890 -0.59008177 -0.63980647  0.54013488  1.41121061 -0.3496283\n",
      "22 -0.34744280 -0.60464731 -0.49668545  0.35835403 -0.44833118 -0.6455171\n",
      "23 -0.36656041  0.25338263 -0.10353201 -1.23432712 -0.16978257  0.8640701\n",
      "24 -0.40791713 -0.61292363 -0.72771516  1.74697866  2.50000000 -0.6635979\n",
      "25  2.50000000 -0.57331190  1.68142188  2.28661907 -0.65364651  2.5000000\n",
      "        VCAM1     FCGR3A      FCER1A         KIT       TPSB2\n",
      "0  -0.1979655 -0.3163924 -0.39417897  0.07241393 -0.16921181\n",
      "1  -0.1978699 -0.3176060 -0.43683520  0.07205016 -0.06420466\n",
      "2  -0.1977042 -0.3064120 -0.42821431 -1.26248251 -0.37917002\n",
      "3  -0.1956592 -0.3084617 -0.39394459  0.12780965 -0.24423380\n",
      "4  -0.1982246 -0.3162089  2.50000000  1.31860552  2.50000000\n",
      "5  -0.1983141 -0.3176909 -0.42240846  0.33785807 -0.25106263\n",
      "6  -0.1982420 -0.3171861 -0.42456867  0.35520473 -0.18242443\n",
      "7  -0.1980770 -0.3182071 -0.40623161  1.28675116 -0.21893869\n",
      "8  -0.1982553 -0.3180075 -0.42348477  0.51557735 -0.07410282\n",
      "9  -0.1624041  0.6968378 -0.45143476 -1.31609430 -0.39184037\n",
      "10 -0.1981609 -0.3146784 -0.39163250  0.62055052 -0.21501557\n",
      "11 -0.1936385  0.2412903 -0.29990513 -0.98805462 -0.33588721\n",
      "12 -0.1969446 -0.3122312  1.05582991 -0.39637709  0.22778683\n",
      "13 -0.1984271 -0.3154793 -0.34891989  1.06971145 -0.24653287\n",
      "14 -0.1972435 -0.3151841  0.00974504 -0.28760140 -0.10982155\n",
      "15 -0.1984271  2.5000000 -0.43578624 -1.31237190 -0.39254199\n",
      "16 -0.1984271 -0.3088783 -0.04756574 -0.09367454 -0.26941761\n",
      "17 -0.1984271 -0.2387819 -0.16520404  0.03013863  0.03456311\n",
      "18 -0.1922407 -0.2803868 -0.42672264 -1.06173390 -0.34684637\n",
      "19 -0.1984271 -0.3171657 -0.44800357 -1.02091511 -0.26634455\n",
      "20 -0.1984271 -0.3041018  0.38829570  0.03359987 -0.36227975\n",
      "21 -0.1959935 -0.3175904  2.50000000  0.24887284  0.49920415\n",
      "22 -0.1984271 -0.3185340 -0.25238604  1.36281305 -0.13561752\n",
      "23  2.5000000  1.3535638 -0.36586609 -0.97519633 -0.28084682\n",
      "24 -0.1984271 -0.3202750 -0.43318209 -1.29633437 -0.37437184\n",
      "25 -0.1984271 -0.3202750 -0.45381173  2.50000000 -0.25448809\n"
     ]
    },
    {
     "data": {
      "text/html": [
       "<style>\n",
       ".list-inline {list-style: none; margin:0; padding: 0}\n",
       ".list-inline>li {display: inline-block}\n",
       ".list-inline>li:not(:last-child)::after {content: \"\\00b7\"; padding: 0 .5ex}\n",
       "</style>\n",
       "<ol class=list-inline><li>29</li><li>26</li></ol>\n"
      ],
      "text/latex": [
       "\\begin{enumerate*}\n",
       "\\item 29\n",
       "\\item 26\n",
       "\\end{enumerate*}\n"
      ],
      "text/markdown": [
       "1. 29\n",
       "2. 26\n",
       "\n",
       "\n"
      ],
      "text/plain": [
       "[1] 29 26"
      ]
     },
     "metadata": {},
     "output_type": "display_data"
    }
   ],
   "source": [
    "exp_mat_t = t(exp_mat)\n",
    "print(exp_mat_t)\n",
    "dim(percent_mat)"
   ]
  },
  {
   "cell_type": "code",
   "execution_count": 106,
   "metadata": {
    "vscode": {
     "languageId": "r"
    }
   },
   "outputs": [
    {
     "name": "stdout",
     "output_type": "stream",
     "text": [
      "        CD34      CD38        AVP      CRHBP     MLLT3      GATA2        TK1\n",
      "0  72.904801 19.469952 30.8729513 37.1847030 41.950482 39.6605835  1.6157154\n",
      "1  82.114951 30.161486  9.4634485 13.9086647 28.598715 39.5728425  1.8753256\n",
      "2   2.705589  3.702385  0.4093984  2.0291919 23.175507  2.0647917  0.3737985\n",
      "3  47.418946 16.138381 13.0048904 20.6122079 25.502626 25.0860351  1.0143090\n",
      "4  61.155342 41.899648 14.7380115 30.3092020 42.751342 77.4486206  1.6478430\n",
      "5  70.680628 31.957310 16.3914619 24.1441804 29.399919 37.3741442  1.9734193\n",
      "6  77.030009 45.564872 14.1218005 15.8208297 32.480141 42.8729038  6.1562224\n",
      "7  81.953530 52.402436 14.0085721 20.7083239 39.070607 51.4324385  2.0979021\n",
      "8  43.754378 56.198926  3.0586038  4.4127948 18.608452 37.0768153  5.3934158\n",
      "9   2.180149  5.450373  0.1147447  0.2008032 14.888124  0.7745267  0.5163511\n",
      "10 70.424242 50.545455 12.4545455 10.4545455 31.969697 37.8484848 38.3939394\n",
      "11 10.202578 10.570902  2.0626151  2.5046041  5.156538  7.0718232  1.3627993\n",
      "12 64.202810 17.470984 10.2626756 20.5253513 50.030544 77.7031155 10.3237630\n",
      "13 70.076078 60.862215 11.2426036 11.3271344 33.643280 36.7709214 93.4065934\n",
      "14 35.683577 34.737747  5.2450559  3.9552880 46.861565 50.0429923 18.7446260\n",
      "15  3.291384 36.011617  0.4840271  0.3872217 12.197483  1.2584705  2.1297193\n",
      "16 47.017189 42.163802  8.7967644 11.5267947 22.649141 33.3670374 46.2082912\n",
      "17 66.829268 33.008130  3.5772358  9.2682927 23.414634 35.9349593  1.9512195\n",
      "18 10.630631  6.666667  1.2612613  1.9819820  4.504505  3.4234234  1.4414414\n",
      "19 54.297694 38.993711  1.8867925  5.2410901  6.918239 11.1111111  1.0482180\n",
      "20 44.111349 51.391863  2.1413276  4.9250535 13.704497 10.0642398  6.2098501\n",
      "21 67.944251 52.613240  8.7108014 17.0731707 52.613240 74.5644599 58.1881533\n",
      "22 83.402490 19.917012 39.8340249 65.5601660 51.452282 58.5062241  1.6597510\n",
      "23 11.578947 13.684211  2.1052632 20.0000000  7.368421  8.4210526  0.0000000\n",
      "24 25.974026 55.844156  1.2987013  2.5974026  3.896104  3.8961039 59.7402597\n",
      "25 25.000000 43.750000  0.0000000 12.5000000 25.000000 25.0000000  0.0000000\n",
      "      SPINK2     ENO1     CNRIP1       HBD       GATA1     VPREB3     CD79B\n",
      "0  92.235267 97.51250  0.8950366  5.811926  0.39521097  0.6509357 31.826107\n",
      "1  93.818371 99.11443  0.7640215  5.313422  0.27782601  0.5903803 45.441917\n",
      "2  10.626557 69.22392  0.1779993  1.744393  0.26699893  0.2491990 10.982556\n",
      "3  69.896758 84.20576  0.8331824  4.401377  0.38036588  0.6158305 19.108857\n",
      "4  54.545455 94.00111 37.2893909 22.643955 22.38474357  0.6109980 22.495834\n",
      "5  89.609344 98.71124  1.5706806  7.209021  0.40273862  0.8457511 33.830044\n",
      "6  85.679612 99.75728  3.4421889 11.562224  0.79435128  1.1032657 48.676081\n",
      "7  95.217686 99.52628  1.4888337  9.271374  0.76697496  0.7669750 39.747349\n",
      "8  73.102965 97.12818  1.0273173  8.638805  0.51365865  0.5136587 26.756946\n",
      "9   3.184165 70.56799  0.2008032  1.319564  0.05737235  0.3155479 12.191624\n",
      "10 83.181818 99.27273  3.6060606 12.909091  1.09090909  1.4545455 39.030303\n",
      "11 20.699816 84.86188  0.7734807  8.692449  0.69981584  0.5156538 11.344383\n",
      "12 68.540012 96.09041 16.5546732 15.577276 18.87599267  0.6719609 17.837508\n",
      "13 82.163990 99.57735  3.5502959 13.355875  1.69061708  1.1834320 32.713440\n",
      "14 18.228719 75.40843 53.7403267 75.924334 65.09028375  0.3439381  8.684437\n",
      "15  4.743466 66.50532  0.0000000  1.936108  0.19361084  0.8712488 22.458858\n",
      "16 57.937310 95.75329  5.1567240 18.503539  3.43781598  0.9100101 23.053589\n",
      "17 85.040650 95.77236  0.4878049  7.642276  0.48780488  0.9756098 31.056911\n",
      "18 17.837838 61.26126  0.1801802  6.306306  0.18018018 48.2882883 77.657658\n",
      "19 60.377358 76.72956  1.0482180  2.096436  0.62893082 45.7023061 74.633124\n",
      "20 68.308351 89.07923  0.8565310  6.852248  0.21413276  2.9978587 26.766595\n",
      "21 37.630662 98.25784 73.1707317 64.808362 62.71777003  0.0000000 22.648084\n",
      "22 95.850622 98.34025  0.4149378  2.489627  0.41493776  0.0000000 29.460581\n",
      "23 21.052632 66.31579 10.5263158  6.315789  1.05263158  0.0000000 11.578947\n",
      "24 25.974026 85.71429  1.2987013  0.000000  0.00000000 77.9220779 85.714286\n",
      "25 43.750000 37.50000  0.0000000  0.000000  0.00000000  6.2500000  0.000000\n",
      "       CD63        HDC       IRF8    LGALS1      AZU1     ELANE       MPO\n",
      "0  85.45856  4.6611647  3.4290364 54.794839 11.147274  6.242009 20.864815\n",
      "1  93.14117  3.5249175 14.9505122 84.042368 14.898420  6.841466 22.052440\n",
      "2  35.65326  0.7119972  1.1391954 21.199715  1.495194  3.417586  5.357779\n",
      "3  61.65550  3.9123347  2.7168991 37.728672  6.864698  4.962869 17.044014\n",
      "4  92.09406 20.6628402  2.3884466 57.433809 12.182929  7.998519 22.366228\n",
      "5  85.48127  3.7253323  6.4639549 56.101490 21.325010 12.343939 30.064438\n",
      "6  93.24801  4.7661077 11.1650485 65.203001 33.583407 20.388350 44.571933\n",
      "7  89.64584  5.5267313 12.2264832 70.042860 25.716219 10.805324 37.514099\n",
      "8  89.58674  4.0859211 25.5428438 84.847070 74.433808 52.276442 61.639038\n",
      "9  61.10155  0.4876649  1.4343087 41.767068  2.352266  4.245554  5.421687\n",
      "10 92.39394  6.3333333 12.4848485 63.515152 38.272727 24.181818 52.000000\n",
      "11 85.23020  4.3462247 22.8360958 97.863720 26.151013 16.095764 20.847145\n",
      "12 96.94563 59.9266952  1.7104459 54.367746 17.409896  8.613317 35.064142\n",
      "13 92.56128  7.3541843 21.6398986 66.610313 45.477599 28.148774 60.862215\n",
      "14 66.55202 12.5537403  1.8056750 23.129837 19.260533 17.024936 31.986242\n",
      "15 84.02711  1.3552759  9.0029042 65.440465  1.258470  2.226525  4.743466\n",
      "16 83.72093  8.1900910 23.2558140 70.576340 57.633974 44.994944 67.846309\n",
      "17 92.84553  7.4796748 23.4146341 89.105691 19.837398 10.243902 26.829268\n",
      "18 37.83784  1.9819820 40.5405405 37.837838  7.567568 12.972973 18.918919\n",
      "19 54.50734  1.8867925  7.5471698 36.687631  3.354298  3.144654 11.740042\n",
      "20 83.51178  2.7837259 75.3747323 91.862955 13.704497  9.635974 28.693790\n",
      "21 96.51568 24.0418118  0.6968641 45.296167 16.027875  7.665505 25.783972\n",
      "22 82.15768 12.4481328  6.2240664 57.261411 17.842324 10.788382 31.950207\n",
      "23 95.78947  2.1052632 17.8947368 80.000000 10.526316 33.684211 32.631579\n",
      "24 53.24675  3.8961039 12.9870130  7.792208  5.194805  6.493506 15.584416\n",
      "25 18.75000  6.2500000 18.7500000 25.000000 56.250000  6.250000 25.000000\n",
      "       CDK6      PCNA       CD36       VCAM1     FCGR3A     FCER1A        KIT\n",
      "0  85.27258 13.867256  7.4276415  0.04649541  0.4882018  3.0686970 23.3406951\n",
      "1  88.05348 17.225213 31.8284424  0.06945650  0.3299184  1.6495919 27.1054002\n",
      "2  15.41474 11.908152  0.4627981  0.03559986  1.6909932  0.3381986  0.9255963\n",
      "3  65.60406 10.143090  2.8799131  0.05433798  1.0143090  2.6625611 14.8161565\n",
      "4  88.92798 19.625995  6.8320681  0.01851509  0.6295131 44.0659137 29.1057212\n",
      "5  86.42771 17.358035  8.3366895  0.02013693  0.4228756  2.7587596 28.7958115\n",
      "6  94.35128 38.570168 12.4227714  0.04413063  0.6840247  3.4642542 39.7837599\n",
      "7  96.52605 24.949244 11.3467178  0.04511617  0.4511617  3.9927814 46.6275660\n",
      "8  81.13472 31.800140 12.0709783  0.02334812  0.3969180  2.8017745 35.8160168\n",
      "9  17.12565 15.433161  0.4589788  1.11876076 41.1933448  0.1434309  1.0040161\n",
      "10 95.00000 80.606061 10.0000000  0.06060606  1.0606061  4.0303030 45.9393939\n",
      "11 21.91529  8.876611 49.2081031  0.29465930 12.7808471  4.6777164  5.4880295\n",
      "12 87.59927 31.459988  8.1246182  0.24434942  0.6719609 40.3176542 21.0140501\n",
      "13 94.33643 96.365173  7.6077768  0.00000000  0.5917160  7.2696534 57.0583263\n",
      "14 66.72399 49.269132 67.6698194  0.25795357  0.8598452 22.9578676 27.5150473\n",
      "15 20.13553 15.198451  1.0648596  0.00000000 93.1268151  0.7744434  1.3552759\n",
      "16 74.21638 54.499494  9.7067745  0.00000000  0.7077856 11.6279070 28.6147624\n",
      "17 80.32520 14.959350 32.6829268  0.00000000  2.6016260  3.0894309 24.2276423\n",
      "18 19.81982  9.369369  1.0810811  0.18018018  2.5225225  0.9009009  3.0630631\n",
      "19 78.19706 12.997904  9.8532495  0.00000000  0.2096436  0.2096436  4.8218029\n",
      "20 70.66381 32.119914 39.4004283  0.00000000  0.8565310 31.2633833 27.4089936\n",
      "21 95.81882 91.986063 21.9512195  0.34843206  0.6968641 69.6864111 39.0243902\n",
      "22 89.21162 19.917012  3.3195021  0.00000000  0.4149378  9.1286307 41.9087137\n",
      "23 24.21053 15.789474 21.0526316 63.15789474 29.4736842  1.0526316  4.2105263\n",
      "24 92.20779 84.415584  1.2987013  0.00000000  0.0000000  2.5974026  2.5974026\n",
      "25 68.75000  0.000000 18.7500000  0.00000000  0.0000000  0.0000000 25.0000000\n",
      "        TPSB2\n",
      "0  11.9376962\n",
      "1  17.1383921\n",
      "2   0.6763973\n",
      "3   8.7846405\n",
      "4  48.0466580\n",
      "5  14.0153041\n",
      "6  21.1385702\n",
      "7  17.0087977\n",
      "8  23.4882092\n",
      "9   0.4016064\n",
      "10 20.8181818\n",
      "11  2.8729282\n",
      "12 18.6316432\n",
      "13 17.2442942\n",
      "14 23.5597592\n",
      "15  0.4840271\n",
      "16 12.4368049\n",
      "17 16.0975610\n",
      "18  2.5225225\n",
      "19  2.0964361\n",
      "20  3.8543897\n",
      "21 40.7665505\n",
      "22 22.8215768\n",
      "23  3.1578947\n",
      "24  1.2987013\n",
      "25  6.2500000\n"
     ]
    },
    {
     "data": {
      "text/html": [
       "<style>\n",
       ".list-inline {list-style: none; margin:0; padding: 0}\n",
       ".list-inline>li {display: inline-block}\n",
       ".list-inline>li:not(:last-child)::after {content: \"\\00b7\"; padding: 0 .5ex}\n",
       "</style>\n",
       "<ol class=list-inline><li>26</li><li>29</li></ol>\n"
      ],
      "text/latex": [
       "\\begin{enumerate*}\n",
       "\\item 26\n",
       "\\item 29\n",
       "\\end{enumerate*}\n"
      ],
      "text/markdown": [
       "1. 26\n",
       "2. 29\n",
       "\n",
       "\n"
      ],
      "text/plain": [
       "[1] 26 29"
      ]
     },
     "metadata": {},
     "output_type": "display_data"
    }
   ],
   "source": [
    "percent_mat_t = t(percent_mat)\n",
    "print(percent_mat_t)\n",
    "dim(percent_mat_t)"
   ]
  },
  {
   "cell_type": "code",
   "execution_count": 33,
   "metadata": {
    "vscode": {
     "languageId": "r"
    }
   },
   "outputs": [],
   "source": [
    "## legend\n",
    "## To make the size of the dot in the heatmap body comparable to the legend, I used fixed\n",
    "## size unit.(2, \"mm) rather than min(unit.c(w, h).\n",
    "\n",
    "layer_fun = function(j, i, x, y, w, h, fill){\n",
    "          grid.rect(x = x, y = y, width = w, height = h, \n",
    "                    gp = gpar(col = NA, fill = NA))\n",
    "          grid.circle(x=x,y=y,r= pindex(percent_mat_t, i, j)/100 * unit(3, \"mm\"),\n",
    "                      gp = gpar(fill = col_fun(pindex(exp_mat_t, i, j)), col = NA))}\n",
    "\n",
    "\n",
    "lgd_list = list(\n",
    "    Legend( labels = c(0,0.25,0.5,0.75,1), title = \"Percent Expressed\", gap = unit(3.5, \"mm\"), ncol=5,# 设置间隔大小\n",
    "            graphics = list(\n",
    "              function(x, y, w, h) grid.circle(x = x, y = y, r = 0 * unit(3, \"mm\"),\n",
    "                                               gp = gpar(fill = \"black\")),\n",
    "              function(x, y, w, h) grid.circle(x = x, y = y, r = 0.25 * unit(3, \"mm\"),\n",
    "                                               gp = gpar(fill = \"black\")),\n",
    "              function(x, y, w, h) grid.circle(x = x, y = y, r = 0.5 * unit(3, \"mm\"),\n",
    "                                               gp = gpar(fill = \"black\")),\n",
    "              function(x, y, w, h) grid.circle(x = x, y = y, r = 0.75 * unit(3, \"mm\"),\n",
    "                                               gp = gpar(fill = \"black\")),\n",
    "              function(x, y, w, h) grid.circle(x = x, y = y, r = 1 * unit(3, \"mm\"),\n",
    "                                               gp = gpar(fill = \"black\")))\n",
    "            ))"
   ]
  },
  {
   "cell_type": "code",
   "execution_count": 18,
   "metadata": {
    "vscode": {
     "languageId": "r"
    }
   },
   "outputs": [],
   "source": [
    "column_ha = HeatmapAnnotation(GeneClass = genetype_list) # vector"
   ]
  },
  {
   "cell_type": "code",
   "execution_count": 35,
   "metadata": {
    "vscode": {
     "languageId": "r"
    }
   },
   "outputs": [],
   "source": [
    "# define color\n",
    "col_fun = circlize::colorRamp2(c(min(exp_mat_t),-1,0,1,2,max(exp_mat_t)), c(\"#1F2278\",\"#4E8FCE\",\"#CADFF8\",\"#FF8F67\",\"#DB3219\",\"#CF2724\"))"
   ]
  },
  {
   "cell_type": "code",
   "execution_count": 39,
   "metadata": {
    "vscode": {
     "languageId": "r"
    }
   },
   "outputs": [
    {
     "data": {
      "text/html": [
       "<strong>png:</strong> 2"
      ],
      "text/latex": [
       "\\textbf{png:} 2"
      ],
      "text/markdown": [
       "**png:** 2"
      ],
      "text/plain": [
       "png \n",
       "  2 "
      ]
     },
     "metadata": {},
     "output_type": "display_data"
    }
   ],
   "source": [
    "# V1\n",
    "# Rows are automatically clustered; columns are not clustered and remain in their fixed order.\n",
    "output_f_path = file.path(output_dir,\"GSE_Rice_heatmap_4_1_10.png\")\n",
    "png(output_f_path, width = 10000/2.54, height = 6000/2.54,res = 300)\n",
    "\n",
    "set.seed(123)    \n",
    "heatmap_plot_1 <- Heatmap(exp_mat_t,\n",
    "        cluster_rows = TRUE,\n",
    "        # right_annotation = row_ha,\n",
    "        top_annotation = column_ha,\n",
    "        # row_order = fungene_list_unique, # 行顺序，基因名顺序\n",
    "        column_order = gene_list_unique, # order不能输入带有因子的变量\n",
    "\n",
    "        column_title = \" Dot plot showing the average scaled expression for marker genes\", # 图片标题\n",
    "        row_title = \"ClustersNum\",\n",
    "        heatmap_legend_param=list(title=\"Average Expression\",labels = c(\"\",-1,0,1,2,\"\")), # 图例标题\n",
    "        \n",
    "        col=col_fun, # 定义图例颜色\n",
    "\n",
    "        rect_gp = gpar(type = \"none\"), #单元格间隔，取消\n",
    "        layer_fun = layer_fun,  # 图例，表达百分比\n",
    "        \n",
    "        row_names_gp = gpar(fontsize = 12), #\n",
    "        column_names_gp = gpar(fontsize = 12), #\n",
    "        row_km = 4,\n",
    "        border = \"black\",\n",
    "        column_names_rot = 45,\n",
    "        )\n",
    "\n",
    "heatmap_plot_2 = draw(heatmap_plot_1, annotation_legend_list = lgd_list)\n",
    "dev.off()\n",
    "\n",
    "## pdf\n",
    "seurat_object_plot = as.ggplot(heatmap_plot_1)\n",
    "output_f_path = file.path(output_dir,\"GSE_Rice_heatmap_4_1_10.pdf\")\n",
    "ggsave(filename=output_f_path,plot=seurat_object_plot,device=pdf,width=297,height=210,units=\"mm\")"
   ]
  },
  {
   "cell_type": "markdown",
   "metadata": {},
   "source": [
    "## Part2 define cluster"
   ]
  },
  {
   "cell_type": "code",
   "execution_count": null,
   "metadata": {
    "vscode": {
     "languageId": "r"
    }
   },
   "outputs": [],
   "source": [
    "# V2\n",
    "# Rows do not automatically cluster and the row order is fixed. Columns are not clustered and the order is fixed."
   ]
  },
  {
   "cell_type": "code",
   "execution_count": 107,
   "metadata": {
    "vscode": {
     "languageId": "r"
    }
   },
   "outputs": [
    {
     "name": "stdout",
     "output_type": "stream",
     "text": [
      "\u001b[90m# A tibble: 26 × 2\u001b[39m\n",
      "   ClusterType ClusterNum\n",
      "   \u001b[3m\u001b[90m<chr>\u001b[39m\u001b[23m       \u001b[3m\u001b[90m<chr>\u001b[39m\u001b[23m     \n",
      "\u001b[90m 1\u001b[39m Unknow      11        \n",
      "\u001b[90m 2\u001b[39m Unknow      23        \n",
      "\u001b[90m 3\u001b[39m Unknow      18        \n",
      "\u001b[90m 4\u001b[39m Unknow      15        \n",
      "\u001b[90m 5\u001b[39m Unknow      2         \n",
      "\u001b[90m 6\u001b[39m Unknow      9         \n",
      "\u001b[90m 7\u001b[39m Neu         16        \n",
      "\u001b[90m 8\u001b[39m Neu         8         \n",
      "\u001b[90m 9\u001b[39m GMP         10        \n",
      "\u001b[90m10\u001b[39m GMP         13        \n",
      "\u001b[90m# ℹ 16 more rows\u001b[39m\n",
      " [1] \"Unknow\"  \"Unknow\"  \"Unknow\"  \"Unknow\"  \"Unknow\"  \"Unknow\"  \"Neu\"    \n",
      " [8] \"Neu\"     \"GMP\"     \"GMP\"     \"GMP\"     \"MD\"      \"EBM\"     \"BNK\"    \n",
      "[15] \"BNK\"     \"ERP\"     \"ERP\"     \"MEP\"     \"LMPP\"    \"LMPP\"    \"LMPP\"   \n",
      "[22] \"LMPP\"    \"LMPP\"    \"LMPP\"    \"HSC/MPP\" \"HSC/MPP\"\n",
      "[1] 26\n",
      " [1] Unknow  Unknow  Unknow  Unknow  Unknow  Unknow  Neu     Neu     GMP    \n",
      "[10] GMP     GMP     MD      EBM     BNK     BNK     ERP     ERP     MEP    \n",
      "[19] LMPP    LMPP    LMPP    LMPP    LMPP    LMPP    HSC/MPP HSC/MPP\n",
      "Levels: Unknow Neu GMP MD EBM BNK ERP MEP LMPP HSC/MPP\n",
      " [1] \"11\" \"23\" \"18\" \"15\" \"2\"  \"9\"  \"16\" \"8\"  \"10\" \"13\" \"25\" \"20\" \"12\" \"19\" \"24\"\n",
      "[16] \"21\" \"14\" \"4\"  \"3\"  \"5\"  \"6\"  \"7\"  \"17\" \"1\"  \"0\"  \"22\"\n",
      "[1] 26\n",
      " [1] 11 23 18 15 2  9  16 8  10 13 25 20 12 19 24 21 14 4  3  5  6  7  17 1  0 \n",
      "[26] 22\n",
      "26 Levels: 11 23 18 15 2 9 16 8 10 13 25 20 12 19 24 21 14 4 3 5 6 7 17 1 ... 22\n"
     ]
    }
   ],
   "source": [
    "# define cluster seq\n",
    "if(TRUE){\n",
    "  ## 1）markergene\n",
    "  sample_sheet_f = \"/share/home/wyz/Lab/Code/ProjectCode/2024/202403/20240320_scRNA_AML_Annotation/sample_info/Bone_marrow_Cell_Cluster_List_20240329_1.xlsx\"\n",
    "  \n",
    "  ## read\n",
    "  sample_sheet_df = readxl::read_excel(path=sample_sheet_f,col_name=T,col_types=\"text\",na=\"\",sheet = \"20240322_2_sci_hsc_1\")\n",
    "  dim(sample_sheet_df)\n",
    "  print(sample_sheet_df)\n",
    "  class(sample_sheet_df)\n",
    "  \n",
    "  # ClusterType\n",
    "  clustertype_list = as.character(sample_sheet_df$ClusterType)\n",
    "  print(clustertype_list)\n",
    "  print(length(clustertype_list))\n",
    "  \n",
    "  # 定义的顺序\n",
    "  clustertype_list_unique = unique(clustertype_list)\n",
    "  \n",
    "  clustertype_list_sorted <- factor(clustertype_list, levels = clustertype_list_unique)\n",
    "  print(clustertype_list_sorted)\n",
    "  \n",
    "  # ClusterNum\n",
    "  clusternum_list = as.character(sample_sheet_df$ClusterNum)\n",
    "  print(clusternum_list)\n",
    "  print(length(clusternum_list))\n",
    "  \n",
    "  # 定义的顺序\n",
    "  clusternum_list_unique = unique(clusternum_list)\n",
    "  \n",
    "  clusternum_list_sorted <- factor(clusternum_list, levels = clusternum_list_unique)\n",
    "  print(clusternum_list_sorted)\n",
    "}"
   ]
  },
  {
   "cell_type": "code",
   "execution_count": 108,
   "metadata": {
    "vscode": {
     "languageId": "r"
    }
   },
   "outputs": [
    {
     "data": {
      "text/html": [
       "<table class=\"dataframe\">\n",
       "<caption>A matrix: 6 × 29 of type dbl</caption>\n",
       "<thead>\n",
       "\t<tr><th></th><th scope=col>CD34</th><th scope=col>CD38</th><th scope=col>AVP</th><th scope=col>CRHBP</th><th scope=col>MLLT3</th><th scope=col>GATA2</th><th scope=col>TK1</th><th scope=col>SPINK2</th><th scope=col>ENO1</th><th scope=col>CNRIP1</th><th scope=col>⋯</th><th scope=col>ELANE</th><th scope=col>MPO</th><th scope=col>CDK6</th><th scope=col>PCNA</th><th scope=col>CD36</th><th scope=col>VCAM1</th><th scope=col>FCGR3A</th><th scope=col>FCER1A</th><th scope=col>KIT</th><th scope=col>TPSB2</th></tr>\n",
       "</thead>\n",
       "<tbody>\n",
       "\t<tr><th scope=row>0</th><td> 1.0211489</td><td>-0.7243885</td><td> 2.50000000</td><td> 2.1091061</td><td> 1.06232138</td><td>-0.02165612</td><td>-0.4607717</td><td> 0.9761418</td><td> 0.92846763</td><td>-0.4039771</td><td>⋯</td><td>-0.54208746</td><td>-0.54358129</td><td> 0.31971384</td><td>-0.5128319</td><td>-0.4501988</td><td>-0.1979655</td><td>-0.3163924</td><td>-0.3941790</td><td> 0.07241393</td><td>-0.16921181</td></tr>\n",
       "\t<tr><th scope=row>1</th><td> 2.0794954</td><td>-0.3318856</td><td>-0.02251023</td><td>-0.3605498</td><td>-0.10437477</td><td>-0.07101735</td><td>-0.4538155</td><td> 2.2300253</td><td> 1.26589380</td><td>-0.4092908</td><td>⋯</td><td>-0.53951819</td><td>-0.45671225</td><td> 0.03549861</td><td>-0.4918199</td><td> 1.0654057</td><td>-0.1978699</td><td>-0.3176060</td><td>-0.4368352</td><td> 0.07205016</td><td>-0.06420466</td></tr>\n",
       "\t<tr><th scope=row>2</th><td>-1.3706835</td><td>-1.1654034</td><td>-0.65286461</td><td>-0.5677764</td><td>-0.01815871</td><td>-0.84760444</td><td>-0.4733289</td><td>-1.1478243</td><td>-1.43834665</td><td>-0.4148385</td><td>⋯</td><td>-0.57867518</td><td>-0.71166148</td><td>-1.47868810</td><td>-0.4828434</td><td>-0.6901016</td><td>-0.1977042</td><td>-0.3064120</td><td>-0.4282143</td><td>-1.26248251</td><td>-0.37917002</td></tr>\n",
       "\t<tr><th scope=row>3</th><td> 0.4286969</td><td>-0.5117304</td><td> 0.62318438</td><td> 0.9803265</td><td> 0.49024678</td><td>-0.12024987</td><td>-0.4505068</td><td> 0.5230810</td><td> 0.04641372</td><td>-0.3884123</td><td>⋯</td><td>-0.46066725</td><td>-0.49393086</td><td> 0.31987591</td><td>-0.4606803</td><td>-0.5818368</td><td>-0.1956592</td><td>-0.3084617</td><td>-0.3939446</td><td> 0.12780965</td><td>-0.24423380</td></tr>\n",
       "\t<tr><th scope=row>4</th><td> 0.2075981</td><td> 0.4281768</td><td> 0.08074057</td><td> 0.8035519</td><td> 1.08259595</td><td> 2.50000000</td><td>-0.4462067</td><td>-0.5646591</td><td>-0.01215728</td><td> 2.1131058</td><td>⋯</td><td>-0.53291625</td><td>-0.60180962</td><td> 1.06035023</td><td>-0.4417197</td><td>-0.4794209</td><td>-0.1982246</td><td>-0.3162089</td><td> 2.5000000</td><td> 1.31860552</td><td> 2.50000000</td></tr>\n",
       "\t<tr><th scope=row>5</th><td> 0.6178036</td><td>-0.3213634</td><td> 0.88779533</td><td> 0.6858743</td><td>-0.07605959</td><td>-0.11175692</td><td>-0.4529515</td><td> 0.9500799</td><td> 0.90842286</td><td>-0.3859221</td><td>⋯</td><td>-0.08287854</td><td>-0.05300162</td><td> 0.03636383</td><td>-0.4599208</td><td>-0.4579871</td><td>-0.1983141</td><td>-0.3176909</td><td>-0.4224085</td><td> 0.33785807</td><td>-0.25106263</td></tr>\n",
       "</tbody>\n",
       "</table>\n"
      ],
      "text/latex": [
       "A matrix: 6 × 29 of type dbl\n",
       "\\begin{tabular}{r|lllllllllllllllllllll}\n",
       "  & CD34 & CD38 & AVP & CRHBP & MLLT3 & GATA2 & TK1 & SPINK2 & ENO1 & CNRIP1 & ⋯ & ELANE & MPO & CDK6 & PCNA & CD36 & VCAM1 & FCGR3A & FCER1A & KIT & TPSB2\\\\\n",
       "\\hline\n",
       "\t0 &  1.0211489 & -0.7243885 &  2.50000000 &  2.1091061 &  1.06232138 & -0.02165612 & -0.4607717 &  0.9761418 &  0.92846763 & -0.4039771 & ⋯ & -0.54208746 & -0.54358129 &  0.31971384 & -0.5128319 & -0.4501988 & -0.1979655 & -0.3163924 & -0.3941790 &  0.07241393 & -0.16921181\\\\\n",
       "\t1 &  2.0794954 & -0.3318856 & -0.02251023 & -0.3605498 & -0.10437477 & -0.07101735 & -0.4538155 &  2.2300253 &  1.26589380 & -0.4092908 & ⋯ & -0.53951819 & -0.45671225 &  0.03549861 & -0.4918199 &  1.0654057 & -0.1978699 & -0.3176060 & -0.4368352 &  0.07205016 & -0.06420466\\\\\n",
       "\t2 & -1.3706835 & -1.1654034 & -0.65286461 & -0.5677764 & -0.01815871 & -0.84760444 & -0.4733289 & -1.1478243 & -1.43834665 & -0.4148385 & ⋯ & -0.57867518 & -0.71166148 & -1.47868810 & -0.4828434 & -0.6901016 & -0.1977042 & -0.3064120 & -0.4282143 & -1.26248251 & -0.37917002\\\\\n",
       "\t3 &  0.4286969 & -0.5117304 &  0.62318438 &  0.9803265 &  0.49024678 & -0.12024987 & -0.4505068 &  0.5230810 &  0.04641372 & -0.3884123 & ⋯ & -0.46066725 & -0.49393086 &  0.31987591 & -0.4606803 & -0.5818368 & -0.1956592 & -0.3084617 & -0.3939446 &  0.12780965 & -0.24423380\\\\\n",
       "\t4 &  0.2075981 &  0.4281768 &  0.08074057 &  0.8035519 &  1.08259595 &  2.50000000 & -0.4462067 & -0.5646591 & -0.01215728 &  2.1131058 & ⋯ & -0.53291625 & -0.60180962 &  1.06035023 & -0.4417197 & -0.4794209 & -0.1982246 & -0.3162089 &  2.5000000 &  1.31860552 &  2.50000000\\\\\n",
       "\t5 &  0.6178036 & -0.3213634 &  0.88779533 &  0.6858743 & -0.07605959 & -0.11175692 & -0.4529515 &  0.9500799 &  0.90842286 & -0.3859221 & ⋯ & -0.08287854 & -0.05300162 &  0.03636383 & -0.4599208 & -0.4579871 & -0.1983141 & -0.3176909 & -0.4224085 &  0.33785807 & -0.25106263\\\\\n",
       "\\end{tabular}\n"
      ],
      "text/markdown": [
       "\n",
       "A matrix: 6 × 29 of type dbl\n",
       "\n",
       "| <!--/--> | CD34 | CD38 | AVP | CRHBP | MLLT3 | GATA2 | TK1 | SPINK2 | ENO1 | CNRIP1 | ⋯ | ELANE | MPO | CDK6 | PCNA | CD36 | VCAM1 | FCGR3A | FCER1A | KIT | TPSB2 |\n",
       "|---|---|---|---|---|---|---|---|---|---|---|---|---|---|---|---|---|---|---|---|---|---|\n",
       "| 0 |  1.0211489 | -0.7243885 |  2.50000000 |  2.1091061 |  1.06232138 | -0.02165612 | -0.4607717 |  0.9761418 |  0.92846763 | -0.4039771 | ⋯ | -0.54208746 | -0.54358129 |  0.31971384 | -0.5128319 | -0.4501988 | -0.1979655 | -0.3163924 | -0.3941790 |  0.07241393 | -0.16921181 |\n",
       "| 1 |  2.0794954 | -0.3318856 | -0.02251023 | -0.3605498 | -0.10437477 | -0.07101735 | -0.4538155 |  2.2300253 |  1.26589380 | -0.4092908 | ⋯ | -0.53951819 | -0.45671225 |  0.03549861 | -0.4918199 |  1.0654057 | -0.1978699 | -0.3176060 | -0.4368352 |  0.07205016 | -0.06420466 |\n",
       "| 2 | -1.3706835 | -1.1654034 | -0.65286461 | -0.5677764 | -0.01815871 | -0.84760444 | -0.4733289 | -1.1478243 | -1.43834665 | -0.4148385 | ⋯ | -0.57867518 | -0.71166148 | -1.47868810 | -0.4828434 | -0.6901016 | -0.1977042 | -0.3064120 | -0.4282143 | -1.26248251 | -0.37917002 |\n",
       "| 3 |  0.4286969 | -0.5117304 |  0.62318438 |  0.9803265 |  0.49024678 | -0.12024987 | -0.4505068 |  0.5230810 |  0.04641372 | -0.3884123 | ⋯ | -0.46066725 | -0.49393086 |  0.31987591 | -0.4606803 | -0.5818368 | -0.1956592 | -0.3084617 | -0.3939446 |  0.12780965 | -0.24423380 |\n",
       "| 4 |  0.2075981 |  0.4281768 |  0.08074057 |  0.8035519 |  1.08259595 |  2.50000000 | -0.4462067 | -0.5646591 | -0.01215728 |  2.1131058 | ⋯ | -0.53291625 | -0.60180962 |  1.06035023 | -0.4417197 | -0.4794209 | -0.1982246 | -0.3162089 |  2.5000000 |  1.31860552 |  2.50000000 |\n",
       "| 5 |  0.6178036 | -0.3213634 |  0.88779533 |  0.6858743 | -0.07605959 | -0.11175692 | -0.4529515 |  0.9500799 |  0.90842286 | -0.3859221 | ⋯ | -0.08287854 | -0.05300162 |  0.03636383 | -0.4599208 | -0.4579871 | -0.1983141 | -0.3176909 | -0.4224085 |  0.33785807 | -0.25106263 |\n",
       "\n"
      ],
      "text/plain": [
       "  CD34       CD38       AVP         CRHBP      MLLT3       GATA2      \n",
       "0  1.0211489 -0.7243885  2.50000000  2.1091061  1.06232138 -0.02165612\n",
       "1  2.0794954 -0.3318856 -0.02251023 -0.3605498 -0.10437477 -0.07101735\n",
       "2 -1.3706835 -1.1654034 -0.65286461 -0.5677764 -0.01815871 -0.84760444\n",
       "3  0.4286969 -0.5117304  0.62318438  0.9803265  0.49024678 -0.12024987\n",
       "4  0.2075981  0.4281768  0.08074057  0.8035519  1.08259595  2.50000000\n",
       "5  0.6178036 -0.3213634  0.88779533  0.6858743 -0.07605959 -0.11175692\n",
       "  TK1        SPINK2     ENO1        CNRIP1     ⋯ ELANE       MPO        \n",
       "0 -0.4607717  0.9761418  0.92846763 -0.4039771 ⋯ -0.54208746 -0.54358129\n",
       "1 -0.4538155  2.2300253  1.26589380 -0.4092908 ⋯ -0.53951819 -0.45671225\n",
       "2 -0.4733289 -1.1478243 -1.43834665 -0.4148385 ⋯ -0.57867518 -0.71166148\n",
       "3 -0.4505068  0.5230810  0.04641372 -0.3884123 ⋯ -0.46066725 -0.49393086\n",
       "4 -0.4462067 -0.5646591 -0.01215728  2.1131058 ⋯ -0.53291625 -0.60180962\n",
       "5 -0.4529515  0.9500799  0.90842286 -0.3859221 ⋯ -0.08287854 -0.05300162\n",
       "  CDK6        PCNA       CD36       VCAM1      FCGR3A     FCER1A    \n",
       "0  0.31971384 -0.5128319 -0.4501988 -0.1979655 -0.3163924 -0.3941790\n",
       "1  0.03549861 -0.4918199  1.0654057 -0.1978699 -0.3176060 -0.4368352\n",
       "2 -1.47868810 -0.4828434 -0.6901016 -0.1977042 -0.3064120 -0.4282143\n",
       "3  0.31987591 -0.4606803 -0.5818368 -0.1956592 -0.3084617 -0.3939446\n",
       "4  1.06035023 -0.4417197 -0.4794209 -0.1982246 -0.3162089  2.5000000\n",
       "5  0.03636383 -0.4599208 -0.4579871 -0.1983141 -0.3176909 -0.4224085\n",
       "  KIT         TPSB2      \n",
       "0  0.07241393 -0.16921181\n",
       "1  0.07205016 -0.06420466\n",
       "2 -1.26248251 -0.37917002\n",
       "3  0.12780965 -0.24423380\n",
       "4  1.31860552  2.50000000\n",
       "5  0.33785807 -0.25106263"
      ]
     },
     "metadata": {},
     "output_type": "display_data"
    }
   ],
   "source": [
    "head(exp_mat_t)"
   ]
  },
  {
   "cell_type": "code",
   "execution_count": 109,
   "metadata": {
    "vscode": {
     "languageId": "r"
    }
   },
   "outputs": [
    {
     "data": {
      "text/html": [
       "<table class=\"dataframe\">\n",
       "<caption>A matrix: 6 × 29 of type dbl</caption>\n",
       "<thead>\n",
       "\t<tr><th></th><th scope=col>CD34</th><th scope=col>CD38</th><th scope=col>AVP</th><th scope=col>CRHBP</th><th scope=col>MLLT3</th><th scope=col>GATA2</th><th scope=col>TK1</th><th scope=col>SPINK2</th><th scope=col>ENO1</th><th scope=col>CNRIP1</th><th scope=col>⋯</th><th scope=col>ELANE</th><th scope=col>MPO</th><th scope=col>CDK6</th><th scope=col>PCNA</th><th scope=col>CD36</th><th scope=col>VCAM1</th><th scope=col>FCGR3A</th><th scope=col>FCER1A</th><th scope=col>KIT</th><th scope=col>TPSB2</th></tr>\n",
       "</thead>\n",
       "<tbody>\n",
       "\t<tr><th scope=row>20</th><td>-0.1008998</td><td> 0.7538699</td><td>-0.6574690</td><td>-0.7891342</td><td>-0.86563819</td><td>-0.7888908</td><td>-0.3497049</td><td> 0.7592736</td><td>-0.7088965</td><td>-0.40552419</td><td>⋯</td><td>-0.1698967</td><td>-0.3318992</td><td>-0.4233446</td><td>-0.2632546</td><td> 0.5343637</td><td>-0.1984271</td><td>-0.3041018</td><td> 0.3882957</td><td> 0.03359987</td><td>-0.3622798</td></tr>\n",
       "\t<tr><th scope=row>21</th><td>-0.3957451</td><td>-0.1814343</td><td>-0.4887876</td><td>-0.5256596</td><td> 0.06819985</td><td> 1.3429289</td><td> 1.6885899</td><td>-1.1308089</td><td> 0.2216910</td><td> 2.50000000</td><td>⋯</td><td>-0.5900818</td><td>-0.6398065</td><td> 0.5401349</td><td> 1.4112106</td><td>-0.3496283</td><td>-0.1959935</td><td>-0.3175904</td><td> 2.5000000</td><td> 0.24887284</td><td> 0.4992041</td></tr>\n",
       "\t<tr><th scope=row>22</th><td> 1.5938470</td><td>-0.8160769</td><td> 2.5000000</td><td> 2.5000000</td><td> 1.30909991</td><td> 0.5097826</td><td>-0.4633508</td><td> 0.9521357</td><td> 1.1017816</td><td>-0.41702858</td><td>⋯</td><td>-0.6046473</td><td>-0.4966855</td><td> 0.3583540</td><td>-0.4483312</td><td>-0.6455171</td><td>-0.1984271</td><td>-0.3185340</td><td>-0.2523860</td><td> 1.36281305</td><td>-0.1356175</td></tr>\n",
       "\t<tr><th scope=row>23</th><td>-1.1837904</td><td>-0.7238594</td><td> 0.2781782</td><td> 1.0645779</td><td>-0.93870691</td><td>-0.7380170</td><td>-0.4889156</td><td>-1.0216668</td><td>-1.0582987</td><td> 0.01458195</td><td>⋯</td><td> 0.2533826</td><td>-0.1035320</td><td>-1.2343271</td><td>-0.1697826</td><td> 0.8640701</td><td> 2.5000000</td><td> 1.3535638</td><td>-0.3658661</td><td>-0.97519633</td><td>-0.2808468</td></tr>\n",
       "\t<tr><th scope=row>24</th><td>-0.8269304</td><td> 0.7777775</td><td>-0.6877399</td><td>-0.8100726</td><td>-1.09233526</td><td>-0.8831814</td><td> 2.3065263</td><td>-1.1856930</td><td>-0.2527531</td><td>-0.40585916</td><td>⋯</td><td>-0.6129236</td><td>-0.7277152</td><td> 1.7469787</td><td> 2.5000000</td><td>-0.6635979</td><td>-0.1984271</td><td>-0.3202750</td><td>-0.4331821</td><td>-1.29633437</td><td>-0.3743718</td></tr>\n",
       "\t<tr><th scope=row>25</th><td> 0.1171657</td><td> 2.5000000</td><td>-0.6995189</td><td> 1.6107497</td><td> 2.50000000</td><td> 0.8474526</td><td>-0.4889156</td><td>-0.5848123</td><td>-1.7362526</td><td>-0.42775078</td><td>⋯</td><td>-0.5733119</td><td> 1.6814219</td><td> 2.2866191</td><td>-0.6536465</td><td> 2.5000000</td><td>-0.1984271</td><td>-0.3202750</td><td>-0.4538117</td><td> 2.50000000</td><td>-0.2544881</td></tr>\n",
       "</tbody>\n",
       "</table>\n"
      ],
      "text/latex": [
       "A matrix: 6 × 29 of type dbl\n",
       "\\begin{tabular}{r|lllllllllllllllllllll}\n",
       "  & CD34 & CD38 & AVP & CRHBP & MLLT3 & GATA2 & TK1 & SPINK2 & ENO1 & CNRIP1 & ⋯ & ELANE & MPO & CDK6 & PCNA & CD36 & VCAM1 & FCGR3A & FCER1A & KIT & TPSB2\\\\\n",
       "\\hline\n",
       "\t20 & -0.1008998 &  0.7538699 & -0.6574690 & -0.7891342 & -0.86563819 & -0.7888908 & -0.3497049 &  0.7592736 & -0.7088965 & -0.40552419 & ⋯ & -0.1698967 & -0.3318992 & -0.4233446 & -0.2632546 &  0.5343637 & -0.1984271 & -0.3041018 &  0.3882957 &  0.03359987 & -0.3622798\\\\\n",
       "\t21 & -0.3957451 & -0.1814343 & -0.4887876 & -0.5256596 &  0.06819985 &  1.3429289 &  1.6885899 & -1.1308089 &  0.2216910 &  2.50000000 & ⋯ & -0.5900818 & -0.6398065 &  0.5401349 &  1.4112106 & -0.3496283 & -0.1959935 & -0.3175904 &  2.5000000 &  0.24887284 &  0.4992041\\\\\n",
       "\t22 &  1.5938470 & -0.8160769 &  2.5000000 &  2.5000000 &  1.30909991 &  0.5097826 & -0.4633508 &  0.9521357 &  1.1017816 & -0.41702858 & ⋯ & -0.6046473 & -0.4966855 &  0.3583540 & -0.4483312 & -0.6455171 & -0.1984271 & -0.3185340 & -0.2523860 &  1.36281305 & -0.1356175\\\\\n",
       "\t23 & -1.1837904 & -0.7238594 &  0.2781782 &  1.0645779 & -0.93870691 & -0.7380170 & -0.4889156 & -1.0216668 & -1.0582987 &  0.01458195 & ⋯ &  0.2533826 & -0.1035320 & -1.2343271 & -0.1697826 &  0.8640701 &  2.5000000 &  1.3535638 & -0.3658661 & -0.97519633 & -0.2808468\\\\\n",
       "\t24 & -0.8269304 &  0.7777775 & -0.6877399 & -0.8100726 & -1.09233526 & -0.8831814 &  2.3065263 & -1.1856930 & -0.2527531 & -0.40585916 & ⋯ & -0.6129236 & -0.7277152 &  1.7469787 &  2.5000000 & -0.6635979 & -0.1984271 & -0.3202750 & -0.4331821 & -1.29633437 & -0.3743718\\\\\n",
       "\t25 &  0.1171657 &  2.5000000 & -0.6995189 &  1.6107497 &  2.50000000 &  0.8474526 & -0.4889156 & -0.5848123 & -1.7362526 & -0.42775078 & ⋯ & -0.5733119 &  1.6814219 &  2.2866191 & -0.6536465 &  2.5000000 & -0.1984271 & -0.3202750 & -0.4538117 &  2.50000000 & -0.2544881\\\\\n",
       "\\end{tabular}\n"
      ],
      "text/markdown": [
       "\n",
       "A matrix: 6 × 29 of type dbl\n",
       "\n",
       "| <!--/--> | CD34 | CD38 | AVP | CRHBP | MLLT3 | GATA2 | TK1 | SPINK2 | ENO1 | CNRIP1 | ⋯ | ELANE | MPO | CDK6 | PCNA | CD36 | VCAM1 | FCGR3A | FCER1A | KIT | TPSB2 |\n",
       "|---|---|---|---|---|---|---|---|---|---|---|---|---|---|---|---|---|---|---|---|---|---|\n",
       "| 20 | -0.1008998 |  0.7538699 | -0.6574690 | -0.7891342 | -0.86563819 | -0.7888908 | -0.3497049 |  0.7592736 | -0.7088965 | -0.40552419 | ⋯ | -0.1698967 | -0.3318992 | -0.4233446 | -0.2632546 |  0.5343637 | -0.1984271 | -0.3041018 |  0.3882957 |  0.03359987 | -0.3622798 |\n",
       "| 21 | -0.3957451 | -0.1814343 | -0.4887876 | -0.5256596 |  0.06819985 |  1.3429289 |  1.6885899 | -1.1308089 |  0.2216910 |  2.50000000 | ⋯ | -0.5900818 | -0.6398065 |  0.5401349 |  1.4112106 | -0.3496283 | -0.1959935 | -0.3175904 |  2.5000000 |  0.24887284 |  0.4992041 |\n",
       "| 22 |  1.5938470 | -0.8160769 |  2.5000000 |  2.5000000 |  1.30909991 |  0.5097826 | -0.4633508 |  0.9521357 |  1.1017816 | -0.41702858 | ⋯ | -0.6046473 | -0.4966855 |  0.3583540 | -0.4483312 | -0.6455171 | -0.1984271 | -0.3185340 | -0.2523860 |  1.36281305 | -0.1356175 |\n",
       "| 23 | -1.1837904 | -0.7238594 |  0.2781782 |  1.0645779 | -0.93870691 | -0.7380170 | -0.4889156 | -1.0216668 | -1.0582987 |  0.01458195 | ⋯ |  0.2533826 | -0.1035320 | -1.2343271 | -0.1697826 |  0.8640701 |  2.5000000 |  1.3535638 | -0.3658661 | -0.97519633 | -0.2808468 |\n",
       "| 24 | -0.8269304 |  0.7777775 | -0.6877399 | -0.8100726 | -1.09233526 | -0.8831814 |  2.3065263 | -1.1856930 | -0.2527531 | -0.40585916 | ⋯ | -0.6129236 | -0.7277152 |  1.7469787 |  2.5000000 | -0.6635979 | -0.1984271 | -0.3202750 | -0.4331821 | -1.29633437 | -0.3743718 |\n",
       "| 25 |  0.1171657 |  2.5000000 | -0.6995189 |  1.6107497 |  2.50000000 |  0.8474526 | -0.4889156 | -0.5848123 | -1.7362526 | -0.42775078 | ⋯ | -0.5733119 |  1.6814219 |  2.2866191 | -0.6536465 |  2.5000000 | -0.1984271 | -0.3202750 | -0.4538117 |  2.50000000 | -0.2544881 |\n",
       "\n"
      ],
      "text/plain": [
       "   CD34       CD38       AVP        CRHBP      MLLT3       GATA2     \n",
       "20 -0.1008998  0.7538699 -0.6574690 -0.7891342 -0.86563819 -0.7888908\n",
       "21 -0.3957451 -0.1814343 -0.4887876 -0.5256596  0.06819985  1.3429289\n",
       "22  1.5938470 -0.8160769  2.5000000  2.5000000  1.30909991  0.5097826\n",
       "23 -1.1837904 -0.7238594  0.2781782  1.0645779 -0.93870691 -0.7380170\n",
       "24 -0.8269304  0.7777775 -0.6877399 -0.8100726 -1.09233526 -0.8831814\n",
       "25  0.1171657  2.5000000 -0.6995189  1.6107497  2.50000000  0.8474526\n",
       "   TK1        SPINK2     ENO1       CNRIP1      ⋯ ELANE      MPO       \n",
       "20 -0.3497049  0.7592736 -0.7088965 -0.40552419 ⋯ -0.1698967 -0.3318992\n",
       "21  1.6885899 -1.1308089  0.2216910  2.50000000 ⋯ -0.5900818 -0.6398065\n",
       "22 -0.4633508  0.9521357  1.1017816 -0.41702858 ⋯ -0.6046473 -0.4966855\n",
       "23 -0.4889156 -1.0216668 -1.0582987  0.01458195 ⋯  0.2533826 -0.1035320\n",
       "24  2.3065263 -1.1856930 -0.2527531 -0.40585916 ⋯ -0.6129236 -0.7277152\n",
       "25 -0.4889156 -0.5848123 -1.7362526 -0.42775078 ⋯ -0.5733119  1.6814219\n",
       "   CDK6       PCNA       CD36       VCAM1      FCGR3A     FCER1A    \n",
       "20 -0.4233446 -0.2632546  0.5343637 -0.1984271 -0.3041018  0.3882957\n",
       "21  0.5401349  1.4112106 -0.3496283 -0.1959935 -0.3175904  2.5000000\n",
       "22  0.3583540 -0.4483312 -0.6455171 -0.1984271 -0.3185340 -0.2523860\n",
       "23 -1.2343271 -0.1697826  0.8640701  2.5000000  1.3535638 -0.3658661\n",
       "24  1.7469787  2.5000000 -0.6635979 -0.1984271 -0.3202750 -0.4331821\n",
       "25  2.2866191 -0.6536465  2.5000000 -0.1984271 -0.3202750 -0.4538117\n",
       "   KIT         TPSB2     \n",
       "20  0.03359987 -0.3622798\n",
       "21  0.24887284  0.4992041\n",
       "22  1.36281305 -0.1356175\n",
       "23 -0.97519633 -0.2808468\n",
       "24 -1.29633437 -0.3743718\n",
       "25  2.50000000 -0.2544881"
      ]
     },
     "metadata": {},
     "output_type": "display_data"
    }
   ],
   "source": [
    "tail(exp_mat_t)"
   ]
  },
  {
   "cell_type": "code",
   "execution_count": 110,
   "metadata": {
    "vscode": {
     "languageId": "r"
    }
   },
   "outputs": [
    {
     "name": "stdout",
     "output_type": "stream",
     "text": [
      "          CD34        CD38         AVP       CRHBP       MLLT3       GATA2\n",
      "0   1.02114886 -0.72438849  2.50000000  2.10910610  1.06232138 -0.02165612\n",
      "1   2.07949537 -0.33188562 -0.02251023 -0.36054982 -0.10437477 -0.07101735\n",
      "2  -1.37068354 -1.16540338 -0.65286461 -0.56777644 -0.01815871 -0.84760444\n",
      "3   0.42869695 -0.51173044  0.62318438  0.98032645  0.49024678 -0.12024987\n",
      "4   0.20759812  0.42817677  0.08074057  0.80355190  1.08259595  2.50000000\n",
      "5   0.61780355 -0.32136343  0.88779533  0.68587432 -0.07605959 -0.11175692\n",
      "6   0.52274710 -0.12460464  0.23543641 -0.19546890 -0.27420689 -0.24200180\n",
      "7   1.15252622  0.60851020  0.31545720  0.08627811  0.08941574  0.15471964\n",
      "8  -0.51529817  0.99671735 -0.61551907 -0.77379868 -0.71583372 -0.12375371\n",
      "9  -1.45404771 -1.10418294 -0.68752437 -0.85452143 -0.48244218 -0.93629586\n",
      "10  0.09980386  0.14604908 -0.06369287 -0.57509284 -0.42487359 -0.29685656\n",
      "11 -1.18547515 -0.81835264 -0.61837136 -0.77279222 -1.01405637 -0.74815974\n",
      "12  0.27856381 -0.92055217 -0.06945233  0.49226925  1.91913786  2.42907000\n",
      "13  0.06943082  0.42977462 -0.17277809 -0.61029775 -0.48033879 -0.38558462\n",
      "14 -0.96814918 -0.57339778 -0.53488804 -0.78001604  0.26914196  0.53724432\n",
      "15 -1.42468355  0.63829524 -0.68158013 -0.84681297 -0.53554863 -0.92453757\n",
      "16 -0.39682838 -0.03326103 -0.07027463 -0.49899289 -0.58123288 -0.23255453\n",
      "17  1.17440787 -0.06948132 -0.48240441 -0.45744511 -0.24579723  0.02281449\n",
      "18 -0.83130870 -0.96153339 -0.62292929 -0.63557494 -0.94885359 -0.84856770\n",
      "19  1.29060495  0.98145842 -0.59631414 -0.49668029 -0.63601269 -0.61424900\n",
      "20 -0.10089980  0.75386988 -0.65746897 -0.78913415 -0.86563819 -0.78889079\n",
      "21 -0.39574513 -0.18143431 -0.48878760 -0.52565958  0.06819985  1.34292888\n",
      "22  1.59384696 -0.81607691  2.50000000  2.50000000  1.30909991  0.50978256\n",
      "23 -1.18379043 -0.72385935  0.27817816  1.06457791 -0.93870691 -0.73801698\n",
      "24 -0.82693044  0.77777748 -0.68773991 -0.81007255 -1.09233526 -0.88318137\n",
      "25  0.11716573  2.50000000 -0.69951894  1.61074969  2.50000000  0.84745258\n",
      "           TK1      SPINK2        ENO1      CNRIP1         HBD      GATA1\n",
      "0  -0.46077166  0.97614184  0.92846763 -0.40397712 -0.23281632 -0.3759717\n",
      "1  -0.45381550  2.23002534  1.26589380 -0.40929083 -0.23479033 -0.3812630\n",
      "2  -0.47332887 -1.14782434 -1.43834665 -0.41483848 -0.23504679 -0.3603694\n",
      "3  -0.45050682  0.52308105  0.04641372 -0.38841225 -0.22913532 -0.3615206\n",
      "4  -0.44620669 -0.56465913 -0.01215728  2.11310577 -0.15912367  0.9607862\n",
      "5  -0.45295149  0.95007991  0.90842286 -0.38592212 -0.23284457 -0.3742598\n",
      "6  -0.41553838  0.77783547  1.48645762 -0.37774816 -0.23232576 -0.3725575\n",
      "7  -0.46117248  0.99564420  0.93374172 -0.39508127 -0.23143997 -0.3676610\n",
      "8  -0.37591734 -0.08375339  0.74727779 -0.40726990 -0.22908356 -0.3729062\n",
      "9  -0.46760471 -1.27208989 -1.39280690 -0.41483077 -0.23635796 -0.3875404\n",
      "10  0.44663869  0.49777975  1.19596686 -0.37624751 -0.22867991 -0.3546184\n",
      "11 -0.44923204 -0.97076311 -0.58346937 -0.40111170 -0.21997383 -0.3432277\n",
      "12 -0.23243786  0.20339584  0.13300474  0.35927775 -0.05292922  0.7368172\n",
      "13  2.50000000  0.58144462  0.92609407 -0.37641722 -0.23039160 -0.3261640\n",
      "14  0.02835397 -1.16343043 -1.16622976  2.50000000  2.50000000  2.5000000\n",
      "15 -0.38801261 -1.25274682 -1.32160404 -0.42775078 -0.23580685 -0.3665725\n",
      "16  0.66763495 -0.12745814  0.48012364 -0.27165877 -0.19693947 -0.2121802\n",
      "17 -0.43902864  1.14679440  0.67345703 -0.41378645 -0.22784378 -0.3706617\n",
      "18 -0.43975298 -0.95464773 -1.28436512 -0.41911237 -0.22302701 -0.3867108\n",
      "19 -0.45776516  0.86672225 -0.09361405 -0.38250788 -0.23382031 -0.3500828\n",
      "20 -0.34970490  0.75927359 -0.70889653 -0.40552419 -0.22843290 -0.3713872\n",
      "21  1.68858993 -1.13080887  0.22169103  2.50000000  0.40856114  2.3495711\n",
      "22 -0.46335082  0.95213573  1.10178157 -0.41702858 -0.23573498 -0.3675504\n",
      "23 -0.48891563 -1.02166682 -1.05829867  0.01458195 -0.22500585 -0.3474628\n",
      "24  2.30652634 -1.18569305 -0.25275306 -0.40585916 -0.23956176 -0.3926085\n",
      "25 -0.48891563 -0.58481227 -1.73625264 -0.42775078 -0.23956176 -0.3926085\n",
      "       VPREB3      CD79B        CD63        HDC         IRF8      LGALS1\n",
      "0  -0.3307513 -0.2780368 -0.17063698 -0.3521728 -0.457521340 -0.23075482\n",
      "1  -0.3298249 -0.1420597  0.19213923 -0.3909906 -0.263883990  1.16311474\n",
      "2  -0.3321517 -0.3948399 -0.91811400 -0.4050531 -0.482466628 -0.97199185\n",
      "3  -0.3225899 -0.3090609 -0.43815710 -0.3247770 -0.427637056 -0.63512143\n",
      "4  -0.3304861 -0.3652040  0.47049885  0.6429193 -0.473285078 -0.23502707\n",
      "5  -0.3301864 -0.2963885 -0.29651262 -0.3792716 -0.400771687 -0.21538324\n",
      "6  -0.3298721 -0.2532062 -0.16823843 -0.3861312 -0.350604197  0.06251534\n",
      "7  -0.3315353 -0.2905298 -0.27317221 -0.3639883 -0.311028304  0.09232280\n",
      "8  -0.3321674 -0.3610107  0.21059167 -0.3803107  0.048118742  1.82014958\n",
      "9  -0.3318143 -0.3849675 -0.49181681 -0.4215572 -0.472485721 -0.74210492\n",
      "10 -0.3242456 -0.3408741 -0.14378275 -0.3367081 -0.329844620 -0.08871863\n",
      "11 -0.3297761 -0.3907929  0.53768291 -0.2949900  0.065151615  2.50000000\n",
      "12 -0.3315336 -0.4002244  1.53900950  2.5000000 -0.489061682 -0.58651248\n",
      "13 -0.3291819 -0.3850121 -0.29621059 -0.3383020  0.014525863 -0.15361922\n",
      "14 -0.3341421 -0.4601464 -0.50250922 -0.1082261 -0.466818348 -1.00193809\n",
      "15 -0.3280206 -0.2761347  0.38345050 -0.3604545 -0.268942740 -0.37541818\n",
      "16 -0.3187077 -0.3819143 -0.29542529 -0.2828581  0.097859015  1.31425087\n",
      "17 -0.3267914 -0.2436863  0.28331677 -0.3096575 -0.001971324  1.34962072\n",
      "18  0.7704923  1.8305568 -0.78602348 -0.3400697  0.974805270 -0.78159343\n",
      "19  2.5000000  2.5000000 -0.55963196 -0.3895076 -0.314510437 -0.58545340\n",
      "20 -0.2602215 -0.3337497 -0.24255531 -0.3971586  2.500000000  1.58865821\n",
      "21 -0.3349266 -0.4168197  0.06412907  0.4031014 -0.502898268 -0.92049468\n",
      "22 -0.3349266 -0.3148390 -0.28004241 -0.2760873 -0.449800445 -0.58764954\n",
      "23 -0.3349266 -0.3000920  2.50000000 -0.3806848  0.259074938  0.28237646\n",
      "24  2.5000000  2.2730775 -0.94201425 -0.4071695 -0.383225326 -1.11404521\n",
      "25 -0.2146817 -0.4859378 -0.99023102  2.5000000  0.877868466 -0.95599610\n",
      "          AZU1       ELANE         MPO        CDK6        PCNA       CD36\n",
      "0  -0.36644335 -0.54208746 -0.54358129  0.31971384 -0.51283187 -0.4501988\n",
      "1  -0.34648472 -0.53951819 -0.45671225  0.03549861 -0.49181987  1.0654057\n",
      "2  -0.41819450 -0.57867518 -0.71166148 -1.47868810 -0.48284343 -0.6901016\n",
      "3  -0.32732125 -0.46066725 -0.49393086  0.31987591 -0.46068028 -0.5818368\n",
      "4  -0.35966947 -0.53291625 -0.60180962  1.06035023 -0.44171969 -0.4794209\n",
      "5  -0.10904301 -0.08287854 -0.05300162  0.03636383 -0.45992080 -0.4579871\n",
      "6  -0.11620345  0.76287081  0.62486685  0.05134335 -0.32513235 -0.3258252\n",
      "7  -0.24061313 -0.50322418 -0.15654504  1.05409315 -0.44417187 -0.3756365\n",
      "8   1.57297059  2.50000000  2.50000000 -0.26952587 -0.28503640 -0.4340835\n",
      "9  -0.41306819 -0.56083616 -0.70224627 -1.56439074 -0.38254608 -0.6908083\n",
      "10  0.08746676  1.43905370  0.92169766  0.38196733  0.74401514 -0.4890940\n",
      "11 -0.17239256 -0.33936731 -0.56104712 -1.45682055 -0.53281554  0.9499002\n",
      "12 -0.34391446 -0.56457631 -0.41068685  0.61706307 -0.24450288 -0.3037620\n",
      "13  0.15320000  1.82027090  1.31321922  0.24212486  2.25376103 -0.5960013\n",
      "14 -0.36320049 -0.31067560 -0.51617595 -0.13032854  0.01432718  1.3708238\n",
      "15 -0.42341916 -0.61759855 -0.72798615 -1.49965881 -0.34208265 -0.6778945\n",
      "16  0.76514810  2.50000000  2.50000000 -0.09857974  0.25154655 -0.5181421\n",
      "17 -0.32843248 -0.49805885 -0.33286603 -0.29946380 -0.50457703  1.0302565\n",
      "18 -0.37839471 -0.28859328 -0.51716577 -1.34519775 -0.48917377 -0.6723539\n",
      "19 -0.41474065 -0.58416788 -0.67917856  0.74984477 -0.42300956 -0.1222275\n",
      "20 -0.35266556 -0.16989671 -0.33189923 -0.42334456 -0.26325455  0.5343637\n",
      "21 -0.38840890 -0.59008177 -0.63980647  0.54013488  1.41121061 -0.3496283\n",
      "22 -0.34744280 -0.60464731 -0.49668545  0.35835403 -0.44833118 -0.6455171\n",
      "23 -0.36656041  0.25338263 -0.10353201 -1.23432712 -0.16978257  0.8640701\n",
      "24 -0.40791713 -0.61292363 -0.72771516  1.74697866  2.50000000 -0.6635979\n",
      "25  2.50000000 -0.57331190  1.68142188  2.28661907 -0.65364651  2.5000000\n",
      "        VCAM1     FCGR3A      FCER1A         KIT       TPSB2\n",
      "0  -0.1979655 -0.3163924 -0.39417897  0.07241393 -0.16921181\n",
      "1  -0.1978699 -0.3176060 -0.43683520  0.07205016 -0.06420466\n",
      "2  -0.1977042 -0.3064120 -0.42821431 -1.26248251 -0.37917002\n",
      "3  -0.1956592 -0.3084617 -0.39394459  0.12780965 -0.24423380\n",
      "4  -0.1982246 -0.3162089  2.50000000  1.31860552  2.50000000\n",
      "5  -0.1983141 -0.3176909 -0.42240846  0.33785807 -0.25106263\n",
      "6  -0.1982420 -0.3171861 -0.42456867  0.35520473 -0.18242443\n",
      "7  -0.1980770 -0.3182071 -0.40623161  1.28675116 -0.21893869\n",
      "8  -0.1982553 -0.3180075 -0.42348477  0.51557735 -0.07410282\n",
      "9  -0.1624041  0.6968378 -0.45143476 -1.31609430 -0.39184037\n",
      "10 -0.1981609 -0.3146784 -0.39163250  0.62055052 -0.21501557\n",
      "11 -0.1936385  0.2412903 -0.29990513 -0.98805462 -0.33588721\n",
      "12 -0.1969446 -0.3122312  1.05582991 -0.39637709  0.22778683\n",
      "13 -0.1984271 -0.3154793 -0.34891989  1.06971145 -0.24653287\n",
      "14 -0.1972435 -0.3151841  0.00974504 -0.28760140 -0.10982155\n",
      "15 -0.1984271  2.5000000 -0.43578624 -1.31237190 -0.39254199\n",
      "16 -0.1984271 -0.3088783 -0.04756574 -0.09367454 -0.26941761\n",
      "17 -0.1984271 -0.2387819 -0.16520404  0.03013863  0.03456311\n",
      "18 -0.1922407 -0.2803868 -0.42672264 -1.06173390 -0.34684637\n",
      "19 -0.1984271 -0.3171657 -0.44800357 -1.02091511 -0.26634455\n",
      "20 -0.1984271 -0.3041018  0.38829570  0.03359987 -0.36227975\n",
      "21 -0.1959935 -0.3175904  2.50000000  0.24887284  0.49920415\n",
      "22 -0.1984271 -0.3185340 -0.25238604  1.36281305 -0.13561752\n",
      "23  2.5000000  1.3535638 -0.36586609 -0.97519633 -0.28084682\n",
      "24 -0.1984271 -0.3202750 -0.43318209 -1.29633437 -0.37437184\n",
      "25 -0.1984271 -0.3202750 -0.45381173  2.50000000 -0.25448809\n"
     ]
    }
   ],
   "source": [
    "print(exp_mat_t)"
   ]
  },
  {
   "cell_type": "code",
   "execution_count": 89,
   "metadata": {
    "vscode": {
     "languageId": "r"
    }
   },
   "outputs": [
    {
     "data": {
      "text/html": [
       "<style>\n",
       ".list-inline {list-style: none; margin:0; padding: 0}\n",
       ".list-inline>li {display: inline-block}\n",
       ".list-inline>li:not(:last-child)::after {content: \"\\00b7\"; padding: 0 .5ex}\n",
       "</style>\n",
       "<ol class=list-inline><li>11</li><li>23</li><li>18</li><li>15</li><li>2</li><li>9</li><li>16</li><li>8</li><li>10</li><li>25</li><li>20</li><li>12</li><li>19</li><li>24</li><li>21</li><li>14</li><li>4</li><li>13</li><li>3</li><li>5</li><li>6</li><li>7</li><li>17</li><li>1</li><li>0</li><li>22</li></ol>\n",
       "\n",
       "<details>\n",
       "\t<summary style=display:list-item;cursor:pointer>\n",
       "\t\t<strong>Levels</strong>:\n",
       "\t</summary>\n",
       "\t<style>\n",
       "\t.list-inline {list-style: none; margin:0; padding: 0}\n",
       "\t.list-inline>li {display: inline-block}\n",
       "\t.list-inline>li:not(:last-child)::after {content: \"\\00b7\"; padding: 0 .5ex}\n",
       "\t</style>\n",
       "\t<ol class=list-inline><li>'11'</li><li>'23'</li><li>'18'</li><li>'15'</li><li>'2'</li><li>'9'</li><li>'16'</li><li>'8'</li><li>'10'</li><li>'25'</li><li>'20'</li><li>'12'</li><li>'19'</li><li>'24'</li><li>'21'</li><li>'14'</li><li>'4'</li><li>'13'</li><li>'3'</li><li>'5'</li><li>'6'</li><li>'7'</li><li>'17'</li><li>'1'</li><li>'0'</li><li>'22'</li></ol>\n",
       "</details>"
      ],
      "text/latex": [
       "\\begin{enumerate*}\n",
       "\\item 11\n",
       "\\item 23\n",
       "\\item 18\n",
       "\\item 15\n",
       "\\item 2\n",
       "\\item 9\n",
       "\\item 16\n",
       "\\item 8\n",
       "\\item 10\n",
       "\\item 25\n",
       "\\item 20\n",
       "\\item 12\n",
       "\\item 19\n",
       "\\item 24\n",
       "\\item 21\n",
       "\\item 14\n",
       "\\item 4\n",
       "\\item 13\n",
       "\\item 3\n",
       "\\item 5\n",
       "\\item 6\n",
       "\\item 7\n",
       "\\item 17\n",
       "\\item 1\n",
       "\\item 0\n",
       "\\item 22\n",
       "\\end{enumerate*}\n",
       "\n",
       "\\emph{Levels}: \\begin{enumerate*}\n",
       "\\item '11'\n",
       "\\item '23'\n",
       "\\item '18'\n",
       "\\item '15'\n",
       "\\item '2'\n",
       "\\item '9'\n",
       "\\item '16'\n",
       "\\item '8'\n",
       "\\item '10'\n",
       "\\item '25'\n",
       "\\item '20'\n",
       "\\item '12'\n",
       "\\item '19'\n",
       "\\item '24'\n",
       "\\item '21'\n",
       "\\item '14'\n",
       "\\item '4'\n",
       "\\item '13'\n",
       "\\item '3'\n",
       "\\item '5'\n",
       "\\item '6'\n",
       "\\item '7'\n",
       "\\item '17'\n",
       "\\item '1'\n",
       "\\item '0'\n",
       "\\item '22'\n",
       "\\end{enumerate*}\n"
      ],
      "text/markdown": [
       "1. 11\n",
       "2. 23\n",
       "3. 18\n",
       "4. 15\n",
       "5. 2\n",
       "6. 9\n",
       "7. 16\n",
       "8. 8\n",
       "9. 10\n",
       "10. 25\n",
       "11. 20\n",
       "12. 12\n",
       "13. 19\n",
       "14. 24\n",
       "15. 21\n",
       "16. 14\n",
       "17. 4\n",
       "18. 13\n",
       "19. 3\n",
       "20. 5\n",
       "21. 6\n",
       "22. 7\n",
       "23. 17\n",
       "24. 1\n",
       "25. 0\n",
       "26. 22\n",
       "\n",
       "\n",
       "\n",
       "**Levels**: 1. '11'\n",
       "2. '23'\n",
       "3. '18'\n",
       "4. '15'\n",
       "5. '2'\n",
       "6. '9'\n",
       "7. '16'\n",
       "8. '8'\n",
       "9. '10'\n",
       "10. '25'\n",
       "11. '20'\n",
       "12. '12'\n",
       "13. '19'\n",
       "14. '24'\n",
       "15. '21'\n",
       "16. '14'\n",
       "17. '4'\n",
       "18. '13'\n",
       "19. '3'\n",
       "20. '5'\n",
       "21. '6'\n",
       "22. '7'\n",
       "23. '17'\n",
       "24. '1'\n",
       "25. '0'\n",
       "26. '22'\n",
       "\n",
       "\n"
      ],
      "text/plain": [
       " [1] 11 23 18 15 2  9  16 8  10 25 20 12 19 24 21 14 4  13 3  5  6  7  17 1  0 \n",
       "[26] 22\n",
       "26 Levels: 11 23 18 15 2 9 16 8 10 25 20 12 19 24 21 14 4 13 3 5 6 7 17 1 ... 22"
      ]
     },
     "metadata": {},
     "output_type": "display_data"
    }
   ],
   "source": [
    "clusternum_list_sorted"
   ]
  },
  {
   "cell_type": "code",
   "execution_count": 111,
   "metadata": {
    "vscode": {
     "languageId": "r"
    }
   },
   "outputs": [
    {
     "name": "stdout",
     "output_type": "stream",
     "text": [
      "          CD34        CD38         AVP       CRHBP       MLLT3       GATA2\n",
      "11 -1.18547515 -0.81835264 -0.61837136 -0.77279222 -1.01405637 -0.74815974\n",
      "23 -1.18379043 -0.72385935  0.27817816  1.06457791 -0.93870691 -0.73801698\n",
      "18 -0.83130870 -0.96153339 -0.62292929 -0.63557494 -0.94885359 -0.84856770\n",
      "15 -1.42468355  0.63829524 -0.68158013 -0.84681297 -0.53554863 -0.92453757\n",
      "2  -1.37068354 -1.16540338 -0.65286461 -0.56777644 -0.01815871 -0.84760444\n",
      "9  -1.45404771 -1.10418294 -0.68752437 -0.85452143 -0.48244218 -0.93629586\n",
      "16 -0.39682838 -0.03326103 -0.07027463 -0.49899289 -0.58123288 -0.23255453\n",
      "8  -0.51529817  0.99671735 -0.61551907 -0.77379868 -0.71583372 -0.12375371\n",
      "10  0.09980386  0.14604908 -0.06369287 -0.57509284 -0.42487359 -0.29685656\n",
      "13  0.06943082  0.42977462 -0.17277809 -0.61029775 -0.48033879 -0.38558462\n",
      "25  0.11716573  2.50000000 -0.69951894  1.61074969  2.50000000  0.84745258\n",
      "20 -0.10089980  0.75386988 -0.65746897 -0.78913415 -0.86563819 -0.78889079\n",
      "12  0.27856381 -0.92055217 -0.06945233  0.49226925  1.91913786  2.42907000\n",
      "19  1.29060495  0.98145842 -0.59631414 -0.49668029 -0.63601269 -0.61424900\n",
      "24 -0.82693044  0.77777748 -0.68773991 -0.81007255 -1.09233526 -0.88318137\n",
      "21 -0.39574513 -0.18143431 -0.48878760 -0.52565958  0.06819985  1.34292888\n",
      "14 -0.96814918 -0.57339778 -0.53488804 -0.78001604  0.26914196  0.53724432\n",
      "4   0.20759812  0.42817677  0.08074057  0.80355190  1.08259595  2.50000000\n",
      "3   0.42869695 -0.51173044  0.62318438  0.98032645  0.49024678 -0.12024987\n",
      "5   0.61780355 -0.32136343  0.88779533  0.68587432 -0.07605959 -0.11175692\n",
      "6   0.52274710 -0.12460464  0.23543641 -0.19546890 -0.27420689 -0.24200180\n",
      "7   1.15252622  0.60851020  0.31545720  0.08627811  0.08941574  0.15471964\n",
      "17  1.17440787 -0.06948132 -0.48240441 -0.45744511 -0.24579723  0.02281449\n",
      "1   2.07949537 -0.33188562 -0.02251023 -0.36054982 -0.10437477 -0.07101735\n",
      "0   1.02114886 -0.72438849  2.50000000  2.10910610  1.06232138 -0.02165612\n",
      "22  1.59384696 -0.81607691  2.50000000  2.50000000  1.30909991  0.50978256\n",
      "           TK1      SPINK2        ENO1      CNRIP1         HBD      GATA1\n",
      "11 -0.44923204 -0.97076311 -0.58346937 -0.40111170 -0.21997383 -0.3432277\n",
      "23 -0.48891563 -1.02166682 -1.05829867  0.01458195 -0.22500585 -0.3474628\n",
      "18 -0.43975298 -0.95464773 -1.28436512 -0.41911237 -0.22302701 -0.3867108\n",
      "15 -0.38801261 -1.25274682 -1.32160404 -0.42775078 -0.23580685 -0.3665725\n",
      "2  -0.47332887 -1.14782434 -1.43834665 -0.41483848 -0.23504679 -0.3603694\n",
      "9  -0.46760471 -1.27208989 -1.39280690 -0.41483077 -0.23635796 -0.3875404\n",
      "16  0.66763495 -0.12745814  0.48012364 -0.27165877 -0.19693947 -0.2121802\n",
      "8  -0.37591734 -0.08375339  0.74727779 -0.40726990 -0.22908356 -0.3729062\n",
      "10  0.44663869  0.49777975  1.19596686 -0.37624751 -0.22867991 -0.3546184\n",
      "13  2.50000000  0.58144462  0.92609407 -0.37641722 -0.23039160 -0.3261640\n",
      "25 -0.48891563 -0.58481227 -1.73625264 -0.42775078 -0.23956176 -0.3926085\n",
      "20 -0.34970490  0.75927359 -0.70889653 -0.40552419 -0.22843290 -0.3713872\n",
      "12 -0.23243786  0.20339584  0.13300474  0.35927775 -0.05292922  0.7368172\n",
      "19 -0.45776516  0.86672225 -0.09361405 -0.38250788 -0.23382031 -0.3500828\n",
      "24  2.30652634 -1.18569305 -0.25275306 -0.40585916 -0.23956176 -0.3926085\n",
      "21  1.68858993 -1.13080887  0.22169103  2.50000000  0.40856114  2.3495711\n",
      "14  0.02835397 -1.16343043 -1.16622976  2.50000000  2.50000000  2.5000000\n",
      "4  -0.44620669 -0.56465913 -0.01215728  2.11310577 -0.15912367  0.9607862\n",
      "3  -0.45050682  0.52308105  0.04641372 -0.38841225 -0.22913532 -0.3615206\n",
      "5  -0.45295149  0.95007991  0.90842286 -0.38592212 -0.23284457 -0.3742598\n",
      "6  -0.41553838  0.77783547  1.48645762 -0.37774816 -0.23232576 -0.3725575\n",
      "7  -0.46117248  0.99564420  0.93374172 -0.39508127 -0.23143997 -0.3676610\n",
      "17 -0.43902864  1.14679440  0.67345703 -0.41378645 -0.22784378 -0.3706617\n",
      "1  -0.45381550  2.23002534  1.26589380 -0.40929083 -0.23479033 -0.3812630\n",
      "0  -0.46077166  0.97614184  0.92846763 -0.40397712 -0.23281632 -0.3759717\n",
      "22 -0.46335082  0.95213573  1.10178157 -0.41702858 -0.23573498 -0.3675504\n",
      "       VPREB3      CD79B        CD63        HDC         IRF8      LGALS1\n",
      "11 -0.3297761 -0.3907929  0.53768291 -0.2949900  0.065151615  2.50000000\n",
      "23 -0.3349266 -0.3000920  2.50000000 -0.3806848  0.259074938  0.28237646\n",
      "18  0.7704923  1.8305568 -0.78602348 -0.3400697  0.974805270 -0.78159343\n",
      "15 -0.3280206 -0.2761347  0.38345050 -0.3604545 -0.268942740 -0.37541818\n",
      "2  -0.3321517 -0.3948399 -0.91811400 -0.4050531 -0.482466628 -0.97199185\n",
      "9  -0.3318143 -0.3849675 -0.49181681 -0.4215572 -0.472485721 -0.74210492\n",
      "16 -0.3187077 -0.3819143 -0.29542529 -0.2828581  0.097859015  1.31425087\n",
      "8  -0.3321674 -0.3610107  0.21059167 -0.3803107  0.048118742  1.82014958\n",
      "10 -0.3242456 -0.3408741 -0.14378275 -0.3367081 -0.329844620 -0.08871863\n",
      "13 -0.3291819 -0.3850121 -0.29621059 -0.3383020  0.014525863 -0.15361922\n",
      "25 -0.2146817 -0.4859378 -0.99023102  2.5000000  0.877868466 -0.95599610\n",
      "20 -0.2602215 -0.3337497 -0.24255531 -0.3971586  2.500000000  1.58865821\n",
      "12 -0.3315336 -0.4002244  1.53900950  2.5000000 -0.489061682 -0.58651248\n",
      "19  2.5000000  2.5000000 -0.55963196 -0.3895076 -0.314510437 -0.58545340\n",
      "24  2.5000000  2.2730775 -0.94201425 -0.4071695 -0.383225326 -1.11404521\n",
      "21 -0.3349266 -0.4168197  0.06412907  0.4031014 -0.502898268 -0.92049468\n",
      "14 -0.3341421 -0.4601464 -0.50250922 -0.1082261 -0.466818348 -1.00193809\n",
      "4  -0.3304861 -0.3652040  0.47049885  0.6429193 -0.473285078 -0.23502707\n",
      "3  -0.3225899 -0.3090609 -0.43815710 -0.3247770 -0.427637056 -0.63512143\n",
      "5  -0.3301864 -0.2963885 -0.29651262 -0.3792716 -0.400771687 -0.21538324\n",
      "6  -0.3298721 -0.2532062 -0.16823843 -0.3861312 -0.350604197  0.06251534\n",
      "7  -0.3315353 -0.2905298 -0.27317221 -0.3639883 -0.311028304  0.09232280\n",
      "17 -0.3267914 -0.2436863  0.28331677 -0.3096575 -0.001971324  1.34962072\n",
      "1  -0.3298249 -0.1420597  0.19213923 -0.3909906 -0.263883990  1.16311474\n",
      "0  -0.3307513 -0.2780368 -0.17063698 -0.3521728 -0.457521340 -0.23075482\n",
      "22 -0.3349266 -0.3148390 -0.28004241 -0.2760873 -0.449800445 -0.58764954\n",
      "          AZU1       ELANE         MPO        CDK6        PCNA       CD36\n",
      "11 -0.17239256 -0.33936731 -0.56104712 -1.45682055 -0.53281554  0.9499002\n",
      "23 -0.36656041  0.25338263 -0.10353201 -1.23432712 -0.16978257  0.8640701\n",
      "18 -0.37839471 -0.28859328 -0.51716577 -1.34519775 -0.48917377 -0.6723539\n",
      "15 -0.42341916 -0.61759855 -0.72798615 -1.49965881 -0.34208265 -0.6778945\n",
      "2  -0.41819450 -0.57867518 -0.71166148 -1.47868810 -0.48284343 -0.6901016\n",
      "9  -0.41306819 -0.56083616 -0.70224627 -1.56439074 -0.38254608 -0.6908083\n",
      "16  0.76514810  2.50000000  2.50000000 -0.09857974  0.25154655 -0.5181421\n",
      "8   1.57297059  2.50000000  2.50000000 -0.26952587 -0.28503640 -0.4340835\n",
      "10  0.08746676  1.43905370  0.92169766  0.38196733  0.74401514 -0.4890940\n",
      "13  0.15320000  1.82027090  1.31321922  0.24212486  2.25376103 -0.5960013\n",
      "25  2.50000000 -0.57331190  1.68142188  2.28661907 -0.65364651  2.5000000\n",
      "20 -0.35266556 -0.16989671 -0.33189923 -0.42334456 -0.26325455  0.5343637\n",
      "12 -0.34391446 -0.56457631 -0.41068685  0.61706307 -0.24450288 -0.3037620\n",
      "19 -0.41474065 -0.58416788 -0.67917856  0.74984477 -0.42300956 -0.1222275\n",
      "24 -0.40791713 -0.61292363 -0.72771516  1.74697866  2.50000000 -0.6635979\n",
      "21 -0.38840890 -0.59008177 -0.63980647  0.54013488  1.41121061 -0.3496283\n",
      "14 -0.36320049 -0.31067560 -0.51617595 -0.13032854  0.01432718  1.3708238\n",
      "4  -0.35966947 -0.53291625 -0.60180962  1.06035023 -0.44171969 -0.4794209\n",
      "3  -0.32732125 -0.46066725 -0.49393086  0.31987591 -0.46068028 -0.5818368\n",
      "5  -0.10904301 -0.08287854 -0.05300162  0.03636383 -0.45992080 -0.4579871\n",
      "6  -0.11620345  0.76287081  0.62486685  0.05134335 -0.32513235 -0.3258252\n",
      "7  -0.24061313 -0.50322418 -0.15654504  1.05409315 -0.44417187 -0.3756365\n",
      "17 -0.32843248 -0.49805885 -0.33286603 -0.29946380 -0.50457703  1.0302565\n",
      "1  -0.34648472 -0.53951819 -0.45671225  0.03549861 -0.49181987  1.0654057\n",
      "0  -0.36644335 -0.54208746 -0.54358129  0.31971384 -0.51283187 -0.4501988\n",
      "22 -0.34744280 -0.60464731 -0.49668545  0.35835403 -0.44833118 -0.6455171\n",
      "        VCAM1     FCGR3A      FCER1A         KIT       TPSB2\n",
      "11 -0.1936385  0.2412903 -0.29990513 -0.98805462 -0.33588721\n",
      "23  2.5000000  1.3535638 -0.36586609 -0.97519633 -0.28084682\n",
      "18 -0.1922407 -0.2803868 -0.42672264 -1.06173390 -0.34684637\n",
      "15 -0.1984271  2.5000000 -0.43578624 -1.31237190 -0.39254199\n",
      "2  -0.1977042 -0.3064120 -0.42821431 -1.26248251 -0.37917002\n",
      "9  -0.1624041  0.6968378 -0.45143476 -1.31609430 -0.39184037\n",
      "16 -0.1984271 -0.3088783 -0.04756574 -0.09367454 -0.26941761\n",
      "8  -0.1982553 -0.3180075 -0.42348477  0.51557735 -0.07410282\n",
      "10 -0.1981609 -0.3146784 -0.39163250  0.62055052 -0.21501557\n",
      "13 -0.1984271 -0.3154793 -0.34891989  1.06971145 -0.24653287\n",
      "25 -0.1984271 -0.3202750 -0.45381173  2.50000000 -0.25448809\n",
      "20 -0.1984271 -0.3041018  0.38829570  0.03359987 -0.36227975\n",
      "12 -0.1969446 -0.3122312  1.05582991 -0.39637709  0.22778683\n",
      "19 -0.1984271 -0.3171657 -0.44800357 -1.02091511 -0.26634455\n",
      "24 -0.1984271 -0.3202750 -0.43318209 -1.29633437 -0.37437184\n",
      "21 -0.1959935 -0.3175904  2.50000000  0.24887284  0.49920415\n",
      "14 -0.1972435 -0.3151841  0.00974504 -0.28760140 -0.10982155\n",
      "4  -0.1982246 -0.3162089  2.50000000  1.31860552  2.50000000\n",
      "3  -0.1956592 -0.3084617 -0.39394459  0.12780965 -0.24423380\n",
      "5  -0.1983141 -0.3176909 -0.42240846  0.33785807 -0.25106263\n",
      "6  -0.1982420 -0.3171861 -0.42456867  0.35520473 -0.18242443\n",
      "7  -0.1980770 -0.3182071 -0.40623161  1.28675116 -0.21893869\n",
      "17 -0.1984271 -0.2387819 -0.16520404  0.03013863  0.03456311\n",
      "1  -0.1978699 -0.3176060 -0.43683520  0.07205016 -0.06420466\n",
      "0  -0.1979655 -0.3163924 -0.39417897  0.07241393 -0.16921181\n",
      "22 -0.1984271 -0.3185340 -0.25238604  1.36281305 -0.13561752\n"
     ]
    }
   ],
   "source": [
    "# sort\n",
    "exp_mat_t_sorted = exp_mat_t[clusternum_list,] \n",
    "print(exp_mat_t_sorted)"
   ]
  },
  {
   "cell_type": "code",
   "execution_count": 112,
   "metadata": {
    "vscode": {
     "languageId": "r"
    }
   },
   "outputs": [
    {
     "name": "stdout",
     "output_type": "stream",
     "text": [
      "        CD34      CD38        AVP      CRHBP     MLLT3      GATA2        TK1\n",
      "11 10.202578 10.570902  2.0626151  2.5046041  5.156538  7.0718232  1.3627993\n",
      "23 11.578947 13.684211  2.1052632 20.0000000  7.368421  8.4210526  0.0000000\n",
      "18 10.630631  6.666667  1.2612613  1.9819820  4.504505  3.4234234  1.4414414\n",
      "15  3.291384 36.011617  0.4840271  0.3872217 12.197483  1.2584705  2.1297193\n",
      "2   2.705589  3.702385  0.4093984  2.0291919 23.175507  2.0647917  0.3737985\n",
      "9   2.180149  5.450373  0.1147447  0.2008032 14.888124  0.7745267  0.5163511\n",
      "16 47.017189 42.163802  8.7967644 11.5267947 22.649141 33.3670374 46.2082912\n",
      "8  43.754378 56.198926  3.0586038  4.4127948 18.608452 37.0768153  5.3934158\n",
      "10 70.424242 50.545455 12.4545455 10.4545455 31.969697 37.8484848 38.3939394\n",
      "13 70.076078 60.862215 11.2426036 11.3271344 33.643280 36.7709214 93.4065934\n",
      "25 25.000000 43.750000  0.0000000 12.5000000 25.000000 25.0000000  0.0000000\n",
      "20 44.111349 51.391863  2.1413276  4.9250535 13.704497 10.0642398  6.2098501\n",
      "12 64.202810 17.470984 10.2626756 20.5253513 50.030544 77.7031155 10.3237630\n",
      "19 54.297694 38.993711  1.8867925  5.2410901  6.918239 11.1111111  1.0482180\n",
      "24 25.974026 55.844156  1.2987013  2.5974026  3.896104  3.8961039 59.7402597\n",
      "21 67.944251 52.613240  8.7108014 17.0731707 52.613240 74.5644599 58.1881533\n",
      "14 35.683577 34.737747  5.2450559  3.9552880 46.861565 50.0429923 18.7446260\n",
      "4  61.155342 41.899648 14.7380115 30.3092020 42.751342 77.4486206  1.6478430\n",
      "3  47.418946 16.138381 13.0048904 20.6122079 25.502626 25.0860351  1.0143090\n",
      "5  70.680628 31.957310 16.3914619 24.1441804 29.399919 37.3741442  1.9734193\n",
      "6  77.030009 45.564872 14.1218005 15.8208297 32.480141 42.8729038  6.1562224\n",
      "7  81.953530 52.402436 14.0085721 20.7083239 39.070607 51.4324385  2.0979021\n",
      "17 66.829268 33.008130  3.5772358  9.2682927 23.414634 35.9349593  1.9512195\n",
      "1  82.114951 30.161486  9.4634485 13.9086647 28.598715 39.5728425  1.8753256\n",
      "0  72.904801 19.469952 30.8729513 37.1847030 41.950482 39.6605835  1.6157154\n",
      "22 83.402490 19.917012 39.8340249 65.5601660 51.452282 58.5062241  1.6597510\n",
      "      SPINK2     ENO1     CNRIP1       HBD       GATA1     VPREB3     CD79B\n",
      "11 20.699816 84.86188  0.7734807  8.692449  0.69981584  0.5156538 11.344383\n",
      "23 21.052632 66.31579 10.5263158  6.315789  1.05263158  0.0000000 11.578947\n",
      "18 17.837838 61.26126  0.1801802  6.306306  0.18018018 48.2882883 77.657658\n",
      "15  4.743466 66.50532  0.0000000  1.936108  0.19361084  0.8712488 22.458858\n",
      "2  10.626557 69.22392  0.1779993  1.744393  0.26699893  0.2491990 10.982556\n",
      "9   3.184165 70.56799  0.2008032  1.319564  0.05737235  0.3155479 12.191624\n",
      "16 57.937310 95.75329  5.1567240 18.503539  3.43781598  0.9100101 23.053589\n",
      "8  73.102965 97.12818  1.0273173  8.638805  0.51365865  0.5136587 26.756946\n",
      "10 83.181818 99.27273  3.6060606 12.909091  1.09090909  1.4545455 39.030303\n",
      "13 82.163990 99.57735  3.5502959 13.355875  1.69061708  1.1834320 32.713440\n",
      "25 43.750000 37.50000  0.0000000  0.000000  0.00000000  6.2500000  0.000000\n",
      "20 68.308351 89.07923  0.8565310  6.852248  0.21413276  2.9978587 26.766595\n",
      "12 68.540012 96.09041 16.5546732 15.577276 18.87599267  0.6719609 17.837508\n",
      "19 60.377358 76.72956  1.0482180  2.096436  0.62893082 45.7023061 74.633124\n",
      "24 25.974026 85.71429  1.2987013  0.000000  0.00000000 77.9220779 85.714286\n",
      "21 37.630662 98.25784 73.1707317 64.808362 62.71777003  0.0000000 22.648084\n",
      "14 18.228719 75.40843 53.7403267 75.924334 65.09028375  0.3439381  8.684437\n",
      "4  54.545455 94.00111 37.2893909 22.643955 22.38474357  0.6109980 22.495834\n",
      "3  69.896758 84.20576  0.8331824  4.401377  0.38036588  0.6158305 19.108857\n",
      "5  89.609344 98.71124  1.5706806  7.209021  0.40273862  0.8457511 33.830044\n",
      "6  85.679612 99.75728  3.4421889 11.562224  0.79435128  1.1032657 48.676081\n",
      "7  95.217686 99.52628  1.4888337  9.271374  0.76697496  0.7669750 39.747349\n",
      "17 85.040650 95.77236  0.4878049  7.642276  0.48780488  0.9756098 31.056911\n",
      "1  93.818371 99.11443  0.7640215  5.313422  0.27782601  0.5903803 45.441917\n",
      "0  92.235267 97.51250  0.8950366  5.811926  0.39521097  0.6509357 31.826107\n",
      "22 95.850622 98.34025  0.4149378  2.489627  0.41493776  0.0000000 29.460581\n",
      "       CD63        HDC       IRF8    LGALS1      AZU1     ELANE       MPO\n",
      "11 85.23020  4.3462247 22.8360958 97.863720 26.151013 16.095764 20.847145\n",
      "23 95.78947  2.1052632 17.8947368 80.000000 10.526316 33.684211 32.631579\n",
      "18 37.83784  1.9819820 40.5405405 37.837838  7.567568 12.972973 18.918919\n",
      "15 84.02711  1.3552759  9.0029042 65.440465  1.258470  2.226525  4.743466\n",
      "2  35.65326  0.7119972  1.1391954 21.199715  1.495194  3.417586  5.357779\n",
      "9  61.10155  0.4876649  1.4343087 41.767068  2.352266  4.245554  5.421687\n",
      "16 83.72093  8.1900910 23.2558140 70.576340 57.633974 44.994944 67.846309\n",
      "8  89.58674  4.0859211 25.5428438 84.847070 74.433808 52.276442 61.639038\n",
      "10 92.39394  6.3333333 12.4848485 63.515152 38.272727 24.181818 52.000000\n",
      "13 92.56128  7.3541843 21.6398986 66.610313 45.477599 28.148774 60.862215\n",
      "25 18.75000  6.2500000 18.7500000 25.000000 56.250000  6.250000 25.000000\n",
      "20 83.51178  2.7837259 75.3747323 91.862955 13.704497  9.635974 28.693790\n",
      "12 96.94563 59.9266952  1.7104459 54.367746 17.409896  8.613317 35.064142\n",
      "19 54.50734  1.8867925  7.5471698 36.687631  3.354298  3.144654 11.740042\n",
      "24 53.24675  3.8961039 12.9870130  7.792208  5.194805  6.493506 15.584416\n",
      "21 96.51568 24.0418118  0.6968641 45.296167 16.027875  7.665505 25.783972\n",
      "14 66.55202 12.5537403  1.8056750 23.129837 19.260533 17.024936 31.986242\n",
      "4  92.09406 20.6628402  2.3884466 57.433809 12.182929  7.998519 22.366228\n",
      "3  61.65550  3.9123347  2.7168991 37.728672  6.864698  4.962869 17.044014\n",
      "5  85.48127  3.7253323  6.4639549 56.101490 21.325010 12.343939 30.064438\n",
      "6  93.24801  4.7661077 11.1650485 65.203001 33.583407 20.388350 44.571933\n",
      "7  89.64584  5.5267313 12.2264832 70.042860 25.716219 10.805324 37.514099\n",
      "17 92.84553  7.4796748 23.4146341 89.105691 19.837398 10.243902 26.829268\n",
      "1  93.14117  3.5249175 14.9505122 84.042368 14.898420  6.841466 22.052440\n",
      "0  85.45856  4.6611647  3.4290364 54.794839 11.147274  6.242009 20.864815\n",
      "22 82.15768 12.4481328  6.2240664 57.261411 17.842324 10.788382 31.950207\n",
      "       CDK6      PCNA       CD36       VCAM1     FCGR3A     FCER1A        KIT\n",
      "11 21.91529  8.876611 49.2081031  0.29465930 12.7808471  4.6777164  5.4880295\n",
      "23 24.21053 15.789474 21.0526316 63.15789474 29.4736842  1.0526316  4.2105263\n",
      "18 19.81982  9.369369  1.0810811  0.18018018  2.5225225  0.9009009  3.0630631\n",
      "15 20.13553 15.198451  1.0648596  0.00000000 93.1268151  0.7744434  1.3552759\n",
      "2  15.41474 11.908152  0.4627981  0.03559986  1.6909932  0.3381986  0.9255963\n",
      "9  17.12565 15.433161  0.4589788  1.11876076 41.1933448  0.1434309  1.0040161\n",
      "16 74.21638 54.499494  9.7067745  0.00000000  0.7077856 11.6279070 28.6147624\n",
      "8  81.13472 31.800140 12.0709783  0.02334812  0.3969180  2.8017745 35.8160168\n",
      "10 95.00000 80.606061 10.0000000  0.06060606  1.0606061  4.0303030 45.9393939\n",
      "13 94.33643 96.365173  7.6077768  0.00000000  0.5917160  7.2696534 57.0583263\n",
      "25 68.75000  0.000000 18.7500000  0.00000000  0.0000000  0.0000000 25.0000000\n",
      "20 70.66381 32.119914 39.4004283  0.00000000  0.8565310 31.2633833 27.4089936\n",
      "12 87.59927 31.459988  8.1246182  0.24434942  0.6719609 40.3176542 21.0140501\n",
      "19 78.19706 12.997904  9.8532495  0.00000000  0.2096436  0.2096436  4.8218029\n",
      "24 92.20779 84.415584  1.2987013  0.00000000  0.0000000  2.5974026  2.5974026\n",
      "21 95.81882 91.986063 21.9512195  0.34843206  0.6968641 69.6864111 39.0243902\n",
      "14 66.72399 49.269132 67.6698194  0.25795357  0.8598452 22.9578676 27.5150473\n",
      "4  88.92798 19.625995  6.8320681  0.01851509  0.6295131 44.0659137 29.1057212\n",
      "3  65.60406 10.143090  2.8799131  0.05433798  1.0143090  2.6625611 14.8161565\n",
      "5  86.42771 17.358035  8.3366895  0.02013693  0.4228756  2.7587596 28.7958115\n",
      "6  94.35128 38.570168 12.4227714  0.04413063  0.6840247  3.4642542 39.7837599\n",
      "7  96.52605 24.949244 11.3467178  0.04511617  0.4511617  3.9927814 46.6275660\n",
      "17 80.32520 14.959350 32.6829268  0.00000000  2.6016260  3.0894309 24.2276423\n",
      "1  88.05348 17.225213 31.8284424  0.06945650  0.3299184  1.6495919 27.1054002\n",
      "0  85.27258 13.867256  7.4276415  0.04649541  0.4882018  3.0686970 23.3406951\n",
      "22 89.21162 19.917012  3.3195021  0.00000000  0.4149378  9.1286307 41.9087137\n",
      "        TPSB2\n",
      "11  2.8729282\n",
      "23  3.1578947\n",
      "18  2.5225225\n",
      "15  0.4840271\n",
      "2   0.6763973\n",
      "9   0.4016064\n",
      "16 12.4368049\n",
      "8  23.4882092\n",
      "10 20.8181818\n",
      "13 17.2442942\n",
      "25  6.2500000\n",
      "20  3.8543897\n",
      "12 18.6316432\n",
      "19  2.0964361\n",
      "24  1.2987013\n",
      "21 40.7665505\n",
      "14 23.5597592\n",
      "4  48.0466580\n",
      "3   8.7846405\n",
      "5  14.0153041\n",
      "6  21.1385702\n",
      "7  17.0087977\n",
      "17 16.0975610\n",
      "1  17.1383921\n",
      "0  11.9376962\n",
      "22 22.8215768\n"
     ]
    }
   ],
   "source": [
    "  ## sort\n",
    "  percent_mat_t_sorted = percent_mat_t[clusternum_list,]\n",
    "  print(percent_mat_t_sorted)"
   ]
  },
  {
   "cell_type": "code",
   "execution_count": 113,
   "metadata": {
    "vscode": {
     "languageId": "r"
    }
   },
   "outputs": [],
   "source": [
    "## To make the size of the dot in the heatmap body comparable to the legend, I used fixed\n",
    "## size unit.(2, \"mm) rather than min(unit.c(w, h).\n",
    "\n",
    "layer_fun = function(j, i, x, y, w, h, fill){\n",
    "          grid.rect(x = x, y = y, width = w, height = h, \n",
    "                    gp = gpar(col = NA, fill = NA))\n",
    "          grid.circle(x=x,y=y,r= pindex(percent_mat_t_sorted, i, j)/100 * unit(3, \"mm\"),\n",
    "                      gp = gpar(fill = col_fun(pindex(exp_mat_t_sorted, i, j)), col = NA))}\n",
    "\n",
    "lgd_list = list(\n",
    "    Legend( labels = c(0,0.25,0.5,0.75,1), title = \"Percent Expressed\", gap = unit(3.5, \"mm\"), ncol=5,# 设置间隔大小\n",
    "            graphics = list(\n",
    "              function(x, y, w, h) grid.circle(x = x, y = y, r = 0 * unit(3, \"mm\"),\n",
    "                                               gp = gpar(fill = \"black\")),\n",
    "              function(x, y, w, h) grid.circle(x = x, y = y, r = 0.25 * unit(3, \"mm\"),\n",
    "                                               gp = gpar(fill = \"black\")),\n",
    "              function(x, y, w, h) grid.circle(x = x, y = y, r = 0.5 * unit(3, \"mm\"),\n",
    "                                               gp = gpar(fill = \"black\")),\n",
    "              function(x, y, w, h) grid.circle(x = x, y = y, r = 0.75 * unit(3, \"mm\"),\n",
    "                                               gp = gpar(fill = \"black\")),\n",
    "              function(x, y, w, h) grid.circle(x = x, y = y, r = 1 * unit(3, \"mm\"),\n",
    "                                               gp = gpar(fill = \"black\")))\n",
    "))"
   ]
  },
  {
   "cell_type": "code",
   "execution_count": null,
   "metadata": {
    "vscode": {
     "languageId": "r"
    }
   },
   "outputs": [],
   "source": []
  },
  {
   "cell_type": "code",
   "execution_count": 132,
   "metadata": {
    "vscode": {
     "languageId": "r"
    }
   },
   "outputs": [],
   "source": [
    "row_ha_right = rowAnnotation(DefineClass = clustertype_list)  # 不能输入factor因子"
   ]
  },
  {
   "cell_type": "code",
   "execution_count": 150,
   "metadata": {
    "vscode": {
     "languageId": "r"
    }
   },
   "outputs": [
    {
     "data": {
      "text/html": [
       "<style>\n",
       ".list-inline {list-style: none; margin:0; padding: 0}\n",
       ".list-inline>li {display: inline-block}\n",
       ".list-inline>li:not(:last-child)::after {content: \"\\00b7\"; padding: 0 .5ex}\n",
       "</style>\n",
       "<ol class=list-inline><li>'0'</li><li>'1'</li><li>'2'</li><li>'3'</li><li>'4'</li><li>'5'</li><li>'6'</li><li>'7'</li><li>'8'</li><li>'9'</li><li>'10'</li><li>'11'</li><li>'12'</li><li>'13'</li><li>'14'</li><li>'15'</li><li>'16'</li><li>'17'</li><li>'18'</li><li>'19'</li><li>'20'</li><li>'21'</li><li>'22'</li><li>'23'</li><li>'24'</li><li>'25'</li><li>'26'</li><li>'27'</li><li>'28'</li><li>'29'</li></ol>\n"
      ],
      "text/latex": [
       "\\begin{enumerate*}\n",
       "\\item '0'\n",
       "\\item '1'\n",
       "\\item '2'\n",
       "\\item '3'\n",
       "\\item '4'\n",
       "\\item '5'\n",
       "\\item '6'\n",
       "\\item '7'\n",
       "\\item '8'\n",
       "\\item '9'\n",
       "\\item '10'\n",
       "\\item '11'\n",
       "\\item '12'\n",
       "\\item '13'\n",
       "\\item '14'\n",
       "\\item '15'\n",
       "\\item '16'\n",
       "\\item '17'\n",
       "\\item '18'\n",
       "\\item '19'\n",
       "\\item '20'\n",
       "\\item '21'\n",
       "\\item '22'\n",
       "\\item '23'\n",
       "\\item '24'\n",
       "\\item '25'\n",
       "\\item '26'\n",
       "\\item '27'\n",
       "\\item '28'\n",
       "\\item '29'\n",
       "\\end{enumerate*}\n"
      ],
      "text/markdown": [
       "1. '0'\n",
       "2. '1'\n",
       "3. '2'\n",
       "4. '3'\n",
       "5. '4'\n",
       "6. '5'\n",
       "7. '6'\n",
       "8. '7'\n",
       "9. '8'\n",
       "10. '9'\n",
       "11. '10'\n",
       "12. '11'\n",
       "13. '12'\n",
       "14. '13'\n",
       "15. '14'\n",
       "16. '15'\n",
       "17. '16'\n",
       "18. '17'\n",
       "19. '18'\n",
       "20. '19'\n",
       "21. '20'\n",
       "22. '21'\n",
       "23. '22'\n",
       "24. '23'\n",
       "25. '24'\n",
       "26. '25'\n",
       "27. '26'\n",
       "28. '27'\n",
       "29. '28'\n",
       "30. '29'\n",
       "\n",
       "\n"
      ],
      "text/plain": [
       " [1] \"0\"  \"1\"  \"2\"  \"3\"  \"4\"  \"5\"  \"6\"  \"7\"  \"8\"  \"9\"  \"10\" \"11\" \"12\" \"13\" \"14\"\n",
       "[16] \"15\" \"16\" \"17\" \"18\" \"19\" \"20\" \"21\" \"22\" \"23\" \"24\" \"25\" \"26\" \"27\" \"28\" \"29\""
      ]
     },
     "metadata": {},
     "output_type": "display_data"
    }
   ],
   "source": [
    "as.character(seq(0,29))"
   ]
  },
  {
   "cell_type": "code",
   "execution_count": 157,
   "metadata": {
    "vscode": {
     "languageId": "r"
    }
   },
   "outputs": [],
   "source": [
    "column_ha = HeatmapAnnotation(GeneClass = genetype_list) # 不能输入factor因子"
   ]
  },
  {
   "cell_type": "code",
   "execution_count": 116,
   "metadata": {
    "vscode": {
     "languageId": "r"
    }
   },
   "outputs": [
    {
     "data": {
      "text/html": [
       "<style>\n",
       ".list-inline {list-style: none; margin:0; padding: 0}\n",
       ".list-inline>li {display: inline-block}\n",
       ".list-inline>li:not(:last-child)::after {content: \"\\00b7\"; padding: 0 .5ex}\n",
       "</style>\n",
       "<ol class=list-inline><li>'11'</li><li>'23'</li><li>'18'</li><li>'15'</li><li>'2'</li><li>'9'</li><li>'16'</li><li>'8'</li><li>'10'</li><li>'13'</li><li>'25'</li><li>'20'</li><li>'12'</li><li>'19'</li><li>'24'</li><li>'21'</li><li>'14'</li><li>'4'</li><li>'3'</li><li>'5'</li><li>'6'</li><li>'7'</li><li>'17'</li><li>'1'</li><li>'0'</li><li>'22'</li></ol>\n"
      ],
      "text/latex": [
       "\\begin{enumerate*}\n",
       "\\item '11'\n",
       "\\item '23'\n",
       "\\item '18'\n",
       "\\item '15'\n",
       "\\item '2'\n",
       "\\item '9'\n",
       "\\item '16'\n",
       "\\item '8'\n",
       "\\item '10'\n",
       "\\item '13'\n",
       "\\item '25'\n",
       "\\item '20'\n",
       "\\item '12'\n",
       "\\item '19'\n",
       "\\item '24'\n",
       "\\item '21'\n",
       "\\item '14'\n",
       "\\item '4'\n",
       "\\item '3'\n",
       "\\item '5'\n",
       "\\item '6'\n",
       "\\item '7'\n",
       "\\item '17'\n",
       "\\item '1'\n",
       "\\item '0'\n",
       "\\item '22'\n",
       "\\end{enumerate*}\n"
      ],
      "text/markdown": [
       "1. '11'\n",
       "2. '23'\n",
       "3. '18'\n",
       "4. '15'\n",
       "5. '2'\n",
       "6. '9'\n",
       "7. '16'\n",
       "8. '8'\n",
       "9. '10'\n",
       "10. '13'\n",
       "11. '25'\n",
       "12. '20'\n",
       "13. '12'\n",
       "14. '19'\n",
       "15. '24'\n",
       "16. '21'\n",
       "17. '14'\n",
       "18. '4'\n",
       "19. '3'\n",
       "20. '5'\n",
       "21. '6'\n",
       "22. '7'\n",
       "23. '17'\n",
       "24. '1'\n",
       "25. '0'\n",
       "26. '22'\n",
       "\n",
       "\n"
      ],
      "text/plain": [
       " [1] \"11\" \"23\" \"18\" \"15\" \"2\"  \"9\"  \"16\" \"8\"  \"10\" \"13\" \"25\" \"20\" \"12\" \"19\" \"24\"\n",
       "[16] \"21\" \"14\" \"4\"  \"3\"  \"5\"  \"6\"  \"7\"  \"17\" \"1\"  \"0\"  \"22\""
      ]
     },
     "metadata": {},
     "output_type": "display_data"
    }
   ],
   "source": [
    "clusternum_list_unique"
   ]
  },
  {
   "cell_type": "code",
   "execution_count": 159,
   "metadata": {
    "vscode": {
     "languageId": "r"
    }
   },
   "outputs": [
    {
     "data": {
      "text/html": [
       "<strong>png:</strong> 2"
      ],
      "text/latex": [
       "\\textbf{png:} 2"
      ],
      "text/markdown": [
       "**png:** 2"
      ],
      "text/plain": [
       "png \n",
       "  2 "
      ]
     },
     "metadata": {},
     "output_type": "display_data"
    }
   ],
   "source": [
    "# 版本2 行自动聚类；列不聚类，固定顺序；\n",
    "output_f_path = file.path(output_dir,\"GSE_Rice_heatmap_4_2_7.png\")\n",
    "png(output_f_path, width = 9500/2.54, height = 6200/2.54,res = 300)\n",
    "\n",
    "set.seed(123)    \n",
    "heatmap_plot_1 <- Heatmap(exp_mat_t_sorted,\n",
    "        cluster_rows = FALSE, # 关闭行聚类\n",
    "        right_annotation = row_ha,\n",
    "        # left_annotation = row_ha,        \n",
    "        top_annotation = column_ha,\n",
    "        column_order = gene_list_unique, # order不能输入带有因子的变量\n",
    "        row_order = clusternum_list_unique,# order不能输入带有因子的变量\n",
    "\n",
    "\n",
    "        column_title = \" Dot plot showing the average scaled expression for marker genes\", # 图片标题\n",
    "        # row_title = \"ClustersNum\",\n",
    "        heatmap_legend_param=list(title=\"Average Expression\",labels = c(\"\",-1,0,1,2,\"\")), # 图例标题\n",
    "        \n",
    "        col=col_fun, # 定义图例颜色\n",
    "        rect_gp = gpar(type = \"none\"), #单元格间隔，取消\n",
    "        layer_fun = layer_fun,  # 图例，表达百分比\n",
    "        \n",
    "        row_names_gp = gpar(fontsize = 10), #\n",
    "        column_names_gp = gpar(fontsize = 10), #\n",
    "        # row_km = 4,\n",
    "        border = \"black\",\n",
    "        column_names_rot = 45,\n",
    "        )\n",
    "\n",
    "heatmap_plot_2 = draw(heatmap_plot_1, annotation_legend_list = lgd_list)\n",
    "dev.off()\n",
    "\n",
    "## pdf\n",
    "seurat_object_plot = as.ggplot(heatmap_plot_1)\n",
    "output_f_path = file.path(output_dir,\"GSE_Rice_heatmap_4_2_7.pdf\")\n",
    "ggsave(filename=output_f_path,plot=seurat_object_plot,device=pdf,width=297,height=210,units=\"mm\")"
   ]
  },
  {
   "cell_type": "code",
   "execution_count": null,
   "metadata": {
    "vscode": {
     "languageId": "r"
    }
   },
   "outputs": [],
   "source": [
    "  column_split_list = celltype_list_sorted\n",
    "  \n",
    "  row_ha = rowAnnotation(FunctionGeneType = fungene_type_list_sorted)\n",
    "  \n",
    "  column_ha = HeatmapAnnotation(\n",
    "    empty = anno_empty(border = FALSE),\n",
    "    foo = anno_block(gp = gpar(col = \"white\",fontsize = 6),\n",
    "                     labels = celltype_list_unique),\n",
    "    CellTypeCluster = celltype_list_sorted\n",
    "  )\n",
    "  \n",
    "  \n",
    "  seurat_object_plot = Heatmap(res_diffgene_keep_mtx_zscore,\n",
    "                               cluster_rows = FALSE,\n",
    "                               column_split = column_split_list,\n",
    "                               right_annotation = row_ha,top_annotation = column_ha,\n",
    "                               column_title = \"Function genes res1.5\",\n",
    "                               rect_gp = gpar(col = \"white\", lwd = 1),\n",
    "                               row_split = fungene_type_list_sorted,\n",
    "                               row_order = fungene_list_unique,\n",
    "                               column_order = order(celltype_list),\n",
    "                               name =  \"Z-score\", col = col_fun)\n",
    "  \n",
    "  seurat_object_plot"
   ]
  }
 ],
 "metadata": {
  "kernelspec": {
   "display_name": "R",
   "language": "R",
   "name": "ir"
  },
  "language_info": {
   "codemirror_mode": "r",
   "file_extension": ".r",
   "mimetype": "text/x-r-source",
   "name": "R",
   "pygments_lexer": "r",
   "version": "4.3.3"
  }
 },
 "nbformat": 4,
 "nbformat_minor": 2
}
