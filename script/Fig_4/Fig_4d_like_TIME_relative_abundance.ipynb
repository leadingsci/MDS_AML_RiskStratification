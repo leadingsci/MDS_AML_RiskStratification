{
 "cells": [
  {
   "cell_type": "code",
   "execution_count": 1,
   "metadata": {
    "vscode": {
     "languageId": "r"
    }
   },
   "outputs": [
    {
     "data": {
      "text/html": [
       "<style>\n",
       ".list-inline {list-style: none; margin:0; padding: 0}\n",
       ".list-inline>li {display: inline-block}\n",
       ".list-inline>li:not(:last-child)::after {content: \"\\00b7\"; padding: 0 .5ex}\n",
       "</style>\n",
       "<ol class=list-inline><li>'/share/home/bioinfo/anaconda3/envs/R-4.2.3/lib/R/library'</li><li>'/share/home/wyz/miniconda3/envs/R423base_ipynb/lib/R/library'</li></ol>\n"
      ],
      "text/latex": [
       "\\begin{enumerate*}\n",
       "\\item '/share/home/bioinfo/anaconda3/envs/R-4.2.3/lib/R/library'\n",
       "\\item '/share/home/wyz/miniconda3/envs/R423base\\_ipynb/lib/R/library'\n",
       "\\end{enumerate*}\n"
      ],
      "text/markdown": [
       "1. '/share/home/bioinfo/anaconda3/envs/R-4.2.3/lib/R/library'\n",
       "2. '/share/home/wyz/miniconda3/envs/R423base_ipynb/lib/R/library'\n",
       "\n",
       "\n"
      ],
      "text/plain": [
       "[1] \"/share/home/bioinfo/anaconda3/envs/R-4.2.3/lib/R/library\"    \n",
       "[2] \"/share/home/wyz/miniconda3/envs/R423base_ipynb/lib/R/library\""
      ]
     },
     "metadata": {},
     "output_type": "display_data"
    }
   ],
   "source": [
    "rm(list = ls())\n",
    "\n",
    "# libPaths --------------------------------------------------------------------\n",
    ".libPaths(c(\n",
    "  \"/share/home/bioinfo/anaconda3/envs/R-4.2.3/lib/R/library\"\n",
    "))\n",
    "\n",
    ".libPaths()\n",
    "options(warn=1)"
   ]
  },
  {
   "cell_type": "code",
   "execution_count": 2,
   "metadata": {
    "vscode": {
     "languageId": "r"
    }
   },
   "outputs": [
    {
     "name": "stderr",
     "output_type": "stream",
     "text": [
      "── \u001b[1mAttaching core tidyverse packages\u001b[22m ──────────────────────── tidyverse 2.0.0 ──\n",
      "\u001b[32m✔\u001b[39m \u001b[34mdplyr    \u001b[39m 1.1.4     \u001b[32m✔\u001b[39m \u001b[34mstringr  \u001b[39m 1.5.0\n",
      "\u001b[32m✔\u001b[39m \u001b[34mforcats  \u001b[39m 1.0.0     \u001b[32m✔\u001b[39m \u001b[34mtibble   \u001b[39m 3.2.1\n",
      "\u001b[32m✔\u001b[39m \u001b[34mlubridate\u001b[39m 1.9.3     \u001b[32m✔\u001b[39m \u001b[34mtidyr    \u001b[39m 1.3.1\n",
      "\u001b[32m✔\u001b[39m \u001b[34mpurrr    \u001b[39m 1.0.2     \n",
      "── \u001b[1mConflicts\u001b[22m ────────────────────────────────────────── tidyverse_conflicts() ──\n",
      "\u001b[31m✖\u001b[39m \u001b[34mdplyr\u001b[39m::\u001b[32mfilter()\u001b[39m masks \u001b[34mstats\u001b[39m::filter()\n",
      "\u001b[31m✖\u001b[39m \u001b[34mdplyr\u001b[39m::\u001b[32mlag()\u001b[39m    masks \u001b[34mstats\u001b[39m::lag()\n",
      "\u001b[36mℹ\u001b[39m Use the conflicted package (\u001b[3m\u001b[34m<http://conflicted.r-lib.org/>\u001b[39m\u001b[23m) to force all conflicts to become errors\n"
     ]
    }
   ],
   "source": [
    "# devtools::install_github(\"satijalab/seurat\", ref = \"develop\")\n",
    "{\n",
    "  library(readr) #R 4.2.2 #R 4.2.3\n",
    "  library(ggplot2); #R 4.2.2 #R 4.2.3\n",
    "  library(tidyverse); #R 4.2.2\n",
    "  library(openxlsx); #R 4.2.3\n",
    "  library(readxl); #R 4.2.3\n",
    "  library(dplyr); #R 4.2.2 #R 4.2.3\n",
    "  \n",
    "  library(pheatmap) #R 4.2.2 #R 4.2.3\n",
    "  library(ggrastr) #R 4.2.3\n",
    "  library(ggpubr) #R 4.2.2 #R 4.2.3\n",
    "  \n",
    "  #library(Seurat); #R 4.2.2 #R 4.2.3\n",
    "  \n",
    "  # library(harmony); #R 4.2.3\n",
    "  # library(clustree) #R 4.2.3\n",
    "  # library(future); #R 4.2.2 #R 4.2.3\n",
    "  \n",
    "  # library(Matrix)\n",
    "  # packageVersion(\"Matrix\")\n",
    "  \n",
    "  #library(ComplexHeatmap)\n",
    "  \n",
    "}"
   ]
  },
  {
   "cell_type": "code",
   "execution_count": 3,
   "metadata": {
    "vscode": {
     "languageId": "r"
    }
   },
   "outputs": [],
   "source": [
    "# input path --------------------------------------------------------------\n",
    "\n",
    "if (TRUE){\n",
    "  ## output\n",
    "  output_dir = \"/share/home/wyz/Project/result/2025/202507/20250731_1_bluk_rnaseq_split_immune_group_barplot/20250804_2_bluk_rnaseq_split_group_barplot_blast\"\n",
    "}"
   ]
  },
  {
   "cell_type": "code",
   "execution_count": 4,
   "metadata": {
    "vscode": {
     "languageId": "r"
    }
   },
   "outputs": [],
   "source": [
    "# input path --------------------------------------------------------------\n",
    "\n",
    "{\n",
    "  blast_f = \"/share/home/wyz/Project/result/2025/202507/20250730_1_bluk_rnaseq_split_group_barplot_data/20250710_1_bluk_rnaseq_split_group_barplot_blast_data.xls\"\n",
    "  day_f = \"/share/home/wyz/Project/result/2025/202507/20250730_1_bluk_rnaseq_split_group_barplot_data/20250730_1_bluk_rnaseq_split_group_barplot_Survival_days_data.xls\"\n",
    "  }\n"
   ]
  },
  {
   "cell_type": "code",
   "execution_count": 5,
   "metadata": {
    "vscode": {
     "languageId": "r"
    }
   },
   "outputs": [
    {
     "name": "stdout",
     "output_type": "stream",
     "text": [
      "          Sample_ID CD4_T_Percent CD8_T_Percent NK_Percent  B_Percent\n",
      "1 AML_Beat_12_00051     0.2482904     0.2599271  0.4469119 0.04487059\n",
      "2 AML_Beat_12_00211     0.3852085     0.1774076  0.3341898 0.10319411\n",
      "3 AML_Beat_13_00157     0.2361893     0.3295964  0.3116003 0.12261398\n",
      "4 AML_Beat_13_00163     0.3902097     0.2991571  0.1765658 0.13406738\n",
      "5 AML_Beat_13_00195     0.2065725     0.2196796  0.4331788 0.14056916\n",
      "6 AML_Beat_13_00232     0.1735322     0.2939293  0.4084306 0.12410792\n",
      "  TNKB_Percent_Sum BM_Blast_Percent Survival_days Survival_Status\n",
      "1                1             88.0         707.0            Dead\n",
      "2                1             90.0        1396.0           Alive\n",
      "3                1             80.0        1379.0           Alive\n",
      "4                1             50.0         400.0           Alive\n",
      "5                1             90.0         972.0           Alive\n",
      "6                1             55.0        1001.0           Alive\n",
      "  Status_ggsurvfit        Group\n",
      "1                2 Blast_80_100\n",
      "2                1 Blast_80_100\n",
      "3                1 Blast_80_100\n",
      "4                1  Blast_40_80\n",
      "5                1 Blast_80_100\n",
      "6                1  Blast_40_80\n"
     ]
    },
    {
     "data": {
      "text/html": [
       "<style>\n",
       ".list-inline {list-style: none; margin:0; padding: 0}\n",
       ".list-inline>li {display: inline-block}\n",
       ".list-inline>li:not(:last-child)::after {content: \"\\00b7\"; padding: 0 .5ex}\n",
       "</style>\n",
       "<ol class=list-inline><li>625</li><li>11</li></ol>\n"
      ],
      "text/latex": [
       "\\begin{enumerate*}\n",
       "\\item 625\n",
       "\\item 11\n",
       "\\end{enumerate*}\n"
      ],
      "text/markdown": [
       "1. 625\n",
       "2. 11\n",
       "\n",
       "\n"
      ],
      "text/plain": [
       "[1] 625  11"
      ]
     },
     "metadata": {},
     "output_type": "display_data"
    },
    {
     "name": "stdout",
     "output_type": "stream",
     "text": [
      "          Sample_ID CD4_T_Percent CD8_T_Percent NK_Percent  B_Percent\n",
      "1 AML_Beat_12_00051     0.2482904     0.2599271  0.4469119 0.04487059\n",
      "2 AML_Beat_12_00211     0.3852085     0.1774076  0.3341898 0.10319411\n",
      "3 AML_Beat_13_00157     0.2361893     0.3295964  0.3116003 0.12261398\n",
      "4 AML_Beat_13_00163     0.3902097     0.2991571  0.1765658 0.13406738\n",
      "5 AML_Beat_13_00195     0.2065725     0.2196796  0.4331788 0.14056916\n",
      "6 AML_Beat_13_00232     0.1735322     0.2939293  0.4084306 0.12410792\n",
      "  TNKB_Percent_Sum BM_Blast_Percent Survival_days Survival_Status\n",
      "1                1               88           707            Dead\n",
      "2                1               90          1396           Alive\n",
      "3                1               80          1379           Alive\n",
      "4                1               50           400           Alive\n",
      "5                1               90           972           Alive\n",
      "6                1               55          1001           Alive\n",
      "  Status_ggsurvfit              Group\n",
      "1                2        OS_Year_1_5\n",
      "2                1 Follow_up_Year_1_5\n",
      "3                1 Follow_up_Year_1_5\n",
      "4                1 Follow_up_Year_1_5\n",
      "5                1 Follow_up_Year_1_5\n",
      "6                1 Follow_up_Year_1_5\n"
     ]
    },
    {
     "data": {
      "text/html": [
       "<style>\n",
       ".list-inline {list-style: none; margin:0; padding: 0}\n",
       ".list-inline>li {display: inline-block}\n",
       ".list-inline>li:not(:last-child)::after {content: \"\\00b7\"; padding: 0 .5ex}\n",
       "</style>\n",
       "<ol class=list-inline><li>1309</li><li>11</li></ol>\n"
      ],
      "text/latex": [
       "\\begin{enumerate*}\n",
       "\\item 1309\n",
       "\\item 11\n",
       "\\end{enumerate*}\n"
      ],
      "text/markdown": [
       "1. 1309\n",
       "2. 11\n",
       "\n",
       "\n"
      ],
      "text/plain": [
       "[1] 1309   11"
      ]
     },
     "metadata": {},
     "output_type": "display_data"
    },
    {
     "data": {
      "text/html": [
       "<table class=\"dataframe\">\n",
       "<caption>A data.frame: 6 × 11</caption>\n",
       "<thead>\n",
       "\t<tr><th></th><th scope=col>Sample_ID</th><th scope=col>CD4_T_Percent</th><th scope=col>CD8_T_Percent</th><th scope=col>NK_Percent</th><th scope=col>B_Percent</th><th scope=col>TNKB_Percent_Sum</th><th scope=col>BM_Blast_Percent</th><th scope=col>Survival_days</th><th scope=col>Survival_Status</th><th scope=col>Status_ggsurvfit</th><th scope=col>Group</th></tr>\n",
       "\t<tr><th></th><th scope=col>&lt;chr&gt;</th><th scope=col>&lt;dbl&gt;</th><th scope=col>&lt;dbl&gt;</th><th scope=col>&lt;dbl&gt;</th><th scope=col>&lt;dbl&gt;</th><th scope=col>&lt;int&gt;</th><th scope=col>&lt;dbl&gt;</th><th scope=col>&lt;dbl&gt;</th><th scope=col>&lt;chr&gt;</th><th scope=col>&lt;dbl&gt;</th><th scope=col>&lt;chr&gt;</th></tr>\n",
       "</thead>\n",
       "<tbody>\n",
       "\t<tr><th scope=row>1</th><td>AML_Beat_12_00051</td><td>0.2482904</td><td>0.2599271</td><td>0.4469119</td><td>0.04487059</td><td>1</td><td>88</td><td> 707</td><td>Dead </td><td>2</td><td>OS_Year_1_5       </td></tr>\n",
       "\t<tr><th scope=row>2</th><td>AML_Beat_12_00211</td><td>0.3852085</td><td>0.1774076</td><td>0.3341898</td><td>0.10319411</td><td>1</td><td>90</td><td>1396</td><td>Alive</td><td>1</td><td>Follow_up_Year_1_5</td></tr>\n",
       "\t<tr><th scope=row>3</th><td>AML_Beat_13_00157</td><td>0.2361893</td><td>0.3295964</td><td>0.3116003</td><td>0.12261398</td><td>1</td><td>80</td><td>1379</td><td>Alive</td><td>1</td><td>Follow_up_Year_1_5</td></tr>\n",
       "\t<tr><th scope=row>4</th><td>AML_Beat_13_00163</td><td>0.3902097</td><td>0.2991571</td><td>0.1765658</td><td>0.13406738</td><td>1</td><td>50</td><td> 400</td><td>Alive</td><td>1</td><td>Follow_up_Year_1_5</td></tr>\n",
       "\t<tr><th scope=row>5</th><td>AML_Beat_13_00195</td><td>0.2065725</td><td>0.2196796</td><td>0.4331788</td><td>0.14056916</td><td>1</td><td>90</td><td> 972</td><td>Alive</td><td>1</td><td>Follow_up_Year_1_5</td></tr>\n",
       "\t<tr><th scope=row>6</th><td>AML_Beat_13_00232</td><td>0.1735322</td><td>0.2939293</td><td>0.4084306</td><td>0.12410792</td><td>1</td><td>55</td><td>1001</td><td>Alive</td><td>1</td><td>Follow_up_Year_1_5</td></tr>\n",
       "</tbody>\n",
       "</table>\n"
      ],
      "text/latex": [
       "A data.frame: 6 × 11\n",
       "\\begin{tabular}{r|lllllllllll}\n",
       "  & Sample\\_ID & CD4\\_T\\_Percent & CD8\\_T\\_Percent & NK\\_Percent & B\\_Percent & TNKB\\_Percent\\_Sum & BM\\_Blast\\_Percent & Survival\\_days & Survival\\_Status & Status\\_ggsurvfit & Group\\\\\n",
       "  & <chr> & <dbl> & <dbl> & <dbl> & <dbl> & <int> & <dbl> & <dbl> & <chr> & <dbl> & <chr>\\\\\n",
       "\\hline\n",
       "\t1 & AML\\_Beat\\_12\\_00051 & 0.2482904 & 0.2599271 & 0.4469119 & 0.04487059 & 1 & 88 &  707 & Dead  & 2 & OS\\_Year\\_1\\_5       \\\\\n",
       "\t2 & AML\\_Beat\\_12\\_00211 & 0.3852085 & 0.1774076 & 0.3341898 & 0.10319411 & 1 & 90 & 1396 & Alive & 1 & Follow\\_up\\_Year\\_1\\_5\\\\\n",
       "\t3 & AML\\_Beat\\_13\\_00157 & 0.2361893 & 0.3295964 & 0.3116003 & 0.12261398 & 1 & 80 & 1379 & Alive & 1 & Follow\\_up\\_Year\\_1\\_5\\\\\n",
       "\t4 & AML\\_Beat\\_13\\_00163 & 0.3902097 & 0.2991571 & 0.1765658 & 0.13406738 & 1 & 50 &  400 & Alive & 1 & Follow\\_up\\_Year\\_1\\_5\\\\\n",
       "\t5 & AML\\_Beat\\_13\\_00195 & 0.2065725 & 0.2196796 & 0.4331788 & 0.14056916 & 1 & 90 &  972 & Alive & 1 & Follow\\_up\\_Year\\_1\\_5\\\\\n",
       "\t6 & AML\\_Beat\\_13\\_00232 & 0.1735322 & 0.2939293 & 0.4084306 & 0.12410792 & 1 & 55 & 1001 & Alive & 1 & Follow\\_up\\_Year\\_1\\_5\\\\\n",
       "\\end{tabular}\n"
      ],
      "text/markdown": [
       "\n",
       "A data.frame: 6 × 11\n",
       "\n",
       "| <!--/--> | Sample_ID &lt;chr&gt; | CD4_T_Percent &lt;dbl&gt; | CD8_T_Percent &lt;dbl&gt; | NK_Percent &lt;dbl&gt; | B_Percent &lt;dbl&gt; | TNKB_Percent_Sum &lt;int&gt; | BM_Blast_Percent &lt;dbl&gt; | Survival_days &lt;dbl&gt; | Survival_Status &lt;chr&gt; | Status_ggsurvfit &lt;dbl&gt; | Group &lt;chr&gt; |\n",
       "|---|---|---|---|---|---|---|---|---|---|---|---|\n",
       "| 1 | AML_Beat_12_00051 | 0.2482904 | 0.2599271 | 0.4469119 | 0.04487059 | 1 | 88 |  707 | Dead  | 2 | OS_Year_1_5        |\n",
       "| 2 | AML_Beat_12_00211 | 0.3852085 | 0.1774076 | 0.3341898 | 0.10319411 | 1 | 90 | 1396 | Alive | 1 | Follow_up_Year_1_5 |\n",
       "| 3 | AML_Beat_13_00157 | 0.2361893 | 0.3295964 | 0.3116003 | 0.12261398 | 1 | 80 | 1379 | Alive | 1 | Follow_up_Year_1_5 |\n",
       "| 4 | AML_Beat_13_00163 | 0.3902097 | 0.2991571 | 0.1765658 | 0.13406738 | 1 | 50 |  400 | Alive | 1 | Follow_up_Year_1_5 |\n",
       "| 5 | AML_Beat_13_00195 | 0.2065725 | 0.2196796 | 0.4331788 | 0.14056916 | 1 | 90 |  972 | Alive | 1 | Follow_up_Year_1_5 |\n",
       "| 6 | AML_Beat_13_00232 | 0.1735322 | 0.2939293 | 0.4084306 | 0.12410792 | 1 | 55 | 1001 | Alive | 1 | Follow_up_Year_1_5 |\n",
       "\n"
      ],
      "text/plain": [
       "  Sample_ID         CD4_T_Percent CD8_T_Percent NK_Percent B_Percent \n",
       "1 AML_Beat_12_00051 0.2482904     0.2599271     0.4469119  0.04487059\n",
       "2 AML_Beat_12_00211 0.3852085     0.1774076     0.3341898  0.10319411\n",
       "3 AML_Beat_13_00157 0.2361893     0.3295964     0.3116003  0.12261398\n",
       "4 AML_Beat_13_00163 0.3902097     0.2991571     0.1765658  0.13406738\n",
       "5 AML_Beat_13_00195 0.2065725     0.2196796     0.4331788  0.14056916\n",
       "6 AML_Beat_13_00232 0.1735322     0.2939293     0.4084306  0.12410792\n",
       "  TNKB_Percent_Sum BM_Blast_Percent Survival_days Survival_Status\n",
       "1 1                88                707          Dead           \n",
       "2 1                90               1396          Alive          \n",
       "3 1                80               1379          Alive          \n",
       "4 1                50                400          Alive          \n",
       "5 1                90                972          Alive          \n",
       "6 1                55               1001          Alive          \n",
       "  Status_ggsurvfit Group             \n",
       "1 2                OS_Year_1_5       \n",
       "2 1                Follow_up_Year_1_5\n",
       "3 1                Follow_up_Year_1_5\n",
       "4 1                Follow_up_Year_1_5\n",
       "5 1                Follow_up_Year_1_5\n",
       "6 1                Follow_up_Year_1_5"
      ]
     },
     "metadata": {},
     "output_type": "display_data"
    }
   ],
   "source": [
    "\n",
    "{\n",
    "  ## read file\n",
    "  blast_df = read.table(blast_f,sep=\"\\t\",header = T,check.names = FALSE)\n",
    "  print(head(blast_df))\n",
    "  dim(blast_df) \n",
    "  \n",
    "}\n",
    "\n",
    "\n",
    "{\n",
    "  ## read file\n",
    "  day_df = read.table(day_f,sep=\"\\t\",header = T,check.names = FALSE) \n",
    "  print(head(day_df))\n",
    "\n",
    "  dim(day_df) #\n",
    "  \n",
    "}\n",
    "\n",
    "\n",
    "{\n",
    "  table(blast_df$Group)\n",
    "  table(day_df$Group)\n",
    "  \n",
    "  unique(blast_df$Group)\n",
    "  unique(day_df$Group)\n",
    "  \n",
    "  head(blast_df)\n",
    "  head(day_df)\n",
    "}\n",
    "\n"
   ]
  },
  {
   "cell_type": "code",
   "execution_count": 6,
   "metadata": {
    "vscode": {
     "languageId": "r"
    }
   },
   "outputs": [
    {
     "data": {
      "text/plain": [
       "\n",
       " OS_Year_0_1  OS_Year_1_5 OS_Year_5_up \n",
       "         508          264           22 "
      ]
     },
     "metadata": {},
     "output_type": "display_data"
    }
   ],
   "source": [
    "  # day_df = day_df %>% filter(Group %in% c(\"OS_Year_0_1\", \"OS_Year_1_5\", \"OS_Year_5_up\"))\n",
    "  # table(day_df$Group)"
   ]
  },
  {
   "cell_type": "code",
   "execution_count": 7,
   "metadata": {
    "vscode": {
     "languageId": "r"
    }
   },
   "outputs": [],
   "source": [
    "# -------------------------------------------------------------------------\n",
    "\n",
    "if(FALSE){\n",
    "  ## 合并数据框\n",
    "  merge_df = rbind(blast_df,day_df)\n",
    "  print(dim(merge_df))\n",
    "  head(merge_df)\n",
    "  dim(merge_df) # [1] 2182   11\n",
    "  \n",
    "  table(merge_df$Group)\n",
    "  unique(merge_df$Group)\n",
    "}\n"
   ]
  },
  {
   "cell_type": "code",
   "execution_count": 6,
   "metadata": {
    "vscode": {
     "languageId": "r"
    }
   },
   "outputs": [],
   "source": [
    "\n",
    "{\n",
    "  merge_df = blast_df\n",
    "}"
   ]
  },
  {
   "cell_type": "code",
   "execution_count": 7,
   "metadata": {
    "vscode": {
     "languageId": "r"
    }
   },
   "outputs": [],
   "source": [
    "\n",
    "\n",
    "\n",
    "{\n",
    "  ## save\n",
    "  output_f_path = file.path(output_dir,\"20250710_1_bluk_rnaseq_split_group_barplot_data.xls\")\n",
    "  write.table(merge_df,file=output_f_path,sep=\"\\t\",row.names = F,quote = FALSE)\n",
    "}"
   ]
  },
  {
   "cell_type": "code",
   "execution_count": 8,
   "metadata": {
    "vscode": {
     "languageId": "r"
    }
   },
   "outputs": [
    {
     "data": {
      "text/html": [
       "<table class=\"dataframe\">\n",
       "<caption>A data.frame: 6 × 11</caption>\n",
       "<thead>\n",
       "\t<tr><th></th><th scope=col>Sample_ID</th><th scope=col>CD4_T_Percent</th><th scope=col>CD8_T_Percent</th><th scope=col>NK_Percent</th><th scope=col>B_Percent</th><th scope=col>TNKB_Percent_Sum</th><th scope=col>BM_Blast_Percent</th><th scope=col>Survival_days</th><th scope=col>Survival_Status</th><th scope=col>Status_ggsurvfit</th><th scope=col>Group</th></tr>\n",
       "\t<tr><th></th><th scope=col>&lt;chr&gt;</th><th scope=col>&lt;dbl&gt;</th><th scope=col>&lt;dbl&gt;</th><th scope=col>&lt;dbl&gt;</th><th scope=col>&lt;dbl&gt;</th><th scope=col>&lt;int&gt;</th><th scope=col>&lt;chr&gt;</th><th scope=col>&lt;chr&gt;</th><th scope=col>&lt;chr&gt;</th><th scope=col>&lt;dbl&gt;</th><th scope=col>&lt;chr&gt;</th></tr>\n",
       "</thead>\n",
       "<tbody>\n",
       "\t<tr><th scope=row>1</th><td>AML_Beat_12_00051</td><td>0.2482904</td><td>0.2599271</td><td>0.4469119</td><td>0.04487059</td><td>1</td><td>88.0</td><td>707.0 </td><td>Dead </td><td>2</td><td>Blast_80_100</td></tr>\n",
       "\t<tr><th scope=row>2</th><td>AML_Beat_12_00211</td><td>0.3852085</td><td>0.1774076</td><td>0.3341898</td><td>0.10319411</td><td>1</td><td>90.0</td><td>1396.0</td><td>Alive</td><td>1</td><td>Blast_80_100</td></tr>\n",
       "\t<tr><th scope=row>3</th><td>AML_Beat_13_00157</td><td>0.2361893</td><td>0.3295964</td><td>0.3116003</td><td>0.12261398</td><td>1</td><td>80.0</td><td>1379.0</td><td>Alive</td><td>1</td><td>Blast_80_100</td></tr>\n",
       "\t<tr><th scope=row>4</th><td>AML_Beat_13_00163</td><td>0.3902097</td><td>0.2991571</td><td>0.1765658</td><td>0.13406738</td><td>1</td><td>50.0</td><td>400.0 </td><td>Alive</td><td>1</td><td>Blast_40_80 </td></tr>\n",
       "\t<tr><th scope=row>5</th><td>AML_Beat_13_00195</td><td>0.2065725</td><td>0.2196796</td><td>0.4331788</td><td>0.14056916</td><td>1</td><td>90.0</td><td>972.0 </td><td>Alive</td><td>1</td><td>Blast_80_100</td></tr>\n",
       "\t<tr><th scope=row>6</th><td>AML_Beat_13_00232</td><td>0.1735322</td><td>0.2939293</td><td>0.4084306</td><td>0.12410792</td><td>1</td><td>55.0</td><td>1001.0</td><td>Alive</td><td>1</td><td>Blast_40_80 </td></tr>\n",
       "</tbody>\n",
       "</table>\n"
      ],
      "text/latex": [
       "A data.frame: 6 × 11\n",
       "\\begin{tabular}{r|lllllllllll}\n",
       "  & Sample\\_ID & CD4\\_T\\_Percent & CD8\\_T\\_Percent & NK\\_Percent & B\\_Percent & TNKB\\_Percent\\_Sum & BM\\_Blast\\_Percent & Survival\\_days & Survival\\_Status & Status\\_ggsurvfit & Group\\\\\n",
       "  & <chr> & <dbl> & <dbl> & <dbl> & <dbl> & <int> & <chr> & <chr> & <chr> & <dbl> & <chr>\\\\\n",
       "\\hline\n",
       "\t1 & AML\\_Beat\\_12\\_00051 & 0.2482904 & 0.2599271 & 0.4469119 & 0.04487059 & 1 & 88.0 & 707.0  & Dead  & 2 & Blast\\_80\\_100\\\\\n",
       "\t2 & AML\\_Beat\\_12\\_00211 & 0.3852085 & 0.1774076 & 0.3341898 & 0.10319411 & 1 & 90.0 & 1396.0 & Alive & 1 & Blast\\_80\\_100\\\\\n",
       "\t3 & AML\\_Beat\\_13\\_00157 & 0.2361893 & 0.3295964 & 0.3116003 & 0.12261398 & 1 & 80.0 & 1379.0 & Alive & 1 & Blast\\_80\\_100\\\\\n",
       "\t4 & AML\\_Beat\\_13\\_00163 & 0.3902097 & 0.2991571 & 0.1765658 & 0.13406738 & 1 & 50.0 & 400.0  & Alive & 1 & Blast\\_40\\_80 \\\\\n",
       "\t5 & AML\\_Beat\\_13\\_00195 & 0.2065725 & 0.2196796 & 0.4331788 & 0.14056916 & 1 & 90.0 & 972.0  & Alive & 1 & Blast\\_80\\_100\\\\\n",
       "\t6 & AML\\_Beat\\_13\\_00232 & 0.1735322 & 0.2939293 & 0.4084306 & 0.12410792 & 1 & 55.0 & 1001.0 & Alive & 1 & Blast\\_40\\_80 \\\\\n",
       "\\end{tabular}\n"
      ],
      "text/markdown": [
       "\n",
       "A data.frame: 6 × 11\n",
       "\n",
       "| <!--/--> | Sample_ID &lt;chr&gt; | CD4_T_Percent &lt;dbl&gt; | CD8_T_Percent &lt;dbl&gt; | NK_Percent &lt;dbl&gt; | B_Percent &lt;dbl&gt; | TNKB_Percent_Sum &lt;int&gt; | BM_Blast_Percent &lt;chr&gt; | Survival_days &lt;chr&gt; | Survival_Status &lt;chr&gt; | Status_ggsurvfit &lt;dbl&gt; | Group &lt;chr&gt; |\n",
       "|---|---|---|---|---|---|---|---|---|---|---|---|\n",
       "| 1 | AML_Beat_12_00051 | 0.2482904 | 0.2599271 | 0.4469119 | 0.04487059 | 1 | 88.0 | 707.0  | Dead  | 2 | Blast_80_100 |\n",
       "| 2 | AML_Beat_12_00211 | 0.3852085 | 0.1774076 | 0.3341898 | 0.10319411 | 1 | 90.0 | 1396.0 | Alive | 1 | Blast_80_100 |\n",
       "| 3 | AML_Beat_13_00157 | 0.2361893 | 0.3295964 | 0.3116003 | 0.12261398 | 1 | 80.0 | 1379.0 | Alive | 1 | Blast_80_100 |\n",
       "| 4 | AML_Beat_13_00163 | 0.3902097 | 0.2991571 | 0.1765658 | 0.13406738 | 1 | 50.0 | 400.0  | Alive | 1 | Blast_40_80  |\n",
       "| 5 | AML_Beat_13_00195 | 0.2065725 | 0.2196796 | 0.4331788 | 0.14056916 | 1 | 90.0 | 972.0  | Alive | 1 | Blast_80_100 |\n",
       "| 6 | AML_Beat_13_00232 | 0.1735322 | 0.2939293 | 0.4084306 | 0.12410792 | 1 | 55.0 | 1001.0 | Alive | 1 | Blast_40_80  |\n",
       "\n"
      ],
      "text/plain": [
       "  Sample_ID         CD4_T_Percent CD8_T_Percent NK_Percent B_Percent \n",
       "1 AML_Beat_12_00051 0.2482904     0.2599271     0.4469119  0.04487059\n",
       "2 AML_Beat_12_00211 0.3852085     0.1774076     0.3341898  0.10319411\n",
       "3 AML_Beat_13_00157 0.2361893     0.3295964     0.3116003  0.12261398\n",
       "4 AML_Beat_13_00163 0.3902097     0.2991571     0.1765658  0.13406738\n",
       "5 AML_Beat_13_00195 0.2065725     0.2196796     0.4331788  0.14056916\n",
       "6 AML_Beat_13_00232 0.1735322     0.2939293     0.4084306  0.12410792\n",
       "  TNKB_Percent_Sum BM_Blast_Percent Survival_days Survival_Status\n",
       "1 1                88.0             707.0         Dead           \n",
       "2 1                90.0             1396.0        Alive          \n",
       "3 1                80.0             1379.0        Alive          \n",
       "4 1                50.0             400.0         Alive          \n",
       "5 1                90.0             972.0         Alive          \n",
       "6 1                55.0             1001.0        Alive          \n",
       "  Status_ggsurvfit Group       \n",
       "1 2                Blast_80_100\n",
       "2 1                Blast_80_100\n",
       "3 1                Blast_80_100\n",
       "4 1                Blast_40_80 \n",
       "5 1                Blast_80_100\n",
       "6 1                Blast_40_80 "
      ]
     },
     "metadata": {},
     "output_type": "display_data"
    }
   ],
   "source": [
    "  head(merge_df)"
   ]
  },
  {
   "cell_type": "code",
   "execution_count": 9,
   "metadata": {
    "vscode": {
     "languageId": "r"
    }
   },
   "outputs": [
    {
     "name": "stderr",
     "output_type": "stream",
     "text": [
      "Warning message:\n",
      "“\u001b[1m\u001b[22mUsing an external vector in selections was deprecated in tidyselect 1.1.0.\n",
      "\u001b[36mℹ\u001b[39m Please use `all_of()` or `any_of()` instead.\n",
      "  # Was:\n",
      "  data %>% select(cell_list)\n",
      "\n",
      "  # Now:\n",
      "  data %>% select(all_of(cell_list))\n",
      "\n",
      "See <https://tidyselect.r-lib.org/reference/faq-external-vector.html>.”\n"
     ]
    },
    {
     "name": "stdout",
     "output_type": "stream",
     "text": [
      "[1] 2500    9\n"
     ]
    },
    {
     "data": {
      "text/html": [
       "<table class=\"dataframe\">\n",
       "<caption>A tibble: 0 × 9</caption>\n",
       "<thead>\n",
       "\t<tr><th scope=col>Sample_ID</th><th scope=col>TNKB_Percent_Sum</th><th scope=col>BM_Blast_Percent</th><th scope=col>Survival_days</th><th scope=col>Survival_Status</th><th scope=col>Status_ggsurvfit</th><th scope=col>Group</th><th scope=col>Cell_Type</th><th scope=col>Value</th></tr>\n",
       "\t<tr><th scope=col>&lt;chr&gt;</th><th scope=col>&lt;int&gt;</th><th scope=col>&lt;chr&gt;</th><th scope=col>&lt;chr&gt;</th><th scope=col>&lt;chr&gt;</th><th scope=col>&lt;dbl&gt;</th><th scope=col>&lt;chr&gt;</th><th scope=col>&lt;chr&gt;</th><th scope=col>&lt;dbl&gt;</th></tr>\n",
       "</thead>\n",
       "<tbody>\n",
       "</tbody>\n",
       "</table>\n"
      ],
      "text/latex": [
       "A tibble: 0 × 9\n",
       "\\begin{tabular}{lllllllll}\n",
       " Sample\\_ID & TNKB\\_Percent\\_Sum & BM\\_Blast\\_Percent & Survival\\_days & Survival\\_Status & Status\\_ggsurvfit & Group & Cell\\_Type & Value\\\\\n",
       " <chr> & <int> & <chr> & <chr> & <chr> & <dbl> & <chr> & <chr> & <dbl>\\\\\n",
       "\\hline\n",
       "\\end{tabular}\n"
      ],
      "text/markdown": [
       "\n",
       "A tibble: 0 × 9\n",
       "\n",
       "| Sample_ID &lt;chr&gt; | TNKB_Percent_Sum &lt;int&gt; | BM_Blast_Percent &lt;chr&gt; | Survival_days &lt;chr&gt; | Survival_Status &lt;chr&gt; | Status_ggsurvfit &lt;dbl&gt; | Group &lt;chr&gt; | Cell_Type &lt;chr&gt; | Value &lt;dbl&gt; |\n",
       "|---|---|---|---|---|---|---|---|---|\n",
       "\n"
      ],
      "text/plain": [
       "     Sample_ID TNKB_Percent_Sum BM_Blast_Percent Survival_days Survival_Status\n",
       "     Status_ggsurvfit Group Cell_Type Value"
      ]
     },
     "metadata": {},
     "output_type": "display_data"
    }
   ],
   "source": [
    "# -------------------------------------------------------------------------\n",
    "{\n",
    "  head(merge_df)\n",
    "  cell_list = c(\"CD4_T_Percent\",\"CD8_T_Percent\",\"NK_Percent\",\"B_Percent\")\n",
    "}\n",
    "\n",
    "\n",
    "{\n",
    "  library(tidyr)\n",
    "  \n",
    "  df_long <- merge_df %>%\n",
    "    pivot_longer(cols = cell_list, \n",
    "                 names_to = \"Cell_Type\", \n",
    "                 values_to = \"Value\")\n",
    "  head(df_long)\n",
    "  print(dim(df_long))\n",
    "  \n",
    "  table(df_long$Group)\n",
    "  unique(df_long$Group)\n",
    "  df_long[is.na(df_long$Group), ]\n",
    "}"
   ]
  },
  {
   "cell_type": "code",
   "execution_count": 11,
   "metadata": {
    "vscode": {
     "languageId": "r"
    }
   },
   "outputs": [
    {
     "data": {
      "text/html": [
       "<table class=\"dataframe\">\n",
       "<caption>A tibble: 6 × 9</caption>\n",
       "<thead>\n",
       "\t<tr><th scope=col>Sample_ID</th><th scope=col>TNKB_Percent_Sum</th><th scope=col>BM_Blast_Percent</th><th scope=col>Survival_days</th><th scope=col>Survival_Status</th><th scope=col>Status_ggsurvfit</th><th scope=col>Group</th><th scope=col>Cell_Type</th><th scope=col>Value</th></tr>\n",
       "\t<tr><th scope=col>&lt;chr&gt;</th><th scope=col>&lt;int&gt;</th><th scope=col>&lt;dbl&gt;</th><th scope=col>&lt;dbl&gt;</th><th scope=col>&lt;chr&gt;</th><th scope=col>&lt;dbl&gt;</th><th scope=col>&lt;chr&gt;</th><th scope=col>&lt;chr&gt;</th><th scope=col>&lt;dbl&gt;</th></tr>\n",
       "</thead>\n",
       "<tbody>\n",
       "\t<tr><td>AML_Beat_12_00051</td><td>1</td><td>88</td><td> 707</td><td>Dead</td><td>2</td><td>OS_Year_1_5</td><td>CD4_T_Percent</td><td>0.24829041</td></tr>\n",
       "\t<tr><td>AML_Beat_12_00051</td><td>1</td><td>88</td><td> 707</td><td>Dead</td><td>2</td><td>OS_Year_1_5</td><td>CD8_T_Percent</td><td>0.25992707</td></tr>\n",
       "\t<tr><td>AML_Beat_12_00051</td><td>1</td><td>88</td><td> 707</td><td>Dead</td><td>2</td><td>OS_Year_1_5</td><td>NK_Percent   </td><td>0.44691193</td></tr>\n",
       "\t<tr><td>AML_Beat_12_00051</td><td>1</td><td>88</td><td> 707</td><td>Dead</td><td>2</td><td>OS_Year_1_5</td><td>B_Percent    </td><td>0.04487059</td></tr>\n",
       "\t<tr><td>AML_Beat_13_00393</td><td>1</td><td>21</td><td>1237</td><td>Dead</td><td>2</td><td>OS_Year_1_5</td><td>CD4_T_Percent</td><td>0.15982305</td></tr>\n",
       "\t<tr><td>AML_Beat_13_00393</td><td>1</td><td>21</td><td>1237</td><td>Dead</td><td>2</td><td>OS_Year_1_5</td><td>CD8_T_Percent</td><td>0.20665108</td></tr>\n",
       "</tbody>\n",
       "</table>\n"
      ],
      "text/latex": [
       "A tibble: 6 × 9\n",
       "\\begin{tabular}{lllllllll}\n",
       " Sample\\_ID & TNKB\\_Percent\\_Sum & BM\\_Blast\\_Percent & Survival\\_days & Survival\\_Status & Status\\_ggsurvfit & Group & Cell\\_Type & Value\\\\\n",
       " <chr> & <int> & <dbl> & <dbl> & <chr> & <dbl> & <chr> & <chr> & <dbl>\\\\\n",
       "\\hline\n",
       "\t AML\\_Beat\\_12\\_00051 & 1 & 88 &  707 & Dead & 2 & OS\\_Year\\_1\\_5 & CD4\\_T\\_Percent & 0.24829041\\\\\n",
       "\t AML\\_Beat\\_12\\_00051 & 1 & 88 &  707 & Dead & 2 & OS\\_Year\\_1\\_5 & CD8\\_T\\_Percent & 0.25992707\\\\\n",
       "\t AML\\_Beat\\_12\\_00051 & 1 & 88 &  707 & Dead & 2 & OS\\_Year\\_1\\_5 & NK\\_Percent    & 0.44691193\\\\\n",
       "\t AML\\_Beat\\_12\\_00051 & 1 & 88 &  707 & Dead & 2 & OS\\_Year\\_1\\_5 & B\\_Percent     & 0.04487059\\\\\n",
       "\t AML\\_Beat\\_13\\_00393 & 1 & 21 & 1237 & Dead & 2 & OS\\_Year\\_1\\_5 & CD4\\_T\\_Percent & 0.15982305\\\\\n",
       "\t AML\\_Beat\\_13\\_00393 & 1 & 21 & 1237 & Dead & 2 & OS\\_Year\\_1\\_5 & CD8\\_T\\_Percent & 0.20665108\\\\\n",
       "\\end{tabular}\n"
      ],
      "text/markdown": [
       "\n",
       "A tibble: 6 × 9\n",
       "\n",
       "| Sample_ID &lt;chr&gt; | TNKB_Percent_Sum &lt;int&gt; | BM_Blast_Percent &lt;dbl&gt; | Survival_days &lt;dbl&gt; | Survival_Status &lt;chr&gt; | Status_ggsurvfit &lt;dbl&gt; | Group &lt;chr&gt; | Cell_Type &lt;chr&gt; | Value &lt;dbl&gt; |\n",
       "|---|---|---|---|---|---|---|---|---|\n",
       "| AML_Beat_12_00051 | 1 | 88 |  707 | Dead | 2 | OS_Year_1_5 | CD4_T_Percent | 0.24829041 |\n",
       "| AML_Beat_12_00051 | 1 | 88 |  707 | Dead | 2 | OS_Year_1_5 | CD8_T_Percent | 0.25992707 |\n",
       "| AML_Beat_12_00051 | 1 | 88 |  707 | Dead | 2 | OS_Year_1_5 | NK_Percent    | 0.44691193 |\n",
       "| AML_Beat_12_00051 | 1 | 88 |  707 | Dead | 2 | OS_Year_1_5 | B_Percent     | 0.04487059 |\n",
       "| AML_Beat_13_00393 | 1 | 21 | 1237 | Dead | 2 | OS_Year_1_5 | CD4_T_Percent | 0.15982305 |\n",
       "| AML_Beat_13_00393 | 1 | 21 | 1237 | Dead | 2 | OS_Year_1_5 | CD8_T_Percent | 0.20665108 |\n",
       "\n"
      ],
      "text/plain": [
       "  Sample_ID         TNKB_Percent_Sum BM_Blast_Percent Survival_days\n",
       "1 AML_Beat_12_00051 1                88                707         \n",
       "2 AML_Beat_12_00051 1                88                707         \n",
       "3 AML_Beat_12_00051 1                88                707         \n",
       "4 AML_Beat_12_00051 1                88                707         \n",
       "5 AML_Beat_13_00393 1                21               1237         \n",
       "6 AML_Beat_13_00393 1                21               1237         \n",
       "  Survival_Status Status_ggsurvfit Group       Cell_Type     Value     \n",
       "1 Dead            2                OS_Year_1_5 CD4_T_Percent 0.24829041\n",
       "2 Dead            2                OS_Year_1_5 CD8_T_Percent 0.25992707\n",
       "3 Dead            2                OS_Year_1_5 NK_Percent    0.44691193\n",
       "4 Dead            2                OS_Year_1_5 B_Percent     0.04487059\n",
       "5 Dead            2                OS_Year_1_5 CD4_T_Percent 0.15982305\n",
       "6 Dead            2                OS_Year_1_5 CD8_T_Percent 0.20665108"
      ]
     },
     "metadata": {},
     "output_type": "display_data"
    }
   ],
   "source": [
    "  head(df_long)"
   ]
  },
  {
   "cell_type": "code",
   "execution_count": 10,
   "metadata": {
    "vscode": {
     "languageId": "r"
    }
   },
   "outputs": [
    {
     "data": {
      "text/html": [
       "<style>\n",
       ".list-inline {list-style: none; margin:0; padding: 0}\n",
       ".list-inline>li {display: inline-block}\n",
       ".list-inline>li:not(:last-child)::after {content: \"\\00b7\"; padding: 0 .5ex}\n",
       "</style>\n",
       "<ol class=list-inline><li>Blast_80_100</li><li>Blast_40_80</li><li>Blast_20_40</li><li>Blast_0_2</li><li>Blast_2_5</li><li>Blast_5_10</li><li>Blast_10_20</li></ol>\n",
       "\n",
       "<details>\n",
       "\t<summary style=display:list-item;cursor:pointer>\n",
       "\t\t<strong>Levels</strong>:\n",
       "\t</summary>\n",
       "\t<style>\n",
       "\t.list-inline {list-style: none; margin:0; padding: 0}\n",
       "\t.list-inline>li {display: inline-block}\n",
       "\t.list-inline>li:not(:last-child)::after {content: \"\\00b7\"; padding: 0 .5ex}\n",
       "\t</style>\n",
       "\t<ol class=list-inline><li>'Blast_0_2'</li><li>'Blast_2_5'</li><li>'Blast_5_10'</li><li>'Blast_10_20'</li><li>'Blast_20_40'</li><li>'Blast_40_80'</li><li>'Blast_80_100'</li></ol>\n",
       "</details>"
      ],
      "text/latex": [
       "\\begin{enumerate*}\n",
       "\\item Blast\\_80\\_100\n",
       "\\item Blast\\_40\\_80\n",
       "\\item Blast\\_20\\_40\n",
       "\\item Blast\\_0\\_2\n",
       "\\item Blast\\_2\\_5\n",
       "\\item Blast\\_5\\_10\n",
       "\\item Blast\\_10\\_20\n",
       "\\end{enumerate*}\n",
       "\n",
       "\\emph{Levels}: \\begin{enumerate*}\n",
       "\\item 'Blast\\_0\\_2'\n",
       "\\item 'Blast\\_2\\_5'\n",
       "\\item 'Blast\\_5\\_10'\n",
       "\\item 'Blast\\_10\\_20'\n",
       "\\item 'Blast\\_20\\_40'\n",
       "\\item 'Blast\\_40\\_80'\n",
       "\\item 'Blast\\_80\\_100'\n",
       "\\end{enumerate*}\n"
      ],
      "text/markdown": [
       "1. Blast_80_100\n",
       "2. Blast_40_80\n",
       "3. Blast_20_40\n",
       "4. Blast_0_2\n",
       "5. Blast_2_5\n",
       "6. Blast_5_10\n",
       "7. Blast_10_20\n",
       "\n",
       "\n",
       "\n",
       "**Levels**: 1. 'Blast_0_2'\n",
       "2. 'Blast_2_5'\n",
       "3. 'Blast_5_10'\n",
       "4. 'Blast_10_20'\n",
       "5. 'Blast_20_40'\n",
       "6. 'Blast_40_80'\n",
       "7. 'Blast_80_100'\n",
       "\n",
       "\n"
      ],
      "text/plain": [
       "[1] Blast_80_100 Blast_40_80  Blast_20_40  Blast_0_2    Blast_2_5   \n",
       "[6] Blast_5_10   Blast_10_20 \n",
       "7 Levels: Blast_0_2 Blast_2_5 Blast_5_10 Blast_10_20 ... Blast_80_100"
      ]
     },
     "metadata": {},
     "output_type": "display_data"
    },
    {
     "data": {
      "text/html": [
       "<table class=\"dataframe\">\n",
       "<caption>A tibble: 6 × 10</caption>\n",
       "<thead>\n",
       "\t<tr><th scope=col>Sample_ID</th><th scope=col>TNKB_Percent_Sum</th><th scope=col>BM_Blast_Percent</th><th scope=col>Survival_days</th><th scope=col>Survival_Status</th><th scope=col>Status_ggsurvfit</th><th scope=col>Group</th><th scope=col>Cell_Type</th><th scope=col>Value</th><th scope=col>Cell_Type_Mark</th></tr>\n",
       "\t<tr><th scope=col>&lt;chr&gt;</th><th scope=col>&lt;int&gt;</th><th scope=col>&lt;chr&gt;</th><th scope=col>&lt;chr&gt;</th><th scope=col>&lt;chr&gt;</th><th scope=col>&lt;dbl&gt;</th><th scope=col>&lt;fct&gt;</th><th scope=col>&lt;chr&gt;</th><th scope=col>&lt;dbl&gt;</th><th scope=col>&lt;fct&gt;</th></tr>\n",
       "</thead>\n",
       "<tbody>\n",
       "\t<tr><td>AML_Beat_12_00051</td><td>1</td><td>88.0</td><td>707.0 </td><td>Dead </td><td>2</td><td>Blast_80_100</td><td>CD4_T_Percent</td><td>0.24829041</td><td>CD4_T</td></tr>\n",
       "\t<tr><td>AML_Beat_12_00051</td><td>1</td><td>88.0</td><td>707.0 </td><td>Dead </td><td>2</td><td>Blast_80_100</td><td>CD8_T_Percent</td><td>0.25992707</td><td>CD8_T</td></tr>\n",
       "\t<tr><td>AML_Beat_12_00051</td><td>1</td><td>88.0</td><td>707.0 </td><td>Dead </td><td>2</td><td>Blast_80_100</td><td>NK_Percent   </td><td>0.44691193</td><td>NK   </td></tr>\n",
       "\t<tr><td>AML_Beat_12_00051</td><td>1</td><td>88.0</td><td>707.0 </td><td>Dead </td><td>2</td><td>Blast_80_100</td><td>B_Percent    </td><td>0.04487059</td><td>B    </td></tr>\n",
       "\t<tr><td>AML_Beat_12_00211</td><td>1</td><td>90.0</td><td>1396.0</td><td>Alive</td><td>1</td><td>Blast_80_100</td><td>CD4_T_Percent</td><td>0.38520848</td><td>CD4_T</td></tr>\n",
       "\t<tr><td>AML_Beat_12_00211</td><td>1</td><td>90.0</td><td>1396.0</td><td>Alive</td><td>1</td><td>Blast_80_100</td><td>CD8_T_Percent</td><td>0.17740762</td><td>CD8_T</td></tr>\n",
       "</tbody>\n",
       "</table>\n"
      ],
      "text/latex": [
       "A tibble: 6 × 10\n",
       "\\begin{tabular}{llllllllll}\n",
       " Sample\\_ID & TNKB\\_Percent\\_Sum & BM\\_Blast\\_Percent & Survival\\_days & Survival\\_Status & Status\\_ggsurvfit & Group & Cell\\_Type & Value & Cell\\_Type\\_Mark\\\\\n",
       " <chr> & <int> & <chr> & <chr> & <chr> & <dbl> & <fct> & <chr> & <dbl> & <fct>\\\\\n",
       "\\hline\n",
       "\t AML\\_Beat\\_12\\_00051 & 1 & 88.0 & 707.0  & Dead  & 2 & Blast\\_80\\_100 & CD4\\_T\\_Percent & 0.24829041 & CD4\\_T\\\\\n",
       "\t AML\\_Beat\\_12\\_00051 & 1 & 88.0 & 707.0  & Dead  & 2 & Blast\\_80\\_100 & CD8\\_T\\_Percent & 0.25992707 & CD8\\_T\\\\\n",
       "\t AML\\_Beat\\_12\\_00051 & 1 & 88.0 & 707.0  & Dead  & 2 & Blast\\_80\\_100 & NK\\_Percent    & 0.44691193 & NK   \\\\\n",
       "\t AML\\_Beat\\_12\\_00051 & 1 & 88.0 & 707.0  & Dead  & 2 & Blast\\_80\\_100 & B\\_Percent     & 0.04487059 & B    \\\\\n",
       "\t AML\\_Beat\\_12\\_00211 & 1 & 90.0 & 1396.0 & Alive & 1 & Blast\\_80\\_100 & CD4\\_T\\_Percent & 0.38520848 & CD4\\_T\\\\\n",
       "\t AML\\_Beat\\_12\\_00211 & 1 & 90.0 & 1396.0 & Alive & 1 & Blast\\_80\\_100 & CD8\\_T\\_Percent & 0.17740762 & CD8\\_T\\\\\n",
       "\\end{tabular}\n"
      ],
      "text/markdown": [
       "\n",
       "A tibble: 6 × 10\n",
       "\n",
       "| Sample_ID &lt;chr&gt; | TNKB_Percent_Sum &lt;int&gt; | BM_Blast_Percent &lt;chr&gt; | Survival_days &lt;chr&gt; | Survival_Status &lt;chr&gt; | Status_ggsurvfit &lt;dbl&gt; | Group &lt;fct&gt; | Cell_Type &lt;chr&gt; | Value &lt;dbl&gt; | Cell_Type_Mark &lt;fct&gt; |\n",
       "|---|---|---|---|---|---|---|---|---|---|\n",
       "| AML_Beat_12_00051 | 1 | 88.0 | 707.0  | Dead  | 2 | Blast_80_100 | CD4_T_Percent | 0.24829041 | CD4_T |\n",
       "| AML_Beat_12_00051 | 1 | 88.0 | 707.0  | Dead  | 2 | Blast_80_100 | CD8_T_Percent | 0.25992707 | CD8_T |\n",
       "| AML_Beat_12_00051 | 1 | 88.0 | 707.0  | Dead  | 2 | Blast_80_100 | NK_Percent    | 0.44691193 | NK    |\n",
       "| AML_Beat_12_00051 | 1 | 88.0 | 707.0  | Dead  | 2 | Blast_80_100 | B_Percent     | 0.04487059 | B     |\n",
       "| AML_Beat_12_00211 | 1 | 90.0 | 1396.0 | Alive | 1 | Blast_80_100 | CD4_T_Percent | 0.38520848 | CD4_T |\n",
       "| AML_Beat_12_00211 | 1 | 90.0 | 1396.0 | Alive | 1 | Blast_80_100 | CD8_T_Percent | 0.17740762 | CD8_T |\n",
       "\n"
      ],
      "text/plain": [
       "  Sample_ID         TNKB_Percent_Sum BM_Blast_Percent Survival_days\n",
       "1 AML_Beat_12_00051 1                88.0             707.0        \n",
       "2 AML_Beat_12_00051 1                88.0             707.0        \n",
       "3 AML_Beat_12_00051 1                88.0             707.0        \n",
       "4 AML_Beat_12_00051 1                88.0             707.0        \n",
       "5 AML_Beat_12_00211 1                90.0             1396.0       \n",
       "6 AML_Beat_12_00211 1                90.0             1396.0       \n",
       "  Survival_Status Status_ggsurvfit Group        Cell_Type     Value     \n",
       "1 Dead            2                Blast_80_100 CD4_T_Percent 0.24829041\n",
       "2 Dead            2                Blast_80_100 CD8_T_Percent 0.25992707\n",
       "3 Dead            2                Blast_80_100 NK_Percent    0.44691193\n",
       "4 Dead            2                Blast_80_100 B_Percent     0.04487059\n",
       "5 Alive           1                Blast_80_100 CD4_T_Percent 0.38520848\n",
       "6 Alive           1                Blast_80_100 CD8_T_Percent 0.17740762\n",
       "  Cell_Type_Mark\n",
       "1 CD4_T         \n",
       "2 CD8_T         \n",
       "3 NK            \n",
       "4 B             \n",
       "5 CD4_T         \n",
       "6 CD8_T         "
      ]
     },
     "metadata": {},
     "output_type": "display_data"
    }
   ],
   "source": [
    "\n",
    "\n",
    "\n",
    "# -------------------------------------------------------------------------\n",
    "\n",
    "{\n",
    "  df_long$Group = factor(df_long$Group,levels = c(\n",
    "    \"Blast_0_2\",\"Blast_2_5\",\"Blast_5_10\",\"Blast_10_20\",\"Blast_20_40\",\"Blast_40_80\",\"Blast_80_100\"\n",
    "  ))\n",
    "  \n",
    "  table(df_long$Group)\n",
    "  unique(df_long$Group)\n",
    "}\n",
    "\n",
    "{\n",
    "  df_long$Cell_Type_Mark <- gsub(\"_Percent\", \"\", df_long$Cell_Type)\n",
    "  cell_list2 = c(\"CD4_T\",\"CD8_T\",\"NK\",\"B\")\n",
    "  \n",
    "  df_long$Cell_Type_Mark = factor(df_long$Cell_Type_Mark ,levels = cell_list2)\n",
    "  \n",
    "  head(df_long)\n",
    "  \n",
    "  head(df_long)\n",
    "  \n",
    "  \n",
    "}\n",
    "\n",
    "\n",
    "{\n",
    "  ## save\n",
    "  output_f_path = file.path(output_dir,\"20250710_2_bluk_rnaseq_split_group_barplot_data_long_df.xls\")\n",
    "  write.table(df_long,file=output_f_path,sep=\"\\t\",row.names = F,quote = FALSE)\n",
    "  \n",
    "}\n"
   ]
  },
  {
   "cell_type": "code",
   "execution_count": 22,
   "metadata": {
    "vscode": {
     "languageId": "r"
    }
   },
   "outputs": [],
   "source": [
    "\n",
    "# -------------------------------------------------------------------------\n",
    "# -------------------------------------------------------------------------\n",
    "{\n",
    "  \n",
    "  plot_object= ggplot(df_long, aes(x = Group, y = Value, fill = Group)) +\n",
    "    geom_boxplot(aes(color = Group), outlier.color = NA, fill=NA, alpha=1,linewidth=0.5) +\n",
    "\n",
    "    facet_wrap(~Cell_Type_Mark, scales = \"free_y\", ncol = 1, strip.position = \"left\") +  \n",
    "    labs(\n",
    "      x = NULL,\n",
    "      y = \"Percent\",   \n",
    "      title = \"Immune Cells Percent\"  \n",
    "    ) +\n",
    "    scale_y_continuous(labels = scales::percent) +\n",
    "    theme(\n",
    "      legend.position = \"right\",          \n",
    "      panel.background = element_rect(fill = \"white\", color = NA),   \n",
    "      plot.background = element_rect(fill = \"white\", color = NA),   \n",
    "      strip.text = element_text(face = \"bold\"),\n",
    "      axis.text.x = element_text(angle = 45, hjust = 1),\n",
    "      axis.line.x = element_line(color = \"black\", size = 0.5),\n",
    "      axis.line.y = element_line(color = \"black\", size = 0.5)\n",
    "    )+\n",
    "    scale_color_manual(values = c(\n",
    "      \"Blast_0_2\" =\"#0f5184\", \"Blast_2_5\" ='#0f5184', \"Blast_5_10\" = \"#0f5184\",\"Blast_10_20\" ='#0f5184',\n",
    "      \"Blast_20_40\"= \"#0f5184\",\"Blast_40_80\"=\"#0f5184\",\"Blast_80_100\"=\"#0f5184\",\n",
    "      \"OS_Year_0_1\"=\"#c3102f\",\"OS_Year_1_5\"=\"#c3102f\",\"OS_Year_5_up\"=\"#c3102f\")) \n",
    "  plot_object\n",
    "  output_f_path = file.path(output_dir,\"20250730_3_3_bluk_rnaseq_split_group_barplot_data_long_df.pdf\")\n",
    "  ggsave(filename=output_f_path,plot=plot_object,device=pdf,width=210,height=250,units=\"mm\")\n",
    "}\n"
   ]
  },
  {
   "cell_type": "code",
   "execution_count": 25,
   "metadata": {
    "vscode": {
     "languageId": "r"
    }
   },
   "outputs": [],
   "source": [
    "\n",
    "# -------------------------------------------------------------------------\n",
    "{\n",
    "  \n",
    "  plot_object= ggplot(df_long, aes(x = Group, y = Value, fill = Group)) +\n",
    "    geom_boxplot(aes(color = Group), outlier.color = NA, fill=NA, alpha=1,linewidth=0.5) +\n",
    "\n",
    "    facet_wrap(~Cell_Type_Mark, scales = \"free_y\", ncol = 1, strip.position = \"left\") +  \n",
    "    labs(\n",
    "      x = NULL,\n",
    "      y = \"Percent\",   \n",
    "      title = \"Immune Cells Percent\"  \n",
    "    ) +\n",
    "    scale_y_continuous(labels = scales::percent) +\n",
    "    theme(\n",
    "      legend.position = \"right\",          \n",
    "      panel.background = element_rect(fill = \"white\", color = NA),   \n",
    "      plot.background = element_rect(fill = \"white\", color = NA),   \n",
    "      strip.text = element_text(face = \"bold\"),\n",
    "      axis.text.x = element_text(angle = 45, hjust = 1),\n",
    "      axis.line.x = element_line(color = \"black\", size = 0.5),\n",
    "      axis.line.y = element_line(color = \"black\", size = 0.5)\n",
    "    )+\n",
    "    scale_color_manual(values = c(\n",
    "      \"Blast_0_2\" =\"#0f5184\", \"Blast_2_5\" ='#0f5184', \"Blast_5_10\" = \"#0f5184\",\"Blast_10_20\" ='#0f5184',\n",
    "      \"Blast_20_40\"= \"#0f5184\",\"Blast_40_80\"=\"#0f5184\",\"Blast_80_100\"=\"#0f5184\",\n",
    "      \"OS_Year_0_1\"=\"#c3102f\",\"OS_Year_1_5\"=\"#c3102f\",\"OS_Year_5_up\"=\"#c3102f\"))+\n",
    "    geom_signif(comparisons = list(c(\"Blast_0_2\",\"Blast_2_5\"),\n",
    "                                 c( \"Blast_0_2\",\"Blast_5_10\"),c( \"Blast_0_2\",\"Blast_10_20\"),c( \"Blast_0_2\",\"Blast_20_40\"),\n",
    "                                 c( \"Blast_0_2\",\"Blast_40_80\"),c( \"Blast_0_2\",\"Blast_80_100\"),\n",
    "                                 c(\"OS_Year_0_1\",\"OS_Year_1_5\"),c(\"OS_Year_0_1\",\"OS_Year_5_up\"),c(\"OS_Year_1_5\",\"OS_Year_5_up\")),\n",
    "              map_signif_level = T,\n",
    "              test = wilcox.test, #\n",
    "              step_increase = 0.03,\n",
    "              size = 0.2,\n",
    "              textsize = 2)\n",
    "  plot_object\n",
    "  output_f_path = file.path(output_dir,\"20250730_4_3_bluk_rnaseq_split_group_barplot_data_long_df.pdf\")\n",
    "  ggsave(filename=output_f_path,plot=plot_object,device=pdf,width=210,height=250,units=\"mm\")\n",
    "}\n"
   ]
  },
  {
   "cell_type": "code",
   "execution_count": null,
   "metadata": {
    "vscode": {
     "languageId": "r"
    }
   },
   "outputs": [],
   "source": []
  },
  {
   "cell_type": "code",
   "execution_count": 11,
   "metadata": {
    "vscode": {
     "languageId": "r"
    }
   },
   "outputs": [
    {
     "name": "stderr",
     "output_type": "stream",
     "text": [
      "\u001b[1m\u001b[22m`summarise()` has grouped output by 'Cell_Type_Mark'. You can override using\n",
      "the `.groups` argument.\n"
     ]
    },
    {
     "data": {
      "text/html": [
       "<table class=\"dataframe\">\n",
       "<caption>A grouped_df: 4 × 6</caption>\n",
       "<thead>\n",
       "\t<tr><th scope=col>Cell_Type_Mark</th><th scope=col>Group</th><th scope=col>Mean_Value</th><th scope=col>SD_Value</th><th scope=col>n</th><th scope=col>SEM_Value</th></tr>\n",
       "\t<tr><th scope=col>&lt;fct&gt;</th><th scope=col>&lt;fct&gt;</th><th scope=col>&lt;dbl&gt;</th><th scope=col>&lt;dbl&gt;</th><th scope=col>&lt;int&gt;</th><th scope=col>&lt;dbl&gt;</th></tr>\n",
       "</thead>\n",
       "<tbody>\n",
       "\t<tr><td>CD4_T</td><td>Blast_0_2</td><td>0.3204313</td><td>0.13370901</td><td>51</td><td>0.01872301</td></tr>\n",
       "\t<tr><td>CD8_T</td><td>Blast_0_2</td><td>0.3583479</td><td>0.12577866</td><td>51</td><td>0.01761254</td></tr>\n",
       "\t<tr><td>NK   </td><td>Blast_0_2</td><td>0.1718677</td><td>0.07603328</td><td>51</td><td>0.01064679</td></tr>\n",
       "\t<tr><td>B    </td><td>Blast_0_2</td><td>0.1493531</td><td>0.07688056</td><td>51</td><td>0.01076543</td></tr>\n",
       "</tbody>\n",
       "</table>\n"
      ],
      "text/latex": [
       "A grouped\\_df: 4 × 6\n",
       "\\begin{tabular}{llllll}\n",
       " Cell\\_Type\\_Mark & Group & Mean\\_Value & SD\\_Value & n & SEM\\_Value\\\\\n",
       " <fct> & <fct> & <dbl> & <dbl> & <int> & <dbl>\\\\\n",
       "\\hline\n",
       "\t CD4\\_T & Blast\\_0\\_2 & 0.3204313 & 0.13370901 & 51 & 0.01872301\\\\\n",
       "\t CD8\\_T & Blast\\_0\\_2 & 0.3583479 & 0.12577866 & 51 & 0.01761254\\\\\n",
       "\t NK    & Blast\\_0\\_2 & 0.1718677 & 0.07603328 & 51 & 0.01064679\\\\\n",
       "\t B     & Blast\\_0\\_2 & 0.1493531 & 0.07688056 & 51 & 0.01076543\\\\\n",
       "\\end{tabular}\n"
      ],
      "text/markdown": [
       "\n",
       "A grouped_df: 4 × 6\n",
       "\n",
       "| Cell_Type_Mark &lt;fct&gt; | Group &lt;fct&gt; | Mean_Value &lt;dbl&gt; | SD_Value &lt;dbl&gt; | n &lt;int&gt; | SEM_Value &lt;dbl&gt; |\n",
       "|---|---|---|---|---|---|\n",
       "| CD4_T | Blast_0_2 | 0.3204313 | 0.13370901 | 51 | 0.01872301 |\n",
       "| CD8_T | Blast_0_2 | 0.3583479 | 0.12577866 | 51 | 0.01761254 |\n",
       "| NK    | Blast_0_2 | 0.1718677 | 0.07603328 | 51 | 0.01064679 |\n",
       "| B     | Blast_0_2 | 0.1493531 | 0.07688056 | 51 | 0.01076543 |\n",
       "\n"
      ],
      "text/plain": [
       "  Cell_Type_Mark Group     Mean_Value SD_Value   n  SEM_Value \n",
       "1 CD4_T          Blast_0_2 0.3204313  0.13370901 51 0.01872301\n",
       "2 CD8_T          Blast_0_2 0.3583479  0.12577866 51 0.01761254\n",
       "3 NK             Blast_0_2 0.1718677  0.07603328 51 0.01064679\n",
       "4 B              Blast_0_2 0.1493531  0.07688056 51 0.01076543"
      ]
     },
     "metadata": {},
     "output_type": "display_data"
    }
   ],
   "source": [
    "{\n",
    "  head(df_long)\n",
    "  library(dplyr)\n",
    "  df_summary <- df_long %>%\n",
    "    group_by(Cell_Type_Mark, Group) %>%\n",
    "    summarize(Mean_Value = mean(Value, na.rm = TRUE),\n",
    "              SD_Value = sd(Value, na.rm = TRUE),\n",
    "              n = n(),  # \n",
    "              SEM_Value = SD_Value / sqrt(n))  #\n",
    "  \n",
    "  df_summary\n",
    "  df_summary$Cell_Type_Mark\n",
    "  subset(df_summary,Group == \"Blast_0_2\")\n",
    "  \n",
    "}"
   ]
  },
  {
   "cell_type": "code",
   "execution_count": 18,
   "metadata": {
    "vscode": {
     "languageId": "r"
    }
   },
   "outputs": [
    {
     "name": "stderr",
     "output_type": "stream",
     "text": [
      "\u001b[1m\u001b[22mScale for \u001b[32my\u001b[39m is already present.\n",
      "Adding another scale for \u001b[32my\u001b[39m, which will replace the existing scale.\n"
     ]
    }
   ],
   "source": [
    "\n",
    "{\n",
    "  plot_object=ggplot(df_summary, aes(x=Group, y=Mean_Value, group=Cell_Type_Mark, color=Cell_Type_Mark)) + \n",
    "    geom_line(size = 1) + \n",
    "    geom_point(size = 3)+ \n",
    "    geom_errorbar(aes(ymin=Mean_Value-SEM_Value, ymax=Mean_Value+SEM_Value), width=.2, position=position_dodge(0.00)) +\n",
    "    geom_hline(data = subset(df_summary, Group == \"Blast_0_2\"),\n",
    "               aes(yintercept = Mean_Value, color = Cell_Type_Mark),\n",
    "               linetype = \"dashed\", size = 0.5) +  # \n",
    "    labs(\n",
    "      x = NULL,\n",
    "      y = \"Percent\",   \n",
    "      title = \"Immune Cells Percent\"  \n",
    "    ) +\n",
    "    scale_y_continuous(labels = scales::percent) +\n",
    "  scale_y_continuous(\n",
    "    labels = scales::percent,\n",
    "    breaks = seq(0, 1, by = 0.05),  \n",
    "    limits = c(0.1, 0.45),\n",
    "  ) +\n",
    "    theme(\n",
    "      legend.position = \"right\",          \n",
    "      panel.background = element_rect(fill = \"white\", color = NA),   \n",
    "      plot.background = element_rect(fill = \"white\", color = NA),   \n",
    "      strip.text = element_text(face = \"bold\"),\n",
    "      axis.text.x = element_text(angle = 45, hjust = 1),\n",
    "      axis.line.x = element_line(color = \"black\", size = 0.5),\n",
    "      axis.line.y = element_line(color = \"black\", size = 0.5)\n",
    "    )+\n",
    "    scale_color_manual(values = c(\n",
    "      \"CD4_T\" =\"#1163a6\", \"CD8_T\" ='#b156c1', \"NK\" = \"#25af31\",\"B\"= \"#65cdc3\"\n",
    "    )\n",
    "    )\n",
    "  \n",
    "  \n",
    "  plot_object\n",
    "  output_f_path = file.path(output_dir,\"20250730_3_6_bluk_rnaseq_split_group_barplot_data_long_df.pdf\")\n",
    "  ggsave(filename=output_f_path,plot=plot_object,device=pdf,width=210,height=160,units=\"mm\")\n",
    "}"
   ]
  }
 ],
 "metadata": {
  "kernelspec": {
   "display_name": "R",
   "language": "R",
   "name": "ir"
  },
  "language_info": {
   "codemirror_mode": "r",
   "file_extension": ".r",
   "mimetype": "text/x-r-source",
   "name": "R",
   "pygments_lexer": "r",
   "version": "4.3.3"
  }
 },
 "nbformat": 4,
 "nbformat_minor": 2
}
