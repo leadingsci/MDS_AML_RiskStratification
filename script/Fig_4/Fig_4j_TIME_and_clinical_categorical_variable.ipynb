{
 "cells": [
  {
   "cell_type": "code",
   "execution_count": 1,
   "metadata": {},
   "outputs": [],
   "source": [
    "import pandas as pd\n",
    "import os,sys\n",
    "from pathlib import Path"
   ]
  },
  {
   "cell_type": "code",
   "execution_count": 2,
   "metadata": {},
   "outputs": [],
   "source": [
    "output_dir = \"/share/home/wyz/Project/result/2025/202506/20250606_3_cibersortx_immune_cell/20250606_21_MDS_sAML_AML_immune_chisq_cell_kmean_merge\""
   ]
  },
  {
   "cell_type": "code",
   "execution_count": 3,
   "metadata": {},
   "outputs": [],
   "source": [
    "## input\n",
    "IPSS_f = \"/share/home/wyz/Project/result/2025/202506/20250606_3_cibersortx_immune_cell/20250606_9_MDS_sAML_AML_Immune_cor_cell_kmean_and_clin/20250606_1_stat_df_chiseq_IPSS.xls\""
   ]
  },
  {
   "cell_type": "code",
   "execution_count": 4,
   "metadata": {},
   "outputs": [],
   "source": [
    "WHO_f = \"/share/home/wyz/Project/result/2025/202506/20250606_3_cibersortx_immune_cell/20250606_9_MDS_sAML_AML_Immune_cor_cell_kmean_and_clin/20250606_1_stat_df_chiseq_WHO_category.xls\""
   ]
  },
  {
   "cell_type": "code",
   "execution_count": 5,
   "metadata": {},
   "outputs": [],
   "source": [
    "cyto_f = \"/share/home/wyz/Project/result/2025/202506/20250606_3_cibersortx_immune_cell/20250606_9_MDS_sAML_AML_Immune_cor_cell_kmean_and_clin/20250606_1_stat_df_chiseq_Cytogenetic_Risk.xls\""
   ]
  },
  {
   "cell_type": "code",
   "execution_count": 6,
   "metadata": {},
   "outputs": [],
   "source": [
    "FAB_f = \"/share/home/wyz/Project/result/2025/202506/20250606_3_cibersortx_immune_cell/20250606_9_MDS_sAML_AML_Immune_cor_cell_kmean_and_clin/20250606_1_stat_df_chiseq_Class_FAB.xls\""
   ]
  },
  {
   "cell_type": "code",
   "execution_count": 7,
   "metadata": {},
   "outputs": [],
   "source": [
    "ENL_f = \"/share/home/wyz/Project/result/2025/202506/20250606_3_cibersortx_immune_cell/20250606_9_MDS_sAML_AML_Immune_cor_cell_kmean_and_clin/20250606_1_stat_df_chiseq_Class_ELN.xls\""
   ]
  },
  {
   "cell_type": "code",
   "execution_count": 8,
   "metadata": {},
   "outputs": [],
   "source": [
    "gender_f = \"/share/home/wyz/Project/result/2025/202506/20250606_3_cibersortx_immune_cell/20250606_9_MDS_sAML_AML_Immune_cor_cell_kmean_and_clin/20250606_1_stat_df_chiseq_Gender.xls\""
   ]
  },
  {
   "cell_type": "code",
   "execution_count": null,
   "metadata": {},
   "outputs": [
    {
     "data": {
      "text/html": [
       "<div>\n",
       "<style scoped>\n",
       "    .dataframe tbody tr th:only-of-type {\n",
       "        vertical-align: middle;\n",
       "    }\n",
       "\n",
       "    .dataframe tbody tr th {\n",
       "        vertical-align: top;\n",
       "    }\n",
       "\n",
       "    .dataframe thead th {\n",
       "        text-align: right;\n",
       "    }\n",
       "</style>\n",
       "<table border=\"1\" class=\"dataframe\">\n",
       "  <thead>\n",
       "    <tr style=\"text-align: right;\">\n",
       "      <th></th>\n",
       "      <th>p_value</th>\n",
       "      <th>statistic</th>\n",
       "      <th>df</th>\n",
       "    </tr>\n",
       "  </thead>\n",
       "  <tbody>\n",
       "    <tr>\n",
       "      <th>kmean_k4_mark_vs_IPSS</th>\n",
       "      <td>0.0005</td>\n",
       "      <td>47.198727</td>\n",
       "      <td>NaN</td>\n",
       "    </tr>\n",
       "  </tbody>\n",
       "</table>\n",
       "</div>"
      ],
      "text/plain": [
       "                       p_value  statistic  df\n",
       "kmean_k4_mark_vs_IPSS   0.0005  47.198727 NaN"
      ]
     },
     "execution_count": 9,
     "metadata": {},
     "output_type": "execute_result"
    }
   ],
   "source": [
    "IPSS_df =  pd.read_csv(IPSS_f,sep=\"\\t\")\n",
    "IPSS_df"
   ]
  },
  {
   "cell_type": "code",
   "execution_count": null,
   "metadata": {},
   "outputs": [
    {
     "data": {
      "text/html": [
       "<div>\n",
       "<style scoped>\n",
       "    .dataframe tbody tr th:only-of-type {\n",
       "        vertical-align: middle;\n",
       "    }\n",
       "\n",
       "    .dataframe tbody tr th {\n",
       "        vertical-align: top;\n",
       "    }\n",
       "\n",
       "    .dataframe thead th {\n",
       "        text-align: right;\n",
       "    }\n",
       "</style>\n",
       "<table border=\"1\" class=\"dataframe\">\n",
       "  <thead>\n",
       "    <tr style=\"text-align: right;\">\n",
       "      <th></th>\n",
       "      <th>p_value</th>\n",
       "      <th>statistic</th>\n",
       "      <th>df</th>\n",
       "    </tr>\n",
       "  </thead>\n",
       "  <tbody>\n",
       "    <tr>\n",
       "      <th>kmean_k4_mark_vs_WHO_category</th>\n",
       "      <td>0.0005</td>\n",
       "      <td>173.344778</td>\n",
       "      <td>NaN</td>\n",
       "    </tr>\n",
       "  </tbody>\n",
       "</table>\n",
       "</div>"
      ],
      "text/plain": [
       "                               p_value   statistic  df\n",
       "kmean_k4_mark_vs_WHO_category   0.0005  173.344778 NaN"
      ]
     },
     "execution_count": 10,
     "metadata": {},
     "output_type": "execute_result"
    }
   ],
   "source": [
    "WHO_df =  pd.read_csv(WHO_f,sep=\"\\t\")\n",
    "WHO_df"
   ]
  },
  {
   "cell_type": "code",
   "execution_count": 11,
   "metadata": {},
   "outputs": [
    {
     "data": {
      "text/html": [
       "<div>\n",
       "<style scoped>\n",
       "    .dataframe tbody tr th:only-of-type {\n",
       "        vertical-align: middle;\n",
       "    }\n",
       "\n",
       "    .dataframe tbody tr th {\n",
       "        vertical-align: top;\n",
       "    }\n",
       "\n",
       "    .dataframe thead th {\n",
       "        text-align: right;\n",
       "    }\n",
       "</style>\n",
       "<table border=\"1\" class=\"dataframe\">\n",
       "  <thead>\n",
       "    <tr style=\"text-align: right;\">\n",
       "      <th></th>\n",
       "      <th>p_value</th>\n",
       "      <th>statistic</th>\n",
       "      <th>df</th>\n",
       "    </tr>\n",
       "  </thead>\n",
       "  <tbody>\n",
       "    <tr>\n",
       "      <th>kmean_k4_mark_vs_Cytogenetic_Risk</th>\n",
       "      <td>0.001</td>\n",
       "      <td>33.011804</td>\n",
       "      <td>NaN</td>\n",
       "    </tr>\n",
       "  </tbody>\n",
       "</table>\n",
       "</div>"
      ],
      "text/plain": [
       "                                   p_value  statistic  df\n",
       "kmean_k4_mark_vs_Cytogenetic_Risk    0.001  33.011804 NaN"
      ]
     },
     "execution_count": 11,
     "metadata": {},
     "output_type": "execute_result"
    }
   ],
   "source": [
    "cyto_df =  pd.read_csv(cyto_f,sep=\"\\t\")\n",
    "cyto_df"
   ]
  },
  {
   "cell_type": "code",
   "execution_count": null,
   "metadata": {},
   "outputs": [
    {
     "data": {
      "text/html": [
       "<div>\n",
       "<style scoped>\n",
       "    .dataframe tbody tr th:only-of-type {\n",
       "        vertical-align: middle;\n",
       "    }\n",
       "\n",
       "    .dataframe tbody tr th {\n",
       "        vertical-align: top;\n",
       "    }\n",
       "\n",
       "    .dataframe thead th {\n",
       "        text-align: right;\n",
       "    }\n",
       "</style>\n",
       "<table border=\"1\" class=\"dataframe\">\n",
       "  <thead>\n",
       "    <tr style=\"text-align: right;\">\n",
       "      <th></th>\n",
       "      <th>p_value</th>\n",
       "      <th>statistic</th>\n",
       "      <th>df</th>\n",
       "    </tr>\n",
       "  </thead>\n",
       "  <tbody>\n",
       "    <tr>\n",
       "      <th>kmean_k4_mark_vs_Class_FAB</th>\n",
       "      <td>0.002499</td>\n",
       "      <td>65.188986</td>\n",
       "      <td>NaN</td>\n",
       "    </tr>\n",
       "  </tbody>\n",
       "</table>\n",
       "</div>"
      ],
      "text/plain": [
       "                             p_value  statistic  df\n",
       "kmean_k4_mark_vs_Class_FAB  0.002499  65.188986 NaN"
      ]
     },
     "execution_count": 12,
     "metadata": {},
     "output_type": "execute_result"
    }
   ],
   "source": [
    "FAB_df =  pd.read_csv(FAB_f,sep=\"\\t\")\n",
    "FAB_df"
   ]
  },
  {
   "cell_type": "code",
   "execution_count": 14,
   "metadata": {},
   "outputs": [
    {
     "data": {
      "text/html": [
       "<div>\n",
       "<style scoped>\n",
       "    .dataframe tbody tr th:only-of-type {\n",
       "        vertical-align: middle;\n",
       "    }\n",
       "\n",
       "    .dataframe tbody tr th {\n",
       "        vertical-align: top;\n",
       "    }\n",
       "\n",
       "    .dataframe thead th {\n",
       "        text-align: right;\n",
       "    }\n",
       "</style>\n",
       "<table border=\"1\" class=\"dataframe\">\n",
       "  <thead>\n",
       "    <tr style=\"text-align: right;\">\n",
       "      <th></th>\n",
       "      <th>p_value</th>\n",
       "      <th>statistic</th>\n",
       "      <th>df</th>\n",
       "    </tr>\n",
       "  </thead>\n",
       "  <tbody>\n",
       "    <tr>\n",
       "      <th>kmean_k4_mark_vs_Class_ELN</th>\n",
       "      <td>0.803098</td>\n",
       "      <td>3.469925</td>\n",
       "      <td>NaN</td>\n",
       "    </tr>\n",
       "  </tbody>\n",
       "</table>\n",
       "</div>"
      ],
      "text/plain": [
       "                             p_value  statistic  df\n",
       "kmean_k4_mark_vs_Class_ELN  0.803098   3.469925 NaN"
      ]
     },
     "execution_count": 14,
     "metadata": {},
     "output_type": "execute_result"
    }
   ],
   "source": [
    "ENL_df =  pd.read_csv(ENL_f,sep=\"\\t\")\n",
    "ENL_df"
   ]
  },
  {
   "cell_type": "code",
   "execution_count": 13,
   "metadata": {},
   "outputs": [
    {
     "data": {
      "text/html": [
       "<div>\n",
       "<style scoped>\n",
       "    .dataframe tbody tr th:only-of-type {\n",
       "        vertical-align: middle;\n",
       "    }\n",
       "\n",
       "    .dataframe tbody tr th {\n",
       "        vertical-align: top;\n",
       "    }\n",
       "\n",
       "    .dataframe thead th {\n",
       "        text-align: right;\n",
       "    }\n",
       "</style>\n",
       "<table border=\"1\" class=\"dataframe\">\n",
       "  <thead>\n",
       "    <tr style=\"text-align: right;\">\n",
       "      <th></th>\n",
       "      <th>p_value</th>\n",
       "      <th>statistic</th>\n",
       "      <th>df</th>\n",
       "    </tr>\n",
       "  </thead>\n",
       "  <tbody>\n",
       "    <tr>\n",
       "      <th>kmean_k4_mark_vs_Gender</th>\n",
       "      <td>0.311344</td>\n",
       "      <td>3.491278</td>\n",
       "      <td>NaN</td>\n",
       "    </tr>\n",
       "  </tbody>\n",
       "</table>\n",
       "</div>"
      ],
      "text/plain": [
       "                          p_value  statistic  df\n",
       "kmean_k4_mark_vs_Gender  0.311344   3.491278 NaN"
      ]
     },
     "execution_count": 13,
     "metadata": {},
     "output_type": "execute_result"
    }
   ],
   "source": [
    "gender_df =  pd.read_csv(gender_f,sep=\"\\t\")\n",
    "gender_df"
   ]
  },
  {
   "cell_type": "code",
   "execution_count": 15,
   "metadata": {},
   "outputs": [
    {
     "data": {
      "text/html": [
       "<div>\n",
       "<style scoped>\n",
       "    .dataframe tbody tr th:only-of-type {\n",
       "        vertical-align: middle;\n",
       "    }\n",
       "\n",
       "    .dataframe tbody tr th {\n",
       "        vertical-align: top;\n",
       "    }\n",
       "\n",
       "    .dataframe thead th {\n",
       "        text-align: right;\n",
       "    }\n",
       "</style>\n",
       "<table border=\"1\" class=\"dataframe\">\n",
       "  <thead>\n",
       "    <tr style=\"text-align: right;\">\n",
       "      <th></th>\n",
       "      <th>p_value</th>\n",
       "      <th>statistic</th>\n",
       "      <th>df</th>\n",
       "    </tr>\n",
       "  </thead>\n",
       "  <tbody>\n",
       "    <tr>\n",
       "      <th>kmean_k4_mark_vs_IPSS</th>\n",
       "      <td>0.000500</td>\n",
       "      <td>47.198727</td>\n",
       "      <td>NaN</td>\n",
       "    </tr>\n",
       "    <tr>\n",
       "      <th>kmean_k4_mark_vs_WHO_category</th>\n",
       "      <td>0.000500</td>\n",
       "      <td>173.344778</td>\n",
       "      <td>NaN</td>\n",
       "    </tr>\n",
       "    <tr>\n",
       "      <th>kmean_k4_mark_vs_Cytogenetic_Risk</th>\n",
       "      <td>0.001000</td>\n",
       "      <td>33.011804</td>\n",
       "      <td>NaN</td>\n",
       "    </tr>\n",
       "    <tr>\n",
       "      <th>kmean_k4_mark_vs_Class_FAB</th>\n",
       "      <td>0.002499</td>\n",
       "      <td>65.188986</td>\n",
       "      <td>NaN</td>\n",
       "    </tr>\n",
       "    <tr>\n",
       "      <th>kmean_k4_mark_vs_Class_ELN</th>\n",
       "      <td>0.803098</td>\n",
       "      <td>3.469925</td>\n",
       "      <td>NaN</td>\n",
       "    </tr>\n",
       "    <tr>\n",
       "      <th>kmean_k4_mark_vs_Gender</th>\n",
       "      <td>0.311344</td>\n",
       "      <td>3.491278</td>\n",
       "      <td>NaN</td>\n",
       "    </tr>\n",
       "  </tbody>\n",
       "</table>\n",
       "</div>"
      ],
      "text/plain": [
       "                                    p_value   statistic  df\n",
       "kmean_k4_mark_vs_IPSS              0.000500   47.198727 NaN\n",
       "kmean_k4_mark_vs_WHO_category      0.000500  173.344778 NaN\n",
       "kmean_k4_mark_vs_Cytogenetic_Risk  0.001000   33.011804 NaN\n",
       "kmean_k4_mark_vs_Class_FAB         0.002499   65.188986 NaN\n",
       "kmean_k4_mark_vs_Class_ELN         0.803098    3.469925 NaN\n",
       "kmean_k4_mark_vs_Gender            0.311344    3.491278 NaN"
      ]
     },
     "execution_count": 15,
     "metadata": {},
     "output_type": "execute_result"
    }
   ],
   "source": [
    "## 按行合并\n",
    "merge_df = pd.concat([IPSS_df,WHO_df,cyto_df,FAB_df,ENL_df,gender_df],axis=0)\n",
    "merge_df"
   ]
  },
  {
   "cell_type": "code",
   "execution_count": 16,
   "metadata": {},
   "outputs": [
    {
     "data": {
      "text/html": [
       "<div>\n",
       "<style scoped>\n",
       "    .dataframe tbody tr th:only-of-type {\n",
       "        vertical-align: middle;\n",
       "    }\n",
       "\n",
       "    .dataframe tbody tr th {\n",
       "        vertical-align: top;\n",
       "    }\n",
       "\n",
       "    .dataframe thead th {\n",
       "        text-align: right;\n",
       "    }\n",
       "</style>\n",
       "<table border=\"1\" class=\"dataframe\">\n",
       "  <thead>\n",
       "    <tr style=\"text-align: right;\">\n",
       "      <th></th>\n",
       "      <th>Group</th>\n",
       "      <th>p_value</th>\n",
       "      <th>statistic</th>\n",
       "      <th>df</th>\n",
       "    </tr>\n",
       "  </thead>\n",
       "  <tbody>\n",
       "    <tr>\n",
       "      <th>0</th>\n",
       "      <td>kmean_k4_mark_vs_IPSS</td>\n",
       "      <td>0.000500</td>\n",
       "      <td>47.198727</td>\n",
       "      <td>NaN</td>\n",
       "    </tr>\n",
       "    <tr>\n",
       "      <th>1</th>\n",
       "      <td>kmean_k4_mark_vs_WHO_category</td>\n",
       "      <td>0.000500</td>\n",
       "      <td>173.344778</td>\n",
       "      <td>NaN</td>\n",
       "    </tr>\n",
       "    <tr>\n",
       "      <th>2</th>\n",
       "      <td>kmean_k4_mark_vs_Cytogenetic_Risk</td>\n",
       "      <td>0.001000</td>\n",
       "      <td>33.011804</td>\n",
       "      <td>NaN</td>\n",
       "    </tr>\n",
       "    <tr>\n",
       "      <th>3</th>\n",
       "      <td>kmean_k4_mark_vs_Class_FAB</td>\n",
       "      <td>0.002499</td>\n",
       "      <td>65.188986</td>\n",
       "      <td>NaN</td>\n",
       "    </tr>\n",
       "    <tr>\n",
       "      <th>4</th>\n",
       "      <td>kmean_k4_mark_vs_Class_ELN</td>\n",
       "      <td>0.803098</td>\n",
       "      <td>3.469925</td>\n",
       "      <td>NaN</td>\n",
       "    </tr>\n",
       "    <tr>\n",
       "      <th>5</th>\n",
       "      <td>kmean_k4_mark_vs_Gender</td>\n",
       "      <td>0.311344</td>\n",
       "      <td>3.491278</td>\n",
       "      <td>NaN</td>\n",
       "    </tr>\n",
       "  </tbody>\n",
       "</table>\n",
       "</div>"
      ],
      "text/plain": [
       "                               Group   p_value   statistic  df\n",
       "0              kmean_k4_mark_vs_IPSS  0.000500   47.198727 NaN\n",
       "1      kmean_k4_mark_vs_WHO_category  0.000500  173.344778 NaN\n",
       "2  kmean_k4_mark_vs_Cytogenetic_Risk  0.001000   33.011804 NaN\n",
       "3         kmean_k4_mark_vs_Class_FAB  0.002499   65.188986 NaN\n",
       "4         kmean_k4_mark_vs_Class_ELN  0.803098    3.469925 NaN\n",
       "5            kmean_k4_mark_vs_Gender  0.311344    3.491278 NaN"
      ]
     },
     "execution_count": 16,
     "metadata": {},
     "output_type": "execute_result"
    }
   ],
   "source": [
    "merge_df.reset_index(inplace=True)\n",
    "merge_df.rename(columns={\"index\":\"Group\"},inplace=True)\n",
    "merge_df"
   ]
  },
  {
   "cell_type": "code",
   "execution_count": 17,
   "metadata": {},
   "outputs": [
    {
     "data": {
      "text/html": [
       "<div>\n",
       "<style scoped>\n",
       "    .dataframe tbody tr th:only-of-type {\n",
       "        vertical-align: middle;\n",
       "    }\n",
       "\n",
       "    .dataframe tbody tr th {\n",
       "        vertical-align: top;\n",
       "    }\n",
       "\n",
       "    .dataframe thead th {\n",
       "        text-align: right;\n",
       "    }\n",
       "</style>\n",
       "<table border=\"1\" class=\"dataframe\">\n",
       "  <thead>\n",
       "    <tr style=\"text-align: right;\">\n",
       "      <th></th>\n",
       "      <th>Group</th>\n",
       "      <th>p_value</th>\n",
       "      <th>statistic</th>\n",
       "      <th>df</th>\n",
       "      <th>p_value_mark</th>\n",
       "    </tr>\n",
       "  </thead>\n",
       "  <tbody>\n",
       "    <tr>\n",
       "      <th>0</th>\n",
       "      <td>kmean_k4_mark_vs_IPSS</td>\n",
       "      <td>0.000500</td>\n",
       "      <td>47.198727</td>\n",
       "      <td>NaN</td>\n",
       "      <td>***</td>\n",
       "    </tr>\n",
       "    <tr>\n",
       "      <th>1</th>\n",
       "      <td>kmean_k4_mark_vs_WHO_category</td>\n",
       "      <td>0.000500</td>\n",
       "      <td>173.344778</td>\n",
       "      <td>NaN</td>\n",
       "      <td>***</td>\n",
       "    </tr>\n",
       "    <tr>\n",
       "      <th>2</th>\n",
       "      <td>kmean_k4_mark_vs_Cytogenetic_Risk</td>\n",
       "      <td>0.001000</td>\n",
       "      <td>33.011804</td>\n",
       "      <td>NaN</td>\n",
       "      <td>***</td>\n",
       "    </tr>\n",
       "    <tr>\n",
       "      <th>3</th>\n",
       "      <td>kmean_k4_mark_vs_Class_FAB</td>\n",
       "      <td>0.002499</td>\n",
       "      <td>65.188986</td>\n",
       "      <td>NaN</td>\n",
       "      <td>**</td>\n",
       "    </tr>\n",
       "    <tr>\n",
       "      <th>4</th>\n",
       "      <td>kmean_k4_mark_vs_Class_ELN</td>\n",
       "      <td>0.803098</td>\n",
       "      <td>3.469925</td>\n",
       "      <td>NaN</td>\n",
       "      <td>NS.</td>\n",
       "    </tr>\n",
       "    <tr>\n",
       "      <th>5</th>\n",
       "      <td>kmean_k4_mark_vs_Gender</td>\n",
       "      <td>0.311344</td>\n",
       "      <td>3.491278</td>\n",
       "      <td>NaN</td>\n",
       "      <td>NS.</td>\n",
       "    </tr>\n",
       "  </tbody>\n",
       "</table>\n",
       "</div>"
      ],
      "text/plain": [
       "                               Group   p_value   statistic  df p_value_mark\n",
       "0              kmean_k4_mark_vs_IPSS  0.000500   47.198727 NaN          ***\n",
       "1      kmean_k4_mark_vs_WHO_category  0.000500  173.344778 NaN          ***\n",
       "2  kmean_k4_mark_vs_Cytogenetic_Risk  0.001000   33.011804 NaN          ***\n",
       "3         kmean_k4_mark_vs_Class_FAB  0.002499   65.188986 NaN           **\n",
       "4         kmean_k4_mark_vs_Class_ELN  0.803098    3.469925 NaN          NS.\n",
       "5            kmean_k4_mark_vs_Gender  0.311344    3.491278 NaN          NS."
      ]
     },
     "execution_count": 17,
     "metadata": {},
     "output_type": "execute_result"
    }
   ],
   "source": [
    "def mark_p_value(row):\n",
    "    if row['p_value'] <= 0.001:\n",
    "        return \"***\"\n",
    "    elif row['p_value'] <= 0.01:\n",
    "        return \"**\"\n",
    "    elif row['p_value'] <= 0.05:\n",
    "        return \"*\"\n",
    "    else:\n",
    "        return \"NS.\"\n",
    " \n",
    "merge_df['p_value_mark'] = merge_df.apply(mark_p_value, axis=1)\n",
    "merge_df"
   ]
  },
  {
   "cell_type": "code",
   "execution_count": null,
   "metadata": {},
   "outputs": [],
   "source": []
  },
  {
   "cell_type": "code",
   "execution_count": 18,
   "metadata": {},
   "outputs": [],
   "source": [
    "output_f = os.path.join(output_dir, \"20250606_21_MDS_sAML_AML_immune_chisq_cell_kmean_merge_vs_class_stat.xls\")\n",
    "merge_df.to_csv(output_f,index = False)"
   ]
  }
 ],
 "metadata": {
  "kernelspec": {
   "display_name": "py311base_scanpy",
   "language": "python",
   "name": "python3"
  },
  "language_info": {
   "codemirror_mode": {
    "name": "ipython",
    "version": 3
   },
   "file_extension": ".py",
   "mimetype": "text/x-python",
   "name": "python",
   "nbconvert_exporter": "python",
   "pygments_lexer": "ipython3",
   "version": "3.11.7"
  }
 },
 "nbformat": 4,
 "nbformat_minor": 2
}
