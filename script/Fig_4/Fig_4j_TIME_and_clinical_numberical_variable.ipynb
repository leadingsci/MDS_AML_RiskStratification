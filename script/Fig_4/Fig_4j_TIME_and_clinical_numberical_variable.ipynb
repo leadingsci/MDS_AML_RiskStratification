{
 "cells": [
  {
   "cell_type": "code",
   "execution_count": 1,
   "metadata": {},
   "outputs": [],
   "source": [
    "import pandas as pd\n",
    "import os,sys\n",
    "from pathlib import Path"
   ]
  },
  {
   "cell_type": "code",
   "execution_count": 2,
   "metadata": {},
   "outputs": [],
   "source": [
    "output_dir = \"/share/home/wyz/Project/result/2025/202506/20250606_3_cibersortx_immune_cell/20250606_22_MDS_sAML_AML_immune_kruskal_cell_kmean_merge\""
   ]
  },
  {
   "cell_type": "code",
   "execution_count": 3,
   "metadata": {},
   "outputs": [],
   "source": [
    "## input\n",
    "HBG_f = \"/share/home/wyz/Project/result/2025/202506/20250606_3_cibersortx_immune_cell/20250606_9_MDS_sAML_AML_Immune_cor_cell_kmean_and_clin/20250606_1_stat_df_kruskal_Haemoglobin.xls\""
   ]
  },
  {
   "cell_type": "code",
   "execution_count": 4,
   "metadata": {},
   "outputs": [],
   "source": [
    "WBC_f = \"/share/home/wyz/Project/result/2025/202506/20250606_3_cibersortx_immune_cell/20250606_9_MDS_sAML_AML_Immune_cor_cell_kmean_and_clin/20250606_1_stat_df_kruskal_WBC.xls\""
   ]
  },
  {
   "cell_type": "code",
   "execution_count": 5,
   "metadata": {},
   "outputs": [],
   "source": [
    "NUC_f = \"/share/home/wyz/Project/result/2025/202506/20250606_3_cibersortx_immune_cell/20250606_9_MDS_sAML_AML_Immune_cor_cell_kmean_and_clin/20250606_1_stat_df_kruskal_Neutrophile_Count.xls\""
   ]
  },
  {
   "cell_type": "code",
   "execution_count": 6,
   "metadata": {},
   "outputs": [],
   "source": [
    "PLT_f = \"/share/home/wyz/Project/result/2025/202506/20250606_3_cibersortx_immune_cell/20250606_9_MDS_sAML_AML_Immune_cor_cell_kmean_and_clin/20250606_1_stat_df_kruskal_Platelet_Count.xls\""
   ]
  },
  {
   "cell_type": "code",
   "execution_count": 7,
   "metadata": {},
   "outputs": [
    {
     "data": {
      "text/html": [
       "<div>\n",
       "<style scoped>\n",
       "    .dataframe tbody tr th:only-of-type {\n",
       "        vertical-align: middle;\n",
       "    }\n",
       "\n",
       "    .dataframe tbody tr th {\n",
       "        vertical-align: top;\n",
       "    }\n",
       "\n",
       "    .dataframe thead th {\n",
       "        text-align: right;\n",
       "    }\n",
       "</style>\n",
       "<table border=\"1\" class=\"dataframe\">\n",
       "  <thead>\n",
       "    <tr style=\"text-align: right;\">\n",
       "      <th></th>\n",
       "      <th>p_value</th>\n",
       "      <th>statistic</th>\n",
       "      <th>df</th>\n",
       "    </tr>\n",
       "  </thead>\n",
       "  <tbody>\n",
       "    <tr>\n",
       "      <th>kmean_k4_mark_vs_Haemoglobin</th>\n",
       "      <td>0.00206</td>\n",
       "      <td>14.732808</td>\n",
       "      <td>3</td>\n",
       "    </tr>\n",
       "  </tbody>\n",
       "</table>\n",
       "</div>"
      ],
      "text/plain": [
       "                              p_value  statistic  df\n",
       "kmean_k4_mark_vs_Haemoglobin  0.00206  14.732808   3"
      ]
     },
     "execution_count": 7,
     "metadata": {},
     "output_type": "execute_result"
    }
   ],
   "source": [
    "HBG_df =  pd.read_csv(HBG_f,sep=\"\\t\")\n",
    "HBG_df"
   ]
  },
  {
   "cell_type": "code",
   "execution_count": 8,
   "metadata": {},
   "outputs": [
    {
     "data": {
      "text/html": [
       "<div>\n",
       "<style scoped>\n",
       "    .dataframe tbody tr th:only-of-type {\n",
       "        vertical-align: middle;\n",
       "    }\n",
       "\n",
       "    .dataframe tbody tr th {\n",
       "        vertical-align: top;\n",
       "    }\n",
       "\n",
       "    .dataframe thead th {\n",
       "        text-align: right;\n",
       "    }\n",
       "</style>\n",
       "<table border=\"1\" class=\"dataframe\">\n",
       "  <thead>\n",
       "    <tr style=\"text-align: right;\">\n",
       "      <th></th>\n",
       "      <th>p_value</th>\n",
       "      <th>statistic</th>\n",
       "      <th>df</th>\n",
       "    </tr>\n",
       "  </thead>\n",
       "  <tbody>\n",
       "    <tr>\n",
       "      <th>kmean_k4_mark_vs_WBC</th>\n",
       "      <td>0.002908</td>\n",
       "      <td>13.997696</td>\n",
       "      <td>3</td>\n",
       "    </tr>\n",
       "  </tbody>\n",
       "</table>\n",
       "</div>"
      ],
      "text/plain": [
       "                       p_value  statistic  df\n",
       "kmean_k4_mark_vs_WBC  0.002908  13.997696   3"
      ]
     },
     "execution_count": 8,
     "metadata": {},
     "output_type": "execute_result"
    }
   ],
   "source": [
    "WBC_df =  pd.read_csv(WBC_f,sep=\"\\t\")\n",
    "WBC_df"
   ]
  },
  {
   "cell_type": "code",
   "execution_count": 9,
   "metadata": {},
   "outputs": [
    {
     "data": {
      "text/html": [
       "<div>\n",
       "<style scoped>\n",
       "    .dataframe tbody tr th:only-of-type {\n",
       "        vertical-align: middle;\n",
       "    }\n",
       "\n",
       "    .dataframe tbody tr th {\n",
       "        vertical-align: top;\n",
       "    }\n",
       "\n",
       "    .dataframe thead th {\n",
       "        text-align: right;\n",
       "    }\n",
       "</style>\n",
       "<table border=\"1\" class=\"dataframe\">\n",
       "  <thead>\n",
       "    <tr style=\"text-align: right;\">\n",
       "      <th></th>\n",
       "      <th>p_value</th>\n",
       "      <th>statistic</th>\n",
       "      <th>df</th>\n",
       "    </tr>\n",
       "  </thead>\n",
       "  <tbody>\n",
       "    <tr>\n",
       "      <th>kmean_k4_mark_vs_Neutrophile_Count</th>\n",
       "      <td>0.000601</td>\n",
       "      <td>17.340349</td>\n",
       "      <td>3</td>\n",
       "    </tr>\n",
       "  </tbody>\n",
       "</table>\n",
       "</div>"
      ],
      "text/plain": [
       "                                     p_value  statistic  df\n",
       "kmean_k4_mark_vs_Neutrophile_Count  0.000601  17.340349   3"
      ]
     },
     "execution_count": 9,
     "metadata": {},
     "output_type": "execute_result"
    }
   ],
   "source": [
    "NUC_df =  pd.read_csv(NUC_f,sep=\"\\t\")\n",
    "NUC_df"
   ]
  },
  {
   "cell_type": "code",
   "execution_count": 10,
   "metadata": {},
   "outputs": [
    {
     "data": {
      "text/html": [
       "<div>\n",
       "<style scoped>\n",
       "    .dataframe tbody tr th:only-of-type {\n",
       "        vertical-align: middle;\n",
       "    }\n",
       "\n",
       "    .dataframe tbody tr th {\n",
       "        vertical-align: top;\n",
       "    }\n",
       "\n",
       "    .dataframe thead th {\n",
       "        text-align: right;\n",
       "    }\n",
       "</style>\n",
       "<table border=\"1\" class=\"dataframe\">\n",
       "  <thead>\n",
       "    <tr style=\"text-align: right;\">\n",
       "      <th></th>\n",
       "      <th>p_value</th>\n",
       "      <th>statistic</th>\n",
       "      <th>df</th>\n",
       "    </tr>\n",
       "  </thead>\n",
       "  <tbody>\n",
       "    <tr>\n",
       "      <th>kmean_k4_mark_vs_Platelet_Count</th>\n",
       "      <td>5.449148e-14</td>\n",
       "      <td>64.831843</td>\n",
       "      <td>3</td>\n",
       "    </tr>\n",
       "  </tbody>\n",
       "</table>\n",
       "</div>"
      ],
      "text/plain": [
       "                                      p_value  statistic  df\n",
       "kmean_k4_mark_vs_Platelet_Count  5.449148e-14  64.831843   3"
      ]
     },
     "execution_count": 10,
     "metadata": {},
     "output_type": "execute_result"
    }
   ],
   "source": [
    "PLT_df =  pd.read_csv(PLT_f,sep=\"\\t\")\n",
    "PLT_df"
   ]
  },
  {
   "cell_type": "code",
   "execution_count": 11,
   "metadata": {},
   "outputs": [
    {
     "data": {
      "text/html": [
       "<div>\n",
       "<style scoped>\n",
       "    .dataframe tbody tr th:only-of-type {\n",
       "        vertical-align: middle;\n",
       "    }\n",
       "\n",
       "    .dataframe tbody tr th {\n",
       "        vertical-align: top;\n",
       "    }\n",
       "\n",
       "    .dataframe thead th {\n",
       "        text-align: right;\n",
       "    }\n",
       "</style>\n",
       "<table border=\"1\" class=\"dataframe\">\n",
       "  <thead>\n",
       "    <tr style=\"text-align: right;\">\n",
       "      <th></th>\n",
       "      <th>p_value</th>\n",
       "      <th>statistic</th>\n",
       "      <th>df</th>\n",
       "    </tr>\n",
       "  </thead>\n",
       "  <tbody>\n",
       "    <tr>\n",
       "      <th>kmean_k4_mark_vs_Haemoglobin</th>\n",
       "      <td>2.059823e-03</td>\n",
       "      <td>14.732808</td>\n",
       "      <td>3</td>\n",
       "    </tr>\n",
       "    <tr>\n",
       "      <th>kmean_k4_mark_vs_WBC</th>\n",
       "      <td>2.908290e-03</td>\n",
       "      <td>13.997696</td>\n",
       "      <td>3</td>\n",
       "    </tr>\n",
       "    <tr>\n",
       "      <th>kmean_k4_mark_vs_Neutrophile_Count</th>\n",
       "      <td>6.014912e-04</td>\n",
       "      <td>17.340349</td>\n",
       "      <td>3</td>\n",
       "    </tr>\n",
       "    <tr>\n",
       "      <th>kmean_k4_mark_vs_Platelet_Count</th>\n",
       "      <td>5.449148e-14</td>\n",
       "      <td>64.831843</td>\n",
       "      <td>3</td>\n",
       "    </tr>\n",
       "  </tbody>\n",
       "</table>\n",
       "</div>"
      ],
      "text/plain": [
       "                                         p_value  statistic  df\n",
       "kmean_k4_mark_vs_Haemoglobin        2.059823e-03  14.732808   3\n",
       "kmean_k4_mark_vs_WBC                2.908290e-03  13.997696   3\n",
       "kmean_k4_mark_vs_Neutrophile_Count  6.014912e-04  17.340349   3\n",
       "kmean_k4_mark_vs_Platelet_Count     5.449148e-14  64.831843   3"
      ]
     },
     "execution_count": 11,
     "metadata": {},
     "output_type": "execute_result"
    }
   ],
   "source": [
    "merge_df = pd.concat([HBG_df,WBC_df,NUC_df,PLT_df],axis=0)\n",
    "merge_df"
   ]
  },
  {
   "cell_type": "code",
   "execution_count": 12,
   "metadata": {},
   "outputs": [
    {
     "data": {
      "text/html": [
       "<div>\n",
       "<style scoped>\n",
       "    .dataframe tbody tr th:only-of-type {\n",
       "        vertical-align: middle;\n",
       "    }\n",
       "\n",
       "    .dataframe tbody tr th {\n",
       "        vertical-align: top;\n",
       "    }\n",
       "\n",
       "    .dataframe thead th {\n",
       "        text-align: right;\n",
       "    }\n",
       "</style>\n",
       "<table border=\"1\" class=\"dataframe\">\n",
       "  <thead>\n",
       "    <tr style=\"text-align: right;\">\n",
       "      <th></th>\n",
       "      <th>Group</th>\n",
       "      <th>p_value</th>\n",
       "      <th>statistic</th>\n",
       "      <th>df</th>\n",
       "    </tr>\n",
       "  </thead>\n",
       "  <tbody>\n",
       "    <tr>\n",
       "      <th>0</th>\n",
       "      <td>kmean_k4_mark_vs_Haemoglobin</td>\n",
       "      <td>2.059823e-03</td>\n",
       "      <td>14.732808</td>\n",
       "      <td>3</td>\n",
       "    </tr>\n",
       "    <tr>\n",
       "      <th>1</th>\n",
       "      <td>kmean_k4_mark_vs_WBC</td>\n",
       "      <td>2.908290e-03</td>\n",
       "      <td>13.997696</td>\n",
       "      <td>3</td>\n",
       "    </tr>\n",
       "    <tr>\n",
       "      <th>2</th>\n",
       "      <td>kmean_k4_mark_vs_Neutrophile_Count</td>\n",
       "      <td>6.014912e-04</td>\n",
       "      <td>17.340349</td>\n",
       "      <td>3</td>\n",
       "    </tr>\n",
       "    <tr>\n",
       "      <th>3</th>\n",
       "      <td>kmean_k4_mark_vs_Platelet_Count</td>\n",
       "      <td>5.449148e-14</td>\n",
       "      <td>64.831843</td>\n",
       "      <td>3</td>\n",
       "    </tr>\n",
       "  </tbody>\n",
       "</table>\n",
       "</div>"
      ],
      "text/plain": [
       "                                Group       p_value  statistic  df\n",
       "0        kmean_k4_mark_vs_Haemoglobin  2.059823e-03  14.732808   3\n",
       "1                kmean_k4_mark_vs_WBC  2.908290e-03  13.997696   3\n",
       "2  kmean_k4_mark_vs_Neutrophile_Count  6.014912e-04  17.340349   3\n",
       "3     kmean_k4_mark_vs_Platelet_Count  5.449148e-14  64.831843   3"
      ]
     },
     "execution_count": 12,
     "metadata": {},
     "output_type": "execute_result"
    }
   ],
   "source": [
    "merge_df.reset_index(inplace=True)\n",
    "merge_df.rename(columns={\"index\":\"Group\"},inplace=True)\n",
    "merge_df"
   ]
  },
  {
   "cell_type": "code",
   "execution_count": 13,
   "metadata": {},
   "outputs": [
    {
     "data": {
      "text/html": [
       "<div>\n",
       "<style scoped>\n",
       "    .dataframe tbody tr th:only-of-type {\n",
       "        vertical-align: middle;\n",
       "    }\n",
       "\n",
       "    .dataframe tbody tr th {\n",
       "        vertical-align: top;\n",
       "    }\n",
       "\n",
       "    .dataframe thead th {\n",
       "        text-align: right;\n",
       "    }\n",
       "</style>\n",
       "<table border=\"1\" class=\"dataframe\">\n",
       "  <thead>\n",
       "    <tr style=\"text-align: right;\">\n",
       "      <th></th>\n",
       "      <th>Group</th>\n",
       "      <th>p_value</th>\n",
       "      <th>statistic</th>\n",
       "      <th>df</th>\n",
       "      <th>p_value_mark</th>\n",
       "    </tr>\n",
       "  </thead>\n",
       "  <tbody>\n",
       "    <tr>\n",
       "      <th>0</th>\n",
       "      <td>kmean_k4_mark_vs_Haemoglobin</td>\n",
       "      <td>2.059823e-03</td>\n",
       "      <td>14.732808</td>\n",
       "      <td>3</td>\n",
       "      <td>**</td>\n",
       "    </tr>\n",
       "    <tr>\n",
       "      <th>1</th>\n",
       "      <td>kmean_k4_mark_vs_WBC</td>\n",
       "      <td>2.908290e-03</td>\n",
       "      <td>13.997696</td>\n",
       "      <td>3</td>\n",
       "      <td>**</td>\n",
       "    </tr>\n",
       "    <tr>\n",
       "      <th>2</th>\n",
       "      <td>kmean_k4_mark_vs_Neutrophile_Count</td>\n",
       "      <td>6.014912e-04</td>\n",
       "      <td>17.340349</td>\n",
       "      <td>3</td>\n",
       "      <td>***</td>\n",
       "    </tr>\n",
       "    <tr>\n",
       "      <th>3</th>\n",
       "      <td>kmean_k4_mark_vs_Platelet_Count</td>\n",
       "      <td>5.449148e-14</td>\n",
       "      <td>64.831843</td>\n",
       "      <td>3</td>\n",
       "      <td>***</td>\n",
       "    </tr>\n",
       "  </tbody>\n",
       "</table>\n",
       "</div>"
      ],
      "text/plain": [
       "                                Group       p_value  statistic  df  \\\n",
       "0        kmean_k4_mark_vs_Haemoglobin  2.059823e-03  14.732808   3   \n",
       "1                kmean_k4_mark_vs_WBC  2.908290e-03  13.997696   3   \n",
       "2  kmean_k4_mark_vs_Neutrophile_Count  6.014912e-04  17.340349   3   \n",
       "3     kmean_k4_mark_vs_Platelet_Count  5.449148e-14  64.831843   3   \n",
       "\n",
       "  p_value_mark  \n",
       "0           **  \n",
       "1           **  \n",
       "2          ***  \n",
       "3          ***  "
      ]
     },
     "execution_count": 13,
     "metadata": {},
     "output_type": "execute_result"
    }
   ],
   "source": [
    "def mark_p_value(row):\n",
    "    if row['p_value'] <= 0.001:\n",
    "        return \"***\"\n",
    "    elif row['p_value'] <= 0.01:\n",
    "        return \"**\"\n",
    "    elif row['p_value'] <= 0.059:\n",
    "        return \"*\"\n",
    "    else:\n",
    "        return \"NS.\"\n",
    " \n",
    "merge_df['p_value_mark'] = merge_df.apply(mark_p_value, axis=1)\n",
    "merge_df"
   ]
  },
  {
   "cell_type": "code",
   "execution_count": 14,
   "metadata": {},
   "outputs": [],
   "source": [
    "output_f = os.path.join(output_dir, \"20250606_22_MDS_sAML_AML_immune_chisq_cell_kmean_merge_vs_seq_stat.xls\")\n",
    "merge_df.to_csv(output_f,index = False,sep=\"\\t\")"
   ]
  }
 ],
 "metadata": {
  "kernelspec": {
   "display_name": "py311base_scanpy",
   "language": "python",
   "name": "python3"
  },
  "language_info": {
   "codemirror_mode": {
    "name": "ipython",
    "version": 3
   },
   "file_extension": ".py",
   "mimetype": "text/x-python",
   "name": "python",
   "nbconvert_exporter": "python",
   "pygments_lexer": "ipython3",
   "version": "3.11.7"
  }
 },
 "nbformat": 4,
 "nbformat_minor": 2
}
